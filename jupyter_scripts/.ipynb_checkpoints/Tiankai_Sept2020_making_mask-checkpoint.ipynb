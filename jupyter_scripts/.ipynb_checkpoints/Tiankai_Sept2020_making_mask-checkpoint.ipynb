{
 "cells": [
  {
   "cell_type": "code",
   "execution_count": 2,
   "metadata": {},
   "outputs": [],
   "source": [
    "import h5py, tifffile, numpy as np"
   ]
  },
  {
   "cell_type": "code",
   "execution_count": 38,
   "metadata": {},
   "outputs": [],
   "source": [
    "fn = '/run/media/xiao/Data/data/Tiankai/66881_1080_mask_415p.tif'\n",
    "obj_supp = tifffile.imread(fn).astype(np.int8)\n",
    "fn = '/run/media/xiao/Data/data/Tiankai/66881_1080_mask_415p_sinogram.tif'\n",
    "sino_supp = tifffile.imread(fn).astype(np.int8)\n",
    "\n",
    "#supp = np.ones([415,415], dtype=np.int8)\n",
    "fn = '/run/media/xiao/Data/data/Tiankai/66881_1080_mask_415p.h5'\n",
    "with h5py.File(fn, 'w') as f:\n",
    "    f.create_dataset('obj_supp', data=obj_supp, dtype=np.float32)\n",
    "    f.create_dataset('sin_supp', data=sino_supp, dtype=np.float32)"
   ]
  },
  {
   "cell_type": "code",
   "execution_count": null,
   "metadata": {},
   "outputs": [],
   "source": []
  }
 ],
 "metadata": {
  "kernelspec": {
   "display_name": "Python 3",
   "language": "python",
   "name": "python3"
  },
  "language_info": {
   "codemirror_mode": {
    "name": "ipython",
    "version": 3
   },
   "file_extension": ".py",
   "mimetype": "text/x-python",
   "name": "python",
   "nbconvert_exporter": "python",
   "pygments_lexer": "ipython3",
   "version": "3.8.3"
  }
 },
 "nbformat": 4,
 "nbformat_minor": 4
}
