{
 "cells": [
  {
   "cell_type": "code",
   "execution_count": 1,
   "metadata": {},
   "outputs": [
    {
     "name": "stderr",
     "output_type": "stream",
     "text": [
      "The JVM is already running.\n"
     ]
    },
    {
     "ename": "NameError",
     "evalue": "name 'ij' is not defined",
     "output_type": "error",
     "traceback": [
      "\u001b[0;31m---------------------------------------------------------------------------\u001b[0m",
      "\u001b[0;31mNameError\u001b[0m                                 Traceback (most recent call last)",
      "\u001b[0;32m<ipython-input-1-45732a3b7c08>\u001b[0m in \u001b[0;36m<module>\u001b[0;34m\u001b[0m\n\u001b[1;32m      3\u001b[0m \u001b[0;32mfrom\u001b[0m \u001b[0mjnius\u001b[0m \u001b[0;32mimport\u001b[0m \u001b[0mautoclass\u001b[0m\u001b[0;34m\u001b[0m\u001b[0;34m\u001b[0m\u001b[0m\n\u001b[1;32m      4\u001b[0m \u001b[0;34m\u001b[0m\u001b[0m\n\u001b[0;32m----> 5\u001b[0;31m \u001b[0mij\u001b[0m \u001b[0;34m=\u001b[0m \u001b[0mimagej\u001b[0m\u001b[0;34m.\u001b[0m\u001b[0minit\u001b[0m\u001b[0;34m(\u001b[0m\u001b[0;34m'/home/xiao/software/Fiji.app'\u001b[0m\u001b[0;34m,\u001b[0m \u001b[0mheadless\u001b[0m\u001b[0;34m=\u001b[0m\u001b[0;32mFalse\u001b[0m\u001b[0;34m)\u001b[0m\u001b[0;34m\u001b[0m\u001b[0;34m\u001b[0m\u001b[0m\n\u001b[0m\u001b[1;32m      6\u001b[0m \u001b[0mijui\u001b[0m \u001b[0;34m=\u001b[0m \u001b[0mij\u001b[0m\u001b[0;34m.\u001b[0m\u001b[0mui\u001b[0m\u001b[0;34m(\u001b[0m\u001b[0;34m)\u001b[0m\u001b[0;34m\u001b[0m\u001b[0;34m\u001b[0m\u001b[0m\n\u001b[1;32m      7\u001b[0m \u001b[0mijui\u001b[0m\u001b[0;34m.\u001b[0m\u001b[0mshowUI\u001b[0m\u001b[0;34m(\u001b[0m\u001b[0;34m)\u001b[0m\u001b[0;34m\u001b[0m\u001b[0;34m\u001b[0m\u001b[0m\n",
      "\u001b[0;32m~/software/anaconda3/envs/py36/lib/python3.6/site-packages/imagej/imagej.py\u001b[0m in \u001b[0;36minit\u001b[0;34m(ij_dir_or_version_or_endpoint, headless, new_instance)\u001b[0m\n\u001b[1;32m     84\u001b[0m     \u001b[0;32mif\u001b[0m \u001b[0mjnius_config\u001b[0m\u001b[0;34m.\u001b[0m\u001b[0mvm_running\u001b[0m \u001b[0;32mand\u001b[0m \u001b[0;32mnot\u001b[0m \u001b[0mnew_instance\u001b[0m\u001b[0;34m:\u001b[0m\u001b[0;34m\u001b[0m\u001b[0;34m\u001b[0m\u001b[0m\n\u001b[1;32m     85\u001b[0m         \u001b[0m_logger\u001b[0m\u001b[0;34m.\u001b[0m\u001b[0mwarning\u001b[0m\u001b[0;34m(\u001b[0m\u001b[0;34m'The JVM is already running.'\u001b[0m\u001b[0;34m)\u001b[0m\u001b[0;34m\u001b[0m\u001b[0;34m\u001b[0m\u001b[0m\n\u001b[0;32m---> 86\u001b[0;31m         \u001b[0;32mreturn\u001b[0m \u001b[0mij\u001b[0m\u001b[0;34m\u001b[0m\u001b[0;34m\u001b[0m\u001b[0m\n\u001b[0m\u001b[1;32m     87\u001b[0m \u001b[0;34m\u001b[0m\u001b[0m\n\u001b[1;32m     88\u001b[0m     \u001b[0;32mif\u001b[0m \u001b[0;32mnot\u001b[0m \u001b[0mjnius_config\u001b[0m\u001b[0;34m.\u001b[0m\u001b[0mvm_running\u001b[0m\u001b[0;34m:\u001b[0m\u001b[0;34m\u001b[0m\u001b[0;34m\u001b[0m\u001b[0m\n",
      "\u001b[0;31mNameError\u001b[0m: name 'ij' is not defined"
     ]
    }
   ],
   "source": [
    "%matplotlib qt\n",
    "import seaborn as sbn\n",
    "import numpy as np\n",
    "import matplotlib.pyplot as plt \n",
    "from scipy import stats\n",
    "import h5py\n",
    "import os\n",
    "import sklearn\n",
    "from sklearn.neighbors import KernelDensity\n",
    "from sklearn.model_selection import GridSearchCV\n",
    "import imagej"
   ]
  },
  {
   "cell_type": "code",
   "execution_count": null,
   "metadata": {},
   "outputs": [],
   "source": [
    "ij = imagej.init('/home/xiao/software/Fiji.app', headless=False)\n",
    "ijui = ij.ui()\n",
    "ijui.showUI()"
   ]
  },
  {
   "cell_type": "code",
   "execution_count": null,
   "metadata": {},
   "outputs": [],
   "source": [
    "#idx = [55374, 55376, 55380, 55385, 55400, 55406]\n",
    "ii = 55375\n",
    "fn = '/media/xiao_usb/JuLi_2020Q1/2D_trial_reg_xanes_scan2_id_54307_2020-07-05-20-36-46.h5'\n",
    "#fn = '/media/xiao_usb/JuLi_2020Q1/2D_trial_reg_xanes_scan2_id_54308_2020-07-09-11-12-16.h5'\n",
    "#fn = '/media/xiao_usb/JuLi_2020Q1/2D_trial_reg_xanes_scan2_id_54311_2020-07-01-11-20-34.h5'\n",
    "#fn = '/media/xiao_usb/JuLi_2020Q1/2D_trial_reg_xanes_scan2_id_54312_2020-07-03-21-00-36.h5'\n",
    "\n",
    "with h5py.File(fn, 'r') as f:\n",
    "    img = f['/processed_XANES2D/proc_spectrum/whiteline_pos_fit']\n",
    "\n",
    "img1 = img[(img!=img.min())&(img!=img.max())]\n",
    "print(img.min(), img.max())\n",
    "print(img1.min(), img1.max())\n",
    "\n",
    "img = img[(img!=img.min())&(img!=img.max())].flatten()\n",
    "val = np.unique(img)\n",
    "print(np.abs(val[1:]-val[:-1]).min())\n",
    "print(img.shape)\n",
    "print(val.shape)\n",
    "\n",
    "\"\"\"\n",
    "grid = GridSearchCV(KernelDensity(atol=1e-5, rtol=1e-5, kernel=\"gaussian\"),\n",
    "                    {'bandwidth': np.linspace(1e-6, 1e-4, 50)},\n",
    "                    cv=5, n_jobs=36) # 20-fold cross-validation\n",
    "grid.fit(img[:, None])\n",
    "print(grid.best_params_)\n",
    "\n",
    "kde1 = grid.best_estimator_\n",
    "kde1.set_params(**{\"bandwidth\":np.abs(val[1:]-val[:-1]).min()/1.5})\n",
    "\"\"\"\n",
    "\n",
    "kde1 =  KernelDensity(bandwidth=np.abs(val[1:]-val[:-1]).min()/1.5, \n",
    "                      algorithm=\"kd_tree\", kernel='gaussian', \n",
    "                      metric='euclidean', atol=1e-5, rtol=1e-5, \n",
    "                      breadth_first=True, leaf_size=40, metric_params=None).fit(img[:, None])\n",
    "x_grid1 = np.linspace(val.min(), val.max(), 500)\n",
    "pdf1 = np.exp(kde1.score_samples(x_grid1[:, None]))\n",
    "fig, ax = plt.subplots()\n",
    "ax.plot(x_grid1, pdf1, linewidth=3, alpha=0.5, label=str(ii))\n",
    "ax.hist(img, val.shape[0], fc='gray', histtype='stepfilled', alpha=0.3, density=True)\n",
    "#ax.hist(img, val.shape[0], fc='gray', histtype='stepfilled', alpha=0.3)\n",
    "ax.legend(loc='upper left')\n",
    "ax.set_xlim(val.min()-0.001, val.max()+0.001);\n",
    "\n",
    "\"\"\"\n",
    "plt.figure(1)\n",
    "sbn.distplot(img, kde=True, hist=False,\n",
    "             kde_kws={\"bw\":np.abs(val[1:]-val[:-1]).min(), \"shade\":True},\n",
    "             norm_hist=False, label=str(ii))\n",
    "plt.figure(2)\n",
    "sbn.distplot(img, kde=False, hist=True,\n",
    "             kde_kws={\"bw\":np.abs(val[1:]-val[:-1]).min(), \"shade\":True},\n",
    "             norm_hist=False, label=str(ii))\n",
    "plt.figure(3)\n",
    "sbn.distplot(img, kde=True, hist=True,\n",
    "             kde_kws={\"bw\":np.abs(val[1:]-val[:-1]).min(), \"shade\":True},\n",
    "             norm_hist=False, label=str(ii))\n",
    "\"\"\""
   ]
  }
 ],
 "metadata": {
  "kernelspec": {
   "display_name": "Python 3",
   "language": "python",
   "name": "python3"
  },
  "language_info": {
   "codemirror_mode": {
    "name": "ipython",
    "version": 3
   },
   "file_extension": ".py",
   "mimetype": "text/x-python",
   "name": "python",
   "nbconvert_exporter": "python",
   "pygments_lexer": "ipython3",
   "version": "3.7.4"
  }
 },
 "nbformat": 4,
 "nbformat_minor": 4
}
