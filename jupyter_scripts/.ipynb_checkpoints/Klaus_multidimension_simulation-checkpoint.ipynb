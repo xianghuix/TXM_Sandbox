{
 "cells": [
  {
   "cell_type": "code",
   "execution_count": 2,
   "metadata": {},
   "outputs": [],
   "source": [
    "import numpy as np\n",
    "import numpy.random as nr\n",
    "import scipy.stats as ss\n",
    "import tifffile, os\n",
    "import multiprocess as mp\n",
    "from numba import jit, prange\n",
    "from dask import delayed"
   ]
  },
  {
   "cell_type": "code",
   "execution_count": 4,
   "metadata": {
    "collapsed": true,
    "jupyter": {
     "outputs_hidden": true
    }
   },
   "outputs": [
    {
     "ename": "TypeError",
     "evalue": "'numpy.uint8' object is not iterable",
     "output_type": "error",
     "traceback": [
      "\u001b[0;31m---------------------------------------------------------------------------\u001b[0m",
      "\u001b[0;31mRemoteTraceback\u001b[0m                           Traceback (most recent call last)",
      "\u001b[0;31mRemoteTraceback\u001b[0m: \n\"\"\"\nTraceback (most recent call last):\n  File \"/home/xiao/software/anaconda3/envs/py37play/lib/python3.7/site-packages/multiprocess/pool.py\", line 121, in worker\n    result = (True, func(*args, **kwds))\n  File \"/home/xiao/software/anaconda3/envs/py37play/lib/python3.7/site-packages/multiprocess/pool.py\", line 47, in starmapstar\n    return list(itertools.starmap(args[0], args[1]))\nTypeError: 'numpy.uint8' object is not iterable\n\"\"\"",
      "\nThe above exception was the direct cause of the following exception:\n",
      "\u001b[0;31mTypeError\u001b[0m                                 Traceback (most recent call last)",
      "\u001b[0;32m<ipython-input-4-b9dfb13b3a27>\u001b[0m in \u001b[0;36m<module>\u001b[0;34m\u001b[0m\n\u001b[1;32m     62\u001b[0m \u001b[0mdim\u001b[0m \u001b[0;34m=\u001b[0m \u001b[0mdata\u001b[0m\u001b[0;34m.\u001b[0m\u001b[0mshape\u001b[0m\u001b[0;34m\u001b[0m\u001b[0;34m\u001b[0m\u001b[0m\n\u001b[1;32m     63\u001b[0m \u001b[0;32mwith\u001b[0m \u001b[0mmp\u001b[0m\u001b[0;34m.\u001b[0m\u001b[0mPool\u001b[0m\u001b[0;34m(\u001b[0m\u001b[0mn_cpu\u001b[0m\u001b[0;34m-\u001b[0m\u001b[0;36m1\u001b[0m\u001b[0;34m)\u001b[0m \u001b[0;32mas\u001b[0m \u001b[0mpool\u001b[0m\u001b[0;34m:\u001b[0m\u001b[0;34m\u001b[0m\u001b[0;34m\u001b[0m\u001b[0m\n\u001b[0;32m---> 64\u001b[0;31m     \u001b[0mrlt\u001b[0m \u001b[0;34m=\u001b[0m \u001b[0mpool\u001b[0m\u001b[0;34m.\u001b[0m\u001b[0mstarmap\u001b[0m\u001b[0;34m(\u001b[0m\u001b[0mdiscriminator\u001b[0m\u001b[0;34m,\u001b[0m \u001b[0;34m[\u001b[0m\u001b[0mdata\u001b[0m\u001b[0;34m[\u001b[0m\u001b[0mii\u001b[0m\u001b[0;34m]\u001b[0m \u001b[0;32mfor\u001b[0m \u001b[0mii\u001b[0m \u001b[0;32min\u001b[0m \u001b[0mrange\u001b[0m\u001b[0;34m(\u001b[0m\u001b[0mint\u001b[0m\u001b[0;34m(\u001b[0m\u001b[0;36m1e4\u001b[0m\u001b[0;34m)\u001b[0m\u001b[0;34m)\u001b[0m\u001b[0;34m]\u001b[0m\u001b[0;34m)\u001b[0m\u001b[0;34m\u001b[0m\u001b[0;34m\u001b[0m\u001b[0m\n\u001b[0m\u001b[1;32m     65\u001b[0m \u001b[0mpool\u001b[0m\u001b[0;34m.\u001b[0m\u001b[0mjoin\u001b[0m\u001b[0;34m(\u001b[0m\u001b[0;34m)\u001b[0m\u001b[0;34m\u001b[0m\u001b[0;34m\u001b[0m\u001b[0m\n\u001b[1;32m     66\u001b[0m \u001b[0mpool\u001b[0m\u001b[0;34m.\u001b[0m\u001b[0mclose\u001b[0m\u001b[0;34m(\u001b[0m\u001b[0;34m)\u001b[0m\u001b[0;34m\u001b[0m\u001b[0;34m\u001b[0m\u001b[0m\n",
      "\u001b[0;32m~/software/anaconda3/envs/py37play/lib/python3.7/site-packages/multiprocess/pool.py\u001b[0m in \u001b[0;36mstarmap\u001b[0;34m(self, func, iterable, chunksize)\u001b[0m\n\u001b[1;32m    274\u001b[0m         \u001b[0;31m`\u001b[0m\u001b[0mfunc\u001b[0m\u001b[0;31m`\u001b[0m \u001b[0;32mand\u001b[0m \u001b[0;34m(\u001b[0m\u001b[0ma\u001b[0m\u001b[0;34m,\u001b[0m \u001b[0mb\u001b[0m\u001b[0;34m)\u001b[0m \u001b[0mbecomes\u001b[0m \u001b[0mfunc\u001b[0m\u001b[0;34m(\u001b[0m\u001b[0ma\u001b[0m\u001b[0;34m,\u001b[0m \u001b[0mb\u001b[0m\u001b[0;34m)\u001b[0m\u001b[0;34m.\u001b[0m\u001b[0;34m\u001b[0m\u001b[0;34m\u001b[0m\u001b[0m\n\u001b[1;32m    275\u001b[0m         '''\n\u001b[0;32m--> 276\u001b[0;31m         \u001b[0;32mreturn\u001b[0m \u001b[0mself\u001b[0m\u001b[0;34m.\u001b[0m\u001b[0m_map_async\u001b[0m\u001b[0;34m(\u001b[0m\u001b[0mfunc\u001b[0m\u001b[0;34m,\u001b[0m \u001b[0miterable\u001b[0m\u001b[0;34m,\u001b[0m \u001b[0mstarmapstar\u001b[0m\u001b[0;34m,\u001b[0m \u001b[0mchunksize\u001b[0m\u001b[0;34m)\u001b[0m\u001b[0;34m.\u001b[0m\u001b[0mget\u001b[0m\u001b[0;34m(\u001b[0m\u001b[0;34m)\u001b[0m\u001b[0;34m\u001b[0m\u001b[0;34m\u001b[0m\u001b[0m\n\u001b[0m\u001b[1;32m    277\u001b[0m \u001b[0;34m\u001b[0m\u001b[0m\n\u001b[1;32m    278\u001b[0m     def starmap_async(self, func, iterable, chunksize=None, callback=None,\n",
      "\u001b[0;32m~/software/anaconda3/envs/py37play/lib/python3.7/site-packages/multiprocess/pool.py\u001b[0m in \u001b[0;36mget\u001b[0;34m(self, timeout)\u001b[0m\n\u001b[1;32m    655\u001b[0m             \u001b[0;32mreturn\u001b[0m \u001b[0mself\u001b[0m\u001b[0;34m.\u001b[0m\u001b[0m_value\u001b[0m\u001b[0;34m\u001b[0m\u001b[0;34m\u001b[0m\u001b[0m\n\u001b[1;32m    656\u001b[0m         \u001b[0;32melse\u001b[0m\u001b[0;34m:\u001b[0m\u001b[0;34m\u001b[0m\u001b[0;34m\u001b[0m\u001b[0m\n\u001b[0;32m--> 657\u001b[0;31m             \u001b[0;32mraise\u001b[0m \u001b[0mself\u001b[0m\u001b[0;34m.\u001b[0m\u001b[0m_value\u001b[0m\u001b[0;34m\u001b[0m\u001b[0;34m\u001b[0m\u001b[0m\n\u001b[0m\u001b[1;32m    658\u001b[0m \u001b[0;34m\u001b[0m\u001b[0m\n\u001b[1;32m    659\u001b[0m     \u001b[0;32mdef\u001b[0m \u001b[0m_set\u001b[0m\u001b[0;34m(\u001b[0m\u001b[0mself\u001b[0m\u001b[0;34m,\u001b[0m \u001b[0mi\u001b[0m\u001b[0;34m,\u001b[0m \u001b[0mobj\u001b[0m\u001b[0;34m)\u001b[0m\u001b[0;34m:\u001b[0m\u001b[0;34m\u001b[0m\u001b[0;34m\u001b[0m\u001b[0m\n",
      "\u001b[0;32m~/software/anaconda3/envs/py37play/lib/python3.7/site-packages/multiprocess/pool.py\u001b[0m in \u001b[0;36mworker\u001b[0;34m()\u001b[0m\n\u001b[1;32m    119\u001b[0m         \u001b[0mjob\u001b[0m\u001b[0;34m,\u001b[0m \u001b[0mi\u001b[0m\u001b[0;34m,\u001b[0m \u001b[0mfunc\u001b[0m\u001b[0;34m,\u001b[0m \u001b[0margs\u001b[0m\u001b[0;34m,\u001b[0m \u001b[0mkwds\u001b[0m \u001b[0;34m=\u001b[0m \u001b[0mtask\u001b[0m\u001b[0;34m\u001b[0m\u001b[0;34m\u001b[0m\u001b[0m\n\u001b[1;32m    120\u001b[0m         \u001b[0;32mtry\u001b[0m\u001b[0;34m:\u001b[0m\u001b[0;34m\u001b[0m\u001b[0;34m\u001b[0m\u001b[0m\n\u001b[0;32m--> 121\u001b[0;31m             \u001b[0mresult\u001b[0m \u001b[0;34m=\u001b[0m \u001b[0;34m(\u001b[0m\u001b[0;32mTrue\u001b[0m\u001b[0;34m,\u001b[0m \u001b[0mfunc\u001b[0m\u001b[0;34m(\u001b[0m\u001b[0;34m*\u001b[0m\u001b[0margs\u001b[0m\u001b[0;34m,\u001b[0m \u001b[0;34m**\u001b[0m\u001b[0mkwds\u001b[0m\u001b[0;34m)\u001b[0m\u001b[0;34m)\u001b[0m\u001b[0;34m\u001b[0m\u001b[0;34m\u001b[0m\u001b[0m\n\u001b[0m\u001b[1;32m    122\u001b[0m         \u001b[0;32mexcept\u001b[0m \u001b[0mException\u001b[0m \u001b[0;32mas\u001b[0m \u001b[0me\u001b[0m\u001b[0;34m:\u001b[0m\u001b[0;34m\u001b[0m\u001b[0;34m\u001b[0m\u001b[0m\n\u001b[1;32m    123\u001b[0m             \u001b[0;32mif\u001b[0m \u001b[0mwrap_exception\u001b[0m \u001b[0;32mand\u001b[0m \u001b[0mfunc\u001b[0m \u001b[0;32mis\u001b[0m \u001b[0;32mnot\u001b[0m \u001b[0m_helper_reraises_exception\u001b[0m\u001b[0;34m:\u001b[0m\u001b[0;34m\u001b[0m\u001b[0;34m\u001b[0m\u001b[0m\n",
      "\u001b[0;32m~/software/anaconda3/envs/py37play/lib/python3.7/site-packages/multiprocess/pool.py\u001b[0m in \u001b[0;36mstarmapstar\u001b[0;34m()\u001b[0m\n\u001b[1;32m     45\u001b[0m \u001b[0;34m\u001b[0m\u001b[0m\n\u001b[1;32m     46\u001b[0m \u001b[0;32mdef\u001b[0m \u001b[0mstarmapstar\u001b[0m\u001b[0;34m(\u001b[0m\u001b[0margs\u001b[0m\u001b[0;34m)\u001b[0m\u001b[0;34m:\u001b[0m\u001b[0;34m\u001b[0m\u001b[0;34m\u001b[0m\u001b[0m\n\u001b[0;32m---> 47\u001b[0;31m     \u001b[0;32mreturn\u001b[0m \u001b[0mlist\u001b[0m\u001b[0;34m(\u001b[0m\u001b[0mitertools\u001b[0m\u001b[0;34m.\u001b[0m\u001b[0mstarmap\u001b[0m\u001b[0;34m(\u001b[0m\u001b[0margs\u001b[0m\u001b[0;34m[\u001b[0m\u001b[0;36m0\u001b[0m\u001b[0;34m]\u001b[0m\u001b[0;34m,\u001b[0m \u001b[0margs\u001b[0m\u001b[0;34m[\u001b[0m\u001b[0;36m1\u001b[0m\u001b[0;34m]\u001b[0m\u001b[0;34m)\u001b[0m\u001b[0;34m)\u001b[0m\u001b[0;34m\u001b[0m\u001b[0;34m\u001b[0m\u001b[0m\n\u001b[0m\u001b[1;32m     48\u001b[0m \u001b[0;34m\u001b[0m\u001b[0m\n\u001b[1;32m     49\u001b[0m \u001b[0;31m#\u001b[0m\u001b[0;34m\u001b[0m\u001b[0;34m\u001b[0m\u001b[0;34m\u001b[0m\u001b[0m\n",
      "\u001b[0;31mTypeError\u001b[0m: 'numpy.uint8' object is not iterable"
     ]
    }
   ],
   "source": [
    "\n",
    "\n",
    "\"\"\"\n",
    "    This script is for simulating multi-dimensional data for Klaus. The raw 3D\n",
    "    is grabbed from https://www.digitalrocksportal.org/projects/6\n",
    "    The 3D data is cropped from the original data.\n",
    "\"\"\"\n",
    "######### numba\n",
    "ph1_cen = 41\n",
    "ph1_std = 11\n",
    "\n",
    "ph2_cen = 68\n",
    "ph2_std = 9.5\n",
    "\n",
    "ph3_cen = 82\n",
    "ph3_std = 9.3\n",
    "\n",
    "ph4_cen = 141\n",
    "ph4_std = 9.2\n",
    "\n",
    "y_p1 = ss.norm(ph1_cen, ph1_std).pdf\n",
    "y_p2 = ss.norm(ph2_cen, ph2_std).pdf\n",
    "y_p3 = ss.norm(ph3_cen, ph3_std).pdf\n",
    "y_p4 = ss.norm(ph4_cen, ph4_std).pdf\n",
    "\n",
    "p = np.ndarray([4])\n",
    "\n",
    "#@jit\n",
    "def ratio(gray_val):   \n",
    "    p[0] = y_p1(gray_val)\n",
    "    p[1] = y_p2(gray_val)\n",
    "    p[2] = y_p3(gray_val)\n",
    "    p[3] = y_p4(gray_val)\n",
    "    ps = p.sum()\n",
    "    #return (p[:i].sum()/ps for i in range(4))\n",
    "    p0 = p[:1].sum()/ps\n",
    "    p1 = p[:2].sum()/ps\n",
    "    p2 = p[:3].sum()/ps\n",
    "    p3 = p[:4].sum()/ps\n",
    "    return p0, p1, p2, p3\n",
    "\n",
    "#@jit\n",
    "def discriminator(gray_val):\n",
    "    c1 = 0\n",
    "    c2 = 0 \n",
    "    c3 = 0\n",
    "    c4 = 0\n",
    "    p1, p2, p3, p4 = ratio(gray_val)\n",
    "    for ii in prange(100):\n",
    "        seat = nr.random()\n",
    "        if seat<p1:\n",
    "            c1 += 1\n",
    "        elif seat<p2:\n",
    "            c2 += 1\n",
    "        elif seat<p3:\n",
    "            c3 += 1\n",
    "        else:\n",
    "            c4 += 1\n",
    "    return c1, c2, c3, c4\n",
    "\n",
    "\n",
    "data = tifffile.imread(\"/media/xiao_usb/originating/256x256x256.tif\").reshape([-1])\n",
    "n_cpu = os.cpu_count()\n",
    "dim = data.shape\n",
    "with mp.Pool(n_cpu-1) as pool:\n",
    "    rlt = pool.starmap(discriminator, [data[ii] for ii in range(int(1e4))])\n",
    "pool.join()\n",
    "pool.close()\n",
    "\n",
    "rlt = []\n",
    "for ii in prange(dim[0]):\n",
    "    rlt.append(discriminator(data[ii]))"
   ]
  },
  {
   "cell_type": "code",
   "execution_count": null,
   "metadata": {},
   "outputs": [],
   "source": [
    "a = [data[ii] for ii in range(int(1e4))]\n",
    "print(type(a))\n",
    "dir(tuple.__iter__)"
   ]
  },
  {
   "cell_type": "code",
   "execution_count": null,
   "metadata": {
    "jupyter": {
     "source_hidden": true
    }
   },
   "outputs": [],
   "source": [
    "########## dask\n",
    "ph1_cen = 41\n",
    "ph1_std = 11\n",
    "\n",
    "ph2_cen = 68\n",
    "ph2_std = 9.5\n",
    "\n",
    "ph3_cen = 82\n",
    "ph3_std = 9.3\n",
    "\n",
    "ph4_cen = 141\n",
    "ph4_std = 9.2\n",
    "\n",
    "y_p1 = ss.norm(ph1_cen, ph1_std).pdf\n",
    "y_p2 = ss.norm(ph2_cen, ph2_std).pdf\n",
    "y_p3 = ss.norm(ph3_cen, ph3_std).pdf\n",
    "y_p4 = ss.norm(ph4_cen, ph4_std).pdf\n",
    "\n",
    "p = np.ndarray([4])\n",
    "\n",
    "def ratio(gray_val):   \n",
    "    p[0] = y_p1(gray_val)\n",
    "    p[1] = y_p2(gray_val)\n",
    "    p[2] = y_p3(gray_val)\n",
    "    p[3] = y_p4(gray_val)\n",
    "    ps = p.sum()\n",
    "    #return (p[:i].sum()/ps for i in range(4))\n",
    "    p0 = p[:1].sum()/ps\n",
    "    p1 = p[:2].sum()/ps\n",
    "    p2 = p[:3].sum()/ps\n",
    "    p3 = p[:4].sum()/ps\n",
    "    return p0, p1, p2, p3\n",
    "\n",
    "def discriminator(gray_val):\n",
    "    c1 = 0\n",
    "    c2 = 0 \n",
    "    c3 = 0\n",
    "    c4 = 0\n",
    "    p1, p2, p3, p4 = ratio(gray_val)\n",
    "    #for ii in prange(100):\n",
    "    seat = nr.random()\n",
    "    if seat<p1:\n",
    "        c1 += 1\n",
    "    elif seat<p2:\n",
    "        c2 += 1\n",
    "    elif seat<p3:\n",
    "        c3 += 1\n",
    "    else:\n",
    "        c4 += 1\n",
    "    return c1, c2, c3, c4\n",
    "\n",
    "\n",
    "data = tifffile.imread(\"/media/xiao_usb/originating/256x256x256.tif\").reshape([-1])\n",
    "n_cpu = os.cpu_count()\n",
    "dim = data.shape\n",
    "print(dim)\n",
    "\n",
    "\n",
    "results = []\n",
    "for ii in range(dim[0]):\n",
    "    rlt = delayed(discriminator)(data[ii])\n",
    "    results.append(rlt)\n",
    "dask.compute(*results)"
   ]
  },
  {
   "cell_type": "code",
   "execution_count": 1,
   "metadata": {},
   "outputs": [],
   "source": [
    "import numpy as np\n",
    "import numpy.random as nr\n",
    "import scipy.stats as ss\n",
    "import tifffile, os, time\n",
    "import multiprocess as mp"
   ]
  },
  {
   "cell_type": "code",
   "execution_count": 61,
   "metadata": {
    "jupyter": {
     "source_hidden": true
    }
   },
   "outputs": [
    {
     "name": "stdout",
     "output_type": "stream",
     "text": [
      "(16777216,) 96\n",
      "Fri Jun 12 23:03:07 2020\n",
      "Fri Jun 12 23:34:40 2020\n",
      "16777216\n"
     ]
    }
   ],
   "source": [
    "########## multiprocess\n",
    "\n",
    "\"\"\"\n",
    "    This script is for simulating multi-dimensional data for Klaus. The raw 3D\n",
    "    is grabbed from https://www.digitalrocksportal.org/projects/6\n",
    "    The 3D data is cropped from the original data.\n",
    "\"\"\"\n",
    "\n",
    "ph1_cen = 41\n",
    "ph1_std = 11\n",
    "\n",
    "ph2_cen = 68\n",
    "ph2_std = 9.5\n",
    "\n",
    "ph3_cen = 82\n",
    "ph3_std = 9.3\n",
    "\n",
    "ph4_cen = 141\n",
    "ph4_std = 9.2\n",
    "\n",
    "y_p1 = ss.norm(ph1_cen, ph1_std).pdf\n",
    "y_p2 = ss.norm(ph2_cen, ph2_std).pdf\n",
    "y_p3 = ss.norm(ph3_cen, ph3_std).pdf\n",
    "y_p4 = ss.norm(ph4_cen, ph4_std).pdf\n",
    "\n",
    "p = np.ndarray([4])\n",
    "\n",
    "def ratio(gray_val):   \n",
    "    p[0] = y_p1(gray_val)\n",
    "    p[1] = y_p2(gray_val)\n",
    "    p[2] = y_p3(gray_val)\n",
    "    p[3] = y_p4(gray_val)\n",
    "    ps = p.sum()\n",
    "    # print(ps)\n",
    "    return list(p[:i].sum()/ps for i in range(1, 5))\n",
    "    \n",
    "def discriminator(gray_val):\n",
    "    c1 = c2 = c3 = c4 = 0\n",
    "    p1, p2, p3, p4 = ratio(gray_val)\n",
    "    for ii in range(1000):\n",
    "        seat = nr.random()\n",
    "        if seat<p1:\n",
    "            c1 += 1\n",
    "        elif seat<p2:\n",
    "            c2 += 1\n",
    "        elif seat<p3:\n",
    "            c3 += 1\n",
    "        else:\n",
    "            c4 += 1\n",
    "    return c1, c2, c3, c4\n",
    "    # return nr.random()\n",
    "\n",
    "# if __name__ == \"__main__\":\n",
    "data = tifffile.imread(\"/media/xiao_usb/originating/256x256x256.tif\").reshape([-1])\n",
    "n_cpu = os.cpu_count()\n",
    "dim = data.shape\n",
    "print(data.shape, data[100])\n",
    "results = []\n",
    "\n",
    "print(time.asctime())\n",
    "with mp.Pool(maxtasksperchild=10) as pool:\n",
    "    rlt = pool.map(discriminator, [data[ii] for ii in np.int32(np.arange(dim[0]))])\n",
    "    # results.append(rlt)\n",
    "    # print(rlt)       \n",
    "pool.close()\n",
    "pool.join()\n",
    "\n",
    "print(time.asctime())\n",
    "print(len(rlt))"
   ]
  },
  {
   "cell_type": "code",
   "execution_count": 47,
   "metadata": {},
   "outputs": [
    {
     "name": "stdout",
     "output_type": "stream",
     "text": [
      "[0.0, 0.001110046443019528, 0.31166018420855524, 0.9999999997976192]\n",
      "6.759626871616375e-05\n",
      "(0, 8, 559, 433)\n"
     ]
    }
   ],
   "source": [
    "\n",
    "print(ratio(80))\n",
    "print(y_p1(80))\n",
    "print(rlt[11910600])"
   ]
  },
  {
   "cell_type": "code",
   "execution_count": 62,
   "metadata": {},
   "outputs": [],
   "source": [
    "results2 = np.array(rlt).reshape([256, 256, 256, 4])"
   ]
  },
  {
   "cell_type": "code",
   "execution_count": 63,
   "metadata": {},
   "outputs": [],
   "source": [
    "tifffile.imsave(\"/media/xiao_usb/originating/channel1.tif\", results2[:, :, :, 0].astype(np.float32))\n",
    "tifffile.imsave(\"/media/xiao_usb/originating/channel2.tif\", results2[:, :, :, 1].astype(np.float32))\n",
    "tifffile.imsave(\"/media/xiao_usb/originating/channel3.tif\", results2[:, :, :, 2].astype(np.float32))\n",
    "tifffile.imsave(\"/media/xiao_usb/originating/channel4.tif\", results2[:, :, :, 3].astype(np.float32))"
   ]
  },
  {
   "cell_type": "code",
   "execution_count": 57,
   "metadata": {},
   "outputs": [
    {
     "data": {
      "text/plain": [
       "<matplotlib.image.AxesImage at 0x7f01bc343450>"
      ]
     },
     "execution_count": 57,
     "metadata": {},
     "output_type": "execute_result"
    }
   ],
   "source": [
    "%matplotlib qt\n",
    "import matplotlib.pyplot as plt\n",
    "import napari\n",
    "plt.imshow(results2[:, :, 0, 0])"
   ]
  },
  {
   "cell_type": "code",
   "execution_count": 58,
   "metadata": {
    "collapsed": true,
    "jupyter": {
     "outputs_hidden": true
    }
   },
   "outputs": [
    {
     "name": "stderr",
     "output_type": "stream",
     "text": [
      "WARNING: OpenGL version 2.1 or higher recommended, got 1.4 (2.1 Mesa 13.0.2). Some functionality may fail.\n",
      "WARNING: Error drawing visual <Image at 0x7f019d0d1310>\n",
      "WARNING: Error drawing visual <Image at 0x7f019d0d1310>\n",
      "WARNING: Error drawing visual <Image at 0x7f019d0d1310>\n",
      "WARNING: Error drawing visual <Image at 0x7f019d0d1310>\n",
      "WARNING: Error drawing visual <Image at 0x7f019d0d1310>\n",
      "WARNING: Error drawing visual <Image at 0x7f019d0d1310>\n",
      "WARNING: Error drawing visual <Image at 0x7f019d0d1310>\n",
      "WARNING: Error drawing visual <Image at 0x7f019d0d1310>\n",
      "WARNING: Error drawing visual <Image at 0x7f019d0d1310>\n",
      "WARNING: Error drawing visual <Image at 0x7f019d0d1310>\n",
      "WARNING: Error drawing visual <Image at 0x7f019d0d1310>\n",
      "WARNING: Error drawing visual <Image at 0x7f019d0d1310>\n",
      "WARNING: Error drawing visual <Image at 0x7f019d0d1310>\n",
      "WARNING: Error drawing visual <Image at 0x7f019d0d1310>\n",
      "WARNING: Error drawing visual <Image at 0x7f019d0d1310>\n",
      "WARNING: Error drawing visual <Image at 0x7f019d0d1310>\n",
      "WARNING: Error drawing visual <Image at 0x7f019d0d1310>\n",
      "WARNING: Error drawing visual <Image at 0x7f019d0d1310>\n",
      "WARNING: Error drawing visual <Image at 0x7f019d0d1310>\n",
      "WARNING: Error drawing visual <Image at 0x7f019d0d1310>\n",
      "WARNING: Error drawing visual <Image at 0x7f019d0d1310>\n",
      "WARNING: Error drawing visual <Image at 0x7f019d0d1310>\n",
      "WARNING: Error drawing visual <Image at 0x7f019d0d1310>\n",
      "WARNING: Error drawing visual <Image at 0x7f019d0d1310>\n",
      "WARNING: Error drawing visual <Image at 0x7f019d0d1310>\n",
      "WARNING: Error drawing visual <Image at 0x7f019d0d1310>\n",
      "WARNING: Error drawing visual <Image at 0x7f019d0d1310>\n",
      "WARNING: Error drawing visual <Image at 0x7f019d0d1310>\n",
      "WARNING: Error drawing visual <Image at 0x7f019d0d1310>\n",
      "WARNING: Error drawing visual <Image at 0x7f019d0d1310>\n",
      "WARNING: Error drawing visual <Image at 0x7f019d0d1310>\n",
      "WARNING: Error drawing visual <Image at 0x7f019d0d1310>\n",
      "WARNING: Error drawing visual <Image at 0x7f019d0d1310>\n",
      "WARNING: Error drawing visual <Image at 0x7f019d0d1310>\n",
      "WARNING: Error drawing visual <Image at 0x7f019d0d1310>\n",
      "WARNING: Error drawing visual <Image at 0x7f019d0d1310>\n",
      "WARNING: Error drawing visual <Image at 0x7f019d0d1310>\n",
      "WARNING: Error drawing visual <Image at 0x7f019d0d1310>\n",
      "WARNING: Error drawing visual <Image at 0x7f019d0d1310>\n",
      "WARNING: Error drawing visual <Image at 0x7f019d0d1310>\n",
      "WARNING: Error drawing visual <Image at 0x7f019d0d1310>\n",
      "WARNING: Error drawing visual <Image at 0x7f019d0d1310>\n",
      "WARNING: Error drawing visual <Image at 0x7f019d0d1310>\n",
      "WARNING: Error drawing visual <Image at 0x7f019d0d1310>\n",
      "WARNING: Error drawing visual <Image at 0x7f019d0d1310>\n",
      "WARNING: Error drawing visual <Image at 0x7f019d0d1310>\n",
      "WARNING: Error drawing visual <Image at 0x7f019d0d1310>\n",
      "WARNING: Error drawing visual <Image at 0x7f019d0d1310>\n",
      "WARNING: Error drawing visual <Image at 0x7f019d0d1310>\n",
      "WARNING: Error drawing visual <Image at 0x7f019d0d1310>\n",
      "WARNING: Error drawing visual <Image at 0x7f019d0d1310>\n",
      "WARNING: Error drawing visual <Image at 0x7f019d0d1310>\n",
      "WARNING: Error drawing visual <Image at 0x7f019d0d1310>\n",
      "WARNING: Error drawing visual <Image at 0x7f019d0d1310>\n",
      "WARNING: Error drawing visual <Image at 0x7f019d0d1310>\n",
      "WARNING: Error drawing visual <Image at 0x7f019d0d1310>\n",
      "WARNING: Error drawing visual <Image at 0x7f019d0d1310>\n",
      "WARNING: Error drawing visual <Image at 0x7f019d0d1310>\n",
      "WARNING: Error drawing visual <Image at 0x7f019d0d1310>\n",
      "WARNING: Error drawing visual <Image at 0x7f019d0d1310>\n",
      "WARNING: Error drawing visual <Image at 0x7f019d0d1310>\n",
      "WARNING: Error drawing visual <Image at 0x7f019d0d1310>\n",
      "WARNING: Error drawing visual <Image at 0x7f019d0d1310>\n",
      "WARNING: Error drawing visual <Image at 0x7f019d0d1310>\n",
      "WARNING: Error drawing visual <Volume at 0x7f0181aba710>\n",
      "WARNING: Error drawing visual <Volume at 0x7f0181aba710>\n",
      "WARNING: Error drawing visual <Volume at 0x7f0181aba710>\n",
      "WARNING: Error drawing visual <Volume at 0x7f0181aba710>\n"
     ]
    }
   ],
   "source": [
    "with napari.gui_qt():\n",
    "    napari.view_image(results2)"
   ]
  },
  {
   "cell_type": "code",
   "execution_count": null,
   "metadata": {},
   "outputs": [],
   "source": [
    "(16777216,) 96\n",
    "Fri Jun 12 21:50:17 2020\n",
    "Fri Jun 12 21:50:24 2020\n",
    "100000\n",
    "\n",
    "(16777216,) 96\n",
    "Fri Jun 12 21:51:12 2020\n",
    "Fri Jun 12 21:51:18 2020\n",
    "100000\n",
    "\n",
    "\n",
    "\n",
    "(16777216,) 96\n",
    "Fri Jun 12 21:09:54 2020\n",
    "Fri Jun 12 21:22:50 2020\n",
    "16777216"
   ]
  },
  {
   "cell_type": "code",
   "execution_count": 128,
   "metadata": {},
   "outputs": [
    {
     "name": "stdout",
     "output_type": "stream",
     "text": [
      "(2,)\n",
      "(100, 2)\n",
      "(100, 2)\n",
      "(100,)\n",
      "(2, 1000, 1000)\n",
      "(100, 1000, 1000)\n"
     ]
    }
   ],
   "source": [
    "a = np.array([2, 1], dtype=np.float32)\n",
    "b = np.tile(a[:, np.newaxis, np.newaxis], [1, 1000, 1000])\n",
    "c = np.tile(np.arange(100).astype(np.float32)[:, np.newaxis], [1, 2])\n",
    "\n",
    "e = (a * c)\n",
    "e1 = (a * c).sum(axis=1)\n",
    "#d = (b * c[:, :, np.newaxis, np.newaxis, np.newaxis])\n",
    "d1 = (b * c[:, :, np.newaxis, np.newaxis]).sum(axis=1)\n",
    "\n",
    "\n",
    "print(a.shape)\n",
    "print(c.shape)\n",
    "print(e.shape)\n",
    "#print(e[:, :, ...])\n",
    "print(e1.shape)\n",
    "\n",
    "print(b.shape)\n",
    "#print(d.shape)\n",
    "print(d1.shape)\n",
    "\n"
   ]
  },
  {
   "cell_type": "code",
   "execution_count": 134,
   "metadata": {},
   "outputs": [
    {
     "data": {
      "text/plain": [
       "(10, 2)"
      ]
     },
     "execution_count": 134,
     "metadata": {},
     "output_type": "execute_result"
    }
   ],
   "source": [
    "np.vstack((np.ones([10])*2, np.ones([10]))).T.shape"
   ]
  },
  {
   "cell_type": "code",
   "execution_count": 136,
   "metadata": {},
   "outputs": [
    {
     "data": {
      "text/plain": [
       "(1000, 1000)"
      ]
     },
     "execution_count": 136,
     "metadata": {},
     "output_type": "execute_result"
    }
   ],
   "source": [
    "d1.sum(axis=0).shape"
   ]
  },
  {
   "cell_type": "code",
   "execution_count": 1,
   "metadata": {},
   "outputs": [
    {
     "name": "stderr",
     "output_type": "stream",
     "text": [
      "[numexpr.utils] INFO : Note: NumExpr detected 24 cores but \"NUMEXPR_MAX_THREADS\" not set, so enforcing safe limit of 8.\n",
      "[numexpr.utils] INFO : NumExpr defaulting to 8 threads.\n",
      "[dxchange.reader] WARNING : astropy module not found\n"
     ]
    }
   ],
   "source": [
    "%matplotlib qt\n",
    "from larch.xafs import preedge\n",
    "from larch.math.fitpeak import fit_peak\n",
    "import h5py, os, time, timeit, numpy as np\n",
    "import multiprocessing as mp\n",
    "import matplotlib.pyplot as plt"
   ]
  },
  {
   "cell_type": "code",
   "execution_count": 2,
   "metadata": {},
   "outputs": [
    {
     "name": "stdout",
     "output_type": "stream",
     "text": [
      "(101, 383, 1040)\n",
      "(14,) (14, 398320)\n",
      "Sun Jun 14 14:06:40 2020\n",
      "Sun Jun 14 15:00:28 2020\n"
     ]
    }
   ],
   "source": [
    "fn = '/media/xiao_usb/3D_trial_reg_scan_id_29773-29873_2020-06-01-20-38-09.h5'\n",
    "f = h5py.File(fn, 'r')\n",
    "#data = f['/registration_results/reg_results/registered_xanes3D'][:, 0, 50:200, 420:550]\n",
    "data = f['/registration_results/reg_results/registered_xanes3D'][:, 0, :, :]*1e4\n",
    "eng = f['/registration_results/reg_results/eng_list'][:]*1e3\n",
    "f.close()\n",
    "# eng -= eng[0]\n",
    "\n",
    "dim = data.shape\n",
    "print(dim)\n",
    "\n",
    "### pre_edge\n",
    "# ids = list(np.arange(20)) + list(np.arange(40, 49))\n",
    "### fit_peak\n",
    "ids = list(np.arange(40, 54))\n",
    "x = eng[ids]\n",
    "y = data[ids, :].reshape([len(ids), -1])\n",
    "\n",
    "n_cpu = os.cpu_count()\n",
    "par_dict = {'amplitude':1e-3, 'center':x[-1], 'sigma':3.0,\n",
    "            'slope':0.1, 'intercept':0.0}\n",
    "par_bounds = ((1e-5, x[-8], 0.1, 0, 0), (1e-2, x[-1], 10, 1, 2))\n",
    "\n",
    "print(x.shape, y.shape)\n",
    "print(time.asctime())    \n",
    "############ multiprocessing\n",
    "with mp.Pool(n_cpu-1) as pool:\n",
    "    # rlt = pool.starmap(preedge, [(x, y[:, ii]) for ii in np.int32(np.arange(dim[1]*dim[2]))])\n",
    "    rlt = pool.starmap(fit_peak, [(x, y[:, ii], 'lorentzian') for ii in np.int32(np.arange(dim[1]*dim[2]))])\n",
    "pool.join()\n",
    "pool.close()\n",
    "\n",
    "print(time.asctime())\n",
    "#print(len(rlt))"
   ]
  },
  {
   "cell_type": "code",
   "execution_count": 8,
   "metadata": {},
   "outputs": [
    {
     "name": "stdout",
     "output_type": "stream",
     "text": [
      "[-6.5672310e-07 -7.5151883e-07 -8.6970380e-07 -1.0166663e-06\n",
      " -1.2063750e-06 -1.4518193e-06 -1.7843104e-06 -2.2402783e-06\n",
      " -2.9040248e-06 -3.9033016e-06 -5.5066685e-06 -8.4416870e-06\n",
      " -1.4391217e-05 -2.9843643e-05]\n"
     ]
    }
   ],
   "source": [
    "print((rlt[0].fit))"
   ]
  },
  {
   "cell_type": "code",
   "execution_count": 10,
   "metadata": {},
   "outputs": [
    {
     "name": "stdout",
     "output_type": "stream",
     "text": [
      "dict_keys(['x', 'y', 'dy', 'model', 'background', 'form', 'init_params', 'fit', 'fit_init', 'fit_details', 'chi_square', 'chi_reduced', 'aic', 'bic', 'covar', 'rfactor', 'params', 'nvarys', 'nfree', 'ndata', 'var_names', 'nfev', 'success', 'errorbars', 'message', 'lmdif_message', 'residual'])\n"
     ]
    }
   ],
   "source": [
    "print(rlt[0]._members().keys())"
   ]
  },
  {
   "cell_type": "code",
   "execution_count": 25,
   "metadata": {},
   "outputs": [],
   "source": [
    "plt.figure(1)\n",
    "for ii in range(50, 55):\n",
    "    for jj in range(75, 80):\n",
    "        idx = ii*dim[2] + jj\n",
    "        plt.plot(rlt[0].x, rlt[idx].y)\n",
    "        #plt.plot(rlt[0].x, rlt[idx].fit)"
   ]
  },
  {
   "cell_type": "code",
   "execution_count": 20,
   "metadata": {},
   "outputs": [
    {
     "data": {
      "text/plain": [
       "<matplotlib.image.AxesImage at 0x7f723034fc90>"
      ]
     },
     "execution_count": 20,
     "metadata": {},
     "output_type": "execute_result"
    }
   ],
   "source": [
    "plt.figure(2)\n",
    "plt.imshow(y[10].reshape([dim[1], dim[2]]))"
   ]
  },
  {
   "cell_type": "code",
   "execution_count": 56,
   "metadata": {},
   "outputs": [
    {
     "name": "stdout",
     "output_type": "stream",
     "text": [
      "(101, 150, 130) (101, 19500)\n"
     ]
    }
   ],
   "source": [
    "a = data\n",
    "b = np.reshape(a, (a.shape[0], -1))\n",
    "print(a.shape, b.shape)"
   ]
  },
  {
   "cell_type": "code",
   "execution_count": 1,
   "metadata": {},
   "outputs": [],
   "source": [
    "import numpy as np\n",
    "from scipy.optimize import minimize, curve_fit, least_squares as lsq, lsq_linear, nnls\n",
    "import multiprocess as mp\n",
    "\n",
    "from lmfit.lineshapes import (gaussian, lorentzian, voigt, pvoigt, moffat, pearson7,\n",
    "                         breit_wigner, damped_oscillator, dho, logistic, lognormal,\n",
    "                         students_t, expgaussian, donaich, skewed_gaussian,\n",
    "                         skewed_voigt, step, rectangle,  \n",
    "                         exponential, powerlaw, linear, parabolic, sine, \n",
    "                         expsine, split_lorentzian)\n",
    "\n",
    "functions = {'gaussian':gaussian, 'lorentzian':lorentzian, 'voigt':voigt, \n",
    "             'pvoigt':pvoigt, 'moffat':moffat, 'pearson7':pearson7,\n",
    "             'breit_wigner':breit_wigner, 'damped_oscillator':damped_oscillator,\n",
    "             'dho':dho, 'logistic':logistic, 'lognormal':lognormal,\n",
    "             'students_t':students_t, 'expgaussian':expgaussian, \n",
    "             'donaich':donaich, 'skewed_gaussian':skewed_gaussian,\n",
    "             'skewed_voigt':skewed_voigt, 'step':step, 'rectangle':rectangle, \n",
    "             'exponential':exponential, 'powerlaw':powerlaw, \n",
    "             'linear':linear, 'parabolic':parabolic, 'sine':sine, \n",
    "             'expsine':expsine, 'split_lorentzian':split_lorentzian}"
   ]
  },
  {
   "cell_type": "code",
   "execution_count": 13,
   "metadata": {
    "collapsed": true,
    "jupyter": {
     "outputs_hidden": true
    }
   },
   "outputs": [
    {
     "name": "stdout",
     "output_type": "stream",
     "text": [
      "(101, 383, 1040)\n",
      "(14,) (14, 398320)\n",
      "Mon Jun 15 08:00:12 2020\n"
     ]
    },
    {
     "ename": "TypeError",
     "evalue": "unhashable type: 'numpy.ndarray'",
     "output_type": "error",
     "traceback": [
      "\u001b[0;31m---------------------------------------------------------------------------\u001b[0m",
      "\u001b[0;31mRemoteTraceback\u001b[0m                           Traceback (most recent call last)",
      "\u001b[0;31mRemoteTraceback\u001b[0m: \n\"\"\"\nTraceback (most recent call last):\n  File \"/home/xiao/software/anaconda3/envs/py37play/lib/python3.7/site-packages/multiprocess/pool.py\", line 121, in worker\n    result = (True, func(*args, **kwds))\n  File \"/home/xiao/software/anaconda3/envs/py37play/lib/python3.7/site-packages/multiprocess/pool.py\", line 47, in starmapstar\n    return list(itertools.starmap(args[0], args[1]))\n  File \"<ipython-input-13-b3dd8d09e536>\", line 23, in local_lsq\n    lsq(res, x0, **{y0:y0})\nTypeError: unhashable type: 'numpy.ndarray'\n\"\"\"",
      "\nThe above exception was the direct cause of the following exception:\n",
      "\u001b[0;31mTypeError\u001b[0m                                 Traceback (most recent call last)",
      "\u001b[0;32m<ipython-input-13-b3dd8d09e536>\u001b[0m in \u001b[0;36m<module>\u001b[0;34m\u001b[0m\n\u001b[1;32m     29\u001b[0m \u001b[0;31m############ multiprocessing\u001b[0m\u001b[0;34m\u001b[0m\u001b[0;34m\u001b[0m\u001b[0;34m\u001b[0m\u001b[0m\n\u001b[1;32m     30\u001b[0m \u001b[0;32mwith\u001b[0m \u001b[0mmp\u001b[0m\u001b[0;34m.\u001b[0m\u001b[0mPool\u001b[0m\u001b[0;34m(\u001b[0m\u001b[0mn_cpu\u001b[0m\u001b[0;34m-\u001b[0m\u001b[0;36m1\u001b[0m\u001b[0;34m)\u001b[0m \u001b[0;32mas\u001b[0m \u001b[0mpool\u001b[0m\u001b[0;34m:\u001b[0m\u001b[0;34m\u001b[0m\u001b[0;34m\u001b[0m\u001b[0m\n\u001b[0;32m---> 31\u001b[0;31m     \u001b[0mrlt\u001b[0m \u001b[0;34m=\u001b[0m \u001b[0mpool\u001b[0m\u001b[0;34m.\u001b[0m\u001b[0mstarmap\u001b[0m\u001b[0;34m(\u001b[0m\u001b[0mlocal_lsq\u001b[0m\u001b[0;34m,\u001b[0m \u001b[0;34m[\u001b[0m\u001b[0;34m(\u001b[0m\u001b[0mx\u001b[0m\u001b[0;34m,\u001b[0m \u001b[0my\u001b[0m\u001b[0;34m[\u001b[0m\u001b[0;34m:\u001b[0m\u001b[0;34m,\u001b[0m \u001b[0mii\u001b[0m\u001b[0;34m]\u001b[0m\u001b[0;34m)\u001b[0m \u001b[0;32mfor\u001b[0m \u001b[0mii\u001b[0m \u001b[0;32min\u001b[0m \u001b[0mnp\u001b[0m\u001b[0;34m.\u001b[0m\u001b[0mint32\u001b[0m\u001b[0;34m(\u001b[0m\u001b[0mnp\u001b[0m\u001b[0;34m.\u001b[0m\u001b[0marange\u001b[0m\u001b[0;34m(\u001b[0m\u001b[0mdim\u001b[0m\u001b[0;34m[\u001b[0m\u001b[0;36m1\u001b[0m\u001b[0;34m]\u001b[0m\u001b[0;34m*\u001b[0m\u001b[0mdim\u001b[0m\u001b[0;34m[\u001b[0m\u001b[0;36m2\u001b[0m\u001b[0;34m]\u001b[0m\u001b[0;34m)\u001b[0m\u001b[0;34m)\u001b[0m\u001b[0;34m]\u001b[0m\u001b[0;34m)\u001b[0m\u001b[0;34m\u001b[0m\u001b[0;34m\u001b[0m\u001b[0m\n\u001b[0m\u001b[1;32m     32\u001b[0m \u001b[0mpool\u001b[0m\u001b[0;34m.\u001b[0m\u001b[0mjoin\u001b[0m\u001b[0;34m(\u001b[0m\u001b[0;34m)\u001b[0m\u001b[0;34m\u001b[0m\u001b[0;34m\u001b[0m\u001b[0m\n\u001b[1;32m     33\u001b[0m \u001b[0mpool\u001b[0m\u001b[0;34m.\u001b[0m\u001b[0mclose\u001b[0m\u001b[0;34m(\u001b[0m\u001b[0;34m)\u001b[0m\u001b[0;34m\u001b[0m\u001b[0;34m\u001b[0m\u001b[0m\n",
      "\u001b[0;32m~/software/anaconda3/envs/py37play/lib/python3.7/site-packages/multiprocess/pool.py\u001b[0m in \u001b[0;36mstarmap\u001b[0;34m(self, func, iterable, chunksize)\u001b[0m\n\u001b[1;32m    274\u001b[0m         \u001b[0;31m`\u001b[0m\u001b[0mfunc\u001b[0m\u001b[0;31m`\u001b[0m \u001b[0;32mand\u001b[0m \u001b[0;34m(\u001b[0m\u001b[0ma\u001b[0m\u001b[0;34m,\u001b[0m \u001b[0mb\u001b[0m\u001b[0;34m)\u001b[0m \u001b[0mbecomes\u001b[0m \u001b[0mfunc\u001b[0m\u001b[0;34m(\u001b[0m\u001b[0ma\u001b[0m\u001b[0;34m,\u001b[0m \u001b[0mb\u001b[0m\u001b[0;34m)\u001b[0m\u001b[0;34m.\u001b[0m\u001b[0;34m\u001b[0m\u001b[0;34m\u001b[0m\u001b[0m\n\u001b[1;32m    275\u001b[0m         '''\n\u001b[0;32m--> 276\u001b[0;31m         \u001b[0;32mreturn\u001b[0m \u001b[0mself\u001b[0m\u001b[0;34m.\u001b[0m\u001b[0m_map_async\u001b[0m\u001b[0;34m(\u001b[0m\u001b[0mfunc\u001b[0m\u001b[0;34m,\u001b[0m \u001b[0miterable\u001b[0m\u001b[0;34m,\u001b[0m \u001b[0mstarmapstar\u001b[0m\u001b[0;34m,\u001b[0m \u001b[0mchunksize\u001b[0m\u001b[0;34m)\u001b[0m\u001b[0;34m.\u001b[0m\u001b[0mget\u001b[0m\u001b[0;34m(\u001b[0m\u001b[0;34m)\u001b[0m\u001b[0;34m\u001b[0m\u001b[0;34m\u001b[0m\u001b[0m\n\u001b[0m\u001b[1;32m    277\u001b[0m \u001b[0;34m\u001b[0m\u001b[0m\n\u001b[1;32m    278\u001b[0m     def starmap_async(self, func, iterable, chunksize=None, callback=None,\n",
      "\u001b[0;32m~/software/anaconda3/envs/py37play/lib/python3.7/site-packages/multiprocess/pool.py\u001b[0m in \u001b[0;36mget\u001b[0;34m(self, timeout)\u001b[0m\n\u001b[1;32m    655\u001b[0m             \u001b[0;32mreturn\u001b[0m \u001b[0mself\u001b[0m\u001b[0;34m.\u001b[0m\u001b[0m_value\u001b[0m\u001b[0;34m\u001b[0m\u001b[0;34m\u001b[0m\u001b[0m\n\u001b[1;32m    656\u001b[0m         \u001b[0;32melse\u001b[0m\u001b[0;34m:\u001b[0m\u001b[0;34m\u001b[0m\u001b[0;34m\u001b[0m\u001b[0m\n\u001b[0;32m--> 657\u001b[0;31m             \u001b[0;32mraise\u001b[0m \u001b[0mself\u001b[0m\u001b[0;34m.\u001b[0m\u001b[0m_value\u001b[0m\u001b[0;34m\u001b[0m\u001b[0;34m\u001b[0m\u001b[0m\n\u001b[0m\u001b[1;32m    658\u001b[0m \u001b[0;34m\u001b[0m\u001b[0m\n\u001b[1;32m    659\u001b[0m     \u001b[0;32mdef\u001b[0m \u001b[0m_set\u001b[0m\u001b[0;34m(\u001b[0m\u001b[0mself\u001b[0m\u001b[0;34m,\u001b[0m \u001b[0mi\u001b[0m\u001b[0;34m,\u001b[0m \u001b[0mobj\u001b[0m\u001b[0;34m)\u001b[0m\u001b[0;34m:\u001b[0m\u001b[0;34m\u001b[0m\u001b[0;34m\u001b[0m\u001b[0m\n",
      "\u001b[0;31mTypeError\u001b[0m: unhashable type: 'numpy.ndarray'"
     ]
    }
   ],
   "source": [
    "import h5py, os, time\n",
    "fn = '/media/xiao_usb/3D_trial_reg_scan_id_29773-29873_2020-06-01-20-38-09.h5'\n",
    "f = h5py.File(fn, 'r')\n",
    "#data = f['/registration_results/reg_results/registered_xanes3D'][:, 0, 50:200, 420:550]\n",
    "data = f['/registration_results/reg_results/registered_xanes3D'][:, 0, :, :]*1e4\n",
    "eng = f['/registration_results/reg_results/eng_list'][:]*1e3\n",
    "f.close()\n",
    "\n",
    "ids = list(np.arange(40, 54))\n",
    "x = eng[ids]\n",
    "y = data[ids, :].reshape([len(ids), -1])\n",
    "\n",
    "func = functions['lorentzian']   \n",
    "dim = data.shape\n",
    "print(dim)\n",
    "print(x.shape, y.shape)\n",
    "\n",
    "def res(x0, y0=None):\n",
    "    return func(x0) - y0\n",
    "    #rlt_t = lsq(func(x0)-y0, x0, bounds=(x0[0], x0[-1]))\n",
    "    #return rlt_t\n",
    "def local_lsq(x0, y0):\n",
    "    lsq(res, x0, **{y0:y0})\n",
    "\n",
    "n_cpu = os.cpu_count()\n",
    "pars_ini = {}\n",
    "#bnds = (x0[0], x0[-1])\n",
    "print(time.asctime())\n",
    "############ multiprocessing\n",
    "with mp.Pool(n_cpu-1) as pool:\n",
    "    rlt = pool.starmap(local_lsq, [(x, y[:, ii]) for ii in np.int32(np.arange(dim[1]*dim[2]))])\n",
    "pool.join()\n",
    "pool.close()\n",
    "print(time.asctime())"
   ]
  },
  {
   "cell_type": "code",
   "execution_count": 25,
   "metadata": {},
   "outputs": [],
   "source": [
    "\"\"\"\n",
    "The res definition here works but it IS WRONG in meanings. func is a Lorentzian lineshape defined in lmfit. Its first argument is x, and Lorentzian\n",
    "parmeters are defined as keywords with default values. The definition below assume the Lorentzian function has fixed parameters defined as their\n",
    "default values and fit x to minimize the the fitted value and the given value.\n",
    "\n",
    "To use lsq for curve fitting, we need to define a loss function in form of loss(func, fvars, x, y): return sum((func(fvars, x) - y)**2)\n",
    "\"\"\"\n",
    "def res(x0, *args):\n",
    "    return func(x0) - args[0]\n",
    "\n",
    "def local_lsq(x0, y0):\n",
    "    lsq(res, x0, args=(y0))\n",
    "    \n",
    "res(x, y[:, 0])\n",
    "r = lsq(res, (1, x[10], 2), args=(y[:, 0]))"
   ]
  },
  {
   "cell_type": "markdown",
   "metadata": {},
   "source": [
    "scipy.optimize.curve_fit"
   ]
  },
  {
   "cell_type": "code",
   "execution_count": null,
   "metadata": {},
   "outputs": [],
   "source": [
    "\"\"\"\n",
    "use scipy.optimize.curve_fit to fit experimental data\n",
    "The easiest way to do curve fitting is to use curve_fit. The loss function is defined internally.\n",
    "However, the convergence tolerance cannot be changed in curve_fit. The below case failed for exceeding\n",
    "maximum allowed iterations.\n",
    "\"\"\"\n",
    "%matplotlib qt\n",
    "import matplotlib.pyplot as plt\n",
    "import numpy as np\n",
    "from scipy.optimize import minimize, curve_fit, least_squares as lsq, lsq_linear, nnls\n",
    "import multiprocess as mp\n",
    "import h5py, os, time\n",
    "\n",
    "from lmfit.lineshapes import (gaussian, lorentzian, voigt, pvoigt, moffat, pearson7,\n",
    "                         breit_wigner, damped_oscillator, dho, logistic, lognormal,\n",
    "                         students_t, expgaussian, donaich, skewed_gaussian,\n",
    "                         skewed_voigt, step, rectangle,  \n",
    "                         exponential, powerlaw, linear, parabolic, sine, \n",
    "                         expsine, split_lorentzian)\n",
    "\n",
    "functions = {'gaussian':gaussian, 'lorentzian':lorentzian, 'voigt':voigt, \n",
    "             'pvoigt':pvoigt, 'moffat':moffat, 'pearson7':pearson7,\n",
    "             'breit_wigner':breit_wigner, 'damped_oscillator':damped_oscillator,\n",
    "             'dho':dho, 'logistic':logistic, 'lognormal':lognormal,\n",
    "             'students_t':students_t, 'expgaussian':expgaussian, \n",
    "             'donaich':donaich, 'skewed_gaussian':skewed_gaussian,\n",
    "             'skewed_voigt':skewed_voigt, 'step':step, 'rectangle':rectangle, \n",
    "             'exponential':exponential, 'powerlaw':powerlaw, \n",
    "             'linear':linear, 'parabolic':parabolic, 'sine':sine, \n",
    "             'expsine':expsine, 'split_lorentzian':split_lorentzian}"
   ]
  },
  {
   "cell_type": "code",
   "execution_count": 31,
   "metadata": {
    "collapsed": true,
    "jupyter": {
     "outputs_hidden": true
    }
   },
   "outputs": [
    {
     "name": "stdout",
     "output_type": "stream",
     "text": [
      "(101, 383, 1040)\n",
      "(14,) (14, 398320)\n",
      "Mon Jun 15 10:52:49 2020\n"
     ]
    },
    {
     "ename": "RuntimeError",
     "evalue": "Optimal parameters not found: The maximum number of function evaluations is exceeded.",
     "output_type": "error",
     "traceback": [
      "\u001b[0;31m---------------------------------------------------------------------------\u001b[0m",
      "\u001b[0;31mRemoteTraceback\u001b[0m                           Traceback (most recent call last)",
      "\u001b[0;31mRemoteTraceback\u001b[0m: \n\"\"\"\nTraceback (most recent call last):\n  File \"/home/xiao/software/anaconda3/envs/py37play/lib/python3.7/site-packages/multiprocess/pool.py\", line 121, in worker\n    result = (True, func(*args, **kwds))\n  File \"/home/xiao/software/anaconda3/envs/py37play/lib/python3.7/site-packages/multiprocess/pool.py\", line 47, in starmapstar\n    return list(itertools.starmap(args[0], args[1]))\n  File \"<ipython-input-31-f280cdcfa410>\", line 19, in fitting\n    curve_fit(func, x0, y0, p0=xinits, bounds=bnds)\n  File \"/home/xiao/software/anaconda3/envs/py37play/lib/python3.7/site-packages/scipy/optimize/minpack.py\", line 766, in curve_fit\n    raise RuntimeError(\"Optimal parameters not found: \" + res.message)\nRuntimeError: Optimal parameters not found: The maximum number of function evaluations is exceeded.\n\"\"\"",
      "\nThe above exception was the direct cause of the following exception:\n",
      "\u001b[0;31mRuntimeError\u001b[0m                              Traceback (most recent call last)",
      "\u001b[0;32m<ipython-input-31-f280cdcfa410>\u001b[0m in \u001b[0;36m<module>\u001b[0;34m\u001b[0m\n\u001b[1;32m     24\u001b[0m \u001b[0mn_cpu\u001b[0m \u001b[0;34m=\u001b[0m \u001b[0mos\u001b[0m\u001b[0;34m.\u001b[0m\u001b[0mcpu_count\u001b[0m\u001b[0;34m(\u001b[0m\u001b[0;34m)\u001b[0m\u001b[0;34m\u001b[0m\u001b[0;34m\u001b[0m\u001b[0m\n\u001b[1;32m     25\u001b[0m \u001b[0;32mwith\u001b[0m \u001b[0mmp\u001b[0m\u001b[0;34m.\u001b[0m\u001b[0mPool\u001b[0m\u001b[0;34m(\u001b[0m\u001b[0mn_cpu\u001b[0m \u001b[0;34m-\u001b[0m \u001b[0;36m1\u001b[0m\u001b[0;34m)\u001b[0m \u001b[0;32mas\u001b[0m \u001b[0mpool\u001b[0m\u001b[0;34m:\u001b[0m\u001b[0;34m\u001b[0m\u001b[0;34m\u001b[0m\u001b[0m\n\u001b[0;32m---> 26\u001b[0;31m     \u001b[0mrlt\u001b[0m \u001b[0;34m=\u001b[0m \u001b[0mpool\u001b[0m\u001b[0;34m.\u001b[0m\u001b[0mstarmap\u001b[0m\u001b[0;34m(\u001b[0m\u001b[0mfitting\u001b[0m\u001b[0;34m,\u001b[0m \u001b[0;34m[\u001b[0m\u001b[0;34m(\u001b[0m\u001b[0mfunc\u001b[0m\u001b[0;34m,\u001b[0m \u001b[0mx\u001b[0m\u001b[0;34m,\u001b[0m \u001b[0my\u001b[0m\u001b[0;34m[\u001b[0m\u001b[0;34m:\u001b[0m\u001b[0;34m,\u001b[0m\u001b[0mii\u001b[0m\u001b[0;34m]\u001b[0m\u001b[0;34m,\u001b[0m \u001b[0;34m(\u001b[0m\u001b[0;36m1\u001b[0m\u001b[0;34m,\u001b[0m \u001b[0mx\u001b[0m\u001b[0;34m[\u001b[0m\u001b[0;36m10\u001b[0m\u001b[0;34m]\u001b[0m\u001b[0;34m,\u001b[0m \u001b[0;36m2\u001b[0m\u001b[0;34m)\u001b[0m\u001b[0;34m,\u001b[0m \u001b[0mbnds\u001b[0m\u001b[0;34m)\u001b[0m \u001b[0;32mfor\u001b[0m \u001b[0mii\u001b[0m \u001b[0;32min\u001b[0m \u001b[0mnp\u001b[0m\u001b[0;34m.\u001b[0m\u001b[0mint32\u001b[0m\u001b[0;34m(\u001b[0m\u001b[0mnp\u001b[0m\u001b[0;34m.\u001b[0m\u001b[0marange\u001b[0m\u001b[0;34m(\u001b[0m\u001b[0mdim\u001b[0m\u001b[0;34m[\u001b[0m\u001b[0;36m1\u001b[0m\u001b[0;34m]\u001b[0m\u001b[0;34m*\u001b[0m\u001b[0mdim\u001b[0m\u001b[0;34m[\u001b[0m\u001b[0;36m2\u001b[0m\u001b[0;34m]\u001b[0m\u001b[0;34m)\u001b[0m\u001b[0;34m)\u001b[0m\u001b[0;34m]\u001b[0m\u001b[0;34m)\u001b[0m\u001b[0;34m\u001b[0m\u001b[0;34m\u001b[0m\u001b[0m\n\u001b[0m\u001b[1;32m     27\u001b[0m \u001b[0mpool\u001b[0m\u001b[0;34m.\u001b[0m\u001b[0mclose\u001b[0m\u001b[0;34m(\u001b[0m\u001b[0;34m)\u001b[0m\u001b[0;34m\u001b[0m\u001b[0;34m\u001b[0m\u001b[0m\n\u001b[1;32m     28\u001b[0m \u001b[0mpool\u001b[0m\u001b[0;34m.\u001b[0m\u001b[0mjoin\u001b[0m\u001b[0;34m(\u001b[0m\u001b[0;34m)\u001b[0m\u001b[0;34m\u001b[0m\u001b[0;34m\u001b[0m\u001b[0m\n",
      "\u001b[0;32m~/software/anaconda3/envs/py37play/lib/python3.7/site-packages/multiprocess/pool.py\u001b[0m in \u001b[0;36mstarmap\u001b[0;34m(self, func, iterable, chunksize)\u001b[0m\n\u001b[1;32m    274\u001b[0m         \u001b[0;31m`\u001b[0m\u001b[0mfunc\u001b[0m\u001b[0;31m`\u001b[0m \u001b[0;32mand\u001b[0m \u001b[0;34m(\u001b[0m\u001b[0ma\u001b[0m\u001b[0;34m,\u001b[0m \u001b[0mb\u001b[0m\u001b[0;34m)\u001b[0m \u001b[0mbecomes\u001b[0m \u001b[0mfunc\u001b[0m\u001b[0;34m(\u001b[0m\u001b[0ma\u001b[0m\u001b[0;34m,\u001b[0m \u001b[0mb\u001b[0m\u001b[0;34m)\u001b[0m\u001b[0;34m.\u001b[0m\u001b[0;34m\u001b[0m\u001b[0;34m\u001b[0m\u001b[0m\n\u001b[1;32m    275\u001b[0m         '''\n\u001b[0;32m--> 276\u001b[0;31m         \u001b[0;32mreturn\u001b[0m \u001b[0mself\u001b[0m\u001b[0;34m.\u001b[0m\u001b[0m_map_async\u001b[0m\u001b[0;34m(\u001b[0m\u001b[0mfunc\u001b[0m\u001b[0;34m,\u001b[0m \u001b[0miterable\u001b[0m\u001b[0;34m,\u001b[0m \u001b[0mstarmapstar\u001b[0m\u001b[0;34m,\u001b[0m \u001b[0mchunksize\u001b[0m\u001b[0;34m)\u001b[0m\u001b[0;34m.\u001b[0m\u001b[0mget\u001b[0m\u001b[0;34m(\u001b[0m\u001b[0;34m)\u001b[0m\u001b[0;34m\u001b[0m\u001b[0;34m\u001b[0m\u001b[0m\n\u001b[0m\u001b[1;32m    277\u001b[0m \u001b[0;34m\u001b[0m\u001b[0m\n\u001b[1;32m    278\u001b[0m     def starmap_async(self, func, iterable, chunksize=None, callback=None,\n",
      "\u001b[0;32m~/software/anaconda3/envs/py37play/lib/python3.7/site-packages/multiprocess/pool.py\u001b[0m in \u001b[0;36mget\u001b[0;34m(self, timeout)\u001b[0m\n\u001b[1;32m    655\u001b[0m             \u001b[0;32mreturn\u001b[0m \u001b[0mself\u001b[0m\u001b[0;34m.\u001b[0m\u001b[0m_value\u001b[0m\u001b[0;34m\u001b[0m\u001b[0;34m\u001b[0m\u001b[0m\n\u001b[1;32m    656\u001b[0m         \u001b[0;32melse\u001b[0m\u001b[0;34m:\u001b[0m\u001b[0;34m\u001b[0m\u001b[0;34m\u001b[0m\u001b[0m\n\u001b[0;32m--> 657\u001b[0;31m             \u001b[0;32mraise\u001b[0m \u001b[0mself\u001b[0m\u001b[0;34m.\u001b[0m\u001b[0m_value\u001b[0m\u001b[0;34m\u001b[0m\u001b[0;34m\u001b[0m\u001b[0m\n\u001b[0m\u001b[1;32m    658\u001b[0m \u001b[0;34m\u001b[0m\u001b[0m\n\u001b[1;32m    659\u001b[0m     \u001b[0;32mdef\u001b[0m \u001b[0m_set\u001b[0m\u001b[0;34m(\u001b[0m\u001b[0mself\u001b[0m\u001b[0;34m,\u001b[0m \u001b[0mi\u001b[0m\u001b[0;34m,\u001b[0m \u001b[0mobj\u001b[0m\u001b[0;34m)\u001b[0m\u001b[0;34m:\u001b[0m\u001b[0;34m\u001b[0m\u001b[0;34m\u001b[0m\u001b[0m\n",
      "\u001b[0;31mRuntimeError\u001b[0m: Optimal parameters not found: The maximum number of function evaluations is exceeded."
     ]
    }
   ],
   "source": [
    "import h5py, os, time\n",
    "fn = '/media/xiao_usb/3D_trial_reg_scan_id_29773-29873_2020-06-01-20-38-09.h5'\n",
    "f = h5py.File(fn, 'r')\n",
    "#data = f['/registration_results/reg_results/registered_xanes3D'][:, 0, 50:200, 420:550]\n",
    "data = f['/registration_results/reg_results/registered_xanes3D'][:, 0, :, :]*1e4\n",
    "eng = f['/registration_results/reg_results/eng_list'][:]*1e3\n",
    "f.close()\n",
    "\n",
    "ids = list(np.arange(40, 54))\n",
    "x = eng[ids]\n",
    "y = data[ids, :].reshape([len(ids), -1])\n",
    "\n",
    "func = functions['lorentzian']   \n",
    "dim = data.shape\n",
    "print(dim)\n",
    "print(x.shape, y.shape)\n",
    "\n",
    "def fitting(func, x0, y0, xinits, bnds=None):\n",
    "    curve_fit(func, x0, y0, p0=xinits, bounds=bnds)\n",
    "\n",
    "print(time.asctime())\n",
    "\n",
    "bnds = ((0.01, x[0], 0.1), (5, x[-1], 13))\n",
    "n_cpu = os.cpu_count()\n",
    "with mp.Pool(n_cpu - 1) as pool:\n",
    "    rlt = pool.starmap(fitting, [(func, x, y[:,ii], (1, x[10], 2), bnds) for ii in np.int32(np.arange(dim[1]*dim[2]))])\n",
    "pool.close()\n",
    "pool.join()\n",
    "\n",
    "print(time.asctime())"
   ]
  },
  {
   "cell_type": "markdown",
   "metadata": {},
   "source": [
    "define a customized curve fitting function with scipy.optimize.least_squares"
   ]
  },
  {
   "cell_type": "code",
   "execution_count": 34,
   "metadata": {},
   "outputs": [],
   "source": [
    "\"\"\"\n",
    "use scipy.optimize.curve_fit to fit experimental data\n",
    "The easiest way to do curve fitting is to use curve_fit. The loss function is defined internally.\n",
    "However, the convergence tolerance cannot be changed in curve_fit. The below case failed for exceeding\n",
    "maximum allowed iterations.\n",
    "\"\"\"\n",
    "%matplotlib qt\n",
    "import matplotlib.pyplot as plt\n",
    "import numpy as np\n",
    "from scipy.optimize import minimize, curve_fit, least_squares as lsq, lsq_linear, nnls\n",
    "import multiprocess as mp\n",
    "import h5py, os, time\n",
    "\n",
    "from lmfit.lineshapes import (gaussian, lorentzian, voigt, pvoigt, moffat, pearson7,\n",
    "                         breit_wigner, damped_oscillator, dho, logistic, lognormal,\n",
    "                         students_t, expgaussian, donaich, skewed_gaussian,\n",
    "                         skewed_voigt, step, rectangle,  \n",
    "                         exponential, powerlaw, linear, parabolic, sine, \n",
    "                         expsine, split_lorentzian)\n",
    "\n",
    "functions = {'gaussian':gaussian, 'lorentzian':lorentzian, 'voigt':voigt, \n",
    "             'pvoigt':pvoigt, 'moffat':moffat, 'pearson7':pearson7,\n",
    "             'breit_wigner':breit_wigner, 'damped_oscillator':damped_oscillator,\n",
    "             'dho':dho, 'logistic':logistic, 'lognormal':lognormal,\n",
    "             'students_t':students_t, 'expgaussian':expgaussian, \n",
    "             'donaich':donaich, 'skewed_gaussian':skewed_gaussian,\n",
    "             'skewed_voigt':skewed_voigt, 'step':step, 'rectangle':rectangle, \n",
    "             'exponential':exponential, 'powerlaw':powerlaw, \n",
    "             'linear':linear, 'parabolic':parabolic, 'sine':sine, \n",
    "             'expsine':expsine, 'split_lorentzian':split_lorentzian}"
   ]
  },
  {
   "cell_type": "code",
   "execution_count": 50,
   "metadata": {},
   "outputs": [
    {
     "name": "stdout",
     "output_type": "stream",
     "text": [
      "(101, 383, 1040)\n",
      "(14,) (14, 398320)\n",
      "Mon Jun 15 22:02:17 2020\n",
      "Mon Jun 15 22:03:19 2020\n"
     ]
    }
   ],
   "source": [
    "fn = '/media/xiao_usb/3D_trial_reg_scan_id_29773-29873_2020-06-01-20-38-09.h5'\n",
    "f = h5py.File(fn, 'r')\n",
    "#data = f['/registration_results/reg_results/registered_xanes3D'][:, 0, 50:200, 420:550]\n",
    "data = f['/registration_results/reg_results/registered_xanes3D'][:, 0, :, :]*1e4\n",
    "eng = f['/registration_results/reg_results/eng_list'][:]*1e3\n",
    "f.close()\n",
    "\n",
    "ids = list(np.arange(40, 54))\n",
    "x = eng[ids]\n",
    "y = data[ids, :].reshape([len(ids), -1])\n",
    "\n",
    "func = functions['lorentzian']   \n",
    "dim = data.shape\n",
    "print(dim)\n",
    "print(x.shape, y.shape)\n",
    "\n",
    "def f(fvars, func, x, y):\n",
    "    return (func(x, fvars[0], fvars[1], fvars[2]) - y)\n",
    "\n",
    "def my_lsq(f, fvars, func, x, y, bnds, ftol, xtol):\n",
    "    #return lsq(f, fvars, bounds=bnds, ftol=ftol, xtol=xtol, args=(func, x, y))\n",
    "    return lsq(f, fvars, ftol=ftol, xtol=xtol, args=(func, x, y))\n",
    "\n",
    "print(time.asctime())\n",
    "\n",
    "bnds = ([0.01, x[0], 0.1], [5, x[-1], 13])\n",
    "ftol = 1e-7\n",
    "xtol = 1e-7\n",
    "n_cpu = os.cpu_count()\n",
    "with mp.Pool(n_cpu - 1) as pool:\n",
    "    rlt = pool.starmap(my_lsq, [(f, (1, x[10], 2), func, x, y[:, ii], bnds, ftol, xtol) for ii in np.int32(np.arange(dim[1]*dim[2]))])\n",
    "pool.close()\n",
    "pool.join()\n",
    "\n",
    "print(time.asctime())"
   ]
  },
  {
   "cell_type": "code",
   "execution_count": 68,
   "metadata": {},
   "outputs": [
    {
     "name": "stdout",
     "output_type": "stream",
     "text": [
      " active_mask: array([0., 0., 0.])\n",
      "        cost: 115.13583374023438\n",
      "         fun: array([-3.6105313, -2.6567092, -4.0474324, -2.8279493, -3.762611 ,\n",
      "       -3.474504 , -6.886277 , -4.192997 , -3.652342 , -4.9720206,\n",
      "       -6.003239 , -1.748344 , -2.124915 , -3.5910625], dtype=float32)\n",
      "        grad: array([0., 0., 0.])\n",
      "         jac: array([[0., 0., 0.],\n",
      "       [0., 0., 0.],\n",
      "       [0., 0., 0.],\n",
      "       [0., 0., 0.],\n",
      "       [0., 0., 0.],\n",
      "       [0., 0., 0.],\n",
      "       [0., 0., 0.],\n",
      "       [0., 0., 0.],\n",
      "       [0., 0., 0.],\n",
      "       [0., 0., 0.],\n",
      "       [0., 0., 0.],\n",
      "       [0., 0., 0.],\n",
      "       [0., 0., 0.],\n",
      "       [0., 0., 0.]])\n",
      "     message: '`gtol` termination condition is satisfied.'\n",
      "        nfev: 1\n",
      "        njev: 1\n",
      "  optimality: 0.0\n",
      "      status: 1\n",
      "     success: True\n",
      "           x: array([1.00000000e+00, 8.35198828e+03, 2.00000000e+00])\n",
      "[-3.2673974 -6.8749404 -2.3300834 -6.7442718 -5.4636497 -4.573359\n",
      " -2.9513004 -6.435964  -7.0283213 -3.3106365 -2.4589443 -5.1177034\n",
      " -4.0046678 -3.4856863]\n"
     ]
    }
   ],
   "source": [
    "def f(fvars, func, x, y):\n",
    "    return (func(x, fvars[0], fvars[1], fvars[2]) - y)\n",
    "\n",
    "def my_lsq(f, fvars, func, x, y, bnds, ftol, xtol):\n",
    "    return lsq(f, fvars, bounds=bnds, ftol=ftol, xtol=xtol, args=(func, x, y))\n",
    "    #return lsq(f, fvars, args=(func, x, y))\n",
    "bnds = (-np.inf, np.inf)\n",
    "r1 = my_lsq(f, (1, x[10], 2), func, x, y[:, 1000], bnds, ftol, xtol)\n",
    "fr = f((1, x[10], 2), func, x, y[:, 0])\n",
    "#func(x, 1, x[10], 2)\n",
    "print(r1)\n",
    "print(fr)"
   ]
  },
  {
   "cell_type": "code",
   "execution_count": 56,
   "metadata": {},
   "outputs": [
    {
     "name": "stdout",
     "output_type": "stream",
     "text": [
      " active_mask: array([0, 0, 0])\n",
      "        cost: 244.14503479003906\n",
      "         fun: array([22.097286], dtype=float32)\n",
      "        grad: array([0., 0., 0.])\n",
      "         jac: array([[0., 0., 0.]])\n",
      "     message: '`gtol` termination condition is satisfied.'\n",
      "        nfev: 1\n",
      "        njev: 1\n",
      "  optimality: 0.0\n",
      "      status: 1\n",
      "     success: True\n",
      "           x: array([1.00000000e+00, 8.35198828e+03, 2.00000000e+00])\n"
     ]
    }
   ],
   "source": [
    "print(rlt[12100])"
   ]
  },
  {
   "cell_type": "code",
   "execution_count": null,
   "metadata": {},
   "outputs": [],
   "source": []
  }
 ],
 "metadata": {
  "kernelspec": {
   "display_name": "Python 3",
   "language": "python",
   "name": "python3"
  },
  "language_info": {
   "codemirror_mode": {
    "name": "ipython",
    "version": 3
   },
   "file_extension": ".py",
   "mimetype": "text/x-python",
   "name": "python",
   "nbconvert_exporter": "python",
   "pygments_lexer": "ipython3",
   "version": "3.7.4"
  }
 },
 "nbformat": 4,
 "nbformat_minor": 4
}
