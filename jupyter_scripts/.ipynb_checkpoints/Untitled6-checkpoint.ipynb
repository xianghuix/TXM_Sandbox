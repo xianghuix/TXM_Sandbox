{
 "cells": [
  {
   "cell_type": "code",
   "execution_count": 3,
   "metadata": {},
   "outputs": [],
   "source": [
    "%gui qt\n",
    "import os\n",
    "import numpy as np\n",
    "\n",
    "from pathlib import Path\n",
    "import h5py, tifffile\n",
    "import matplotlib.pyplot as plt\n",
    "import ipywidgets as widgets\n",
    "from IPython.display import display\n",
    "\n",
    "from image_alignment import align_images as ai"
   ]
  },
  {
   "cell_type": "markdown",
   "metadata": {},
   "source": [
    "# ***1. read data***"
   ]
  },
  {
   "cell_type": "code",
   "execution_count": 4,
   "metadata": {},
   "outputs": [],
   "source": [
    "data_center_path = \"/media/Disk2/data/JingShi_2020_Sept/data_center\"\n",
    "\n",
    "'''\n",
    "dpath = '/media/Disk2/data/JingShi_2020_Sept/raw'\n",
    "refn = os.path.join(dpath, 'PbIBrCsRb_xrf_tomo_cr.tif_pcc_TRANSLATION.h5_sr_TRANSLATION.h5')\n",
    "tgtn = os.path.join(dpath, 'PbIBrCsRb_xrf_tomo_i.tif')\n",
    "itr = 99\n",
    "'''\n",
    "\n",
    "basename = 'PbIBrCsRb_xrf_tomo_cr.tif'\n",
    "#basename = 'PbIBrCsRb_xrf_tomo_cr.tif_pcc_TRANSLATION.h5'\n",
    "dpath = '/media/Disk2/data/JingShi_2020_Sept/raw/'\n",
    "dfn = Path(os.path.join(dpath, f'{basename}'))\n",
    "ofn = Path(f'/media/Disk2/data/JingShi_2020_Sept/raw/{basename}_combo_alignment.h5')\n",
    "\n",
    "ref = np.zeros([200, 66, 256])\n",
    "if basename.split('.')[-1] == 'h5':\n",
    "    with h5py.File(dfn, 'r') as f:\n",
    "        #imgs[:, :34, 28:228] = f['/proj_corr/corrected_proj/iter_00_shifted_images'][:, :34, :]\n",
    "        #imgs[:, 38:66, 28:228] = f['/proj_corr/corrected_proj/iter_00_shifted_images'][:, 38:66, :]\n",
    "        ref[:] = f['/proj_corr/corrected_proj/iter_00_shifted_images'][:]\n",
    "elif basename.split('.')[-1] == 'tif':\n",
    "    ref[:, :62, 28:228] = np.swapaxes(tifffile.imread(dfn), 0, 1)[:]\n",
    "    ref[:, 38:66, 28:228] = ref[:, 34:62, 28:228] \n",
    "    ref[:, 34:38, 28:228] = 0\n",
    "    \n",
    "angs = np.linspace(74, -58, num=66, endpoint=True)*np.pi/180"
   ]
  },
  {
   "cell_type": "markdown",
   "metadata": {},
   "source": [
    "# ***2. align images***"
   ]
  },
  {
   "cell_type": "code",
   "execution_count": null,
   "metadata": {},
   "outputs": [],
   "source": [
    "aier = ai(data_order='astra')\n",
    "aier.set_data(self, ref, angs)\n",
    "aier.set_rec_alg('astra_cgls', **{})\n",
    "aier.corr_cfg = {0:{'cor_name':'pc', 'sub_itr':1, 'cfg':{'mask_thres':1e-2}},\n",
    "                 1:{'cor_name':'sr', 'sub_itr':1, 'cfg':{'mode':'RIGID_BODY'}}}\n",
    "aier.proj_cfg = {'prj_name':'astra', 'cfg':{'proj_geom':None, 'vol_geom':None}}"
   ]
  }
 ],
 "metadata": {
  "kernelspec": {
   "display_name": "Python 3",
   "language": "python",
   "name": "python3"
  },
  "language_info": {
   "codemirror_mode": {
    "name": "ipython",
    "version": 3
   },
   "file_extension": ".py",
   "mimetype": "text/x-python",
   "name": "python",
   "nbconvert_exporter": "python",
   "pygments_lexer": "ipython3",
   "version": "3.7.7"
  }
 },
 "nbformat": 4,
 "nbformat_minor": 4
}
