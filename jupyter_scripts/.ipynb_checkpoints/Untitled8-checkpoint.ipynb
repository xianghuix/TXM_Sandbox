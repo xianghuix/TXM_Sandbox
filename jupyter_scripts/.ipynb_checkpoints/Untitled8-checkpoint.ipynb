{
 "cells": [
  {
   "cell_type": "code",
   "execution_count": null,
   "metadata": {},
   "outputs": [],
   "source": [
    "import numpy as np\n",
    "import imagej\n",
    "import time\n",
    "\n",
    "ij = imagej.init('/home/xiao/software/Fiji.app', headless=False)\n",
    "ijui = ij.ui()\n",
    "ijui.showUI()\n",
    "\n",
    "from jnius import autoclass\n",
    "WindowManager = autoclass('ij.WindowManager')\n",
    "ImagePlusClass = autoclass('ij.ImagePlus')"
   ]
  },
  {
   "cell_type": "code",
   "execution_count": null,
   "metadata": {},
   "outputs": [],
   "source": [
    "help(np.random.randint)"
   ]
  },
  {
   "cell_type": "code",
   "execution_count": null,
   "metadata": {},
   "outputs": [],
   "source": [
    "img1 = np.random.randn(60, 2000, 1811).astype(np.float64)\n",
    "ijui.show(ij.py.to_java(img1))\n",
    "viewer_ip = WindowManager.getCurrentImage()"
   ]
  },
  {
   "cell_type": "code",
   "execution_count": null,
   "metadata": {},
   "outputs": [],
   "source": [
    "from ipywidgets import widgets\n",
    "from IPython.display import display\n",
    "slider = widgets.IntSlider(value=0, min=1, max=60)\n",
    "tab1 = widgets.Tab()\n",
    "box2 = widgets.VBox()\n",
    "tab1.children = [box2]\n",
    "tab1.set_title(0, 'box2')\n",
    "box2.children = [slider]\n",
    "\n",
    "def show(a):\n",
    "    viewer_ip.setSlice(a['owner'].value)\n",
    "\n",
    "slider.observe(show, names='value')\n",
    "display(tab1)"
   ]
  },
  {
   "cell_type": "code",
   "execution_count": null,
   "metadata": {},
   "outputs": [],
   "source": [
    "for i in range(1000):\n",
    "    #img2 = np.random.randn(512, 512).astype(np.float64)\n",
    "    #viewer_ip.setImage(ij.convert().convert(ij.dataset().create(ij.py.to_java(img2)), ImagePlusClass))\n",
    "    #viewer_ip.setSlice(np.random.randint(1, 40))\n",
    "    slider.value = (np.random.randint(1, 40))\n",
    "    sli = slider.value\n",
    "    viewer_ip.setSlice(sli)\n",
    "    #time.sleep(0.1)\n",
    "    "
   ]
  },
  {
   "cell_type": "code",
   "execution_count": null,
   "metadata": {},
   "outputs": [],
   "source": [
    "print(viewer_ip.currentSlice)"
   ]
  },
  {
   "cell_type": "code",
   "execution_count": 74,
   "metadata": {},
   "outputs": [],
   "source": [
    "%matplotlib qt\n",
    "import h5py\n",
    "import lmfit, numpy as np\n",
    "import matplotlib.pyplot as plt\n",
    "import multiprocessing as mp"
   ]
  },
  {
   "cell_type": "code",
   "execution_count": 23,
   "metadata": {},
   "outputs": [],
   "source": [
    "fn = '/media/xiao_usb/3D_trial_reg_scan_id_29773-29873_2020-06-01-20-38-09.h5'\n",
    "f = h5py.File(fn, 'r')\n",
    "data = f['/registration_results/reg_results/registered_xanes3D'][:, 0, 50:200, 420:550]\n",
    "eng = f['/registration_results/reg_results/eng_list'][:]*1e3\n",
    "f.close()"
   ]
  },
  {
   "cell_type": "code",
   "execution_count": 17,
   "metadata": {},
   "outputs": [
    {
     "data": {
      "text/plain": [
       "[<matplotlib.lines.Line2D at 0x7fa61036d2d0>]"
      ]
     },
     "execution_count": 17,
     "metadata": {},
     "output_type": "execute_result"
    }
   ],
   "source": [
    "plt.figure(0)\n",
    "plt.imshow(data[50])\n",
    "plt.figure(1)\n",
    "plt.imshow(data[50, 50:70, 70:90])\n",
    "plt.figure(2)\n",
    "plt.plot(data[:, 50:70, 70:90].mean(axis=(1,2)))"
   ]
  },
  {
   "cell_type": "code",
   "execution_count": 76,
   "metadata": {
    "collapsed": true,
    "jupyter": {
     "outputs_hidden": true
    }
   },
   "outputs": [
    {
     "name": "stdout",
     "output_type": "stream",
     "text": [
      "Mon Jun  8 14:27:22 2020\n"
     ]
    },
    {
     "name": "stderr",
     "output_type": "stream",
     "text": [
      "/home/xiao/software/anaconda3/envs/pyimagej/lib/python3.7/site-packages/ipykernel_launcher.py:6: RuntimeWarning: Mean of empty slice.\n",
      "  \n"
     ]
    },
    {
     "ename": "AttributeError",
     "evalue": "Can't pickle local object 'CompositeModel.__init__.<locals>._tmp'",
     "output_type": "error",
     "traceback": [
      "\u001b[0;31m---------------------------------------------------------------------------\u001b[0m",
      "\u001b[0;31mAttributeError\u001b[0m                            Traceback (most recent call last)",
      "\u001b[0;32m<ipython-input-76-9614bfe224a8>\u001b[0m in \u001b[0;36m<module>\u001b[0;34m\u001b[0m\n\u001b[1;32m     31\u001b[0m \u001b[0;34m\u001b[0m\u001b[0m\n\u001b[1;32m     32\u001b[0m \u001b[0;32mwith\u001b[0m \u001b[0mmp\u001b[0m\u001b[0;34m.\u001b[0m\u001b[0mPool\u001b[0m\u001b[0;34m(\u001b[0m\u001b[0;34m)\u001b[0m \u001b[0;32mas\u001b[0m \u001b[0mpool\u001b[0m\u001b[0;34m:\u001b[0m\u001b[0;34m\u001b[0m\u001b[0;34m\u001b[0m\u001b[0m\n\u001b[0;32m---> 33\u001b[0;31m     \u001b[0mpool\u001b[0m\u001b[0;34m.\u001b[0m\u001b[0mstarmap\u001b[0m\u001b[0;34m(\u001b[0m\u001b[0mmod\u001b[0m\u001b[0;34m.\u001b[0m\u001b[0mfit\u001b[0m\u001b[0;34m,\u001b[0m \u001b[0;34m[\u001b[0m\u001b[0;34m(\u001b[0m\u001b[0mdata\u001b[0m\u001b[0;34m.\u001b[0m\u001b[0mreshape\u001b[0m\u001b[0;34m(\u001b[0m\u001b[0;34m[\u001b[0m\u001b[0mdim\u001b[0m\u001b[0;34m[\u001b[0m\u001b[0;36m0\u001b[0m\u001b[0;34m]\u001b[0m\u001b[0;34m,\u001b[0m \u001b[0;34m-\u001b[0m\u001b[0;36m1\u001b[0m\u001b[0;34m]\u001b[0m\u001b[0;34m)\u001b[0m\u001b[0;34m[\u001b[0m\u001b[0mids\u001b[0m\u001b[0;34m,\u001b[0m \u001b[0mii\u001b[0m\u001b[0;34m]\u001b[0m\u001b[0;34m,\u001b[0m \u001b[0mpars\u001b[0m\u001b[0;34m,\u001b[0m \u001b[0mx\u001b[0m\u001b[0;34m)\u001b[0m \u001b[0;32mfor\u001b[0m \u001b[0mii\u001b[0m \u001b[0;32min\u001b[0m \u001b[0mnp\u001b[0m\u001b[0;34m.\u001b[0m\u001b[0mint32\u001b[0m\u001b[0;34m(\u001b[0m\u001b[0mnp\u001b[0m\u001b[0;34m.\u001b[0m\u001b[0marange\u001b[0m\u001b[0;34m(\u001b[0m\u001b[0;36m150\u001b[0m\u001b[0;34m*\u001b[0m\u001b[0;36m130\u001b[0m\u001b[0;34m)\u001b[0m\u001b[0;34m)\u001b[0m\u001b[0;34m]\u001b[0m\u001b[0;34m)\u001b[0m\u001b[0;34m\u001b[0m\u001b[0;34m\u001b[0m\u001b[0m\n\u001b[0m\u001b[1;32m     34\u001b[0m \u001b[0;34m\u001b[0m\u001b[0m\n\u001b[1;32m     35\u001b[0m \u001b[0;31m#for ii in range(150*130):\u001b[0m\u001b[0;34m\u001b[0m\u001b[0;34m\u001b[0m\u001b[0;34m\u001b[0m\u001b[0m\n",
      "\u001b[0;32m~/software/anaconda3/envs/pyimagej/lib/python3.7/multiprocessing/pool.py\u001b[0m in \u001b[0;36mstarmap\u001b[0;34m(self, func, iterable, chunksize)\u001b[0m\n\u001b[1;32m    274\u001b[0m         \u001b[0;31m`\u001b[0m\u001b[0mfunc\u001b[0m\u001b[0;31m`\u001b[0m \u001b[0;32mand\u001b[0m \u001b[0;34m(\u001b[0m\u001b[0ma\u001b[0m\u001b[0;34m,\u001b[0m \u001b[0mb\u001b[0m\u001b[0;34m)\u001b[0m \u001b[0mbecomes\u001b[0m \u001b[0mfunc\u001b[0m\u001b[0;34m(\u001b[0m\u001b[0ma\u001b[0m\u001b[0;34m,\u001b[0m \u001b[0mb\u001b[0m\u001b[0;34m)\u001b[0m\u001b[0;34m.\u001b[0m\u001b[0;34m\u001b[0m\u001b[0;34m\u001b[0m\u001b[0m\n\u001b[1;32m    275\u001b[0m         '''\n\u001b[0;32m--> 276\u001b[0;31m         \u001b[0;32mreturn\u001b[0m \u001b[0mself\u001b[0m\u001b[0;34m.\u001b[0m\u001b[0m_map_async\u001b[0m\u001b[0;34m(\u001b[0m\u001b[0mfunc\u001b[0m\u001b[0;34m,\u001b[0m \u001b[0miterable\u001b[0m\u001b[0;34m,\u001b[0m \u001b[0mstarmapstar\u001b[0m\u001b[0;34m,\u001b[0m \u001b[0mchunksize\u001b[0m\u001b[0;34m)\u001b[0m\u001b[0;34m.\u001b[0m\u001b[0mget\u001b[0m\u001b[0;34m(\u001b[0m\u001b[0;34m)\u001b[0m\u001b[0;34m\u001b[0m\u001b[0;34m\u001b[0m\u001b[0m\n\u001b[0m\u001b[1;32m    277\u001b[0m \u001b[0;34m\u001b[0m\u001b[0m\n\u001b[1;32m    278\u001b[0m     def starmap_async(self, func, iterable, chunksize=None, callback=None,\n",
      "\u001b[0;32m~/software/anaconda3/envs/pyimagej/lib/python3.7/multiprocessing/pool.py\u001b[0m in \u001b[0;36mget\u001b[0;34m(self, timeout)\u001b[0m\n\u001b[1;32m    655\u001b[0m             \u001b[0;32mreturn\u001b[0m \u001b[0mself\u001b[0m\u001b[0;34m.\u001b[0m\u001b[0m_value\u001b[0m\u001b[0;34m\u001b[0m\u001b[0;34m\u001b[0m\u001b[0m\n\u001b[1;32m    656\u001b[0m         \u001b[0;32melse\u001b[0m\u001b[0;34m:\u001b[0m\u001b[0;34m\u001b[0m\u001b[0;34m\u001b[0m\u001b[0m\n\u001b[0;32m--> 657\u001b[0;31m             \u001b[0;32mraise\u001b[0m \u001b[0mself\u001b[0m\u001b[0;34m.\u001b[0m\u001b[0m_value\u001b[0m\u001b[0;34m\u001b[0m\u001b[0;34m\u001b[0m\u001b[0m\n\u001b[0m\u001b[1;32m    658\u001b[0m \u001b[0;34m\u001b[0m\u001b[0m\n\u001b[1;32m    659\u001b[0m     \u001b[0;32mdef\u001b[0m \u001b[0m_set\u001b[0m\u001b[0;34m(\u001b[0m\u001b[0mself\u001b[0m\u001b[0;34m,\u001b[0m \u001b[0mi\u001b[0m\u001b[0;34m,\u001b[0m \u001b[0mobj\u001b[0m\u001b[0;34m)\u001b[0m\u001b[0;34m:\u001b[0m\u001b[0;34m\u001b[0m\u001b[0;34m\u001b[0m\u001b[0m\n",
      "\u001b[0;32m~/software/anaconda3/envs/pyimagej/lib/python3.7/multiprocessing/pool.py\u001b[0m in \u001b[0;36m_handle_tasks\u001b[0;34m(taskqueue, put, outqueue, pool, cache)\u001b[0m\n\u001b[1;32m    429\u001b[0m                         \u001b[0;32mbreak\u001b[0m\u001b[0;34m\u001b[0m\u001b[0;34m\u001b[0m\u001b[0m\n\u001b[1;32m    430\u001b[0m                     \u001b[0;32mtry\u001b[0m\u001b[0;34m:\u001b[0m\u001b[0;34m\u001b[0m\u001b[0;34m\u001b[0m\u001b[0m\n\u001b[0;32m--> 431\u001b[0;31m                         \u001b[0mput\u001b[0m\u001b[0;34m(\u001b[0m\u001b[0mtask\u001b[0m\u001b[0;34m)\u001b[0m\u001b[0;34m\u001b[0m\u001b[0;34m\u001b[0m\u001b[0m\n\u001b[0m\u001b[1;32m    432\u001b[0m                     \u001b[0;32mexcept\u001b[0m \u001b[0mException\u001b[0m \u001b[0;32mas\u001b[0m \u001b[0me\u001b[0m\u001b[0;34m:\u001b[0m\u001b[0;34m\u001b[0m\u001b[0;34m\u001b[0m\u001b[0m\n\u001b[1;32m    433\u001b[0m                         \u001b[0mjob\u001b[0m\u001b[0;34m,\u001b[0m \u001b[0midx\u001b[0m \u001b[0;34m=\u001b[0m \u001b[0mtask\u001b[0m\u001b[0;34m[\u001b[0m\u001b[0;34m:\u001b[0m\u001b[0;36m2\u001b[0m\u001b[0;34m]\u001b[0m\u001b[0;34m\u001b[0m\u001b[0;34m\u001b[0m\u001b[0m\n",
      "\u001b[0;32m~/software/anaconda3/envs/pyimagej/lib/python3.7/multiprocessing/connection.py\u001b[0m in \u001b[0;36msend\u001b[0;34m(self, obj)\u001b[0m\n\u001b[1;32m    204\u001b[0m         \u001b[0mself\u001b[0m\u001b[0;34m.\u001b[0m\u001b[0m_check_closed\u001b[0m\u001b[0;34m(\u001b[0m\u001b[0;34m)\u001b[0m\u001b[0;34m\u001b[0m\u001b[0;34m\u001b[0m\u001b[0m\n\u001b[1;32m    205\u001b[0m         \u001b[0mself\u001b[0m\u001b[0;34m.\u001b[0m\u001b[0m_check_writable\u001b[0m\u001b[0;34m(\u001b[0m\u001b[0;34m)\u001b[0m\u001b[0;34m\u001b[0m\u001b[0;34m\u001b[0m\u001b[0m\n\u001b[0;32m--> 206\u001b[0;31m         \u001b[0mself\u001b[0m\u001b[0;34m.\u001b[0m\u001b[0m_send_bytes\u001b[0m\u001b[0;34m(\u001b[0m\u001b[0m_ForkingPickler\u001b[0m\u001b[0;34m.\u001b[0m\u001b[0mdumps\u001b[0m\u001b[0;34m(\u001b[0m\u001b[0mobj\u001b[0m\u001b[0;34m)\u001b[0m\u001b[0;34m)\u001b[0m\u001b[0;34m\u001b[0m\u001b[0;34m\u001b[0m\u001b[0m\n\u001b[0m\u001b[1;32m    207\u001b[0m \u001b[0;34m\u001b[0m\u001b[0m\n\u001b[1;32m    208\u001b[0m     \u001b[0;32mdef\u001b[0m \u001b[0mrecv_bytes\u001b[0m\u001b[0;34m(\u001b[0m\u001b[0mself\u001b[0m\u001b[0;34m,\u001b[0m \u001b[0mmaxlength\u001b[0m\u001b[0;34m=\u001b[0m\u001b[0;32mNone\u001b[0m\u001b[0;34m)\u001b[0m\u001b[0;34m:\u001b[0m\u001b[0;34m\u001b[0m\u001b[0;34m\u001b[0m\u001b[0m\n",
      "\u001b[0;32m~/software/anaconda3/envs/pyimagej/lib/python3.7/multiprocessing/reduction.py\u001b[0m in \u001b[0;36mdumps\u001b[0;34m(cls, obj, protocol)\u001b[0m\n\u001b[1;32m     49\u001b[0m     \u001b[0;32mdef\u001b[0m \u001b[0mdumps\u001b[0m\u001b[0;34m(\u001b[0m\u001b[0mcls\u001b[0m\u001b[0;34m,\u001b[0m \u001b[0mobj\u001b[0m\u001b[0;34m,\u001b[0m \u001b[0mprotocol\u001b[0m\u001b[0;34m=\u001b[0m\u001b[0;32mNone\u001b[0m\u001b[0;34m)\u001b[0m\u001b[0;34m:\u001b[0m\u001b[0;34m\u001b[0m\u001b[0;34m\u001b[0m\u001b[0m\n\u001b[1;32m     50\u001b[0m         \u001b[0mbuf\u001b[0m \u001b[0;34m=\u001b[0m \u001b[0mio\u001b[0m\u001b[0;34m.\u001b[0m\u001b[0mBytesIO\u001b[0m\u001b[0;34m(\u001b[0m\u001b[0;34m)\u001b[0m\u001b[0;34m\u001b[0m\u001b[0;34m\u001b[0m\u001b[0m\n\u001b[0;32m---> 51\u001b[0;31m         \u001b[0mcls\u001b[0m\u001b[0;34m(\u001b[0m\u001b[0mbuf\u001b[0m\u001b[0;34m,\u001b[0m \u001b[0mprotocol\u001b[0m\u001b[0;34m)\u001b[0m\u001b[0;34m.\u001b[0m\u001b[0mdump\u001b[0m\u001b[0;34m(\u001b[0m\u001b[0mobj\u001b[0m\u001b[0;34m)\u001b[0m\u001b[0;34m\u001b[0m\u001b[0;34m\u001b[0m\u001b[0m\n\u001b[0m\u001b[1;32m     52\u001b[0m         \u001b[0;32mreturn\u001b[0m \u001b[0mbuf\u001b[0m\u001b[0;34m.\u001b[0m\u001b[0mgetbuffer\u001b[0m\u001b[0;34m(\u001b[0m\u001b[0;34m)\u001b[0m\u001b[0;34m\u001b[0m\u001b[0;34m\u001b[0m\u001b[0m\n\u001b[1;32m     53\u001b[0m \u001b[0;34m\u001b[0m\u001b[0m\n",
      "\u001b[0;31mAttributeError\u001b[0m: Can't pickle local object 'CompositeModel.__init__.<locals>._tmp'"
     ]
    }
   ],
   "source": [
    "########## native python\n",
    "from lmfit.models import LorentzianModel, LinearModel\n",
    "import time, numpy as np\n",
    "\n",
    "ids = list(np.arange(20)) + list(np.arange(40, 49))\n",
    "x = eng[ids]\n",
    "y = data[ids, 50:200, 420:550].mean(axis=(1, 2))\n",
    "\n",
    "lrtz = LorentzianModel(prefix='lrtz_')\n",
    "pars = lrtz.make_params(amplitude=1.5, center=eng[49])\n",
    "pars['lrtz_amplitude'].set(value=1.5, min=0., max = 2)\n",
    "pars['lrtz_center'].set(value=eng[47], min=eng[40], max = eng[52])\n",
    "lin = LinearModel(prefix='lin_')\n",
    "pars.update(lin.make_params())\n",
    "pars['lin_slope'].set(value=0.1, min=-1, max=1)\n",
    "pars['lin_intercept'].set(value=0.1)\n",
    "mod = lrtz + lin\n",
    "mod.fit(data[ids, 0, 0], pars, x=x, method='leastsq', nan_policy='omit')\n",
    "\n",
    "print(time.asctime())\n",
    "for ii in range(150*130):\n",
    "    cnt += 1\n",
    "    mod.fit(data.reshape([dim[0], -1])[ids, ii], pars, x=x, nan_policy='omit')\n",
    "\n",
    "print(time.asctime())\n",
    "print(cnt)"
   ]
  },
  {
   "cell_type": "code",
   "execution_count": null,
   "metadata": {},
   "outputs": [
    {
     "name": "stderr",
     "output_type": "stream",
     "text": [
      "/home/xiao/software/anaconda3/envs/pyimagej/lib/python3.7/site-packages/ipykernel_launcher.py:8: RuntimeWarning: Mean of empty slice.\n",
      "  \n",
      "<ipython-input-77-392e5bfcff03>:21: NumbaWarning: \u001b[1m\n",
      "Compilation is falling back to object mode WITH looplifting enabled because Function \"fit\" failed type inference due to: \u001b[1mUntyped global name 'mod':\u001b[0m \u001b[1m\u001b[1mcannot determine Numba type of <class 'lmfit.model.CompositeModel'>\u001b[0m\n",
      "\u001b[1m\n",
      "File \"<ipython-input-77-392e5bfcff03>\", line 26:\u001b[0m\n",
      "\u001b[1mdef fit():\n",
      "    <source elided>\n",
      "        cnt += 1\n",
      "\u001b[1m        mod.fit(data.reshape([dim[0], -1])[ids, ii], pars, x=x, nan_policy='omit')\n",
      "\u001b[0m        \u001b[1m^\u001b[0m\u001b[0m\n",
      "\u001b[0m\u001b[0m\n",
      "  @jit(parallel=True)\n",
      "<ipython-input-77-392e5bfcff03>:21: NumbaWarning: \u001b[1m\n",
      "Compilation is falling back to object mode WITHOUT looplifting enabled because Function \"fit\" failed type inference due to: \u001b[1m\u001b[1mcannot determine Numba type of <class 'numba.dispatcher.LiftedLoop'>\u001b[0m\n",
      "\u001b[1m\n",
      "File \"<ipython-input-77-392e5bfcff03>\", line 24:\u001b[0m\n",
      "\u001b[1mdef fit():\n",
      "    <source elided>\n",
      "    cnt = 0\n",
      "\u001b[1m    for ii in range(150*130):\n",
      "\u001b[0m    \u001b[1m^\u001b[0m\u001b[0m\n",
      "\u001b[0m\u001b[0m\n",
      "  @jit(parallel=True)\n"
     ]
    },
    {
     "name": "stdout",
     "output_type": "stream",
     "text": [
      "Mon Jun  8 22:07:35 2020\n"
     ]
    },
    {
     "name": "stderr",
     "output_type": "stream",
     "text": [
      "/home/xiao/software/anaconda3/envs/pyimagej/lib/python3.7/site-packages/numba/object_mode_passes.py:178: NumbaWarning: \u001b[1mFunction \"fit\" was compiled in object mode without forceobj=True, but has lifted loops.\n",
      "\u001b[1m\n",
      "File \"<ipython-input-77-392e5bfcff03>\", line 23:\u001b[0m\n",
      "\u001b[1mdef fit():\n",
      "\u001b[1m    cnt = 0\n",
      "\u001b[0m    \u001b[1m^\u001b[0m\u001b[0m\n",
      "\u001b[0m\n",
      "  state.func_ir.loc))\n",
      "/home/xiao/software/anaconda3/envs/pyimagej/lib/python3.7/site-packages/numba/object_mode_passes.py:188: NumbaDeprecationWarning: \u001b[1m\n",
      "Fall-back from the nopython compilation path to the object mode compilation path has been detected, this is deprecated behaviour.\n",
      "\n",
      "For more information visit http://numba.pydata.org/numba-doc/latest/reference/deprecation.html#deprecation-of-object-mode-fall-back-behaviour-when-using-jit\n",
      "\u001b[1m\n",
      "File \"<ipython-input-77-392e5bfcff03>\", line 23:\u001b[0m\n",
      "\u001b[1mdef fit():\n",
      "\u001b[1m    cnt = 0\n",
      "\u001b[0m    \u001b[1m^\u001b[0m\u001b[0m\n",
      "\u001b[0m\n",
      "  state.func_ir.loc))\n",
      "<ipython-input-77-392e5bfcff03>:21: NumbaWarning: \u001b[1m\n",
      "Compilation is falling back to object mode WITHOUT looplifting enabled because Function \"fit\" failed type inference due to: \u001b[1mUntyped global name 'mod':\u001b[0m \u001b[1m\u001b[1mcannot determine Numba type of <class 'lmfit.model.CompositeModel'>\u001b[0m\n",
      "\u001b[1m\n",
      "File \"<ipython-input-77-392e5bfcff03>\", line 26:\u001b[0m\n",
      "\u001b[1mdef fit():\n",
      "    <source elided>\n",
      "        cnt += 1\n",
      "\u001b[1m        mod.fit(data.reshape([dim[0], -1])[ids, ii], pars, x=x, nan_policy='omit')\n",
      "\u001b[0m        \u001b[1m^\u001b[0m\u001b[0m\n",
      "\u001b[0m\u001b[0m\n",
      "  @jit(parallel=True)\n",
      "/home/xiao/software/anaconda3/envs/pyimagej/lib/python3.7/site-packages/numba/object_mode_passes.py:178: NumbaWarning: \u001b[1mFunction \"fit\" was compiled in object mode without forceobj=True.\n",
      "\u001b[1m\n",
      "File \"<ipython-input-77-392e5bfcff03>\", line 24:\u001b[0m\n",
      "\u001b[1mdef fit():\n",
      "    <source elided>\n",
      "    cnt = 0\n",
      "\u001b[1m    for ii in range(150*130):\n",
      "\u001b[0m    \u001b[1m^\u001b[0m\u001b[0m\n",
      "\u001b[0m\n",
      "  state.func_ir.loc))\n",
      "/home/xiao/software/anaconda3/envs/pyimagej/lib/python3.7/site-packages/numba/object_mode_passes.py:188: NumbaDeprecationWarning: \u001b[1m\n",
      "Fall-back from the nopython compilation path to the object mode compilation path has been detected, this is deprecated behaviour.\n",
      "\n",
      "For more information visit http://numba.pydata.org/numba-doc/latest/reference/deprecation.html#deprecation-of-object-mode-fall-back-behaviour-when-using-jit\n",
      "\u001b[1m\n",
      "File \"<ipython-input-77-392e5bfcff03>\", line 24:\u001b[0m\n",
      "\u001b[1mdef fit():\n",
      "    <source elided>\n",
      "    cnt = 0\n",
      "\u001b[1m    for ii in range(150*130):\n",
      "\u001b[0m    \u001b[1m^\u001b[0m\u001b[0m\n",
      "\u001b[0m\n",
      "  state.func_ir.loc))\n"
     ]
    }
   ],
   "source": [
    "########## numba\n",
    "from lmfit.models import LorentzianModel, LinearModel\n",
    "import time, numpy as np\n",
    "from numba import jit\n",
    "\n",
    "ids = list(np.arange(20)) + list(np.arange(40, 49))\n",
    "x = eng[ids]\n",
    "y = data[ids, 50:200, 420:550].mean(axis=(1, 2))\n",
    "\n",
    "lrtz = LorentzianModel(prefix='lrtz_')\n",
    "pars = lrtz.make_params(amplitude=1.5, center=eng[49])\n",
    "pars['lrtz_amplitude'].set(value=1.5, min=0., max = 2)\n",
    "pars['lrtz_center'].set(value=eng[47], min=eng[40], max = eng[52])\n",
    "lin = LinearModel(prefix='lin_')\n",
    "pars.update(lin.make_params())\n",
    "pars['lin_slope'].set(value=0.1, min=-1, max=1)\n",
    "pars['lin_intercept'].set(value=0.1)\n",
    "mod = lrtz + lin\n",
    "mod.fit(data[ids, 0, 0], pars, x=x, method='leastsq', nan_policy='omit')\n",
    "\n",
    "@jit(parallel=True)\n",
    "def fit(mod, data, pars, x):\n",
    "    for ii in range(150*130):\n",
    "        mod.fit(data.reshape([dim[0], -1])[ids, ii], pars, x=x, nan_policy='omit')\n",
    "\n",
    "print(time.asctime())\n",
    "fit()\n",
    "print(time.asctime())\n",
    "print(cnt)\n",
    "\n",
    "#init = mod.eval(pars, x=x)\n",
    "#print(time.asctime())\n",
    "#out = []\n",
    "#dim = data.shape\n",
    "#cnt = 0\n",
    "\n",
    "#with mp.Pool() as pool:\n",
    "#    pool.starmap(mod.fit, [(data.reshape([dim[0], -1])[ids, ii], pars, x) for ii in np.int32(np.arange(150*130))])\n",
    "    "
   ]
  },
  {
   "cell_type": "code",
   "execution_count": null,
   "metadata": {},
   "outputs": [],
   "source": [
    "\n",
    "        \n",
    "\n",
    "        \n",
    "        \n",
    "\"\"\"\n",
    "def res(params, x, data):\n",
    "    \n",
    "    \n",
    "return opt\n",
    "\n",
    "params = {}\n",
    "ids = list(np.range(20)) + list(np.range(40, 48))\n",
    "params['x'] = eng[ids]\n",
    "params['y'] = data[ids, 0, 50:200, 420:550]\n",
    "# Monte Carlo method to find best fit\n",
    "#data = []\n",
    "\n",
    "for j in range(n_runs):\n",
    "    # Create list of tuples for starmap\n",
    "    i1, i2, i3, i4, i5 = np.random.choice(n_samaples, 5)\n",
    "    initial_guess = (amplitude[i1], period[i3], phase[i2], Velocity[i4], Acceleration[i5])\n",
    "    CurvefitValues = (sin_vel_model, t_diff, v, initial_guess, lower_limits, upper_limits)\n",
    "    data.append(CurvefitValues)\n",
    "\n",
    "# Use Pool and curvefit to get all the parameters\n",
    "with Pool(2*cpu_count()-1) as pool:\n",
    "    out = pool.starmap(curvefunction, data)\n",
    "    pool.close()\n",
    "    pool.join()\n",
    "\n",
    "\"\"\"\n",
    "\n",
    "\"\"\"\n",
    "# Creating curve fit function called\n",
    "def curvefunction(model, t, h, P0, lbounds, ubounds):\n",
    "    try:\n",
    "        opt, cov = curve_fit(model, t, h, p0=P0, bounds=(lbounds, ubounds))\n",
    "    except RuntimeError as e:\n",
    "        print(e)\n",
    "        opt = np.full(5, np.inf)\n",
    "return opt\n",
    "\n",
    "# Monte Carlo method to find best fit\n",
    "data = []\n",
    "\n",
    "for j in range(n_runs):\n",
    "    # Create list of tuples for starmap\n",
    "    i1, i2, i3, i4, i5 = np.random.choice(n_samaples, 5)\n",
    "    initial_guess = (amplitude[i1], period[i3], phase[i2], Velocity[i4], Acceleration[i5])\n",
    "    CurvefitValues = (sin_vel_model, t_diff, v, initial_guess, lower_limits, upper_limits)\n",
    "    data.append(CurvefitValues)\n",
    "\n",
    "# Use Pool and curvefit to get all the parameters\n",
    "with Pool(2*cpu_count()-1) as pool:\n",
    "    out = pool.starmap(curvefunction, data)\n",
    "    pool.close()\n",
    "    pool.join()\n",
    "\"\"\""
   ]
  },
  {
   "cell_type": "code",
   "execution_count": 57,
   "metadata": {},
   "outputs": [
    {
     "name": "stdout",
     "output_type": "stream",
     "text": [
      "(29,)\n",
      "<lmfit.Model: Model(linear)>\n",
      "(29,) (29,)\n",
      "Parameters([('lin_slope', <Parameter 'lin_slope', value=nan, bounds=[-inf:inf]>), ('lin_intercept', <Parameter 'lin_intercept', value=nan, bounds=[-inf:inf]>)])\n",
      "['slope', 'intercept']\n"
     ]
    }
   ],
   "source": [
    "print(data[ids, ii, jj].shape)\n",
    "print(mod)\n",
    "print(x.shape, data[ids, 70, 70].shape)\n",
    "print(guess)\n",
    "print(mod.param_names)\n",
    "#dir(lmfit)\n",
    "#help(lmfit.models.lorentzian)"
   ]
  },
  {
   "cell_type": "code",
   "execution_count": 46,
   "metadata": {},
   "outputs": [
    {
     "name": "stdout",
     "output_type": "stream",
     "text": [
      "[[Model]]\n",
      "    (Model(gaussian) + Model(line))\n",
      "[[Fit Statistics]]\n",
      "    # fitting method   = leastsq\n",
      "    # function evals   = 43\n",
      "    # data points      = 100\n",
      "    # variables        = 5\n",
      "    chi-square         = 1.5109e-17\n",
      "    reduced chi-square = 1.5904e-19\n",
      "    Akaike info crit   = -4323.64253\n",
      "    Bayesian info crit = -4310.61668\n",
      "[[Variables]]\n",
      "    amp:        9.99999999 +/- 4.0721e-09 (0.00%) (init = 5)\n",
      "    cen:        50.0000000 +/- 3.4620e-09 (0.00%) (init = 40)\n",
      "    wid:        10.0000000 +/- 3.8565e-09 (0.00%) (init = 5)\n",
      "    slope:     -1.3526e-11 +/- 1.1171e-12 (8.26%) (init = 0)\n",
      "    intercept:  8.1526e-10 +/- 7.7497e-11 (9.51%) (init = 1)\n",
      "[[Correlations]] (unreported correlations are < 0.100)\n",
      "    C(slope, intercept) = -0.713\n",
      "    C(amp, wid)         =  0.703\n",
      "    C(amp, intercept)   = -0.509\n",
      "    C(wid, intercept)   = -0.359\n",
      "    C(cen, slope)       = -0.243\n",
      "    C(cen, intercept)   =  0.176\n"
     ]
    }
   ],
   "source": [
    "import matplotlib.pyplot as plt\n",
    "from numpy import exp, loadtxt, pi, sqrt\n",
    "\n",
    "from lmfit import Model\n",
    "\n",
    "def gaussian(x, amp, cen, wid):\n",
    "    \"\"\"1-d gaussian: gaussian(x, amp, cen, wid)\"\"\"\n",
    "    return (amp / (sqrt(2*pi) * wid)) * exp(-(x-cen)**2 / (2*wid**2))\n",
    "\n",
    "\n",
    "def line(x, slope, intercept):\n",
    "    \"\"\"a line\"\"\"\n",
    "    return slope*x + intercept\n",
    "\n",
    "x = np.arange(100)\n",
    "y = gaussian(x, 10, 50, 10)\n",
    "\n",
    "mod = Model(gaussian) + Model(line)\n",
    "pars = mod.make_params(amp=5, cen=40, wid=5, slope=0, intercept=1)\n",
    "\n",
    "result = mod.fit(y, pars, x=x)\n",
    "\n",
    "print(result.fit_report())\n",
    "\n",
    "plt.plot(x, y, 'bo')\n",
    "plt.plot(x, result.init_fit, 'k--', label='initial fit')\n",
    "plt.plot(x, result.best_fit, 'r-', label='best fit')\n",
    "plt.legend(loc='best')\n",
    "plt.show()\n",
    "# <end examples/doc_model_two_components.py>"
   ]
  },
  {
   "cell_type": "code",
   "execution_count": 48,
   "metadata": {},
   "outputs": [
    {
     "name": "stdout",
     "output_type": "stream",
     "text": [
      "<lmfit.Model: (Model(gaussian) + Model(line))>\n",
      "(100,) (100,)\n"
     ]
    }
   ],
   "source": [
    "print(mod)\n",
    "print(y.shape, x.shape)"
   ]
  },
  {
   "cell_type": "code",
   "execution_count": null,
   "metadata": {},
   "outputs": [],
   "source": [
    "def residual(params, x, data=None):\n",
    "    parvals = pars.valuesdict()\n",
    "    period = parvals['period']\n",
    "    shift = parvals['shift']\n",
    "    decay = parvals['decay']\n",
    "\n",
    "    if abs(shift) > pi/2:\n",
    "        shift = shift - sign(shift)*pi\n",
    "\n",
    "    if abs(period) < 1.e-10:\n",
    "        period = sign(period)*1.e-10\n",
    "\n",
    "    model = parvals['amp'] * sin(shift + x/period) * exp(-x*x*decay*decay)\n",
    "\n",
    "    if data is None:\n",
    "        return model\n",
    "    if eps is None:\n",
    "        return model - data\n",
    "    return (model-data) / eps"
   ]
  },
  {
   "cell_type": "code",
   "execution_count": null,
   "metadata": {},
   "outputs": [],
   "source": [
    "for ii in range(50, 200):\n",
    "    for jj in range(420, 550):\n",
    "        lmfit.minize(residual, params, method='leastsq')"
   ]
  },
  {
   "cell_type": "code",
   "execution_count": null,
   "metadata": {},
   "outputs": [],
   "source": [
    "def curvefunction(x):\n",
    "    print(x**2)\n",
    "\n",
    "# Use Pool and curvefit to get all the parameters\n",
    "with Pool(2*cpu_count()-1) as pool:\n",
    "    out = pool.starmap(curvefunction, data)\n",
    "    pool.close()\n",
    "    pool.join()"
   ]
  },
  {
   "cell_type": "code",
   "execution_count": null,
   "metadata": {},
   "outputs": [],
   "source": [
    "import os, ray, time\n",
    "from joblib import Parallel, delayed\n",
    "n_cpu = os.cpu_count()\n",
    "print(n_cpu)\n",
    "ray.init()"
   ]
  },
  {
   "cell_type": "code",
   "execution_count": null,
   "metadata": {},
   "outputs": [],
   "source": [
    "#@ray.remote(num_cpus=n_cpu-1)\n",
    "def foo(x):\n",
    "    return x**2\n",
    "\n",
    "print(time.asctime())\n",
    "Parallel(n_jobs=1)(delayed(foo)(ii) for ii in range(int(1e5)))\n",
    "print(time.asctime()) \n",
    "#[foo.remote(ii) for ii in range(int(1e5))]\n",
    "for ii in range(int(1e5)):\n",
    "#    foo.remote(ii)\n",
    "    foo(ii)\n",
    "#ray.get()\n",
    "print(time.asctime())    \n"
   ]
  },
  {
   "cell_type": "code",
   "execution_count": null,
   "metadata": {},
   "outputs": [],
   "source": [
    "print(time.asctime())"
   ]
  },
  {
   "cell_type": "code",
   "execution_count": null,
   "metadata": {},
   "outputs": [],
   "source": []
  }
 ],
 "metadata": {
  "kernelspec": {
   "display_name": "Python 3",
   "language": "python",
   "name": "python3"
  },
  "language_info": {
   "codemirror_mode": {
    "name": "ipython",
    "version": 3
   },
   "file_extension": ".py",
   "mimetype": "text/x-python",
   "name": "python",
   "nbconvert_exporter": "python",
   "pygments_lexer": "ipython3",
   "version": "3.7.6"
  }
 },
 "nbformat": 4,
 "nbformat_minor": 4
}
