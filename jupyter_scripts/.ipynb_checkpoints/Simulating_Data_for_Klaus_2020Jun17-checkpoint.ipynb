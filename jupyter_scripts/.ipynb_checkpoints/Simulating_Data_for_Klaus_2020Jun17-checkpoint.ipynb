{
 "cells": [
  {
   "cell_type": "markdown",
   "metadata": {},
   "source": [
    "# ***Simulating Data for Klaus High-Dimensional Data Visualization***\n",
    "### This script is for simulating multi-dimensional data for Klaus. The raw 3D is grabbed from https://www.digitalrocksportal.org/projects/6 The 3D data is cropped from the original data."
   ]
  },
  {
   "cell_type": "code",
   "execution_count": 1,
   "metadata": {},
   "outputs": [],
   "source": [
    "%matplotlib qt\n",
    "import numpy as np\n",
    "import numpy.random as nr\n",
    "import scipy.stats as ss\n",
    "import tifffile, os, time\n",
    "import multiprocess as mp\n",
    "from scipy.ndimage import zoom\n",
    "import matplotlib.pyplot as plt"
   ]
  },
  {
   "cell_type": "markdown",
   "metadata": {},
   "source": [
    "***generate fake data based on the orginal 3D structure***"
   ]
  },
  {
   "cell_type": "code",
   "execution_count": 2,
   "metadata": {},
   "outputs": [
    {
     "name": "stdout",
     "output_type": "stream",
     "text": [
      "(16777216,) 96\n",
      "Wed Jun 17 17:24:18 2020\n",
      "Wed Jun 17 17:54:23 2020\n",
      "16777216\n"
     ]
    }
   ],
   "source": [
    "ph1_cen = 41\n",
    "ph1_std = 25\n",
    "\n",
    "ph2_cen = 68\n",
    "ph2_std = 25\n",
    "\n",
    "ph3_cen = 82\n",
    "ph3_std = 25\n",
    "\n",
    "ph4_cen = 141\n",
    "ph4_std = 25\n",
    "\n",
    "y_p1 = ss.norm(ph1_cen, ph1_std).pdf\n",
    "y_p2 = ss.norm(ph2_cen, ph2_std).pdf\n",
    "y_p3 = ss.norm(ph3_cen, ph3_std).pdf\n",
    "y_p4 = ss.norm(ph4_cen, ph4_std).pdf\n",
    "\n",
    "p = np.ndarray([4])\n",
    "\n",
    "def ratio(gray_val):   \n",
    "    p[0] = y_p1(gray_val)\n",
    "    p[1] = y_p2(gray_val)\n",
    "    p[2] = y_p3(gray_val)\n",
    "    p[3] = y_p4(gray_val)\n",
    "    ps = p.sum()\n",
    "    # print(ps)\n",
    "    return list(p[:i].sum()/ps for i in range(1, 5))\n",
    "    \n",
    "def discriminator(gray_val):\n",
    "    c1 = c2 = c3 = c4 = 0\n",
    "    p1, p2, p3, p4 = ratio(gray_val)\n",
    "    for ii in range(1000):\n",
    "        seat = nr.random()\n",
    "        if seat<p1:\n",
    "            c1 += 1\n",
    "        elif seat<p2:\n",
    "            c2 += 1\n",
    "        elif seat<p3:\n",
    "            c3 += 1\n",
    "        else:\n",
    "            c4 += 1\n",
    "    return c1, c2, c3, c4\n",
    "    # return nr.random()\n",
    "\n",
    "# if __name__ == \"__main__\":\n",
    "data = tifffile.imread(\"/media/xiao_usb/originating/256x256x256.tif\").reshape([-1])\n",
    "n_cpu = os.cpu_count()\n",
    "dim = data.shape\n",
    "print(data.shape, data[100])\n",
    "results = []\n",
    "\n",
    "print(time.asctime())\n",
    "with mp.Pool(maxtasksperchild=10) as pool:\n",
    "    rlt = pool.map(discriminator, [data[ii] for ii in np.int32(np.arange(dim[0]))])\n",
    "      \n",
    "pool.close()\n",
    "pool.join()\n",
    "\n",
    "print(time.asctime())\n",
    "print(len(rlt))\n",
    "\n",
    "results2 = np.array(rlt).reshape([256, 256, 256, 4])\n",
    "\n",
    "tifffile.imsave(\"/media/xiao_usb/originating/channel1.tif\", results2[:, :, :, 0].astype(np.float32))\n",
    "tifffile.imsave(\"/media/xiao_usb/originating/channel2.tif\", results2[:, :, :, 1].astype(np.float32))\n",
    "tifffile.imsave(\"/media/xiao_usb/originating/channel3.tif\", results2[:, :, :, 2].astype(np.float32))\n",
    "tifffile.imsave(\"/media/xiao_usb/originating/channel4.tif\", results2[:, :, :, 3].astype(np.float32))"
   ]
  },
  {
   "cell_type": "markdown",
   "metadata": {},
   "source": [
    "***normalize density maps and scale them to a real NMC sample***"
   ]
  },
  {
   "cell_type": "code",
   "execution_count": 3,
   "metadata": {},
   "outputs": [
    {
     "name": "stdout",
     "output_type": "stream",
     "text": [
      "co 7.07223135889762\n",
      "mn 3.7599511210842755\n",
      "ni 13.07794396907783\n",
      "zr 1.492803120660955\n"
     ]
    }
   ],
   "source": [
    "# unit area mass density: ug/cm^2/(xrf_cnt/ic_cnt)\n",
    "convert_factor = {}\n",
    "convert_factor['co'] = 7858.034843219578\n",
    "convert_factor['mn'] = 12533.170403614253\n",
    "convert_factor['ni'] = 6538.971984538915\n",
    "convert_factor['zr'] = 1492803.120660955\n",
    "\n",
    "# xrf-ic conversion: xrf_cnt/ic_cnt\n",
    "fac_xrf_per_ic = {}\n",
    "fac_xrf_per_ic['co'] = 9e-4\n",
    "fac_xrf_per_ic['mn'] = 3e-4\n",
    "fac_xrf_per_ic['ni'] = 2e-3\n",
    "fac_xrf_per_ic['zr'] = 1e-6\n",
    "\n",
    "rel_mass_den = {}\n",
    "\n",
    "for ii in fac_xrf_per_ic.keys():\n",
    "    rel_mass_den[ii] = fac_xrf_per_ic[ii] * convert_factor[ii]\n",
    "    print(ii, rel_mass_den[ii])"
   ]
  },
  {
   "cell_type": "code",
   "execution_count": 4,
   "metadata": {},
   "outputs": [
    {
     "name": "stdout",
     "output_type": "stream",
     "text": [
      "co 1.4144462717795239\n",
      "mn 0.7519902242168551\n",
      "ni 2.615588793815566\n",
      "zr 0.298560624132191\n"
     ]
    }
   ],
   "source": [
    "### in xrf simulation, the slice thickness is assumed to 50nm. The voxel size is assumed 50x50x50nm^3\n",
    "### the original image values are normalized to 1, which corresponds the typical mass density of each element\n",
    "### the unit of den maps is g/cm^3\n",
    "ori = {}\n",
    "ori['co'] = tifffile.imread(\"/media/xiao_usb/originating/channel1.tif\")\n",
    "ori['mn'] = tifffile.imread(\"/media/xiao_usb/originating/channel2.tif\")\n",
    "ori['ni'] = tifffile.imread(\"/media/xiao_usb/originating/channel3.tif\")\n",
    "ori['zr'] = tifffile.imread(\"/media/xiao_usb/originating/channel4.tif\")\n",
    "\n",
    "den = {}\n",
    "for ii in ori.keys():\n",
    "    ori[ii] /= np.max(ori[ii])\n",
    "    den[ii] = ori[ii]*rel_mass_den[ii]*(1e7/50)*1e-6\n",
    "    print(ii, rel_mass_den[ii]*(1e7/50)*1e-6)\n",
    "    "
   ]
  },
  {
   "cell_type": "markdown",
   "metadata": {},
   "source": [
    "---\n",
    "> ## Elements' attenuation parameters\n",
    "---\n",
    "> -------- E ---------- delta ---------------- beta -------------- density   \n",
    "> Co: 8400. ||| 3.59271144E-06 ||| 4.72017234E-07 ||| 1.414    \n",
    "> Mn: 8400. ||| 1.98677685E-06 ||| 2.13132296E-07 ||| 0.752     \n",
    "> Ni: 8400. ||| 5.56073564E-06 ||| 9.95139771E-07 ||| 2.616    \n",
    "> Zr: 8400. ||| 7.64205595E-07 ||| 4.06926191E-08 ||| 0.299    \n",
    "\n",
    ">> matter attenuation is calculated as  \n",
    ">>   exp(-2 * 2pi * beta * z / lambda)  \n",
    ">>   According to Beer's law  \n",
    ">>   exp(-u * z)  \n",
    ">> the linear attentuation coefficient is calculated as  \n",
    ">>   u = 4 * pi * beta/lambda  \n",
    "---"
   ]
  },
  {
   "cell_type": "code",
   "execution_count": 5,
   "metadata": {},
   "outputs": [],
   "source": [
    "tifffile.imsave(\"/media/xiao_usb/originating/co_xrf.tif\", den['co'].astype(np.float32))\n",
    "tifffile.imsave(\"/media/xiao_usb/originating/mn_xrf.tif\", den['mn'].astype(np.float32))\n",
    "tifffile.imsave(\"/media/xiao_usb/originating/ni_xrf.tif\", den['ni'].astype(np.float32))\n",
    "tifffile.imsave(\"/media/xiao_usb/originating/zr_xrf.tif\", den['zr'].astype(np.float32))"
   ]
  },
  {
   "cell_type": "code",
   "execution_count": 6,
   "metadata": {},
   "outputs": [],
   "source": [
    "### unit 1/cm\n",
    "lin_att_coef = {}\n",
    "lin_att_coef['co'] = 4*np.pi*4.72017234E-07/(12.4/8.4)*1e8\n",
    "lin_att_coef['mn'] = 4*np.pi*2.13132296E-07/(12.4/8.4)*1e8\n",
    "lin_att_coef['ni'] = 4*np.pi*9.95139771E-07/(12.4/8.4)*1e8\n",
    "lin_att_coef['zr'] = 4*np.pi*4.06926191E-08/(12.4/8.4)*1e8"
   ]
  },
  {
   "cell_type": "code",
   "execution_count": 27,
   "metadata": {},
   "outputs": [
    {
     "name": "stdout",
     "output_type": "stream",
     "text": [
      "{'co': 401.81423701607304, 'mn': 181.43318661268165, 'ni': 847.1328989837574, 'zr': 34.640416743453436}\n"
     ]
    }
   ],
   "source": [
    "### assume 20nm pixel size in tomography simulation\n",
    "print(lin_att_coef)"
   ]
  },
  {
   "cell_type": "code",
   "execution_count": 28,
   "metadata": {},
   "outputs": [
    {
     "data": {
      "text/plain": [
       "0.42864213214728286"
      ]
     },
     "execution_count": 28,
     "metadata": {},
     "output_type": "execute_result"
    }
   ],
   "source": [
    "np.exp(-lin_att_coef['ni']*1e-3)"
   ]
  },
  {
   "cell_type": "code",
   "execution_count": 29,
   "metadata": {},
   "outputs": [],
   "source": [
    "\n"
   ]
  },
  {
   "cell_type": "code",
   "execution_count": 7,
   "metadata": {},
   "outputs": [
    {
     "name": "stdout",
     "output_type": "stream",
     "text": [
      "(640, 640, 640)\n"
     ]
    }
   ],
   "source": [
    "### zoom 3D images of each element to reflect the fact that TXM and XRF CT scans usually have different voxel sizes\n",
    "zoom_den = {}\n",
    "zoom_den['co'] = zoom(den['co'], 2.5)\n",
    "zoom_den['mn'] = zoom(den['mn'], 2.5)\n",
    "zoom_den['ni'] = zoom(den['ni'], 2.5)\n",
    "zoom_den['zr'] = zoom(den['zr'], 2.5)\n",
    "print(zoom_den['co'].shape)"
   ]
  },
  {
   "cell_type": "code",
   "execution_count": 8,
   "metadata": {},
   "outputs": [],
   "source": [
    "tifffile.imsave(\"/media/xiao_usb/originating/co_zoomed_xrf.tif\", zoom_den['co'].astype(np.float32))\n",
    "tifffile.imsave(\"/media/xiao_usb/originating/mn_zoomed_xrf.tif\", zoom_den['mn'].astype(np.float32))\n",
    "tifffile.imsave(\"/media/xiao_usb/originating/ni_zoomed_xrf.tif\", zoom_den['ni'].astype(np.float32))\n",
    "tifffile.imsave(\"/media/xiao_usb/originating/zr_zoomed_xrf.tif\", zoom_den['zr'].astype(np.float32))\n",
    "\n"
   ]
  },
  {
   "cell_type": "code",
   "execution_count": 37,
   "metadata": {},
   "outputs": [
    {
     "data": {
      "text/plain": [
       "<matplotlib.image.AxesImage at 0x7f3ce0861750>"
      ]
     },
     "execution_count": 37,
     "metadata": {},
     "output_type": "execute_result"
    }
   ],
   "source": [
    "plt.figure(1)\n",
    "plt.imshow(zoom_den['co'][320, ...])\n",
    "plt.figure(2)\n",
    "plt.imshow(den['co'][128, ...])"
   ]
  },
  {
   "cell_type": "code",
   "execution_count": 9,
   "metadata": {},
   "outputs": [],
   "source": [
    "### calculate u*t map that simulate a tomography reconstruction\n",
    "tomo = {}\n",
    "\n",
    "for ii in zoom_den.keys():\n",
    "    tomo[ii] = zoom_den[ii]/np.max(zoom_den[ii])*lin_att_coef[ii]*(20/1e7)"
   ]
  },
  {
   "cell_type": "code",
   "execution_count": 10,
   "metadata": {},
   "outputs": [],
   "source": [
    "tifffile.imsave(\"/media/xiao_usb/originating/tomo.tif\", (tomo['co']+tomo['mn']+tomo['ni']+tomo['zr']).astype(np.float32))"
   ]
  },
  {
   "cell_type": "code",
   "execution_count": null,
   "metadata": {},
   "outputs": [],
   "source": []
  }
 ],
 "metadata": {
  "kernelspec": {
   "display_name": "Python 3",
   "language": "python",
   "name": "python3"
  },
  "language_info": {
   "codemirror_mode": {
    "name": "ipython",
    "version": 3
   },
   "file_extension": ".py",
   "mimetype": "text/x-python",
   "name": "python",
   "nbconvert_exporter": "python",
   "pygments_lexer": "ipython3",
   "version": "3.7.4"
  }
 },
 "nbformat": 4,
 "nbformat_minor": 4
}
