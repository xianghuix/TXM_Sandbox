{
 "cells": [
  {
   "cell_type": "code",
   "execution_count": 1,
   "metadata": {},
   "outputs": [
    {
     "name": "stderr",
     "output_type": "stream",
     "text": [
      "/home/xiao/software/anaconda3/envs/py37play/lib/python3.7/site-packages/napari/__init__.py:44: UserWarning: \n",
      "    napari was tested with QT library `>=5.12.3`.\n",
      "    The version installed is 5.9.6. Please report any issues with this\n",
      "    specific QT version at https://github.com/Napari/napari/issues.\n",
      "    \n",
      "  warn(message=warn_message)\n",
      "/home/xiao/software/anaconda3/envs/py37play/lib/python3.7/site-packages/vispy/visuals/line/line.py:395: FutureWarning: Passing (type, 1) or '1type' as a synonym of type is deprecated; in a future version of numpy, it will be understood as (type, (1,)) / '(1,)type'.\n",
      "  ('color', np.float32, 4)])\n",
      "/home/xiao/software/anaconda3/envs/py37play/lib/python3.7/site-packages/vispy/visuals/line/arrow.py:57: FutureWarning: Passing (type, 1) or '1type' as a synonym of type is deprecated; in a future version of numpy, it will be understood as (type, (1,)) / '(1,)type'.\n",
      "  ('linewidth', np.float32, 1)\n",
      "/home/xiao/software/anaconda3/envs/py37play/lib/python3.7/site-packages/vispy/visuals/isocurve.py:22: UserWarning: VisPy is not yet compatible with matplotlib 2.2+\n",
      "  warnings.warn(\"VisPy is not yet compatible with matplotlib 2.2+\")\n"
     ]
    },
    {
     "name": "stdout",
     "output_type": "stream",
     "text": [
      "Added 390 JARs to the Java classpath.\n",
      "fiji is already up running!\n"
     ]
    },
    {
     "data": {
      "application/vnd.jupyter.widget-view+json": {
       "model_id": "5bf131f1c2bd4ac39b6af84cc2e21eae",
       "version_major": 2,
       "version_minor": 0
      },
      "text/plain": [
       "Tab(children=(Tab(children=(VBox(children=(VBox(children=(HBox(children=(HTML(value=\"<span style='color:red; f…"
      ]
     },
     "metadata": {},
     "output_type": "display_data"
    }
   ],
   "source": [
    "%gui qt\n",
    "from importlib import reload\n",
    "import xanes_regtools_gui as xrg\n",
    "xrg = reload(xrg)\n",
    "gui = xrg.xanes_regtools_gui(form_sz=[750, 1000])\n",
    "gui.gui_layout()\n"
   ]
  },
  {
   "cell_type": "code",
   "execution_count": 3,
   "metadata": {},
   "outputs": [
    {
     "data": {
      "text/plain": [
       "([<matplotlib.axis.XTick at 0x7f5f08938588>,\n",
       "  <matplotlib.axis.XTick at 0x7f5f08938550>,\n",
       "  <matplotlib.axis.XTick at 0x7f5f08938198>,\n",
       "  <matplotlib.axis.XTick at 0x7f5f088e0e48>,\n",
       "  <matplotlib.axis.XTick at 0x7f5f08895358>,\n",
       "  <matplotlib.axis.XTick at 0x7f5f08895828>,\n",
       "  <matplotlib.axis.XTick at 0x7f5f08895cf8>,\n",
       "  <matplotlib.axis.XTick at 0x7f5f08a44208>,\n",
       "  <matplotlib.axis.XTick at 0x7f5f08a446d8>,\n",
       "  <matplotlib.axis.XTick at 0x7f5f08a44ba8>,\n",
       "  <matplotlib.axis.XTick at 0x7f5f0856f128>,\n",
       "  <matplotlib.axis.XTick at 0x7f5f08a447b8>,\n",
       "  <matplotlib.axis.XTick at 0x7f5f08895b70>,\n",
       "  <matplotlib.axis.XTick at 0x7f5f0856f438>,\n",
       "  <matplotlib.axis.XTick at 0x7f5f0856f978>,\n",
       "  <matplotlib.axis.XTick at 0x7f5f0856fe48>,\n",
       "  <matplotlib.axis.XTick at 0x7f5f0859e358>,\n",
       "  <matplotlib.axis.XTick at 0x7f5f0859e828>,\n",
       "  <matplotlib.axis.XTick at 0x7f5f0859ecf8>,\n",
       "  <matplotlib.axis.XTick at 0x7f5f083e8208>,\n",
       "  <matplotlib.axis.XTick at 0x7f5f083e86d8>],\n",
       " <a list of 21 Text major ticklabel objects>)"
      ]
     },
     "execution_count": 3,
     "metadata": {},
     "output_type": "execute_result"
    }
   ],
   "source": [
    "%matplotlib qt\n",
    "import matplotlib.pyplot as plt\n",
    "import numpy as np\n",
    "#help(plt.plot)\n",
    "x, y= [], []\n",
    "for i, j in gui.xanes3D_review_shift_dict.items():\n",
    "    x.append(int(i))\n",
    "    #print(i, j)\n",
    "    y.append(j[0])\n",
    "#print(sorted(x))\n",
    "#print(len(x))\n",
    "plt.plot(x, y, 'b+', scalex=True)\n",
    "plt.grid(which='both', snap=True)\n",
    "plt.xticks(np.arange(0, 101, 5))\n",
    "#print(gui.xanes3D_review_shift_dict)"
   ]
  },
  {
   "cell_type": "code",
   "execution_count": 2,
   "metadata": {},
   "outputs": [
    {
     "name": "stdout",
     "output_type": "stream",
     "text": [
      "[434, 817, 118, 1158, 430, 530]\n"
     ]
    }
   ],
   "source": [
    "print(gui.xanes3D_roi)"
   ]
  },
  {
   "cell_type": "code",
   "execution_count": 65,
   "metadata": {},
   "outputs": [],
   "source": [
    "import napari, h5py\n",
    "fn = '/NSLS2/xf18id1/users/2020Q1/ENYUAN_Proposal_305409/3D_trial_reg_scan_id_29671-29771_2020-05-28-17-54-45.h5'\n",
    "f = h5py.File(fn, 'r')\n",
    "#img = f['/processed_XANES3D/proc_spectrum/spectrum_whiteline_pos'][:]\n",
    "#img = f['/registration_results/reg_results/registered_xanes3D'][:, 0, :, :]\n",
    "#viewer = napari.view_image(img)\n",
    "#spec = f['/processed_XANES3D/proc_spectrum/spectrum_whiteline_pos'][1, :]\n",
    "#spec = f['/processed_XANES3D/proc_spectrum/spectrum_edge0.5_pos'][:]\n",
    "#spec = f['/processed_XANES3D/proc_spectrum/specturm_edge_jump_filter'][:]\n",
    "spec = f['/processed_XANES3D/proc_spectrum/specturm_edge_offset_filter'][:]\n",
    "viewer = napari.view_image(spec)\n",
    "f.close()"
   ]
  },
  {
   "cell_type": "code",
   "execution_count": null,
   "metadata": {},
   "outputs": [],
   "source": [
    "flt_param_dict = gui.tomo_recon_gui.tomo_recon_param_dict['flt_params']['filters']\n",
    "for idx in sorted(flt_param_dict.keys()):\n",
    "    print(idx)\n",
    "    flt = flt_param_dict[idx]\n",
    "    print(flt)\n",
    "    flt_name = list(flt.keys())[0]\n",
    "    print(flt_name)\n",
    "    print(flt[flt_name])"
   ]
  },
  {
   "cell_type": "code",
   "execution_count": 8,
   "metadata": {
    "collapsed": true,
    "jupyter": {
     "outputs_hidden": true
    }
   },
   "outputs": [
    {
     "data": {
      "text/plain": [
       "['ABORT',\n",
       " 'ADD_TO_OVERLAY',\n",
       " 'ALLBITS',\n",
       " 'ALL_STATS',\n",
       " 'AREA',\n",
       " 'AREA_FRACTION',\n",
       " 'CENTER_OF_MASS',\n",
       " 'CENTROID',\n",
       " 'CIRCULARITY',\n",
       " 'COLOR_256',\n",
       " 'COLOR_RGB',\n",
       " 'ELLIPSE',\n",
       " 'ERROR',\n",
       " 'FERET',\n",
       " 'FRAMEBITS',\n",
       " 'GRAY16',\n",
       " 'GRAY32',\n",
       " 'GRAY8',\n",
       " 'HEIGHT',\n",
       " 'INTEGRATED_DENSITY',\n",
       " 'INVERT_Y',\n",
       " 'KURTOSIS',\n",
       " 'LABELS',\n",
       " 'LIMIT',\n",
       " 'MAX_STANDARDS',\n",
       " 'MEAN',\n",
       " 'MEDIAN',\n",
       " 'MIN_MAX',\n",
       " 'MODE',\n",
       " 'NaN_EMPTY_CELLS',\n",
       " 'PERIMETER',\n",
       " 'PROPERTIES',\n",
       " 'RECT',\n",
       " 'SCIENTIFIC_NOTATION',\n",
       " 'SHAPE_DESCRIPTORS',\n",
       " 'SKEWNESS',\n",
       " 'SLICE',\n",
       " 'SOMEBITS',\n",
       " 'STACK_POSITION',\n",
       " 'STD_DEV',\n",
       " 'WIDTH',\n",
       " '__class__',\n",
       " '__cls_storage',\n",
       " '__delattr__',\n",
       " '__dict__',\n",
       " '__dir__',\n",
       " '__doc__',\n",
       " '__eq__',\n",
       " '__format__',\n",
       " '__ge__',\n",
       " '__getattribute__',\n",
       " '__gt__',\n",
       " '__hash__',\n",
       " '__init__',\n",
       " '__init_subclass__',\n",
       " '__javaclass__',\n",
       " '__javaconstructor__',\n",
       " '__le__',\n",
       " '__lt__',\n",
       " '__module__',\n",
       " '__ne__',\n",
       " '__new__',\n",
       " '__pyx_vtable__',\n",
       " '__reduce__',\n",
       " '__reduce_ex__',\n",
       " '__repr__',\n",
       " '__setattr__',\n",
       " '__setstate__',\n",
       " '__sizeof__',\n",
       " '__str__',\n",
       " '__subclasshook__',\n",
       " '__weakref__',\n",
       " 'addImageListener',\n",
       " 'allStatistics',\n",
       " 'bitDepth',\n",
       " 'bufferedImage',\n",
       " 'bytesPerPixel',\n",
       " 'c',\n",
       " 'calibration',\n",
       " 'canvas',\n",
       " 'changes',\n",
       " 'channel',\n",
       " 'channelProcessor',\n",
       " 'clipboard',\n",
       " 'clone',\n",
       " 'close',\n",
       " 'composite',\n",
       " 'compositeMode',\n",
       " 'convertIndexToPosition',\n",
       " 'copy',\n",
       " 'copyAttributes',\n",
       " 'copyScale',\n",
       " 'createEmptyStack',\n",
       " 'createHyperStack',\n",
       " 'createImagePlus',\n",
       " 'createLut',\n",
       " 'createNewRoi',\n",
       " 'createRoiMask',\n",
       " 'createThresholdMask',\n",
       " 'crop',\n",
       " 'currentSlice',\n",
       " 'default16bitRange',\n",
       " 'deleteRoi',\n",
       " 'displayList',\n",
       " 'displayMode',\n",
       " 'displayRangeMax',\n",
       " 'displayRangeMin',\n",
       " 'displayedHyperStack',\n",
       " 'draw',\n",
       " 'duplicate',\n",
       " 'equals',\n",
       " 'fileInfo',\n",
       " 'flatten',\n",
       " 'flattenStack',\n",
       " 'flattenTitle',\n",
       " 'flush',\n",
       " 'frame',\n",
       " 'getAllStatistics',\n",
       " 'getBitDepth',\n",
       " 'getBufferedImage',\n",
       " 'getBytesPerPixel',\n",
       " 'getC',\n",
       " 'getCalibration',\n",
       " 'getCanvas',\n",
       " 'getChannel',\n",
       " 'getChannelProcessor',\n",
       " 'getClass',\n",
       " 'getClipboard',\n",
       " 'getCompositeMode',\n",
       " 'getCurrentSlice',\n",
       " 'getDefault16bitRange',\n",
       " 'getDimensions',\n",
       " 'getDisplayList',\n",
       " 'getDisplayMode',\n",
       " 'getDisplayRangeMax',\n",
       " 'getDisplayRangeMin',\n",
       " 'getFileInfo',\n",
       " 'getFrame',\n",
       " 'getGlobalCalibration',\n",
       " 'getHeight',\n",
       " 'getHideOverlay',\n",
       " 'getID',\n",
       " 'getImage',\n",
       " 'getImageStack',\n",
       " 'getImageStackSize',\n",
       " 'getInfoProperty',\n",
       " 'getLocalCalibration',\n",
       " 'getLocationAsString',\n",
       " 'getLuts',\n",
       " 'getMask',\n",
       " 'getNChannels',\n",
       " 'getNDimensions',\n",
       " 'getNFrames',\n",
       " 'getNSlices',\n",
       " 'getNumericProperty',\n",
       " 'getOpenAsHyperStack',\n",
       " 'getOriginalFileInfo',\n",
       " 'getOverlay',\n",
       " 'getPixel',\n",
       " 'getPlot',\n",
       " 'getProcessor',\n",
       " 'getProp',\n",
       " 'getProperties',\n",
       " 'getProperty',\n",
       " 'getRawStatistics',\n",
       " 'getRoi',\n",
       " 'getShortTitle',\n",
       " 'getSizeInBytes',\n",
       " 'getSlice',\n",
       " 'getStack',\n",
       " 'getStackIndex',\n",
       " 'getStackSize',\n",
       " 'getStartTime',\n",
       " 'getStaticGlobalCalibration',\n",
       " 'getStatistics',\n",
       " 'getStringProperty',\n",
       " 'getT',\n",
       " 'getTitle',\n",
       " 'getType',\n",
       " 'getWidth',\n",
       " 'getWindow',\n",
       " 'getZ',\n",
       " 'globalCalibration',\n",
       " 'hashCode',\n",
       " 'height',\n",
       " 'hide',\n",
       " 'hideOverlay',\n",
       " 'hyperStack',\n",
       " 'iD',\n",
       " 'image',\n",
       " 'imageStack',\n",
       " 'imageStackSize',\n",
       " 'imageUpdate',\n",
       " 'infoProperty',\n",
       " 'invertedLut',\n",
       " 'isComposite',\n",
       " 'isDisplayedHyperStack',\n",
       " 'isHyperStack',\n",
       " 'isInvertedLut',\n",
       " 'isLocked',\n",
       " 'isProcessor',\n",
       " 'isStack',\n",
       " 'isThreshold',\n",
       " 'isVisible',\n",
       " 'killProcessor',\n",
       " 'killRoi',\n",
       " 'killStack',\n",
       " 'localCalibration',\n",
       " 'lock',\n",
       " 'lockSilently',\n",
       " 'locked',\n",
       " 'luts',\n",
       " 'mask',\n",
       " 'mouseMoved',\n",
       " 'nChannels',\n",
       " 'nDimensions',\n",
       " 'nFrames',\n",
       " 'nSlices',\n",
       " 'notify',\n",
       " 'notifyAll',\n",
       " 'okToDeleteRoi',\n",
       " 'openAsHyperStack',\n",
       " 'originalFileInfo',\n",
       " 'overlay',\n",
       " 'paste',\n",
       " 'plot',\n",
       " 'plotHistogram',\n",
       " 'processor',\n",
       " 'properties',\n",
       " 'rawStatistics',\n",
       " 'removeImageListener',\n",
       " 'repaintWindow',\n",
       " 'resetClipboard',\n",
       " 'resetDisplayRange',\n",
       " 'resetStack',\n",
       " 'restoreRoi',\n",
       " 'revert',\n",
       " 'roi',\n",
       " 'saveRoi',\n",
       " 'setActivated',\n",
       " 'setActiveChannels',\n",
       " 'setAntialiasRendering',\n",
       " 'setC',\n",
       " 'setCalibration',\n",
       " 'setColor',\n",
       " 'setDefault16bitRange',\n",
       " 'setDimensions',\n",
       " 'setDisplayList',\n",
       " 'setDisplayMode',\n",
       " 'setDisplayRange',\n",
       " 'setFileInfo',\n",
       " 'setGlobalCalibration',\n",
       " 'setHideOverlay',\n",
       " 'setIJMenuBar',\n",
       " 'setIgnoreFlush',\n",
       " 'setIgnoreGlobalCalibration',\n",
       " 'setImage',\n",
       " 'setLut',\n",
       " 'setOpenAsHyperStack',\n",
       " 'setOverlay',\n",
       " 'setPlot',\n",
       " 'setPosition',\n",
       " 'setPositionWithoutUpdate',\n",
       " 'setProcessor',\n",
       " 'setProperty',\n",
       " 'setRoi',\n",
       " 'setSlice',\n",
       " 'setSliceWithoutUpdate',\n",
       " 'setStack',\n",
       " 'setT',\n",
       " 'setTitle',\n",
       " 'setWindow',\n",
       " 'setZ',\n",
       " 'shortTitle',\n",
       " 'show',\n",
       " 'sizeInBytes',\n",
       " 'slice',\n",
       " 'stack',\n",
       " 'stackSize',\n",
       " 'startTime',\n",
       " 'startTiming',\n",
       " 'staticGlobalCalibration',\n",
       " 't',\n",
       " 'threshold',\n",
       " 'title',\n",
       " 'toString',\n",
       " 'trimProcessor',\n",
       " 'type',\n",
       " 'unlock',\n",
       " 'updateAndDraw',\n",
       " 'updateAndRepaintWindow',\n",
       " 'updateChannelAndDraw',\n",
       " 'updateImage',\n",
       " 'updatePosition',\n",
       " 'updateStatusbarValue',\n",
       " 'updateVirtualSlice',\n",
       " 'visible',\n",
       " 'wait',\n",
       " 'width',\n",
       " 'window',\n",
       " 'z']"
      ]
     },
     "execution_count": 8,
     "metadata": {},
     "output_type": "execute_result"
    }
   ],
   "source": [
    "dir(gui.xanes3D_fiji_windows['xanes3D_review_viewer']['ip'])\n",
    "#help(gui.xanes3D_fiji_windows['xanes3D_review_viewer']['ip'].getStackIndex())"
   ]
  },
  {
   "cell_type": "code",
   "execution_count": 1,
   "metadata": {},
   "outputs": [],
   "source": [
    "import numpy as np\n",
    "import imagej\n",
    "import time\n",
    "\n",
    "ij = imagej.init('/home/xiao/software/Fiji.app', headless=False)\n",
    "ijui = ij.ui()\n",
    "ijui.showUI()"
   ]
  },
  {
   "cell_type": "code",
   "execution_count": 61,
   "metadata": {},
   "outputs": [],
   "source": [
    "import h5py\n",
    "fn = '/NSLS2/xf18id1/users/2020Q1/ENYUAN_Proposal_305409/3D_trial_reg_scan_id_29671-29771_2020-05-28-17-54-45.h5'\n",
    "f = h5py.File(fn, 'a')\n",
    "img = f['/registration_results/reg_results/registered_xanes3D'][50, :]\n",
    "fit = f['/processed_XANES3D/proc_spectrum/spectrum_whiteline_pos'][:]\n",
    "f.close()"
   ]
  },
  {
   "cell_type": "code",
   "execution_count": 55,
   "metadata": {},
   "outputs": [],
   "source": [
    "from jnius import autoclass\n",
    "WindowManager = autoclass('ij.WindowManager')\n",
    "ImagePlusClass = autoclass('ij.ImagePlus')\n",
    "\n",
    "ijui.show(ij.py.to_java(img))\n",
    "img_win = WindowManager.getCurrentWindow()\n",
    "WindowManager.setCurrentWindow(img_win)"
   ]
  },
  {
   "cell_type": "code",
   "execution_count": 56,
   "metadata": {},
   "outputs": [],
   "source": [
    "ij.py.run_macro(\"\"\"run(\"Duplicate...\", \"title=VOL duplicate\");\"\"\")\n",
    "\n",
    "ll=0.0015\n",
    "hl = 1\n",
    "ij.py.run_macro(f\"\"\"setThreshold({ll}, {hl});\"\"\")\n",
    "ij.py.run_macro(\"\"\"run(\"Convert to Mask\", \"method=Default background=Dark black\");\"\"\")\n",
    "mask_win = WindowManager.getCurrentWindow()"
   ]
  },
  {
   "cell_type": "code",
   "execution_count": 57,
   "metadata": {},
   "outputs": [],
   "source": [
    "WindowManager.setCurrentWindow(mask_win)\n",
    "ij.py.run_macro(\"\"\"run(\"Remove Outliers\", \"block_radius_x=100 block_radius_y=100 standard_deviations=3 stack\");\"\"\")\n",
    "\n",
    "for ii in range(3):\n",
    "    ij.py.run_macro(\"\"\"run(\"Erode (3D)\", \"iso=255\");\"\"\")\n",
    "for ii in range(8):\n",
    "    ij.py.run_macro(\"\"\"run(\"Dilate (3D)\", \"iso=255\");\"\"\")\n",
    "for ii in range(3):\n",
    "    ij.py.run_macro(\"\"\"run(\"Erode (3D)\", \"iso=255\");\"\"\")"
   ]
  },
  {
   "cell_type": "code",
   "execution_count": 62,
   "metadata": {},
   "outputs": [
    {
     "data": {
      "text/plain": [
       "<org.scijava.script.ScriptModule at 0x7f91b434ee60 jclass=org/scijava/script/ScriptModule jself=<LocalRef obj=0x5600d87fbf68 at 0x7f91cfdbf930>>"
      ]
     },
     "execution_count": 62,
     "metadata": {},
     "output_type": "execute_result"
    }
   ],
   "source": [
    "WindowManager.setCurrentWindow(mask_win)\n",
    "mask_ip = WindowManager.getCurrentImage()\n",
    "mask1 = ij.py.from_java(mask_ip)\n",
    "fit *= (mask1/255.)\n",
    "ijui.show(ij.py.to_java(fit))\n",
    "ij.py.run_macro(\"\"\"call(\"java.lang.System.gc\");\"\"\")"
   ]
  },
  {
   "cell_type": "code",
   "execution_count": 53,
   "metadata": {},
   "outputs": [
    {
     "data": {
      "text/plain": [
       "<org.scijava.script.ScriptModule at 0x7f91cfdc7780 jclass=org/scijava/script/ScriptModule jself=<LocalRef obj=0x7f90f82d7148 at 0x7f91b4358bb0>>"
      ]
     },
     "execution_count": 53,
     "metadata": {},
     "output_type": "execute_result"
    }
   ],
   "source": []
  },
  {
   "cell_type": "code",
   "execution_count": 66,
   "metadata": {},
   "outputs": [
    {
     "data": {
      "text/plain": [
       "array([1, 0], dtype=int8)"
      ]
     },
     "execution_count": 66,
     "metadata": {},
     "output_type": "execute_result"
    }
   ],
   "source": [
    "np.array([True, False]).astype(np.int8)"
   ]
  },
  {
   "cell_type": "code",
   "execution_count": 2,
   "metadata": {},
   "outputs": [],
   "source": [
    "gui.a = 0"
   ]
  },
  {
   "cell_type": "code",
   "execution_count": 4,
   "metadata": {},
   "outputs": [
    {
     "name": "stdout",
     "output_type": "stream",
     "text": [
      "0\n"
     ]
    }
   ],
   "source": [
    "print(gui.a)"
   ]
  },
  {
   "cell_type": "code",
   "execution_count": 1,
   "metadata": {},
   "outputs": [
    {
     "name": "stderr",
     "output_type": "stream",
     "text": [
      "/home/xiao/software/anaconda3/envs/py37play/lib/python3.7/site-packages/napari/__init__.py:44: UserWarning: \n",
      "    napari was tested with QT library `>=5.12.3`.\n",
      "    The version installed is 5.9.6. Please report any issues with this\n",
      "    specific QT version at https://github.com/Napari/napari/issues.\n",
      "    \n",
      "  warn(message=warn_message)\n",
      "/home/xiao/software/anaconda3/envs/py37play/lib/python3.7/site-packages/vispy/visuals/line/line.py:395: FutureWarning: Passing (type, 1) or '1type' as a synonym of type is deprecated; in a future version of numpy, it will be understood as (type, (1,)) / '(1,)type'.\n",
      "  ('color', np.float32, 4)])\n",
      "/home/xiao/software/anaconda3/envs/py37play/lib/python3.7/site-packages/vispy/visuals/line/arrow.py:57: FutureWarning: Passing (type, 1) or '1type' as a synonym of type is deprecated; in a future version of numpy, it will be understood as (type, (1,)) / '(1,)type'.\n",
      "  ('linewidth', np.float32, 1)\n",
      "/home/xiao/software/anaconda3/envs/py37play/lib/python3.7/site-packages/vispy/visuals/isocurve.py:22: UserWarning: VisPy is not yet compatible with matplotlib 2.2+\n",
      "  warnings.warn(\"VisPy is not yet compatible with matplotlib 2.2+\")\n"
     ]
    },
    {
     "name": "stdout",
     "output_type": "stream",
     "text": [
      "Added 390 JARs to the Java classpath.\n"
     ]
    },
    {
     "data": {
      "application/vnd.jupyter.widget-view+json": {
       "model_id": "4a6bc154bd30416c8117a537183f590c",
       "version_major": 2,
       "version_minor": 0
      },
      "text/plain": [
       "Tab(children=(Tab(children=(VBox(children=(VBox(children=(HBox(children=(HTML(value=\"<span style='color:red; f…"
      ]
     },
     "metadata": {},
     "output_type": "display_data"
    }
   ],
   "source": [
    "%gui qt\n",
    "from importlib import reload\n",
    "import xanes_regtools_gui_develop as xrg\n",
    "#xrg = reload(xrg)\n",
    "gui = xrg.xanes_regtools_gui(form_sz=[750, 1000])\n",
    "gui.gui_layout()"
   ]
  },
  {
   "cell_type": "code",
   "execution_count": 35,
   "metadata": {},
   "outputs": [
    {
     "data": {
      "text/plain": [
       "21"
      ]
     },
     "execution_count": 35,
     "metadata": {},
     "output_type": "execute_result"
    }
   ],
   "source": [
    "#dir(gui.tomo_fiji_windows['tomo_cen_review_viewer']['ip'])\n",
    "#a = gui.ij.py.run_macro(\"\"\"run(\"Show Info...\")\"\"\")\n",
    "#dir(gui.WindowManager)\n",
    "#gui.WindowManager.getFrame(1)\n",
    "gui.tomo_fiji_windows['tomo_cen_review_viewer']['ip'].getZ()"
   ]
  },
  {
   "cell_type": "code",
   "execution_count": 6,
   "metadata": {},
   "outputs": [
    {
     "ename": "TypeError",
     "evalue": "'org.scijava.script.ScriptModule' object is not subscriptable",
     "output_type": "error",
     "traceback": [
      "\u001b[0;31m---------------------------------------------------------------------------\u001b[0m",
      "\u001b[0;31mTypeError\u001b[0m                                 Traceback (most recent call last)",
      "\u001b[0;32m<ipython-input-6-23821ec76b06>\u001b[0m in \u001b[0;36m<module>\u001b[0;34m\u001b[0m\n\u001b[0;32m----> 1\u001b[0;31m \u001b[0mprint\u001b[0m\u001b[0;34m(\u001b[0m\u001b[0ma\u001b[0m\u001b[0;34m[\u001b[0m\u001b[0;36m0\u001b[0m\u001b[0;34m]\u001b[0m\u001b[0;34m)\u001b[0m\u001b[0;34m\u001b[0m\u001b[0;34m\u001b[0m\u001b[0m\n\u001b[0m",
      "\u001b[0;31mTypeError\u001b[0m: 'org.scijava.script.ScriptModule' object is not subscriptable"
     ]
    }
   ],
   "source": [
    "print(a[0])"
   ]
  },
  {
   "cell_type": "code",
   "execution_count": 2,
   "metadata": {},
   "outputs": [
    {
     "name": "stdout",
     "output_type": "stream",
     "text": [
      "set()\n",
      "{1, 2, 3}\n",
      "{2, 3}\n"
     ]
    }
   ],
   "source": [
    "import ipywidgets as widgets\n",
    "\n",
    "widgets.Textarea(\n",
    "    value='Hello World\\nsecond line',\n",
    "    placeholder='Type something',\n",
    "    description='String:',\n",
    "    disabled=False\n",
    ")\n",
    "\n",
    "a = set()\n",
    "print(a)\n",
    "for ii in [1,2,3,1]:\n",
    "    a.add(ii)\n",
    "print(a)\n",
    "a.remove(1)\n",
    "print(a)"
   ]
  },
  {
   "cell_type": "code",
   "execution_count": 19,
   "metadata": {},
   "outputs": [
    {
     "name": "stdout",
     "output_type": "stream",
     "text": [
      "fit_edge_poly\n",
      "fit_polynd is done\n",
      "find_fit_edge_0p5_map_poly is done\n",
      "Something wrong in find_fit_edge_0p5_map_poly\n"
     ]
    }
   ],
   "source": [
    "import xanes_analysis as xa, h5py\n",
    "fn = '/media/xiao_usb/JuLi_2020Q1/2D_trial_reg_xanes_scan2_id_54312_2020-07-03-21-00-36.h5'\n",
    "with h5py.File(fn, 'r') as f:\n",
    "    normalized_spectrum = f['/processed_XANES2D/proc_spectrum/normalized_spectrum'][:]\n",
    "    eng_list = f['/processed_XANES2D/proc_parameters/eng_list'][:]\n",
    "xana = xa.xanes_analysis(normalized_spectrum, eng_list, 8347, pre_ee=-50, post_es=100, edge_jump_threshold=1, pre_edge_threshold=1)\n",
    "xana.normalized_spectrum = normalized_spectrum\n",
    "#xana.fit_edge(8342, 8353, 'numpy', **{'order': 3, 'ufac': 50, 'flt_spec': False})\n",
    "xana.fit_edge_0p5(8342, 8353, 'numpy', **{'order': 3, 'ufac': 50, 'flt_spec': False})\n",
    "xana.calc_edge_0p5_direct(8342, 8353)"
   ]
  },
  {
   "cell_type": "code",
   "execution_count": 62,
   "metadata": {},
   "outputs": [
    {
     "name": "stdout",
     "output_type": "stream",
     "text": [
      "602995.0 -1194570.0\n",
      "a: (1784, 2082)\n",
      "idx len: 3 \n",
      "idx shape: (3714288,)\n",
      "375143088\n",
      "normalized_spectrum.shape: (101, 1784, 2082) \n",
      "a shape: (1784, 2082) \n",
      "b shape: (1784, 2082) \n",
      "c shape: (1784, 2082)\n"
     ]
    }
   ],
   "source": [
    "import numpy as np\n",
    "print(normalized_spectrum.max(), normalized_spectrum.min())\n",
    "a = np.argmin(np.abs(normalized_spectrum-0.5), axis=0)\n",
    "print('a:', a.shape)\n",
    "idx = np.unravel_index(a.flatten(), normalized_spectrum.shape)\n",
    "print('idx len:', len(idx), '\\nidx shape:', idx[1].shape)\n",
    "print(101*1784*2082)\n",
    "b = normalized_spectrum[idx].reshape(normalized_spectrum.shape[1:])\n",
    "c = normalized_spectrum.flatten()[a.flatten()].reshape(normalized_spectrum.shape[1:])\n",
    "print('normalized_spectrum.shape:', normalized_spectrum.shape, \n",
    "      '\\na shape:', a.shape, \n",
    "      '\\nb shape:', b.shape,\n",
    "      '\\nc shape:', c.shape)"
   ]
  },
  {
   "cell_type": "code",
   "execution_count": 86,
   "metadata": {},
   "outputs": [
    {
     "name": "stdout",
     "output_type": "stream",
     "text": [
      "[ 1.  2.  3.  4.  5.  6.  7.  8.  9. 10. 11. 12. 13. 14. 15. 16. 17. 18.\n",
      " 19. 20. 21.] \n",
      " [[ 4 12 14 13]\n",
      " [ 1  8  0 10]\n",
      " [15 10 12  8]]\n",
      "eng shape: (21, 1, 1) \n",
      "a shape: (3, 4)\n",
      "(3, 4, 1, 1)\n",
      "[[ 5. 13. 15. 14.]\n",
      " [ 2.  9.  1. 11.]\n",
      " [16. 11. 13.  9.]]\n"
     ]
    },
    {
     "data": {
      "text/plain": [
       "'\\nax = -1\\nind = np.argmin(a, axis=ax)\\nc = np.take_along_axis(a, np.expand_dims(ind, axis=ax), axis=ax)\\nprint(ind)\\nprint(c)\\n'"
      ]
     },
     "execution_count": 86,
     "metadata": {},
     "output_type": "execute_result"
    }
   ],
   "source": [
    "eng = np.linspace(1, 21, 21)\n",
    "eng = eng[:, np.newaxis, np.newaxis]\n",
    "a = np.random.randint(low=0, high=20, size=(3, 4))\n",
    "print(np.squeeze(eng), '\\n', a)\n",
    "print('eng shape:', eng.shape, '\\na shape:', a.shape)\n",
    "print(eng[a].shape)\n",
    "print(np.squeeze(eng[a]))\n",
    "#ind = np.unravel_index(np.argmin(a, axis=0), a.shape)\n",
    "#print(np.argmin(a, axis=0))\n",
    "#print(ind)\n",
    "#print(a[ind])\n",
    "\n",
    "'''\n",
    "ax = -1\n",
    "ind = np.argmin(a, axis=ax)\n",
    "c = np.take_along_axis(a, np.expand_dims(ind, axis=ax), axis=ax)\n",
    "print(ind)\n",
    "print(c)\n",
    "'''"
   ]
  },
  {
   "cell_type": "code",
   "execution_count": 3,
   "metadata": {},
   "outputs": [
    {
     "name": "stdout",
     "output_type": "stream",
     "text": [
      "no\n"
     ]
    }
   ],
   "source": [
    "#help(np.random.randint)\n",
    "if ('a' or 'b') in 'kcg':\n",
    "    print('yes')\n",
    "else:\n",
    "    print('no')"
   ]
  },
  {
   "cell_type": "code",
   "execution_count": 63,
   "metadata": {},
   "outputs": [
    {
     "data": {
      "text/plain": [
       "<matplotlib.image.AxesImage at 0x7f648d5cc210>"
      ]
     },
     "execution_count": 63,
     "metadata": {},
     "output_type": "execute_result"
    }
   ],
   "source": [
    "%matplotlib qt\n",
    "import matplotlib.pyplot as plt\n",
    "#plt.imshow(xana.edge_pos_fit)\n",
    "#plt.plot(xana.edge_pos_fit)\n",
    "#plt.plot(xana.edge_pos_0p5_direct)\n",
    "#print(xana.edge_pos_0p5_direct)\n",
    "#gui.ijui.show(gui.ij.py.to_java(xana.edge_pos_0p5_direct))\n",
    "plt.figure(0)\n",
    "plt.imshow(b)\n",
    "plt.figure(1)\n",
    "plt.imshow(c)\n",
    "plt.figure(2)\n",
    "plt.imshow(b-c)"
   ]
  },
  {
   "cell_type": "code",
   "execution_count": 8,
   "metadata": {},
   "outputs": [
    {
     "name": "stdout",
     "output_type": "stream",
     "text": [
      "56605\n"
     ]
    }
   ],
   "source": [
    "#print((gui.xanes2D_gui.hs['L[0][1][2][0][2][0]_reg_pair_slider'].max))\n",
    "#print((gui.xanes2D_gui.xanes2D_reg_roi))\n",
    "#gui.xanes2D_gui.xanes_analysis_gui_h.hs['L[0][x][3][0][5][1]_analysis_run_button'].disabled = False\n",
    "#print(1300*1960*2360*8/1024/1024/1024)\n",
    "#gui.xanes2D_gui.xanes_analysis_gui_h.\n",
    "#print(gui.xanes3D_gui.xanes3D_config['indeices config']['xanes3D_scan_id_s'])\n",
    "#print(gui.xanes3D_gui.xanes3D_config)\n",
    "print(gui.xanes3D_gui.xanes3D_fixed_scan_id)"
   ]
  },
  {
   "cell_type": "code",
   "execution_count": 2,
   "metadata": {},
   "outputs": [],
   "source": [
    "import numpy as np\n",
    "from gui_components import (SelectFilesButton, NumpyArrayEncoder, \n",
    "                            get_handles, enable_disable_boxes, \n",
    "                            check_file_availability, get_raw_img_info,\n",
    "                            gen_external_py_script, fiji_viewer_state, \n",
    "                            fiji_viewer_on, fiji_viewer_off,\n",
    "                            read_config_from_reg_file, restart,\n",
    "                            determine_element, determine_fitting_energy_range,\n",
    "                            scale_eng_list)\n",
    "#gui.xanes2D_gui.xanes_analysis_gui_h.normalized_spectrum\n",
    "#fiji_viewer_on(gui, gui.xanes2D_gui, viewer_name='xanes2D_raw_img_viewer')\n",
    "boxes = ['L[0][1][0][1]_config_data_box']\n",
    "enable_disable_boxes(gui.xanes2D_gui.hs, boxes, disabled=True, level=-1)"
   ]
  },
  {
   "cell_type": "code",
   "execution_count": 1,
   "metadata": {},
   "outputs": [
    {
     "name": "stderr",
     "output_type": "stream",
     "text": [
      "[numexpr.utils] INFO : Note: NumExpr detected 24 cores but \"NUMEXPR_MAX_THREADS\" not set, so enforcing safe limit of 8.\n",
      "[numexpr.utils] INFO : NumExpr defaulting to 8 threads.\n",
      "[dxchange.reader] WARNING : astropy module not found\n"
     ]
    },
    {
     "name": "stdout",
     "output_type": "stream",
     "text": [
      "pre_es_idx: 0, pre_ee_idx: 8\n",
      "post_es_idx: 92, post_ee_idx: 100\n",
      "(2, 1960, 2360) (2, 1960, 2360)\n",
      "(2, 1960, 2360)\n",
      "(2, 1960, 2360)\n",
      "(2, 1960, 2360)\n",
      "(2, 1960, 2360)\n",
      "(2, 1960, 2360)\n",
      "(2, 1960, 2360)\n",
      "(2, 1960, 2360)\n",
      "(2, 1960, 2360)\n"
     ]
    }
   ],
   "source": [
    "import os, h5py\n",
    "import numpy as np\n",
    "import xanes_math as xm\n",
    "import xanes_analysis as xa\n",
    "\n",
    "with h5py.File('/media/xiao_usb/JuLi_2020Q1/2D_trial_reg_xanes_scan2_id_54311_2020-07-01-11-20-34.h5', 'r+') as f:\n",
    "    imgs = f['/registration_results/reg_results/registered_xanes2D'][:]\n",
    "    xanes2D_analysis_eng_list = f['/processed_XANES2D/proc_parameters/eng_list'][:]\n",
    "    xanes2D_analysis_edge_eng = f['/processed_XANES2D/proc_parameters/edge_eng'][()]\n",
    "    xanes2D_analysis_pre_edge_e = f['/processed_XANES2D/proc_parameters/pre_edge_e'][()]\n",
    "    xanes2D_analysis_post_edge_s = f['/processed_XANES2D/proc_parameters/post_edge_s'][()]\n",
    "    xanes2D_analysis_edge_jump_thres = f['/processed_XANES2D/proc_parameters/edge_jump_threshold'][()]\n",
    "    xanes2D_analysis_edge_offset_thres = f['/processed_XANES2D/proc_parameters/edge_offset_threshold'][()]\n",
    "    xanes2D_analysis_use_mask = f['/processed_XANES2D/proc_parameters/use_mask'][()]\n",
    "    xanes2D_analysis_type = f['/processed_XANES2D/proc_parameters/analysis_type'][()]\n",
    "    xanes2D_analysis_data_shape = f['/processed_XANES2D/proc_parameters/data_shape'][:]\n",
    "    xanes2D_analysis_data_shape = imgs.shape\n",
    "    xanes2D_analysis_edge_0p5_fit_s = f['/processed_XANES2D/proc_parameters/edge_0p5_fit_s'][()]\n",
    "    xanes2D_analysis_edge_0p5_fit_e = f['/processed_XANES2D/proc_parameters/edge_0p5_fit_e'][()]\n",
    "    xanes2D_analysis_wl_fit_eng_s = f['/processed_XANES2D/proc_parameters/wl_fit_eng_s'][()]\n",
    "    xanes2D_analysis_wl_fit_eng_e = f['/processed_XANES2D/proc_parameters/wl_fit_eng_e'][()]\n",
    "    xanes2D_analysis_use_flt_spec = f['/processed_XANES2D/proc_parameters/flt_spec'][()]\n",
    "    xanes2D_analysis_norm_fitting_order = f['/processed_XANES2D/proc_parameters/normalized_fitting_order'][()]\n",
    "    xana = xa.xanes_analysis(imgs, xanes2D_analysis_eng_list, xanes2D_analysis_edge_eng, pre_ee=xanes2D_analysis_pre_edge_e, post_es=xanes2D_analysis_post_edge_s, edge_jump_threshold=xanes2D_analysis_edge_jump_thres, pre_edge_threshold=xanes2D_analysis_edge_offset_thres)\n",
    "\n",
    "\n",
    "    if xanes2D_analysis_type == 'wl':\n",
    "        xana.fit_whiteline(xanes2D_analysis_wl_fit_eng_s, xanes2D_analysis_wl_fit_eng_e, 'numpy', **{'order': 3, 'ufac': 50, 'flt_spec': False})\n",
    "        if True:\n",
    "            xana.fit_edge(xanes2D_analysis_edge_0p5_fit_s, xanes2D_analysis_edge_0p5_fit_e, 'numpy', **{'order': 4, 'ufac': 50, 'flt_spec': False})\n",
    "        xana.calc_direct_whiteline(xanes2D_analysis_wl_fit_eng_s, xanes2D_analysis_wl_fit_eng_e)\n",
    "    elif xanes2D_analysis_type == 'full':\n",
    "        xana.fit_pre_edge()\n",
    "        xana.fit_post_edge()\n",
    "        xana.cal_edge_jump_map()\n",
    "        xana.cal_pre_edge_sd()\n",
    "        xana.cal_post_edge_sd()\n",
    "        xana.cal_pre_edge_mean()\n",
    "        xana.cal_post_edge_mean()\n",
    "        xana.create_edge_jump_filter(xanes2D_analysis_edge_jump_thres)\n",
    "        xana.create_fitted_edge_filter(xanes2D_analysis_edge_offset_thres)\n",
    "        xana.normalize_xanes(xanes2D_analysis_edge_eng, order=xanes2D_analysis_norm_fitting_order, save_pre_post=True)\n",
    "        xana.fit_whiteline(xanes2D_analysis_wl_fit_eng_s, xanes2D_analysis_wl_fit_eng_e, 'numpy', **{'order': 3, 'ufac': 50, 'flt_spec': False})\n",
    "        if True:\n",
    "            xana.fit_edge(xanes2D_analysis_edge_0p5_fit_s, xanes2D_analysis_edge_0p5_fit_e, 'numpy', **{'order': 4, 'ufac': 50, 'flt_spec': False})\n",
    "        xana.calc_direct_whiteline(xanes2D_analysis_wl_fit_eng_s, xanes2D_analysis_wl_fit_eng_e)\n",
    "        xana.calc_direct_whiteline_peak_height(xanes2D_analysis_wl_fit_eng_s, xanes2D_analysis_wl_fit_eng_e)\n",
    "        xana.calc_weighted_eng(xanes2D_analysis_pre_edge_e)\n",
    "        \n"
   ]
  },
  {
   "cell_type": "code",
   "execution_count": 18,
   "metadata": {},
   "outputs": [
    {
     "name": "stdout",
     "output_type": "stream",
     "text": [
      "(10, 50, 50)\n"
     ]
    },
    {
     "ename": "TypeError",
     "evalue": "tuple indices must be integers or slices, not tuple",
     "output_type": "error",
     "traceback": [
      "\u001b[0;31m---------------------------------------------------------------------------\u001b[0m",
      "\u001b[0;31mTypeError\u001b[0m                                 Traceback (most recent call last)",
      "\u001b[0;32m<ipython-input-18-2e8ba5abbd8f>\u001b[0m in \u001b[0;36m<module>\u001b[0;34m\u001b[0m\n\u001b[1;32m      1\u001b[0m \u001b[0mxanes3D_analysis_data_shape\u001b[0m \u001b[0;34m=\u001b[0m \u001b[0mimgs\u001b[0m\u001b[0;34m.\u001b[0m\u001b[0mshape\u001b[0m\u001b[0;34m\u001b[0m\u001b[0;34m\u001b[0m\u001b[0m\n\u001b[1;32m      2\u001b[0m \u001b[0mprint\u001b[0m\u001b[0;34m(\u001b[0m\u001b[0mxanes3D_analysis_data_shape\u001b[0m\u001b[0;34m)\u001b[0m\u001b[0;34m\u001b[0m\u001b[0;34m\u001b[0m\u001b[0m\n\u001b[0;32m----> 3\u001b[0;31m \u001b[0mxanes3D_analysis_data_shape\u001b[0m \u001b[0;34m=\u001b[0m \u001b[0mxanes3D_analysis_data_shape\u001b[0m\u001b[0;34m[\u001b[0m\u001b[0;34m:\u001b[0m\u001b[0;34m,\u001b[0m \u001b[0mnp\u001b[0m\u001b[0;34m.\u001b[0m\u001b[0mnewaxis\u001b[0m\u001b[0;34m,\u001b[0m \u001b[0;34m:\u001b[0m\u001b[0;34m]\u001b[0m\u001b[0;34m\u001b[0m\u001b[0;34m\u001b[0m\u001b[0m\n\u001b[0m\u001b[1;32m      4\u001b[0m \u001b[0mprint\u001b[0m\u001b[0;34m(\u001b[0m\u001b[0mxanes3D_analysis_data_shape\u001b[0m\u001b[0;34m)\u001b[0m\u001b[0;34m\u001b[0m\u001b[0;34m\u001b[0m\u001b[0m\n",
      "\u001b[0;31mTypeError\u001b[0m: tuple indices must be integers or slices, not tuple"
     ]
    }
   ],
   "source": [
    "xanes3D_analysis_data_shape = imgs.shape\n",
    "print(xanes3D_analysis_data_shape)\n",
    "xanes3D_analysis_data_shape = xanes3D_analysis_data_shape[:, np.newaxis, :]\n",
    "print(xanes3D_analysis_data_shape)"
   ]
  },
  {
   "cell_type": "code",
   "execution_count": 47,
   "metadata": {},
   "outputs": [
    {
     "name": "stdout",
     "output_type": "stream",
     "text": [
      "eng: (101, 1, 1)\n",
      "idx_ds: (100, 100)\n",
      "x: (100, 100)\n",
      "y: (100, 100)\n",
      "z: (100, 100)\n",
      "z1: (100, 100)\n",
      "z2: (100, 100)\n",
      "7722.0\n"
     ]
    },
    {
     "data": {
      "text/plain": [
       "'\\nprint(xana.wl_pos.shape)\\nprint(xana.edge_pos.shape)\\nprint(xana.edge_pos_0p5.shape)\\n'"
      ]
     },
     "execution_count": 47,
     "metadata": {},
     "output_type": "execute_result"
    }
   ],
   "source": [
    "from copy import deepcopy\n",
    "\n",
    "#print(xana.wl_fit_coef.shape)\n",
    "eng = deepcopy(xana.eng)\n",
    "peak_es = 7722\n",
    "peak_ee = 7735\n",
    "ufac = 10\n",
    "idx_s = xm.index_of(xana.eng, peak_es)\n",
    "idx_e = xm.index_of(xana.eng, peak_ee)\n",
    "us_idx = np.linspace(idx_s, idx_e, num=(idx_e - idx_s + 1)*ufac)\n",
    "for ii in range(1, len(xana.wl_fit_coef.shape)):\n",
    "    us_idx = us_idx[:, np.newaxis] \n",
    "    eng = eng[:, np.newaxis]\n",
    "    \n",
    "wl = xm.find_fit_peak_map_poly(xana.wl_fit_coef, us_idx)\n",
    "\n",
    "#wlp = xm.index_lookup(wl, eng, ufac=ufac)\n",
    "\n",
    "print('eng:', eng.shape)\n",
    "print('idx_ds:', idx_ds.shape)\n",
    "idx_ds = wl\n",
    "x = np.squeeze(eng[np.int_(np.floor(idx_ds))]) + \\\n",
    "    np.squeeze(eng[np.int_(np.ceil(idx_ds))]-eng[np.int_(np.floor(idx_ds))])*\\\n",
    "    np.squeeze(idx_ds - np.floor(idx_ds))/np.squeeze(np.ceil(idx_ds) - np.floor(idx_ds))\n",
    "print('x:', x.shape)\n",
    "plt.imshow(x)\n",
    "ijui.show(ij.py.to_java(x))\n",
    "\n",
    "y = np.squeeze(eng[np.int_(np.floor(idx_ds))])\n",
    "print('y:', y.shape)\n",
    "\n",
    "\n",
    "z = np.squeeze(eng[np.int_(np.ceil(idx_ds))]-eng[np.int_(np.floor(idx_ds))])\n",
    "print('z:', z.shape)\n",
    "\n",
    "\n",
    "z1 = (idx_ds - np.floor(idx_ds))\n",
    "print('z1:', z1.shape)\n",
    "\n",
    "\n",
    "z2 = (np.ceil(idx_ds) - np.floor(idx_ds))\n",
    "print('z2:', z2.shape)\n",
    "\n",
    "#print(wlp.shape)\n",
    "#plt.imshow(wlp)\n",
    "\n",
    "#e0p5 = xm.find_fit_edge_0p5_map_poly(xana.wl_fit_coef, us_idx)\n",
    "#print(e0p5.shape)\n",
    "#plt.imshow(e0p5)\n",
    "\n",
    "#ep = xm.find_deriv_peak_map_poly(xana.wl_fit_coef, us_idx)\n",
    "#print(ep.shape)\n",
    "#plt.imshow(ep)\n",
    "\n",
    "#print(us_idx)\n",
    "print(xana.eng[int(us_idx[0])])\n",
    "\"\"\"\n",
    "print(xana.wl_pos.shape)\n",
    "print(xana.edge_pos.shape)\n",
    "print(xana.edge_pos_0p5.shape)\n",
    "\"\"\""
   ]
  },
  {
   "cell_type": "code",
   "execution_count": 16,
   "metadata": {},
   "outputs": [
    {
     "name": "stdout",
     "output_type": "stream",
     "text": [
      "(10000,)\n",
      "7594.6 7593.3\n"
     ]
    },
    {
     "data": {
      "text/plain": [
       "<matplotlib.image.AxesImage at 0x7f51581ee550>"
      ]
     },
     "execution_count": 16,
     "metadata": {},
     "output_type": "execute_result"
    }
   ],
   "source": [
    "print(xana.edge_pos.shape)\n",
    "print(xana.edge_pos_0p5.max(), xana.edge_pos_0p5.min())\n",
    "#plt.imshow(xana.edge_pos_0p5)\n",
    "plt.imshow(wl)"
   ]
  },
  {
   "cell_type": "code",
   "execution_count": 4,
   "metadata": {},
   "outputs": [
    {
     "data": {
      "text/plain": [
       "51"
      ]
     },
     "execution_count": 4,
     "metadata": {},
     "output_type": "execute_result"
    }
   ],
   "source": [
    "import xanes_math as xm\n",
    "xm.index_of(xana.eng, 7730)"
   ]
  },
  {
   "cell_type": "code",
   "execution_count": 14,
   "metadata": {},
   "outputs": [
    {
     "ename": "ValueError",
     "evalue": "VM is already running, can't set classpath",
     "output_type": "error",
     "traceback": [
      "\u001b[0;31m---------------------------------------------------------------------------\u001b[0m",
      "\u001b[0;31mValueError\u001b[0m                                Traceback (most recent call last)",
      "\u001b[0;32m<ipython-input-14-3e033ffd6831>\u001b[0m in \u001b[0;36m<module>\u001b[0;34m\u001b[0m\n\u001b[1;32m      2\u001b[0m \u001b[0;32mimport\u001b[0m \u001b[0mmatplotlib\u001b[0m\u001b[0;34m.\u001b[0m\u001b[0mpyplot\u001b[0m \u001b[0;32mas\u001b[0m \u001b[0mplt\u001b[0m\u001b[0;34m\u001b[0m\u001b[0;34m\u001b[0m\u001b[0m\n\u001b[1;32m      3\u001b[0m \u001b[0;32mimport\u001b[0m \u001b[0mimagej\u001b[0m\u001b[0;34m\u001b[0m\u001b[0;34m\u001b[0m\u001b[0m\n\u001b[0;32m----> 4\u001b[0;31m \u001b[0mij\u001b[0m \u001b[0;34m=\u001b[0m \u001b[0mimagej\u001b[0m\u001b[0;34m.\u001b[0m\u001b[0minit\u001b[0m\u001b[0;34m(\u001b[0m\u001b[0;34m'/home/xiao/software/Fiji.app'\u001b[0m\u001b[0;34m,\u001b[0m \u001b[0mheadless\u001b[0m\u001b[0;34m=\u001b[0m\u001b[0;32mFalse\u001b[0m\u001b[0;34m)\u001b[0m\u001b[0;34m\u001b[0m\u001b[0;34m\u001b[0m\u001b[0m\n\u001b[0m\u001b[1;32m      5\u001b[0m \u001b[0mijui\u001b[0m \u001b[0;34m=\u001b[0m \u001b[0mij\u001b[0m\u001b[0;34m.\u001b[0m\u001b[0mui\u001b[0m\u001b[0;34m(\u001b[0m\u001b[0;34m)\u001b[0m\u001b[0;34m\u001b[0m\u001b[0;34m\u001b[0m\u001b[0m\n\u001b[1;32m      6\u001b[0m \u001b[0mijui\u001b[0m\u001b[0;34m.\u001b[0m\u001b[0mshowUI\u001b[0m\u001b[0;34m(\u001b[0m\u001b[0;34m)\u001b[0m\u001b[0;34m\u001b[0m\u001b[0;34m\u001b[0m\u001b[0m\n",
      "\u001b[0;32m~/software/anaconda3/envs/py37play/lib/python3.7/site-packages/imagej/imagej.py\u001b[0m in \u001b[0;36minit\u001b[0;34m(ij_dir_or_version_or_endpoint, headless)\u001b[0m\n\u001b[1;32m     84\u001b[0m         \u001b[0mpath\u001b[0m \u001b[0;34m=\u001b[0m \u001b[0mij_dir_or_version_or_endpoint\u001b[0m\u001b[0;34m\u001b[0m\u001b[0;34m\u001b[0m\u001b[0m\n\u001b[1;32m     85\u001b[0m         \u001b[0m_debug\u001b[0m\u001b[0;34m(\u001b[0m\u001b[0;34m'Local path to ImageJ installation given: '\u001b[0m \u001b[0;34m+\u001b[0m \u001b[0mpath\u001b[0m\u001b[0;34m)\u001b[0m\u001b[0;34m\u001b[0m\u001b[0;34m\u001b[0m\u001b[0m\n\u001b[0;32m---> 86\u001b[0;31m         \u001b[0mnum_jars\u001b[0m \u001b[0;34m=\u001b[0m \u001b[0mset_ij_env\u001b[0m\u001b[0;34m(\u001b[0m\u001b[0mpath\u001b[0m\u001b[0;34m)\u001b[0m\u001b[0;34m\u001b[0m\u001b[0;34m\u001b[0m\u001b[0m\n\u001b[0m\u001b[1;32m     87\u001b[0m         \u001b[0mprint\u001b[0m\u001b[0;34m(\u001b[0m\u001b[0;34m\"Added \"\u001b[0m \u001b[0;34m+\u001b[0m \u001b[0mstr\u001b[0m\u001b[0;34m(\u001b[0m\u001b[0mnum_jars\u001b[0m \u001b[0;34m+\u001b[0m \u001b[0;36m1\u001b[0m\u001b[0;34m)\u001b[0m \u001b[0;34m+\u001b[0m \u001b[0;34m\" JARs to the Java classpath.\"\u001b[0m\u001b[0;34m)\u001b[0m\u001b[0;34m\u001b[0m\u001b[0;34m\u001b[0m\u001b[0m\n\u001b[1;32m     88\u001b[0m         \u001b[0mplugins_dir\u001b[0m \u001b[0;34m=\u001b[0m \u001b[0mstr\u001b[0m\u001b[0;34m(\u001b[0m\u001b[0mPath\u001b[0m\u001b[0;34m(\u001b[0m\u001b[0mpath\u001b[0m\u001b[0;34m,\u001b[0m \u001b[0;34m'plugins'\u001b[0m\u001b[0;34m)\u001b[0m\u001b[0;34m)\u001b[0m\u001b[0;34m\u001b[0m\u001b[0;34m\u001b[0m\u001b[0m\n",
      "\u001b[0;32m~/software/anaconda3/envs/py37play/lib/python3.7/site-packages/imagej/imagej.py\u001b[0m in \u001b[0;36mset_ij_env\u001b[0;34m(ij_dir)\u001b[0m\n\u001b[1;32m     56\u001b[0m     \u001b[0mjars\u001b[0m\u001b[0;34m.\u001b[0m\u001b[0mextend\u001b[0m\u001b[0;34m(\u001b[0m\u001b[0msearch_for_jars\u001b[0m\u001b[0;34m(\u001b[0m\u001b[0mij_dir\u001b[0m\u001b[0;34m,\u001b[0m \u001b[0;34m'/plugins'\u001b[0m\u001b[0;34m)\u001b[0m\u001b[0;34m)\u001b[0m\u001b[0;34m\u001b[0m\u001b[0;34m\u001b[0m\u001b[0m\n\u001b[1;32m     57\u001b[0m     \u001b[0;31m# add to classpath\u001b[0m\u001b[0;34m\u001b[0m\u001b[0;34m\u001b[0m\u001b[0;34m\u001b[0m\u001b[0m\n\u001b[0;32m---> 58\u001b[0;31m     \u001b[0mscyjava_config\u001b[0m\u001b[0;34m.\u001b[0m\u001b[0madd_classpath\u001b[0m\u001b[0;34m(\u001b[0m\u001b[0mos\u001b[0m\u001b[0;34m.\u001b[0m\u001b[0mpathsep\u001b[0m\u001b[0;34m.\u001b[0m\u001b[0mjoin\u001b[0m\u001b[0;34m(\u001b[0m\u001b[0mjars\u001b[0m\u001b[0;34m)\u001b[0m\u001b[0;34m)\u001b[0m\u001b[0;34m\u001b[0m\u001b[0;34m\u001b[0m\u001b[0m\n\u001b[0m\u001b[1;32m     59\u001b[0m     \u001b[0;32mreturn\u001b[0m \u001b[0mlen\u001b[0m\u001b[0;34m(\u001b[0m\u001b[0mjars\u001b[0m\u001b[0;34m)\u001b[0m\u001b[0;34m\u001b[0m\u001b[0;34m\u001b[0m\u001b[0m\n\u001b[1;32m     60\u001b[0m \u001b[0;34m\u001b[0m\u001b[0m\n",
      "\u001b[0;32m~/software/anaconda3/envs/py37play/lib/python3.7/site-packages/scyjava_config.py\u001b[0m in \u001b[0;36madd_classpath\u001b[0;34m(*path)\u001b[0m\n\u001b[1;32m    100\u001b[0m \u001b[0;31m# directly delegating to jnius_config\u001b[0m\u001b[0;34m\u001b[0m\u001b[0;34m\u001b[0m\u001b[0;34m\u001b[0m\u001b[0m\n\u001b[1;32m    101\u001b[0m \u001b[0;32mdef\u001b[0m \u001b[0madd_classpath\u001b[0m\u001b[0;34m(\u001b[0m\u001b[0;34m*\u001b[0m\u001b[0mpath\u001b[0m\u001b[0;34m)\u001b[0m\u001b[0;34m:\u001b[0m\u001b[0;34m\u001b[0m\u001b[0;34m\u001b[0m\u001b[0m\n\u001b[0;32m--> 102\u001b[0;31m     \u001b[0mjnius_config\u001b[0m\u001b[0;34m.\u001b[0m\u001b[0madd_classpath\u001b[0m\u001b[0;34m(\u001b[0m\u001b[0;34m*\u001b[0m\u001b[0mpath\u001b[0m\u001b[0;34m)\u001b[0m\u001b[0;34m\u001b[0m\u001b[0;34m\u001b[0m\u001b[0m\n\u001b[0m\u001b[1;32m    103\u001b[0m \u001b[0;34m\u001b[0m\u001b[0m\n\u001b[1;32m    104\u001b[0m \u001b[0;34m\u001b[0m\u001b[0m\n",
      "\u001b[0;32m~/software/anaconda3/envs/py37play/lib/python3.7/site-packages/jnius_config.py\u001b[0m in \u001b[0;36madd_classpath\u001b[0;34m(*path)\u001b[0m\n\u001b[1;32m     52\u001b[0m     \"\"\"\n\u001b[1;32m     53\u001b[0m     \u001b[0;32mif\u001b[0m \u001b[0mvm_running\u001b[0m\u001b[0;34m:\u001b[0m\u001b[0;34m\u001b[0m\u001b[0;34m\u001b[0m\u001b[0m\n\u001b[0;32m---> 54\u001b[0;31m         \u001b[0;32mraise\u001b[0m \u001b[0mValueError\u001b[0m\u001b[0;34m(\u001b[0m\u001b[0;34m\"VM is already running, can't set classpath\"\u001b[0m\u001b[0;34m)\u001b[0m\u001b[0;34m\u001b[0m\u001b[0;34m\u001b[0m\u001b[0m\n\u001b[0m\u001b[1;32m     55\u001b[0m     \u001b[0;32mglobal\u001b[0m \u001b[0mclasspath\u001b[0m\u001b[0;34m\u001b[0m\u001b[0;34m\u001b[0m\u001b[0m\n\u001b[1;32m     56\u001b[0m     \u001b[0;32mif\u001b[0m \u001b[0mclasspath\u001b[0m \u001b[0;32mis\u001b[0m \u001b[0;32mNone\u001b[0m\u001b[0;34m:\u001b[0m\u001b[0;34m\u001b[0m\u001b[0;34m\u001b[0m\u001b[0m\n",
      "\u001b[0;31mValueError\u001b[0m: VM is already running, can't set classpath"
     ]
    }
   ],
   "source": [
    "%matplotlib qt\n",
    "import matplotlib.pyplot as plt\n",
    "import imagej\n",
    "ij = imagej.init('/home/xiao/software/Fiji.app', headless=False)\n",
    "ijui = ij.ui()\n",
    "ijui.showUI()\n",
    "#from jnius import autoclass\n",
    "#wm = autoclass('ij.WindowManager')\n"
   ]
  },
  {
   "cell_type": "code",
   "execution_count": 9,
   "metadata": {},
   "outputs": [],
   "source": [
    "from lmfit.lineshapes import (gaussian, lorentzian, voigt, pvoigt, moffat, pearson7,\n",
    "                         breit_wigner, damped_oscillator, dho, logistic, lognormal,\n",
    "                         students_t, expgaussian, donaich, skewed_gaussian,\n",
    "                         skewed_voigt, step, rectangle,  \n",
    "                         exponential, powerlaw, linear, parabolic, sine, \n",
    "                         expsine, split_lorentzian)\n",
    "\n",
    "functions = {'gaussian':gaussian, 'lorentzian':lorentzian, 'voigt':voigt, \n",
    "             'pvoigt':pvoigt, 'moffat':moffat, 'pearson7':pearson7,\n",
    "             'breit_wigner':breit_wigner, 'damped_oscillator':damped_oscillator,\n",
    "             'dho':dho, 'logistic':logistic, 'lognormal':lognormal,\n",
    "             'students_t':students_t, 'expgaussian':expgaussian, \n",
    "             'donaich':donaich, 'skewed_gaussian':skewed_gaussian,\n",
    "             'skewed_voigt':skewed_voigt, 'step':step, 'rectangle':rectangle, \n",
    "             'exponential':exponential, 'powerlaw':powerlaw, \n",
    "             'linear':linear, 'parabolic':parabolic, 'sine':sine, \n",
    "             'expsine':expsine, 'split_lorentzian':split_lorentzian}"
   ]
  },
  {
   "cell_type": "code",
   "execution_count": 24,
   "metadata": {},
   "outputs": [
    {
     "name": "stdout",
     "output_type": "stream",
     "text": [
      "(101, 100, 100) (101, 100, 100)\n",
      "(10000, 3)\n",
      "7722.0\n"
     ]
    }
   ],
   "source": [
    "#ln = np.ployval(xana.pre_edge_fit_coef[:, 55, 65], xana.eng)\n",
    "pre_edge = xana.cal_pre_edge_fit(xana.eng)\n",
    "post_edge = xana.cal_post_edge_fit(xana.eng)\n",
    "print(pre_edge.shape, post_edge.shape)\n",
    "print(xana.wl_fit_coef.shape)\n",
    "print(xanes2D_analysis_wl_fit_eng_s)\n",
    "func = functions['lorentzian']\n",
    "rn = 100\n",
    "rs = 50\n",
    "re = 52\n",
    "cs = 80\n",
    "ce = 82\n",
    "plt.figure(1)\n",
    "for ii in range(rs, re):\n",
    "    for jj in range(cs, ce):\n",
    "        idx = ii*rn+jj\n",
    "        plt.plot(np.linspace(xanes2D_analysis_wl_fit_eng_s, xanes2D_analysis_wl_fit_eng_e, 100),\n",
    "                 func(np.linspace(xanes2D_analysis_wl_fit_eng_s, xanes2D_analysis_wl_fit_eng_e, 100), \n",
    "                 xana.wl_fit_coef[idx, 0], \n",
    "                 xana.wl_fit_coef[idx, 1], \n",
    "                 xana.wl_fit_coef[idx, 2]))\n",
    "\n",
    "plt.figure(2)\n",
    "for ii in range(rs, re):\n",
    "    for jj in range(cs, ce):\n",
    "        idx = ii*rn+jj\n",
    "        plt.plot(xana.eng, xana.normalized_spectrum[:, ii, jj])\n",
    "        \n",
    "plt.figure(3)\n",
    "for ii in range(rs, re):\n",
    "    for jj in range(cs, ce):\n",
    "        idx = ii*rn+jj\n",
    "        plt.plot(xana.eng, xana.spectrum[:, ii, jj])\n",
    "        plt.plot(xana.eng, pre_edge[:, ii, jj])\n",
    "        plt.plot(xana.eng, post_edge[:, ii, jj])"
   ]
  },
  {
   "cell_type": "code",
   "execution_count": 18,
   "metadata": {},
   "outputs": [
    {
     "name": "stdout",
     "output_type": "stream",
     "text": [
      "True\n",
      "43 56\n",
      "(4, 100, 100)\n",
      "[-0.00321435  0.01884423  0.36112244  0.22727432]\n",
      "(4, 100, 100)\n",
      "7722.0 7735.0\n",
      "[-2.01827005e-03  2.69433145e-01 -1.17351729e+01  1.67436791e+02]\n",
      "(13,)\n",
      "[-2.90381798e-03  3.94281819e-01 -1.75506642e+01  2.56893541e+02]\n",
      "(13,)\n",
      "[-2.81801596e-03  3.86285359e-01 -1.73955239e+01  2.58302138e+02]\n",
      "(13,)\n",
      "[-3.55168156e-03  4.93474959e-01 -2.25992041e+01  3.42210810e+02]\n",
      "(13,)\n",
      "[7589. 7599. 7609. 7619. 7629. 7639. 7649. 7659. 7669. 7679. 7689. 7690.\n",
      " 7691. 7692. 7693. 7694. 7695. 7696. 7697. 7698. 7699. 7700. 7701. 7702.\n",
      " 7703. 7704. 7705. 7706. 7707. 7708. 7709. 7710. 7711. 7712. 7713. 7714.\n",
      " 7715. 7716. 7717. 7718. 7719. 7720. 7721. 7722. 7723. 7724. 7725. 7726.\n",
      " 7727. 7728. 7729. 7730. 7731. 7732. 7733. 7734. 7735. 7736. 7737. 7738.\n",
      " 7739. 7740. 7741. 7742. 7743. 7744. 7745. 7746. 7747. 7748. 7749. 7750.\n",
      " 7751. 7752. 7753. 7754. 7755. 7756. 7757. 7758. 7759. 7760. 7761. 7762.\n",
      " 7763. 7764. 7765. 7766. 7767. 7768. 7769. 7794. 7834. 7874. 7914. 7954.\n",
      " 7994. 8034. 8074. 8114. 8154.]\n"
     ]
    }
   ],
   "source": [
    "xana.fit_whiteline_poly(7722, 7735, order=3, ufac=10, flt_spec=False)\n",
    "print(xana.spec_normalized)\n",
    "idx_s = xm.index_of(xana.eng, 7722)\n",
    "idx_e = xm.index_of(xana.eng, 7735)\n",
    "print(idx_s, idx_e)\n",
    "wlc = xm.fit_polynd(np.arange(0, idx_e-idx_s), xana.normalized_spectrum[idx_s:idx_e, :], 3)\n",
    "print(wlc.shape)\n",
    "\n",
    "print(wlc[:, 50, 50])\n",
    "\n",
    "plt.plot(xana.eng[idx_s:idx_e], np.polyval(wlc[:, 50, 50], np.arange(0, idx_e-idx_s)))\n",
    "\n",
    "#plt.plot(xm.find_fit_peak_map_poly(xana.wl_fit_coef[], xana.eng[:, np.newaxis, np.newaxis]))\n",
    "print(xana.wl_fit_coef.shape)\n",
    "print(xana.wl_es, xana.wl_ee)\n",
    "rn = 100\n",
    "rs = 50\n",
    "re = 52\n",
    "cs = 80\n",
    "ce = 82\n",
    "plt.figure(1)\n",
    "for ii in range(rs, re):\n",
    "    for jj in range(cs, ce):\n",
    "        idx = ii*rn+jj\n",
    "        print(xana.wl_fit_coef[:, ii, jj])\n",
    "        a = np.polyval(xana.wl_fit_coef[:, ii, jj], np.arange(idx_s, idx_e))\n",
    "        print(a.shape)\n",
    "        plt.plot(xana.eng[idx_s:idx_e], a)\n",
    "print(xana.eng)\n"
   ]
  },
  {
   "cell_type": "code",
   "execution_count": 6,
   "metadata": {},
   "outputs": [
    {
     "data": {
      "text/plain": [
       "'\\n%matplotlib qt\\nimport matplotlib.pyplot as plt\\n\\nplt.figure(1)\\nplt.imshow(xana.wl_pos, vmin=7729, vmax=7731)\\nplt.figure(2)\\nplt.imshow(xana.edge_pos, vmin=7723, vmax=7725)\\nplt.figure(3)\\nplt.imshow(xana.edge_pos_0p5, vmin=7727, vmax=7729)\\n'"
      ]
     },
     "execution_count": 6,
     "metadata": {},
     "output_type": "execute_result"
    }
   ],
   "source": [
    "ijui.show(ij.py.to_java(xana.wl_pos))\n",
    "p = wm.getCurrentImage()\n",
    "p.setTitle('wl_pos')\n",
    "ijui.show(ij.py.to_java(xana.edge_pos))\n",
    "p = wm.getCurrentImage()\n",
    "p.setTitle('edge_pos')\n",
    "ijui.show(ij.py.to_java(xana.edge_pos_0p5))\n",
    "p = wm.getCurrentImage()\n",
    "p.setTitle('edge_pos_0p5')\n",
    "\n",
    "\"\"\"\n",
    "%matplotlib qt\n",
    "import matplotlib.pyplot as plt\n",
    "\n",
    "plt.figure(1)\n",
    "plt.imshow(xana.wl_pos, vmin=7729, vmax=7731)\n",
    "plt.figure(2)\n",
    "plt.imshow(xana.edge_pos, vmin=7723, vmax=7725)\n",
    "plt.figure(3)\n",
    "plt.imshow(xana.edge_pos_0p5, vmin=7727, vmax=7729)\n",
    "\"\"\""
   ]
  },
  {
   "cell_type": "code",
   "execution_count": 4,
   "metadata": {},
   "outputs": [
    {
     "name": "stdout",
     "output_type": "stream",
     "text": [
      "1\n"
     ]
    },
    {
     "ename": "AttributeError",
     "evalue": "'NoneType' object has no attribute 'shape'",
     "output_type": "error",
     "traceback": [
      "\u001b[0;31m---------------------------------------------------------------------------\u001b[0m",
      "\u001b[0;31mAttributeError\u001b[0m                            Traceback (most recent call last)",
      "\u001b[0;32m<ipython-input-4-6aba6b0c0caa>\u001b[0m in \u001b[0;36m<module>\u001b[0;34m\u001b[0m\n\u001b[1;32m      1\u001b[0m \u001b[0mprint\u001b[0m\u001b[0;34m(\u001b[0m\u001b[0mxanes2D_analysis_norm_fitting_order\u001b[0m\u001b[0;34m)\u001b[0m\u001b[0;34m\u001b[0m\u001b[0;34m\u001b[0m\u001b[0m\n\u001b[0;32m----> 2\u001b[0;31m \u001b[0mprint\u001b[0m\u001b[0;34m(\u001b[0m\u001b[0;34m'pre_edge_fit'\u001b[0m\u001b[0;34m,\u001b[0m \u001b[0mxana\u001b[0m\u001b[0;34m.\u001b[0m\u001b[0mpre_edge_fit\u001b[0m\u001b[0;34m.\u001b[0m\u001b[0mshape\u001b[0m\u001b[0;34m)\u001b[0m\u001b[0;34m\u001b[0m\u001b[0;34m\u001b[0m\u001b[0m\n\u001b[0m\u001b[1;32m      3\u001b[0m \u001b[0mprint\u001b[0m\u001b[0;34m(\u001b[0m\u001b[0;34m'xana.wl_pos'\u001b[0m\u001b[0;34m,\u001b[0m \u001b[0mxana\u001b[0m\u001b[0;34m.\u001b[0m\u001b[0mwl_pos\u001b[0m\u001b[0;34m.\u001b[0m\u001b[0mshape\u001b[0m\u001b[0;34m)\u001b[0m\u001b[0;34m\u001b[0m\u001b[0;34m\u001b[0m\u001b[0m\n\u001b[1;32m      4\u001b[0m \u001b[0mprint\u001b[0m\u001b[0;34m(\u001b[0m\u001b[0;34m'xana.wl_pos_direct'\u001b[0m\u001b[0;34m,\u001b[0m \u001b[0mxana\u001b[0m\u001b[0;34m.\u001b[0m\u001b[0mwl_pos_direct\u001b[0m\u001b[0;34m.\u001b[0m\u001b[0mshape\u001b[0m\u001b[0;34m)\u001b[0m\u001b[0;34m\u001b[0m\u001b[0;34m\u001b[0m\u001b[0m\n\u001b[1;32m      5\u001b[0m \u001b[0mprint\u001b[0m\u001b[0;34m(\u001b[0m\u001b[0;34m'xana.direct_wl_ph'\u001b[0m\u001b[0;34m,\u001b[0m \u001b[0mxana\u001b[0m\u001b[0;34m.\u001b[0m\u001b[0mdirect_wl_ph\u001b[0m\u001b[0;34m.\u001b[0m\u001b[0mshape\u001b[0m\u001b[0;34m)\u001b[0m\u001b[0;34m\u001b[0m\u001b[0;34m\u001b[0m\u001b[0m\n",
      "\u001b[0;31mAttributeError\u001b[0m: 'NoneType' object has no attribute 'shape'"
     ]
    }
   ],
   "source": [
    "print(xanes2D_analysis_norm_fitting_order)\n",
    "print('pre_edge_fit', xana.pre_edge_fit.shape)\n",
    "print('xana.wl_pos', xana.wl_pos.shape)\n",
    "print('xana.wl_pos_direct', xana.wl_pos_direct.shape)\n",
    "print('xana.direct_wl_ph', xana.direct_wl_ph.shape)\n",
    "print('xana.centroid_of_eng', xana.centroid_of_eng.shape)\n",
    "print('xana.centroid_of_eng_rel_wl', xana.centroid_of_eng_rel_wl.shape)\n",
    "print('xana.weighted_atten', xana.weighted_atten.shape)\n",
    "print('xana.weighted_eng', xana.weighted_eng.shape)\n",
    "print('xana.edge_pos_0p5', xana.edge_pos_0p5.shape)\n",
    "print('xana.edge_pos', xana.edge_pos.shape)\n",
    "print('xana.edge_jump_mask', xana.edge_jump_mask.shape)\n",
    "print('xana.fitted_edge_mask', xana.fitted_edge_mask.shape)\n",
    "print('xana.pre_edge_sd_map', xana.pre_edge_sd_map.shape)\n",
    "print('xana.post_edge_sd_map', xana.post_edge_sd_map.shape)\n",
    "print('xana.pre_edge_mean_map', xana.pre_edge_mean_map.shape)\n",
    "print('xana.post_edge_mean_map', xana.post_edge_mean_map.shape)\n",
    "print('xana.pre_edge_fit_coef', xana.pre_edge_fit_coef.shape)\n",
    "print('xana.post_edge_fit_coef', xana.post_edge_fit_coef.shape)\n",
    "print('edge_fit_coef',xana.edge_fit_coef.shape)\n",
    "print('xana.wl_fit_coef', xana.wl_fit_coef.shape)\n"
   ]
  },
  {
   "cell_type": "code",
   "execution_count": 2,
   "metadata": {
    "collapsed": true,
    "jupyter": {
     "outputs_hidden": true
    }
   },
   "outputs": [
    {
     "name": "stdout",
     "output_type": "stream",
     "text": [
      "Help on function gradient in module numpy:\n",
      "\n",
      "gradient(f, *varargs, **kwargs)\n",
      "    Return the gradient of an N-dimensional array.\n",
      "    \n",
      "    The gradient is computed using second order accurate central differences\n",
      "    in the interior points and either first or second order accurate one-sides\n",
      "    (forward or backwards) differences at the boundaries.\n",
      "    The returned gradient hence has the same shape as the input array.\n",
      "    \n",
      "    Parameters\n",
      "    ----------\n",
      "    f : array_like\n",
      "        An N-dimensional array containing samples of a scalar function.\n",
      "    varargs : list of scalar or array, optional\n",
      "        Spacing between f values. Default unitary spacing for all dimensions.\n",
      "        Spacing can be specified using:\n",
      "    \n",
      "        1. single scalar to specify a sample distance for all dimensions.\n",
      "        2. N scalars to specify a constant sample distance for each dimension.\n",
      "           i.e. `dx`, `dy`, `dz`, ...\n",
      "        3. N arrays to specify the coordinates of the values along each\n",
      "           dimension of F. The length of the array must match the size of\n",
      "           the corresponding dimension\n",
      "        4. Any combination of N scalars/arrays with the meaning of 2. and 3.\n",
      "    \n",
      "        If `axis` is given, the number of varargs must equal the number of axes.\n",
      "        Default: 1.\n",
      "    \n",
      "    edge_order : {1, 2}, optional\n",
      "        Gradient is calculated using N-th order accurate differences\n",
      "        at the boundaries. Default: 1.\n",
      "    \n",
      "        .. versionadded:: 1.9.1\n",
      "    \n",
      "    axis : None or int or tuple of ints, optional\n",
      "        Gradient is calculated only along the given axis or axes\n",
      "        The default (axis = None) is to calculate the gradient for all the axes\n",
      "        of the input array. axis may be negative, in which case it counts from\n",
      "        the last to the first axis.\n",
      "    \n",
      "        .. versionadded:: 1.11.0\n",
      "    \n",
      "    Returns\n",
      "    -------\n",
      "    gradient : ndarray or list of ndarray\n",
      "        A set of ndarrays (or a single ndarray if there is only one dimension)\n",
      "        corresponding to the derivatives of f with respect to each dimension.\n",
      "        Each derivative has the same shape as f.\n",
      "    \n",
      "    Examples\n",
      "    --------\n",
      "    >>> f = np.array([1, 2, 4, 7, 11, 16], dtype=float)\n",
      "    >>> np.gradient(f)\n",
      "    array([1. , 1.5, 2.5, 3.5, 4.5, 5. ])\n",
      "    >>> np.gradient(f, 2)\n",
      "    array([0.5 ,  0.75,  1.25,  1.75,  2.25,  2.5 ])\n",
      "    \n",
      "    Spacing can be also specified with an array that represents the coordinates\n",
      "    of the values F along the dimensions.\n",
      "    For instance a uniform spacing:\n",
      "    \n",
      "    >>> x = np.arange(f.size)\n",
      "    >>> np.gradient(f, x)\n",
      "    array([1. ,  1.5,  2.5,  3.5,  4.5,  5. ])\n",
      "    \n",
      "    Or a non uniform one:\n",
      "    \n",
      "    >>> x = np.array([0., 1., 1.5, 3.5, 4., 6.], dtype=float)\n",
      "    >>> np.gradient(f, x)\n",
      "    array([1. ,  3. ,  3.5,  6.7,  6.9,  2.5])\n",
      "    \n",
      "    For two dimensional arrays, the return will be two arrays ordered by\n",
      "    axis. In this example the first array stands for the gradient in\n",
      "    rows and the second one in columns direction:\n",
      "    \n",
      "    >>> np.gradient(np.array([[1, 2, 6], [3, 4, 5]], dtype=float))\n",
      "    [array([[ 2.,  2., -1.],\n",
      "           [ 2.,  2., -1.]]), array([[1. , 2.5, 4. ],\n",
      "           [1. , 1. , 1. ]])]\n",
      "    \n",
      "    In this example the spacing is also specified:\n",
      "    uniform for axis=0 and non uniform for axis=1\n",
      "    \n",
      "    >>> dx = 2.\n",
      "    >>> y = [1., 1.5, 3.5]\n",
      "    >>> np.gradient(np.array([[1, 2, 6], [3, 4, 5]], dtype=float), dx, y)\n",
      "    [array([[ 1. ,  1. , -0.5],\n",
      "           [ 1. ,  1. , -0.5]]), array([[2. , 2. , 2. ],\n",
      "           [2. , 1.7, 0.5]])]\n",
      "    \n",
      "    It is possible to specify how boundaries are treated using `edge_order`\n",
      "    \n",
      "    >>> x = np.array([0, 1, 2, 3, 4])\n",
      "    >>> f = x**2\n",
      "    >>> np.gradient(f, edge_order=1)\n",
      "    array([1.,  2.,  4.,  6.,  7.])\n",
      "    >>> np.gradient(f, edge_order=2)\n",
      "    array([0., 2., 4., 6., 8.])\n",
      "    \n",
      "    The `axis` keyword can be used to specify a subset of axes of which the\n",
      "    gradient is calculated\n",
      "    \n",
      "    >>> np.gradient(np.array([[1, 2, 6], [3, 4, 5]], dtype=float), axis=0)\n",
      "    array([[ 2.,  2., -1.],\n",
      "           [ 2.,  2., -1.]])\n",
      "    \n",
      "    Notes\n",
      "    -----\n",
      "    Assuming that :math:`f\\in C^{3}` (i.e., :math:`f` has at least 3 continuous\n",
      "    derivatives) and let :math:`h_{*}` be a non-homogeneous stepsize, we\n",
      "    minimize the \"consistency error\" :math:`\\eta_{i}` between the true gradient\n",
      "    and its estimate from a linear combination of the neighboring grid-points:\n",
      "    \n",
      "    .. math::\n",
      "    \n",
      "        \\eta_{i} = f_{i}^{\\left(1\\right)} -\n",
      "                    \\left[ \\alpha f\\left(x_{i}\\right) +\n",
      "                            \\beta f\\left(x_{i} + h_{d}\\right) +\n",
      "                            \\gamma f\\left(x_{i}-h_{s}\\right)\n",
      "                    \\right]\n",
      "    \n",
      "    By substituting :math:`f(x_{i} + h_{d})` and :math:`f(x_{i} - h_{s})`\n",
      "    with their Taylor series expansion, this translates into solving\n",
      "    the following the linear system:\n",
      "    \n",
      "    .. math::\n",
      "    \n",
      "        \\left\\{\n",
      "            \\begin{array}{r}\n",
      "                \\alpha+\\beta+\\gamma=0 \\\\\n",
      "                \\beta h_{d}-\\gamma h_{s}=1 \\\\\n",
      "                \\beta h_{d}^{2}+\\gamma h_{s}^{2}=0\n",
      "            \\end{array}\n",
      "        \\right.\n",
      "    \n",
      "    The resulting approximation of :math:`f_{i}^{(1)}` is the following:\n",
      "    \n",
      "    .. math::\n",
      "    \n",
      "        \\hat f_{i}^{(1)} =\n",
      "            \\frac{\n",
      "                h_{s}^{2}f\\left(x_{i} + h_{d}\\right)\n",
      "                + \\left(h_{d}^{2} - h_{s}^{2}\\right)f\\left(x_{i}\\right)\n",
      "                - h_{d}^{2}f\\left(x_{i}-h_{s}\\right)}\n",
      "                { h_{s}h_{d}\\left(h_{d} + h_{s}\\right)}\n",
      "            + \\mathcal{O}\\left(\\frac{h_{d}h_{s}^{2}\n",
      "                                + h_{s}h_{d}^{2}}{h_{d}\n",
      "                                + h_{s}}\\right)\n",
      "    \n",
      "    It is worth noting that if :math:`h_{s}=h_{d}`\n",
      "    (i.e., data are evenly spaced)\n",
      "    we find the standard second order approximation:\n",
      "    \n",
      "    .. math::\n",
      "    \n",
      "        \\hat f_{i}^{(1)}=\n",
      "            \\frac{f\\left(x_{i+1}\\right) - f\\left(x_{i-1}\\right)}{2h}\n",
      "            + \\mathcal{O}\\left(h^{2}\\right)\n",
      "    \n",
      "    With a similar procedure the forward/backward approximations used for\n",
      "    boundaries can be derived.\n",
      "    \n",
      "    References\n",
      "    ----------\n",
      "    .. [1]  Quarteroni A., Sacco R., Saleri F. (2007) Numerical Mathematics\n",
      "            (Texts in Applied Mathematics). New York: Springer.\n",
      "    .. [2]  Durran D. R. (1999) Numerical Methods for Wave Equations\n",
      "            in Geophysical Fluid Dynamics. New York: Springer.\n",
      "    .. [3]  Fornberg B. (1988) Generation of Finite Difference Formulas on\n",
      "            Arbitrarily Spaced Grids,\n",
      "            Mathematics of Computation 51, no. 184 : 699-706.\n",
      "            `PDF <http://www.ams.org/journals/mcom/1988-51-184/\n",
      "            S0025-5718-1988-0935077-0/S0025-5718-1988-0935077-0.pdf>`_.\n",
      "\n"
     ]
    }
   ],
   "source": [
    "import numpy as np\n",
    "for ii in gui.xanes3D_gui.xanes_analysis_gui_h.ana_edge_optimizer_arg_handles:\n",
    "    ii.disabled = True\n",
    "    #print(ii)\n",
    "for ii in gui.xanes3D_gui.xanes_analysis_gui_h.ana_edge_fit_func_arg_handles:\n",
    "    ii.disabled = True\n",
    "    #print(ii)\n",
    "help(np.gradient)"
   ]
  },
  {
   "cell_type": "code",
   "execution_count": 7,
   "metadata": {},
   "outputs": [],
   "source": [
    "from gui_components import enable_disable_boxes, get_decendant\n",
    "boxes = ['L[0][x][3][0][4][0]_ana_fit_wl_param_box',\n",
    "                 'L[0][x][3][0][4][2]_ana_fit_edge_param_box',\n",
    "                 'L[0][x][3][0][4][1]_ana_save_setting_box']\n",
    "enable_disable_boxes(gui.xanes2D_gui.xanes_analysis_gui_h.hs, boxes, disabled=False, level=-1)\n",
    "#enable_disable_boxes(gui.xanes3D_gui.xanes_analysis_gui_h.hs, ['L[0][x][3][0][4][0][0]'], disabled=False, level=-1)\n",
    "#enable_disable_boxes(gui.xanes3D_gui.xanes_analysis_gui_h.hs, ['L[0][x][3][0][4][1][0]'], disabled=False, level=-1)\n",
    "#enable_disable_boxes(gui.xanes3D_gui.xanes_analysis_gui_h.hs, ['L[0][x][3][0][4][2][0]'], disabled=False, level=-1)\n",
    "#print(get_decendant(gui.xanes3D_gui.xanes_analysis_gui_h.hs, 'L[0][x][3][0][4][0][0]', level=-1))\n",
    "#enable_disable_boxes(gui.xanes3D_gui.xanes_analysis_gui_h.hs, 'L[0][x][3][0][4][0][0]_analysis_gridlayout', disabled=False, level=-1)"
   ]
  },
  {
   "cell_type": "code",
   "execution_count": 4,
   "metadata": {
    "jupyter": {
     "source_hidden": true
    }
   },
   "outputs": [],
   "source": [
    "def determine_element(eng_list):\n",
    "    print(eng_list.min(), eng_list.max())\n",
    "    if ((eng_list.min()<9.669e3) & (eng_list.max()>9.669e3)):\n",
    "        return 'Zn'\n",
    "    elif ((eng_list.min()<8.995e3) & (eng_list.max()>8.995e3)):\n",
    "        return 'Cu'\n",
    "    elif ((eng_list.min()<8.353e3) & (eng_list.max()>8.353e3)):\n",
    "        return 'Ni'\n",
    "    elif ((eng_list.min()<7.729e3) & (eng_list.max()>7.729e3)):\n",
    "        return 'Co'\n",
    "    elif ((eng_list.min()<7.136e3) & (eng_list.max()>7.136e3)):\n",
    "        return 'Fe'\n",
    "    elif ((eng_list.min()<6.561e3) & (eng_list.max()>6.561e3)):\n",
    "        return 'Mn'\n",
    "    elif ((eng_list.min()<6.009e3) & (eng_list.max()>6.009e3)):\n",
    "        return 'Cr'\n",
    "    elif ((eng_list.min()<5.495e3) & (eng_list.max()>5.495e3)):\n",
    "        return 'V'\n",
    "    elif ((eng_list.min()<4.984e3) & (eng_list.max()>4.984e3)):\n",
    "        return 'Ti'\n",
    "\n",
    "def determine_fitting_energy_range(xanes_element):\n",
    "    if xanes_element == 'Zn':\n",
    "        xanes_analysis_edge_eng = 9.661e3\n",
    "        xanes_analysis_wl_fit_eng_s = 9.664e3\n",
    "        xanes_analysis_wl_fit_eng_e = 9.673e3\n",
    "        xanes_analysis_pre_edge_e = 9.611e3\n",
    "        xanes_analysis_post_edge_s = 9.761e3\n",
    "        xanes_analysis_edge_0p5_fit_s = 9.659e3\n",
    "        xanes_analysis_edge_0p5_fit_e = 9.669e3\n",
    "    elif xanes_element == 'Cu':\n",
    "        xanes_analysis_edge_eng = 8.989e3\n",
    "        xanes_analysis_wl_fit_eng_s = 8.990e3\n",
    "        xanes_analysis_wl_fit_eng_e = 9.000e3\n",
    "        xanes_analysis_pre_edge_e = 8.939e3\n",
    "        xanes_analysis_post_edge_s = 9.089e3\n",
    "        xanes_analysis_edge_0p5_fit_s = 8.976e3\n",
    "        xanes_analysis_edge_0p5_fit_e = 8.996e3\n",
    "    elif xanes_element == 'Ni':\n",
    "        xanes_analysis_edge_eng = 8.347e3\n",
    "        xanes_analysis_wl_fit_eng_s = 8.342e3\n",
    "        xanes_analysis_wl_fit_eng_e = 8.355e3\n",
    "        xanes_analysis_pre_edge_e = 8.297e3\n",
    "        xanes_analysis_post_edge_s = 8.447e3\n",
    "        xanes_analysis_edge_0p5_fit_s = 8.340e3\n",
    "        xanes_analysis_edge_0p5_fit_e = 8.352e3\n",
    "    elif xanes_element == 'Co':\n",
    "        xanes_analysis_edge_eng = 7.724e3\n",
    "        xanes_analysis_wl_fit_eng_s = 7.725e3\n",
    "        xanes_analysis_wl_fit_eng_e = 7.733e3\n",
    "        xanes_analysis_pre_edge_e = 7.674e3\n",
    "        xanes_analysis_post_edge_s = 7.824e3\n",
    "        xanes_analysis_edge_0p5_fit_s = 7.717e3\n",
    "        xanes_analysis_edge_0p5_fit_e = 7.728e3\n",
    "    elif xanes_element == 'Fe':\n",
    "        xanes_analysis_edge_eng = 7.126e3\n",
    "        xanes_analysis_wl_fit_eng_s = 7.128e3\n",
    "        xanes_analysis_wl_fit_eng_e = 7.144e3\n",
    "        xanes_analysis_pre_edge_e = 7.076e3\n",
    "        xanes_analysis_post_edge_s = 7.226e3\n",
    "        xanes_analysis_edge_0p5_fit_s = 7.116e3\n",
    "        xanes_analysis_edge_0p5_fit_e = 7.134e3\n",
    "    elif xanes_element == 'Mn':\n",
    "        xanes_analysis_edge_eng = 6.556e3\n",
    "        xanes_analysis_wl_fit_eng_s = 6.556e3\n",
    "        xanes_analysis_wl_fit_eng_e = 6.565e3\n",
    "        xanes_analysis_pre_edge_e = 6.506e3\n",
    "        xanes_analysis_post_edge_s = 6.656e3\n",
    "        xanes_analysis_edge_0p5_fit_s = 6.547e3\n",
    "        xanes_analysis_edge_0p5_fit_e = 6.560e3\n",
    "    elif xanes_element == 'Cr':\n",
    "        xanes_analysis_edge_eng = 6.002e3\n",
    "        xanes_analysis_wl_fit_eng_s = 6.005e3\n",
    "        xanes_analysis_wl_fit_eng_e = 6.012e3\n",
    "        xanes_analysis_pre_edge_e = 5.952e3\n",
    "        xanes_analysis_post_edge_s = 6.102e3\n",
    "        xanes_analysis_edge_0p5_fit_s = 5.998e3\n",
    "        xanes_analysis_edge_0p5_fit_e = 6.011e3\n",
    "    elif xanes_element == 'V':\n",
    "        xanes_analysis_edge_eng = 5.483e3\n",
    "        xanes_analysis_wl_fit_eng_s = 5.490e3\n",
    "        xanes_analysis_wl_fit_eng_e = 5.499e3\n",
    "        xanes_analysis_pre_edge_e = 5.433e3\n",
    "        xanes_analysis_post_edge_s = 5.583e3\n",
    "        xanes_analysis_edge_0p5_fit_s = 5.474e3\n",
    "        xanes_analysis_edge_0p5_fit_e = 5.487e3\n",
    "    elif xanes_element == 'Ti':\n",
    "        xanes_analysis_edge_eng = 4.979e3\n",
    "        xanes_analysis_wl_fit_eng_s = 4.981e3\n",
    "        xanes_analysis_wl_fit_eng_e = 4.986e3\n",
    "        xanes_analysis_pre_edge_e = 4.929e3\n",
    "        xanes_analysis_post_edge_s = 5.079e3\n",
    "        xanes_analysis_edge_0p5_fit_s = 4.973e3\n",
    "        xanes_analysis_edge_0p5_fit_e = 4.984e3\n",
    "    return (xanes_analysis_edge_eng, xanes_analysis_wl_fit_eng_s, \n",
    "            xanes_analysis_wl_fit_eng_e, xanes_analysis_pre_edge_e,\n",
    "            xanes_analysis_post_edge_s, xanes_analysis_edge_0p5_fit_s,\n",
    "            xanes_analysis_edge_0p5_fit_e)\n",
    "\n",
    "def gen_external_py_script(filename, code):\n",
    "    with open(filename, 'w') as f:\n",
    "        for ii in range(len(code.keys())):\n",
    "            f.writelines(code[ii]+'\\n')"
   ]
  },
  {
   "cell_type": "code",
   "execution_count": 7,
   "metadata": {},
   "outputs": [
    {
     "name": "stdout",
     "output_type": "stream",
     "text": [
      "/media/Disk2/data/AIJUN_LI_Proposal_304474_June28_2019/2D_trial_reg_xanes_scan2_id_24164_2020-06-19-20-47-47.h5\n",
      "None\n"
     ]
    }
   ],
   "source": [
    "print(gui.xanes2D_gui.xanes_analysis_gui_h.parent_h.xanes2D_save_trial_reg_filename)\n",
    "print(gui.xanes2D_gui.xanes_analysis_gui_h.fn)"
   ]
  },
  {
   "cell_type": "code",
   "execution_count": 2,
   "metadata": {},
   "outputs": [],
   "source": [
    "import os, h5py\n",
    "import numpy as np\n",
    "import xanes_math as xm\n",
    "import xanes_analysis as xa\n",
    "\n",
    "with h5py.File('/media/Disk2/data/AIJUN_LI_Proposal_304474_June28_2019/2D_trial_reg_xanes_scan2_id_24164_2020-06-19-20-47-47.h5', 'r+') as f:\n",
    "    imgs = f['/registration_results/reg_results/registered_xanes2D'][:]\n",
    "    xanes2D_analysis_eng_list = f['/processed_XANES2D/proc_parameters/eng_list'][:]\n",
    "    xanes2D_analysis_edge_eng = f['/processed_XANES2D/proc_parameters/edge_eng'][()]\n",
    "    xanes2D_analysis_pre_edge_e = f['/processed_XANES2D/proc_parameters/pre_edge_e'][()]\n",
    "    xanes2D_analysis_post_edge_s = f['/processed_XANES2D/proc_parameters/post_edge_s'][()]\n",
    "    xanes2D_analysis_edge_jump_thres = f['/processed_XANES2D/proc_parameters/edge_jump_threshold'][()]\n",
    "    xanes2D_analysis_edge_offset_thres = f['/processed_XANES2D/proc_parameters/edge_offset_threshold'][()]\n",
    "    xanes2D_analysis_use_mask = f['/processed_XANES2D/proc_parameters/use_mask'][()]\n",
    "    xanes2D_analysis_type = f['/processed_XANES2D/proc_parameters/analysis_type'][()]\n",
    "    xanes2D_analysis_data_shape = f['/processed_XANES2D/proc_parameters/data_shape'][:]\n",
    "    xanes2D_analysis_edge_0p5_fit_s = f['/processed_XANES2D/proc_parameters/edge_0p5_fit_s'][()]\n",
    "    xanes2D_analysis_edge_0p5_fit_e = f['/processed_XANES2D/proc_parameters/edge_0p5_fit_e'][()]\n",
    "    xanes2D_analysis_wl_fit_eng_s = f['/processed_XANES2D/proc_parameters/wl_fit_eng_s'][()]\n",
    "    xanes2D_analysis_wl_fit_eng_e = f['/processed_XANES2D/proc_parameters/wl_fit_eng_e'][()]\n",
    "    xanes2D_analysis_use_flt_spec = f['/processed_XANES2D/proc_parameters/flt_spec'][()]\n",
    "    xanes2D_analysis_norm_fitting_order = f['/processed_XANES2D/proc_parameters/normalized_fitting_order'][()]\n",
    "    xana = xa.xanes_analysis(imgs, xanes2D_analysis_eng_list, xanes2D_analysis_edge_eng, pre_ee=xanes2D_analysis_pre_edge_e, post_es=xanes2D_analysis_post_edge_s, edge_jump_threshold=xanes2D_analysis_edge_jump_thres, pre_edge_threshold=xanes2D_analysis_edge_offset_thres)\n"
   ]
  },
  {
   "cell_type": "code",
   "execution_count": 3,
   "metadata": {},
   "outputs": [
    {
     "ename": "IndexError",
     "evalue": "tuple index out of range",
     "output_type": "error",
     "traceback": [
      "\u001b[0;31m---------------------------------------------------------------------------\u001b[0m",
      "\u001b[0;31mIndexError\u001b[0m                                Traceback (most recent call last)",
      "\u001b[0;32m<ipython-input-3-dd7a404346c5>\u001b[0m in \u001b[0;36m<module>\u001b[0;34m\u001b[0m\n\u001b[1;32m      1\u001b[0m \u001b[0mxana\u001b[0m\u001b[0;34m.\u001b[0m\u001b[0mfit_pre_edge\u001b[0m\u001b[0;34m(\u001b[0m\u001b[0;34m)\u001b[0m\u001b[0;34m\u001b[0m\u001b[0;34m\u001b[0m\u001b[0m\n\u001b[1;32m      2\u001b[0m \u001b[0mxana\u001b[0m\u001b[0;34m.\u001b[0m\u001b[0mfit_post_edge\u001b[0m\u001b[0;34m(\u001b[0m\u001b[0;34m)\u001b[0m\u001b[0;34m\u001b[0m\u001b[0;34m\u001b[0m\u001b[0m\n\u001b[0;32m----> 3\u001b[0;31m \u001b[0mxana\u001b[0m\u001b[0;34m.\u001b[0m\u001b[0mcal_edge_jump_map\u001b[0m\u001b[0;34m(\u001b[0m\u001b[0;34m)\u001b[0m\u001b[0;34m\u001b[0m\u001b[0;34m\u001b[0m\u001b[0m\n\u001b[0m",
      "\u001b[0;32m~/software/anaconda3/ws4_backup/user_packages/xanes_package/xanes_analysis.py\u001b[0m in \u001b[0;36mcal_edge_jump_map\u001b[0;34m(self)\u001b[0m\n\u001b[1;32m    173\u001b[0m         \u001b[0;32mreturn\u001b[0m\u001b[0;34m:\u001b[0m \u001b[0mndarray\u001b[0m\u001b[0;34m,\u001b[0m \u001b[0medge_jump_map\u001b[0m \u001b[0mhas\u001b[0m \u001b[0mdimension\u001b[0m \u001b[0mof\u001b[0m \u001b[0mspectrum\u001b[0m\u001b[0;34m.\u001b[0m\u001b[0mshape\u001b[0m\u001b[0;34m[\u001b[0m\u001b[0;36m1\u001b[0m\u001b[0;34m:\u001b[0m\u001b[0;34m]\u001b[0m\u001b[0;34m\u001b[0m\u001b[0;34m\u001b[0m\u001b[0m\n\u001b[1;32m    174\u001b[0m         \"\"\"\n\u001b[0;32m--> 175\u001b[0;31m         self.edge_jump_map = (xf.cal_post_edge_fit(self.preset_edge_eng, self.post_edge_fit_coef) - \n\u001b[0m\u001b[1;32m    176\u001b[0m                               xf.cal_pre_edge_fit(self.preset_edge_eng, self.pre_edge_fit_coef))\n\u001b[1;32m    177\u001b[0m \u001b[0;34m\u001b[0m\u001b[0m\n",
      "\u001b[0;32m~/software/anaconda3/ws4_backup/user_packages/xanes_package/xanes_spectra_filters.py\u001b[0m in \u001b[0;36mcal_post_edge_fit\u001b[0;34m(eng, post_edge_fit_coef)\u001b[0m\n\u001b[1;32m     43\u001b[0m     \u001b[0;32mif\u001b[0m \u001b[0mlen\u001b[0m\u001b[0;34m(\u001b[0m\u001b[0mpost_edge_fit_coef\u001b[0m\u001b[0;34m.\u001b[0m\u001b[0mshape\u001b[0m\u001b[0;34m)\u001b[0m \u001b[0;34m==\u001b[0m \u001b[0;36m3\u001b[0m\u001b[0;34m:\u001b[0m\u001b[0;34m\u001b[0m\u001b[0;34m\u001b[0m\u001b[0m\n\u001b[1;32m     44\u001b[0m         post_edge_fit = (post_edge_fit_coef * \\\n\u001b[0;32m---> 45\u001b[0;31m                          \u001b[0;34m(\u001b[0m\u001b[0mnp\u001b[0m\u001b[0;34m.\u001b[0m\u001b[0mvstack\u001b[0m\u001b[0;34m(\u001b[0m\u001b[0;34m(\u001b[0m\u001b[0meng\u001b[0m\u001b[0;34m,\u001b[0m \u001b[0mnp\u001b[0m\u001b[0;34m.\u001b[0m\u001b[0mones\u001b[0m\u001b[0;34m(\u001b[0m\u001b[0meng\u001b[0m\u001b[0;34m.\u001b[0m\u001b[0mshape\u001b[0m\u001b[0;34m[\u001b[0m\u001b[0;36m0\u001b[0m\u001b[0;34m]\u001b[0m\u001b[0;34m)\u001b[0m\u001b[0;34m)\u001b[0m\u001b[0;34m)\u001b[0m\u001b[0;34m.\u001b[0m\u001b[0mT\u001b[0m\u001b[0;34m)\u001b[0m\u001b[0;31m\\\u001b[0m\u001b[0;34m\u001b[0m\u001b[0;34m\u001b[0m\u001b[0m\n\u001b[0m\u001b[1;32m     46\u001b[0m                              [:, :, np.newaxis, np.newaxis]).sum(axis=1)\n\u001b[1;32m     47\u001b[0m     \u001b[0;32melif\u001b[0m \u001b[0mlen\u001b[0m\u001b[0;34m(\u001b[0m\u001b[0mpost_edge_fit_coef\u001b[0m\u001b[0;34m.\u001b[0m\u001b[0mshape\u001b[0m\u001b[0;34m)\u001b[0m \u001b[0;34m==\u001b[0m \u001b[0;36m4\u001b[0m\u001b[0;34m:\u001b[0m\u001b[0;34m\u001b[0m\u001b[0;34m\u001b[0m\u001b[0m\n",
      "\u001b[0;31mIndexError\u001b[0m: tuple index out of range"
     ]
    }
   ],
   "source": [
    "xana.fit_pre_edge()\n",
    "xana.fit_post_edge()\n",
    "xana.cal_edge_jump_map()"
   ]
  },
  {
   "cell_type": "code",
   "execution_count": 6,
   "metadata": {},
   "outputs": [],
   "source": [
    "import xanes_spectra_filters as xf\n",
    "import numpy as np"
   ]
  },
  {
   "cell_type": "code",
   "execution_count": 5,
   "metadata": {},
   "outputs": [
    {
     "name": "stdout",
     "output_type": "stream",
     "text": [
      "(2, 1126, 1132)\n"
     ]
    }
   ],
   "source": [
    "print(xana.post_edge_fit_coef.shape)"
   ]
  },
  {
   "cell_type": "code",
   "execution_count": 14,
   "metadata": {},
   "outputs": [],
   "source": [
    "eng = (np.vstack((np.vstack((np.array([xana.preset_edge_eng]), np.ones(np.array([xana.preset_edge_eng]).shape[0]))).T)\n",
    "                 [:,  np.newaxis, np.newaxis, np.newaxis]))"
   ]
  },
  {
   "cell_type": "code",
   "execution_count": 12,
   "metadata": {},
   "outputs": [
    {
     "data": {
      "text/plain": [
       "(1, 2)"
      ]
     },
     "execution_count": 12,
     "metadata": {},
     "output_type": "execute_result"
    }
   ],
   "source": [
    "(np.vstack((np.array([xana.preset_edge_eng]), np.ones(np.array([xana.preset_edge_eng]).shape[0]))).T).shape"
   ]
  },
  {
   "cell_type": "code",
   "execution_count": 15,
   "metadata": {},
   "outputs": [
    {
     "name": "stdout",
     "output_type": "stream",
     "text": [
      "(1, 1, 1, 2)\n"
     ]
    }
   ],
   "source": [
    "print(eng.shape)"
   ]
  },
  {
   "cell_type": "code",
   "execution_count": null,
   "metadata": {},
   "outputs": [],
   "source": []
  }
 ],
 "metadata": {
  "kernelspec": {
   "display_name": "Python 3",
   "language": "python",
   "name": "python3"
  },
  "language_info": {
   "codemirror_mode": {
    "name": "ipython",
    "version": 3
   },
   "file_extension": ".py",
   "mimetype": "text/x-python",
   "name": "python",
   "nbconvert_exporter": "python",
   "pygments_lexer": "ipython3",
   "version": "3.7.4"
  }
 },
 "nbformat": 4,
 "nbformat_minor": 4
}
