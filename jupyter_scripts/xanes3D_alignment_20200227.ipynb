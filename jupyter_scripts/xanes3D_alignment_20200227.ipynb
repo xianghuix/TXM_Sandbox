{
 "cells": [
  {
   "cell_type": "markdown",
   "metadata": {},
   "source": [
    "# **Section 1: `Load Modules`**"
   ]
  },
  {
   "cell_type": "code",
   "execution_count": 2,
   "metadata": {},
   "outputs": [
    {
     "name": "stdout",
     "output_type": "stream",
     "text": [
      "ImageJ is already up running!\n",
      "\u001b[04m\u001b[01m\u001b[34m     Section 1 finished     \n"
     ]
    }
   ],
   "source": [
    "%matplotlib qt\n",
    "from ipywidgets import widgets, Button, Layout\n",
    "from ipyfilechooser import FileChooser\n",
    "from IPython.display import display\n",
    "\n",
    "from scipy.ndimage import gaussian_filter\n",
    "import xanes_regtools as xr\n",
    "import xanes_image_utils as xiu\n",
    "import matplotlib.pyplot as plt\n",
    "import h5py, tifffile, sys, os, shutil\n",
    "import numpy as np\n",
    "import skimage.morphology as skm\n",
    "import scipy.ndimage as spn\n",
    "from copy import deepcopy\n",
    "from pathlib import Path\n",
    "from importlib import reload\n",
    "xr = reload(xr)\n",
    "xiu = reload(xiu)\n",
    "plt.rcParams['figure.figsize'] = [14, 8]\n",
    "\n",
    "import scyjava_config\n",
    "import imagej\n",
    "try:\n",
    "    scyjava_config.add_options('-Xmx20g')\n",
    "    ij = imagej.init('/home/xiao/software/Fiji.app', headless=False)\n",
    "    ijui = ij.ui()\n",
    "    ijui.showUI()\n",
    "except:\n",
    "    print('ImageJ is already up running!')\n",
    "    \n",
    "from jnius import autoclass\n",
    "WindowManager = autoclass('ij.WindowManager')\n",
    "\n",
    "def fiji_close_all(ips=None):\n",
    "    if ips is None:\n",
    "        imp = WindowManager.getCurrentImage()\n",
    "        while imp is not None:\n",
    "            imp.close()\n",
    "            imp = WindowManager.getCurrentImage()\n",
    "    else:\n",
    "        for ip in ips:\n",
    "            ip.close()\n",
    "print('\\033[04m\\033[01m\\033[34m     Section 1 finished     ') "
   ]
  },
  {
   "cell_type": "markdown",
   "metadata": {},
   "source": [
    "# **Section 2: `User Inputs`**"
   ]
  },
  {
   "cell_type": "code",
   "execution_count": 70,
   "metadata": {},
   "outputs": [
    {
     "data": {
      "application/vnd.jupyter.widget-view+json": {
       "model_id": "8d9c65ba5bbf4877ab814b349c0267ea",
       "version_major": 2,
       "version_minor": 0
      },
      "text/plain": [
       "Box(children=(Tab(children=(HBox(children=(VBox(children=(HTML(value='<span style=\"background-color:rgb(135,20…"
      ]
     },
     "metadata": {},
     "output_type": "display_data"
    },
    {
     "name": "stdout",
     "output_type": "stream",
     "text": [
      "\u001b[04m\u001b[01m\u001b[34m     Section 2 finished     \n"
     ]
    }
   ],
   "source": [
    "# raw h5 file top directory\n",
    "raw_h5_top_dir = '/media/XIAOUSB1/BNL_FXI_Sept2019_YujingBi_EnyuanHu/' \n",
    "# recon_top_dir is where the recon folders are\n",
    "recon_top_dir = '/media/XIAOUSB1/BNL_FXI_Sept2019_YujingBi_EnyuanHu/' \n",
    "# trial registration save file name\n",
    "trial_reg_save_file = 'xanes3D_trial_reg_results_29773_new.h5'\n",
    "# these are [y_start, y_end, x_start, x_end]\n",
    "roi = [370, 370+440, 660, 660+240]\n",
    "# alignment section by section; sometime, you may see an abrupt misalignment between two chunks. You may try \n",
    "# different chunk_sz to correct such misalignment.\n",
    "chunk_sz = 7\n",
    "# scan id start\n",
    "scan_id_s = 29773\n",
    "# scan_id_end\n",
    "scan_id_e = 29873\n",
    "# reference scan\n",
    "fixed_scan_id = 29823\n",
    "# use_anchor: if fixed_scan will be used as an anchor for entire serires alignment\n",
    "use_anchor = True\n",
    "\n",
    "# if using a mask in alignment calculation\n",
    "use_mask = True\n",
    "# threshold in making a mask\n",
    "mask_thres = 2e-3\n",
    "# dilation width for enlarge the mask\n",
    "mask_dilation = 10\n",
    "\n",
    "# the index of the reconstructed slice in the reconstruction of the scan with fixed_scan_id\n",
    "fixed_sli = 430\n",
    "# a range of slice indices of the reconstructed slices in the reconstruction of \n",
    "# the scan with moving_scan_id\n",
    "moving_sli_search_half_range = 30\n",
    "\n",
    "# 'sr','pc', 'mpc'  \n",
    "reg_method = 'mpc'\n",
    "# ref_mode can be 'single', or 'neighbor' \n",
    "ref_mode = 'single'\n",
    "\n",
    "trial_reg = None\n",
    "print('\\033[04m\\033[01m\\033[34m     Section 2 finished     ')   "
   ]
  },
  {
   "cell_type": "code",
   "execution_count": 72,
   "metadata": {
    "collapsed": true,
    "jupyter": {
     "outputs_hidden": true
    }
   },
   "outputs": [
    {
     "name": "stdout",
     "output_type": "stream",
     "text": [
      "Help on InstanceDict in module ipywidgets.widgets.trait_types object:\n",
      "\n",
      "class InstanceDict(traitlets.traitlets.Instance)\n",
      " |  An instance trait which coerces a dict to an instance.\n",
      " |  \n",
      " |  This lets the instance be specified as a dict, which is used\n",
      " |  to initialize the instance.\n",
      " |  \n",
      " |  Also, we default to a trivial instance, even if args and kwargs\n",
      " |  is not specified.\n",
      " |  \n",
      " |  Method resolution order:\n",
      " |      InstanceDict\n",
      " |      traitlets.traitlets.Instance\n",
      " |      traitlets.traitlets.ClassBasedTraitType\n",
      " |      traitlets.traitlets.TraitType\n",
      " |      traitlets.traitlets.BaseDescriptor\n",
      " |      builtins.object\n",
      " |  \n",
      " |  Methods defined here:\n",
      " |  \n",
      " |  make_dynamic_default(self)\n",
      " |  \n",
      " |  validate(self, obj, value)\n",
      " |  \n",
      " |  ----------------------------------------------------------------------\n",
      " |  Methods inherited from traitlets.traitlets.Instance:\n",
      " |  \n",
      " |  __init__(self, klass=None, args=None, kw=None, **kwargs)\n",
      " |      Construct an Instance trait.\n",
      " |      \n",
      " |      This trait allows values that are instances of a particular\n",
      " |      class or its subclasses.  Our implementation is quite different\n",
      " |      from that of enthough.traits as we don't allow instances to be used\n",
      " |      for klass and we handle the ``args`` and ``kw`` arguments differently.\n",
      " |      \n",
      " |      Parameters\n",
      " |      ----------\n",
      " |      klass : class, str\n",
      " |          The class that forms the basis for the trait.  Class names\n",
      " |          can also be specified as strings, like 'foo.bar.Bar'.\n",
      " |      args : tuple\n",
      " |          Positional arguments for generating the default value.\n",
      " |      kw : dict\n",
      " |          Keyword arguments for generating the default value.\n",
      " |      allow_none : bool [ default False ]\n",
      " |          Indicates whether None is allowed as a value.\n",
      " |      \n",
      " |      Notes\n",
      " |      -----\n",
      " |      If both ``args`` and ``kw`` are None, then the default value is None.\n",
      " |      If ``args`` is a tuple and ``kw`` is a dict, then the default is\n",
      " |      created as ``klass(*args, **kw)``.  If exactly one of ``args`` or ``kw`` is\n",
      " |      None, the None is replaced by ``()`` or ``{}``, respectively.\n",
      " |  \n",
      " |  default_value_repr(self)\n",
      " |  \n",
      " |  info(self)\n",
      " |  \n",
      " |  instance_init(self, obj)\n",
      " |      Part of the initialization which may depend on the underlying\n",
      " |      HasDescriptors instance.\n",
      " |      \n",
      " |      It is typically overloaded for specific types.\n",
      " |      \n",
      " |      This method is called by :meth:`HasTraits.__new__` and in the\n",
      " |      :meth:`BaseDescriptor.instance_init` method of descriptors holding\n",
      " |      other descriptors.\n",
      " |  \n",
      " |  ----------------------------------------------------------------------\n",
      " |  Data and other attributes inherited from traitlets.traitlets.Instance:\n",
      " |  \n",
      " |  klass = None\n",
      " |  \n",
      " |  ----------------------------------------------------------------------\n",
      " |  Methods inherited from traitlets.traitlets.ClassBasedTraitType:\n",
      " |  \n",
      " |  error(self, obj, value)\n",
      " |  \n",
      " |  ----------------------------------------------------------------------\n",
      " |  Methods inherited from traitlets.traitlets.TraitType:\n",
      " |  \n",
      " |  __get__(self, obj, cls=None)\n",
      " |      Get the value of the trait by self.name for the instance.\n",
      " |      \n",
      " |      Default values are instantiated when :meth:`HasTraits.__new__`\n",
      " |      is called.  Thus by the time this method gets called either the\n",
      " |      default value or a user defined value (they called :meth:`__set__`)\n",
      " |      is in the :class:`HasTraits` instance.\n",
      " |  \n",
      " |  __or__(self, other)\n",
      " |  \n",
      " |  __set__(self, obj, value)\n",
      " |      Set the value of the trait by self.name for the instance.\n",
      " |      \n",
      " |      Values pass through a validation stage where errors are raised when\n",
      " |      impropper types, or types that cannot be coerced, are encountered.\n",
      " |  \n",
      " |  get(self, obj, cls=None)\n",
      " |  \n",
      " |  get_default_value(self)\n",
      " |      DEPRECATED: Retrieve the static default value for this trait.\n",
      " |      \n",
      " |      Use self.default_value instead\n",
      " |  \n",
      " |  get_metadata(self, key, default=None)\n",
      " |      DEPRECATED: Get a metadata value.\n",
      " |      \n",
      " |      Use .metadata[key] or .metadata.get(key, default) instead.\n",
      " |  \n",
      " |  init_default_value(self, obj)\n",
      " |      DEPRECATED: Set the static default value for the trait type.\n",
      " |  \n",
      " |  set(self, obj, value)\n",
      " |  \n",
      " |  set_metadata(self, key, value)\n",
      " |      DEPRECATED: Set a metadata key/value.\n",
      " |      \n",
      " |      Use .metadata[key] = value instead.\n",
      " |  \n",
      " |  tag(self, **metadata)\n",
      " |      Sets metadata and returns self.\n",
      " |      \n",
      " |      This allows convenient metadata tagging when initializing the trait, such as:\n",
      " |      \n",
      " |      >>> Int(0).tag(config=True, sync=True)\n",
      " |  \n",
      " |  ----------------------------------------------------------------------\n",
      " |  Data and other attributes inherited from traitlets.traitlets.TraitType:\n",
      " |  \n",
      " |  allow_none = False\n",
      " |  \n",
      " |  default_value = traitlets.Undefined\n",
      " |  \n",
      " |  info_text = 'any value'\n",
      " |  \n",
      " |  metadata = {}\n",
      " |  \n",
      " |  read_only = False\n",
      " |  \n",
      " |  ----------------------------------------------------------------------\n",
      " |  Methods inherited from traitlets.traitlets.BaseDescriptor:\n",
      " |  \n",
      " |  class_init(self, cls, name)\n",
      " |      Part of the initialization which may depend on the underlying\n",
      " |      HasDescriptors class.\n",
      " |      \n",
      " |      It is typically overloaded for specific types.\n",
      " |      \n",
      " |      This method is called by :meth:`MetaHasDescriptors.__init__`\n",
      " |      passing the class (`cls`) and `name` under which the descriptor\n",
      " |      has been assigned.\n",
      " |  \n",
      " |  ----------------------------------------------------------------------\n",
      " |  Data descriptors inherited from traitlets.traitlets.BaseDescriptor:\n",
      " |  \n",
      " |  __dict__\n",
      " |      dictionary for instance variables (if defined)\n",
      " |  \n",
      " |  __weakref__\n",
      " |      list of weak references to the object (if defined)\n",
      " |  \n",
      " |  ----------------------------------------------------------------------\n",
      " |  Data and other attributes inherited from traitlets.traitlets.BaseDescriptor:\n",
      " |  \n",
      " |  name = None\n",
      " |  \n",
      " |  this_class = None\n",
      "\n"
     ]
    }
   ],
   "source": [
    "help(widgets.Button.layout)"
   ]
  },
  {
   "cell_type": "markdown",
   "metadata": {},
   "source": [
    "# **Section 3: `Calculate Displacement Amongst 3D Datasets`**"
   ]
  },
  {
   "cell_type": "code",
   "execution_count": null,
   "metadata": {},
   "outputs": [],
   "source": [
    "moving_sli_search_s = fixed_sli - moving_sli_search_half_range\n",
    "moving_sli_search_e = fixed_sli + moving_sli_search_half_range\n",
    "\n",
    "recon_path_template = recon_top_dir + 'recon_fly_scan_id_{0}/recon_fly_scan_id_{0}_{1}.tiff'\n",
    "ffn = recon_top_dir + 'recon_fly_scan_id_'+ str(fixed_scan_id) + \\\n",
    "      '/recon_fly_scan_id_' + str(fixed_scan_id) + '_' + str(fixed_sli).zfill(5) + '.tiff'\n",
    "fixed  = tifffile.imread(ffn)[roi[0]:roi[1], roi[2]:roi[3]]\n",
    "moving = np.ndarray([2*moving_sli_search_half_range, fixed.shape[0], fixed.shape[1]])\n",
    "\n",
    "if use_mask:\n",
    "    mask = skm.binary_dilation((fixed > mask_thres).astype(np.uint8),\n",
    "                               np.ones([mask_dilation,mask_dilation])).astype(np.uint8)\n",
    "    ijui.show(ij.py.to_java(mask))\n",
    "    ijui.show(ij.py.to_java(fixed))\n",
    "    ijui.show(ij.py.to_java(fixed*mask))"
   ]
  },
  {
   "cell_type": "code",
   "execution_count": null,
   "metadata": {},
   "outputs": [],
   "source": [
    "fiji_close_all()"
   ]
  },
  {
   "cell_type": "code",
   "execution_count": null,
   "metadata": {},
   "outputs": [],
   "source": [
    "reg = xr.regtools(dtype='3D_XANES', method=reg_method, mode='TRANSLATION')\n",
    "reg.set_method(reg_method)\n",
    "reg.set_ref_mode(ref_mode)\n",
    "reg.cal_set_anchor(scan_id_s, scan_id_e, fixed_scan_id, raw_h5_top_dir=raw_h5_top_dir)\n",
    "reg.set_chunk_sz(chunk_sz)\n",
    "reg.set_roi(roi)\n",
    "if use_mask:\n",
    "    reg.use_mask = True\n",
    "    reg.set_mask(mask)\n",
    "reg.set_fixed_data(fixed)\n",
    "reg.set_3D_recon_path_template(recon_path_template)\n",
    "reg.set_saving(save_path=recon_top_dir, fn=trial_reg_save_file)\n",
    "reg.xanes3D_sli_search_half_range = moving_sli_search_half_range\n",
    "reg.xanes3D_recon_fixed_sli = fixed_sli\n",
    "reg.reg_xanes3D_chunk()\n",
    "print('\\033[04m\\033[01m\\033[34m     Section 3 finished     ') "
   ]
  },
  {
   "cell_type": "code",
   "execution_count": null,
   "metadata": {},
   "outputs": [],
   "source": [
    "cnt = 0\n",
    "for ii in reg.alignment_pair:\n",
    "    print(cnt, '\\t', np.array(ii), '\\t', scan_id_s+np.array(ii))\n",
    "    cnt += 1"
   ]
  },
  {
   "cell_type": "code",
   "execution_count": null,
   "metadata": {},
   "outputs": [],
   "source": [
    "#trial_reg = None\n",
    "try:\n",
    "    for ip in ips:\n",
    "        ip.close()\n",
    "except:\n",
    "    pass\n",
    "\n",
    "if trial_reg is None:\n",
    "    trial_reg = np.ndarray([2*moving_sli_search_half_range, roi[1]-roi[0], roi[3]-roi[2]])\n",
    "    \n",
    "alignment_pair_id = 3\n",
    "fn = \"/media/XIAOUSB1/BNL_FXI_Sept2019_YujingBi_EnyuanHu/xanes3D_trial_reg_results_29773_new.h5\"\n",
    "f = h5py.File(fn, 'r')\n",
    "trial_reg[:] = f['/trial_registration/trial_reg_results/{0}/trial_reg_img{0}'.format(str(alignment_pair_id).zfill(3))][:]\n",
    "f.close()\n",
    "\n",
    "ips = []\n",
    "ijui.show(ij.py.to_java(trial_reg))\n",
    "imp1 = WindowManager.getCurrentImage()\n",
    "imp1.setTitle(str(alignment_pair_id).zfill(3))\n",
    "ips.append(imp1)"
   ]
  },
  {
   "cell_type": "code",
   "execution_count": null,
   "metadata": {},
   "outputs": [],
   "source": [
    "fn = '/media/XIAOUSB1/BNL_FXI_Sept2019_YujingBi_EnyuanHu/zshift_29773.txt'\n",
    "with open(fn, 'r') as f:\n",
    "    a = f.readlines()\n",
    "\n",
    "b = []\n",
    "for ii in a:\n",
    "    if ii.split():\n",
    "        #print(ii.split()[0])\n",
    "        b.append([int(ii.split()[0]), int(ii.split()[1])+10])\n",
    "        \n",
    "fn = '/media/XIAOUSB1/BNL_FXI_Sept2019_YujingBi_EnyuanHu/zshift_29773_new.txt'\n",
    "np.savetxt(fn, b, fmt='%d')"
   ]
  },
  {
   "cell_type": "code",
   "execution_count": null,
   "metadata": {},
   "outputs": [],
   "source": [
    "help(np.savetxt)"
   ]
  },
  {
   "cell_type": "markdown",
   "metadata": {},
   "source": [
    "# **Section 4: `Align 3D Datasets`**"
   ]
  },
  {
   "cell_type": "code",
   "execution_count": null,
   "metadata": {},
   "outputs": [],
   "source": [
    "from importlib import reload\n",
    "import xanes_regtools as xr\n",
    "xr = reload(xr)\n",
    "import numpy as np\n",
    "import h5py, os\n",
    "shift = np.int32(np.genfromtxt('/media/XIAOUSB1/BNL_FXI_Sept2019_YujingBi_EnyuanHu/zshift_29773_new.txt'))\n",
    "fn = \"/media/XIAOUSB1/BNL_FXI_Sept2019_YujingBi_EnyuanHu/xanes3D_trial_reg_results_29773_new.h5\"\n",
    "# this is the slice range for alignment after the shift values are determined\n",
    "moving_sli_start = 480\n",
    "moving_sli_end = 610\n",
    "\n",
    "f = h5py.File(fn, 'r')\n",
    "recon_top_dir = f['/trial_registration/data_directory_info/recon_top_dir'][()] \n",
    "recon_path_template = f['/trial_registration/data_directory_info/recon_path_template'][()] \n",
    "roi = f['/trial_registration/trial_reg_parameters/slice_roi'][:] \n",
    "reg_method = f['/trial_registration/trial_reg_parameters/reg_method'][()].lower()\n",
    "ref_mode = f['/trial_registration/trial_reg_parameters/reg_ref_mode'][()].lower()\n",
    "scan_id_s = f['/trial_registration/trial_reg_parameters/scan_ids'][0]\n",
    "scan_id_e = f['/trial_registration/trial_reg_parameters/scan_ids'][-1]\n",
    "fixed_scan_id = f['/trial_registration/trial_reg_parameters/fixed_scan_id'][()]\n",
    "chunk_sz = f['/trial_registration/trial_reg_parameters/chunk_sz'][()]\n",
    "eng_list = f['/trial_registration/trial_reg_parameters/eng_list'][:]\n",
    "f.close()\n",
    "\n",
    "reg = xr.regtools(dtype='3D_XANES', method=reg_method, mode='TRANSLATION')\n",
    "reg.set_method(reg_method)\n",
    "reg.set_ref_mode(ref_mode)\n",
    "reg.cal_set_anchor(scan_id_s, scan_id_e, fixed_scan_id)\n",
    "reg.eng_list = eng_list\n",
    "\n",
    "reg.set_chunk_sz(chunk_sz)\n",
    "reg.set_roi(roi)\n",
    "reg.set_3D_recon_path_template(recon_path_template)\n",
    "reg.set_saving(save_path=recon_top_dir, fn=os.path.basename(fn))\n",
    "reg.apply_xanes3D_chunk_shift(shift, 410, 450, trialfn=fn, savefn=fn)\n",
    "print('\\033[04m\\033[01m\\033[34m     Section 4 finished     ') "
   ]
  },
  {
   "cell_type": "code",
   "execution_count": null,
   "metadata": {},
   "outputs": [],
   "source": [
    "try:\n",
    "    for ip in ips:\n",
    "        ip.close()\n",
    "except:\n",
    "    pass\n",
    "\n",
    "fn = \"/media/XIAOUSB1/BNL_FXI_Sept2019_YujingBi_EnyuanHu/xanes3D_trial_reg_results_29773_new.h5\"\n",
    "sli_idx = 20\n",
    "f = h5py.File(fn, 'r')\n",
    "reg_img = f['/registration_results/reg_results/registered_xanes3D'][:, sli_idx, :, :]\n",
    "f.close()\n",
    "\n",
    "ips = []\n",
    "ijui.show(ij.py.to_java(reg_img))\n",
    "imp1 = WindowManager.getCurrentImage()\n",
    "imp1.setTitle(str(sli_idx).zfill(3))\n",
    "ips.append(imp1)"
   ]
  },
  {
   "cell_type": "code",
   "execution_count": null,
   "metadata": {},
   "outputs": [],
   "source": [
    "shift = np.int32(np.genfromtxt('/media/XIAOUSB1/BNL_FXI_Sept2019_YujingBi_EnyuanHu/zshift_29773.txt'))\n",
    "print(shift)"
   ]
  },
  {
   "cell_type": "code",
   "execution_count": null,
   "metadata": {},
   "outputs": [],
   "source": [
    "print(shift)"
   ]
  },
  {
   "cell_type": "code",
   "execution_count": null,
   "metadata": {},
   "outputs": [],
   "source": [
    "print(reg.eng_list)"
   ]
  },
  {
   "cell_type": "code",
   "execution_count": null,
   "metadata": {},
   "outputs": [],
   "source": [
    "for key, item in reg.img_id_eng_dict.items():\n",
    "    print(key, item)"
   ]
  },
  {
   "cell_type": "code",
   "execution_count": null,
   "metadata": {},
   "outputs": [],
   "source": [
    "print(len(reg.abs_shift_dict))\n",
    "print(len(reg.alignment_pair))\n",
    "print(len(reg.shift_chain_dict))\n",
    "cnt = 0\n",
    "for key, item in reg.abs_shift_dict.items():\n",
    "    print(cnt, ':\\t', key, item)\n",
    "    cnt += 1"
   ]
  },
  {
   "cell_type": "code",
   "execution_count": null,
   "metadata": {},
   "outputs": [],
   "source": [
    "cnt = 0\n",
    "for key, item in reg.shift_chain_dict.items():\n",
    "    print(cnt, ':\\t', key, item)\n",
    "    cnt += 1"
   ]
  },
  {
   "cell_type": "code",
   "execution_count": null,
   "metadata": {},
   "outputs": [],
   "source": [
    "print(len(reg.alignment_pair))\n",
    "cnt = 0\n",
    "for key, item in reg.alignment_pair:\n",
    "    print(cnt, ':\\t', key, item)\n",
    "    cnt += 1"
   ]
  },
  {
   "cell_type": "code",
   "execution_count": null,
   "metadata": {},
   "outputs": [],
   "source": [
    "print(reg.anchor)"
   ]
  },
  {
   "cell_type": "code",
   "execution_count": null,
   "metadata": {},
   "outputs": [],
   "source": [
    "int(1.2)"
   ]
  },
  {
   "cell_type": "code",
   "execution_count": null,
   "metadata": {},
   "outputs": [],
   "source": []
  }
 ],
 "metadata": {
  "kernelspec": {
   "display_name": "Python 3",
   "language": "python",
   "name": "python3"
  },
  "language_info": {
   "codemirror_mode": {
    "name": "ipython",
    "version": 3
   },
   "file_extension": ".py",
   "mimetype": "text/x-python",
   "name": "python",
   "nbconvert_exporter": "python",
   "pygments_lexer": "ipython3",
   "version": "3.6.7"
  }
 },
 "nbformat": 4,
 "nbformat_minor": 4
}
