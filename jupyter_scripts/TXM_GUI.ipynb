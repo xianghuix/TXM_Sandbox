{
 "cells": [
  {
   "cell_type": "code",
   "execution_count": 1,
   "metadata": {},
   "outputs": [
    {
     "name": "stdout",
     "output_type": "stream",
     "text": [
      "Added 491 JARs to the Java classpath.\n"
     ]
    },
    {
     "data": {
      "application/vnd.jupyter.widget-view+json": {
       "model_id": "556398726d2a41c19e65c4011f92fe47",
       "version_major": 2,
       "version_minor": 0
      },
      "text/plain": [
       "Tab(children=(Tab(children=(VBox(children=(VBox(children=(HBox(children=(HTML(value=\"<span style='color:red; f…"
      ]
     },
     "metadata": {},
     "output_type": "display_data"
    }
   ],
   "source": [
    "%gui qt\n",
    "from TXM_Sandbox.TXM_Sandbox import main_gui as txmg\n",
    "gui = txmg.txm_gui(fiji_path='/home/xiao/software/Fiji.app', form_sz=[750, 1000])\n",
    "gui.gui_layout()  "
   ]
  },
  {
   "cell_type": "code",
   "execution_count": null,
   "metadata": {},
   "outputs": [],
   "source": [
    "#a = [0, int, str, np.float32]\n",
    "#a[3](1)\n",
    "gui.tomo_recon_gui.ALG_PARAM_DICT"
   ]
  },
  {
   "cell_type": "code",
   "execution_count": null,
   "metadata": {},
   "outputs": [],
   "source": [
    "from TXM_Sandbox.TXM_Sandbox.gui.gui_components import enable_disable_boxes, get_raw_img_info\n",
    "import h5py, datetime, numpy as np\n",
    "#boxes = ['L[0][1][2][0]_review_reg_results_box']\n",
    "#enable_disable_boxes(gui.xanes2D_gui.hs, boxes, disabled=True, level=-1)\n",
    "\n",
    "cfg = gui.tomo_recon_gui.global_h.io_tomo_cfg\n",
    "print(cfg)\n",
    "\n",
    "\"\"\"\n",
    "data_info = get_raw_img_info(gui.tomo_recon_gui.tomo_raw_data_file_template.format(gui.tomo_recon_gui.tomo_scan_id),\n",
    "                                          gui.tomo_recon_gui.global_h.io_tomo_cfg, scan_type='tomo')\n",
    "print(data_info)\n",
    "print(gui.tomo_recon_gui.tomo_raw_data_file_template.format(gui.tomo_recon_gui.tomo_scan_id))\n",
    "\n",
    "data_info = {}\n",
    "with h5py.File(gui.tomo_recon_gui.tomo_raw_data_file_template.format(gui.tomo_recon_gui.tomo_scan_id), 'r') as f:\n",
    "    data_info['img_dim'] = f[cfg['structured_h5_reader']['io_data_info']['item00_path']].shape\n",
    "    data_info['theta_len'] = f[cfg['structured_h5_reader']['io_data_info']['item01_path']].shape[0]\n",
    "    data_info['theta_min'] = np.min(f[cfg['structured_h5_reader']['io_data_info']['item01_path']])\n",
    "    data_info['theta_max'] = np.max(f[cfg['structured_h5_reader']['io_data_info']['item01_path']])\n",
    "    data_info['magnification'] = f[cfg['structured_h5_reader']['io_data_info']['item02_path']][()]\n",
    "    data_info['pixel size'] = f[cfg['structured_h5_reader']['io_data_info']['item03_path']][()]\n",
    "    data_info['eng'] = f[cfg['structured_h5_reader']['io_data_info']['item04_path']][()]\n",
    "    data_info['note'] = f[cfg['structured_h5_reader']['io_data_info']['item05_path']][()]\n",
    "    data_info['scan time'] = datetime.fromtimestamp(f[cfg['structured_h5_reader']['io_data_info']['item06_path']][()]).strftime(\"%m/%d/%Y, %H:%M:%S\")\n",
    "\"\"\""
   ]
  },
  {
   "cell_type": "code",
   "execution_count": null,
   "metadata": {},
   "outputs": [],
   "source": [
    "print(gui.tomo_recon_gui.tomo_use_read_config)\n",
    "print(gui.tomo_recon_gui.tomo_cen_list_file)"
   ]
  },
  {
   "cell_type": "code",
   "execution_count": null,
   "metadata": {},
   "outputs": [],
   "source": [
    "#print(gui.xanes3D_gui.xanes3D_available_sli_file_ids)\n",
    "print(gui.xanes3D_gui.xanes3D_raw_3D_h5_top_dir)\n",
    "print(gui.xanes3D_gui.xanes3D_raw_3D_h5_temp)\n",
    "print(gui.xanes3D_gui.xanes3D_recon_3D_dir_temp)\n",
    "print(gui.xanes3D_gui.xanes3D_recon_3D_dir_temp)\n",
    "print(gui.xanes3D_gui.xanes3D_save_trial_reg_filename)\n",
    "print(gui.xanes3D_gui.xanes3D_reg_sli_search_half_width)\n",
    "print(gui.xanes3D_gui.xanes3D_review_shift_dict)\n",
    "print(gui.xanes3D_gui.xanes_analysis_option)\n",
    "print(gui.xanes3D_gui.xanes3D_reg_use_mask)"
   ]
  },
  {
   "cell_type": "code",
   "execution_count": null,
   "metadata": {},
   "outputs": [],
   "source": [
    "print(gui.io_xanes3D_cfg['tomo_raw_fn_template'])\n",
    "print(gui.io_xanes3D_cfg['xanes3D_recon_dir_template'])\n",
    "print(gui.io_xanes3D_cfg['xanes3D_recon_fn_template'])\n",
    "print(gui.tomo_recon_gui.tomo_available_raw_idx)\n",
    "print(gui.tomo_recon_gui.data_info)\n",
    "print(gui.tomo_recon_gui.tomo_raw_data_file_template.format(gui.tomo_recon_gui.tomo_scan_id))\n",
    "print(gui.tomo_recon_gui.tomo_raw_data_top_dir)\n",
    "print(gui.tomo_recon_gui.tomo_recon_top_dir)"
   ]
  },
  {
   "cell_type": "code",
   "execution_count": null,
   "metadata": {},
   "outputs": [],
   "source": [
    "import TXM_Sandbox.TXM_Sandbox.utils.xanes_regtools as xr\n",
    "reg = xr.regtools(dtype='3D_XANES', mode='TRANSLATION')\n",
    "reg.set_xanes3D_recon_path_template('/run/media/xiao/Data/data/Yeqing_Sept_2020/Yeqing/recon_fly_scan2_id_{0}/recon_fly_scan2_id_{0}_{1}.tiff')\n",
    "reg.set_roi([645, 1902, 275, 1607, 700, 1600])"
   ]
  },
  {
   "cell_type": "code",
   "execution_count": null,
   "metadata": {},
   "outputs": [],
   "source": [
    "reg.apply_xanes3D_chunk_shift({'1': (0.0, 0.0, 0.0), '0': (12.0, 3.0, -3.0)}, 941, 1075, trialfn='/run/media/xiao/Data/data/Yeqing_Sept_2020/Yeqing/3D_trial_reg_scan2_id_69306-69307_2020-10-12-10-01-46.h5', savefn='/run/media/xiao/Data/data/Yeqing_Sept_2020/Yeqing/3D_trial_reg_scan2_id_69306-69307_2020-10-12-10-01-46.h5')\n"
   ]
  },
  {
   "cell_type": "code",
   "execution_count": null,
   "metadata": {},
   "outputs": [],
   "source": [
    "import os\n",
    "from TXM_Sandbox.TXM_Sandbox.utils import xanes_regtools as xr\n",
    "reg = xr.regtools(dtype='3D_XANES', method='MRTV', mode='TRANSLATION')\n",
    "\n",
    "reg.set_raw_data_info(**{'raw_h5_top_dir': '/run/media/xiao/Data/data/3D_xanes/', 'recon_top_dir': '/run/media/xiao/Data/data/3D_xanes/'})\n",
    "reg.set_method('MRTV')\n",
    "reg.set_ref_mode('single')\n",
    "reg.set_xanes3D_tmp_filename('/home/xiao/software/anaconda3/user_packages/TXM_Sandbox/TXM_Sandbox/tmp/xanes3D_tmp.h5')\n",
    "reg.read_xanes3D_tmp_file()\n",
    "reg.set_xanes3D_raw_h5_top_dir('/run/media/xiao/Data/data/3D_xanes/')\n",
    "reg.set_indices(69306, 69308, 69306)\n",
    "reg.set_reg_options(use_mask=False, mask_thres=0.0,                     use_chunk=False, chunk_sz=7,                     use_smooth_img=False, smooth_sigma=0,                     mrtv_level=5, mrtv_width=10,                      mrtv_sp_wz=8, mrtv_sp_step=0.5)\n",
    "reg.set_roi([720, 1676, 530, 1688, 941, 1075])\n",
    "reg.set_xanes3D_recon_path_template('/run/media/xiao/Data/data/3D_xanes/recon_fly_scan2_id_{0}/recon_fly_scan_id_{0}_{1}.tiff')\n",
    "reg.set_saving(os.path.dirname('/run/media/xiao/Data/data/3D_xanes/3D_trial_reg_scan_id_69306-69307_2020-10-12-10-01-46.h5'),                      fn=os.path.basename('/run/media/xiao/Data/data/Yeqing_Sept_2020/Yeqing/3D_trial_reg_scan2_id_69306-69307_2020-10-12-10-01-46.h5'))\n",
    "reg.xanes3D_sli_search_half_range = 20\n",
    "reg.xanes3D_recon_fixed_sli = 1000\n"
   ]
  },
  {
   "cell_type": "code",
   "execution_count": null,
   "metadata": {},
   "outputs": [],
   "source": [
    "import numpy as np\n",
    "print(reg.img_id_s, reg.img_id_e)\n",
    "print(reg.img_ids)\n",
    "print(len(reg.eng_list))\n",
    "reg.eng_list = np.linspace(7000, 8000, 2)\n",
    "print(len(reg.eng_list))\n",
    "reg.compose_dicts()"
   ]
  },
  {
   "cell_type": "code",
   "execution_count": null,
   "metadata": {},
   "outputs": [],
   "source": [
    "shift = {}\n",
    "for ii in range(44):\n",
    "    shift[str(ii)] = list(np.random.randn(3))"
   ]
  },
  {
   "cell_type": "code",
   "execution_count": null,
   "metadata": {},
   "outputs": [],
   "source": [
    "print(reg.img_ids_dict)\n",
    "reg._chunking()\n",
    "reg._alignment_scheduler(dtype='3D_XANES')\n",
    "tp = '/run/media/xiao/Data/data/Yeqing_Sept_2020/Yeqing/3D_trial_reg_scan2_id_69306-69307_2020-10-12-10-01-46.h5'\n",
    "reg._sort_absolute_shift(tp, shift_dict=shift, optional_shift_dict=None)\n",
    "print(len(reg.alignment_pair_list))"
   ]
  },
  {
   "cell_type": "code",
   "execution_count": null,
   "metadata": {},
   "outputs": [],
   "source": [
    "print(len(reg.shift_chain_dict))\n",
    "print(len(reg.abs_shift_dict))\n",
    "print(len(reg.alignment_pair_list))\n",
    "print(len(reg.img_ids_dict))\n",
    "\n",
    "print(reg.anchor_id)\n",
    "print(reg.chunk_sz)\n",
    "\n",
    "for ii in range(len(reg.alignment_pair_list)):\n",
    "    print(str(ii), ':\\t', reg.alignment_pair_list[ii][1], '\\n')\n",
    "\n",
    "for key in sorted(reg.abs_shift_dict.keys()):\n",
    "    print(key, ':', reg.img_ids_dict[key], '\\t', reg.abs_shift_dict[key], '\\n')"
   ]
  },
  {
   "cell_type": "code",
   "execution_count": null,
   "metadata": {},
   "outputs": [],
   "source": [
    "print('original pair list: ', reg.alignment_pair_list)\n",
    "shift_chain_dict = {}\n",
    "for ii in range(len(reg.alignment_pair_list)-1, -1, -1):\n",
    "    print(ii, reg.alignment_pair_list[ii], '\\n')\n",
    "    shift_chain_dict[reg.alignment_pair_list[ii][1]] = [reg.alignment_pair_list[ii][0]]\n",
    "    jj = ii - 1\n",
    "    while jj>=0:\n",
    "        if shift_chain_dict[reg.alignment_pair_list[ii][1]][-1] == reg.alignment_pair_list[jj][1]:\n",
    "            shift_chain_dict[reg.alignment_pair_list[ii][1]].append(reg.alignment_pair_list[jj][0])\n",
    "            print(' '*4, ii, jj, shift_chain_dict)\n",
    "        jj -= 1\n",
    "print('chain dict', shift_chain_dict)"
   ]
  },
  {
   "cell_type": "code",
   "execution_count": null,
   "metadata": {},
   "outputs": [],
   "source": [
    "\"\"\"\n",
    "ROI: x: [610 1607]; y: [963 2009]\n",
    "1. 22.4GB (before launching) \n",
    "2. 23.3GB (after launching)\n",
    "3. 25.5GB (after confirmation of config)\n",
    "4. 26.0GB (after confirmation of roi)\n",
    "5. 25.9GB (after confirmation of reg review)\n",
    "6. peak 28.4GB during registration\n",
    "7. 26.4 -> 26.0GB after registration\n",
    "8. fluctuate between 26.2 - 26.3 in visualization\n",
    "\"\"\"\n",
    "print(f\"case 1: x: [610 1607]; y: [963 2009]: {997*1046*101*4/1024/1024} MB\") \n",
    "print(\"-- break --\".center(60))\n",
    "\n",
    "\"\"\"\n",
    "ROI: x: [499 2199]; y: [390 2009]\n",
    "1. 22.6GB (before launching) \n",
    "2. 23.4GB ~ 23.6GB (after launching)\n",
    "3. 25.9GB (after confirmation of config)\n",
    "4. 26.1GB (after confirmation of roi)\n",
    "5. 26.1GB (after confirmation of reg review)\n",
    "6. peak 28.5GB during registration\n",
    "7. 27.2 after registration\n",
    "8. drop to 26.6GB in visualization\n",
    "\"\"\"\n",
    "print(f\"case 2: x: [499 2199]; y: [390 2009]: {(2009-390)*(2199-499)*101*4/1024/1024} MB\") # from 22.3GB to 25.6GB t0 26.0GB"
   ]
  },
  {
   "cell_type": "code",
   "execution_count": null,
   "metadata": {},
   "outputs": [],
   "source": [
    "print(gui.xanes2D_gui.xanes2D_img_roi.shape)\n",
    "print(gui.xanes2D_gui.xanes2D_reg_roi)"
   ]
  },
  {
   "cell_type": "code",
   "execution_count": null,
   "metadata": {},
   "outputs": [],
   "source": [
    "import numpy as np\n",
    "gui.xanes2D_gui.xanes2D_img_roi = 0\n",
    "gui.xanes2D_gui.xanes2D_img_roi += 1\n",
    "#gui.xanes2D_gui.xanes2D_img_roi = np.ndarray(np.array(gui.xanes2D_gui.xanes2D_img_roi.shape)-200, dtype=np.float32)\n",
    "\n",
    "#gui.xanes2D_gui.xanes2D_img_roi[:] = np.ones(np.array(gui.xanes2D_gui.xanes2D_img_roi.shape), dtype=np.float32)[:]\n",
    "#print((gui.xanes2D_gui.xanes2D_img_roi.shape))"
   ]
  },
  {
   "cell_type": "code",
   "execution_count": null,
   "metadata": {},
   "outputs": [],
   "source": [
    "print(gui.xanes2D_gui.xanes2D_file_configured)\n",
    "print(gui.xanes2D_gui.xanes2D_data_configured)\n",
    "print(gui.xanes2D_gui.xanes2D_roi_configured)\n",
    "print(gui.xanes2D_gui.xanes2D_reg_review_done)\n",
    "print(gui.xanes2D_gui.xanes2D_alignment_done)\n",
    "print(gui.xanes2D_gui.xanes2D_file_analysis_option)\n"
   ]
  },
  {
   "cell_type": "code",
   "execution_count": null,
   "metadata": {},
   "outputs": [],
   "source": [
    "import numpy as np\n",
    "from numpy import polyfit, poly1d\n",
    "\n",
    "import matplotlib.pyplot as plt\n",
    "data = np.loadtxt('/home/xiao/software/anaconda3/recon_scripts/jupyter_scripts/pt_delta_beta.dat')\n",
    "eng = data[:, 0]/40\n",
    "delta = data[:, 1]\n",
    "fitd = poly1d(polyfit(eng[180:], 1/delta[180:], 2))\n",
    "plt.figure(1)\n",
    "plt.plot(eng[180:]*40, delta[180:], 'g')\n",
    "#plt.figure(2)\n",
    "plt.plot(eng[180:]*40, (1/fitd(eng))[180:], 'y--')\n",
    "print(eng.shape, eng[180]*40)\n",
    "\"\"\"\n",
    "plt.figure(3)\n",
    "plt.plot(eng[120:], np.sqrt(delta[120:]))\n",
    "\"\"\"\n",
    "\n",
    "enge = np.linspace(15000/40, 70000/40, num=550)\n",
    "plt.figure(4)\n",
    "plt.plot(enge*40, 1/fitd(enge))\n",
    "plt.show()\n",
    "\n",
    "print(np.sqrt((1/fitd(enge))[450]))\n"
   ]
  },
  {
   "cell_type": "code",
   "execution_count": null,
   "metadata": {},
   "outputs": [],
   "source": [
    "print(eng[315]*40)\n",
    "print(1000*(delta[-1]-delta[315])/(eng[-1]-eng[315]))\n",
    "\n",
    "print(delta[-1] + 1000*(delta[-1]-delta[315])/(eng[-1]-eng[315]) * 40)\n",
    "print(1.4*2.8)\n",
    "print(5.6*30)"
   ]
  },
  {
   "cell_type": "code",
   "execution_count": null,
   "metadata": {},
   "outputs": [],
   "source": [
    "eng_keV = np.linspace(10, 40, 30)\n",
    "wl = 12.4/eng_keV\n",
    "a1 = 20\n",
    "ina1 = np.arcsin(wl/2/a1)*180/np.pi\n",
    "a2 = 10\n",
    "ina2 = np.arcsin(wl/2/a2)*180/np.pi\n",
    "plt.figure(10)\n",
    "plt.plot(eng_keV, ina1)\n",
    "plt.plot(eng_keV, ina2)"
   ]
  },
  {
   "cell_type": "code",
   "execution_count": null,
   "metadata": {},
   "outputs": [],
   "source": [
    "a = gui.xanes2D_gui.reader(gui.xanes2D_gui.xanes2D_file_raw_h5_filename, \n",
    "    dtype='eng', sli=[None],\n",
    "    cfg=gui.xanes2D_gui.global_h.io_xanes2D_cfg)[gui.xanes2D_gui.xanes2D_eng_id_s:gui.xanes2D_gui.xanes2D_eng_id_e]\n",
    "print(a)"
   ]
  },
  {
   "cell_type": "code",
   "execution_count": null,
   "metadata": {},
   "outputs": [],
   "source": [
    "import TXM_Sandbox.TXM_Sandbox.utils.xanes_regtools  as xr\n",
    "from TXM_Sandbox.TXM_Sandbox.utils.xanes_math import multi_resolutin_tv_reg\n",
    "import os\n",
    "reg = xr.regtools(dtype='2D_XANES', method=gui.xanes2D_gui.xanes2D_reg_method, mode='TRANSLATION')\n",
    "reg.set_xanes2D_raw_filename(gui.xanes2D_gui.xanes2D_file_raw_h5_filename)\n",
    "reg.set_raw_data_info(**{'raw_h5_filename':gui.xanes2D_gui.xanes2D_file_raw_h5_filename,\n",
    "                         'config_filename':gui.xanes2D_gui.xanes2D_file_save_trial_reg_config_filename})\n",
    "reg.set_method(gui.xanes2D_gui.xanes2D_reg_method)\n",
    "reg.set_ref_mode(gui.xanes2D_gui.xanes2D_reg_ref_mode)\n",
    "reg.set_eng_list(gui.xanes2D_gui.xanes_analysis_eng_list)\n",
    "reg.set_indices(gui.xanes2D_gui.xanes2D_eng_id_s, gui.xanes2D_gui.xanes2D_eng_id_e, gui.xanes2D_gui.xanes2D_reg_anchor_idx)\n",
    "reg.set_reg_options(use_mask=gui.xanes2D_gui.xanes2D_reg_use_mask, mask_thres=gui.xanes2D_gui.xanes2D_reg_mask_thres,\n",
    "                use_chunk=gui.xanes2D_gui.xanes2D_reg_use_chunk, chunk_sz=gui.xanes2D_gui.xanes2D_reg_chunk_sz,\n",
    "                use_smooth_img=gui.xanes2D_gui.xanes2D_reg_use_smooth_img, smooth_sigma=gui.xanes2D_gui.xanes2D_reg_smooth_img_sigma,\n",
    "                mrtv_level=gui.xanes2D_gui.xanes2D_reg_mrtv_level, mrtv_width=gui.xanes2D_gui.xanes2D_reg_mrtv_width, \n",
    "                mrtv_step=gui.xanes2D_gui.xanes2D_reg_mrtv_step)\n",
    "reg.set_roi(gui.xanes2D_gui.xanes2D_reg_roi)\n",
    "reg.set_img_data(gui.xanes2D_gui.xanes2D_img_roi)\n",
    "reg.set_mask(gui.xanes2D_gui.xanes2D_reg_mask)\n",
    "reg.set_saving(os.path.dirname(gui.xanes2D_gui.xanes2D_save_trial_reg_filename),\n",
    "               fn=os.path.basename(gui.xanes2D_gui.xanes2D_save_trial_reg_filename))\n",
    "reg.compose_dicts()\n",
    "#reg.reg_xanes2D_chunk()\n",
    "#print(gui.xanes2D_gui.xanes_analysis_eng_list)"
   ]
  },
  {
   "cell_type": "code",
   "execution_count": null,
   "metadata": {},
   "outputs": [],
   "source": [
    "#reg.reg_xanes2D_chunk()\n",
    "reg._alignment_scheduler(dtype='2D_XANES')\n",
    "ii = 0\n",
    "_, _, _, shift = multi_resolutin_tv_reg(reg.img[reg.alignment_pair_list[ii][0]], \n",
    "                                   reg.img[reg.alignment_pair_list[ii][1]], \n",
    "                                   levs=reg.alg_mrtv_level, wz=reg.alg_mrtv_width, \n",
    "                                   step=reg.alg_mrtv_step)"
   ]
  },
  {
   "cell_type": "code",
   "execution_count": null,
   "metadata": {},
   "outputs": [],
   "source": [
    "print(len(reg.alignment_pair_list))"
   ]
  },
  {
   "cell_type": "code",
   "execution_count": null,
   "metadata": {},
   "outputs": [],
   "source": [
    "#print(gui.xanes2D_gui.xanes2D_img_roi.shape)\n",
    "#print(gui.xanes2D_gui.xanes2D_config_eng_list.shape)\n",
    "#print(gui.GUI_cfg_file)\n",
    "#print(gui.tomo_recon_gui.tomo_raw_data_file_template.format(gui.tomo_recon_gui.tomo_scan_id))\n",
    "for key in gui.tomo_recon_gui.tomo_recon_param_dict['file_params'].keys():\n",
    "    print(key, ':', gui.tomo_recon_gui.tomo_recon_param_dict['file_params'][key], '\\n')"
   ]
  },
  {
   "cell_type": "code",
   "execution_count": null,
   "metadata": {},
   "outputs": [],
   "source": [
    "print(gui.io_xanes3D_cfg['xanes3D_recon_fn_template'])"
   ]
  },
  {
   "cell_type": "code",
   "execution_count": null,
   "metadata": {},
   "outputs": [],
   "source": [
    "import json\n",
    "with open(gui.tomo_recon_gui.tomo_cen_list_file, 'r') as f:\n",
    "    recon_param_dict = json.load(f)\n",
    "print(recon_param_dict)"
   ]
  },
  {
   "cell_type": "code",
   "execution_count": null,
   "metadata": {},
   "outputs": [],
   "source": [
    "from TXM_Sandbox.TXM_Sandbox.gui.gui_components import enable_disable_boxes\n",
    "boxes = [\"L[0][0][1][0][0][2]_recon_chunk_box\"]\n",
    "enable_disable_boxes(gui.tomo_recon_gui.hs, boxes, disabled=False, level=-1)"
   ]
  },
  {
   "cell_type": "code",
   "execution_count": null,
   "metadata": {},
   "outputs": [],
   "source": [
    "from TXM_Sandbox.TXM_Sandbox.utils.tomo_recon_tools import get_dim_ang_range_range_sli\n",
    "import h5py, numpy as np\n",
    "import matplotlib.pyplot as plt"
   ]
  },
  {
   "cell_type": "code",
   "execution_count": null,
   "metadata": {},
   "outputs": [],
   "source": [
    "def sort_wedge(data, bad_angs, sli_start, sli_end):\n",
    "    for ii in range(sli_start, sli_end):\n",
    "        data[bad_angs[:, ii], ii, :] = 0\n",
    "    return data\n",
    "\n",
    "fn = '/media/xiao_usb/YUAN/fly_scan_id_65219.h5'\n",
    "with h5py.File(fn, 'r') as f:\n",
    "    data = f['/img_tomo'][:, 1000:1020, :]\n",
    "    \n",
    "bad_angs = get_dim_ang_range_range_sli(gui.tomo_recon_gui.info_reader, gui.tomo_recon_gui.reader, \n",
    "                                       fn, gui.tomo_recon_gui.tomo_recon_param_dict['file_params']['io_confg'],\n",
    "                                       sli_start=1000, sli_end=1020,\n",
    "                                       col_start=1149, col_end=1524,\n",
    "                                       ds_use=False, ds_level=1, thres=320)\n",
    "print(bad_angs.shape, data.shape)\n",
    "b = sort_wedge(data, bad_angs, 0, 20)\n",
    "print(b.shape)\n",
    "plt.imshow(b[:, 5, :])\n",
    "plt.show()"
   ]
  },
  {
   "cell_type": "code",
   "execution_count": null,
   "metadata": {},
   "outputs": [],
   "source": [
    "%gui qt\n",
    "import napari, h5py\n",
    "napari.gui_qt()"
   ]
  },
  {
   "cell_type": "code",
   "execution_count": null,
   "metadata": {},
   "outputs": [],
   "source": [
    "fn = '/media/xiao_usb/High_res_TXM_CT_2020/fly_scan_id_48753_sr_RIGID_BODY.h5'\n",
    "with h5py.File(fn, 'r') as f:\n",
    "    data = f['/proj_out_plane_corr/tilted_proj/tilt_0.0_deg_recon'][:]\n",
    "napari.view_image(data)"
   ]
  },
  {
   "cell_type": "code",
   "execution_count": null,
   "metadata": {},
   "outputs": [],
   "source": [
    "gui.tomo_recon_gui.boxes_logic()\n",
    "gui.tomo_recon_gui.tomo_compound_logic()"
   ]
  },
  {
   "cell_type": "code",
   "execution_count": null,
   "metadata": {},
   "outputs": [],
   "source": [
    "import numpy as np\n",
    "from copy import deepcopy\n",
    "import matplotlib.pyplot as plt\n",
    "a = np.random.rand(200, 100, 100)\n",
    "c = deepcopy(a)"
   ]
  },
  {
   "cell_type": "code",
   "execution_count": null,
   "metadata": {},
   "outputs": [],
   "source": [
    "%gui qt\n",
    "%matplotlib widget\n",
    "b = a.mean(axis=2)<0.5\n",
    "idx = 10\n",
    "a[b, :] = 0\n",
    "plt.figure(1)\n",
    "plt.imshow(a[:, idx, :])\n",
    "plt.figure(2)\n",
    "plt.imshow(c[:, idx, :])"
   ]
  },
  {
   "cell_type": "code",
   "execution_count": null,
   "metadata": {},
   "outputs": [],
   "source": [
    "gui.WindowManager.getCurrentWindow().setTitle('test123')\n",
    "#gui.ij.py.run_macro(\"\"\"rename(\"test1\")\"\"\")"
   ]
  },
  {
   "cell_type": "code",
   "execution_count": null,
   "metadata": {},
   "outputs": [],
   "source": [
    "import numpy as np\n",
    "a = np.random.rand(5,5)\n",
    "print(a)\n",
    "b = (a<0.5)\n",
    "print(b)\n",
    "a[b] = 0\n",
    "print(a)"
   ]
  },
  {
   "cell_type": "code",
   "execution_count": null,
   "metadata": {},
   "outputs": [],
   "source": [
    "%matplotlib qt\n",
    "img1 = gui.ij.py.from_java(gui.WindowManager.getCurrentImage())\n",
    "print(img.shape)\n",
    "import matplotlib.pyplot as plt\n",
    "plt.imshow(img)"
   ]
  },
  {
   "cell_type": "code",
   "execution_count": null,
   "metadata": {},
   "outputs": [],
   "source": [
    "#gui.xanes3D_gui.enable_disable_boxes(gui.xanes3D_gui.xanes_fitting_gui_h.hs, \"L[0][x][3][0][4][0]_fit_fit_wl_param_box\", disabled = False, levle=-1)\n",
    "#gui.xanes3D_gui.xanes_fitting_gui_h.hs[\"L[0][x][3][0][4][0][0][1]_fit_wl_fit_func\"].disabled = False\n",
    "for ii in gui.xanes3D_gui.hs['L[0][2][2][0]_review_reg_results_box'].children:\n",
    "    print(ii, '\\n\\n')\n",
    "    ii.diisabled = True"
   ]
  },
  {
   "cell_type": "code",
   "execution_count": null,
   "metadata": {},
   "outputs": [],
   "source": [
    "gui.ijui.show(gui.ij.py.to_java(img-img1))"
   ]
  },
  {
   "cell_type": "code",
   "execution_count": null,
   "metadata": {},
   "outputs": [],
   "source": [
    "print(gui.xanes3D_gui.xanes_analysis_gui_h.ana_fn_seled)\n",
    "print(gui.xanes3D_gui.xanes_analysis_gui_h.ana_data_existed)\n",
    "print(gui.xanes3D_gui.xanes_analysis_gui_h.ana_data_configed)\n"
   ]
  },
  {
   "cell_type": "code",
   "execution_count": null,
   "metadata": {},
   "outputs": [],
   "source": [
    "print(gui.GUI_cfg_file)\n",
    "print(gui.tomo_recon_gui.tomo_raw_data_top_dir)\n",
    "import json, os\n",
    "f= open(gui.GUI_cfg_file, 'w')\n",
    "json.dump({'cwd':os.path.abspath(gui.tomo_recon_gui.tomo_raw_data_top_dir)},f)\n",
    "f.close()"
   ]
  },
  {
   "cell_type": "code",
   "execution_count": null,
   "metadata": {},
   "outputs": [],
   "source": [
    "for idx, cen in zip(['56600', '56601'], [637.0, 637.0]):\n",
    "    print(idx, cen)"
   ]
  },
  {
   "cell_type": "code",
   "execution_count": null,
   "metadata": {},
   "outputs": [],
   "source": [
    "def sli_interpreter(sli_tuple):\n",
    "    sli = []\n",
    "    for s in sli_tuple:\n",
    "        if isinstance(s, list):\n",
    "            sli.append(slice(s[0], s[1]))\n",
    "        else:\n",
    "            sli.append(slice(s))\n",
    "    return tuple(sli)"
   ]
  },
  {
   "cell_type": "code",
   "execution_count": null,
   "metadata": {},
   "outputs": [],
   "source": []
  },
  {
   "cell_type": "code",
   "execution_count": null,
   "metadata": {},
   "outputs": [],
   "source": [
    "print(sli_interpreter((10, None, [5,10])))"
   ]
  },
  {
   "cell_type": "code",
   "execution_count": null,
   "metadata": {},
   "outputs": [],
   "source": [
    "if isinstance([5, 10], list):\n",
    "    print('true')\n",
    "else:\n",
    "    print('false')"
   ]
  },
  {
   "cell_type": "code",
   "execution_count": null,
   "metadata": {},
   "outputs": [],
   "source": [
    "import numpy as np\n",
    "from numpy.random import rand\n",
    "#b = np.ndarray([100, 100])\n",
    "b = rand(100, 100)"
   ]
  },
  {
   "cell_type": "code",
   "execution_count": null,
   "metadata": {},
   "outputs": [],
   "source": [
    "import numpy.random as nr\n",
    "help(nr.rand)"
   ]
  },
  {
   "cell_type": "code",
   "execution_count": null,
   "metadata": {},
   "outputs": [],
   "source": [
    "b[a]"
   ]
  },
  {
   "cell_type": "code",
   "execution_count": null,
   "metadata": {},
   "outputs": [],
   "source": [
    "a = sli_interpreter(([10, 20], None))\n",
    "(b[10:20, :] == b[a]).all()"
   ]
  },
  {
   "cell_type": "code",
   "execution_count": null,
   "metadata": {},
   "outputs": [],
   "source": [
    "len(list(1))"
   ]
  },
  {
   "cell_type": "code",
   "execution_count": null,
   "metadata": {},
   "outputs": [],
   "source": [
    "list([1])"
   ]
  },
  {
   "cell_type": "code",
   "execution_count": null,
   "metadata": {},
   "outputs": [],
   "source": [
    "from functools import wraps, partial\n",
    "import logging\n",
    "\n",
    "def logged(func=None, *, level=logging.DEBUG, name=None, message=None):\n",
    "    if func is None:\n",
    "        return partial(logged, level=level, name=name, message=message)\n",
    "\n",
    "    logname = name if name else func.__module__\n",
    "    log = logging.getLogger(logname)\n",
    "    logmsg = message if message else func.__name__\n",
    "    @wraps(func)\n",
    "    def wrapper(*args, **kwargs):\n",
    "        log.log(level, logmsg)\n",
    "        return func(*args, **kwargs)\n",
    "    return wrapper\n",
    "\n",
    "# Example use\n",
    "@logged\n",
    "def add(x, y):\n",
    "    return x + y\n",
    "\n",
    "@logged()\n",
    "def sub(x, y):\n",
    "    return x - y\n",
    "\n",
    "@logged(level=logging.CRITICAL, name='example')\n",
    "def spam():\n",
    "    print('Spam!')\n",
    "\n",
    "if __name__ == '__main__':\n",
    "    import logging\n",
    "    logging.basicConfig(level=logging.DEBUG)\n",
    "    add(2,3)\n",
    "    sub(2,3)\n",
    "    spam()"
   ]
  },
  {
   "cell_type": "code",
   "execution_count": null,
   "metadata": {},
   "outputs": [],
   "source": [
    "import h5py \n",
    "def xanes2D_h5_reader(fn, cfg, dtype='data', sli=None):\n",
    "    sli = sli_interpreter(sli)\n",
    "    with h5py.File(fn, 'r') as f:\n",
    "        if dtype == 'data':\n",
    "            return f[cfg['io_data_structure']['data_path']][sli]\n",
    "        elif dtype == 'flat':\n",
    "            return f[cfg['io_data_structure']['flat_path']][sli]\n",
    "        elif dtype == 'dark':\n",
    "            return f[cfg['io_data_structure']['dark_path']][sli]\n",
    "        elif dtype == 'eng':\n",
    "            return f[cfg['io_data_structure']['eng_path']][sli] "
   ]
  },
  {
   "cell_type": "code",
   "execution_count": null,
   "metadata": {},
   "outputs": [],
   "source": [
    "a = slice(100, 120)\n",
    "print(a.step)"
   ]
  },
  {
   "cell_type": "code",
   "execution_count": null,
   "metadata": {},
   "outputs": [],
   "source": [
    "import inspect\n",
    "inspect.getfullargspec(xanes2D_h5_reader)[0]"
   ]
  },
  {
   "cell_type": "code",
   "execution_count": null,
   "metadata": {},
   "outputs": [],
   "source": [
    "import inspect\n",
    "import h5py\n",
    "from importlib import reload\n",
    "from TXM_Sandbox.TXM_Sandbox.utils.io import data_reader, tomo_h5_reader, xanes3D_h5_reader, xanes2D_h5_reader, sli_interpreter\n",
    "from TXM_Sandbox.TXM_Sandbox.dicts.config_dict import (IO_TOMO_CFG_DEFAULT, \n",
    "                                 IO_XANES2D_CFG_DEFAULT,\n",
    "                                 IO_XANES3D_CFG_DEFAULT)"
   ]
  },
  {
   "cell_type": "code",
   "execution_count": null,
   "metadata": {},
   "outputs": [],
   "source": [
    "reader = data_reader(tomo_h5_reader)"
   ]
  },
  {
   "cell_type": "code",
   "execution_count": null,
   "metadata": {},
   "outputs": [],
   "source": [
    "fnt = '/media/xiao_usb/3D_xanes/fly_scan_id_56600.h5'\n",
    "#fnt = '/media/xiao_usb/JuLi_2020Q1/xanes_scan2_id_54312.h5'\n",
    "eng = reader(fnt, cfg=IO_TOMO_CFG_DEFAULT, dtype='data', sli=[[-1, -1], None, None])"
   ]
  },
  {
   "cell_type": "code",
   "execution_count": null,
   "metadata": {},
   "outputs": [],
   "source": [
    "print(eng.shape)\n",
    "print(type(eng))\n",
    "print(eng)"
   ]
  },
  {
   "cell_type": "code",
   "execution_count": null,
   "metadata": {},
   "outputs": [],
   "source": [
    "print(sli_interpreter([[10, 20]]))"
   ]
  },
  {
   "cell_type": "code",
   "execution_count": null,
   "metadata": {},
   "outputs": [],
   "source": [
    "def xanes2D_h5_reader(fn, cfg=IO_XANES2D_CFG_DEFAULT, dtype='data', sli=None):\n",
    "    sli = sli_interpreter(sli)\n",
    "    with h5py.File(fn, 'r') as f:\n",
    "        if dtype == 'data':\n",
    "            return f[cfg['structured_h5_reader']['io_data_structure']['data_path']][sli]\n",
    "        elif dtype == 'flat':\n",
    "            return f[cfg['structured_h5_reader']['io_data_structure']['flat_path']][sli]\n",
    "        elif dtype == 'dark':\n",
    "            return f[cfg['structured_h5_reader']['io_data_structure']['dark_path']][sli]\n",
    "        elif dtype == 'eng':\n",
    "            return f[cfg['structured_h5_reader']['io_data_structure']['eng_path']][sli] "
   ]
  },
  {
   "cell_type": "code",
   "execution_count": null,
   "metadata": {},
   "outputs": [],
   "source": [
    "with h5py.File(fnt, 'r') as f:\n",
    "    print(f[IO_XANES2D_CFG_DEFAULT['structured_h5_reader']['io_data_structure']['dark_path']].shape)\n",
    "    eng = f[IO_XANES2D_CFG_DEFAULT['structured_h5_reader']['io_data_structure']['dark_path']][(slice(None), slice(30, 60, None), slice(50, 100, None))] \n",
    "    print(eng.shape)"
   ]
  },
  {
   "cell_type": "code",
   "execution_count": null,
   "metadata": {},
   "outputs": [],
   "source": [
    "import numpy as np\n",
    "sli = sli_interpreter([[10, 20], [30,60], [50, 100]])\n",
    "print(type(sli))\n",
    "print(sli)"
   ]
  },
  {
   "cell_type": "code",
   "execution_count": null,
   "metadata": {},
   "outputs": [],
   "source": [
    "print(eng.shape)"
   ]
  },
  {
   "cell_type": "code",
   "execution_count": null,
   "metadata": {},
   "outputs": [],
   "source": [
    "for s in sli_interpreter([[10, 20], [30,60], [50, 100]]):\n",
    "    print(s)"
   ]
  },
  {
   "cell_type": "code",
   "execution_count": null,
   "metadata": {},
   "outputs": [],
   "source": [
    "(s for s in sli_interpreter([[10, 20], [30,60], [50, 100]]))"
   ]
  },
  {
   "cell_type": "code",
   "execution_count": null,
   "metadata": {},
   "outputs": [],
   "source": [
    "(slice(10, 20, None), slice(10, 20, None))"
   ]
  },
  {
   "cell_type": "code",
   "execution_count": null,
   "metadata": {},
   "outputs": [],
   "source": [
    "import numpy as np\n",
    "a = np.random.rand(10, 3, 5)"
   ]
  },
  {
   "cell_type": "code",
   "execution_count": null,
   "metadata": {},
   "outputs": [],
   "source": [
    "print(a[9:10])"
   ]
  },
  {
   "cell_type": "code",
   "execution_count": null,
   "metadata": {},
   "outputs": [],
   "source": [
    "print(a[-1])"
   ]
  },
  {
   "cell_type": "code",
   "execution_count": null,
   "metadata": {},
   "outputs": [],
   "source": [
    "print(a[slice(9, 10, None)])"
   ]
  },
  {
   "cell_type": "code",
   "execution_count": null,
   "metadata": {},
   "outputs": [],
   "source": []
  }
 ],
 "metadata": {
  "kernelspec": {
   "display_name": "Python 3",
   "language": "python",
   "name": "python3"
  },
  "language_info": {
   "codemirror_mode": {
    "name": "ipython",
    "version": 3
   },
   "file_extension": ".py",
   "mimetype": "text/x-python",
   "name": "python",
   "nbconvert_exporter": "python",
   "pygments_lexer": "ipython3",
   "version": "3.7.8"
  }
 },
 "nbformat": 4,
 "nbformat_minor": 4
}
