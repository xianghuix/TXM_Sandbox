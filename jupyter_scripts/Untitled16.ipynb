{
 "cells": [
  {
   "cell_type": "code",
   "execution_count": 103,
   "metadata": {},
   "outputs": [],
   "source": [
    "%matplotlib qt\n",
    "import h5py, numpy as np, tifffile\n",
    "import matplotlib.pyplot as plt"
   ]
  },
  {
   "cell_type": "code",
   "execution_count": 4,
   "metadata": {},
   "outputs": [],
   "source": [
    "def set_theta(theta_fn, path=None, war=None):\n",
    "    if war is None:\n",
    "        with h5py.File(theta_fn, 'r') as f:\n",
    "            if path is None:            \n",
    "                tem = f['/angle'][:]*np.pi/180\n",
    "            else:\n",
    "                tem = f[path][:]*np.pi/180\n",
    "        step = np.diff(tem).min()\n",
    "        was = np.argmin(np.diff(tem))\n",
    "        wan = (tem[was+1] - tem[was])//step\n",
    "        return (np.concatenate(tem[:was], np.linspace(tem[was], tem[was+1], wan)[1:], tem[was:]),\n",
    "                was, was+wan-1)\n",
    "    else:\n",
    "        with h5py.File(theta_fn, 'r') as f:\n",
    "            if path is None:\n",
    "                tem = f['/angle'][:]*np.pi/180\n",
    "            else:\n",
    "                tem = f[path][:]*np.pi/180\n",
    "        return tem, war[0], war[1]"
   ]
  },
  {
   "cell_type": "code",
   "execution_count": 113,
   "metadata": {},
   "outputs": [],
   "source": [
    "fn = '/run/media/xiao/Data/data/Tiankai/66885_1080_mask_415.tif'\n",
    "ofn = '/run/media/xiao/Data/data/Tiankai/66885_1080_mask_415.h5'\n",
    "\n",
    "mask = tifffile.imread(fn)\n",
    "\n",
    "plt.imshow(mask)\n",
    "\n",
    "with h5py.File(ofn, 'w') as f:\n",
    "    f.create_dataset('obj_supp', data=mask.astype(np.int8), dtype=np.int8)"
   ]
  },
  {
   "cell_type": "code",
   "execution_count": 112,
   "metadata": {},
   "outputs": [
    {
     "name": "stdout",
     "output_type": "stream",
     "text": [
      "[ 0.  1.  2.  3.  4.  5.  6.  7.  8.  9. 10. 11. 12. 13. 14. 15. 16. 17.]\n",
      "[1. 2.]\n",
      "3\n",
      "(slice(930, 1520, None), slice(1070, 1071, None), slice(None, None, None))\n",
      "417.193000900063\n"
     ]
    }
   ],
   "source": [
    "tem = np.linspace(0,17, 18)\n",
    "print(tem)\n",
    "print(tem[np.s_[1:3]])\n",
    "print(np.s_[1:3].stop)\n",
    "print(np.s_[930:1520, 1070:1071, :])\n",
    "print(590/np.sqrt(2))"
   ]
  },
  {
   "cell_type": "code",
   "execution_count": 8,
   "metadata": {},
   "outputs": [],
   "source": [
    "tem1 = np.delete(tem, np.s_[200:300])"
   ]
  },
  {
   "cell_type": "code",
   "execution_count": 9,
   "metadata": {},
   "outputs": [
    {
     "data": {
      "text/plain": [
       "[<matplotlib.lines.Line2D at 0x7f00bca258d0>]"
      ]
     },
     "execution_count": 9,
     "metadata": {},
     "output_type": "execute_result"
    }
   ],
   "source": [
    "plt.plot(tem1)"
   ]
  },
  {
   "cell_type": "code",
   "execution_count": 82,
   "metadata": {},
   "outputs": [
    {
     "name": "stdout",
     "output_type": "stream",
     "text": [
      "1.7858019223470114 1.7921595280957945 2.7326413196268926\n",
      "2.7205060707039106 2.726573695165402 2.7326413196268926 2.73889425562305\n"
     ]
    }
   ],
   "source": [
    "n = 5\n",
    "step = np.partition(np.diff(tem1), n)[n]\n",
    "was = np.argmax(np.diff(tem1))\n",
    "wan = int((tem1[was+1] - tem1[was])//step)\n",
    "print(tem1[was-1], tem1[was], tem1[was+1])\n",
    "tem2 = np.concatenate((tem1[:was], np.linspace(tem1[was], tem1[was+1], wan, endpoint=False)[:], tem1[was+1:]))\n",
    "print(tem2[was+wan-2], tem2[was+wan-1], tem2[was+wan], tem2[was+wan+1]) "
   ]
  },
  {
   "cell_type": "code",
   "execution_count": 71,
   "metadata": {},
   "outputs": [
    {
     "name": "stdout",
     "output_type": "stream",
     "text": [
      "1.7921595280957945 2.7326413196268926\n"
     ]
    },
    {
     "data": {
      "text/plain": [
       "[<matplotlib.lines.Line2D at 0x7f00bc4f5250>]"
      ]
     },
     "execution_count": 71,
     "metadata": {},
     "output_type": "execute_result"
    }
   ],
   "source": [
    "plt.figure(0)\n",
    "plt.plot(tem1[:was])\n",
    "\n",
    "print(tem1[was-1], tem1[was])\n",
    "plt.figure(1)\n",
    "plt.plot(np.linspace(tem1[was-1], tem1[was], wan)[1:])\n",
    "\n",
    "plt.figure(2)\n",
    "plt.plot(tem1[was:])"
   ]
  },
  {
   "cell_type": "code",
   "execution_count": 78,
   "metadata": {},
   "outputs": [
    {
     "name": "stdout",
     "output_type": "stream",
     "text": [
      "0.006032133409040963 (289,)\n",
      "199 155\n",
      "1.7858019223470114 1.7921595280957945 2.7326413196268926\n"
     ]
    }
   ],
   "source": [
    "print(step, tem1.shape)\n",
    "#print(tem1[286:])\n",
    "#print(np.diff(tem1).argmin())\n",
    "print(was, wan)\n",
    "print(tem1[was-1],  tem1[was], tem1[was+1])"
   ]
  },
  {
   "cell_type": "code",
   "execution_count": 65,
   "metadata": {},
   "outputs": [
    {
     "name": "stdout",
     "output_type": "stream",
     "text": [
      "[0 4 5 3 1 2]\n"
     ]
    }
   ],
   "source": [
    "print(np.partition([3, 4, 5, 0, 1, 2], 0))"
   ]
  },
  {
   "cell_type": "code",
   "execution_count": 66,
   "metadata": {},
   "outputs": [
    {
     "ename": "AttributeError",
     "evalue": "module 'scipy.ndimage' has no attribute 'NI_GeometricTransform'",
     "output_type": "error",
     "traceback": [
      "\u001b[0;31m-----------------------------------------------------------------------\u001b[0m",
      "\u001b[0;31mAttributeError\u001b[0m                        Traceback (most recent call last)",
      "\u001b[0;32m<ipython-input-66-d393dd1e1468>\u001b[0m in \u001b[0;36m<module>\u001b[0;34m\u001b[0m\n\u001b[1;32m      1\u001b[0m \u001b[0;32mimport\u001b[0m \u001b[0mscipy\u001b[0m\u001b[0;34m.\u001b[0m\u001b[0mndimage\u001b[0m \u001b[0;32mas\u001b[0m \u001b[0msn\u001b[0m\u001b[0;34m\u001b[0m\u001b[0;34m\u001b[0m\u001b[0m\n\u001b[0;32m----> 2\u001b[0;31m \u001b[0mhelp\u001b[0m\u001b[0;34m(\u001b[0m\u001b[0msn\u001b[0m\u001b[0;34m.\u001b[0m\u001b[0mNI_GeometricTransform\u001b[0m\u001b[0;34m)\u001b[0m\u001b[0;34m\u001b[0m\u001b[0;34m\u001b[0m\u001b[0m\n\u001b[0m",
      "\u001b[0;31mAttributeError\u001b[0m: module 'scipy.ndimage' has no attribute 'NI_GeometricTransform'"
     ]
    }
   ],
   "source": [
    "import scipy.ndimage as sn\n",
    "help(sn.NI_GeometricTransform)"
   ]
  },
  {
   "cell_type": "code",
   "execution_count": null,
   "metadata": {},
   "outputs": [],
   "source": []
  }
 ],
 "metadata": {
  "kernelspec": {
   "display_name": "Python 3",
   "language": "python",
   "name": "python3"
  },
  "language_info": {
   "codemirror_mode": {
    "name": "ipython",
    "version": 3
   },
   "file_extension": ".py",
   "mimetype": "text/x-python",
   "name": "python",
   "nbconvert_exporter": "python",
   "pygments_lexer": "ipython3",
   "version": "3.7.8"
  }
 },
 "nbformat": 4,
 "nbformat_minor": 4
}
