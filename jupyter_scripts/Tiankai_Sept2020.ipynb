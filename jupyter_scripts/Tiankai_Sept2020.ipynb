{
 "cells": [
  {
   "cell_type": "code",
   "execution_count": 1,
   "metadata": {},
   "outputs": [],
   "source": [
    "import h5py\n",
    "import numpy as np"
   ]
  },
  {
   "cell_type": "code",
   "execution_count": 2,
   "metadata": {},
   "outputs": [
    {
     "name": "stdout",
     "output_type": "stream",
     "text": [
      "Added 491 JARs to the Java classpath.\n"
     ]
    }
   ],
   "source": [
    "import imagej\n",
    "ij = imagej.init('/home/xiao/software/Fiji.app', headless=False)\n",
    "ijui = ij.ui()\n",
    "ijui.showUI()\n",
    "from jnius import autoclass\n",
    "wm = autoclass('ij.WindowManager')"
   ]
  },
  {
   "cell_type": "code",
   "execution_count": 19,
   "metadata": {},
   "outputs": [],
   "source": [
    "id = 66879\n",
    "ss = 1000\n",
    "se = 1010\n",
    "sli = np.s_[ss:se]\n",
    "fnt = '/run/media/xiao/Data/data/Tiankai/fly_scan2_id_{}.h5'"
   ]
  },
  {
   "cell_type": "code",
   "execution_count": 20,
   "metadata": {},
   "outputs": [],
   "source": [
    "with h5py.File(fnt.format(id), 'r') as f:\n",
    "    img = (f['/img_tomo'][:, sli, :] - f['/img_dark_avg'][:, sli, :])/(f['/img_bkg_avg'][:, sli, :] - f['/img_dark_avg'][:, sli, :])\n",
    "    \n",
    "img[np.isnan(img)] = 1\n",
    "img[np.isinf(img)] = 1"
   ]
  },
  {
   "cell_type": "code",
   "execution_count": 21,
   "metadata": {},
   "outputs": [],
   "source": [
    "ijui.show(ij.py.to_java(img[:, 0, :]))"
   ]
  },
  {
   "cell_type": "code",
   "execution_count": null,
   "metadata": {},
   "outputs": [],
   "source": []
  }
 ],
 "metadata": {
  "kernelspec": {
   "display_name": "Python 3",
   "language": "python",
   "name": "python3"
  },
  "language_info": {
   "codemirror_mode": {
    "name": "ipython",
    "version": 3
   },
   "file_extension": ".py",
   "mimetype": "text/x-python",
   "name": "python",
   "nbconvert_exporter": "python",
   "pygments_lexer": "ipython3",
   "version": "3.7.8"
  }
 },
 "nbformat": 4,
 "nbformat_minor": 4
}
