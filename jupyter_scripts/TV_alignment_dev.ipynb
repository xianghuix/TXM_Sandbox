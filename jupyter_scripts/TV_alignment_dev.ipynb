{
 "cells": [
  {
   "cell_type": "code",
   "execution_count": null,
   "metadata": {},
   "outputs": [],
   "source": [
    "from scipy.ndimage import zoom\n",
    "import numpy as np"
   ]
  },
  {
   "cell_type": "code",
   "execution_count": null,
   "metadata": {},
   "outputs": [],
   "source": [
    "a = np.ndarray([973, 1057], dtype=np.float32)"
   ]
  },
  {
   "cell_type": "code",
   "execution_count": null,
   "metadata": {},
   "outputs": [],
   "source": [
    "for ii in range(4):\n",
    "    print(ii, np.array(a.shape)*0.5**ii)\n",
    "    print(ii, zoom(a, 0.5**ii).shape)"
   ]
  },
  {
   "cell_type": "code",
   "execution_count": null,
   "metadata": {},
   "outputs": [],
   "source": [
    "n1 = set([1, 2, 3, 4])\n",
    "n2 = set([2, 4, 6])\n",
    "print(sorted(list(n1 & n2)))"
   ]
  },
  {
   "cell_type": "code",
   "execution_count": null,
   "metadata": {},
   "outputs": [],
   "source": [
    "if sorted(list(n1 & n2)):\n",
    "     print(1)\n",
    "else:\n",
    "     print(0)\n",
    "        "
   ]
  },
  {
   "cell_type": "code",
   "execution_count": null,
   "metadata": {},
   "outputs": [],
   "source": [
    "2*np.pi*9.87903331E-06*1000/(12.4/18)/100"
   ]
  },
  {
   "cell_type": "code",
   "execution_count": null,
   "metadata": {},
   "outputs": [],
   "source": [
    "1e13/40000/40000"
   ]
  },
  {
   "cell_type": "code",
   "execution_count": null,
   "metadata": {},
   "outputs": [],
   "source": [
    "1e13*15/(3.7e13*20)"
   ]
  },
  {
   "cell_type": "code",
   "execution_count": 1,
   "metadata": {},
   "outputs": [],
   "source": [
    "%matplotlib qt\n",
    "import matplotlib.pyplot as plt\n",
    "import h5py\n",
    "from scipy.ndimage import fourier_shift, zoom, median_filter as mf, gaussian_filter as gf\n",
    "from TXM_Sandbox.TXM_Sandbox.utils.xanes_math import (mrtv_reg1, mrtv_reg2, mrtv_reg3,\n",
    "                                                      mrtv_mpc_combo_reg, tv_l1_pixel, \n",
    "                                                      tv_l1_subpixel, mrtv_ls_combo_reg)\n",
    "import numpy as np\n",
    "from skimage.measure import shannon_entropy\n",
    "from timeit import timeit\n",
    "import time"
   ]
  },
  {
   "cell_type": "code",
   "execution_count": 2,
   "metadata": {},
   "outputs": [
    {
     "name": "stdout",
     "output_type": "stream",
     "text": [
      "Added 491 JARs to the Java classpath.\n"
     ]
    }
   ],
   "source": [
    "import imagej\n",
    "ij = imagej.init('/home/xiao/software/Fiji.app', headless=False)\n",
    "ijui = ij.ui()\n",
    "ijui.showUI()\n",
    "from jnius import autoclass\n",
    "wm = autoclass('ij.WindowManager')"
   ]
  },
  {
   "cell_type": "code",
   "execution_count": 7,
   "metadata": {},
   "outputs": [
    {
     "name": "stdout",
     "output_type": "stream",
     "text": [
      "(1080, 1280) (1080, 1280)\n"
     ]
    }
   ],
   "source": [
    "#fn = '/run/media/xiao/Data/data/2D_xanes/multipos_2D_xanes_scan2_id_23669_repeat_00_pos_01.h5'\n",
    "#fn = '/run/media/xiao/Data/data/2D_xanes/multipos_2D_xanes_scan2_id_61201_repeat_00_pos_01.h5'\n",
    "#fn = '/run/media/xiao/Data/data/2D_xanes/xanes_scan2_id_54740.h5'\n",
    "#fn = '/run/media/xiao/Data/data/Weijiang_2020Q1/xanes_scan2_id_{}.h5'\n",
    "fn = '/run/media/xiao/Data/data/Weijiang_2020Q1/data/multipos_2D_xanes_scan2_id_{0}_repeat_{1}_pos_{2}.h5'\n",
    "idx = 61201\n",
    "rep = '00'\n",
    "pos = '00'\n",
    "pair = [50, 0]\n",
    "#pair = [43, 50]\n",
    "#roi = [472, 1563, 1030, 2035]\n",
    "#roi = [503, 1963, 603, 1679]\n",
    "\n",
    "roi = [0, 1080, 0, 1280]\n",
    "#roi = [392, 392+535, 110, 708]\n",
    "with h5py.File(fn.format(idx, rep, pos), 'r') as f:\n",
    "    fixed = ((f['/img_xanes'][pair[0], roi[0]:roi[1], roi[2]:roi[3]] - f['/img_dark'][0, roi[0]:roi[1], roi[2]:roi[3]])/\n",
    "             (f['/img_bkg'][pair[0], roi[0]:roi[1], roi[2]:roi[3]] - f['/img_dark'][0, roi[0]:roi[1], roi[2]:roi[3]]))\n",
    "    moving = ((f['/img_xanes'][pair[1], roi[0]:roi[1], roi[2]:roi[3]] - f['/img_dark'][0, roi[0]:roi[1], roi[2]:roi[3]])/\n",
    "              (f['/img_bkg'][pair[1], roi[0]:roi[1], roi[2]:roi[3]] - f['/img_dark'][0, roi[0]:roi[1], roi[2]:roi[3]]))\n",
    "    \n",
    "fixed[np.isnan(fixed)] = 1\n",
    "fixed[np.isinf(fixed)] = 1\n",
    "moving[np.isnan(moving)] = 1\n",
    "moving[np.isinf(moving)] = 1\n",
    "print(fixed.shape, moving.shape)"
   ]
  },
  {
   "cell_type": "code",
   "execution_count": 8,
   "metadata": {},
   "outputs": [],
   "source": [
    "f = -np.log(fixed)\n",
    "m = -np.log(moving)"
   ]
  },
  {
   "cell_type": "code",
   "execution_count": 9,
   "metadata": {},
   "outputs": [
    {
     "name": "stdout",
     "output_type": "stream",
     "text": [
      "Tue Nov  3 19:22:05 2020\n",
      "Tue Nov  3 19:22:05 2020\n",
      "shift:[[-12.    8. ]\n",
      " [  1.   -3. ]\n",
      " [  0.    0.5]] \n",
      " s:[-11.    5.5]\n"
     ]
    }
   ],
   "source": [
    "tv, tv_id, shift, s = mrtv_ls_combo_reg(ls_w=100, levs=2, wz=10, sp_wz=6, sp_step=0.5, imgs=[f, m])\n",
    "print(f'shift:{shift}', '\\n', f's:{s}')"
   ]
  },
  {
   "cell_type": "code",
   "execution_count": null,
   "metadata": {
    "jupyter": {
     "source_hidden": true
    }
   },
   "outputs": [],
   "source": [
    "tv, tv_id, shift, s = mrtv_reg3(7, 10, 8, 0.5, [f, m])\n",
    "print(f'shift:{shift}', '\\n', f's:{s}')"
   ]
  },
  {
   "cell_type": "code",
   "execution_count": 11,
   "metadata": {},
   "outputs": [],
   "source": [
    "diff_img1 = f - np.real(np.fft.ifftn(fourier_shift(np.fft.fftn(m), [s[0], s[1]])))\n",
    "diff_img2 = gf(f, 3) - gf(np.real(np.fft.ifftn(fourier_shift(np.fft.fftn(m), [s[0], s[1]]))), 3)\n",
    "ijui.show(ij.py.to_java(f))\n",
    "wm.getCurrentImage().setTitle('fixed')\n",
    "ijui.show(ij.py.to_java(np.real(np.fft.ifftn(fourier_shift(np.fft.fftn(m), [s[0], s[1]])))))\n",
    "wm.getCurrentImage().setTitle('translated moving')\n",
    "ijui.show(ij.py.to_java(m))\n",
    "wm.getCurrentImage().setTitle('moving')\n",
    "ijui.show(ij.py.to_java(diff_img1))\n",
    "wm.getCurrentImage().setTitle('fixed - moving')\n",
    "ijui.show(ij.py.to_java(np.log(np.abs(np.diff(diff_img2, axis=0, prepend=1))+np.abs(np.diff(diff_img2, axis=1, prepend=1)))))\n",
    "wm.getCurrentImage().setTitle('derivative_differential')"
   ]
  },
  {
   "cell_type": "code",
   "execution_count": null,
   "metadata": {
    "jupyter": {
     "source_hidden": true
    }
   },
   "outputs": [],
   "source": [
    "mk = np.ones(f.shape)\n",
    "\n",
    "tv_v = []\n",
    "for ii in range(100):\n",
    "    tv_v.append(tv_l1_pixel(f, m, mk, [2*(ii-50), 0]))\n",
    "\n",
    "tv_h = []\n",
    "for ii in range(100):\n",
    "    tv_h.append(tv_l1_pixel(f, m, mk, [0, 2*(ii-50)]))\n",
    "    "
   ]
  },
  {
   "cell_type": "code",
   "execution_count": null,
   "metadata": {
    "jupyter": {
     "source_hidden": true
    }
   },
   "outputs": [],
   "source": [
    "plt.figure(1)\n",
    "plt.plot(tv_h)\n",
    "\n",
    "plt.figure(2)\n",
    "plt.plot(tv_v)\n",
    "\n",
    "print(np.array(tv_h).argmin(), np.array(tv_v).argmin())"
   ]
  },
  {
   "cell_type": "code",
   "execution_count": null,
   "metadata": {
    "jupyter": {
     "source_hidden": true
    }
   },
   "outputs": [],
   "source": [
    "fz = zoom(f, 0.5**(len(shift)-2))\n",
    "mz = zoom(m, 0.5**(len(shift)-2))\n",
    "\n",
    "ijui.show(ij.py.to_java(fz))\n",
    "wm.getCurrentImage().setTitle('fz')\n",
    "ijui.show(ij.py.to_java(mz))\n",
    "wm.getCurrentImage().setTitle('mz')\n",
    "ijui.show(ij.py.to_java(diff_img1))\n",
    "wm.getCurrentImage().setTitle('fz - mz')"
   ]
  },
  {
   "cell_type": "code",
   "execution_count": null,
   "metadata": {
    "jupyter": {
     "source_hidden": true
    }
   },
   "outputs": [],
   "source": [
    "#tvm1, tvi1, s1, ss1 = mrtv_reg1(fixed, moving, levs=5, wz=10, sp_wz=10, sp_step=0.5)\n",
    "tvm2, tvi2, s2, ss2 = mrtv_reg2(fixed, moving, levs=6, wz=10, sp_wz=10, sp_step=0.5)"
   ]
  },
  {
   "cell_type": "code",
   "execution_count": null,
   "metadata": {},
   "outputs": [],
   "source": [
    "t0 = time.perf_counter()\n",
    "print('start at : 0sec')\n",
    "f = zoom(fixed, 0.0625)\n",
    "m = zoom(moving, 0.0625)\n",
    "mk = np.ones(f.shape)\n",
    "for ii in range(100):\n",
    "    #zoom(fixed, 0.125)\n",
    "    tv_l1_pixel(f, m, mk, [1, 1])\n",
    "    #tv_l1_subpixel(f, m, mk, [1, 1])\n",
    "    #mrtv_reg2(f, m, levs=2, wz=6, sp_wz=6, sp_step=0.5)\n",
    "print('level 0 finishes at : {}sec'.format(time.perf_counter() - t0))\n",
    "\n",
    "f = zoom(fixed, 0.125)\n",
    "m = zoom(moving, 0.125)\n",
    "mk = np.ones(f.shape)\n",
    "for ii in range(36):\n",
    "    tv_l1_pixel(f, m, mk, [1, 1])\n",
    "print('level 1 finishes at : {}sec'.format(time.perf_counter() - t0))\n",
    "\n",
    "f = zoom(fixed, 0.25)\n",
    "m = zoom(moving, 0.25)\n",
    "mk = np.ones(f.shape)\n",
    "for ii in range(36):\n",
    "    tv_l1_pixel(f, m, mk, [1, 1])\n",
    "print('level 2 finishes at : {}sec'.format(time.perf_counter() - t0))\n",
    "\n",
    "f = zoom(fixed, 0.5)\n",
    "m = zoom(moving, 0.5)\n",
    "mk = np.ones(f.shape)\n",
    "for ii in range(36):\n",
    "    tv_l1_pixel(f, m, mk, [1, 1])\n",
    "print('level 3 finishes at : {}sec'.format(time.perf_counter() - t0))\n",
    "\n",
    "f = fixed\n",
    "m = moving\n",
    "mk = np.ones(f.shape)\n",
    "for ii in range(36):\n",
    "    tv_l1_pixel(f, m, mk, [1, 1])\n",
    "print('level 4 finishes at : {}sec'.format(time.perf_counter() - t0))\n",
    "\n",
    "for ii in range(36):\n",
    "    tv_l1_subpixel(f, m, mk, [1, 1])\n",
    "print('level 5 finishes at : {}sec'.format(time.perf_counter() - t0))\n",
    "\n",
    "mrtv_reg2(f, m, levs=6, wz=6, sp_wz=6, sp_step=0.5)\n",
    "print('mrtv finishes at : {}sec'.format(time.perf_counter() - t0))"
   ]
  },
  {
   "cell_type": "code",
   "execution_count": null,
   "metadata": {},
   "outputs": [],
   "source": [
    "print(len(tv_id))\n",
    "print(tv[5].flatten()[tv_id[-1]])"
   ]
  },
  {
   "cell_type": "code",
   "execution_count": null,
   "metadata": {},
   "outputs": [],
   "source": [
    "plt.figure(10)\n",
    "plt.imshow(fixed)"
   ]
  },
  {
   "cell_type": "code",
   "execution_count": null,
   "metadata": {},
   "outputs": [],
   "source": []
  },
  {
   "cell_type": "code",
   "execution_count": null,
   "metadata": {},
   "outputs": [],
   "source": [
    "help(time.perf_counter)\n",
    "time.perf_counter()"
   ]
  },
  {
   "cell_type": "code",
   "execution_count": null,
   "metadata": {},
   "outputs": [],
   "source": [
    "fig, ax = plt.subplots(1, len(tvm2))\n",
    "for ii in tvm2.keys():\n",
    "    ax[ii].plot(tvm2[ii].flatten())"
   ]
  },
  {
   "cell_type": "code",
   "execution_count": null,
   "metadata": {},
   "outputs": [],
   "source": [
    "fig, ax = plt.subplots(1, len(tv))\n",
    "for ii in tv.keys():\n",
    "    ax[ii].imshow(tv[ii])"
   ]
  },
  {
   "cell_type": "code",
   "execution_count": null,
   "metadata": {},
   "outputs": [],
   "source": [
    "#diff_img1 = fixed - np.real(np.fft.ifftn(fourier_shift(np.fft.fftn(moving), [ss1[0], ss1[1]])))\n",
    "#plt.figure(3)\n",
    "#plt.imshow(diff_img1)\n",
    "\n",
    "diff_img1 = fixed - moving\n",
    "plt.figure(3)\n",
    "plt.imshow(diff_img1)\n",
    "print(ss2)\n",
    "diff_img2 = fixed - np.real(np.fft.ifftn(fourier_shift(np.fft.fftn(moving), [ss2[0], ss2[1]])))\n",
    "plt.figure(4)\n",
    "plt.imshow(diff_img2)"
   ]
  },
  {
   "cell_type": "code",
   "execution_count": null,
   "metadata": {},
   "outputs": [],
   "source": [
    "np.array([1091, 1005])*(0.5**(levs-2))"
   ]
  },
  {
   "cell_type": "code",
   "execution_count": null,
   "metadata": {},
   "outputs": [],
   "source": [
    "ii = 2\n",
    "w = sch_config[ii]['wz']\n",
    "step = sch_config[ii]['step']\n",
    "f = zoom(fixed, step)\n",
    "m = zoom(moving, step)\n",
    "mk = np.zeros(m.shape, dtype=np.int8)\n",
    "# mk[mk.shape[0]//4:-mk.shape[0]//4, mk.shape[1]//4:-mk.shape[1]//4] = 1\n",
    "mk[int(wz/2):-int(wz/2), int(wz/2):-int(wz/2)] = 1\n",
    "\n",
    "shift = np.array([[0, -1], [0, -1], [0, 1]])\n",
    "s= [0, 0]\n",
    "#s= np.array([0, 0])\n",
    "for kk in range(ii):\n",
    "    s += shift[kk]*(2**(ii-kk))\n",
    "print(s)"
   ]
  },
  {
   "cell_type": "code",
   "execution_count": null,
   "metadata": {},
   "outputs": [],
   "source": [
    "print(f.shape, m.shape, step)\n",
    "print(s)\n",
    "plt.figure(1)\n",
    "plt.imshow(mk)\n",
    "plt.figure(2)\n",
    "plt.imshow(m)\n",
    "plt.figure(3)\n",
    "plt.imshow(f)"
   ]
  },
  {
   "cell_type": "code",
   "execution_count": null,
   "metadata": {},
   "outputs": [],
   "source": [
    "tv = []\n",
    "for jj in range(w**2):\n",
    "    shift = [int((jj//w-int(w/2))+s[0]), int((jj%w-int(w/2))+s[1])]\n",
    "    tv.append(tv_l1_pixel(f, m, mk, shift))"
   ]
  },
  {
   "cell_type": "code",
   "execution_count": null,
   "metadata": {},
   "outputs": [],
   "source": [
    "plt.figure(10)\n",
    "plt.plot(tv)"
   ]
  },
  {
   "cell_type": "code",
   "execution_count": null,
   "metadata": {},
   "outputs": [],
   "source": [
    "idx = np.array(tv).argmin()\n",
    "print(idx, w)"
   ]
  },
  {
   "cell_type": "code",
   "execution_count": null,
   "metadata": {},
   "outputs": [],
   "source": [
    "#idx = 55\n",
    "ss3 = np.array([(idx//w-int(w/2)), (idx%w-int(w/2))])\n",
    "print(ss3)\n",
    "#print(len(tv))\n",
    "#print(tv[39:41])76543\n",
    "#print(ss3[0], ss3[1])\n",
    "#print(int(w/2))"
   ]
  },
  {
   "cell_type": "code",
   "execution_count": null,
   "metadata": {},
   "outputs": [],
   "source": [
    "print(tv[54:60])"
   ]
  },
  {
   "cell_type": "code",
   "execution_count": null,
   "metadata": {},
   "outputs": [],
   "source": [
    "tem = s + ss3 \n",
    "print(tem)\n",
    "diff_img3 = f - np.real(np.fft.ifftn(fourier_shift(np.fft.fftn(m), tem)))\n",
    "plt.figure(5)\n",
    "plt.imshow(diff_img3)"
   ]
  },
  {
   "cell_type": "code",
   "execution_count": null,
   "metadata": {},
   "outputs": [],
   "source": [
    "print('original image size'.center(50, '-'))\n",
    "print(fixed.shape)\n",
    "print('hierarchical image size'.center(50, '-'))\n",
    "for i in range(5):\n",
    "    print(i, ':', sch_config[i]['wz'], sch_config[i]['step'], np.int32(np.array(fixed.shape)*sch_config[i]['step']))"
   ]
  },
  {
   "cell_type": "code",
   "execution_count": null,
   "metadata": {},
   "outputs": [],
   "source": [
    "levs = 6\n",
    "wz=10\n",
    "sp_wz=10; sp_step=0.5\n",
    "sch_config = {}\n",
    "sch_config[levs-1] = {'wz':sp_wz, 'step':sp_step}\n",
    "for ii in range(levs-1):\n",
    "    sch_config[levs-2-ii] = {'wz':wz, 'step':0.5**ii}\n",
    "print(sch_config)"
   ]
  },
  {
   "cell_type": "code",
   "execution_count": null,
   "metadata": {},
   "outputs": [],
   "source": [
    "fig, ax = plt.subplots(1, len(tvm2), num=100)\n",
    "for ii in tvm2.keys():\n",
    "    ax[ii].plot(tvm2[ii].flatten())"
   ]
  },
  {
   "cell_type": "code",
   "execution_count": null,
   "metadata": {},
   "outputs": [],
   "source": [
    "print('sep'.center(50, '-'))\n",
    "print(tvi2)\n",
    "print(s2)\n",
    "print(ss2)"
   ]
  },
  {
   "cell_type": "code",
   "execution_count": null,
   "metadata": {},
   "outputs": [],
   "source": [
    "print('line \"s2\"'.center(50, '-'))\n",
    "print(s2)\n",
    "ii = 5\n",
    "w = sch_config[ii]['wz']\n",
    "step = sch_config[ii]['step']\n",
    "\n",
    "s = np.array([0, 0])\n",
    "if ii == (s2.shape[0]-1):\n",
    "    sp_step = 0.5\n",
    "    f = fixed\n",
    "    m = moving\n",
    "    mk = np.zeros(m.shape, dtype=np.int8)\n",
    "    mk[int(wz/2):-int(wz/2), int(wz/2):-int(wz/2)] = 1\n",
    "    print('line f.shape'.center(50, '-'))\n",
    "    print(f'level {ii}:' ,f.shape)\n",
    "    print('line by line \"s\"'.center(50, '-'))\n",
    "    print('route 0')\n",
    "    for kk in range(s2.shape[0]-1):\n",
    "        s = s + s2[kk]*(2**(ii-1-kk))\n",
    "        print(kk, s)\n",
    "else:\n",
    "    sp_step = 1\n",
    "    f = zoom(fixed, step)\n",
    "    m = zoom(moving, step)\n",
    "    mk = np.zeros(m.shape, dtype=np.int8)\n",
    "    mk[int(wz/2):-int(wz/2), int(wz/2):-int(wz/2)] = 1\n",
    "    print('line f.shape'.center(50, '-'))\n",
    "    print(f'level {ii}:' ,f.shape)\n",
    "    print('line by line \"s\"'.center(50, '-'))\n",
    "    print('route 1')\n",
    "    for kk in range(ii):\n",
    "        s = s + s2[kk]*(2**(ii-kk-1))\n",
    "        print(kk, s)\n",
    "s = np.int32(s)\n",
    "\n",
    "adj = [0, 0]\n",
    "diff_img3 = f - np.real(np.fft.ifftn(fourier_shift(np.fft.fftn(m), s+adj)))\n",
    "plt.figure('last level')\n",
    "plt.imshow(diff_img3)\n",
    "print('line: ideal translation'.center(50, '-'))\n",
    "print(ii, 's:', s, 'adjusted s:', s+adj)\n",
    "\n",
    "print('line tv'.center(50, '-'))\n",
    "\n",
    "tv2 = []\n",
    "for jj in range(40, 50):\n",
    "    ss3 = np.array([(jj//w-int(w/2)), (jj%w-int(w/2))])*sp_step\n",
    "    tem = s + ss3\n",
    "    \n",
    "    #diff_img3 = mf(f - np.real(np.fft.ifftn(fourier_shift(np.fft.fftn(m), tem))), 3)\n",
    "    #tv_img3 = mf(((np.abs(np.diff(diff_img3, axis=0, prepend=1))+np.abs(np.diff(diff_img3, axis=1, prepend=1)))*mk), 3)\n",
    "    \n",
    "    diff_img3 = gf(f, 5) - gf(np.real(np.fft.ifftn(fourier_shift(np.fft.fftn(m), tem))), 5)\n",
    "    #diff_img3 /= np.sqrt((diff_img3**2).sum())\n",
    "    tv_img3 = ((np.abs(np.diff(diff_img3, axis=0, prepend=1))+np.abs(np.diff(diff_img3, axis=1, prepend=1)))*mk)\n",
    "    #tv_img3 /= np.sqrt((tv_img3**2).sum())\n",
    "    \n",
    "    \n",
    "    fig, ax = plt.subplots(1, 2, num=jj)\n",
    "    ax[0].imshow(diff_img3)\n",
    "    ax[1].imshow(tv_img3)\n",
    "    fig.suptitle(str(tem))\n",
    "    \n",
    "\n",
    "    tv2.append(tv_img3.std())\n",
    "    print(jj, 'tem:', tem, 'ss3:', ss3, 'tv std:', round(tv_img3.std(), 10), 'tv sum:', round(tv_img3.sum(), 10))"
   ]
  },
  {
   "cell_type": "code",
   "execution_count": null,
   "metadata": {},
   "outputs": [],
   "source": [
    "plt.figure(1000)\n",
    "plt.plot(tv2)"
   ]
  },
  {
   "cell_type": "code",
   "execution_count": null,
   "metadata": {},
   "outputs": [],
   "source": [
    "plt.figure(10000)\n",
    "plt.imshow(mf(tv_img3, 3))"
   ]
  },
  {
   "cell_type": "code",
   "execution_count": null,
   "metadata": {},
   "outputs": [],
   "source": [
    "diff_img3 = f - np.roll(m, [0, 0], axis=[0, 1])\n",
    "plt.figure(101)\n",
    "plt.imshow(np.abs(np.diff(diff_img3, axis=0, prepend=1)))\n",
    "plt.figure(102)\n",
    "plt.imshow(np.abs(np.diff(diff_img3, axis=1, prepend=1)))"
   ]
  },
  {
   "cell_type": "code",
   "execution_count": null,
   "metadata": {},
   "outputs": [],
   "source": [
    "diff_img4 = f - np.roll(m, [0, -3], axis=[0, 1])\n",
    "plt.figure(103)\n",
    "plt.imshow(np.abs(np.diff(diff_img4, axis=0, prepend=1)))\n",
    "plt.figure(104)\n",
    "plt.imshow(np.abs(np.diff(diff_img4, axis=1, prepend=1)))"
   ]
  },
  {
   "cell_type": "code",
   "execution_count": null,
   "metadata": {},
   "outputs": [],
   "source": [
    "diff_img3 = f - np.roll(m, [0, 0], axis=[0, 1])\n",
    "ijui.show(ij.py.to_java(np.abs(np.diff(mf(diff_img3, 3), axis=0, prepend=1))))\n",
    "wm.getCurrentImage().setTitle('diff_img3_axis0')\n",
    "ijui.show(ij.py.to_java(np.abs(np.diff(mf(diff_img3, 3), axis=1, prepend=1))))\n",
    "wm.getCurrentImage().setTitle('diff_img3_axis1')\n",
    "\n",
    "diff_img4 = f - np.roll(m, [0, -3], axis=[0, 1])\n",
    "ijui.show(ij.py.to_java(np.abs(np.diff(mf(diff_img4, 3), axis=0, prepend=1))))\n",
    "wm.getCurrentImage().setTitle('diff_img4_axis0')\n",
    "ijui.show(ij.py.to_java(np.abs(np.diff(mf(diff_img4, 3), axis=1, prepend=1))))\n",
    "wm.getCurrentImage().setTitle('diff_img4_axis1')"
   ]
  },
  {
   "cell_type": "code",
   "execution_count": null,
   "metadata": {},
   "outputs": [],
   "source": [
    "ijui.show(ij.py.to_java(np.diff(diff_img3, axis=0, prepend=1)))\n",
    "wm.getCurrentImage().setTitle('raw_diff_img3_axis0')\n",
    "ijui.show(ij.py.to_java(np.diff(diff_img3, axis=1, prepend=1)))\n",
    "wm.getCurrentImage().setTitle('raw_diff_img3_axis1')\n",
    "\n",
    "ijui.show(ij.py.to_java(np.diff(diff_img4, axis=0, prepend=1)))\n",
    "wm.getCurrentImage().setTitle('raw_diff_img4_axis0')\n",
    "ijui.show(ij.py.to_java(np.diff(diff_img4, axis=1, prepend=1)))\n",
    "wm.getCurrentImage().setTitle('raw_diff_img4_axis1')"
   ]
  },
  {
   "cell_type": "code",
   "execution_count": null,
   "metadata": {},
   "outputs": [],
   "source": [
    "1e7*1e7*5e6/8/8/8"
   ]
  },
  {
   "cell_type": "code",
   "execution_count": null,
   "metadata": {},
   "outputs": [],
   "source": [
    "5e6/20*7/24/265"
   ]
  },
  {
   "cell_type": "code",
   "execution_count": null,
   "metadata": {},
   "outputs": [],
   "source": [
    "1e4*1e4*5e3/100/30/20*7/24/365"
   ]
  },
  {
   "cell_type": "code",
   "execution_count": null,
   "metadata": {},
   "outputs": [],
   "source": [
    "0.35*1800*4"
   ]
  },
  {
   "cell_type": "code",
   "execution_count": null,
   "metadata": {},
   "outputs": [],
   "source": [
    "0.1*1800*4"
   ]
  },
  {
   "cell_type": "code",
   "execution_count": null,
   "metadata": {},
   "outputs": [],
   "source": [
    "1e4*1e4*5e3/60/60/60*2/3/24/365"
   ]
  },
  {
   "cell_type": "code",
   "execution_count": null,
   "metadata": {},
   "outputs": [],
   "source": [
    "10*10*5*3/60/24"
   ]
  },
  {
   "cell_type": "code",
   "execution_count": null,
   "metadata": {},
   "outputs": [],
   "source": []
  }
 ],
 "metadata": {
  "kernelspec": {
   "display_name": "Python 3",
   "language": "python",
   "name": "python3"
  },
  "language_info": {
   "codemirror_mode": {
    "name": "ipython",
    "version": 3
   },
   "file_extension": ".py",
   "mimetype": "text/x-python",
   "name": "python",
   "nbconvert_exporter": "python",
   "pygments_lexer": "ipython3",
   "version": "3.8.3"
  }
 },
 "nbformat": 4,
 "nbformat_minor": 4
}
