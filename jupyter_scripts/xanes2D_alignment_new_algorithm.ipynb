{
 "cells": [
  {
   "cell_type": "code",
   "execution_count": null,
   "metadata": {},
   "outputs": [],
   "source": [
    "%matplotlib qt\n",
    "import h5py, tifffile, time, os, gc\n",
    "import numpy as np\n",
    "from scipy.ndimage import fourier_shift\n",
    "from scipy.optimize import minimize\n",
    "\n",
    "import matplotlib.pyplot as plt\n",
    "#from multiprocessing import set_start_method\n",
    "#set_start_method(\"spawn\")\n",
    "import multiprocessing as mp\n",
    "#from multiprocessing import get_context\n",
    "\n",
    "from functools import partial\n",
    "\n",
    "import imagej\n",
    "ij = imagej.init('/home/xiao/software/Fiji.app', headless=False)\n",
    "ijui = ij.ui()\n",
    "ijui.showUI()\n",
    "\n",
    "from jnius import autoclass\n",
    "wm = autoclass('ij.WindowManager')\n",
    "ImagePlusClass = autoclass('ij.ImagePlus')\n",
    "\n",
    "from TXM_Sandbox.TXM_Sandbox.utils.xanes_math import multi_resolutin_tv_reg"
   ]
  },
  {
   "cell_type": "code",
   "execution_count": null,
   "metadata": {},
   "outputs": [],
   "source": [
    "fn = '/home/xiao/data/xanes_align_test/2D_trial_reg_multipos_2D_xanes_scan2_id_61201_repeat_00_pos_02_2020-09-21-08-39-47.h5'\n",
    "pair_id = 1\n",
    "with h5py.File(fn, 'r') as f:\n",
    "    img = f['/trial_registration/trial_reg_results/{0}/trial_reg_img{0}'.format(str(pair_id).zfill(3))][:]\n",
    "    fixed_img = f['/trial_registration/trial_reg_results/{0}/trial_reg_fixed{0}'.format(str(pair_id).zfill(3))][:]\n",
    "    \n",
    "ijui.show(ij.py.to_java(img-fixed_img))\n",
    "\n",
    "diff_img = np.zeros(fixed_img.shape)"
   ]
  },
  {
   "cell_type": "markdown",
   "metadata": {},
   "source": [
    "# ***brute force approach***"
   ]
  },
  {
   "cell_type": "code",
   "execution_count": null,
   "metadata": {
    "jupyter": {
     "source_hidden": true
    }
   },
   "outputs": [],
   "source": [
    "def tv_pixel(fixed_img, img, y_shift, x_shift):\n",
    "    diff_img = fixed_img - np.roll(img, [y_shift, x_shift], axis=[0, 1])\n",
    "    tv1 = (np.abs(np.diff(diff_img, axis=0, prepend=1))+np.abs(np.diff(diff_img, axis=1, prepend=1))).sum()\n",
    "    tv2 = ((np.diff(diff_img, axis=0, prepend=1))**2+(np.diff(diff_img, axis=1, prepend=1))**2).sum()\n",
    "    return tv1, tv2 \n",
    "\n",
    "def tv_subpixel(fixed_img, img, y_shift, x_shift):\n",
    "    diff_img = fixed_img - np.real(np.fft.ifftn(fourier_shift(np.fft.fftn(img), [y_shift, x_shift])))\n",
    "    tv1 = (np.abs(np.diff(diff_img, axis=0, prepend=1))+np.abs(np.diff(diff_img, axis=1, prepend=1))).sum()\n",
    "    tv2 = ((np.diff(diff_img, axis=0, prepend=1))**2+(np.diff(diff_img, axis=1, prepend=1))**2).sum()\n",
    "    return tv1, tv2 "
   ]
  },
  {
   "cell_type": "code",
   "execution_count": null,
   "metadata": {
    "jupyter": {
     "source_hidden": true
    }
   },
   "outputs": [],
   "source": [
    "w = 40\n",
    "h = 40\n",
    "\n",
    "\"\"\"\n",
    "print(time.asctime())\n",
    "tv = []\n",
    "for ii in np.int32(np.arange(w*h)):\n",
    "    tv.append(tv_pixel(fixed_img, img, (ii//w-int(h/2)), (ii%w-int(w/2))))\n",
    "    \n",
    "#tv = np.array(tv)\n",
    "\n",
    "tv1_pxl = np.ndarray([h, w], dtype=np.float32)\n",
    "tv2_pxl = np.ndarray([h, w], dtype=np.float32)\n",
    "for ii in range(w*h):\n",
    "    tv1_pxl[ii//w, ii%w] = tv[ii][0]\n",
    "    tv2_pxl[ii//w, ii%w] = tv[ii][1]\n",
    "print(time.asctime())\n",
    "\n",
    "\n",
    "tv1_pxl_id = tv1_pxl.argmin()\n",
    "tv2_pxl_id = tv2_pxl.argmin()\n",
    "y_pxl_shift = tv1_pxl_id//w-int(h/2)\n",
    "x_pxl_shift = tv1_pxl_id%w-int(w/2)\n",
    "\n",
    "\n",
    "print(time.asctime())\n",
    "w = 20\n",
    "h = 20\n",
    "step = 0.2\n",
    "tv = []\n",
    "\n",
    "for ii in np.int32(np.arange(w*h)):\n",
    "    tv.append(tv_subpixel(fixed_img, img, (ii//w-int(h/2))*step+y_pxl_shift, (ii%w-int(w/2))*step+x_pxl_shift))\n",
    "    \n",
    "tv1_subpxl = np.ndarray([h, w], dtype=np.float32)\n",
    "tv2_subpxl = np.ndarray([h, w], dtype=np.float32)\n",
    "for ii in range(w*h):\n",
    "    tv1_subpxl[ii//w, ii%w] = tv[ii][0]\n",
    "    tv2_subpxl[ii//w, ii%w] = tv[ii][1]\n",
    "print(time.asctime())\n",
    "\n",
    "\"\"\"\n",
    "print(time.asctime())\n",
    "n_cpu = os.cpu_count()\n",
    "#with get_context('spawn').Pool(n_cpu-1) as pool:\n",
    "with mp.Pool(int(n_cpu/2)) as pool:\n",
    "    rlt = pool.starmap(tv_pixel, [(fixed_img, img, (ii//w-int(h/2)), (ii%w-int(w/2))) for ii in np.int32(np.arange(w*h))])\n",
    "pool.join()\n",
    "pool.close()\n",
    "print(time.asctime())\n",
    "\n",
    "tv1_pxl = np.ndarray([h, w], dtype=np.float32)\n",
    "tv2_pxl = np.ndarray([h, w], dtype=np.float32)\n",
    "for ii in range(w*h):\n",
    "    tv1_pxl[ii//w, ii%w] = rlt[ii][0]\n",
    "    tv2_pxl[ii//w, ii%w] = rlt[ii][1]\n",
    "del(rlt)\n",
    "gc.collect()\n",
    "print(time.asctime())\n",
    "\n",
    "tv1_pxl_id = tv1_pxl.argmin()\n",
    "tv2_pxl_id = tv2_pxl.argmin()\n",
    "y_pxl_shift = tv1_pxl_id//w-int(h/2)\n",
    "x_pxl_shift = tv1_pxl_id%w-int(w/2)\n",
    "\n",
    "w = 20\n",
    "h = 20\n",
    "step = 0.2\n",
    "\n",
    "print(time.asctime())\n",
    "n_cpu = os.cpu_count()\n",
    "#with get_context('spawn').Pool(n_cpu-1) as pool:\n",
    "with mp.Pool(int(n_cpu/2)) as pool:\n",
    "    rlt = pool.starmap(tv_subpixel, [(fixed_img, img, (ii//w-int(h/2))*step+y_pxl_shift, \\\n",
    "                                      (ii%w-int(w/2))*step+x_pxl_shift) for ii in np.int32(np.arange(w*h))])\n",
    "pool.join()\n",
    "pool.close()\n",
    "print(time.asctime())\n",
    "\n",
    "tv1_subpxl = np.ndarray([h, w], dtype=np.float32)\n",
    "tv2_subpxl = np.ndarray([h, w], dtype=np.float32)\n",
    "for ii in range(w*h):\n",
    "    tv1_subpxl[ii//w, ii%w] = rlt[ii][0]\n",
    "    tv2_subpxl[ii//w, ii%w] = rlt[ii][1]\n",
    "del(rlt)\n",
    "gc.collect()\n",
    "\n",
    "print(time.asctime())"
   ]
  },
  {
   "cell_type": "code",
   "execution_count": null,
   "metadata": {
    "jupyter": {
     "source_hidden": true
    }
   },
   "outputs": [],
   "source": [
    "### correct shift: y:-8.5, x:10\n",
    "tv1_subpxl_id = tv1_subpxl.argmin()\n",
    "tv2_subpxl_id = tv2_subpxl.argmin()\n",
    "y_subpxl_shift = (tv1_subpxl_id//w-int(h/2))*step\n",
    "x_subpxl_shift = (tv1_subpxl_id%w-int(w/2))*step\n",
    "print(tv1_subpxl_id)\n",
    "print(tv2_subpxl_id)\n",
    "\n",
    "plt.figure(1)\n",
    "plt.plot(tv1_pxl.flatten())\n",
    "#plt.figure(2)\n",
    "#plt.plot(tv2_pxl.flatten())\n",
    "plt.figure(3)\n",
    "plt.plot(tv1_subpxl.flatten())\n",
    "#plt.figure(4)\n",
    "#plt.plot(tv2_subpxl.flatten())\n",
    "\n",
    "ijui.show(ij.py.to_java(fixed_img - np.real(np.fft.ifftn(\n",
    "    fourier_shift(np.fft.fftn(img), [y_pxl_shift+y_subpxl_shift, x_pxl_shift+x_subpxl_shift])))))\n",
    "wm.getCurrentWindow().setTitle('subpixel')\n",
    "ijui.show(ij.py.to_java(fixed_img - np.real(np.fft.ifftn(\n",
    "    fourier_shift(np.fft.fftn(img), [y_pxl_shift, x_pxl_shift])))))\n",
    "wm.getCurrentWindow().setTitle('intpixel')\n",
    "#ijui.show(ij.py.to_java(fixed_img - np.roll(img, [tv2_pxl_id//w-int(h/2), tv2_pxl_id%w-int(w/2)], axis=[0, 1])))\n",
    "#ijui.show(ij.py.to_java(fixed_img - np.roll(img, [-9, 10], axis=[0, 1])))"
   ]
  },
  {
   "cell_type": "code",
   "execution_count": null,
   "metadata": {
    "jupyter": {
     "source_hidden": true
    }
   },
   "outputs": [],
   "source": [
    "def tv_opt(shift, fixed_img, img):\n",
    "    diff_img = fixed_img - np.real(np.fft.ifftn(fourier_shift(np.fft.fftn(img), shift)))\n",
    "    tv1 = (np.abs(np.diff(diff_img, axis=0, prepend=1))+np.abs(np.diff(diff_img, axis=1, prepend=1))).sum()\n",
    "    #tv2 = ((np.diff(diff_img, axis=0, prepend=1))**2+(np.diff(diff_img, axis=1, prepend=1))**2).sum()\n",
    "    return tv1\n",
    "\n",
    "res = minimize(tv_opt, [0, 0], args=(fixed_img, img), method='CG')\n",
    "\"\"\"\n",
    "n_cpu = os.cpu_count()\n",
    "print(time.asctime())\n",
    "with mp.Pool(n_cpu-1) as pool:\n",
    "    rlt = pool.starmap(tv_opt, [((ii//w-int(h/2)), (ii%w-int(w/2))) for ii in range(w*h)])\n",
    "\n",
    "tv1_pxl = np.ndarray([h, w], dtype=np.float32)\n",
    "tv2_pxl = np.ndarray([h, w], dtype=np.float32)\n",
    "for ii in range(w*h):\n",
    "    tv1_pxl[ii%w, ii//w] = rlt[ii][0]\n",
    "    tv2_pxl[ii%w, ii//w] = rlt[ii][0]\n",
    "\"\"\""
   ]
  },
  {
   "cell_type": "code",
   "execution_count": null,
   "metadata": {
    "jupyter": {
     "source_hidden": true
    }
   },
   "outputs": [],
   "source": [
    "print(res)"
   ]
  },
  {
   "cell_type": "code",
   "execution_count": null,
   "metadata": {
    "jupyter": {
     "source_hidden": true
    }
   },
   "outputs": [],
   "source": [
    "plt.figure(1)\n",
    "plt.imshow(np.array(tv1).reshape(20,20))\n",
    "\n",
    "plt.figure(2)\n",
    "plt.imshow(np.array(tv2).reshape(20,20))\n",
    "\n",
    "print(np.array(tv1).argmin())\n",
    "print(tv1[290])\n",
    "print(np.array(tv2).argmin())\n",
    "print(tv2[290])\n",
    "\n",
    "plt.figure(3)\n",
    "plt.plot(tv1)\n",
    "\n",
    "plt.figure(4)\n",
    "plt.plot(tv2)"
   ]
  },
  {
   "cell_type": "code",
   "execution_count": null,
   "metadata": {
    "jupyter": {
     "source_hidden": true
    }
   },
   "outputs": [],
   "source": [
    "diff_img[:] = (np.real(np.fft.ifftn(fourier_shift(np.fft.fftn(img), [(12-int(w/2))*0.5, (10-int(w/2))*0.5])))-fixed_img)[:]\n",
    "ijui.show(ij.py.to_java(diff_img))"
   ]
  },
  {
   "cell_type": "markdown",
   "metadata": {},
   "source": [
    "# ***separate line optimization***"
   ]
  },
  {
   "cell_type": "code",
   "execution_count": null,
   "metadata": {
    "jupyter": {
     "source_hidden": true
    }
   },
   "outputs": [],
   "source": [
    "def tv_pixel(fixed_img, img, y_shift, x_shift):\n",
    "    diff_img = fixed_img - np.roll(img, [y_shift, x_shift], axis=[0, 1])\n",
    "    tv1 = (np.abs(np.diff(diff_img, axis=0, prepend=1))+np.abs(np.diff(diff_img, axis=1, prepend=1))).sum()\n",
    "    tv2 = ((np.diff(diff_img, axis=0, prepend=1))**2+(np.diff(diff_img, axis=1, prepend=1))**2).sum()\n",
    "    fn = f'/media/Disk2/data/Zhi/debug/shifted_img_{str(y_shift).zfill(2)}_{str(x_shift).zfill(2)}.tiff'\n",
    "    tifffile.imsave(fn, diff_img.astype(np.float32))\n",
    "    return tv1, tv2 \n",
    "    #return tv1\n",
    "\n",
    "def tv_pixel_y(fixed_img, img, y_shift):\n",
    "    diff_img = fixed_img - np.roll(img, y_shift, axis=0)\n",
    "    tv1 = np.abs(np.diff(diff_img, axis=0, prepend=1)).sum()\n",
    "    tv2 = ((np.diff(diff_img, axis=0, prepend=1))**2).sum()\n",
    "    fn = f'/media/Disk2/data/Zhi/debug/shifted_img_y_{str(y_shift).zfill(2)}.tiff'\n",
    "    tifffile.imsave(fn, diff_img.astype(np.float32))\n",
    "    return tv1, tv2 \n",
    "    #return tv1\n",
    "\n",
    "def tv_pixel_x(fixed_img, img, y_shift, x_shift):\n",
    "    diff_img = fixed_img - np.roll(img, [y_shift, x_shift], axis=[0, 1])\n",
    "    tv1 = np.abs(np.diff(diff_img, axis=1, prepend=1)).sum()\n",
    "    tv2 = ((np.diff(diff_img, axis=1, prepend=1))**2).sum()\n",
    "    fn = f'/media/Disk2/data/Zhi/debug/shifted_img_x_{str(x_shift).zfill(2)}.tiff'\n",
    "    tifffile.imsave(fn, diff_img.astype(np.float32))\n",
    "    return tv1, tv2 \n",
    "    #return tv1\n",
    "\n",
    "def tv_subpixel(fixed_img, img, y_shift, x_shift):\n",
    "    diff_img = fixed_img - np.real(np.fft.ifftn(fourier_shift(np.fft.fftn(img), [y_shift, x_shift])))\n",
    "    tv1 = (np.abs(np.diff(diff_img, axis=0, prepend=1))+np.abs(np.diff(diff_img, axis=1, prepend=1))).sum()\n",
    "    tv2 = ((np.diff(diff_img, axis=0, prepend=1))**2+(np.diff(diff_img, axis=1, prepend=1))**2).sum()\n",
    "    return tv1, tv2 \n",
    "    #return tv1\n",
    "\n",
    "def tv_opt_v2(fixed_img, img, h, w):\n",
    "    tv1_y = []\n",
    "    tv1_x = []\n",
    "    \n",
    "    \n",
    "    for ii in range(h):\n",
    "        tv1_y.append(tv_pixel_y(fixed_img, img, ii-int(h/2))[0])\n",
    "    tv1_y_id = np.array(tv1_y).argmin()\n",
    "    tv1_y_shift = tv1_y_id-int(h/2)\n",
    "    for ii in range(w):\n",
    "        tv1_x.append(tv_pixel_x(fixed_img, img, tv1_y_shift, ii-int(w/2))[0])\n",
    "    tv1_x_id = np.array(tv1_x).argmin()\n",
    "    tv1_x_shift = tv1_x_id-int(w/2)\n",
    "    \n",
    "    \n",
    "    \"\"\"\n",
    "    for ii in range(h):\n",
    "        tv1_y.append(tv_subpixel(fixed_img, img, (ii-int(h/2))*0.5, 0)[0])\n",
    "    tv1_y_id = np.array(tv1_y).argmin()\n",
    "    tv1_y_shift = (tv1_y_id-int(h/2))*0.5\n",
    "    for ii in range(w):\n",
    "        tv1_x.append(tv_subpixel(fixed_img, img, tv1_y_shift, (ii-int(w/2))*0.5)[0])\n",
    "    tv1_x_id = np.array(tv1_x).argmin()\n",
    "    tv1_x_shift = (tv1_x_id-int(w/2))*0.5\n",
    "    \"\"\"\n",
    "    \n",
    "    tv1_y_sub = []\n",
    "    tv1_x_sub = []\n",
    "    for ii in range(20):\n",
    "        tv1_y_sub.append(tv_subpixel(fixed_img, img, (ii-10)*0.2+tv1_y_shift, tv1_x_shift)[0])\n",
    "    tv1_sub_y_id = np.array(tv1_y_sub).argmin()\n",
    "    tv1_sub_y_shift = (tv1_sub_y_id-10)*0.2+tv1_y_shift\n",
    "    for ii in range(20):\n",
    "        tv1_x_sub.append(tv_subpixel(fixed_img, img, tv1_sub_y_shift, (ii-10)*0.2+tv1_x_shift)[0])\n",
    "    tv1_sub_x_id = np.array(tv1_x_sub).argmin()\n",
    "    tv1_sub_x_shift = (tv1_sub_x_id-10)*0.2+tv1_x_shift\n",
    "    \n",
    "    return tv1_y, tv1_x, tv1_y_sub, tv1_x_sub, tv1_sub_y_shift, tv1_sub_x_shift"
   ]
  },
  {
   "cell_type": "code",
   "execution_count": null,
   "metadata": {
    "jupyter": {
     "source_hidden": true
    }
   },
   "outputs": [],
   "source": [
    "print(time.asctime())\n",
    "tv1_y, tv1_x, tv1_y_sub, tv1_x_sub, tv1_sub_y_shift, tv1_sub_x_shift = tv_opt_v2(fixed_img, img, 40, 40)\n",
    "print(time.asctime())\n",
    "\n",
    "diff_img = (np.real(np.fft.ifftn(fourier_shift(np.fft.fftn(img), [tv1_sub_y_shift, tv1_sub_x_shift])))-fixed_img)\n",
    "ijui.show(ij.py.to_java(diff_img))"
   ]
  },
  {
   "cell_type": "code",
   "execution_count": null,
   "metadata": {
    "jupyter": {
     "source_hidden": true
    }
   },
   "outputs": [],
   "source": [
    "print(np.array(tv1_x).argmin())"
   ]
  },
  {
   "cell_type": "code",
   "execution_count": null,
   "metadata": {
    "jupyter": {
     "source_hidden": true
    }
   },
   "outputs": [],
   "source": [
    "plt.figure(11)\n",
    "plt.plot(tv1_y)\n",
    "plt.figure(12)\n",
    "plt.plot(tv1_x)\n",
    "plt.figure(13)\n",
    "plt.plot(tv1_y_sub)\n",
    "plt.figure(14)\n",
    "plt.plot(tv1_x_sub)"
   ]
  },
  {
   "cell_type": "markdown",
   "metadata": {},
   "source": [
    "# ***multi-resolution approach***"
   ]
  },
  {
   "cell_type": "code",
   "execution_count": null,
   "metadata": {
    "jupyter": {
     "source_hidden": true
    }
   },
   "outputs": [],
   "source": [
    "def tv_pixel(fixed_img, img, y_shift, x_shift):\n",
    "    diff_img = fixed_img - np.roll(img, [y_shift, x_shift], axis=[0, 1])\n",
    "    tv1 = (np.abs(np.diff(diff_img, axis=0, prepend=1))+np.abs(np.diff(diff_img, axis=1, prepend=1))).sum()\n",
    "    tv2 = ((np.diff(diff_img, axis=0, prepend=1))**2+(np.diff(diff_img, axis=1, prepend=1))**2).sum()\n",
    "    return tv1, tv2 \n",
    "\n",
    "def tv_subpixel(fixed_img, img, y_shift, x_shift):\n",
    "    diff_img = fixed_img - np.real(np.fft.ifftn(fourier_shift(np.fft.fftn(img), [y_shift, x_shift])))\n",
    "    tv1 = (np.abs(np.diff(diff_img, axis=0, prepend=1))+np.abs(np.diff(diff_img, axis=1, prepend=1))).sum()\n",
    "    tv2 = ((np.diff(diff_img, axis=0, prepend=1))**2+(np.diff(diff_img, axis=1, prepend=1))**2).sum()\n",
    "    return tv1, tv2 "
   ]
  },
  {
   "cell_type": "code",
   "execution_count": null,
   "metadata": {
    "jupyter": {
     "source_hidden": true
    }
   },
   "outputs": [],
   "source": [
    "### level 1\n",
    "w = 20\n",
    "h = 20\n",
    "print(time.asctime())\n",
    "n_cpu = os.cpu_count()\n",
    "#with get_context('spawn').Pool(n_cpu-1) as pool:\n",
    "with mp.Pool(int(n_cpu/2)) as pool:\n",
    "    rlt = pool.starmap(tv_pixel, [(fixed_img, img, 4*(ii//w-int(h/2)), 4*(ii%w-int(w/2))) for ii in np.int32(np.arange(w*h))])\n",
    "pool.join()\n",
    "pool.close()\n",
    "\n",
    "tv1_pxl_lev1 = np.ndarray([h, w], dtype=np.float32)\n",
    "tv2_pxl_lev1 = np.ndarray([h, w], dtype=np.float32)\n",
    "for ii in range(w*h):\n",
    "    tv1_pxl_lev1[ii//w, ii%w] = rlt[ii][0]\n",
    "    tv2_pxl_lev1[ii//w, ii%w] = rlt[ii][1]\n",
    "del(rlt)\n",
    "gc.collect()\n",
    "print(time.asctime())\n",
    "\n",
    "tv1_pxl_id_lev1 = tv1_pxl_lev1.argmin()\n",
    "tv2_pxl_id_lev1 = tv2_pxl_lev1.argmin()\n",
    "y_pxl_shift_lev1 = 4*(tv1_pxl_id_lev1//w-int(h/2))\n",
    "x_pxl_shift_lev1 = 4*(tv1_pxl_id_lev1%w-int(w/2))\n",
    "print(tv1_pxl_id_lev1, y_pxl_shift_lev1, x_pxl_shift_lev1)\n",
    "\n",
    "### level 2\n",
    "w = 10\n",
    "h = 10\n",
    "print(time.asctime())\n",
    "n_cpu = os.cpu_count()\n",
    "with mp.Pool(int(n_cpu/2)) as pool:\n",
    "    rlt = pool.starmap(tv_pixel, [(fixed_img, img, 2*(ii//w-int(h/2))+y_pxl_shift_lev1, \n",
    "                                   2*(ii%w-int(w/2))+x_pxl_shift_lev1) for ii in np.int32(np.arange(w*h))])\n",
    "    \n",
    "#with mp.Pool(int(n_cpu/2)) as pool:\n",
    "#    rlt = pool.starmap(tv_pixel, [(fixed_img, img, (ii//w-int(h/2)), (ii%w-int(w/2))) for ii in np.int32(np.arange(w*h))])\n",
    "pool.join()\n",
    "pool.close()\n",
    "tv1_pxl_lev2 = np.ndarray([h, w], dtype=np.float32)\n",
    "tv2_pxl_lev2 = np.ndarray([h, w], dtype=np.float32)\n",
    "for ii in range(w*h):\n",
    "    tv1_pxl_lev2[ii//w, ii%w] = rlt[ii][0]\n",
    "    tv2_pxl_lev2[ii//w, ii%w] = rlt[ii][1]\n",
    "del(rlt)\n",
    "gc.collect()\n",
    "print(time.asctime())\n",
    "\n",
    "tv1_pxl_id_lev2 = tv1_pxl_lev2.argmin()\n",
    "tv2_pxl_id_lev2 = tv2_pxl_lev2.argmin()\n",
    "y_pxl_shift_lev2 = 2*(tv1_pxl_id_lev2//w-int(h/2))\n",
    "x_pxl_shift_lev2 = 2*(tv1_pxl_id_lev2%w-int(w/2))\n",
    "print(tv1_pxl_id_lev2, y_pxl_shift_lev2, x_pxl_shift_lev2)\n",
    "\n",
    "### level 3\n",
    "w = 10\n",
    "h = 10\n",
    "print(time.asctime())\n",
    "n_cpu = os.cpu_count()\n",
    "with mp.Pool(int(n_cpu/2)) as pool:\n",
    "    rlt = pool.starmap(tv_pixel, [(fixed_img, img, (ii//w-int(h/2))+y_pxl_shift_lev1+y_pxl_shift_lev2, \n",
    "                                   (ii%w-int(w/2))+x_pxl_shift_lev1+x_pxl_shift_lev2) for ii in np.int32(np.arange(w*h))])\n",
    "\n",
    "pool.join()\n",
    "pool.close()\n",
    "tv1_pxl_lev3 = np.ndarray([h, w], dtype=np.float32)\n",
    "tv2_pxl_lev3 = np.ndarray([h, w], dtype=np.float32)\n",
    "for ii in range(w*h):\n",
    "    tv1_pxl_lev3[ii//w, ii%w] = rlt[ii][0]\n",
    "    tv2_pxl_lev3[ii//w, ii%w] = rlt[ii][1]\n",
    "del(rlt)\n",
    "gc.collect()\n",
    "print(time.asctime())\n",
    "\n",
    "tv1_pxl_id_lev3 = tv1_pxl_lev3.argmin()\n",
    "tv2_pxl_id_lev3 = tv2_pxl_lev3.argmin()\n",
    "y_pxl_shift_lev3 = (tv1_pxl_id_lev3//w-int(h/2))\n",
    "x_pxl_shift_lev3 = (tv1_pxl_id_lev3%w-int(w/2))\n",
    "print(tv1_pxl_id_lev3, y_pxl_shift_lev3, x_pxl_shift_lev3)\n",
    "\n",
    "### level 4\n",
    "w = 10\n",
    "h = 10\n",
    "step = 0.2\n",
    "\n",
    "print(time.asctime())\n",
    "n_cpu = os.cpu_count()\n",
    "#with get_context('spawn').Pool(n_cpu-1) as pool:\n",
    "with mp.Pool(int(n_cpu/2)) as pool:\n",
    "    rlt = pool.starmap(tv_subpixel, [(fixed_img, img, (ii//w-int(h/2))*step+y_pxl_shift_lev1+y_pxl_shift_lev2+y_pxl_shift_lev3, \\\n",
    "                                      (ii%w-int(w/2))*step+x_pxl_shift_lev1+x_pxl_shift_lev2+x_pxl_shift_lev3) for ii in np.int32(np.arange(w*h))])\n",
    "pool.join()\n",
    "pool.close()\n",
    "\n",
    "tv1_subpxl = np.ndarray([h, w], dtype=np.float32)\n",
    "tv2_subpxl = np.ndarray([h, w], dtype=np.float32)\n",
    "for ii in range(w*h):\n",
    "    tv1_subpxl[ii//w, ii%w] = rlt[ii][0]\n",
    "    tv2_subpxl[ii//w, ii%w] = rlt[ii][1]\n",
    "del(rlt)\n",
    "gc.collect()\n",
    "print(time.asctime())\n",
    "\n",
    "tv1_subpxl_id = tv1_subpxl.argmin()\n",
    "tv2_subpxl_id = tv2_subpxl.argmin()\n",
    "y_subpxl_shift = (tv1_subpxl_id//w-int(h/2))*step\n",
    "x_subpxl_shift = (tv1_subpxl_id%w-int(w/2))*step\n",
    "print(tv1_subpxl_id, y_subpxl_shift, x_subpxl_shift)"
   ]
  },
  {
   "cell_type": "code",
   "execution_count": null,
   "metadata": {
    "jupyter": {
     "source_hidden": true
    }
   },
   "outputs": [],
   "source": [
    "plt.figure(1)\n",
    "plt.plot(tv1_pxl_lev1.flatten())\n",
    "plt.figure(2)\n",
    "plt.plot(tv1_pxl_lev2.flatten())\n",
    "plt.figure(3)\n",
    "plt.plot(tv1_pxl_lev3.flatten())\n",
    "plt.figure(4)\n",
    "plt.plot(tv1_subpxl.flatten())\n",
    "\n",
    "\n",
    "ijui.show(ij.py.to_java(fixed_img - np.real(np.fft.ifftn(\n",
    "    fourier_shift(np.fft.fftn(img), [y_pxl_shift_lev1, \n",
    "                                     x_pxl_shift_lev1])))))\n",
    "wm.getCurrentWindow().setTitle('level 1')\n",
    "\n",
    "ijui.show(ij.py.to_java(fixed_img - np.real(np.fft.ifftn(\n",
    "    fourier_shift(np.fft.fftn(img), [y_pxl_shift_lev1+y_pxl_shift_lev2, \n",
    "                                     x_pxl_shift_lev1+x_pxl_shift_lev2])))))\n",
    "wm.getCurrentWindow().setTitle('level 2')\n",
    "\n",
    "ijui.show(ij.py.to_java(fixed_img - np.real(np.fft.ifftn(\n",
    "    fourier_shift(np.fft.fftn(img), [y_pxl_shift_lev1+y_pxl_shift_lev2+y_pxl_shift_lev3, \n",
    "                                     x_pxl_shift_lev1+x_pxl_shift_lev2+x_pxl_shift_lev3])))))\n",
    "wm.getCurrentWindow().setTitle('level 3')     \n",
    "\n",
    "ijui.show(ij.py.to_java(fixed_img - np.real(np.fft.ifftn(\n",
    "    fourier_shift(np.fft.fftn(img), [y_pxl_shift_lev1+y_pxl_shift_lev2+y_pxl_shift_lev3+y_subpxl_shift, \n",
    "                                     x_pxl_shift_lev1+x_pxl_shift_lev2+x_pxl_shift_lev3+x_subpxl_shift])))))\n",
    "wm.getCurrentWindow().setTitle('level 4')"
   ]
  },
  {
   "cell_type": "code",
   "execution_count": null,
   "metadata": {
    "jupyter": {
     "source_hidden": true
    }
   },
   "outputs": [],
   "source": [
    "cwi = wm.getCurrentWindow()"
   ]
  },
  {
   "cell_type": "code",
   "execution_count": null,
   "metadata": {
    "jupyter": {
     "source_hidden": true
    }
   },
   "outputs": [],
   "source": [
    "import numpy as np\n",
    "a = np.ones([5,2])\n",
    "print(a[:0, 0].sum(axis=0))"
   ]
  },
  {
   "cell_type": "code",
   "execution_count": null,
   "metadata": {
    "jupyter": {
     "source_hidden": true
    }
   },
   "outputs": [],
   "source": [
    "test = tifffile.imread('/run/media/xiao/Data/data/WeijiangXue_2020/54307_org_raw_projection_#50.tif')"
   ]
  },
  {
   "cell_type": "markdown",
   "metadata": {},
   "source": [
    "# ***alignment class***"
   ]
  },
  {
   "cell_type": "code",
   "execution_count": null,
   "metadata": {},
   "outputs": [],
   "source": [
    "print(time.asctime())\n",
    "#for ii in range(5):\n",
    "#    tv1_pxl, tv1_pxl_id, shift_list, shift = multi_resolutin_tv_reg(fixed_img, img, levs=4, wz=10, step=0.2)\n",
    "tv1_pxl, tv1_pxl_id, shift_list, shift = multi_resolutin_tv_reg(fixed_img, img, levs=4, wz=10, step=0.2)\n",
    "print(time.asctime())"
   ]
  },
  {
   "cell_type": "code",
   "execution_count": null,
   "metadata": {
    "jupyter": {
     "source_hidden": true
    }
   },
   "outputs": [],
   "source": [
    "ijui.show(ij.py.to_java(fixed_img - np.real(np.fft.ifftn(\n",
    "    fourier_shift(np.fft.fftn(img), [shift[:1, 0].sum(), \n",
    "                                     shift[:1, 1].sum()])))))\n",
    "wm.getCurrentWindow().setTitle('level 1')\n",
    "\n",
    "ijui.show(ij.py.to_java(fixed_img - np.real(np.fft.ifftn(\n",
    "    fourier_shift(np.fft.fftn(img), [shift[:2, 0].sum(), \n",
    "                                     shift[:2, 1].sum()])))))\n",
    "wm.getCurrentWindow().setTitle('level 2')\n",
    "\n",
    "ijui.show(ij.py.to_java(fixed_img - np.real(np.fft.ifftn(\n",
    "    fourier_shift(np.fft.fftn(img), [shift[:3, 0].sum(), \n",
    "                                     shift[:3, 1].sum()])))))\n",
    "wm.getCurrentWindow().setTitle('level 3')     \n",
    "\n",
    "ijui.show(ij.py.to_java(fixed_img - np.real(np.fft.ifftn(\n",
    "    fourier_shift(np.fft.fftn(img), [shift[:4, 0].sum(), \n",
    "                                     shift[:4, 1].sum()])))))\n",
    "wm.getCurrentWindow().setTitle('level 4')\n",
    "\n",
    "ijui.show(ij.py.to_java(fixed_img - np.real(np.fft.ifftn(\n",
    "    fourier_shift(np.fft.fftn(img), [shift[:5, 0].sum(), \n",
    "                                     shift[:5, 1].sum()])))))\n",
    "wm.getCurrentWindow().setTitle('level 5')"
   ]
  },
  {
   "cell_type": "code",
   "execution_count": null,
   "metadata": {},
   "outputs": [],
   "source": [
    "plt.figure(10)\n",
    "plt.plot(tv1_pxl[3, :, :].flatten())"
   ]
  },
  {
   "cell_type": "code",
   "execution_count": null,
   "metadata": {
    "jupyter": {
     "source_hidden": true
    }
   },
   "outputs": [],
   "source": [
    "print(tv1_pxl.shape)"
   ]
  },
  {
   "cell_type": "code",
   "execution_count": null,
   "metadata": {
    "jupyter": {
     "source_hidden": true
    }
   },
   "outputs": [],
   "source": [
    "print(tv1_pxl_id)"
   ]
  },
  {
   "cell_type": "code",
   "execution_count": 13,
   "metadata": {},
   "outputs": [],
   "source": [
    "import time, os, gc\n",
    "\n",
    "import numpy as np, h5py\n",
    "import multiprocess as mp\n",
    "from scipy.ndimage import fourier_shift\n",
    "\n",
    "fn = '/run/media/xiao/Data/data/2D_xanes/2D_trial_reg_xanes_scan2_id_54311_2020-07-01-11-20-34.h5'\n",
    "pair_id = 1\n",
    "with h5py.File(fn, 'r') as f:\n",
    "    img = f['/trial_registration/trial_reg_results/{0}/trial_reg_img{0}'.format(str(pair_id).zfill(3))][:]\n",
    "    fixed_img = f['/trial_registration/trial_reg_results/{0}/trial_reg_fixed{0}'.format(str(pair_id).zfill(3))][:]\n",
    "\n",
    "def multi_resolutin_tv_reg1(fixed_img, img, levs=4, wz=10, step=0.2):\n",
    "    def _tv_l1_pixel(fixed_img, img, y_shift, x_shift):\n",
    "        diff_img = fixed_img - np.roll(img, [y_shift, x_shift], axis=[0, 1])\n",
    "        tv1 = (np.abs(np.diff(diff_img, axis=0, prepend=1))+np.abs(np.diff(diff_img, axis=1, prepend=1))).sum()\n",
    "        return tv1\n",
    "    \n",
    "    \n",
    "    def _tv_l1_subpixel(fixed_img, img, y_shift, x_shift):\n",
    "        diff_img = fixed_img - np.real(np.fft.ifftn(fourier_shift(np.fft.fftn(img), [y_shift, x_shift])))\n",
    "        tv1 = (np.abs(np.diff(diff_img, axis=0, prepend=1))+np.abs(np.diff(diff_img, axis=1, prepend=1))).sum()\n",
    "        return tv1\n",
    "\n",
    "    sch_config = {}\n",
    "    sch_config[levs-1] = {'wz':20, 'step':step}\n",
    "    # tv1_pxl = np.ndarray([levs, wz, wz], dtype=np.float32)\n",
    "    tv1_pxl = {}\n",
    "    tv1_pxl_id = np.zeros(levs, dtype=np.int16)\n",
    "    shift = np.zeros([levs, 2], dtype=np.float32)\n",
    "    \n",
    "    for ii in np.int32(np.arange(levs-1)):\n",
    "        sch_config[levs-2-ii] = {'wz':wz, 'step':2**ii}\n",
    "        \n",
    "    # print(tv1_pxl.shape)\n",
    "    \n",
    "    n_cpu = os.cpu_count()\n",
    "    \n",
    "\n",
    "    for ii in range(levs-1): \n",
    "        print(ii)\n",
    "        w = sch_config[ii]['wz']\n",
    "        step = int(sch_config[ii]['step'])\n",
    "        print(0.1)\n",
    "        with mp.Pool(int(n_cpu-1)) as pool:\n",
    "        # with mp.Pool(1) as pool:\n",
    "            rlt = pool.starmap(_tv_l1_pixel, [(fixed_img, img, int(step*(jj//w-int(w/2))+shift[:ii, 0].sum()), \n",
    "                                                    int(step*(jj%w-int(w/2))+shift[:ii, 1].sum())) for jj in np.int32(np.arange(w**2))])\n",
    "        print(0.2)\n",
    "        pool.join()\n",
    "        pool.close()\n",
    "        \n",
    "        print(0.3)\n",
    "        tem = np.ndarray([w, w], dtype=np.float32)\n",
    "        for kk in range(w**2):\n",
    "            tem[kk//w, kk%w] = rlt[kk]\n",
    "        del(rlt)\n",
    "        gc.collect()\n",
    "        \n",
    "        tv1_pxl[ii] = np.array(tem)\n",
    "        tv1_pxl_id[ii] = tv1_pxl[ii].argmin()\n",
    "        shift[ii, 0] = step*(tv1_pxl_id[ii]//w-int(w/2))\n",
    "        shift[ii, 1] = step*(tv1_pxl_id[ii]%w-int(w/2))\n",
    "        print(ii)\n",
    "        print(time.asctime())\n",
    "        \n",
    "    # print(tv1_pxl.shape)\n",
    "\n",
    "    \n",
    "    print(levs-1)\n",
    "    w = sch_config[levs-1]['wz']\n",
    "    step = sch_config[levs-1]['step']\n",
    "    with mp.Pool(int(n_cpu-1)) as pool:\n",
    "        rlt = pool.starmap(_tv_l1_subpixel, [(fixed_img, img, step*(jj//w-int(w/2))+shift[:(levs-1), 0].sum(), \n",
    "                                                    step*(jj%w-int(w/2))+shift[:(levs-1), 1].sum()) for jj in np.int32(np.arange(w**2))])\n",
    "    pool.close() \n",
    "    pool.join()\n",
    "    \n",
    "    print(0.3)\n",
    "    tem = np.ndarray([w, w], dtype=np.float32)\n",
    "    for kk in range(w**2):\n",
    "        tem[kk//w, kk%w] = rlt[kk]\n",
    "    del(rlt)\n",
    "    gc.collect()\n",
    "    \n",
    "    tv1_pxl[levs-1] = np.array(tem)\n",
    "    tv1_pxl_id[levs-1] = tv1_pxl[levs-1].argmin()\n",
    "    shift[levs-1, 0] = step*(tv1_pxl_id[levs-1]//w-int(w/2))\n",
    "    shift[levs-1, 1] = step*(tv1_pxl_id[levs-1]%w-int(w/2))\n",
    "    \n",
    "    print(levs-1)\n",
    "    # print(tv1_pxl.shape)\n",
    "        \n",
    "    return tv1_pxl, tv1_pxl_id, shift, shift.sum(axis=0)"
   ]
  },
  {
   "cell_type": "code",
   "execution_count": 14,
   "metadata": {},
   "outputs": [
    {
     "name": "stdout",
     "output_type": "stream",
     "text": [
      "Sun Oct  4 16:47:48 2020\n",
      "0\n",
      "0.1\n",
      "0.2\n",
      "0.3\n",
      "0\n",
      "Sun Oct  4 16:47:52 2020\n",
      "1\n",
      "0.1\n",
      "0.2\n",
      "0.3\n",
      "1\n",
      "Sun Oct  4 16:47:56 2020\n",
      "2\n",
      "0.1\n",
      "0.2\n",
      "0.3\n",
      "2\n",
      "Sun Oct  4 16:48:00 2020\n",
      "3\n",
      "0.3\n",
      "3\n",
      "Sun Oct  4 16:48:45 2020\n"
     ]
    }
   ],
   "source": [
    "print(time.asctime())\n",
    "#for ii in range(5):\n",
    "#    tv1_pxl, tv1_pxl_id, shift_list, shift = multi_resolutin_tv_reg(fixed_img, img, levs=4, wz=10, step=0.2)\n",
    "tv1_pxl, tv1_pxl_id, shift_list, shift = multi_resolutin_tv_reg1(fixed_img, img, levs=4, wz=10, sp_wz=8, step=0.5)\n",
    "print(time.asctime())"
   ]
  },
  {
   "cell_type": "code",
   "execution_count": null,
   "metadata": {},
   "outputs": [],
   "source": [
    "shift = np.zeros([2, 2], dtype=np.float32)\n",
    "print(shift[:1, 0])"
   ]
  },
  {
   "cell_type": "code",
   "execution_count": null,
   "metadata": {},
   "outputs": [],
   "source": []
  },
  {
   "cell_type": "code",
   "execution_count": 7,
   "metadata": {},
   "outputs": [],
   "source": [
    "import time, os, gc\n",
    "\n",
    "import numpy as np, h5py\n",
    "import multiprocess as mp\n",
    "from concurrent.futures import TimeoutError\n",
    "from pebble import ProcessPool, ProcessExpired\n",
    "from functools import partial\n",
    "from scipy.ndimage import fourier_shift\n",
    "\n",
    "fn = '/run/media/xiao/Data/data/2D_xanes/2D_trial_reg_xanes_scan2_id_54311_2020-07-01-11-20-34.h5'\n",
    "pair_id = 1\n",
    "with h5py.File(fn, 'r') as f:\n",
    "    img = f['/trial_registration/trial_reg_results/{0}/trial_reg_img{0}'.format(str(pair_id).zfill(3))][:]\n",
    "    fixed_img = f['/trial_registration/trial_reg_results/{0}/trial_reg_fixed{0}'.format(str(pair_id).zfill(3))][:]\n",
    "\n",
    "def tv_l1_pixel2(fixed_img, img, shift):\n",
    "    diff_img = fixed_img - np.roll(img, [shift[0], shift[1]], axis=[0, 1])\n",
    "    return (np.abs(np.diff(diff_img, axis=0, prepend=1))+np.abs(np.diff(diff_img, axis=1, prepend=1))).sum()\n",
    "\n",
    "def tv_l2_pixel2(fixed_img, img, shift):\n",
    "    diff_img = fixed_img - np.roll(img, [shift[0], shift[1]], axis=[0, 1])        \n",
    "    return ((np.diff(diff_img, axis=0, prepend=1))**2+(np.diff(diff_img, axis=1, prepend=1))**2).sum() \n",
    "\n",
    "def multi_resolutin_tv_reg2(fixed_img, img, levs=4, wz=10, step=0.2):\n",
    "    sch_config = {}\n",
    "    sch_config[levs-1] = {'wz':20, 'step':step}\n",
    "    # tv1_pxl = np.ndarray([levs, wz, wz], dtype=np.float32)\n",
    "    tv1_pxl = {}\n",
    "    tv1_pxl_id = np.zeros(levs, dtype=np.int16)\n",
    "    shift = np.zeros([levs, 2], dtype=np.float32)\n",
    "    rlt = []\n",
    "    \n",
    "    for ii in np.int32(np.arange(levs-1)):\n",
    "        sch_config[levs-2-ii] = {'wz':wz, 'step':2**ii}\n",
    "        \n",
    "    # print(tv1_pxl.shape)\n",
    "    \n",
    "    n_cpu = os.cpu_count()\n",
    "    \n",
    "    for ii in range(levs-1):\n",
    "        print(time.asctime())\n",
    "        print(ii)\n",
    "        w = sch_config[ii]['wz']\n",
    "        step = int(sch_config[ii]['step'])\n",
    "        print(0.1)\n",
    "        \n",
    "        chunksize = int(w**2/(n_cpu-1))\n",
    "        with ProcessPool() as pool:\n",
    "            future = pool.map(partial(tv_l1_pixel2, fixed_img, img), \n",
    "                              [[int(step*(jj//w-int(w/2))+shift[:ii, 0].sum()), \n",
    "                                int(step*(jj%w-int(w/2))+shift[:ii, 1].sum())] for jj in np.int32(np.arange(w**2))],\n",
    "                              time_out=2)\n",
    "            iterator = future.result()\n",
    "            \n",
    "            while True:\n",
    "                try:\n",
    "                    rlt.append(next(iterator))\n",
    "                except StopIteration:\n",
    "                    print('option 1')\n",
    "                    break\n",
    "                except TimeoutError as error:\n",
    "                    print('option 2')\n",
    "                    print('function took longer than %d seconds'%error.args[1])\n",
    "                except ProcessExpired as error:\n",
    "                    print('option 3')\n",
    "                    print('%s. Exit code: %d'%(error, error.exitcode))\n",
    "                except Exception as error:\n",
    "                    print('option 4')\n",
    "                    print('function raised %s'%error)\n",
    "                    print(error.traceback)\n",
    "                    \n",
    "        # # # with mp.Pool(int(n_cpu/2)) as pool:\n",
    "        # with mp.get_context().Pool(int(n_cpu-1)) as pool:\n",
    "        #     rlt = pool.map_async(partial(tv_l1_pixel, fixed_img, img), \n",
    "        #                       [[int(step*(jj//w-int(w/2))+shift[:ii, 0].sum()), \n",
    "        #                         int(step*(jj%w-int(w/2))+shift[:ii, 1].sum())] for jj in np.int32(np.arange(w**2))])\n",
    "        #     rlt.wait()\n",
    "        print(0.2)\n",
    "        pool.close()\n",
    "        pool.join()\n",
    "        \n",
    "        print(0.3)\n",
    "        tem = np.ndarray([w, w], dtype=np.float32)\n",
    "        for kk in range(w**2):\n",
    "            tem[kk//w, kk%w] = rlt[kk]\n",
    "        # del(rlt)\n",
    "        gc.collect()\n",
    "        \n",
    "        tv1_pxl[ii] = np.array(tem)\n",
    "        tv1_pxl_id[ii] = tv1_pxl[ii].argmin()\n",
    "        shift[ii, 0] = step*(tv1_pxl_id[ii]//w-int(w/2))\n",
    "        shift[ii, 1] = step*(tv1_pxl_id[ii]%w-int(w/2))\n",
    "        print(ii)\n",
    "        \n",
    "    # print(tv1_pxl.shape)\n",
    "    \n",
    "    \n",
    "    print(levs-1)\n",
    "    w = sch_config[levs-1]['wz']\n",
    "    step = sch_config[levs-1]['step']\n",
    "    # with mp.Pool(int(n_cpu/2)) as pool:\n",
    "    with mp.get_context('spawn').Pool(int(n_cpu/2)) as pool:\n",
    "        rlt = pool.starmap(tv_l1_subpixel2, [(fixed_img, img, step*(jj//w-int(w/2))+shift[:(levs-1), 0].sum(), \n",
    "                                              step*(jj%w-int(w/2))+shift[:(levs-1), 1].sum()) for jj in np.int32(np.arange(w**2))])\n",
    "    pool.close() \n",
    "    pool.join()\n",
    "    \n",
    "    print(0.3)\n",
    "    tem = np.ndarray([w, w], dtype=np.float32)\n",
    "    for kk in range(w**2):\n",
    "        tem[kk//w, kk%w] = rlt[kk]\n",
    "    del(rlt)\n",
    "    gc.collect()\n",
    "    \n",
    "    tv1_pxl[levs-1] = np.array(tem)\n",
    "    tv1_pxl_id[levs-1] = tv1_pxl[levs-1].argmin()\n",
    "    shift[levs-1, 0] = step*(tv1_pxl_id[levs-1]//w-int(w/2))\n",
    "    shift[levs-1, 1] = step*(tv1_pxl_id[levs-1]%w-int(w/2))\n",
    "    \n",
    "    print(levs-1)\n",
    "    # print(tv1_pxl.shape)\n",
    "        \n",
    "    return tv1_pxl, tv1_pxl_id, shift, shift.sum(axis=0)"
   ]
  },
  {
   "cell_type": "code",
   "execution_count": 8,
   "metadata": {},
   "outputs": [
    {
     "name": "stdout",
     "output_type": "stream",
     "text": [
      "Sun Oct  4 16:37:25 2020\n",
      "Sun Oct  4 16:37:25 2020\n",
      "0\n",
      "0.1\n",
      "option 1\n",
      "0.2\n",
      "0.3\n",
      "0\n",
      "Sun Oct  4 16:37:57 2020\n",
      "1\n",
      "0.1\n",
      "option 1\n",
      "0.2\n",
      "0.3\n",
      "1\n",
      "Sun Oct  4 16:38:26 2020\n",
      "2\n",
      "0.1\n",
      "option 1\n",
      "0.2\n",
      "0.3\n",
      "2\n",
      "Sun Oct  4 16:38:55 2020\n",
      "3\n",
      "0.1\n",
      "option 1\n",
      "0.2\n",
      "0.3\n",
      "3\n",
      "4\n"
     ]
    },
    {
     "ename": "NameError",
     "evalue": "name 'tv_l1_subpixel2' is not defined",
     "output_type": "error",
     "traceback": [
      "\u001b[0;31m---------------------------------------------------------------------------\u001b[0m",
      "\u001b[0;31mNameError\u001b[0m                                 Traceback (most recent call last)",
      "\u001b[0;32m<ipython-input-8-5bede3153621>\u001b[0m in \u001b[0;36m<module>\u001b[0;34m\u001b[0m\n\u001b[1;32m      2\u001b[0m \u001b[0;31m#for ii in range(5):\u001b[0m\u001b[0;34m\u001b[0m\u001b[0;34m\u001b[0m\u001b[0;34m\u001b[0m\u001b[0m\n\u001b[1;32m      3\u001b[0m \u001b[0;31m#    tv1_pxl, tv1_pxl_id, shift_list, shift = multi_resolutin_tv_reg(fixed_img, img, levs=4, wz=10, step=0.2)\u001b[0m\u001b[0;34m\u001b[0m\u001b[0;34m\u001b[0m\u001b[0;34m\u001b[0m\u001b[0m\n\u001b[0;32m----> 4\u001b[0;31m \u001b[0mtv1_pxl\u001b[0m\u001b[0;34m,\u001b[0m \u001b[0mtv1_pxl_id\u001b[0m\u001b[0;34m,\u001b[0m \u001b[0mshift_list\u001b[0m\u001b[0;34m,\u001b[0m \u001b[0mshift\u001b[0m \u001b[0;34m=\u001b[0m \u001b[0mmulti_resolutin_tv_reg2\u001b[0m\u001b[0;34m(\u001b[0m\u001b[0mfixed_img\u001b[0m\u001b[0;34m,\u001b[0m \u001b[0mimg\u001b[0m\u001b[0;34m,\u001b[0m \u001b[0mlevs\u001b[0m\u001b[0;34m=\u001b[0m\u001b[0;36m5\u001b[0m\u001b[0;34m,\u001b[0m \u001b[0mwz\u001b[0m\u001b[0;34m=\u001b[0m\u001b[0;36m20\u001b[0m\u001b[0;34m,\u001b[0m \u001b[0mstep\u001b[0m\u001b[0;34m=\u001b[0m\u001b[0;36m0.2\u001b[0m\u001b[0;34m)\u001b[0m\u001b[0;34m\u001b[0m\u001b[0;34m\u001b[0m\u001b[0m\n\u001b[0m\u001b[1;32m      5\u001b[0m \u001b[0mprint\u001b[0m\u001b[0;34m(\u001b[0m\u001b[0mtime\u001b[0m\u001b[0;34m.\u001b[0m\u001b[0masctime\u001b[0m\u001b[0;34m(\u001b[0m\u001b[0;34m)\u001b[0m\u001b[0;34m)\u001b[0m\u001b[0;34m\u001b[0m\u001b[0;34m\u001b[0m\u001b[0m\n",
      "\u001b[0;32m<ipython-input-7-b23e38a864f1>\u001b[0m in \u001b[0;36mmulti_resolutin_tv_reg2\u001b[0;34m(fixed_img, img, levs, wz, step)\u001b[0m\n\u001b[1;32m    101\u001b[0m     \u001b[0;31m# with mp.Pool(int(n_cpu/2)) as pool:\u001b[0m\u001b[0;34m\u001b[0m\u001b[0;34m\u001b[0m\u001b[0;34m\u001b[0m\u001b[0m\n\u001b[1;32m    102\u001b[0m     \u001b[0;32mwith\u001b[0m \u001b[0mmp\u001b[0m\u001b[0;34m.\u001b[0m\u001b[0mget_context\u001b[0m\u001b[0;34m(\u001b[0m\u001b[0;34m'spawn'\u001b[0m\u001b[0;34m)\u001b[0m\u001b[0;34m.\u001b[0m\u001b[0mPool\u001b[0m\u001b[0;34m(\u001b[0m\u001b[0mint\u001b[0m\u001b[0;34m(\u001b[0m\u001b[0mn_cpu\u001b[0m\u001b[0;34m/\u001b[0m\u001b[0;36m2\u001b[0m\u001b[0;34m)\u001b[0m\u001b[0;34m)\u001b[0m \u001b[0;32mas\u001b[0m \u001b[0mpool\u001b[0m\u001b[0;34m:\u001b[0m\u001b[0;34m\u001b[0m\u001b[0;34m\u001b[0m\u001b[0m\n\u001b[0;32m--> 103\u001b[0;31m         rlt = pool.starmap(tv_l1_subpixel2, [(fixed_img, img, step*(jj//w-int(w/2))+shift[:(levs-1), 0].sum(), \n\u001b[0m\u001b[1;32m    104\u001b[0m                                               step*(jj%w-int(w/2))+shift[:(levs-1), 1].sum()) for jj in np.int32(np.arange(w**2))])\n\u001b[1;32m    105\u001b[0m     \u001b[0mpool\u001b[0m\u001b[0;34m.\u001b[0m\u001b[0mclose\u001b[0m\u001b[0;34m(\u001b[0m\u001b[0;34m)\u001b[0m\u001b[0;34m\u001b[0m\u001b[0;34m\u001b[0m\u001b[0m\n",
      "\u001b[0;31mNameError\u001b[0m: name 'tv_l1_subpixel2' is not defined"
     ]
    }
   ],
   "source": [
    "print(time.asctime())\n",
    "#for ii in range(5):\n",
    "#    tv1_pxl, tv1_pxl_id, shift_list, shift = multi_resolutin_tv_reg(fixed_img, img, levs=4, wz=10, step=0.2)\n",
    "tv1_pxl, tv1_pxl_id, shift_list, shift = multi_resolutin_tv_reg2(fixed_img, img, levs=5, wz=20, step=0.2)\n",
    "print(time.asctime())"
   ]
  },
  {
   "cell_type": "code",
   "execution_count": null,
   "metadata": {},
   "outputs": [],
   "source": []
  }
 ],
 "metadata": {
  "kernelspec": {
   "display_name": "Python 3",
   "language": "python",
   "name": "python3"
  },
  "language_info": {
   "codemirror_mode": {
    "name": "ipython",
    "version": 3
   },
   "file_extension": ".py",
   "mimetype": "text/x-python",
   "name": "python",
   "nbconvert_exporter": "python",
   "pygments_lexer": "ipython3",
   "version": "3.7.8"
  }
 },
 "nbformat": 4,
 "nbformat_minor": 4
}
