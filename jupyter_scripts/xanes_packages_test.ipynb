{
 "cells": [
  {
   "cell_type": "code",
   "execution_count": 1,
   "metadata": {},
   "outputs": [
    {
     "name": "stderr",
     "output_type": "stream",
     "text": [
      "[numexpr.utils] INFO : Note: NumExpr detected 24 cores but \"NUMEXPR_MAX_THREADS\" not set, so enforcing safe limit of 8.\n",
      "[numexpr.utils] INFO : NumExpr defaulting to 8 threads.\n",
      "[dxchange.reader] WARNING : astropy module not found\n"
     ]
    }
   ],
   "source": [
    "%matplotlib qt\n",
    "from importlib import reload\n",
    "import xanes_analysis as xa\n",
    "xa = reload(xa)\n",
    "import xanes_math as xm\n",
    "xm = reload(xm)\n",
    "import xanes_spectra_filters as xsf\n",
    "xsf = reload(xsf)\n",
    "import numpy as np\n",
    "import h5py, os\n",
    "import multiprocess as mp\n",
    "import matplotlib.pyplot as plt"
   ]
  },
  {
   "cell_type": "code",
   "execution_count": 2,
   "metadata": {},
   "outputs": [],
   "source": [
    "fn = '/media/xiao_usb/3D_trial_reg_scan_id_29773-29873_2020-06-01-20-38-09.h5'\n",
    "f = h5py.File(fn, 'r')\n",
    "data = f['/registration_results/reg_results/registered_xanes3D'][:, 0, 50:200, 420:550]\n",
    "#data = f['/registration_results/reg_results/registered_xanes3D'][:, 0, :, :]*1e4\n",
    "eng = f['/registration_results/reg_results/eng_list'][:]*1e3\n",
    "f.close()"
   ]
  },
  {
   "cell_type": "markdown",
   "metadata": {},
   "source": [
    "# ***xanes_spectra_filters***"
   ]
  },
  {
   "cell_type": "code",
   "execution_count": 9,
   "metadata": {},
   "outputs": [
    {
     "data": {
      "text/plain": [
       "[<matplotlib.lines.Line2D at 0x7fb0f6e75090>]"
      ]
     },
     "execution_count": 9,
     "metadata": {},
     "output_type": "execute_result"
    }
   ],
   "source": [
    "plt.plot(eng, data[:, 50:70, 70:90].sum(axis=(1,2)))"
   ]
  },
  {
   "cell_type": "code",
   "execution_count": 3,
   "metadata": {},
   "outputs": [],
   "source": [
    "xatest = xa.xanes_analysis(data, eng, 8348,\n",
    "                           pre_es=None, pre_ee=-50,\n",
    "                           post_es=100, post_ee=None,\n",
    "                           edge_jump_threshold=3,\n",
    "                           pre_edge_threshold=3)"
   ]
  },
  {
   "cell_type": "code",
   "execution_count": 41,
   "metadata": {},
   "outputs": [],
   "source": [
    "xatest.fit_pre_edge()\n",
    "xatest.fit_post_edge()\n",
    "xatest.cal_pre_edge_sd()\n",
    "xatest.cal_post_edge_sd()\n",
    "xatest.cal_pre_edge_mean()\n",
    "xatest.cal_post_edge_mean()"
   ]
  },
  {
   "cell_type": "code",
   "execution_count": 15,
   "metadata": {},
   "outputs": [
    {
     "name": "stdout",
     "output_type": "stream",
     "text": [
      "(2, 150, 130)\n",
      "(101, 150, 130)\n"
     ]
    }
   ],
   "source": [
    "print(xatest.post_edge_fit_coef.shape)\n",
    "print(xatest.spectrum.shape)"
   ]
  },
  {
   "cell_type": "code",
   "execution_count": 24,
   "metadata": {},
   "outputs": [],
   "source": [
    "preedge_fit = xsf.cal_pre_edge_fit(eng, xatest.pre_edge_fit_coef)\n",
    "postedge_fit = xsf.cal_post_edge_fit(eng, xatest.post_edge_fit_coef)"
   ]
  },
  {
   "cell_type": "code",
   "execution_count": 27,
   "metadata": {},
   "outputs": [],
   "source": [
    "jump = xsf.cal_post_edge_fit(np.array([xatest.preset_edge_eng]), xatest.post_edge_fit_coef) - \\\n",
    "       xsf.cal_pre_edge_fit(np.array([xatest.preset_edge_eng]), xatest.pre_edge_fit_coef)"
   ]
  },
  {
   "cell_type": "code",
   "execution_count": 28,
   "metadata": {},
   "outputs": [
    {
     "name": "stdout",
     "output_type": "stream",
     "text": [
      "(101, 150, 130)\n",
      "(101,)\n",
      "(150, 130)\n"
     ]
    }
   ],
   "source": [
    "print(preedge_fit.shape)\n",
    "print(eng.shape)\n",
    "print(jump.shape)\n"
   ]
  },
  {
   "cell_type": "code",
   "execution_count": 34,
   "metadata": {},
   "outputs": [
    {
     "data": {
      "text/plain": [
       "<matplotlib.image.AxesImage at 0x7fdd1430b710>"
      ]
     },
     "execution_count": 34,
     "metadata": {},
     "output_type": "execute_result"
    }
   ],
   "source": [
    "plt.figure(1)\n",
    "plt.imshow(jump)\n",
    "plt.figure(2)\n",
    "plt.imshow(xatest.pre_edge_sd_map)"
   ]
  },
  {
   "cell_type": "code",
   "execution_count": 19,
   "metadata": {},
   "outputs": [
    {
     "name": "stdout",
     "output_type": "stream",
     "text": [
      "[-2.43115389e-07  1.96475630e-03]\n",
      "[ 1.16017121 -1.14612614]\n",
      "(101, 2)\n"
     ]
    }
   ],
   "source": [
    "print(xatest.post_edge_fit_coef[:, 0, 0])\n",
    "print(preedge_fit[:, 0,0])\n",
    "print((np.vstack((eng, np.ones(eng.shape[0]))).T).shape)"
   ]
  },
  {
   "cell_type": "code",
   "execution_count": 14,
   "metadata": {},
   "outputs": [],
   "source": [
    "t0 = (xatest.pre_edge_fit_coef * \n",
    "(np.vstack((eng, np.ones(eng.shape[0]))).T)\n",
    " [:, :, np.newaxis, np.newaxis]).sum(axis=1)\n",
    "\n",
    "t1 = (xatest.post_edge_fit_coef * \n",
    "(np.vstack((eng, np.ones(eng.shape[0]))).T)\n",
    " [:, :, np.newaxis, np.newaxis]).sum(axis=1)"
   ]
  },
  {
   "cell_type": "code",
   "execution_count": 21,
   "metadata": {},
   "outputs": [
    {
     "data": {
      "text/plain": [
       "(101, 150, 130)"
      ]
     },
     "execution_count": 21,
     "metadata": {},
     "output_type": "execute_result"
    }
   ],
   "source": [
    "t.shape"
   ]
  },
  {
   "cell_type": "code",
   "execution_count": 18,
   "metadata": {},
   "outputs": [
    {
     "data": {
      "text/plain": [
       "[<matplotlib.lines.Line2D at 0x7fdd1c0b4150>]"
      ]
     },
     "execution_count": 18,
     "metadata": {},
     "output_type": "execute_result"
    }
   ],
   "source": [
    "plt.plot(eng, t0[:, 50:55, 70:75].mean(axis=(1,2)))\n",
    "plt.plot(eng, t1[:, 50:55, 70:75].mean(axis=(1,2)))\n",
    "plt.plot(eng, xatest.spectrum[:, 50:55, 70:75].mean(axis=(1,2)))"
   ]
  },
  {
   "cell_type": "code",
   "execution_count": 20,
   "metadata": {},
   "outputs": [
    {
     "name": "stdout",
     "output_type": "stream",
     "text": [
      "8212.0029296875 8298 8448 8348\n"
     ]
    }
   ],
   "source": [
    "print(xatest.pre_es, xatest.pre_ee, xatest.post_es, xatest.preset_edge_eng)"
   ]
  },
  {
   "cell_type": "code",
   "execution_count": 25,
   "metadata": {},
   "outputs": [
    {
     "data": {
      "text/plain": [
       "[<matplotlib.lines.Line2D at 0x7fdd145c5cd0>]"
      ]
     },
     "execution_count": 25,
     "metadata": {},
     "output_type": "execute_result"
    }
   ],
   "source": [
    "plt.plot(eng, preedge_fit[:, 50:55, 70:75].mean(axis=(1,2)))\n",
    "plt.plot(eng, postedge_fit[:, 50:55, 70:75].mean(axis=(1,2)))\n",
    "plt.plot(eng, xatest.spectrum[:, 50:55, 70:75].mean(axis=(1,2)))"
   ]
  },
  {
   "cell_type": "code",
   "execution_count": 42,
   "metadata": {},
   "outputs": [],
   "source": [
    "t2 = xsf.edge_jump_filter(np.array([xatest.preset_edge_eng]), xatest.pre_edge_fit_coef, xatest.post_edge_fit_coef, \n",
    "                          xatest.pre_edge_sd_map, xatest.edge_jump_threshold)"
   ]
  },
  {
   "cell_type": "code",
   "execution_count": 45,
   "metadata": {},
   "outputs": [
    {
     "data": {
      "text/plain": [
       "<matplotlib.image.AxesImage at 0x7fdd14226490>"
      ]
     },
     "execution_count": 45,
     "metadata": {},
     "output_type": "execute_result"
    }
   ],
   "source": [
    "plt.imshow(t2*data[50, :])"
   ]
  },
  {
   "cell_type": "code",
   "execution_count": 72,
   "metadata": {},
   "outputs": [],
   "source": [
    "t3 = xsf.fitted_edges_filter(eng, xatest.pre_edge_fit_coef, xatest.post_edge_fit_coef,\n",
    "                             xatest.pre_edge_sd_map, xatest.pre_edge_threshold)"
   ]
  },
  {
   "cell_type": "code",
   "execution_count": 73,
   "metadata": {},
   "outputs": [
    {
     "name": "stdout",
     "output_type": "stream",
     "text": [
      "(150, 130)\n"
     ]
    },
    {
     "data": {
      "text/plain": [
       "<matplotlib.image.AxesImage at 0x7fdd0c0c2b90>"
      ]
     },
     "execution_count": 73,
     "metadata": {},
     "output_type": "execute_result"
    }
   ],
   "source": [
    "print(t3.shape)\n",
    "plt.imshow(t3*data[50, :])"
   ]
  },
  {
   "cell_type": "code",
   "execution_count": 65,
   "metadata": {},
   "outputs": [],
   "source": [
    "mask = np.any((xsf.cal_post_edge_fit(eng, xatest.post_edge_fit_coef) -\n",
    "               xsf.cal_pre_edge_fit(eng, xatest.pre_edge_fit_coef)) \n",
    "                  > 6*xatest.pre_edge_sd_map, axis=0).astype(np.int8)"
   ]
  },
  {
   "cell_type": "code",
   "execution_count": 71,
   "metadata": {},
   "outputs": [
    {
     "name": "stdout",
     "output_type": "stream",
     "text": [
      "(150, 130)\n"
     ]
    }
   ],
   "source": [
    "print(mask.shape)"
   ]
  },
  {
   "cell_type": "code",
   "execution_count": 67,
   "metadata": {},
   "outputs": [
    {
     "data": {
      "text/plain": [
       "<matplotlib.image.AxesImage at 0x7fdd0c158c10>"
      ]
     },
     "execution_count": 67,
     "metadata": {},
     "output_type": "execute_result"
    }
   ],
   "source": [
    "plt.imshow(data[50, :]*mask*t2)"
   ]
  },
  {
   "cell_type": "markdown",
   "metadata": {},
   "source": [
    "# ***xanes.math***"
   ]
  },
  {
   "cell_type": "code",
   "execution_count": 3,
   "metadata": {},
   "outputs": [
    {
     "name": "stdout",
     "output_type": "stream",
     "text": [
      "Wed Jun 17 08:58:05 2020\n",
      "Wed Jun 17 08:58:15 2020\n"
     ]
    }
   ],
   "source": [
    "ids = list(np.arange(40, 54))\n",
    "rlt = xm.fit_peak_scipy(eng[ids], data[ids, :].reshape(len(ids), -1), 'lorentzian', (0.01, eng[46], 2), \n",
    "                        bnds=((-np.inf, eng[40], 0.01), (np.inf, eng[60], 100)), \n",
    "                        ftol = 1e-7, xtol = 1e-7, gtol = 1e-7,\n",
    "                        jac = '3-point', method = 'trf')"
   ]
  },
  {
   "cell_type": "code",
   "execution_count": 4,
   "metadata": {},
   "outputs": [
    {
     "name": "stdout",
     "output_type": "stream",
     "text": [
      "19500\n",
      "[-4.84895432e-04  8.34665279e+03  2.29731357e-01]\n"
     ]
    }
   ],
   "source": [
    "print(len(rlt))\n",
    "print(rlt[0].x)"
   ]
  },
  {
   "cell_type": "code",
   "execution_count": 18,
   "metadata": {},
   "outputs": [],
   "source": [
    "plt.figure(5)\n",
    "dim = data.shape\n",
    "xd = np.linspace(eng[ids][0], eng[ids][-1], eng[ids].shape[0]*100)\n",
    "for ii in range(55, 65):\n",
    "    for jj in range(70, 80):\n",
    "        idx = ii*dim[2]+jj\n",
    "        plt.plot(xd, xm.functions['lorentzian'](xd, rlt[idx].x[0], rlt[idx].x[1], rlt[idx].x[2]))\n",
    "        #plt.plot(eng[ids], data[ids, :][:, ii, jj])"
   ]
  },
  {
   "cell_type": "code",
   "execution_count": 29,
   "metadata": {},
   "outputs": [
    {
     "data": {
      "text/plain": [
       "[<matplotlib.lines.Line2D at 0x7fadf1bfecd0>]"
      ]
     },
     "execution_count": 29,
     "metadata": {},
     "output_type": "execute_result"
    }
   ],
   "source": [
    "plt.figure(6)\n",
    "#plt.plot(xd, xm.functions['lorentzian'](xd, rlt2[55:65, 70:80].x[0], rlt2[55:65, 70:80].x[1], rlt[idx].x[2]))\n",
    "plt.plot(eng[ids], data[ids, :][:, 55:65, 70:80].sum(axis=(1,2)))"
   ]
  },
  {
   "cell_type": "code",
   "execution_count": null,
   "metadata": {},
   "outputs": [],
   "source": [
    "rlt1 = np.array(rlt)\n",
    "print(rlt1.shape)\n",
    "rlt2 = np.array(rlt).reshape([dim[1], dim[2]])"
   ]
  },
  {
   "cell_type": "code",
   "execution_count": 14,
   "metadata": {},
   "outputs": [],
   "source": [
    "func = xm.functions['lorentzian']\n",
    "def find_peak(func, x, fvars):\n",
    "    return np.argmax(func(x, fvars[0], fvars[1], fvars[2]))\n",
    "\n",
    "xd = np.linspace(eng[ids][0], eng[ids][-1], eng[ids].shape[0]*100)\n",
    "n_cpu = os.cpu_count()\n",
    "with mp.Pool(n_cpu-1) as pool:\n",
    "    peaks = pool.starmap(find_peak, [(func, xd, rlt[ii].x) for ii in np.int32(np.arange(len(rlt)))])\n",
    "pool.close()\n",
    "pool.join()"
   ]
  },
  {
   "cell_type": "code",
   "execution_count": 38,
   "metadata": {},
   "outputs": [],
   "source": [
    "tem=list(xm.functions['lorentzian'](xd, rlt[0].x[0], rlt[0].x[1], rlt[0].x[2]))"
   ]
  },
  {
   "cell_type": "code",
   "execution_count": 9,
   "metadata": {},
   "outputs": [
    {
     "name": "stdout",
     "output_type": "stream",
     "text": [
      "19500\n"
     ]
    },
    {
     "data": {
      "text/plain": [
       "<matplotlib.image.AxesImage at 0x7f3806d20b50>"
      ]
     },
     "execution_count": 9,
     "metadata": {},
     "output_type": "execute_result"
    }
   ],
   "source": [
    "print(len(peaks))\n",
    "dim = data.shape\n",
    "plt.imshow(np.array(peaks).reshape([dim[1], dim[2]]))"
   ]
  },
  {
   "cell_type": "code",
   "execution_count": 12,
   "metadata": {},
   "outputs": [
    {
     "name": "stdout",
     "output_type": "stream",
     "text": [
      "Wed Jun 17 09:19:54 2020\n",
      "Wed Jun 17 09:19:55 2020\n",
      "(1400,)\n"
     ]
    }
   ],
   "source": [
    "xd = np.linspace(eng[ids][0], eng[ids][-1], eng[ids].shape[0]*100)\n",
    "peaks = xm.find_peak_map('lorentzian', xd, rlt)\n",
    "print(xd.shape)"
   ]
  },
  {
   "cell_type": "code",
   "execution_count": 13,
   "metadata": {},
   "outputs": [
    {
     "name": "stdout",
     "output_type": "stream",
     "text": [
      "19500\n"
     ]
    },
    {
     "data": {
      "text/plain": [
       "<matplotlib.image.AxesImage at 0x7f3806a850d0>"
      ]
     },
     "execution_count": 13,
     "metadata": {},
     "output_type": "execute_result"
    }
   ],
   "source": [
    "print(len(peaks))\n",
    "dim = data.shape\n",
    "plt.imshow(np.array(peaks).reshape([dim[1], dim[2]]))"
   ]
  },
  {
   "cell_type": "code",
   "execution_count": 15,
   "metadata": {},
   "outputs": [
    {
     "name": "stdout",
     "output_type": "stream",
     "text": [
      "200000.0\n"
     ]
    }
   ],
   "source": [
    "co_xrf_per_ugcm2_per_ic = 0.00242 / 19\n",
    "ic = 50000\n",
    "a = 2e-5*(1e7/50) *ic \n",
    "print(a)"
   ]
  },
  {
   "cell_type": "code",
   "execution_count": 3,
   "metadata": {},
   "outputs": [],
   "source": [
    "with h5py.File('/media/Disk2/data/AIJUN_LI_Proposal_304474_June28_2019/2D_trial_reg_xanes_scan2_id_24164_2020-06-19-20-47-47.h5', 'r+') as f:\n",
    "    imgs = f['/registration_results/reg_results/registered_xanes2D'][:, 400:700, 400:700]\n",
    "    xanes2D_analysis_eng_list = f['/processed_XANES2D/proc_parameters/eng_list'][:]\n",
    "    xanes2D_analysis_edge_eng = f['/processed_XANES2D/proc_parameters/edge_eng'][()]\n",
    "    xanes2D_analysis_pre_edge_e = f['/processed_XANES2D/proc_parameters/pre_edge_e'][()]\n",
    "    xanes2D_analysis_post_edge_s = f['/processed_XANES2D/proc_parameters/post_edge_s'][()]\n",
    "    xanes2D_analysis_edge_jump_thres = f['/processed_XANES2D/proc_parameters/edge_jump_threshold'][()]\n",
    "    xanes2D_analysis_edge_offset_thres = f['/processed_XANES2D/proc_parameters/edge_offset_threshold'][()]\n",
    "    xanes2D_analysis_use_mask = f['/processed_XANES2D/proc_parameters/use_mask'][()]\n",
    "    xanes2D_analysis_type = f['/processed_XANES2D/proc_parameters/analysis_type'][()]\n",
    "    xanes2D_analysis_data_shape = f['/processed_XANES2D/proc_parameters/data_shape'][:]\n",
    "    xanes2D_analysis_edge_0p5_fit_s = f['/processed_XANES2D/proc_parameters/edge_0p5_fit_s'][()]\n",
    "    xanes2D_analysis_edge_0p5_fit_e = f['/processed_XANES2D/proc_parameters/edge_0p5_fit_e'][()]\n",
    "    xanes2D_analysis_wl_fit_eng_s = f['/processed_XANES2D/proc_parameters/wl_fit_eng_s'][()]\n",
    "    xanes2D_analysis_wl_fit_eng_e = f['/processed_XANES2D/proc_parameters/wl_fit_eng_e'][()]\n",
    "    xanes2D_analysis_use_flt_spec = f['/processed_XANES2D/proc_parameters/flt_spec'][()]\n",
    "    xanes2D_analysis_norm_fitting_order = f['/processed_XANES2D/proc_parameters/normalized_fitting_order'][()]\n",
    "    xana = xa.xanes_analysis(imgs, xanes2D_analysis_eng_list, xanes2D_analysis_edge_eng, pre_ee=xanes2D_analysis_pre_edge_e, post_es=xanes2D_analysis_post_edge_s, edge_jump_threshold=xanes2D_analysis_edge_jump_thres, pre_edge_threshold=xanes2D_analysis_edge_offset_thres)\n"
   ]
  },
  {
   "cell_type": "code",
   "execution_count": 4,
   "metadata": {},
   "outputs": [
    {
     "name": "stdout",
     "output_type": "stream",
     "text": [
      "Sat Jun 20 19:56:22 2020\n",
      "Sat Jun 20 19:57:19 2020\n",
      "Sat Jun 20 19:57:19 2020\n",
      "Sat Jun 20 19:57:24 2020\n"
     ]
    }
   ],
   "source": [
    "rlt = xana.fit_whiteline(xanes2D_analysis_wl_fit_eng_s, xanes2D_analysis_wl_fit_eng_e, model='lorentzian', \n",
    "                   fvars=(0.5, xanes2D_analysis_wl_fit_eng_s, 1), bnds=None, ftol=1e-7, xtol=1e-7, gtol=1e-7, \n",
    "                   jac='3-point', method='trf', ufac=100)"
   ]
  },
  {
   "cell_type": "code",
   "execution_count": 7,
   "metadata": {},
   "outputs": [
    {
     "name": "stdout",
     "output_type": "stream",
     "text": [
      "(300, 300)\n"
     ]
    }
   ],
   "source": [
    "#rlt1 = np.array(rlt).reshape(imgs.shape[1:])\n",
    "print(xana.peak_map.shape)"
   ]
  },
  {
   "cell_type": "code",
   "execution_count": 11,
   "metadata": {},
   "outputs": [
    {
     "name": "stdout",
     "output_type": "stream",
     "text": [
      "Sat Jun 20 16:09:57 2020\n",
      "Sat Jun 20 16:11:15 2020\n"
     ]
    }
   ],
   "source": [
    "eng = np.linspace(xanes2D_analysis_eng_list[45], xanes2D_analysis_eng_list[53], 800)\n",
    "peak_mp = xm.find_peak_map('lorentzian', eng, rlt)"
   ]
  },
  {
   "cell_type": "code",
   "execution_count": 18,
   "metadata": {},
   "outputs": [],
   "source": [
    "p = np.array(peak_mp).reshape(imgs.shape[1:])"
   ]
  },
  {
   "cell_type": "code",
   "execution_count": 9,
   "metadata": {},
   "outputs": [
    {
     "data": {
      "text/plain": [
       "<matplotlib.image.AxesImage at 0x7fc6f81a2890>"
      ]
     },
     "execution_count": 9,
     "metadata": {},
     "output_type": "execute_result"
    }
   ],
   "source": [
    "plt.imshow(xana.peak_map)"
   ]
  },
  {
   "cell_type": "markdown",
   "metadata": {},
   "source": [
    "# ***xanes_analysis***"
   ]
  },
  {
   "cell_type": "code",
   "execution_count": 4,
   "metadata": {},
   "outputs": [],
   "source": [
    "xatest.find_e0()"
   ]
  },
  {
   "cell_type": "code",
   "execution_count": 5,
   "metadata": {},
   "outputs": [
    {
     "data": {
      "text/plain": [
       "<matplotlib.image.AxesImage at 0x7fbfce56d810>"
      ]
     },
     "execution_count": 5,
     "metadata": {},
     "output_type": "execute_result"
    }
   ],
   "source": [
    "plt.imshow(xatest.auto_e0)"
   ]
  },
  {
   "cell_type": "code",
   "execution_count": null,
   "metadata": {},
   "outputs": [],
   "source": []
  }
 ],
 "metadata": {
  "kernelspec": {
   "display_name": "Python 3",
   "language": "python",
   "name": "python3"
  },
  "language_info": {
   "codemirror_mode": {
    "name": "ipython",
    "version": 3
   },
   "file_extension": ".py",
   "mimetype": "text/x-python",
   "name": "python",
   "nbconvert_exporter": "python",
   "pygments_lexer": "ipython3",
   "version": "3.7.4"
  }
 },
 "nbformat": 4,
 "nbformat_minor": 4
}
