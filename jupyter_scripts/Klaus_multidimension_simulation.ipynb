{
 "cells": [
  {
   "cell_type": "markdown",
   "metadata": {},
   "source": [
    "Klauss tomo simulation"
   ]
  },
  {
   "cell_type": "code",
   "execution_count": 2,
   "metadata": {},
   "outputs": [],
   "source": [
    "import numpy as np\n",
    "import numpy.random as nr\n",
    "import scipy.stats as ss\n",
    "import tifffile, os\n",
    "import multiprocess as mp\n",
    "from numba import jit, prange\n",
    "from dask import delayed"
   ]
  },
  {
   "cell_type": "code",
   "execution_count": 4,
   "metadata": {
    "collapsed": true,
    "jupyter": {
     "outputs_hidden": true
    }
   },
   "outputs": [
    {
     "ename": "TypeError",
     "evalue": "'numpy.uint8' object is not iterable",
     "output_type": "error",
     "traceback": [
      "\u001b[0;31m---------------------------------------------------------------------------\u001b[0m",
      "\u001b[0;31mRemoteTraceback\u001b[0m                           Traceback (most recent call last)",
      "\u001b[0;31mRemoteTraceback\u001b[0m: \n\"\"\"\nTraceback (most recent call last):\n  File \"/home/xiao/software/anaconda3/envs/py37play/lib/python3.7/site-packages/multiprocess/pool.py\", line 121, in worker\n    result = (True, func(*args, **kwds))\n  File \"/home/xiao/software/anaconda3/envs/py37play/lib/python3.7/site-packages/multiprocess/pool.py\", line 47, in starmapstar\n    return list(itertools.starmap(args[0], args[1]))\nTypeError: 'numpy.uint8' object is not iterable\n\"\"\"",
      "\nThe above exception was the direct cause of the following exception:\n",
      "\u001b[0;31mTypeError\u001b[0m                                 Traceback (most recent call last)",
      "\u001b[0;32m<ipython-input-4-b9dfb13b3a27>\u001b[0m in \u001b[0;36m<module>\u001b[0;34m\u001b[0m\n\u001b[1;32m     62\u001b[0m \u001b[0mdim\u001b[0m \u001b[0;34m=\u001b[0m \u001b[0mdata\u001b[0m\u001b[0;34m.\u001b[0m\u001b[0mshape\u001b[0m\u001b[0;34m\u001b[0m\u001b[0;34m\u001b[0m\u001b[0m\n\u001b[1;32m     63\u001b[0m \u001b[0;32mwith\u001b[0m \u001b[0mmp\u001b[0m\u001b[0;34m.\u001b[0m\u001b[0mPool\u001b[0m\u001b[0;34m(\u001b[0m\u001b[0mn_cpu\u001b[0m\u001b[0;34m-\u001b[0m\u001b[0;36m1\u001b[0m\u001b[0;34m)\u001b[0m \u001b[0;32mas\u001b[0m \u001b[0mpool\u001b[0m\u001b[0;34m:\u001b[0m\u001b[0;34m\u001b[0m\u001b[0;34m\u001b[0m\u001b[0m\n\u001b[0;32m---> 64\u001b[0;31m     \u001b[0mrlt\u001b[0m \u001b[0;34m=\u001b[0m \u001b[0mpool\u001b[0m\u001b[0;34m.\u001b[0m\u001b[0mstarmap\u001b[0m\u001b[0;34m(\u001b[0m\u001b[0mdiscriminator\u001b[0m\u001b[0;34m,\u001b[0m \u001b[0;34m[\u001b[0m\u001b[0mdata\u001b[0m\u001b[0;34m[\u001b[0m\u001b[0mii\u001b[0m\u001b[0;34m]\u001b[0m \u001b[0;32mfor\u001b[0m \u001b[0mii\u001b[0m \u001b[0;32min\u001b[0m \u001b[0mrange\u001b[0m\u001b[0;34m(\u001b[0m\u001b[0mint\u001b[0m\u001b[0;34m(\u001b[0m\u001b[0;36m1e4\u001b[0m\u001b[0;34m)\u001b[0m\u001b[0;34m)\u001b[0m\u001b[0;34m]\u001b[0m\u001b[0;34m)\u001b[0m\u001b[0;34m\u001b[0m\u001b[0;34m\u001b[0m\u001b[0m\n\u001b[0m\u001b[1;32m     65\u001b[0m \u001b[0mpool\u001b[0m\u001b[0;34m.\u001b[0m\u001b[0mjoin\u001b[0m\u001b[0;34m(\u001b[0m\u001b[0;34m)\u001b[0m\u001b[0;34m\u001b[0m\u001b[0;34m\u001b[0m\u001b[0m\n\u001b[1;32m     66\u001b[0m \u001b[0mpool\u001b[0m\u001b[0;34m.\u001b[0m\u001b[0mclose\u001b[0m\u001b[0;34m(\u001b[0m\u001b[0;34m)\u001b[0m\u001b[0;34m\u001b[0m\u001b[0;34m\u001b[0m\u001b[0m\n",
      "\u001b[0;32m~/software/anaconda3/envs/py37play/lib/python3.7/site-packages/multiprocess/pool.py\u001b[0m in \u001b[0;36mstarmap\u001b[0;34m(self, func, iterable, chunksize)\u001b[0m\n\u001b[1;32m    274\u001b[0m         \u001b[0;31m`\u001b[0m\u001b[0mfunc\u001b[0m\u001b[0;31m`\u001b[0m \u001b[0;32mand\u001b[0m \u001b[0;34m(\u001b[0m\u001b[0ma\u001b[0m\u001b[0;34m,\u001b[0m \u001b[0mb\u001b[0m\u001b[0;34m)\u001b[0m \u001b[0mbecomes\u001b[0m \u001b[0mfunc\u001b[0m\u001b[0;34m(\u001b[0m\u001b[0ma\u001b[0m\u001b[0;34m,\u001b[0m \u001b[0mb\u001b[0m\u001b[0;34m)\u001b[0m\u001b[0;34m.\u001b[0m\u001b[0;34m\u001b[0m\u001b[0;34m\u001b[0m\u001b[0m\n\u001b[1;32m    275\u001b[0m         '''\n\u001b[0;32m--> 276\u001b[0;31m         \u001b[0;32mreturn\u001b[0m \u001b[0mself\u001b[0m\u001b[0;34m.\u001b[0m\u001b[0m_map_async\u001b[0m\u001b[0;34m(\u001b[0m\u001b[0mfunc\u001b[0m\u001b[0;34m,\u001b[0m \u001b[0miterable\u001b[0m\u001b[0;34m,\u001b[0m \u001b[0mstarmapstar\u001b[0m\u001b[0;34m,\u001b[0m \u001b[0mchunksize\u001b[0m\u001b[0;34m)\u001b[0m\u001b[0;34m.\u001b[0m\u001b[0mget\u001b[0m\u001b[0;34m(\u001b[0m\u001b[0;34m)\u001b[0m\u001b[0;34m\u001b[0m\u001b[0;34m\u001b[0m\u001b[0m\n\u001b[0m\u001b[1;32m    277\u001b[0m \u001b[0;34m\u001b[0m\u001b[0m\n\u001b[1;32m    278\u001b[0m     def starmap_async(self, func, iterable, chunksize=None, callback=None,\n",
      "\u001b[0;32m~/software/anaconda3/envs/py37play/lib/python3.7/site-packages/multiprocess/pool.py\u001b[0m in \u001b[0;36mget\u001b[0;34m(self, timeout)\u001b[0m\n\u001b[1;32m    655\u001b[0m             \u001b[0;32mreturn\u001b[0m \u001b[0mself\u001b[0m\u001b[0;34m.\u001b[0m\u001b[0m_value\u001b[0m\u001b[0;34m\u001b[0m\u001b[0;34m\u001b[0m\u001b[0m\n\u001b[1;32m    656\u001b[0m         \u001b[0;32melse\u001b[0m\u001b[0;34m:\u001b[0m\u001b[0;34m\u001b[0m\u001b[0;34m\u001b[0m\u001b[0m\n\u001b[0;32m--> 657\u001b[0;31m             \u001b[0;32mraise\u001b[0m \u001b[0mself\u001b[0m\u001b[0;34m.\u001b[0m\u001b[0m_value\u001b[0m\u001b[0;34m\u001b[0m\u001b[0;34m\u001b[0m\u001b[0m\n\u001b[0m\u001b[1;32m    658\u001b[0m \u001b[0;34m\u001b[0m\u001b[0m\n\u001b[1;32m    659\u001b[0m     \u001b[0;32mdef\u001b[0m \u001b[0m_set\u001b[0m\u001b[0;34m(\u001b[0m\u001b[0mself\u001b[0m\u001b[0;34m,\u001b[0m \u001b[0mi\u001b[0m\u001b[0;34m,\u001b[0m \u001b[0mobj\u001b[0m\u001b[0;34m)\u001b[0m\u001b[0;34m:\u001b[0m\u001b[0;34m\u001b[0m\u001b[0;34m\u001b[0m\u001b[0m\n",
      "\u001b[0;32m~/software/anaconda3/envs/py37play/lib/python3.7/site-packages/multiprocess/pool.py\u001b[0m in \u001b[0;36mworker\u001b[0;34m()\u001b[0m\n\u001b[1;32m    119\u001b[0m         \u001b[0mjob\u001b[0m\u001b[0;34m,\u001b[0m \u001b[0mi\u001b[0m\u001b[0;34m,\u001b[0m \u001b[0mfunc\u001b[0m\u001b[0;34m,\u001b[0m \u001b[0margs\u001b[0m\u001b[0;34m,\u001b[0m \u001b[0mkwds\u001b[0m \u001b[0;34m=\u001b[0m \u001b[0mtask\u001b[0m\u001b[0;34m\u001b[0m\u001b[0;34m\u001b[0m\u001b[0m\n\u001b[1;32m    120\u001b[0m         \u001b[0;32mtry\u001b[0m\u001b[0;34m:\u001b[0m\u001b[0;34m\u001b[0m\u001b[0;34m\u001b[0m\u001b[0m\n\u001b[0;32m--> 121\u001b[0;31m             \u001b[0mresult\u001b[0m \u001b[0;34m=\u001b[0m \u001b[0;34m(\u001b[0m\u001b[0;32mTrue\u001b[0m\u001b[0;34m,\u001b[0m \u001b[0mfunc\u001b[0m\u001b[0;34m(\u001b[0m\u001b[0;34m*\u001b[0m\u001b[0margs\u001b[0m\u001b[0;34m,\u001b[0m \u001b[0;34m**\u001b[0m\u001b[0mkwds\u001b[0m\u001b[0;34m)\u001b[0m\u001b[0;34m)\u001b[0m\u001b[0;34m\u001b[0m\u001b[0;34m\u001b[0m\u001b[0m\n\u001b[0m\u001b[1;32m    122\u001b[0m         \u001b[0;32mexcept\u001b[0m \u001b[0mException\u001b[0m \u001b[0;32mas\u001b[0m \u001b[0me\u001b[0m\u001b[0;34m:\u001b[0m\u001b[0;34m\u001b[0m\u001b[0;34m\u001b[0m\u001b[0m\n\u001b[1;32m    123\u001b[0m             \u001b[0;32mif\u001b[0m \u001b[0mwrap_exception\u001b[0m \u001b[0;32mand\u001b[0m \u001b[0mfunc\u001b[0m \u001b[0;32mis\u001b[0m \u001b[0;32mnot\u001b[0m \u001b[0m_helper_reraises_exception\u001b[0m\u001b[0;34m:\u001b[0m\u001b[0;34m\u001b[0m\u001b[0;34m\u001b[0m\u001b[0m\n",
      "\u001b[0;32m~/software/anaconda3/envs/py37play/lib/python3.7/site-packages/multiprocess/pool.py\u001b[0m in \u001b[0;36mstarmapstar\u001b[0;34m()\u001b[0m\n\u001b[1;32m     45\u001b[0m \u001b[0;34m\u001b[0m\u001b[0m\n\u001b[1;32m     46\u001b[0m \u001b[0;32mdef\u001b[0m \u001b[0mstarmapstar\u001b[0m\u001b[0;34m(\u001b[0m\u001b[0margs\u001b[0m\u001b[0;34m)\u001b[0m\u001b[0;34m:\u001b[0m\u001b[0;34m\u001b[0m\u001b[0;34m\u001b[0m\u001b[0m\n\u001b[0;32m---> 47\u001b[0;31m     \u001b[0;32mreturn\u001b[0m \u001b[0mlist\u001b[0m\u001b[0;34m(\u001b[0m\u001b[0mitertools\u001b[0m\u001b[0;34m.\u001b[0m\u001b[0mstarmap\u001b[0m\u001b[0;34m(\u001b[0m\u001b[0margs\u001b[0m\u001b[0;34m[\u001b[0m\u001b[0;36m0\u001b[0m\u001b[0;34m]\u001b[0m\u001b[0;34m,\u001b[0m \u001b[0margs\u001b[0m\u001b[0;34m[\u001b[0m\u001b[0;36m1\u001b[0m\u001b[0;34m]\u001b[0m\u001b[0;34m)\u001b[0m\u001b[0;34m)\u001b[0m\u001b[0;34m\u001b[0m\u001b[0;34m\u001b[0m\u001b[0m\n\u001b[0m\u001b[1;32m     48\u001b[0m \u001b[0;34m\u001b[0m\u001b[0m\n\u001b[1;32m     49\u001b[0m \u001b[0;31m#\u001b[0m\u001b[0;34m\u001b[0m\u001b[0;34m\u001b[0m\u001b[0;34m\u001b[0m\u001b[0m\n",
      "\u001b[0;31mTypeError\u001b[0m: 'numpy.uint8' object is not iterable"
     ]
    }
   ],
   "source": [
    "\n",
    "\n",
    "\"\"\"\n",
    "    This script is for simulating multi-dimensional data for Klaus. The raw 3D\n",
    "    is grabbed from https://www.digitalrocksportal.org/projects/6\n",
    "    The 3D data is cropped from the original data.\n",
    "\"\"\"\n",
    "######### numba\n",
    "ph1_cen = 41\n",
    "ph1_std = 11\n",
    "\n",
    "ph2_cen = 68\n",
    "ph2_std = 9.5\n",
    "\n",
    "ph3_cen = 82\n",
    "ph3_std = 9.3\n",
    "\n",
    "ph4_cen = 141\n",
    "ph4_std = 9.2\n",
    "\n",
    "y_p1 = ss.norm(ph1_cen, ph1_std).pdf\n",
    "y_p2 = ss.norm(ph2_cen, ph2_std).pdf\n",
    "y_p3 = ss.norm(ph3_cen, ph3_std).pdf\n",
    "y_p4 = ss.norm(ph4_cen, ph4_std).pdf\n",
    "\n",
    "p = np.ndarray([4])\n",
    "\n",
    "#@jit\n",
    "def ratio(gray_val):   \n",
    "    p[0] = y_p1(gray_val)\n",
    "    p[1] = y_p2(gray_val)\n",
    "    p[2] = y_p3(gray_val)\n",
    "    p[3] = y_p4(gray_val)\n",
    "    ps = p.sum()\n",
    "    #return (p[:i].sum()/ps for i in range(4))\n",
    "    p0 = p[:1].sum()/ps\n",
    "    p1 = p[:2].sum()/ps\n",
    "    p2 = p[:3].sum()/ps\n",
    "    p3 = p[:4].sum()/ps\n",
    "    return p0, p1, p2, p3\n",
    "\n",
    "#@jit\n",
    "def discriminator(gray_val):\n",
    "    c1 = 0\n",
    "    c2 = 0 \n",
    "    c3 = 0\n",
    "    c4 = 0\n",
    "    p1, p2, p3, p4 = ratio(gray_val)\n",
    "    for ii in prange(100):\n",
    "        seat = nr.random()\n",
    "        if seat<p1:\n",
    "            c1 += 1\n",
    "        elif seat<p2:\n",
    "            c2 += 1\n",
    "        elif seat<p3:\n",
    "            c3 += 1\n",
    "        else:\n",
    "            c4 += 1\n",
    "    return c1, c2, c3, c4\n",
    "\n",
    "\n",
    "data = tifffile.imread(\"/media/xiao_usb/originating/256x256x256.tif\").reshape([-1])\n",
    "n_cpu = os.cpu_count()\n",
    "dim = data.shape\n",
    "with mp.Pool(n_cpu-1) as pool:\n",
    "    rlt = pool.starmap(discriminator, [data[ii] for ii in range(int(1e4))])\n",
    "pool.join()\n",
    "pool.close()\n",
    "\n",
    "rlt = []\n",
    "for ii in prange(dim[0]):\n",
    "    rlt.append(discriminator(data[ii]))"
   ]
  },
  {
   "cell_type": "code",
   "execution_count": null,
   "metadata": {},
   "outputs": [],
   "source": [
    "a = [data[ii] for ii in range(int(1e4))]\n",
    "print(type(a))\n",
    "dir(tuple.__iter__)"
   ]
  },
  {
   "cell_type": "code",
   "execution_count": null,
   "metadata": {
    "jupyter": {
     "source_hidden": true
    }
   },
   "outputs": [],
   "source": [
    "########## dask\n",
    "ph1_cen = 41\n",
    "ph1_std = 11\n",
    "\n",
    "ph2_cen = 68\n",
    "ph2_std = 9.5\n",
    "\n",
    "ph3_cen = 82\n",
    "ph3_std = 9.3\n",
    "\n",
    "ph4_cen = 141\n",
    "ph4_std = 9.2\n",
    "\n",
    "y_p1 = ss.norm(ph1_cen, ph1_std).pdf\n",
    "y_p2 = ss.norm(ph2_cen, ph2_std).pdf\n",
    "y_p3 = ss.norm(ph3_cen, ph3_std).pdf\n",
    "y_p4 = ss.norm(ph4_cen, ph4_std).pdf\n",
    "\n",
    "p = np.ndarray([4])\n",
    "\n",
    "def ratio(gray_val):   \n",
    "    p[0] = y_p1(gray_val)\n",
    "    p[1] = y_p2(gray_val)\n",
    "    p[2] = y_p3(gray_val)\n",
    "    p[3] = y_p4(gray_val)\n",
    "    ps = p.sum()\n",
    "    #return (p[:i].sum()/ps for i in range(4))\n",
    "    p0 = p[:1].sum()/ps\n",
    "    p1 = p[:2].sum()/ps\n",
    "    p2 = p[:3].sum()/ps\n",
    "    p3 = p[:4].sum()/ps\n",
    "    return p0, p1, p2, p3\n",
    "\n",
    "def discriminator(gray_val):\n",
    "    c1 = 0\n",
    "    c2 = 0 \n",
    "    c3 = 0\n",
    "    c4 = 0\n",
    "    p1, p2, p3, p4 = ratio(gray_val)\n",
    "    #for ii in prange(100):\n",
    "    seat = nr.random()\n",
    "    if seat<p1:\n",
    "        c1 += 1\n",
    "    elif seat<p2:\n",
    "        c2 += 1\n",
    "    elif seat<p3:\n",
    "        c3 += 1\n",
    "    else:\n",
    "        c4 += 1\n",
    "    return c1, c2, c3, c4\n",
    "\n",
    "\n",
    "data = tifffile.imread(\"/media/xiao_usb/originating/256x256x256.tif\").reshape([-1])\n",
    "n_cpu = os.cpu_count()\n",
    "dim = data.shape\n",
    "print(dim)\n",
    "\n",
    "\n",
    "results = []\n",
    "for ii in range(dim[0]):\n",
    "    rlt = delayed(discriminator)(data[ii])\n",
    "    results.append(rlt)\n",
    "dask.compute(*results)"
   ]
  },
  {
   "cell_type": "code",
   "execution_count": 1,
   "metadata": {},
   "outputs": [],
   "source": [
    "import numpy as np\n",
    "import numpy.random as nr\n",
    "import scipy.stats as ss\n",
    "import tifffile, os, time\n",
    "import multiprocess as mp"
   ]
  },
  {
   "cell_type": "code",
   "execution_count": 61,
   "metadata": {
    "jupyter": {
     "source_hidden": true
    }
   },
   "outputs": [
    {
     "name": "stdout",
     "output_type": "stream",
     "text": [
      "(16777216,) 96\n",
      "Fri Jun 12 23:03:07 2020\n",
      "Fri Jun 12 23:34:40 2020\n",
      "16777216\n"
     ]
    }
   ],
   "source": [
    "########## multiprocess\n",
    "\n",
    "\"\"\"\n",
    "    This script is for simulating multi-dimensional data for Klaus. The raw 3D\n",
    "    is grabbed from https://www.digitalrocksportal.org/projects/6\n",
    "    The 3D data is cropped from the original data.\n",
    "\"\"\"\n",
    "\n",
    "ph1_cen = 41\n",
    "ph1_std = 11\n",
    "\n",
    "ph2_cen = 68\n",
    "ph2_std = 9.5\n",
    "\n",
    "ph3_cen = 82\n",
    "ph3_std = 9.3\n",
    "\n",
    "ph4_cen = 141\n",
    "ph4_std = 9.2\n",
    "\n",
    "y_p1 = ss.norm(ph1_cen, ph1_std).pdf\n",
    "y_p2 = ss.norm(ph2_cen, ph2_std).pdf\n",
    "y_p3 = ss.norm(ph3_cen, ph3_std).pdf\n",
    "y_p4 = ss.norm(ph4_cen, ph4_std).pdf\n",
    "\n",
    "p = np.ndarray([4])\n",
    "\n",
    "def ratio(gray_val):   \n",
    "    p[0] = y_p1(gray_val)\n",
    "    p[1] = y_p2(gray_val)\n",
    "    p[2] = y_p3(gray_val)\n",
    "    p[3] = y_p4(gray_val)\n",
    "    ps = p.sum()\n",
    "    # print(ps)\n",
    "    return list(p[:i].sum()/ps for i in range(1, 5))\n",
    "    \n",
    "def discriminator(gray_val):\n",
    "    c1 = c2 = c3 = c4 = 0\n",
    "    p1, p2, p3, p4 = ratio(gray_val)\n",
    "    for ii in range(1000):\n",
    "        seat = nr.random()\n",
    "        if seat<p1:\n",
    "            c1 += 1\n",
    "        elif seat<p2:\n",
    "            c2 += 1\n",
    "        elif seat<p3:\n",
    "            c3 += 1\n",
    "        else:\n",
    "            c4 += 1\n",
    "    return c1, c2, c3, c4\n",
    "    # return nr.random()\n",
    "\n",
    "# if __name__ == \"__main__\":\n",
    "data = tifffile.imread(\"/media/xiao_usb/originating/256x256x256.tif\").reshape([-1])\n",
    "n_cpu = os.cpu_count()\n",
    "dim = data.shape\n",
    "print(data.shape, data[100])\n",
    "results = []\n",
    "\n",
    "print(time.asctime())\n",
    "with mp.Pool(maxtasksperchild=10) as pool:\n",
    "    rlt = pool.map(discriminator, [data[ii] for ii in np.int32(np.arange(dim[0]))])\n",
    "    # results.append(rlt)\n",
    "    # print(rlt)       \n",
    "pool.close()\n",
    "pool.join()\n",
    "\n",
    "print(time.asctime())\n",
    "print(len(rlt))"
   ]
  },
  {
   "cell_type": "code",
   "execution_count": 47,
   "metadata": {},
   "outputs": [
    {
     "name": "stdout",
     "output_type": "stream",
     "text": [
      "[0.0, 0.001110046443019528, 0.31166018420855524, 0.9999999997976192]\n",
      "6.759626871616375e-05\n",
      "(0, 8, 559, 433)\n"
     ]
    }
   ],
   "source": [
    "\n",
    "print(ratio(80))\n",
    "print(y_p1(80))\n",
    "print(rlt[11910600])"
   ]
  },
  {
   "cell_type": "code",
   "execution_count": 62,
   "metadata": {},
   "outputs": [],
   "source": [
    "results2 = np.array(rlt).reshape([256, 256, 256, 4])"
   ]
  },
  {
   "cell_type": "code",
   "execution_count": 63,
   "metadata": {},
   "outputs": [],
   "source": [
    "tifffile.imsave(\"/media/xiao_usb/originating/channel1.tif\", results2[:, :, :, 0].astype(np.float32))\n",
    "tifffile.imsave(\"/media/xiao_usb/originating/channel2.tif\", results2[:, :, :, 1].astype(np.float32))\n",
    "tifffile.imsave(\"/media/xiao_usb/originating/channel3.tif\", results2[:, :, :, 2].astype(np.float32))\n",
    "tifffile.imsave(\"/media/xiao_usb/originating/channel4.tif\", results2[:, :, :, 3].astype(np.float32))"
   ]
  },
  {
   "cell_type": "code",
   "execution_count": 57,
   "metadata": {},
   "outputs": [
    {
     "data": {
      "text/plain": [
       "<matplotlib.image.AxesImage at 0x7f01bc343450>"
      ]
     },
     "execution_count": 57,
     "metadata": {},
     "output_type": "execute_result"
    }
   ],
   "source": [
    "%matplotlib qt\n",
    "import matplotlib.pyplot as plt\n",
    "import napari\n",
    "plt.imshow(results2[:, :, 0, 0])"
   ]
  },
  {
   "cell_type": "code",
   "execution_count": 58,
   "metadata": {
    "collapsed": true,
    "jupyter": {
     "outputs_hidden": true
    }
   },
   "outputs": [
    {
     "name": "stderr",
     "output_type": "stream",
     "text": [
      "WARNING: OpenGL version 2.1 or higher recommended, got 1.4 (2.1 Mesa 13.0.2). Some functionality may fail.\n",
      "WARNING: Error drawing visual <Image at 0x7f019d0d1310>\n",
      "WARNING: Error drawing visual <Image at 0x7f019d0d1310>\n",
      "WARNING: Error drawing visual <Image at 0x7f019d0d1310>\n",
      "WARNING: Error drawing visual <Image at 0x7f019d0d1310>\n",
      "WARNING: Error drawing visual <Image at 0x7f019d0d1310>\n",
      "WARNING: Error drawing visual <Image at 0x7f019d0d1310>\n",
      "WARNING: Error drawing visual <Image at 0x7f019d0d1310>\n",
      "WARNING: Error drawing visual <Image at 0x7f019d0d1310>\n",
      "WARNING: Error drawing visual <Image at 0x7f019d0d1310>\n",
      "WARNING: Error drawing visual <Image at 0x7f019d0d1310>\n",
      "WARNING: Error drawing visual <Image at 0x7f019d0d1310>\n",
      "WARNING: Error drawing visual <Image at 0x7f019d0d1310>\n",
      "WARNING: Error drawing visual <Image at 0x7f019d0d1310>\n",
      "WARNING: Error drawing visual <Image at 0x7f019d0d1310>\n",
      "WARNING: Error drawing visual <Image at 0x7f019d0d1310>\n",
      "WARNING: Error drawing visual <Image at 0x7f019d0d1310>\n",
      "WARNING: Error drawing visual <Image at 0x7f019d0d1310>\n",
      "WARNING: Error drawing visual <Image at 0x7f019d0d1310>\n",
      "WARNING: Error drawing visual <Image at 0x7f019d0d1310>\n",
      "WARNING: Error drawing visual <Image at 0x7f019d0d1310>\n",
      "WARNING: Error drawing visual <Image at 0x7f019d0d1310>\n",
      "WARNING: Error drawing visual <Image at 0x7f019d0d1310>\n",
      "WARNING: Error drawing visual <Image at 0x7f019d0d1310>\n",
      "WARNING: Error drawing visual <Image at 0x7f019d0d1310>\n",
      "WARNING: Error drawing visual <Image at 0x7f019d0d1310>\n",
      "WARNING: Error drawing visual <Image at 0x7f019d0d1310>\n",
      "WARNING: Error drawing visual <Image at 0x7f019d0d1310>\n",
      "WARNING: Error drawing visual <Image at 0x7f019d0d1310>\n",
      "WARNING: Error drawing visual <Image at 0x7f019d0d1310>\n",
      "WARNING: Error drawing visual <Image at 0x7f019d0d1310>\n",
      "WARNING: Error drawing visual <Image at 0x7f019d0d1310>\n",
      "WARNING: Error drawing visual <Image at 0x7f019d0d1310>\n",
      "WARNING: Error drawing visual <Image at 0x7f019d0d1310>\n",
      "WARNING: Error drawing visual <Image at 0x7f019d0d1310>\n",
      "WARNING: Error drawing visual <Image at 0x7f019d0d1310>\n",
      "WARNING: Error drawing visual <Image at 0x7f019d0d1310>\n",
      "WARNING: Error drawing visual <Image at 0x7f019d0d1310>\n",
      "WARNING: Error drawing visual <Image at 0x7f019d0d1310>\n",
      "WARNING: Error drawing visual <Image at 0x7f019d0d1310>\n",
      "WARNING: Error drawing visual <Image at 0x7f019d0d1310>\n",
      "WARNING: Error drawing visual <Image at 0x7f019d0d1310>\n",
      "WARNING: Error drawing visual <Image at 0x7f019d0d1310>\n",
      "WARNING: Error drawing visual <Image at 0x7f019d0d1310>\n",
      "WARNING: Error drawing visual <Image at 0x7f019d0d1310>\n",
      "WARNING: Error drawing visual <Image at 0x7f019d0d1310>\n",
      "WARNING: Error drawing visual <Image at 0x7f019d0d1310>\n",
      "WARNING: Error drawing visual <Image at 0x7f019d0d1310>\n",
      "WARNING: Error drawing visual <Image at 0x7f019d0d1310>\n",
      "WARNING: Error drawing visual <Image at 0x7f019d0d1310>\n",
      "WARNING: Error drawing visual <Image at 0x7f019d0d1310>\n",
      "WARNING: Error drawing visual <Image at 0x7f019d0d1310>\n",
      "WARNING: Error drawing visual <Image at 0x7f019d0d1310>\n",
      "WARNING: Error drawing visual <Image at 0x7f019d0d1310>\n",
      "WARNING: Error drawing visual <Image at 0x7f019d0d1310>\n",
      "WARNING: Error drawing visual <Image at 0x7f019d0d1310>\n",
      "WARNING: Error drawing visual <Image at 0x7f019d0d1310>\n",
      "WARNING: Error drawing visual <Image at 0x7f019d0d1310>\n",
      "WARNING: Error drawing visual <Image at 0x7f019d0d1310>\n",
      "WARNING: Error drawing visual <Image at 0x7f019d0d1310>\n",
      "WARNING: Error drawing visual <Image at 0x7f019d0d1310>\n",
      "WARNING: Error drawing visual <Image at 0x7f019d0d1310>\n",
      "WARNING: Error drawing visual <Image at 0x7f019d0d1310>\n",
      "WARNING: Error drawing visual <Image at 0x7f019d0d1310>\n",
      "WARNING: Error drawing visual <Image at 0x7f019d0d1310>\n",
      "WARNING: Error drawing visual <Volume at 0x7f0181aba710>\n",
      "WARNING: Error drawing visual <Volume at 0x7f0181aba710>\n",
      "WARNING: Error drawing visual <Volume at 0x7f0181aba710>\n",
      "WARNING: Error drawing visual <Volume at 0x7f0181aba710>\n"
     ]
    }
   ],
   "source": [
    "with napari.gui_qt():\n",
    "    napari.view_image(results2)"
   ]
  },
  {
   "cell_type": "code",
   "execution_count": null,
   "metadata": {},
   "outputs": [],
   "source": [
    "(16777216,) 96\n",
    "Fri Jun 12 21:50:17 2020\n",
    "Fri Jun 12 21:50:24 2020\n",
    "100000\n",
    "\n",
    "(16777216,) 96\n",
    "Fri Jun 12 21:51:12 2020\n",
    "Fri Jun 12 21:51:18 2020\n",
    "100000\n",
    "\n",
    "\n",
    "\n",
    "(16777216,) 96\n",
    "Fri Jun 12 21:09:54 2020\n",
    "Fri Jun 12 21:22:50 2020\n",
    "16777216"
   ]
  },
  {
   "cell_type": "code",
   "execution_count": 128,
   "metadata": {},
   "outputs": [
    {
     "name": "stdout",
     "output_type": "stream",
     "text": [
      "(2,)\n",
      "(100, 2)\n",
      "(100, 2)\n",
      "(100,)\n",
      "(2, 1000, 1000)\n",
      "(100, 1000, 1000)\n"
     ]
    }
   ],
   "source": [
    "a = np.array([2, 1], dtype=np.float32)\n",
    "b = np.tile(a[:, np.newaxis, np.newaxis], [1, 1000, 1000])\n",
    "c = np.tile(np.arange(100).astype(np.float32)[:, np.newaxis], [1, 2])\n",
    "\n",
    "e = (a * c)\n",
    "e1 = (a * c).sum(axis=1)\n",
    "#d = (b * c[:, :, np.newaxis, np.newaxis, np.newaxis])\n",
    "d1 = (b * c[:, :, np.newaxis, np.newaxis]).sum(axis=1)\n",
    "\n",
    "\n",
    "print(a.shape)\n",
    "print(c.shape)\n",
    "print(e.shape)\n",
    "#print(e[:, :, ...])\n",
    "print(e1.shape)\n",
    "\n",
    "print(b.shape)\n",
    "#print(d.shape)\n",
    "print(d1.shape)\n",
    "\n"
   ]
  },
  {
   "cell_type": "code",
   "execution_count": 134,
   "metadata": {},
   "outputs": [
    {
     "data": {
      "text/plain": [
       "(10, 2)"
      ]
     },
     "execution_count": 134,
     "metadata": {},
     "output_type": "execute_result"
    }
   ],
   "source": [
    "np.vstack((np.ones([10])*2, np.ones([10]))).T.shape"
   ]
  },
  {
   "cell_type": "code",
   "execution_count": 136,
   "metadata": {},
   "outputs": [
    {
     "data": {
      "text/plain": [
       "(1000, 1000)"
      ]
     },
     "execution_count": 136,
     "metadata": {},
     "output_type": "execute_result"
    }
   ],
   "source": [
    "d1.sum(axis=0).shape"
   ]
  },
  {
   "cell_type": "markdown",
   "metadata": {},
   "source": []
  }
 ],
 "metadata": {
  "kernelspec": {
   "display_name": "Python 3",
   "language": "python",
   "name": "python3"
  },
  "language_info": {
   "codemirror_mode": {
    "name": "ipython",
    "version": 3
   },
   "file_extension": ".py",
   "mimetype": "text/x-python",
   "name": "python",
   "nbconvert_exporter": "python",
   "pygments_lexer": "ipython3",
   "version": "3.7.4"
  }
 },
 "nbformat": 4,
 "nbformat_minor": 4
}
