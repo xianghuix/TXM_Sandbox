{
 "cells": [
  {
   "cell_type": "markdown",
   "metadata": {},
   "source": [
    "# **Section 1: `Load Modules`**"
   ]
  },
  {
   "cell_type": "code",
   "execution_count": 1,
   "metadata": {},
   "outputs": [
    {
     "name": "stdout",
     "output_type": "stream",
     "text": [
      "\u001b[04m\u001b[01m\u001b[34m     Section 1 finished     \n"
     ]
    }
   ],
   "source": [
    "%matplotlib qt\n",
    "from ipywidgets import widgets, Button, Layout\n",
    "from ipyfilechooser import FileChooser\n",
    "from IPython.display import display\n",
    "\n",
    "from scipy.ndimage import gaussian_filter\n",
    "import xanes_regtools as xr\n",
    "import xanes_image_utils as xiu\n",
    "import matplotlib.pyplot as plt\n",
    "import h5py, tifffile, sys, os, shutil\n",
    "import numpy as np\n",
    "import skimage.morphology as skm\n",
    "import scipy.ndimage as spn\n",
    "from copy import deepcopy\n",
    "from pathlib import Path\n",
    "from importlib import reload\n",
    "xr = reload(xr)\n",
    "xiu = reload(xiu)\n",
    "plt.rcParams['figure.figsize'] = [14, 8]\n",
    "\n",
    "import scyjava_config\n",
    "import imagej\n",
    "try:\n",
    "    scyjava_config.add_options('-Xmx20g')\n",
    "    ij = imagej.init('/home/xiao/software/Fiji.app', headless=False)\n",
    "    ijui = ij.ui()\n",
    "    ijui.showUI()\n",
    "except:\n",
    "    print('ImageJ is already up running!')\n",
    "    \n",
    "from jnius import autoclass\n",
    "WindowManager = autoclass('ij.WindowManager')\n",
    "\n",
    "def fiji_close_all(ips=None):\n",
    "    if ips is None:\n",
    "        imp = WindowManager.getCurrentImage()\n",
    "        while imp is not None:\n",
    "            imp.close()\n",
    "            imp = WindowManager.getCurrentImage()\n",
    "    else:\n",
    "        for ip in ips:\n",
    "            ip.close()\n",
    "print('\\033[04m\\033[01m\\033[34m     Section 1 finished     ') "
   ]
  },
  {
   "cell_type": "markdown",
   "metadata": {},
   "source": [
    "# **Section 2: `User Inputs`**"
   ]
  },
  {
   "cell_type": "code",
   "execution_count": 2,
   "metadata": {},
   "outputs": [
    {
     "name": "stdout",
     "output_type": "stream",
     "text": [
      "\u001b[04m\u001b[01m\u001b[34m     Section 2 finished     \n"
     ]
    }
   ],
   "source": [
    "# raw h5 file top directory\n",
    "raw_h5_top_dir = '/media/XIAOUSB1/BNL_FXI_Sept2019_YujingBi_EnyuanHu/' \n",
    "# recon_top_dir is where the recon folders are\n",
    "recon_top_dir = '/media/XIAOUSB1/BNL_FXI_Sept2019_YujingBi_EnyuanHu/' \n",
    "# trial registration save file name\n",
    "trial_reg_save_file = 'xanes3D_trial_reg_results_29773_new.h5'\n",
    "# these are [y_start, y_end, x_start, x_end]\n",
    "roi = [370, 370+440, 660, 660+240]\n",
    "# alignment section by section; sometime, you may see an abrupt misalignment between two chunks. You may try \n",
    "# different chunk_sz to correct such misalignment.\n",
    "chunk_sz = 7\n",
    "# scan id start\n",
    "scan_id_s = 29773\n",
    "# scan_id_end\n",
    "scan_id_e = 29873\n",
    "# reference scan\n",
    "fixed_scan_id = 29823\n",
    "# use_anchor: if fixed_scan will be used as an anchor for entire serires alignment\n",
    "use_anchor = True\n",
    "\n",
    "# if using a mask in alignment calculation\n",
    "use_mask = True\n",
    "# threshold in making a mask\n",
    "mask_thres = 2e-3\n",
    "# dilation width for enlarge the mask\n",
    "mask_dilation = 10\n",
    "\n",
    "# the index of the reconstructed slice in the reconstruction of the scan with fixed_scan_id\n",
    "fixed_sli = 430\n",
    "# a range of slice indices of the reconstructed slices in the reconstruction of \n",
    "# the scan with moving_scan_id\n",
    "moving_sli_search_half_range = 30\n",
    "\n",
    "# 'sr','pc', 'mpc'  \n",
    "reg_method = 'mpc'\n",
    "# ref_mode can be 'single', or 'neighbor' \n",
    "ref_mode = 'single'\n",
    "\n",
    "trial_reg = None\n",
    "print('\\033[04m\\033[01m\\033[34m     Section 2 finished     ')   "
   ]
  },
  {
   "cell_type": "code",
   "execution_count": 72,
   "metadata": {
    "collapsed": true,
    "jupyter": {
     "outputs_hidden": true
    }
   },
   "outputs": [
    {
     "name": "stdout",
     "output_type": "stream",
     "text": [
      "Help on InstanceDict in module ipywidgets.widgets.trait_types object:\n",
      "\n",
      "class InstanceDict(traitlets.traitlets.Instance)\n",
      " |  An instance trait which coerces a dict to an instance.\n",
      " |  \n",
      " |  This lets the instance be specified as a dict, which is used\n",
      " |  to initialize the instance.\n",
      " |  \n",
      " |  Also, we default to a trivial instance, even if args and kwargs\n",
      " |  is not specified.\n",
      " |  \n",
      " |  Method resolution order:\n",
      " |      InstanceDict\n",
      " |      traitlets.traitlets.Instance\n",
      " |      traitlets.traitlets.ClassBasedTraitType\n",
      " |      traitlets.traitlets.TraitType\n",
      " |      traitlets.traitlets.BaseDescriptor\n",
      " |      builtins.object\n",
      " |  \n",
      " |  Methods defined here:\n",
      " |  \n",
      " |  make_dynamic_default(self)\n",
      " |  \n",
      " |  validate(self, obj, value)\n",
      " |  \n",
      " |  ----------------------------------------------------------------------\n",
      " |  Methods inherited from traitlets.traitlets.Instance:\n",
      " |  \n",
      " |  __init__(self, klass=None, args=None, kw=None, **kwargs)\n",
      " |      Construct an Instance trait.\n",
      " |      \n",
      " |      This trait allows values that are instances of a particular\n",
      " |      class or its subclasses.  Our implementation is quite different\n",
      " |      from that of enthough.traits as we don't allow instances to be used\n",
      " |      for klass and we handle the ``args`` and ``kw`` arguments differently.\n",
      " |      \n",
      " |      Parameters\n",
      " |      ----------\n",
      " |      klass : class, str\n",
      " |          The class that forms the basis for the trait.  Class names\n",
      " |          can also be specified as strings, like 'foo.bar.Bar'.\n",
      " |      args : tuple\n",
      " |          Positional arguments for generating the default value.\n",
      " |      kw : dict\n",
      " |          Keyword arguments for generating the default value.\n",
      " |      allow_none : bool [ default False ]\n",
      " |          Indicates whether None is allowed as a value.\n",
      " |      \n",
      " |      Notes\n",
      " |      -----\n",
      " |      If both ``args`` and ``kw`` are None, then the default value is None.\n",
      " |      If ``args`` is a tuple and ``kw`` is a dict, then the default is\n",
      " |      created as ``klass(*args, **kw)``.  If exactly one of ``args`` or ``kw`` is\n",
      " |      None, the None is replaced by ``()`` or ``{}``, respectively.\n",
      " |  \n",
      " |  default_value_repr(self)\n",
      " |  \n",
      " |  info(self)\n",
      " |  \n",
      " |  instance_init(self, obj)\n",
      " |      Part of the initialization which may depend on the underlying\n",
      " |      HasDescriptors instance.\n",
      " |      \n",
      " |      It is typically overloaded for specific types.\n",
      " |      \n",
      " |      This method is called by :meth:`HasTraits.__new__` and in the\n",
      " |      :meth:`BaseDescriptor.instance_init` method of descriptors holding\n",
      " |      other descriptors.\n",
      " |  \n",
      " |  ----------------------------------------------------------------------\n",
      " |  Data and other attributes inherited from traitlets.traitlets.Instance:\n",
      " |  \n",
      " |  klass = None\n",
      " |  \n",
      " |  ----------------------------------------------------------------------\n",
      " |  Methods inherited from traitlets.traitlets.ClassBasedTraitType:\n",
      " |  \n",
      " |  error(self, obj, value)\n",
      " |  \n",
      " |  ----------------------------------------------------------------------\n",
      " |  Methods inherited from traitlets.traitlets.TraitType:\n",
      " |  \n",
      " |  __get__(self, obj, cls=None)\n",
      " |      Get the value of the trait by self.name for the instance.\n",
      " |      \n",
      " |      Default values are instantiated when :meth:`HasTraits.__new__`\n",
      " |      is called.  Thus by the time this method gets called either the\n",
      " |      default value or a user defined value (they called :meth:`__set__`)\n",
      " |      is in the :class:`HasTraits` instance.\n",
      " |  \n",
      " |  __or__(self, other)\n",
      " |  \n",
      " |  __set__(self, obj, value)\n",
      " |      Set the value of the trait by self.name for the instance.\n",
      " |      \n",
      " |      Values pass through a validation stage where errors are raised when\n",
      " |      impropper types, or types that cannot be coerced, are encountered.\n",
      " |  \n",
      " |  get(self, obj, cls=None)\n",
      " |  \n",
      " |  get_default_value(self)\n",
      " |      DEPRECATED: Retrieve the static default value for this trait.\n",
      " |      \n",
      " |      Use self.default_value instead\n",
      " |  \n",
      " |  get_metadata(self, key, default=None)\n",
      " |      DEPRECATED: Get a metadata value.\n",
      " |      \n",
      " |      Use .metadata[key] or .metadata.get(key, default) instead.\n",
      " |  \n",
      " |  init_default_value(self, obj)\n",
      " |      DEPRECATED: Set the static default value for the trait type.\n",
      " |  \n",
      " |  set(self, obj, value)\n",
      " |  \n",
      " |  set_metadata(self, key, value)\n",
      " |      DEPRECATED: Set a metadata key/value.\n",
      " |      \n",
      " |      Use .metadata[key] = value instead.\n",
      " |  \n",
      " |  tag(self, **metadata)\n",
      " |      Sets metadata and returns self.\n",
      " |      \n",
      " |      This allows convenient metadata tagging when initializing the trait, such as:\n",
      " |      \n",
      " |      >>> Int(0).tag(config=True, sync=True)\n",
      " |  \n",
      " |  ----------------------------------------------------------------------\n",
      " |  Data and other attributes inherited from traitlets.traitlets.TraitType:\n",
      " |  \n",
      " |  allow_none = False\n",
      " |  \n",
      " |  default_value = traitlets.Undefined\n",
      " |  \n",
      " |  info_text = 'any value'\n",
      " |  \n",
      " |  metadata = {}\n",
      " |  \n",
      " |  read_only = False\n",
      " |  \n",
      " |  ----------------------------------------------------------------------\n",
      " |  Methods inherited from traitlets.traitlets.BaseDescriptor:\n",
      " |  \n",
      " |  class_init(self, cls, name)\n",
      " |      Part of the initialization which may depend on the underlying\n",
      " |      HasDescriptors class.\n",
      " |      \n",
      " |      It is typically overloaded for specific types.\n",
      " |      \n",
      " |      This method is called by :meth:`MetaHasDescriptors.__init__`\n",
      " |      passing the class (`cls`) and `name` under which the descriptor\n",
      " |      has been assigned.\n",
      " |  \n",
      " |  ----------------------------------------------------------------------\n",
      " |  Data descriptors inherited from traitlets.traitlets.BaseDescriptor:\n",
      " |  \n",
      " |  __dict__\n",
      " |      dictionary for instance variables (if defined)\n",
      " |  \n",
      " |  __weakref__\n",
      " |      list of weak references to the object (if defined)\n",
      " |  \n",
      " |  ----------------------------------------------------------------------\n",
      " |  Data and other attributes inherited from traitlets.traitlets.BaseDescriptor:\n",
      " |  \n",
      " |  name = None\n",
      " |  \n",
      " |  this_class = None\n",
      "\n"
     ]
    }
   ],
   "source": [
    "help(widgets.Button.layout)"
   ]
  },
  {
   "cell_type": "markdown",
   "metadata": {},
   "source": [
    "# **Section 3: `Calculate Displacement Amongst 3D Datasets`**"
   ]
  },
  {
   "cell_type": "code",
   "execution_count": null,
   "metadata": {},
   "outputs": [],
   "source": [
    "moving_sli_search_s = fixed_sli - moving_sli_search_half_range\n",
    "moving_sli_search_e = fixed_sli + moving_sli_search_half_range\n",
    "\n",
    "recon_path_template = recon_top_dir + 'recon_fly_scan_id_{0}/recon_fly_scan_id_{0}_{1}.tiff'\n",
    "ffn = recon_top_dir + 'recon_fly_scan_id_'+ str(fixed_scan_id) + \\\n",
    "      '/recon_fly_scan_id_' + str(fixed_scan_id) + '_' + str(fixed_sli).zfill(5) + '.tiff'\n",
    "fixed  = tifffile.imread(ffn)[roi[0]:roi[1], roi[2]:roi[3]]\n",
    "moving = np.ndarray([2*moving_sli_search_half_range, fixed.shape[0], fixed.shape[1]])\n",
    "\n",
    "if use_mask:\n",
    "    mask = skm.binary_dilation((fixed > mask_thres).astype(np.uint8),\n",
    "                               np.ones([mask_dilation,mask_dilation])).astype(np.uint8)\n",
    "    ijui.show(ij.py.to_java(mask))\n",
    "    ijui.show(ij.py.to_java(fixed))\n",
    "    ijui.show(ij.py.to_java(fixed*mask))"
   ]
  },
  {
   "cell_type": "code",
   "execution_count": null,
   "metadata": {},
   "outputs": [],
   "source": [
    "fiji_close_all()"
   ]
  },
  {
   "cell_type": "code",
   "execution_count": 5,
   "metadata": {
    "collapsed": true,
    "jupyter": {
     "outputs_hidden": true
    }
   },
   "outputs": [
    {
     "name": "stdout",
     "output_type": "stream",
     "text": [
      "/media/XIAOUSB1/BNL_FXI_Sept2019_YujingBi_EnyuanHu/\n"
     ]
    },
    {
     "ename": "OSError",
     "evalue": "Unable to open file (unable to open file: name = '/media/XIAOUSB1/BNL_FXI_Sept2019_YujingBi_EnyuanHu/fly_scan_id_29773.h5', errno = 2, error message = 'No such file or directory', flags = 0, o_flags = 0)",
     "output_type": "error",
     "traceback": [
      "\u001b[0;31m---------------------------------------------------------------------------\u001b[0m",
      "\u001b[0;31mOSError\u001b[0m                                   Traceback (most recent call last)",
      "\u001b[0;32m<ipython-input-5-e5232f85ee6e>\u001b[0m in \u001b[0;36m<module>\u001b[0;34m\u001b[0m\n\u001b[1;32m      2\u001b[0m \u001b[0mreg\u001b[0m\u001b[0;34m.\u001b[0m\u001b[0mset_method\u001b[0m\u001b[0;34m(\u001b[0m\u001b[0mreg_method\u001b[0m\u001b[0;34m)\u001b[0m\u001b[0;34m\u001b[0m\u001b[0;34m\u001b[0m\u001b[0m\n\u001b[1;32m      3\u001b[0m \u001b[0mreg\u001b[0m\u001b[0;34m.\u001b[0m\u001b[0mset_ref_mode\u001b[0m\u001b[0;34m(\u001b[0m\u001b[0mref_mode\u001b[0m\u001b[0;34m)\u001b[0m\u001b[0;34m\u001b[0m\u001b[0;34m\u001b[0m\u001b[0m\n\u001b[0;32m----> 4\u001b[0;31m \u001b[0mreg\u001b[0m\u001b[0;34m.\u001b[0m\u001b[0mcal_set_anchor\u001b[0m\u001b[0;34m(\u001b[0m\u001b[0mscan_id_s\u001b[0m\u001b[0;34m,\u001b[0m \u001b[0mscan_id_e\u001b[0m\u001b[0;34m,\u001b[0m \u001b[0mfixed_scan_id\u001b[0m\u001b[0;34m,\u001b[0m \u001b[0mraw_h5_top_dir\u001b[0m\u001b[0;34m=\u001b[0m\u001b[0mraw_h5_top_dir\u001b[0m\u001b[0;34m)\u001b[0m\u001b[0;34m\u001b[0m\u001b[0;34m\u001b[0m\u001b[0m\n\u001b[0m\u001b[1;32m      5\u001b[0m \u001b[0mreg\u001b[0m\u001b[0;34m.\u001b[0m\u001b[0mset_chunk_sz\u001b[0m\u001b[0;34m(\u001b[0m\u001b[0mchunk_sz\u001b[0m\u001b[0;34m)\u001b[0m\u001b[0;34m\u001b[0m\u001b[0;34m\u001b[0m\u001b[0m\n\u001b[1;32m      6\u001b[0m \u001b[0mreg\u001b[0m\u001b[0;34m.\u001b[0m\u001b[0mset_roi\u001b[0m\u001b[0;34m(\u001b[0m\u001b[0mroi\u001b[0m\u001b[0;34m)\u001b[0m\u001b[0;34m\u001b[0m\u001b[0;34m\u001b[0m\u001b[0m\n",
      "\u001b[0;32m~/software/anaconda3/user_packages/xanes_regtools.py\u001b[0m in \u001b[0;36mcal_set_anchor\u001b[0;34m(self, img_id_s, img_id_e, fixed_img_id, raw_h5_top_dir)\u001b[0m\n\u001b[1;32m    103\u001b[0m                 \u001b[0;32mfor\u001b[0m \u001b[0mii\u001b[0m \u001b[0;32min\u001b[0m \u001b[0mrange\u001b[0m\u001b[0;34m(\u001b[0m\u001b[0mimg_id_s\u001b[0m\u001b[0;34m,\u001b[0m \u001b[0mimg_id_e\u001b[0m\u001b[0;34m+\u001b[0m\u001b[0;36m1\u001b[0m\u001b[0;34m)\u001b[0m\u001b[0;34m:\u001b[0m\u001b[0;34m\u001b[0m\u001b[0;34m\u001b[0m\u001b[0m\n\u001b[1;32m    104\u001b[0m                     \u001b[0mfn\u001b[0m \u001b[0;34m=\u001b[0m \u001b[0mos\u001b[0m\u001b[0;34m.\u001b[0m\u001b[0mpath\u001b[0m\u001b[0;34m.\u001b[0m\u001b[0mjoin\u001b[0m\u001b[0;34m(\u001b[0m\u001b[0mraw_h5_top_dir\u001b[0m\u001b[0;34m,\u001b[0m \u001b[0;34m'fly_scan_id_{}.h5'\u001b[0m\u001b[0;34m.\u001b[0m\u001b[0mformat\u001b[0m\u001b[0;34m(\u001b[0m\u001b[0mii\u001b[0m\u001b[0;34m)\u001b[0m\u001b[0;34m)\u001b[0m\u001b[0;34m\u001b[0m\u001b[0;34m\u001b[0m\u001b[0m\n\u001b[0;32m--> 105\u001b[0;31m                     \u001b[0mf\u001b[0m \u001b[0;34m=\u001b[0m \u001b[0mh5py\u001b[0m\u001b[0;34m.\u001b[0m\u001b[0mFile\u001b[0m\u001b[0;34m(\u001b[0m\u001b[0mfn\u001b[0m\u001b[0;34m,\u001b[0m \u001b[0;34m'r'\u001b[0m\u001b[0;34m)\u001b[0m\u001b[0;34m\u001b[0m\u001b[0;34m\u001b[0m\u001b[0m\n\u001b[0m\u001b[1;32m    106\u001b[0m                     \u001b[0mself\u001b[0m\u001b[0;34m.\u001b[0m\u001b[0meng_list\u001b[0m\u001b[0;34m.\u001b[0m\u001b[0mappend\u001b[0m\u001b[0;34m(\u001b[0m\u001b[0mf\u001b[0m\u001b[0;34m[\u001b[0m\u001b[0;34m'X_eng'\u001b[0m\u001b[0;34m]\u001b[0m\u001b[0;34m[\u001b[0m\u001b[0;34m(\u001b[0m\u001b[0;34m)\u001b[0m\u001b[0;34m]\u001b[0m\u001b[0;34m)\u001b[0m\u001b[0;34m\u001b[0m\u001b[0;34m\u001b[0m\u001b[0m\n\u001b[1;32m    107\u001b[0m                     \u001b[0mf\u001b[0m\u001b[0;34m.\u001b[0m\u001b[0mclose\u001b[0m\u001b[0;34m(\u001b[0m\u001b[0;34m)\u001b[0m\u001b[0;34m\u001b[0m\u001b[0;34m\u001b[0m\u001b[0m\n",
      "\u001b[0;32m~/software/anaconda3/envs/py36/lib/python3.6/site-packages/h5py/_hl/files.py\u001b[0m in \u001b[0;36m__init__\u001b[0;34m(self, name, mode, driver, libver, userblock_size, swmr, rdcc_nslots, rdcc_nbytes, rdcc_w0, track_order, **kwds)\u001b[0m\n\u001b[1;32m    406\u001b[0m                 fid = make_fid(name, mode, userblock_size,\n\u001b[1;32m    407\u001b[0m                                \u001b[0mfapl\u001b[0m\u001b[0;34m,\u001b[0m \u001b[0mfcpl\u001b[0m\u001b[0;34m=\u001b[0m\u001b[0mmake_fcpl\u001b[0m\u001b[0;34m(\u001b[0m\u001b[0mtrack_order\u001b[0m\u001b[0;34m=\u001b[0m\u001b[0mtrack_order\u001b[0m\u001b[0;34m)\u001b[0m\u001b[0;34m,\u001b[0m\u001b[0;34m\u001b[0m\u001b[0;34m\u001b[0m\u001b[0m\n\u001b[0;32m--> 408\u001b[0;31m                                swmr=swmr)\n\u001b[0m\u001b[1;32m    409\u001b[0m \u001b[0;34m\u001b[0m\u001b[0m\n\u001b[1;32m    410\u001b[0m             \u001b[0;32mif\u001b[0m \u001b[0misinstance\u001b[0m\u001b[0;34m(\u001b[0m\u001b[0mlibver\u001b[0m\u001b[0;34m,\u001b[0m \u001b[0mtuple\u001b[0m\u001b[0;34m)\u001b[0m\u001b[0;34m:\u001b[0m\u001b[0;34m\u001b[0m\u001b[0;34m\u001b[0m\u001b[0m\n",
      "\u001b[0;32m~/software/anaconda3/envs/py36/lib/python3.6/site-packages/h5py/_hl/files.py\u001b[0m in \u001b[0;36mmake_fid\u001b[0;34m(name, mode, userblock_size, fapl, fcpl, swmr)\u001b[0m\n\u001b[1;32m    171\u001b[0m         \u001b[0;32mif\u001b[0m \u001b[0mswmr\u001b[0m \u001b[0;32mand\u001b[0m \u001b[0mswmr_support\u001b[0m\u001b[0;34m:\u001b[0m\u001b[0;34m\u001b[0m\u001b[0;34m\u001b[0m\u001b[0m\n\u001b[1;32m    172\u001b[0m             \u001b[0mflags\u001b[0m \u001b[0;34m|=\u001b[0m \u001b[0mh5f\u001b[0m\u001b[0;34m.\u001b[0m\u001b[0mACC_SWMR_READ\u001b[0m\u001b[0;34m\u001b[0m\u001b[0;34m\u001b[0m\u001b[0m\n\u001b[0;32m--> 173\u001b[0;31m         \u001b[0mfid\u001b[0m \u001b[0;34m=\u001b[0m \u001b[0mh5f\u001b[0m\u001b[0;34m.\u001b[0m\u001b[0mopen\u001b[0m\u001b[0;34m(\u001b[0m\u001b[0mname\u001b[0m\u001b[0;34m,\u001b[0m \u001b[0mflags\u001b[0m\u001b[0;34m,\u001b[0m \u001b[0mfapl\u001b[0m\u001b[0;34m=\u001b[0m\u001b[0mfapl\u001b[0m\u001b[0;34m)\u001b[0m\u001b[0;34m\u001b[0m\u001b[0;34m\u001b[0m\u001b[0m\n\u001b[0m\u001b[1;32m    174\u001b[0m     \u001b[0;32melif\u001b[0m \u001b[0mmode\u001b[0m \u001b[0;34m==\u001b[0m \u001b[0;34m'r+'\u001b[0m\u001b[0;34m:\u001b[0m\u001b[0;34m\u001b[0m\u001b[0;34m\u001b[0m\u001b[0m\n\u001b[1;32m    175\u001b[0m         \u001b[0mfid\u001b[0m \u001b[0;34m=\u001b[0m \u001b[0mh5f\u001b[0m\u001b[0;34m.\u001b[0m\u001b[0mopen\u001b[0m\u001b[0;34m(\u001b[0m\u001b[0mname\u001b[0m\u001b[0;34m,\u001b[0m \u001b[0mh5f\u001b[0m\u001b[0;34m.\u001b[0m\u001b[0mACC_RDWR\u001b[0m\u001b[0;34m,\u001b[0m \u001b[0mfapl\u001b[0m\u001b[0;34m=\u001b[0m\u001b[0mfapl\u001b[0m\u001b[0;34m)\u001b[0m\u001b[0;34m\u001b[0m\u001b[0;34m\u001b[0m\u001b[0m\n",
      "\u001b[0;32mh5py/_objects.pyx\u001b[0m in \u001b[0;36mh5py._objects.with_phil.wrapper\u001b[0;34m()\u001b[0m\n",
      "\u001b[0;32mh5py/_objects.pyx\u001b[0m in \u001b[0;36mh5py._objects.with_phil.wrapper\u001b[0;34m()\u001b[0m\n",
      "\u001b[0;32mh5py/h5f.pyx\u001b[0m in \u001b[0;36mh5py.h5f.open\u001b[0;34m()\u001b[0m\n",
      "\u001b[0;31mOSError\u001b[0m: Unable to open file (unable to open file: name = '/media/XIAOUSB1/BNL_FXI_Sept2019_YujingBi_EnyuanHu/fly_scan_id_29773.h5', errno = 2, error message = 'No such file or directory', flags = 0, o_flags = 0)"
     ]
    }
   ],
   "source": [
    "reg = xr.regtools(dtype='3D_XANES', method=reg_method, mode='TRANSLATION')\n",
    "reg.set_method(reg_method)\n",
    "reg.set_ref_mode(ref_mode)\n",
    "reg.cal_set_anchor(scan_id_s, scan_id_e, fixed_scan_id, raw_h5_top_dir=raw_h5_top_dir)\n",
    "reg.set_chunk_sz(chunk_sz)\n",
    "reg.set_roi(roi)\n",
    "if use_mask:\n",
    "    reg.use_mask = True\n",
    "    reg.set_mask(mask)\n",
    "reg.set_fixed_data(fixed)\n",
    "reg.set_3D_recon_path_template(recon_path_template)\n",
    "reg.set_saving(save_path=recon_top_dir, fn=trial_reg_save_file)\n",
    "reg.xanes3D_sli_search_half_range = moving_sli_search_half_range\n",
    "reg.xanes3D_recon_fixed_sli = fixed_sli\n",
    "reg.reg_xanes3D_chunk()\n",
    "print('\\033[04m\\033[01m\\033[34m     Section 3 finished     ') "
   ]
  },
  {
   "cell_type": "code",
   "execution_count": 3,
   "metadata": {},
   "outputs": [],
   "source": [
    "reg = xr.regtools(dtype='3D_XANES', method=reg_method, mode='TRANSLATION')\n",
    "reg.set_method(reg_method)\n",
    "reg.set_ref_mode(ref_mode)\n",
    "reg.cal_set_anchor(scan_id_s, scan_id_e, fixed_scan_id)\n",
    "reg.set_chunk_sz(chunk_sz)\n",
    "reg.set_roi(roi)\n",
    "reg._alignment_scheduler(dtype='2D_XANES')"
   ]
  },
  {
   "cell_type": "code",
   "execution_count": 4,
   "metadata": {
    "collapsed": true,
    "jupyter": {
     "outputs_hidden": true
    }
   },
   "outputs": [
    {
     "name": "stdout",
     "output_type": "stream",
     "text": [
      "[[50, 43], [43, 36], [36, 29], [29, 22], [22, 15], [15, 8], [8, 1], [50, 57], [57, 64], [64, 71], [71, 78], [78, 85], [85, 92], [92, 99], [99, 100], [1, 0], [8, 2], [8, 3], [8, 4], [8, 5], [8, 6], [8, 7], [15, 9], [15, 10], [15, 11], [15, 12], [15, 13], [15, 14], [22, 16], [22, 17], [22, 18], [22, 19], [22, 20], [22, 21], [29, 23], [29, 24], [29, 25], [29, 26], [29, 27], [29, 28], [36, 30], [36, 31], [36, 32], [36, 33], [36, 34], [36, 35], [43, 37], [43, 38], [43, 39], [43, 40], [43, 41], [43, 42], [50, 44], [50, 45], [50, 46], [50, 47], [50, 48], [50, 49], [57, 51], [57, 52], [57, 53], [57, 54], [57, 55], [57, 56], [64, 58], [64, 59], [64, 60], [64, 61], [64, 62], [64, 63], [71, 65], [71, 66], [71, 67], [71, 68], [71, 69], [71, 70], [78, 72], [78, 73], [78, 74], [78, 75], [78, 76], [78, 77], [85, 79], [85, 80], [85, 81], [85, 82], [85, 83], [85, 84], [92, 86], [92, 87], [92, 88], [92, 89], [92, 90], [92, 91], [99, 93], [99, 94], [99, 95], [99, 96], [99, 97], [99, 98], [100, 100], [50, 50]]\n",
      "0 \t [50 43] \t [29823 29816]\n",
      "1 \t [43 36] \t [29816 29809]\n",
      "2 \t [36 29] \t [29809 29802]\n",
      "3 \t [29 22] \t [29802 29795]\n",
      "4 \t [22 15] \t [29795 29788]\n",
      "5 \t [15  8] \t [29788 29781]\n",
      "6 \t [8 1] \t [29781 29774]\n",
      "7 \t [50 57] \t [29823 29830]\n",
      "8 \t [57 64] \t [29830 29837]\n",
      "9 \t [64 71] \t [29837 29844]\n",
      "10 \t [71 78] \t [29844 29851]\n",
      "11 \t [78 85] \t [29851 29858]\n",
      "12 \t [85 92] \t [29858 29865]\n",
      "13 \t [92 99] \t [29865 29872]\n",
      "14 \t [ 99 100] \t [29872 29873]\n",
      "15 \t [1 0] \t [29774 29773]\n",
      "16 \t [8 2] \t [29781 29775]\n",
      "17 \t [8 3] \t [29781 29776]\n",
      "18 \t [8 4] \t [29781 29777]\n",
      "19 \t [8 5] \t [29781 29778]\n",
      "20 \t [8 6] \t [29781 29779]\n",
      "21 \t [8 7] \t [29781 29780]\n",
      "22 \t [15  9] \t [29788 29782]\n",
      "23 \t [15 10] \t [29788 29783]\n",
      "24 \t [15 11] \t [29788 29784]\n",
      "25 \t [15 12] \t [29788 29785]\n",
      "26 \t [15 13] \t [29788 29786]\n",
      "27 \t [15 14] \t [29788 29787]\n",
      "28 \t [22 16] \t [29795 29789]\n",
      "29 \t [22 17] \t [29795 29790]\n",
      "30 \t [22 18] \t [29795 29791]\n",
      "31 \t [22 19] \t [29795 29792]\n",
      "32 \t [22 20] \t [29795 29793]\n",
      "33 \t [22 21] \t [29795 29794]\n",
      "34 \t [29 23] \t [29802 29796]\n",
      "35 \t [29 24] \t [29802 29797]\n",
      "36 \t [29 25] \t [29802 29798]\n",
      "37 \t [29 26] \t [29802 29799]\n",
      "38 \t [29 27] \t [29802 29800]\n",
      "39 \t [29 28] \t [29802 29801]\n",
      "40 \t [36 30] \t [29809 29803]\n",
      "41 \t [36 31] \t [29809 29804]\n",
      "42 \t [36 32] \t [29809 29805]\n",
      "43 \t [36 33] \t [29809 29806]\n",
      "44 \t [36 34] \t [29809 29807]\n",
      "45 \t [36 35] \t [29809 29808]\n",
      "46 \t [43 37] \t [29816 29810]\n",
      "47 \t [43 38] \t [29816 29811]\n",
      "48 \t [43 39] \t [29816 29812]\n",
      "49 \t [43 40] \t [29816 29813]\n",
      "50 \t [43 41] \t [29816 29814]\n",
      "51 \t [43 42] \t [29816 29815]\n",
      "52 \t [50 44] \t [29823 29817]\n",
      "53 \t [50 45] \t [29823 29818]\n",
      "54 \t [50 46] \t [29823 29819]\n",
      "55 \t [50 47] \t [29823 29820]\n",
      "56 \t [50 48] \t [29823 29821]\n",
      "57 \t [50 49] \t [29823 29822]\n",
      "58 \t [57 51] \t [29830 29824]\n",
      "59 \t [57 52] \t [29830 29825]\n",
      "60 \t [57 53] \t [29830 29826]\n",
      "61 \t [57 54] \t [29830 29827]\n",
      "62 \t [57 55] \t [29830 29828]\n",
      "63 \t [57 56] \t [29830 29829]\n",
      "64 \t [64 58] \t [29837 29831]\n",
      "65 \t [64 59] \t [29837 29832]\n",
      "66 \t [64 60] \t [29837 29833]\n",
      "67 \t [64 61] \t [29837 29834]\n",
      "68 \t [64 62] \t [29837 29835]\n",
      "69 \t [64 63] \t [29837 29836]\n",
      "70 \t [71 65] \t [29844 29838]\n",
      "71 \t [71 66] \t [29844 29839]\n",
      "72 \t [71 67] \t [29844 29840]\n",
      "73 \t [71 68] \t [29844 29841]\n",
      "74 \t [71 69] \t [29844 29842]\n",
      "75 \t [71 70] \t [29844 29843]\n",
      "76 \t [78 72] \t [29851 29845]\n",
      "77 \t [78 73] \t [29851 29846]\n",
      "78 \t [78 74] \t [29851 29847]\n",
      "79 \t [78 75] \t [29851 29848]\n",
      "80 \t [78 76] \t [29851 29849]\n",
      "81 \t [78 77] \t [29851 29850]\n",
      "82 \t [85 79] \t [29858 29852]\n",
      "83 \t [85 80] \t [29858 29853]\n",
      "84 \t [85 81] \t [29858 29854]\n",
      "85 \t [85 82] \t [29858 29855]\n",
      "86 \t [85 83] \t [29858 29856]\n",
      "87 \t [85 84] \t [29858 29857]\n",
      "88 \t [92 86] \t [29865 29859]\n",
      "89 \t [92 87] \t [29865 29860]\n",
      "90 \t [92 88] \t [29865 29861]\n",
      "91 \t [92 89] \t [29865 29862]\n",
      "92 \t [92 90] \t [29865 29863]\n",
      "93 \t [92 91] \t [29865 29864]\n",
      "94 \t [99 93] \t [29872 29866]\n",
      "95 \t [99 94] \t [29872 29867]\n",
      "96 \t [99 95] \t [29872 29868]\n",
      "97 \t [99 96] \t [29872 29869]\n",
      "98 \t [99 97] \t [29872 29870]\n",
      "99 \t [99 98] \t [29872 29871]\n",
      "100 \t [100 100] \t [29873 29873]\n",
      "101 \t [50 50] \t [29823 29823]\n"
     ]
    }
   ],
   "source": [
    "print(reg.alignment_pair)\n",
    "cnt = 0\n",
    "for ii in reg.alignment_pair:\n",
    "    print(cnt, '\\t', np.array(ii), '\\t', scan_id_s+np.array(ii))\n",
    "    cnt += 1"
   ]
  },
  {
   "cell_type": "code",
   "execution_count": 5,
   "metadata": {
    "collapsed": true,
    "jupyter": {
     "outputs_hidden": true
    }
   },
   "outputs": [
    {
     "name": "stdout",
     "output_type": "stream",
     "text": [
      "50 [50, 50]\n",
      "/trial_registration/trial_reg_results/101/shift101\n",
      "[[0, 1], [1, 1], [2, 1], [3, 1], [4, 1], [5, 1], [6, 1], [7, 1], [8, 1], [9, 1], [10, 1], [11, 1], [12, 1], [13, 1], [14, 1], [15, 1], [16, 1], [17, 1], [18, 1], [19, 1], [20, 1], [21, 1], [22, 1], [23, 1], [24, 1], [25, 1], [26, 1], [27, 1], [28, 1], [29, 1], [30, 1], [31, 1], [32, 1], [33, 1], [34, 1], [35, 1], [36, 1], [37, 1], [38, 1], [39, 1], [40, 1], [41, 1], [42, 1], [43, 1], [44, 1], [45, 1], [46, 1], [47, 1], [48, 1], [49, 1], [50, 1], [51, 1], [52, 1], [53, 1], [54, 1], [55, 1], [56, 1], [57, 1], [58, 1], [59, 1], [60, 1], [61, 1], [62, 1], [63, 1], [64, 1], [65, 1], [66, 1], [67, 1], [68, 1], [69, 1], [70, 1], [71, 1], [72, 1], [73, 1], [74, 1], [75, 1], [76, 1], [77, 1], [78, 1], [79, 1], [80, 1], [81, 1], [82, 1], [83, 1], [84, 1], [85, 1], [86, 1], [87, 1], [88, 1], [89, 1], [90, 1], [91, 1], [92, 1], [93, 1], [94, 1], [95, 1], [96, 1], [97, 1], [98, 1], [99, 1], [100, 1], [101, 1]]\n",
      "[[50, 43], [43, 36], [36, 29], [29, 22], [22, 15], [15, 8], [8, 1], [50, 57], [57, 64], [64, 71], [71, 78], [78, 85], [85, 92], [92, 99], [99, 100], [1, 0], [8, 2], [8, 3], [8, 4], [8, 5], [8, 6], [8, 7], [15, 9], [15, 10], [15, 11], [15, 12], [15, 13], [15, 14], [22, 16], [22, 17], [22, 18], [22, 19], [22, 20], [22, 21], [29, 23], [29, 24], [29, 25], [29, 26], [29, 27], [29, 28], [36, 30], [36, 31], [36, 32], [36, 33], [36, 34], [36, 35], [43, 37], [43, 38], [43, 39], [43, 40], [43, 41], [43, 42], [50, 44], [50, 45], [50, 46], [50, 47], [50, 48], [50, 49], [57, 51], [57, 52], [57, 53], [57, 54], [57, 55], [57, 56], [64, 58], [64, 59], [64, 60], [64, 61], [64, 62], [64, 63], [71, 65], [71, 66], [71, 67], [71, 68], [71, 69], [71, 70], [78, 72], [78, 73], [78, 74], [78, 75], [78, 76], [78, 77], [85, 79], [85, 80], [85, 81], [85, 82], [85, 83], [85, 84], [92, 86], [92, 87], [92, 88], [92, 89], [92, 90], [92, 91], [99, 93], [99, 94], [99, 95], [99, 96], [99, 97], [99, 98], [100, 100], [50, 50]]\n",
      "101\n"
     ]
    },
    {
     "ename": "KeyError",
     "evalue": "'Unable to open object (component not found)'",
     "output_type": "error",
     "traceback": [
      "\u001b[0;31m---------------------------------------------------------------------------\u001b[0m",
      "\u001b[0;31mKeyError\u001b[0m                                  Traceback (most recent call last)",
      "\u001b[0;32m<ipython-input-5-5e64cef4f676>\u001b[0m in \u001b[0;36m<module>\u001b[0;34m\u001b[0m\n\u001b[1;32m      3\u001b[0m     \u001b[0mshift_list\u001b[0m\u001b[0;34m.\u001b[0m\u001b[0mappend\u001b[0m\u001b[0;34m(\u001b[0m\u001b[0;34m[\u001b[0m\u001b[0mii\u001b[0m\u001b[0;34m,\u001b[0m \u001b[0;36m1\u001b[0m\u001b[0;34m]\u001b[0m\u001b[0;34m)\u001b[0m\u001b[0;34m\u001b[0m\u001b[0;34m\u001b[0m\u001b[0m\n\u001b[1;32m      4\u001b[0m \u001b[0mtrialfn\u001b[0m \u001b[0;34m=\u001b[0m \u001b[0;34m'/NSLS2/xf18id1/users/2020Q1/TONGCHAO_LIU_Proposal_000000/3D_trial_reg_scan_id_55936-55956_2020-03-22-22-34-58.h5'\u001b[0m\u001b[0;34m\u001b[0m\u001b[0;34m\u001b[0m\u001b[0m\n\u001b[0;32m----> 5\u001b[0;31m \u001b[0mreg\u001b[0m\u001b[0;34m.\u001b[0m\u001b[0m_sort_absolute_shift\u001b[0m\u001b[0;34m(\u001b[0m\u001b[0mshift_list\u001b[0m\u001b[0;34m,\u001b[0m \u001b[0mtrialfn\u001b[0m\u001b[0;34m)\u001b[0m\u001b[0;34m\u001b[0m\u001b[0;34m\u001b[0m\u001b[0m\n\u001b[0m",
      "\u001b[0;32m~/software/anaconda3/user_packages/xanes_regtools.py\u001b[0m in \u001b[0;36m_sort_absolute_shift\u001b[0;34m(self, shift_list, trialfn)\u001b[0m\n\u001b[1;32m   1180\u001b[0m                     \u001b[0mprint\u001b[0m\u001b[0;34m(\u001b[0m\u001b[0mself\u001b[0m\u001b[0;34m.\u001b[0m\u001b[0malignment_pair\u001b[0m\u001b[0;34m)\u001b[0m\u001b[0;34m\u001b[0m\u001b[0;34m\u001b[0m\u001b[0m\n\u001b[1;32m   1181\u001b[0m                     \u001b[0mprint\u001b[0m\u001b[0;34m(\u001b[0m\u001b[0midx\u001b[0m\u001b[0;34m)\u001b[0m\u001b[0;34m\u001b[0m\u001b[0;34m\u001b[0m\u001b[0m\n\u001b[0;32m-> 1182\u001b[0;31m                     \u001b[0mshift\u001b[0m \u001b[0;34m+=\u001b[0m \u001b[0mf\u001b[0m\u001b[0;34m[\u001b[0m\u001b[0mh5path\u001b[0m\u001b[0;34m]\u001b[0m\u001b[0;34m[\u001b[0m\u001b[0mshift_list\u001b[0m\u001b[0;34m[\u001b[0m\u001b[0mstr\u001b[0m\u001b[0;34m(\u001b[0m\u001b[0midx\u001b[0m\u001b[0;34m)\u001b[0m\u001b[0;34m]\u001b[0m\u001b[0;34m]\u001b[0m\u001b[0;34m\u001b[0m\u001b[0;34m\u001b[0m\u001b[0m\n\u001b[0m\u001b[1;32m   1183\u001b[0m                     \u001b[0mslioff\u001b[0m \u001b[0;34m+=\u001b[0m \u001b[0;34m(\u001b[0m\u001b[0mshift_list\u001b[0m\u001b[0;34m[\u001b[0m\u001b[0mstr\u001b[0m\u001b[0;34m(\u001b[0m\u001b[0midx\u001b[0m\u001b[0;34m)\u001b[0m\u001b[0;34m]\u001b[0m\u001b[0;34m-\u001b[0m\u001b[0mself\u001b[0m\u001b[0;34m.\u001b[0m\u001b[0mxanes3D_sli_search_half_range\u001b[0m\u001b[0;34m)\u001b[0m\u001b[0;34m\u001b[0m\u001b[0;34m\u001b[0m\u001b[0m\n\u001b[1;32m   1184\u001b[0m                 \u001b[0mabs_shift_dict\u001b[0m\u001b[0;34m[\u001b[0m\u001b[0mstr\u001b[0m\u001b[0;34m(\u001b[0m\u001b[0mkey\u001b[0m\u001b[0;34m)\u001b[0m\u001b[0;34m.\u001b[0m\u001b[0mzfill\u001b[0m\u001b[0;34m(\u001b[0m\u001b[0;36m3\u001b[0m\u001b[0;34m)\u001b[0m\u001b[0;34m]\u001b[0m \u001b[0;34m=\u001b[0m \u001b[0;34m[\u001b[0m\u001b[0mshift\u001b[0m\u001b[0;34m,\u001b[0m \u001b[0mslioff\u001b[0m\u001b[0;34m]\u001b[0m\u001b[0;34m\u001b[0m\u001b[0;34m\u001b[0m\u001b[0m\n",
      "\u001b[0;32mh5py/_objects.pyx\u001b[0m in \u001b[0;36mh5py._objects.with_phil.wrapper\u001b[0;34m()\u001b[0m\n",
      "\u001b[0;32mh5py/_objects.pyx\u001b[0m in \u001b[0;36mh5py._objects.with_phil.wrapper\u001b[0;34m()\u001b[0m\n",
      "\u001b[0;32m~/software/anaconda3/envs/py36/lib/python3.6/site-packages/h5py/_hl/group.py\u001b[0m in \u001b[0;36m__getitem__\u001b[0;34m(self, name)\u001b[0m\n\u001b[1;32m    262\u001b[0m                 \u001b[0;32mraise\u001b[0m \u001b[0mValueError\u001b[0m\u001b[0;34m(\u001b[0m\u001b[0;34m\"Invalid HDF5 object reference\"\u001b[0m\u001b[0;34m)\u001b[0m\u001b[0;34m\u001b[0m\u001b[0;34m\u001b[0m\u001b[0m\n\u001b[1;32m    263\u001b[0m         \u001b[0;32melse\u001b[0m\u001b[0;34m:\u001b[0m\u001b[0;34m\u001b[0m\u001b[0;34m\u001b[0m\u001b[0m\n\u001b[0;32m--> 264\u001b[0;31m             \u001b[0moid\u001b[0m \u001b[0;34m=\u001b[0m \u001b[0mh5o\u001b[0m\u001b[0;34m.\u001b[0m\u001b[0mopen\u001b[0m\u001b[0;34m(\u001b[0m\u001b[0mself\u001b[0m\u001b[0;34m.\u001b[0m\u001b[0mid\u001b[0m\u001b[0;34m,\u001b[0m \u001b[0mself\u001b[0m\u001b[0;34m.\u001b[0m\u001b[0m_e\u001b[0m\u001b[0;34m(\u001b[0m\u001b[0mname\u001b[0m\u001b[0;34m)\u001b[0m\u001b[0;34m,\u001b[0m \u001b[0mlapl\u001b[0m\u001b[0;34m=\u001b[0m\u001b[0mself\u001b[0m\u001b[0;34m.\u001b[0m\u001b[0m_lapl\u001b[0m\u001b[0;34m)\u001b[0m\u001b[0;34m\u001b[0m\u001b[0;34m\u001b[0m\u001b[0m\n\u001b[0m\u001b[1;32m    265\u001b[0m \u001b[0;34m\u001b[0m\u001b[0m\n\u001b[1;32m    266\u001b[0m         \u001b[0motype\u001b[0m \u001b[0;34m=\u001b[0m \u001b[0mh5i\u001b[0m\u001b[0;34m.\u001b[0m\u001b[0mget_type\u001b[0m\u001b[0;34m(\u001b[0m\u001b[0moid\u001b[0m\u001b[0;34m)\u001b[0m\u001b[0;34m\u001b[0m\u001b[0;34m\u001b[0m\u001b[0m\n",
      "\u001b[0;32mh5py/_objects.pyx\u001b[0m in \u001b[0;36mh5py._objects.with_phil.wrapper\u001b[0;34m()\u001b[0m\n",
      "\u001b[0;32mh5py/_objects.pyx\u001b[0m in \u001b[0;36mh5py._objects.with_phil.wrapper\u001b[0;34m()\u001b[0m\n",
      "\u001b[0;32mh5py/h5o.pyx\u001b[0m in \u001b[0;36mh5py.h5o.open\u001b[0;34m()\u001b[0m\n",
      "\u001b[0;31mKeyError\u001b[0m: 'Unable to open object (component not found)'"
     ]
    }
   ],
   "source": [
    "shift_list = []\n",
    "for ii in range(len(reg.alignment_pair)):\n",
    "    shift_list.append([ii, 1])\n",
    "trialfn = '/NSLS2/xf18id1/users/2020Q1/TONGCHAO_LIU_Proposal_000000/3D_trial_reg_scan_id_55936-55956_2020-03-22-22-34-58.h5'\n",
    "reg._sort_absolute_shift(shift_list, trialfn)"
   ]
  },
  {
   "cell_type": "code",
   "execution_count": 6,
   "metadata": {},
   "outputs": [
    {
     "name": "stdout",
     "output_type": "stream",
     "text": [
      "29773 29873 29823\n",
      "[[50, 43], [43, 36], [36, 29], [29, 22], [22, 15], [15, 8], [8, 1], [50, 57], [57, 64], [64, 71], [71, 78], [78, 85], [85, 92], [92, 99], [99, 100], [1, 0], [8, 2], [8, 3], [8, 4], [8, 5], [8, 6], [8, 7], [15, 9], [15, 10], [15, 11], [15, 12], [15, 13], [15, 14], [22, 16], [22, 17], [22, 18], [22, 19], [22, 20], [22, 21], [29, 23], [29, 24], [29, 25], [29, 26], [29, 27], [29, 28], [36, 30], [36, 31], [36, 32], [36, 33], [36, 34], [36, 35], [43, 37], [43, 38], [43, 39], [43, 40], [43, 41], [43, 42], [50, 44], [50, 45], [50, 46], [50, 47], [50, 48], [50, 49], [57, 51], [57, 52], [57, 53], [57, 54], [57, 55], [57, 56], [64, 58], [64, 59], [64, 60], [64, 61], [64, 62], [64, 63], [71, 65], [71, 66], [71, 67], [71, 68], [71, 69], [71, 70], [78, 72], [78, 73], [78, 74], [78, 75], [78, 76], [78, 77], [85, 79], [85, 80], [85, 81], [85, 82], [85, 83], [85, 84], [92, 86], [92, 87], [92, 88], [92, 89], [92, 90], [92, 91], [99, 93], [99, 94], [99, 95], [99, 96], [99, 97], [99, 98], [100, 100], [50, 50]]\n",
      "\n",
      "\n",
      "\n",
      "0 : [50, 43] \t 50 \t [50, 50]\n",
      "1 : [43, 36] \t 100 \t [99, 92, 85, 78, 71, 64, 57, 50]\n",
      "2 : [36, 29] \t 98 \t [99, 92, 85, 78, 71, 64, 57, 50]\n",
      "3 : [29, 22] \t 97 \t [99, 92, 85, 78, 71, 64, 57, 50]\n",
      "4 : [22, 15] \t 96 \t [99, 92, 85, 78, 71, 64, 57, 50]\n",
      "5 : [15, 8] \t 95 \t [99, 92, 85, 78, 71, 64, 57, 50]\n",
      "6 : [8, 1] \t 94 \t [99, 92, 85, 78, 71, 64, 57, 50]\n",
      "7 : [50, 57] \t 93 \t [99, 92, 85, 78, 71, 64, 57, 50]\n",
      "8 : [57, 64] \t 91 \t [92, 85, 78, 71, 64, 57, 50]\n",
      "9 : [64, 71] \t 90 \t [92, 85, 78, 71, 64, 57, 50]\n",
      "10 : [71, 78] \t 89 \t [92, 85, 78, 71, 64, 57, 50]\n",
      "11 : [78, 85] \t 88 \t [92, 85, 78, 71, 64, 57, 50]\n",
      "12 : [85, 92] \t 87 \t [92, 85, 78, 71, 64, 57, 50]\n",
      "13 : [92, 99] \t 86 \t [92, 85, 78, 71, 64, 57, 50]\n",
      "14 : [99, 100] \t 84 \t [85, 78, 71, 64, 57, 50]\n",
      "15 : [1, 0] \t 83 \t [85, 78, 71, 64, 57, 50]\n",
      "16 : [8, 2] \t 82 \t [85, 78, 71, 64, 57, 50]\n",
      "17 : [8, 3] \t 81 \t [85, 78, 71, 64, 57, 50]\n",
      "18 : [8, 4] \t 80 \t [85, 78, 71, 64, 57, 50]\n",
      "19 : [8, 5] \t 79 \t [85, 78, 71, 64, 57, 50]\n",
      "20 : [8, 6] \t 77 \t [78, 71, 64, 57, 50]\n",
      "21 : [8, 7] \t 76 \t [78, 71, 64, 57, 50]\n",
      "22 : [15, 9] \t 75 \t [78, 71, 64, 57, 50]\n",
      "23 : [15, 10] \t 74 \t [78, 71, 64, 57, 50]\n",
      "24 : [15, 11] \t 73 \t [78, 71, 64, 57, 50]\n",
      "25 : [15, 12] \t 72 \t [78, 71, 64, 57, 50]\n",
      "26 : [15, 13] \t 70 \t [71, 64, 57, 50]\n",
      "27 : [15, 14] \t 69 \t [71, 64, 57, 50]\n",
      "28 : [22, 16] \t 68 \t [71, 64, 57, 50]\n",
      "29 : [22, 17] \t 67 \t [71, 64, 57, 50]\n",
      "30 : [22, 18] \t 66 \t [71, 64, 57, 50]\n",
      "31 : [22, 19] \t 65 \t [71, 64, 57, 50]\n",
      "32 : [22, 20] \t 63 \t [64, 57, 50]\n",
      "33 : [22, 21] \t 62 \t [64, 57, 50]\n",
      "34 : [29, 23] \t 61 \t [64, 57, 50]\n",
      "35 : [29, 24] \t 60 \t [64, 57, 50]\n",
      "36 : [29, 25] \t 59 \t [64, 57, 50]\n",
      "37 : [29, 26] \t 58 \t [64, 57, 50]\n",
      "38 : [29, 27] \t 56 \t [57, 50]\n",
      "39 : [29, 28] \t 55 \t [57, 50]\n",
      "40 : [36, 30] \t 54 \t [57, 50]\n",
      "41 : [36, 31] \t 53 \t [57, 50]\n",
      "42 : [36, 32] \t 52 \t [57, 50]\n",
      "43 : [36, 33] \t 51 \t [57, 50]\n",
      "44 : [36, 34] \t 49 \t [50]\n",
      "45 : [36, 35] \t 48 \t [50]\n",
      "46 : [43, 37] \t 47 \t [50]\n",
      "47 : [43, 38] \t 46 \t [50]\n",
      "48 : [43, 39] \t 45 \t [50]\n",
      "49 : [43, 40] \t 44 \t [50]\n",
      "50 : [43, 41] \t 42 \t [43, 50]\n",
      "51 : [43, 42] \t 41 \t [43, 50]\n",
      "52 : [50, 44] \t 40 \t [43, 50]\n",
      "53 : [50, 45] \t 39 \t [43, 50]\n",
      "54 : [50, 46] \t 38 \t [43, 50]\n",
      "55 : [50, 47] \t 37 \t [43, 50]\n",
      "56 : [50, 48] \t 35 \t [36, 43, 50]\n",
      "57 : [50, 49] \t 34 \t [36, 43, 50]\n",
      "58 : [57, 51] \t 33 \t [36, 43, 50]\n",
      "59 : [57, 52] \t 32 \t [36, 43, 50]\n",
      "60 : [57, 53] \t 31 \t [36, 43, 50]\n",
      "61 : [57, 54] \t 30 \t [36, 43, 50]\n",
      "62 : [57, 55] \t 28 \t [29, 36, 43, 50]\n",
      "63 : [57, 56] \t 27 \t [29, 36, 43, 50]\n",
      "64 : [64, 58] \t 26 \t [29, 36, 43, 50]\n",
      "65 : [64, 59] \t 25 \t [29, 36, 43, 50]\n",
      "66 : [64, 60] \t 24 \t [29, 36, 43, 50]\n",
      "67 : [64, 61] \t 23 \t [29, 36, 43, 50]\n",
      "68 : [64, 62] \t 21 \t [22, 29, 36, 43, 50]\n",
      "69 : [64, 63] \t 20 \t [22, 29, 36, 43, 50]\n",
      "70 : [71, 65] \t 19 \t [22, 29, 36, 43, 50]\n",
      "71 : [71, 66] \t 18 \t [22, 29, 36, 43, 50]\n",
      "72 : [71, 67] \t 17 \t [22, 29, 36, 43, 50]\n",
      "73 : [71, 68] \t 16 \t [22, 29, 36, 43, 50]\n",
      "74 : [71, 69] \t 14 \t [15, 22, 29, 36, 43, 50]\n",
      "75 : [71, 70] \t 13 \t [15, 22, 29, 36, 43, 50]\n",
      "76 : [78, 72] \t 12 \t [15, 22, 29, 36, 43, 50]\n",
      "77 : [78, 73] \t 11 \t [15, 22, 29, 36, 43, 50]\n",
      "78 : [78, 74] \t 10 \t [15, 22, 29, 36, 43, 50]\n",
      "79 : [78, 75] \t 9 \t [15, 22, 29, 36, 43, 50]\n",
      "80 : [78, 76] \t 7 \t [8, 15, 22, 29, 36, 43, 50]\n",
      "81 : [78, 77] \t 6 \t [8, 15, 22, 29, 36, 43, 50]\n",
      "82 : [85, 79] \t 5 \t [8, 15, 22, 29, 36, 43, 50]\n",
      "83 : [85, 80] \t 4 \t [8, 15, 22, 29, 36, 43, 50]\n",
      "84 : [85, 81] \t 3 \t [8, 15, 22, 29, 36, 43, 50]\n",
      "85 : [85, 82] \t 2 \t [8, 15, 22, 29, 36, 43, 50]\n",
      "86 : [85, 83] \t 0 \t [1, 8, 15, 22, 29, 36, 43, 50]\n",
      "87 : [85, 84] \t 99 \t [92, 85, 78, 71, 64, 57, 50]\n",
      "88 : [92, 86] \t 92 \t [85, 78, 71, 64, 57, 50]\n",
      "89 : [92, 87] \t 85 \t [78, 71, 64, 57, 50]\n",
      "90 : [92, 88] \t 78 \t [71, 64, 57, 50]\n",
      "91 : [92, 89] \t 71 \t [64, 57, 50]\n",
      "92 : [92, 90] \t 64 \t [57, 50]\n",
      "93 : [92, 91] \t 57 \t [50]\n",
      "94 : [99, 93] \t 1 \t [8, 15, 22, 29, 36, 43, 50]\n",
      "95 : [99, 94] \t 8 \t [15, 22, 29, 36, 43, 50]\n",
      "96 : [99, 95] \t 15 \t [22, 29, 36, 43, 50]\n",
      "97 : [99, 96] \t 22 \t [29, 36, 43, 50]\n",
      "98 : [99, 97] \t 29 \t [36, 43, 50]\n",
      "99 : [99, 98] \t 36 \t [43, 50]\n",
      "100 : [100, 100] \t 43 \t [50]\n"
     ]
    }
   ],
   "source": [
    "print(scan_id_s, scan_id_e, fixed_scan_id)\n",
    "print(reg.alignment_pair)\n",
    "print('\\n\\n')\n",
    "cnt = 0\n",
    "for key, item in reg.shift_chain_dict.items():\n",
    "    print(cnt, ':', reg.alignment_pair[cnt], '\\t', key, '\\t', item)\n",
    "    cnt += 1"
   ]
  },
  {
   "cell_type": "code",
   "execution_count": 2,
   "metadata": {},
   "outputs": [
    {
     "name": "stdout",
     "output_type": "stream",
     "text": [
      "{1: 2, 2: 3}\n"
     ]
    }
   ],
   "source": [
    "a = {1:2, 2:3}\n",
    "print(a)"
   ]
  },
  {
   "cell_type": "code",
   "execution_count": null,
   "metadata": {},
   "outputs": [],
   "source": [
    "#trial_reg = None\n",
    "try:\n",
    "    for ip in ips:\n",
    "        ip.close()\n",
    "except:\n",
    "    pass\n",
    "\n",
    "if trial_reg is None:\n",
    "    trial_reg = np.ndarray([2*moving_sli_search_half_range, roi[1]-roi[0], roi[3]-roi[2]])\n",
    "    \n",
    "alignment_pair_id = 3\n",
    "fn = \"/media/XIAOUSB1/BNL_FXI_Sept2019_YujingBi_EnyuanHu/xanes3D_trial_reg_results_29773_new.h5\"\n",
    "f = h5py.File(fn, 'r')\n",
    "trial_reg[:] = f['/trial_registration/trial_reg_results/{0}/trial_reg_img{0}'.format(str(alignment_pair_id).zfill(3))][:]\n",
    "f.close()\n",
    "\n",
    "ips = []\n",
    "ijui.show(ij.py.to_java(trial_reg))\n",
    "imp1 = WindowManager.getCurrentImage()\n",
    "imp1.setTitle(str(alignment_pair_id).zfill(3))\n",
    "ips.append(imp1)"
   ]
  },
  {
   "cell_type": "code",
   "execution_count": null,
   "metadata": {},
   "outputs": [],
   "source": [
    "fn = '/media/XIAOUSB1/BNL_FXI_Sept2019_YujingBi_EnyuanHu/zshift_29773.txt'\n",
    "with open(fn, 'r') as f:\n",
    "    a = f.readlines()\n",
    "\n",
    "b = []\n",
    "for ii in a:\n",
    "    if ii.split():\n",
    "        #print(ii.split()[0])\n",
    "        b.append([int(ii.split()[0]), int(ii.split()[1])+10])\n",
    "        \n",
    "fn = '/media/XIAOUSB1/BNL_FXI_Sept2019_YujingBi_EnyuanHu/zshift_29773_new.txt'\n",
    "np.savetxt(fn, b, fmt='%d')"
   ]
  },
  {
   "cell_type": "code",
   "execution_count": null,
   "metadata": {},
   "outputs": [],
   "source": [
    "help(np.savetxt)"
   ]
  },
  {
   "cell_type": "markdown",
   "metadata": {},
   "source": [
    "# **Section 4: `Align 3D Datasets`**"
   ]
  },
  {
   "cell_type": "code",
   "execution_count": null,
   "metadata": {},
   "outputs": [],
   "source": [
    "from importlib import reload\n",
    "import xanes_regtools as xr\n",
    "xr = reload(xr)\n",
    "import numpy as np\n",
    "import h5py, os\n",
    "shift = np.int32(np.genfromtxt('/media/XIAOUSB1/BNL_FXI_Sept2019_YujingBi_EnyuanHu/zshift_29773_new.txt'))\n",
    "fn = \"/media/XIAOUSB1/BNL_FXI_Sept2019_YujingBi_EnyuanHu/xanes3D_trial_reg_results_29773_new.h5\"\n",
    "# this is the slice range for alignment after the shift values are determined\n",
    "moving_sli_start = 480\n",
    "moving_sli_end = 610\n",
    "\n",
    "f = h5py.File(fn, 'r')\n",
    "recon_top_dir = f['/trial_registration/data_directory_info/recon_top_dir'][()] \n",
    "recon_path_template = f['/trial_registration/data_directory_info/recon_path_template'][()] \n",
    "roi = f['/trial_registration/trial_reg_parameters/slice_roi'][:] \n",
    "reg_method = f['/trial_registration/trial_reg_parameters/reg_method'][()].lower()\n",
    "ref_mode = f['/trial_registration/trial_reg_parameters/reg_ref_mode'][()].lower()\n",
    "scan_id_s = f['/trial_registration/trial_reg_parameters/scan_ids'][0]\n",
    "scan_id_e = f['/trial_registration/trial_reg_parameters/scan_ids'][-1]\n",
    "fixed_scan_id = f['/trial_registration/trial_reg_parameters/fixed_scan_id'][()]\n",
    "chunk_sz = f['/trial_registration/trial_reg_parameters/chunk_sz'][()]\n",
    "eng_list = f['/trial_registration/trial_reg_parameters/eng_list'][:]\n",
    "f.close()\n",
    "\n",
    "reg = xr.regtools(dtype='3D_XANES', method=reg_method, mode='TRANSLATION')\n",
    "reg.set_method(reg_method)\n",
    "reg.set_ref_mode(ref_mode)\n",
    "reg.cal_set_anchor(scan_id_s, scan_id_e, fixed_scan_id)\n",
    "reg.eng_list = eng_list\n",
    "\n",
    "reg.set_chunk_sz(chunk_sz)\n",
    "reg.set_roi(roi)\n",
    "reg.set_3D_recon_path_template(recon_path_template)\n",
    "reg.set_saving(save_path=recon_top_dir, fn=os.path.basename(fn))\n",
    "reg.apply_xanes3D_chunk_shift(shift, 410, 450, trialfn=fn, savefn=fn)\n",
    "print('\\033[04m\\033[01m\\033[34m     Section 4 finished     ') "
   ]
  },
  {
   "cell_type": "code",
   "execution_count": null,
   "metadata": {},
   "outputs": [],
   "source": [
    "try:\n",
    "    for ip in ips:\n",
    "        ip.close()\n",
    "except:\n",
    "    pass\n",
    "\n",
    "fn = \"/media/XIAOUSB1/BNL_FXI_Sept2019_YujingBi_EnyuanHu/xanes3D_trial_reg_results_29773_new.h5\"\n",
    "sli_idx = 20\n",
    "f = h5py.File(fn, 'r')\n",
    "reg_img = f['/registration_results/reg_results/registered_xanes3D'][:, sli_idx, :, :]\n",
    "f.close()\n",
    "\n",
    "ips = []\n",
    "ijui.show(ij.py.to_java(reg_img))\n",
    "imp1 = WindowManager.getCurrentImage()\n",
    "imp1.setTitle(str(sli_idx).zfill(3))\n",
    "ips.append(imp1)"
   ]
  },
  {
   "cell_type": "code",
   "execution_count": null,
   "metadata": {},
   "outputs": [],
   "source": [
    "shift = np.int32(np.genfromtxt('/media/XIAOUSB1/BNL_FXI_Sept2019_YujingBi_EnyuanHu/zshift_29773.txt'))\n",
    "print(shift)"
   ]
  },
  {
   "cell_type": "code",
   "execution_count": null,
   "metadata": {},
   "outputs": [],
   "source": [
    "print(shift)"
   ]
  },
  {
   "cell_type": "code",
   "execution_count": null,
   "metadata": {},
   "outputs": [],
   "source": [
    "print(reg.eng_list)"
   ]
  },
  {
   "cell_type": "code",
   "execution_count": null,
   "metadata": {},
   "outputs": [],
   "source": [
    "for key, item in reg.img_id_eng_dict.items():\n",
    "    print(key, item)"
   ]
  },
  {
   "cell_type": "code",
   "execution_count": null,
   "metadata": {},
   "outputs": [],
   "source": [
    "print(len(reg.abs_shift_dict))\n",
    "print(len(reg.alignment_pair))\n",
    "print(len(reg.shift_chain_dict))\n",
    "cnt = 0\n",
    "for key, item in reg.abs_shift_dict.items():\n",
    "    print(cnt, ':\\t', key, item)\n",
    "    cnt += 1"
   ]
  },
  {
   "cell_type": "code",
   "execution_count": null,
   "metadata": {},
   "outputs": [],
   "source": [
    "cnt = 0\n",
    "for key, item in reg.shift_chain_dict.items():\n",
    "    print(cnt, ':\\t', key, item)\n",
    "    cnt += 1"
   ]
  },
  {
   "cell_type": "code",
   "execution_count": null,
   "metadata": {},
   "outputs": [],
   "source": [
    "print(len(reg.alignment_pair))\n",
    "cnt = 0\n",
    "for key, item in reg.alignment_pair:\n",
    "    print(cnt, ':\\t', key, item)\n",
    "    cnt += 1"
   ]
  },
  {
   "cell_type": "code",
   "execution_count": null,
   "metadata": {},
   "outputs": [],
   "source": [
    "print(reg.anchor)"
   ]
  },
  {
   "cell_type": "code",
   "execution_count": null,
   "metadata": {},
   "outputs": [],
   "source": [
    "int(1.2)"
   ]
  },
  {
   "cell_type": "code",
   "execution_count": null,
   "metadata": {},
   "outputs": [],
   "source": []
  }
 ],
 "metadata": {
  "kernelspec": {
   "display_name": "Python 3",
   "language": "python",
   "name": "python3"
  },
  "language_info": {
   "codemirror_mode": {
    "name": "ipython",
    "version": 3
   },
   "file_extension": ".py",
   "mimetype": "text/x-python",
   "name": "python",
   "nbconvert_exporter": "python",
   "pygments_lexer": "ipython3",
   "version": "3.6.7"
  }
 },
 "nbformat": 4,
 "nbformat_minor": 4
}
