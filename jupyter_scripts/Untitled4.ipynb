{
 "cells": [
  {
   "cell_type": "code",
   "execution_count": 1,
   "metadata": {},
   "outputs": [],
   "source": [
    "import tifffile\n",
    "import numpy as np\n",
    "import skimage.morphology as skm\n",
    "import scipy.ndimage as sn"
   ]
  },
  {
   "cell_type": "code",
   "execution_count": 2,
   "metadata": {},
   "outputs": [],
   "source": [
    "%matplotlib qt\n",
    "import matplotlib.pyplot as plt"
   ]
  },
  {
   "cell_type": "code",
   "execution_count": 3,
   "metadata": {},
   "outputs": [],
   "source": [
    "fn = '/NSLS2/xf18id1/users/2020Q1/XIAO_2020Q1/recon_fly_scan_id_57946/recon_fly_scan_id_57946_x358_y394_z470.tif'\n",
    "imgs = tifffile.imread(fn)"
   ]
  },
  {
   "cell_type": "code",
   "execution_count": 113,
   "metadata": {},
   "outputs": [],
   "source": [
    "img = imgs[0]\n",
    "imgs_mask = np.ndarray(imgs.shape, dtype=np.int8)"
   ]
  },
  {
   "cell_type": "code",
   "execution_count": 116,
   "metadata": {},
   "outputs": [
    {
     "name": "stdout",
     "output_type": "stream",
     "text": [
      "done!\n"
     ]
    }
   ],
   "source": [
    "thres = 3.6e-4\n",
    "sigma=4\n",
    "blur=12\n",
    "for ii in range(imgs.shape[0]):\n",
    "    imgs_mask[ii, :] = (sn.gaussian_filter(imgs[ii], sigma)>thres).astype(np.int8)[:]\n",
    "    imgs_mask[ii, :] = skm.binary_dilation(imgs_mask[ii, :], selem=skm.disk(blur))[:]\n",
    "    #print(ii)\n",
    "print('done!')"
   ]
  },
  {
   "cell_type": "code",
   "execution_count": 117,
   "metadata": {},
   "outputs": [],
   "source": [
    "sfn = '/NSLS2/xf18id1/users/2020Q1/XIAO_2020Q1/recon_fly_scan_id_57946/recon_fly_scan_id_57946_x358_y394_z470_masked.tif'\n",
    "tifffile.imsave(sfn, imgs*imgs_mask)"
   ]
  },
  {
   "cell_type": "code",
   "execution_count": 54,
   "metadata": {},
   "outputs": [],
   "source": [
    "from ipywidgets import widgets\n",
    "from ipywidgets import interact, fixed\n",
    "from IPython.display import display, Image\n",
    "import matplotlib as mpl\n",
    "from io import BytesIO"
   ]
  },
  {
   "cell_type": "code",
   "execution_count": 110,
   "metadata": {},
   "outputs": [],
   "source": [
    "def update_img(imgs, idx, sigma, thres, blur):\n",
    "#    img = sn.gaussian_filter(imgs[idx], sigma)\n",
    "    img_mask1 = (sn.gaussian_filter(imgs[idx], sigma)>thres).astype(np.int8)\n",
    "    img_mask1 = skm.binary_dilation(img_mask1, selem=skm.disk(blur))\n",
    "    with BytesIO() as buffer:\n",
    "        mpl.image.imsave(buffer, imgs[idx]*img_mask1, format='jpg')\n",
    "        out = buffer.getvalue()\n",
    "#    with BytesIO() as buffer2:\n",
    "#        mpl.image.imsave(buffer2, img, format='jpg')\n",
    "#        out2 = buffer2.getvalue()\n",
    "    return Image(out)"
   ]
  },
  {
   "cell_type": "code",
   "execution_count": 111,
   "metadata": {},
   "outputs": [
    {
     "data": {
      "application/vnd.jupyter.widget-view+json": {
       "model_id": "cd790c22bf2d4b00b2da76e5d3344c90",
       "version_major": 2,
       "version_minor": 0
      },
      "text/plain": [
       "interactive(children=(IntSlider(value=235, description='idx', max=470), IntSlider(value=10, description='sigma…"
      ]
     },
     "metadata": {},
     "output_type": "display_data"
    }
   ],
   "source": [
    "idx1 = (0, 470, 1)\n",
    "idx2 = (1, 20, 1)\n",
    "idx3 = (1e-5, 1e-3, 1e-5)\n",
    "idx4 = (1, 20, 1)\n",
    "w = widgets.interact(update_img, imgs=fixed(imgs), idx=idx1, sigma=idx2, thres=idx3, blur=idx4)\n",
    "w.widget.children[2].readout_format = '.5f'\n"
   ]
  },
  {
   "cell_type": "code",
   "execution_count": 109,
   "metadata": {},
   "outputs": [
    {
     "name": "stdout",
     "output_type": "stream",
     "text": [
      "Help on function binary_dilation in module skimage.morphology.binary:\n",
      "\n",
      "binary_dilation(image, selem=None, out=None)\n",
      "    Return fast binary morphological dilation of an image.\n",
      "    \n",
      "    This function returns the same result as greyscale dilation but performs\n",
      "    faster for binary images.\n",
      "    \n",
      "    Morphological dilation sets a pixel at ``(i,j)`` to the maximum over all\n",
      "    pixels in the neighborhood centered at ``(i,j)``. Dilation enlarges bright\n",
      "    regions and shrinks dark regions.\n",
      "    \n",
      "    Parameters\n",
      "    ----------\n",
      "    \n",
      "    image : ndarray\n",
      "        Binary input image.\n",
      "    selem : ndarray, optional\n",
      "        The neighborhood expressed as a 2-D array of 1's and 0's.\n",
      "        If None, use a cross-shaped structuring element (connectivity=1).\n",
      "    out : ndarray of bool, optional\n",
      "        The array to store the result of the morphology. If None is\n",
      "        passed, a new array will be allocated.\n",
      "    \n",
      "    Returns\n",
      "    -------\n",
      "    dilated : ndarray of bool or uint\n",
      "        The result of the morphological dilation with values in\n",
      "        ``[False, True]``.\n",
      "\n"
     ]
    }
   ],
   "source": [
    "help(skm.binary_dilation)"
   ]
  },
  {
   "cell_type": "code",
   "execution_count": null,
   "metadata": {},
   "outputs": [],
   "source": []
  }
 ],
 "metadata": {
  "kernelspec": {
   "display_name": "Python 3",
   "language": "python",
   "name": "python3"
  },
  "language_info": {
   "codemirror_mode": {
    "name": "ipython",
    "version": 3
   },
   "file_extension": ".py",
   "mimetype": "text/x-python",
   "name": "python",
   "nbconvert_exporter": "python",
   "pygments_lexer": "ipython3",
   "version": "3.6.7"
  }
 },
 "nbformat": 4,
 "nbformat_minor": 4
}
