{
 "cells": [
  {
   "cell_type": "code",
   "execution_count": 1,
   "metadata": {},
   "outputs": [],
   "source": [
    "import ipywidgets as widgets\n",
    "from ipywidgets import interact\n",
    "from IPython.display import display"
   ]
  },
  {
   "cell_type": "code",
   "execution_count": null,
   "metadata": {
    "jupyter": {
     "source_hidden": true
    }
   },
   "outputs": [],
   "source": [
    "\n",
    "\n",
    "widgets.Box(\n",
    "    [\n",
    "        widgets.Label(value='Pizza topping with a very long label:'),\n",
    "        widgets.RadioButtons(\n",
    "            options=[\n",
    "                'pepperoni',\n",
    "                'pineapple',\n",
    "                'anchovies',\n",
    "                'and the long name that will fit fine and the long name that will fit fine and the long name that will fit fine '\n",
    "            ],\n",
    "            layout={'width': 'max-content', 'orientation':'horizontal'},\n",
    "        )\n",
    "    ]\n",
    ")\n",
    "\n",
    "\n",
    "\n",
    "widgets.Select(\n",
    "    options=['Linux', 'Windows', 'OSX'],\n",
    "    value='OSX',\n",
    "    # rows=10,\n",
    "    description='OS:',\n",
    "    disabled=False\n",
    ")\n",
    "\n",
    "\n",
    "\n",
    "widgets.ToggleButtons(\n",
    "    options=['Slow', 'Regular', 'Fast'],\n",
    "    description='Speed:',\n",
    "    disabled=False,\n",
    "    button_style='', # 'success', 'info', 'warning', 'danger' or ''\n",
    "    tooltips=['Description of slow', 'Description of regular', 'Description of fast'],\n",
    "#     icons=['check'] * 3\n",
    ")\n",
    "\n"
   ]
  },
  {
   "cell_type": "code",
   "execution_count": null,
   "metadata": {},
   "outputs": [],
   "source": [
    "global x\n",
    "x=1.2"
   ]
  },
  {
   "cell_type": "code",
   "execution_count": null,
   "metadata": {
    "jupyter": {
     "source_hidden": true
    }
   },
   "outputs": [],
   "source": [
    "text = widgets.Text()\n",
    "display(text)\n",
    "\n",
    "def handle_submit(sender):\n",
    "    print(text.value)\n",
    "    \n",
    "text.on_submit(handle_submit)"
   ]
  },
  {
   "cell_type": "code",
   "execution_count": null,
   "metadata": {
    "jupyter": {
     "source_hidden": true
    }
   },
   "outputs": [],
   "source": [
    "def f(y):\n",
    "    global x\n",
    "    x = y\n",
    "    print(y)\n",
    "interact(f, y=10.0)"
   ]
  },
  {
   "cell_type": "code",
   "execution_count": null,
   "metadata": {
    "jupyter": {
     "source_hidden": true
    }
   },
   "outputs": [],
   "source": [
    "%matplotlib qt\n",
    "import matplotlib.pyplot as plt\n",
    "import h5py, tifffile\n",
    "import numpy as np\n",
    "import skimage.morphology as skm\n",
    "import ipywidgets.widgets as widgets\n",
    "from scipy.ndimage import gaussian_filter\n",
    "from io import BytesIO"
   ]
  },
  {
   "cell_type": "code",
   "execution_count": null,
   "metadata": {},
   "outputs": [],
   "source": [
    "fn = '/NSLS2/xf18id1/users/2020Q1/TONGCHAO_LIU_Proposal_000000/3D_trial_reg_scan_id_55936-55956_2020-03-22-22-34-58.h5'\n",
    "f = h5py.File(fn, 'r')\n",
    "#global img\n",
    "img = f['/processed_XANES3D/proc_spectrum/spectrum_whiteline'][300, ...]\n",
    "roi = f['/registration_results/reg_parameters/slice_roi'][:]\n",
    "f.close()\n",
    "\n",
    "#global img_sli\n",
    "fn = '/NSLS2/xf18id1/users/2020Q1/TONGCHAO_LIU_Proposal_000000/recon_fly_scan_id_55946/recon_fly_scan_id_55946_{}.tiff'.format(str(roi[4]+300).zfill(5))\n",
    "img_sli = tifffile.imread(fn)[roi[0]:roi[1], roi[2]:roi[3]]\n",
    "#fig, ax = plt.subplots(111)\n",
    "#ax[0].imshow(img)\n",
    "#image_widget = widgets.Image(image=img)\n",
    "def func(idx=300, thres1=8.345, thres2=1e-4, gaussian_w=5, blur=10):\n",
    "    fn = '/NSLS2/xf18id1/users/2020Q1/TONGCHAO_LIU_Proposal_000000/3D_trial_reg_scan_id_55936-55956_2020-03-22-22-34-58.h5'\n",
    "    f = h5py.File(fn, 'r')\n",
    "    img = f['/processed_XANES3D/proc_spectrum/spectrum_whiteline'][idx, ...]\n",
    "    roi = f['/registration_results/reg_parameters/slice_roi'][:]\n",
    "    f.close()\n",
    "    fn = '/NSLS2/xf18id1/users/2020Q1/TONGCHAO_LIU_Proposal_000000/recon_fly_scan_id_55946/recon_fly_scan_id_55946_{}.tiff'.format(str(roi[4]+idx).zfill(5))\n",
    "    img_sli = tifffile.imread(fn)[roi[0]:roi[1], roi[2]:roi[3]]\n",
    "    print('thres1:', thres1, 'thres2:', thres2)\n",
    "    \n",
    "    #plt.imshow(img*(img<thres1)*(img_sli>thres2))\n",
    "    plt.imshow(img*(img<thres1)*skm.binary_dilation((gaussian_filter(img_sli, gaussian_w)>thres2), selem=skm.disk(blur)), vmin=8.345, vmax=8.355)\n",
    "    plt.show()\n",
    "    #image_widget.image= img\n",
    "widgets.interact(func, idx=(0, 645), thres1=(8.33, 8.37, 5e-4), thres2=(-2e-3, 4e-3, 1e-5), blur=(0, 30))\n",
    "\n",
    "\n"
   ]
  },
  {
   "cell_type": "code",
   "execution_count": null,
   "metadata": {
    "jupyter": {
     "source_hidden": true
    }
   },
   "outputs": [],
   "source": [
    "fn1 = '/NSLS2/xf18id1/users/2020Q1/TONGCHAO_LIU_Proposal_000000/3D_trial_reg_scan_id_55936-55956_2020-03-22-22-34-58.h5'\n",
    "f = h5py.File(fn1, 'r')\n",
    "img = np.float32(f['/processed_XANES3D/proc_spectrum/spectrum_whiteline'])[300, ...]\n",
    "roi = f['/registration_results/reg_parameters/slice_roi'][:]\n",
    "fn2 = '/NSLS2/xf18id1/users/2020Q1/TONGCHAO_LIU_Proposal_000000/recon_fly_scan_id_55946/recon_fly_scan_id_55946_{}.tiff'.format(str(roi[4]+300).zfill(5))\n",
    "img_sli = np.float32(tifffile.imread(fn2)[roi[0]:roi[1], roi[2]:roi[3]])\n",
    "for ii in range(roi[4], roi[5]):\n",
    "#for ii in range(roi[4]+200, roi[4]+210):\n",
    "    img[:] = f['/processed_XANES3D/proc_spectrum/spectrum_whiteline'][ii-roi[4], ...]\n",
    "    fn2 = '/NSLS2/xf18id1/users/2020Q1/TONGCHAO_LIU_Proposal_000000/recon_fly_scan_id_55946/recon_fly_scan_id_55946_{}.tiff'.format(str(ii).zfill(5))\n",
    "    img_sli[:] = np.float32(tifffile.imread(fn2))[roi[0]:roi[1], roi[2]:roi[3]] \n",
    "    img[:] = np.float32(img*(img<8.353)*skm.binary_dilation((gaussian_filter(img_sli, 15)>1e-3), selem=skm.disk(0)))[:]\n",
    "    #img[:] = np.float32(img*(img<8.353)*skm.binary_dilation((gaussian_filter(img_sli, 15)>1e-3), selem=skm.disk(15)))[:]\n",
    "    fn3 = '/NSLS2/xf18id1/users/2020Q1/TONGCHAO_LIU_Proposal_000000/masked_analyzed_3D_spectrum/xanes3D_slice_{}.tiff'.format(str(ii).zfill(5))\n",
    "    tifffile.imsave(fn3, img)\n",
    "    print(ii)\n",
    "f.close()"
   ]
  },
  {
   "cell_type": "code",
   "execution_count": null,
   "metadata": {},
   "outputs": [],
   "source": [
    "roi"
   ]
  },
  {
   "cell_type": "code",
   "execution_count": null,
   "metadata": {},
   "outputs": [],
   "source": [
    "import glob, tifffile\n",
    "from scipy.ndimage import zoom\n",
    "import numpy as np\n",
    "fn = '/NSLS2/xf18id1/users/2020Q1/TONGCHAO_LIU_Proposal_000000/masked_analyzed_3D_spectrum/xanes3D_slice_{}.tiff'\n",
    "img_ids = sorted(glob.glob(fn.format('*')))\n",
    "img = np.float32(tifffile.imread(fn.format('600'.zfill(5))))\n",
    "vol0 = np.ndarray([len(img_ids), img.shape[0], img.shape[1]], dtype=np.float32)\n",
    "cnt = 0\n",
    "for ii in img_ids:\n",
    "    img[:] = np.float32(tifffile.imread(ii))[:]\n",
    "    vol0[cnt, :] = img[:]\n",
    "    cnt += 1\n",
    "    print(ii)\n",
    "vol1 = np.float32(zoom(vol0, (0.5, 0.5, 0.5)))\n",
    "fn1 = '/NSLS2/xf18id1/users/2020Q1/TONGCHAO_LIU_Proposal_000000/masked_analyzed_3D_spectrum/xanes3D_downsampled_0.5.tif'\n",
    "tifffile.imsave(fn1, vol1)"
   ]
  },
  {
   "cell_type": "code",
   "execution_count": null,
   "metadata": {},
   "outputs": [],
   "source": [
    "fn1 = '/NSLS2/xf18id1/users/2020Q1/TONGCHAO_LIU_Proposal_000000/masked_analyzed_3D_spectrum/xanes3D_downsampled_0.5.tif'\n",
    "vol1 = tifffile.imread(fn1)\n",
    "fn3 = '/NSLS2/xf18id1/users/2020Q1/TONGCHAO_LIU_Proposal_000000/masked_analyzed_3D_spectrum/xanes3D_downsampled_0.5_3.tif'   \n",
    "vol3 = tifffile.imread(fn3)\n",
    "vol0 = np.ndarray(vol1.shape, dtype=np.float32)\n",
    "\n",
    "for ii in range(vol1.shape[0]):\n",
    "    vol0[ii, ...] = (vol1[ii]*(vol3[ii]>3))[:]\n",
    "vol0[:] = np.where(vol0<8.343, 8, vol0)[:]\n",
    "vol0[:] = np.where(vol0>8.353, 8.353, vol0)[:]\n",
    "fn4 = '/NSLS2/xf18id1/users/2020Q1/TONGCHAO_LIU_Proposal_000000/masked_analyzed_3D_spectrum/xanes3D_downsampled_0.5_4.tif'     \n",
    "tifffile.imsave(fn4, vol0)"
   ]
  },
  {
   "cell_type": "code",
   "execution_count": null,
   "metadata": {},
   "outputs": [],
   "source": [
    "print(vol0.max(), vol0.min())"
   ]
  },
  {
   "cell_type": "code",
   "execution_count": null,
   "metadata": {},
   "outputs": [],
   "source": [
    "import scipy.ndimage as sn\n",
    "fn = '/NSLS2/xf18id1/users/2020Q1/TONGCHAO_LIU_Proposal_000000/masked_analyzed_3D_spectrum/xanes3D_downsampled_0.5_4.tif'\n",
    "img = tifffile.imread(fn)\n",
    "sli = img[0]\n",
    "def func(idx=300, thres1=8.345, median=3, close_w=5):\n",
    "    print('thres1:', thres1)\n",
    "    if (median != 0) & (close_w != 0):\n",
    "        sli[:] = sn.median_filter(img[idx], median)[:]\n",
    "        plt.imshow(skm.binary_closing((sli<thres1)&(sli>8.1), selem=skm.disk(close_w)).astype(np.int8))\n",
    "    elif (median == 0) & (close_w != 0):\n",
    "        plt.imshow(skm.binary_closing(((img[idx])<thres1)&(img[idx])>8.1), selem=skm.disk(close_w)).astype(np.int8)\n",
    "    elif (median != 0) & (close_w == 0):\n",
    "        sli[:] = sn.median_filter(img[idx], median)[:]\n",
    "        plt.imshow(((sli<thres1)&(sli>8.1)).astype(np.int8))\n",
    "    else:\n",
    "        plt.imshow(((img[idx]<thres1)&(img[idx]>8.1)).astype(np.int8))\n",
    "    plt.show()\n",
    "widgets.interact(func, idx=(0, 322), thres1=(8.31, 8.37, 5e-4), median=(0, 10, 1), close_w=(0, 30, 1))\n",
    "\n"
   ]
  },
  {
   "cell_type": "code",
   "execution_count": null,
   "metadata": {},
   "outputs": [],
   "source": [
    "fn = '/NSLS2/xf18id1/users/2020Q1/TONGCHAO_LIU_Proposal_000000/masked_analyzed_3D_spectrum/xanes3D_downsampled_0.5_4.tif'\n",
    "img = tifffile.imread(fn)\n",
    "median = 10\n",
    "close_w = 3\n",
    "thres1 = 8.349\n",
    "sli = img[0]\n",
    "mask = np.ndarray([img.shape[1], img.shape[2]])\n",
    "for ii in range(img.shape[0]):\n",
    "    sli[:] = sn.median_filter(img[ii], median)[:]\n",
    "    mask[:] = skm.binary_closing((sli<thres1)&(sli>8.1), selem=skm.disk(close_w)).astype(np.int8)[:]\n",
    "    img[ii] = (sn.median_filter(mask*img[ii], median) + sn.median_filter((1-mask)*img[ii], median))[:]\n",
    "fn = '/NSLS2/xf18id1/users/2020Q1/TONGCHAO_LIU_Proposal_000000/masked_analyzed_3D_spectrum/xanes3D_downsampled_0.5_4_median_filter_10_close_3_thresholde_8.349.tif'\n",
    "tifffile.imsave(fn, img)"
   ]
  },
  {
   "cell_type": "code",
   "execution_count": null,
   "metadata": {},
   "outputs": [],
   "source": [
    "%matplotlib qt\n",
    "import matplotlib.pyplot as plt\n",
    "img1 = (img*(img<8.3525)*skm.binary_dilation((img_sli>2e-3), selem=skm.disk(15)))\n",
    "plt.subplot(131)\n",
    "plt.imshow(img)\n",
    "plt.subplot(132)\n",
    "plt.imshow(img_sli)\n",
    "plt.subplot(133)\n",
    "plt.imshow(img1)"
   ]
  },
  {
   "cell_type": "code",
   "execution_count": null,
   "metadata": {},
   "outputs": [],
   "source": [
    "plt.subplot(121)\n",
    "plt.imshow(vol0[300,...])\n",
    "plt.subplot(122)\n",
    "plt.imshow(vol1[200,...])"
   ]
  },
  {
   "cell_type": "code",
   "execution_count": null,
   "metadata": {},
   "outputs": [],
   "source": [
    "import os\n",
    "#dir(os.path)\n",
    "fn = '/NSLS2/xf18id1/users/2020Q1/TONGCHAO_LIU_Proposal_000000/masked_analyzed_3D_spectrum/xanes3D_downsampled_0.5_4_median_filter_10_close_3_thresholde_8.349.tif'\n",
    "print(os.path.splitext(fn))"
   ]
  },
  {
   "cell_type": "code",
   "execution_count": null,
   "metadata": {},
   "outputs": [],
   "source": [
    "import h5py\n",
    "#dir(h5py)\n",
    "help(h5py.VirtualLayout)"
   ]
  },
  {
   "cell_type": "code",
   "execution_count": null,
   "metadata": {},
   "outputs": [],
   "source": [
    "%matplotlib qt\n",
    "import tomopy\n",
    "import h5py\n",
    "import matplotlib.pyplot as plt\n",
    "plt.ion()"
   ]
  },
  {
   "cell_type": "code",
   "execution_count": null,
   "metadata": {},
   "outputs": [],
   "source": [
    "fn = \"/NSLS2/xf18id1/users/2020Q1/ENYUAN_Proposal_305409/fly_scan_id_29671.h5\"\n",
    "f = h5py.File(fn, 'r')\n",
    "img = f['/img_tomo'][:, 500:501, :]\n",
    "f.close()"
   ]
  },
  {
   "cell_type": "code",
   "execution_count": null,
   "metadata": {},
   "outputs": [],
   "source": [
    "plt.imshow(img[:,0,:])"
   ]
  },
  {
   "cell_type": "code",
   "execution_count": null,
   "metadata": {},
   "outputs": [],
   "source": [
    "plt.plot(img[:, 0, :].mean(axis=1))"
   ]
  },
  {
   "cell_type": "code",
   "execution_count": null,
   "metadata": {},
   "outputs": [],
   "source": [
    "f = []\n",
    "len(f)"
   ]
  },
  {
   "cell_type": "code",
   "execution_count": 3,
   "metadata": {},
   "outputs": [
    {
     "name": "stdout",
     "output_type": "stream",
     "text": [
      "11\n",
      "0 0 200\n",
      "1 170 370\n",
      "2 340 540\n",
      "3 510 710\n",
      "4 680 880\n",
      "5 850 1050\n",
      "6 1020 1220\n",
      "7 1190 1390\n",
      "8 1360 1560\n",
      "9 1530 1730\n",
      "10 1700 1800\n"
     ]
    }
   ],
   "source": [
    "rec_sli_start = 0\n",
    "rec_sli_end = 1800\n",
    "rec_chunk_sz = 200\n",
    "rec_margin = 15\n",
    "dim = [1000, 2160]\n",
    "\n",
    "if rec_sli_start is None:\n",
    "    rec_sli_start = 0\n",
    "if rec_sli_end is None:\n",
    "    rec_sli_end = dim[1]\n",
    "\n",
    "if rec_chunk_sz >= (rec_sli_end-rec_sli_start):\n",
    "    rec_chunk_sz = (rec_sli_end-rec_sli_start)\n",
    "    num_chunk = 1\n",
    "else:\n",
    "    num_chunk = int((rec_sli_end-rec_sli_start)/(rec_chunk_sz-2*rec_margin)) + 1\n",
    "\n",
    "print(num_chunk)\n",
    "\n",
    "for ii in range(num_chunk):\n",
    "    if ii == 0:\n",
    "        sli_start = rec_sli_start\n",
    "        sli_end = rec_sli_start + rec_chunk_sz\n",
    "    else:\n",
    "        sli_start = rec_sli_start + ii*(rec_chunk_sz-2*rec_margin)\n",
    "        sli_end = sli_start + rec_chunk_sz\n",
    "        if sli_end > rec_sli_end:\n",
    "            sli_end = rec_sli_end\n",
    "        if sli_end > dim[1]:\n",
    "            sli_end = dim[1]\n",
    "\n",
    "    if (sli_end - sli_start) <= rec_margin:\n",
    "        break\n",
    "        \n",
    "    print(ii, sli_start, sli_end)"
   ]
  },
  {
   "cell_type": "code",
   "execution_count": null,
   "metadata": {},
   "outputs": [],
   "source": [
    "from ipywidgets import widgets\n",
    "\n",
    "\n",
    "widgets.SelectMultiple(\n",
    "    options=['Apples', 'Oranges', 'Pears'],\n",
    "    value=['Oranges'],\n",
    "    #rows=10,\n",
    "    description='Fruits',\n",
    "    disabled=False\n",
    ")"
   ]
  },
  {
   "cell_type": "code",
   "execution_count": null,
   "metadata": {},
   "outputs": [],
   "source": [
    "from ipywidgets import AppLayout, Button, Layout\n",
    "from ipywidgets import Button, Layout, jslink, IntText, IntSlider, GridspecLayout\n",
    "\n",
    "def create_expanded_button(description, button_style):\n",
    "    return Button(description=description, button_style=button_style, layout=Layout(height='auto', width='auto'))\n",
    "\n",
    "header_button = create_expanded_button('Header', 'success')\n",
    "left_button = create_expanded_button('Left', 'info')\n",
    "center_button = create_expanded_button('Center', 'warning')\n",
    "right_button = create_expanded_button('Right', 'info')\n",
    "footer_button = create_expanded_button('Footer', 'success')\n",
    "\n",
    "\n",
    "\n",
    "\n",
    "\n",
    "grid = GridspecLayout(4, 3, height='300px')\n",
    "grid[:3, 1:] = create_expanded_button('One', 'info')\n",
    "grid[:, 0] = create_expanded_button('Two', 'info')\n",
    "grid[3, 1] = create_expanded_button('Three', 'info')\n",
    "grid[3, 2] = create_expanded_button('Four', 'info')\n",
    "\n",
    "grid\n",
    "\n",
    "\n",
    "\n",
    "\n",
    "\n",
    "\n",
    "\n"
   ]
  },
  {
   "cell_type": "code",
   "execution_count": null,
   "metadata": {},
   "outputs": [],
   "source": [
    "grid[:3, 1:] = create_expanded_button('I am new too!!!!!', 'warning')"
   ]
  },
  {
   "cell_type": "code",
   "execution_count": null,
   "metadata": {},
   "outputs": [],
   "source": [
    "from ipywidgets import widgets\n",
    "accordion = widgets.Accordion(children=[widgets.IntSlider(), widgets.Text()], titles=('Slider', 'Text'))\n",
    "accordion"
   ]
  },
  {
   "cell_type": "code",
   "execution_count": null,
   "metadata": {},
   "outputs": [],
   "source": [
    "import imagej\n",
    "ij = imagej.init('/home/xiao/software/Fiji.app', headless=False)\n",
    "ijui = ij.ui()\n",
    "ijui.showUI()"
   ]
  },
  {
   "cell_type": "code",
   "execution_count": null,
   "metadata": {},
   "outputs": [],
   "source": [
    "from jnius import autoclass\n",
    "WindowManager = autoclass('ij.WindowManager')\n",
    "ImagePlusClass = autoclass('ij.ImagePlus')"
   ]
  },
  {
   "cell_type": "code",
   "execution_count": null,
   "metadata": {},
   "outputs": [],
   "source": [
    "import numpy as np\n",
    "#import imagej.server as isv\n",
    "h = WindowManager.getCurrentImage()\n",
    "help(h.setImage)\n",
    "a = np.ndarray([512, 512], dtype=np.uint8)\n",
    "b = ij.convert().convert(ij.py.to_java(a), ImagePlusClass)\n",
    "print(b)\n",
    "c = ij.py.to_java(a)\n",
    "print(c)"
   ]
  },
  {
   "cell_type": "code",
   "execution_count": 2,
   "metadata": {},
   "outputs": [
    {
     "name": "stderr",
     "output_type": "stream",
     "text": [
      "The JVM is already running.\n"
     ]
    },
    {
     "ename": "NameError",
     "evalue": "name 'ij' is not defined",
     "output_type": "error",
     "traceback": [
      "\u001b[0;31m---------------------------------------------------------------------------\u001b[0m",
      "\u001b[0;31mNameError\u001b[0m                                 Traceback (most recent call last)",
      "\u001b[0;32m<ipython-input-2-f756ec52a695>\u001b[0m in \u001b[0;36m<module>\u001b[0;34m\u001b[0m\n\u001b[1;32m      3\u001b[0m \u001b[0;32mfrom\u001b[0m \u001b[0mjnius\u001b[0m \u001b[0;32mimport\u001b[0m \u001b[0mautoclass\u001b[0m\u001b[0;34m\u001b[0m\u001b[0;34m\u001b[0m\u001b[0m\n\u001b[1;32m      4\u001b[0m \u001b[0;34m\u001b[0m\u001b[0m\n\u001b[0;32m----> 5\u001b[0;31m \u001b[0mij\u001b[0m \u001b[0;34m=\u001b[0m \u001b[0mimagej\u001b[0m\u001b[0;34m.\u001b[0m\u001b[0minit\u001b[0m\u001b[0;34m(\u001b[0m\u001b[0;34m'/home/xiao/software/Fiji.app'\u001b[0m\u001b[0;34m,\u001b[0m \u001b[0mheadless\u001b[0m\u001b[0;34m=\u001b[0m\u001b[0;32mFalse\u001b[0m\u001b[0;34m)\u001b[0m\u001b[0;34m\u001b[0m\u001b[0;34m\u001b[0m\u001b[0m\n\u001b[0m\u001b[1;32m      6\u001b[0m \u001b[0mijui\u001b[0m \u001b[0;34m=\u001b[0m \u001b[0mij\u001b[0m\u001b[0;34m.\u001b[0m\u001b[0mui\u001b[0m\u001b[0;34m(\u001b[0m\u001b[0;34m)\u001b[0m\u001b[0;34m\u001b[0m\u001b[0;34m\u001b[0m\u001b[0m\n\u001b[1;32m      7\u001b[0m \u001b[0mijui\u001b[0m\u001b[0;34m.\u001b[0m\u001b[0mshowUI\u001b[0m\u001b[0;34m(\u001b[0m\u001b[0;34m)\u001b[0m\u001b[0;34m\u001b[0m\u001b[0;34m\u001b[0m\u001b[0m\n",
      "\u001b[0;32m~/software/anaconda3/envs/py36/lib/python3.6/site-packages/imagej/imagej.py\u001b[0m in \u001b[0;36minit\u001b[0;34m(ij_dir_or_version_or_endpoint, headless, new_instance)\u001b[0m\n\u001b[1;32m     84\u001b[0m     \u001b[0;32mif\u001b[0m \u001b[0mjnius_config\u001b[0m\u001b[0;34m.\u001b[0m\u001b[0mvm_running\u001b[0m \u001b[0;32mand\u001b[0m \u001b[0;32mnot\u001b[0m \u001b[0mnew_instance\u001b[0m\u001b[0;34m:\u001b[0m\u001b[0;34m\u001b[0m\u001b[0;34m\u001b[0m\u001b[0m\n\u001b[1;32m     85\u001b[0m         \u001b[0m_logger\u001b[0m\u001b[0;34m.\u001b[0m\u001b[0mwarning\u001b[0m\u001b[0;34m(\u001b[0m\u001b[0;34m'The JVM is already running.'\u001b[0m\u001b[0;34m)\u001b[0m\u001b[0;34m\u001b[0m\u001b[0;34m\u001b[0m\u001b[0m\n\u001b[0;32m---> 86\u001b[0;31m         \u001b[0;32mreturn\u001b[0m \u001b[0mij\u001b[0m\u001b[0;34m\u001b[0m\u001b[0;34m\u001b[0m\u001b[0m\n\u001b[0m\u001b[1;32m     87\u001b[0m \u001b[0;34m\u001b[0m\u001b[0m\n\u001b[1;32m     88\u001b[0m     \u001b[0;32mif\u001b[0m \u001b[0;32mnot\u001b[0m \u001b[0mjnius_config\u001b[0m\u001b[0;34m.\u001b[0m\u001b[0mvm_running\u001b[0m\u001b[0;34m:\u001b[0m\u001b[0;34m\u001b[0m\u001b[0;34m\u001b[0m\u001b[0m\n",
      "\u001b[0;31mNameError\u001b[0m: name 'ij' is not defined"
     ]
    }
   ],
   "source": [
    "import numpy as np\n",
    "import imagej\n",
    "from jnius import autoclass\n",
    "\n",
    "ij = imagej.init('/home/xiao/software/Fiji.app', headless=False)\n",
    "ijui = ij.ui()\n",
    "ijui.showUI()\n",
    "\n",
    "from jnius import autoclass\n",
    "WindowManager = autoclass('ij.WindowManager')\n",
    "ImagePlusClass = autoclass('ij.ImagePlus')"
   ]
  },
  {
   "cell_type": "code",
   "execution_count": 1,
   "metadata": {},
   "outputs": [
    {
     "name": "stderr",
     "output_type": "stream",
     "text": [
      "The JVM is already running.\n"
     ]
    },
    {
     "ename": "NameError",
     "evalue": "name 'ij' is not defined",
     "output_type": "error",
     "traceback": [
      "\u001b[0;31m---------------------------------------------------------------------------\u001b[0m",
      "\u001b[0;31mNameError\u001b[0m                                 Traceback (most recent call last)",
      "\u001b[0;32m<ipython-input-1-45732a3b7c08>\u001b[0m in \u001b[0;36m<module>\u001b[0;34m\u001b[0m\n\u001b[1;32m      3\u001b[0m \u001b[0;32mfrom\u001b[0m \u001b[0mjnius\u001b[0m \u001b[0;32mimport\u001b[0m \u001b[0mautoclass\u001b[0m\u001b[0;34m\u001b[0m\u001b[0;34m\u001b[0m\u001b[0m\n\u001b[1;32m      4\u001b[0m \u001b[0;34m\u001b[0m\u001b[0m\n\u001b[0;32m----> 5\u001b[0;31m \u001b[0mij\u001b[0m \u001b[0;34m=\u001b[0m \u001b[0mimagej\u001b[0m\u001b[0;34m.\u001b[0m\u001b[0minit\u001b[0m\u001b[0;34m(\u001b[0m\u001b[0;34m'/home/xiao/software/Fiji.app'\u001b[0m\u001b[0;34m,\u001b[0m \u001b[0mheadless\u001b[0m\u001b[0;34m=\u001b[0m\u001b[0;32mFalse\u001b[0m\u001b[0;34m)\u001b[0m\u001b[0;34m\u001b[0m\u001b[0;34m\u001b[0m\u001b[0m\n\u001b[0m\u001b[1;32m      6\u001b[0m \u001b[0mijui\u001b[0m \u001b[0;34m=\u001b[0m \u001b[0mij\u001b[0m\u001b[0;34m.\u001b[0m\u001b[0mui\u001b[0m\u001b[0;34m(\u001b[0m\u001b[0;34m)\u001b[0m\u001b[0;34m\u001b[0m\u001b[0;34m\u001b[0m\u001b[0m\n\u001b[1;32m      7\u001b[0m \u001b[0mijui\u001b[0m\u001b[0;34m.\u001b[0m\u001b[0mshowUI\u001b[0m\u001b[0;34m(\u001b[0m\u001b[0;34m)\u001b[0m\u001b[0;34m\u001b[0m\u001b[0;34m\u001b[0m\u001b[0m\n",
      "\u001b[0;32m~/software/anaconda3/envs/py36/lib/python3.6/site-packages/imagej/imagej.py\u001b[0m in \u001b[0;36minit\u001b[0;34m(ij_dir_or_version_or_endpoint, headless, new_instance)\u001b[0m\n\u001b[1;32m     84\u001b[0m     \u001b[0;32mif\u001b[0m \u001b[0mjnius_config\u001b[0m\u001b[0;34m.\u001b[0m\u001b[0mvm_running\u001b[0m \u001b[0;32mand\u001b[0m \u001b[0;32mnot\u001b[0m \u001b[0mnew_instance\u001b[0m\u001b[0;34m:\u001b[0m\u001b[0;34m\u001b[0m\u001b[0;34m\u001b[0m\u001b[0m\n\u001b[1;32m     85\u001b[0m         \u001b[0m_logger\u001b[0m\u001b[0;34m.\u001b[0m\u001b[0mwarning\u001b[0m\u001b[0;34m(\u001b[0m\u001b[0;34m'The JVM is already running.'\u001b[0m\u001b[0;34m)\u001b[0m\u001b[0;34m\u001b[0m\u001b[0;34m\u001b[0m\u001b[0m\n\u001b[0;32m---> 86\u001b[0;31m         \u001b[0;32mreturn\u001b[0m \u001b[0mij\u001b[0m\u001b[0;34m\u001b[0m\u001b[0;34m\u001b[0m\u001b[0m\n\u001b[0m\u001b[1;32m     87\u001b[0m \u001b[0;34m\u001b[0m\u001b[0m\n\u001b[1;32m     88\u001b[0m     \u001b[0;32mif\u001b[0m \u001b[0;32mnot\u001b[0m \u001b[0mjnius_config\u001b[0m\u001b[0;34m.\u001b[0m\u001b[0mvm_running\u001b[0m\u001b[0;34m:\u001b[0m\u001b[0;34m\u001b[0m\u001b[0;34m\u001b[0m\u001b[0m\n",
      "\u001b[0;31mNameError\u001b[0m: name 'ij' is not defined"
     ]
    }
   ],
   "source": [
    "\n",
    "\n",
    "img1 = np.ndarray([512, 512], dtype=np.float32)\n",
    "ijui.show(ij.py.to_java(img1))\n",
    "viewer_ip = WindowManager.getCurrentImage()\n"
   ]
  },
  {
   "cell_type": "code",
   "execution_count": null,
   "metadata": {},
   "outputs": [],
   "source": [
    "img2 = np.ndarray([512, 512], dtype=np.float32)\n",
    "viewer_ip.setImage(ij.convert().convert(ij.dataset().create(ij.py.to_java(img2)), ImagePlusClass))"
   ]
  },
  {
   "cell_type": "code",
   "execution_count": 6,
   "metadata": {},
   "outputs": [],
   "source": [
    "import h5py, numpy as np\n",
    "fn = '/media/xiao_usb/3D_trial_reg_scan_id_29773-29873_2020-06-01-20-38-09.h5'\n",
    "with h5py.File(fn, 'r') as f:\n",
    "    data = f['/registration_results/reg_results/registered_xanes3D'][:, 0, 50:200, 420:550]\n",
    "    #data = f['/registration_results/reg_results/registered_xanes3D'][:, 0, 50:450, 320:650]\n",
    "    eng = f['/registration_results/reg_results/eng_list'][:]*1e3"
   ]
  },
  {
   "cell_type": "code",
   "execution_count": 7,
   "metadata": {},
   "outputs": [],
   "source": [
    "new_fn = '/media/xiao_usb/test_data_small.h5'\n",
    "with h5py.File(new_fn, 'w') as f:\n",
    "    f.create_dataset('spec', data=data.astype(np.float32))\n",
    "    f.create_dataset('eng', data=eng.astype(np.float32))\n"
   ]
  },
  {
   "cell_type": "code",
   "execution_count": null,
   "metadata": {},
   "outputs": [],
   "source": []
  }
 ],
 "metadata": {
  "kernelspec": {
   "display_name": "Python 3",
   "language": "python",
   "name": "python3"
  },
  "language_info": {
   "codemirror_mode": {
    "name": "ipython",
    "version": 3
   },
   "file_extension": ".py",
   "mimetype": "text/x-python",
   "name": "python",
   "nbconvert_exporter": "python",
   "pygments_lexer": "ipython3",
   "version": "3.7.8"
  }
 },
 "nbformat": 4,
 "nbformat_minor": 4
}
