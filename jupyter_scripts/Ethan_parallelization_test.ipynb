{
 "cells": [
  {
   "cell_type": "code",
   "execution_count": null,
   "metadata": {},
   "outputs": [],
   "source": []
  },
  {
   "cell_type": "markdown",
   "metadata": {},
   "source": [
    "***\n",
    "***\n",
    "> >>>>>>> # ***parallelize larch***\n",
    "***\n",
    "***"
   ]
  },
  {
   "cell_type": "code",
   "execution_count": 65,
   "metadata": {},
   "outputs": [
    {
     "name": "stderr",
     "output_type": "stream",
     "text": [
      "[numexpr.utils] INFO : Note: NumExpr detected 24 cores but \"NUMEXPR_MAX_THREADS\" not set, so enforcing safe limit of 8.\n",
      "[numexpr.utils] INFO : NumExpr defaulting to 8 threads.\n",
      "[dxchange.reader] WARNING : astropy module not found\n"
     ]
    }
   ],
   "source": [
    "%matplotlib qt\n",
    "from larch.xafs import preedge\n",
    "from larch.math.fitpeak import fit_peak\n",
    "import h5py, os, time, timeit, numpy as np\n",
    "import multiprocessing as mp\n",
    "import matplotlib.pyplot as plt"
   ]
  },
  {
   "cell_type": "code",
   "execution_count": 66,
   "metadata": {},
   "outputs": [
    {
     "name": "stdout",
     "output_type": "stream",
     "text": [
      "(101, 150, 130)\n",
      "(14,) (14, 19500)\n",
      "Tue Jun 16 10:35:24 2020\n",
      "Tue Jun 16 10:37:59 2020\n"
     ]
    }
   ],
   "source": [
    "fn = '/your_dir/test.h5'\n",
    "with h5py.File(fn, 'r') as f:\n",
    "    data = f['/spec'][:]\n",
    "    eng = f['/eng'][:]\n",
    "\n",
    "dim = data.shape\n",
    "print(dim)\n",
    "\n",
    "### pre_edge\n",
    "# ids = list(np.arange(20)) + list(np.arange(40, 49))\n",
    "### fit_peak\n",
    "ids = list(np.arange(40, 54))\n",
    "x = eng[ids]\n",
    "y = data[ids, :].reshape([len(ids), -1])\n",
    "\n",
    "n_cpu = os.cpu_count()\n",
    "par_dict = {'amplitude':1e-3, 'center':x[-1], 'sigma':3.0,\n",
    "            'slope':0.1, 'intercept':0.0}\n",
    "par_bounds = ((1e-5, x[-8], 0.1, 0, 0), (1e-2, x[-1], 10, 1, 2))\n",
    "\n",
    "print(x.shape, y.shape)\n",
    "print(time.asctime())    \n",
    "############ multiprocessing\n",
    "with mp.Pool(n_cpu-1) as pool:\n",
    "    # rlt = pool.starmap(preedge, [(x, y[:, ii]) for ii in np.int32(np.arange(dim[1]*dim[2]))])\n",
    "    rlt = pool.starmap(fit_peak, [(x, y[:, ii], 'lorentzian') for ii in np.int32(np.arange(dim[1]*dim[2]))])\n",
    "pool.join()\n",
    "pool.close()\n",
    "\n",
    "print(time.asctime())\n",
    "#print(len(rlt))"
   ]
  },
  {
   "cell_type": "code",
   "execution_count": 8,
   "metadata": {},
   "outputs": [
    {
     "name": "stdout",
     "output_type": "stream",
     "text": [
      "[-6.5672310e-07 -7.5151883e-07 -8.6970380e-07 -1.0166663e-06\n",
      " -1.2063750e-06 -1.4518193e-06 -1.7843104e-06 -2.2402783e-06\n",
      " -2.9040248e-06 -3.9033016e-06 -5.5066685e-06 -8.4416870e-06\n",
      " -1.4391217e-05 -2.9843643e-05]\n"
     ]
    }
   ],
   "source": [
    "print((rlt[0].fit))"
   ]
  },
  {
   "cell_type": "code",
   "execution_count": 10,
   "metadata": {},
   "outputs": [
    {
     "name": "stdout",
     "output_type": "stream",
     "text": [
      "dict_keys(['x', 'y', 'dy', 'model', 'background', 'form', 'init_params', 'fit', 'fit_init', 'fit_details', 'chi_square', 'chi_reduced', 'aic', 'bic', 'covar', 'rfactor', 'params', 'nvarys', 'nfree', 'ndata', 'var_names', 'nfev', 'success', 'errorbars', 'message', 'lmdif_message', 'residual'])\n"
     ]
    }
   ],
   "source": [
    "print(rlt[0]._members().keys())"
   ]
  },
  {
   "cell_type": "code",
   "execution_count": 25,
   "metadata": {},
   "outputs": [],
   "source": [
    "plt.figure(1)\n",
    "for ii in range(50, 55):\n",
    "    for jj in range(75, 80):\n",
    "        idx = ii*dim[2] + jj\n",
    "        plt.plot(rlt[0].x, rlt[idx].y)\n",
    "        #plt.plot(rlt[0].x, rlt[idx].fit)"
   ]
  },
  {
   "cell_type": "code",
   "execution_count": 20,
   "metadata": {},
   "outputs": [
    {
     "data": {
      "text/plain": [
       "<matplotlib.image.AxesImage at 0x7f723034fc90>"
      ]
     },
     "execution_count": 20,
     "metadata": {},
     "output_type": "execute_result"
    }
   ],
   "source": [
    "plt.figure(2)\n",
    "plt.imshow(y[10].reshape([dim[1], dim[2]]))"
   ]
  },
  {
   "cell_type": "code",
   "execution_count": 56,
   "metadata": {},
   "outputs": [
    {
     "name": "stdout",
     "output_type": "stream",
     "text": [
      "(101, 150, 130) (101, 19500)\n"
     ]
    }
   ],
   "source": [
    "a = data\n",
    "b = np.reshape(a, (a.shape[0], -1))\n",
    "print(a.shape, b.shape)"
   ]
  },
  {
   "cell_type": "markdown",
   "metadata": {},
   "source": [
    "***\n",
    "***\n",
    "> >>>>>>> # ***parallelize scipy.optimize.curve_fit***\n",
    "***\n",
    "***"
   ]
  },
  {
   "cell_type": "code",
   "execution_count": 1,
   "metadata": {},
   "outputs": [],
   "source": [
    "import numpy as np\n",
    "from scipy.optimize import minimize, curve_fit, least_squares as lsq, lsq_linear, nnls\n",
    "import multiprocess as mp\n",
    "\n",
    "from lmfit.lineshapes import (gaussian, lorentzian, voigt, pvoigt, moffat, pearson7,\n",
    "                         breit_wigner, damped_oscillator, dho, logistic, lognormal,\n",
    "                         students_t, expgaussian, donaich, skewed_gaussian,\n",
    "                         skewed_voigt, step, rectangle,  \n",
    "                         exponential, powerlaw, linear, parabolic, sine, \n",
    "                         expsine, split_lorentzian)\n",
    "\n",
    "functions = {'gaussian':gaussian, 'lorentzian':lorentzian, 'voigt':voigt, \n",
    "             'pvoigt':pvoigt, 'moffat':moffat, 'pearson7':pearson7,\n",
    "             'breit_wigner':breit_wigner, 'damped_oscillator':damped_oscillator,\n",
    "             'dho':dho, 'logistic':logistic, 'lognormal':lognormal,\n",
    "             'students_t':students_t, 'expgaussian':expgaussian, \n",
    "             'donaich':donaich, 'skewed_gaussian':skewed_gaussian,\n",
    "             'skewed_voigt':skewed_voigt, 'step':step, 'rectangle':rectangle, \n",
    "             'exponential':exponential, 'powerlaw':powerlaw, \n",
    "             'linear':linear, 'parabolic':parabolic, 'sine':sine, \n",
    "             'expsine':expsine, 'split_lorentzian':split_lorentzian}"
   ]
  },
  {
   "cell_type": "code",
   "execution_count": 51,
   "metadata": {},
   "outputs": [
    {
     "name": "stdout",
     "output_type": "stream",
     "text": [
      "(101, 150, 130)\n",
      "(14,) (14, 19500)\n",
      "Tue Jun 16 10:03:36 2020\n"
     ]
    },
    {
     "ename": "TypeError",
     "evalue": "unhashable type: 'numpy.ndarray'",
     "output_type": "error",
     "traceback": [
      "\u001b[0;31m---------------------------------------------------------------------------\u001b[0m",
      "\u001b[0;31mRemoteTraceback\u001b[0m                           Traceback (most recent call last)",
      "\u001b[0;31mRemoteTraceback\u001b[0m: \n\"\"\"\nTraceback (most recent call last):\n  File \"/home/xiao/software/anaconda3/envs/py37play/lib/python3.7/site-packages/multiprocess/pool.py\", line 121, in worker\n    result = (True, func(*args, **kwds))\n  File \"/home/xiao/software/anaconda3/envs/py37play/lib/python3.7/site-packages/multiprocess/pool.py\", line 47, in starmapstar\n    return list(itertools.starmap(args[0], args[1]))\n  File \"<ipython-input-51-12c0961eb756>\", line 23, in local_lsq\n    lsq(res, x0, **{y0:y0})\nTypeError: unhashable type: 'numpy.ndarray'\n\"\"\"",
      "\nThe above exception was the direct cause of the following exception:\n",
      "\u001b[0;31mTypeError\u001b[0m                                 Traceback (most recent call last)",
      "\u001b[0;32m<ipython-input-51-12c0961eb756>\u001b[0m in \u001b[0;36m<module>\u001b[0;34m\u001b[0m\n\u001b[1;32m     29\u001b[0m \u001b[0;31m############ multiprocessing\u001b[0m\u001b[0;34m\u001b[0m\u001b[0;34m\u001b[0m\u001b[0;34m\u001b[0m\u001b[0m\n\u001b[1;32m     30\u001b[0m \u001b[0;32mwith\u001b[0m \u001b[0mmp\u001b[0m\u001b[0;34m.\u001b[0m\u001b[0mPool\u001b[0m\u001b[0;34m(\u001b[0m\u001b[0mn_cpu\u001b[0m\u001b[0;34m-\u001b[0m\u001b[0;36m1\u001b[0m\u001b[0;34m)\u001b[0m \u001b[0;32mas\u001b[0m \u001b[0mpool\u001b[0m\u001b[0;34m:\u001b[0m\u001b[0;34m\u001b[0m\u001b[0;34m\u001b[0m\u001b[0m\n\u001b[0;32m---> 31\u001b[0;31m     \u001b[0mrlt\u001b[0m \u001b[0;34m=\u001b[0m \u001b[0mpool\u001b[0m\u001b[0;34m.\u001b[0m\u001b[0mstarmap\u001b[0m\u001b[0;34m(\u001b[0m\u001b[0mlocal_lsq\u001b[0m\u001b[0;34m,\u001b[0m \u001b[0;34m[\u001b[0m\u001b[0;34m(\u001b[0m\u001b[0mx\u001b[0m\u001b[0;34m,\u001b[0m \u001b[0my\u001b[0m\u001b[0;34m[\u001b[0m\u001b[0;34m:\u001b[0m\u001b[0;34m,\u001b[0m \u001b[0mii\u001b[0m\u001b[0;34m]\u001b[0m\u001b[0;34m)\u001b[0m \u001b[0;32mfor\u001b[0m \u001b[0mii\u001b[0m \u001b[0;32min\u001b[0m \u001b[0mnp\u001b[0m\u001b[0;34m.\u001b[0m\u001b[0mint32\u001b[0m\u001b[0;34m(\u001b[0m\u001b[0mnp\u001b[0m\u001b[0;34m.\u001b[0m\u001b[0marange\u001b[0m\u001b[0;34m(\u001b[0m\u001b[0mdim\u001b[0m\u001b[0;34m[\u001b[0m\u001b[0;36m1\u001b[0m\u001b[0;34m]\u001b[0m\u001b[0;34m*\u001b[0m\u001b[0mdim\u001b[0m\u001b[0;34m[\u001b[0m\u001b[0;36m2\u001b[0m\u001b[0;34m]\u001b[0m\u001b[0;34m)\u001b[0m\u001b[0;34m)\u001b[0m\u001b[0;34m]\u001b[0m\u001b[0;34m)\u001b[0m\u001b[0;34m\u001b[0m\u001b[0;34m\u001b[0m\u001b[0m\n\u001b[0m\u001b[1;32m     32\u001b[0m \u001b[0mpool\u001b[0m\u001b[0;34m.\u001b[0m\u001b[0mjoin\u001b[0m\u001b[0;34m(\u001b[0m\u001b[0;34m)\u001b[0m\u001b[0;34m\u001b[0m\u001b[0;34m\u001b[0m\u001b[0m\n\u001b[1;32m     33\u001b[0m \u001b[0mpool\u001b[0m\u001b[0;34m.\u001b[0m\u001b[0mclose\u001b[0m\u001b[0;34m(\u001b[0m\u001b[0;34m)\u001b[0m\u001b[0;34m\u001b[0m\u001b[0;34m\u001b[0m\u001b[0m\n",
      "\u001b[0;32m~/software/anaconda3/envs/py37play/lib/python3.7/site-packages/multiprocess/pool.py\u001b[0m in \u001b[0;36mstarmap\u001b[0;34m(self, func, iterable, chunksize)\u001b[0m\n\u001b[1;32m    274\u001b[0m         \u001b[0;31m`\u001b[0m\u001b[0mfunc\u001b[0m\u001b[0;31m`\u001b[0m \u001b[0;32mand\u001b[0m \u001b[0;34m(\u001b[0m\u001b[0ma\u001b[0m\u001b[0;34m,\u001b[0m \u001b[0mb\u001b[0m\u001b[0;34m)\u001b[0m \u001b[0mbecomes\u001b[0m \u001b[0mfunc\u001b[0m\u001b[0;34m(\u001b[0m\u001b[0ma\u001b[0m\u001b[0;34m,\u001b[0m \u001b[0mb\u001b[0m\u001b[0;34m)\u001b[0m\u001b[0;34m.\u001b[0m\u001b[0;34m\u001b[0m\u001b[0;34m\u001b[0m\u001b[0m\n\u001b[1;32m    275\u001b[0m         '''\n\u001b[0;32m--> 276\u001b[0;31m         \u001b[0;32mreturn\u001b[0m \u001b[0mself\u001b[0m\u001b[0;34m.\u001b[0m\u001b[0m_map_async\u001b[0m\u001b[0;34m(\u001b[0m\u001b[0mfunc\u001b[0m\u001b[0;34m,\u001b[0m \u001b[0miterable\u001b[0m\u001b[0;34m,\u001b[0m \u001b[0mstarmapstar\u001b[0m\u001b[0;34m,\u001b[0m \u001b[0mchunksize\u001b[0m\u001b[0;34m)\u001b[0m\u001b[0;34m.\u001b[0m\u001b[0mget\u001b[0m\u001b[0;34m(\u001b[0m\u001b[0;34m)\u001b[0m\u001b[0;34m\u001b[0m\u001b[0;34m\u001b[0m\u001b[0m\n\u001b[0m\u001b[1;32m    277\u001b[0m \u001b[0;34m\u001b[0m\u001b[0m\n\u001b[1;32m    278\u001b[0m     def starmap_async(self, func, iterable, chunksize=None, callback=None,\n",
      "\u001b[0;32m~/software/anaconda3/envs/py37play/lib/python3.7/site-packages/multiprocess/pool.py\u001b[0m in \u001b[0;36mget\u001b[0;34m(self, timeout)\u001b[0m\n\u001b[1;32m    655\u001b[0m             \u001b[0;32mreturn\u001b[0m \u001b[0mself\u001b[0m\u001b[0;34m.\u001b[0m\u001b[0m_value\u001b[0m\u001b[0;34m\u001b[0m\u001b[0;34m\u001b[0m\u001b[0m\n\u001b[1;32m    656\u001b[0m         \u001b[0;32melse\u001b[0m\u001b[0;34m:\u001b[0m\u001b[0;34m\u001b[0m\u001b[0;34m\u001b[0m\u001b[0m\n\u001b[0;32m--> 657\u001b[0;31m             \u001b[0;32mraise\u001b[0m \u001b[0mself\u001b[0m\u001b[0;34m.\u001b[0m\u001b[0m_value\u001b[0m\u001b[0;34m\u001b[0m\u001b[0;34m\u001b[0m\u001b[0m\n\u001b[0m\u001b[1;32m    658\u001b[0m \u001b[0;34m\u001b[0m\u001b[0m\n\u001b[1;32m    659\u001b[0m     \u001b[0;32mdef\u001b[0m \u001b[0m_set\u001b[0m\u001b[0;34m(\u001b[0m\u001b[0mself\u001b[0m\u001b[0;34m,\u001b[0m \u001b[0mi\u001b[0m\u001b[0;34m,\u001b[0m \u001b[0mobj\u001b[0m\u001b[0;34m)\u001b[0m\u001b[0;34m:\u001b[0m\u001b[0;34m\u001b[0m\u001b[0;34m\u001b[0m\u001b[0m\n",
      "\u001b[0;31mTypeError\u001b[0m: unhashable type: 'numpy.ndarray'"
     ]
    }
   ],
   "source": [
    "import h5py, os, time\n",
    "fn = '/your_dir/test.h5'\n",
    "with h5py.File(fn, 'r') as f:\n",
    "    data = f['/spec'][:]\n",
    "    eng = f['/eng'][:]\n",
    "\n",
    "ids = list(np.arange(40, 54))\n",
    "x = eng[ids]\n",
    "y = data[ids, :].reshape([len(ids), -1])\n",
    "\n",
    "func = functions['lorentzian']   \n",
    "dim = data.shape\n",
    "print(dim)\n",
    "print(x.shape, y.shape)\n",
    "\n",
    "def res(x0, y0=None):\n",
    "    return func(x0) - y0\n",
    "    #rlt_t = lsq(func(x0)-y0, x0, bounds=(x0[0], x0[-1]))\n",
    "    #return rlt_t\n",
    "def local_lsq(x0, y0):\n",
    "    lsq(res, x0, **{y0:y0})\n",
    "\n",
    "n_cpu = os.cpu_count()\n",
    "pars_ini = {}\n",
    "#bnds = (x0[0], x0[-1])\n",
    "print(time.asctime())\n",
    "############ multiprocessing\n",
    "with mp.Pool(n_cpu-1) as pool:\n",
    "    rlt = pool.starmap(local_lsq, [(x, y[:, ii]) for ii in np.int32(np.arange(dim[1]*dim[2]))])\n",
    "pool.join()\n",
    "pool.close()\n",
    "print(time.asctime())"
   ]
  },
  {
   "cell_type": "code",
   "execution_count": 25,
   "metadata": {},
   "outputs": [],
   "source": [
    "\"\"\"\n",
    "The res definition here works but it IS WRONG in meanings. func is a Lorentzian lineshape defined in lmfit. Its first argument is x, and Lorentzian\n",
    "parmeters are defined as keywords with default values. The definition below assume the Lorentzian function has fixed parameters defined as their\n",
    "default values and fit x to minimize the the fitted value and the given value.\n",
    "\n",
    "To use lsq for curve fitting, we need to define a loss function in form of loss(func, fvars, x, y): return sum((func(fvars, x) - y)**2)\n",
    "\"\"\"\n",
    "def res(x0, *args):\n",
    "    return func(x0) - args[0]\n",
    "\n",
    "def local_lsq(x0, y0):\n",
    "    lsq(res, x0, args=(y0))\n",
    "    \n",
    "res(x, y[:, 0])\n",
    "r = lsq(res, (1, x[10], 2), args=(y[:, 0]))"
   ]
  },
  {
   "cell_type": "markdown",
   "metadata": {},
   "source": [
    "***\n",
    "***\n",
    "> >>>>>>> # ***parallelize scipy.optimize.curve_fit***\n",
    "***\n",
    "***"
   ]
  },
  {
   "cell_type": "code",
   "execution_count": null,
   "metadata": {},
   "outputs": [],
   "source": [
    "\"\"\"\n",
    "use scipy.optimize.curve_fit to fit experimental data\n",
    "The easiest way to do curve fitting is to use curve_fit. The loss function is defined internally.\n",
    "However, the convergence tolerance cannot be changed in curve_fit. The below case failed for exceeding\n",
    "maximum allowed iterations.\n",
    "\"\"\"\n",
    "%matplotlib qt\n",
    "import matplotlib.pyplot as plt\n",
    "import numpy as np\n",
    "from scipy.optimize import minimize, curve_fit, least_squares as lsq, lsq_linear, nnls\n",
    "import multiprocess as mp\n",
    "import h5py, os, time\n",
    "\n",
    "from lmfit.lineshapes import (gaussian, lorentzian, voigt, pvoigt, moffat, pearson7,\n",
    "                         breit_wigner, damped_oscillator, dho, logistic, lognormal,\n",
    "                         students_t, expgaussian, donaich, skewed_gaussian,\n",
    "                         skewed_voigt, step, rectangle,  \n",
    "                         exponential, powerlaw, linear, parabolic, sine, \n",
    "                         expsine, split_lorentzian)\n",
    "\n",
    "functions = {'gaussian':gaussian, 'lorentzian':lorentzian, 'voigt':voigt, \n",
    "             'pvoigt':pvoigt, 'moffat':moffat, 'pearson7':pearson7,\n",
    "             'breit_wigner':breit_wigner, 'damped_oscillator':damped_oscillator,\n",
    "             'dho':dho, 'logistic':logistic, 'lognormal':lognormal,\n",
    "             'students_t':students_t, 'expgaussian':expgaussian, \n",
    "             'donaich':donaich, 'skewed_gaussian':skewed_gaussian,\n",
    "             'skewed_voigt':skewed_voigt, 'step':step, 'rectangle':rectangle, \n",
    "             'exponential':exponential, 'powerlaw':powerlaw, \n",
    "             'linear':linear, 'parabolic':parabolic, 'sine':sine, \n",
    "             'expsine':expsine, 'split_lorentzian':split_lorentzian}"
   ]
  },
  {
   "cell_type": "code",
   "execution_count": 31,
   "metadata": {
    "collapsed": true,
    "jupyter": {
     "outputs_hidden": true
    }
   },
   "outputs": [
    {
     "name": "stdout",
     "output_type": "stream",
     "text": [
      "(101, 383, 1040)\n",
      "(14,) (14, 398320)\n",
      "Mon Jun 15 10:52:49 2020\n"
     ]
    },
    {
     "ename": "RuntimeError",
     "evalue": "Optimal parameters not found: The maximum number of function evaluations is exceeded.",
     "output_type": "error",
     "traceback": [
      "\u001b[0;31m---------------------------------------------------------------------------\u001b[0m",
      "\u001b[0;31mRemoteTraceback\u001b[0m                           Traceback (most recent call last)",
      "\u001b[0;31mRemoteTraceback\u001b[0m: \n\"\"\"\nTraceback (most recent call last):\n  File \"/home/xiao/software/anaconda3/envs/py37play/lib/python3.7/site-packages/multiprocess/pool.py\", line 121, in worker\n    result = (True, func(*args, **kwds))\n  File \"/home/xiao/software/anaconda3/envs/py37play/lib/python3.7/site-packages/multiprocess/pool.py\", line 47, in starmapstar\n    return list(itertools.starmap(args[0], args[1]))\n  File \"<ipython-input-31-f280cdcfa410>\", line 19, in fitting\n    curve_fit(func, x0, y0, p0=xinits, bounds=bnds)\n  File \"/home/xiao/software/anaconda3/envs/py37play/lib/python3.7/site-packages/scipy/optimize/minpack.py\", line 766, in curve_fit\n    raise RuntimeError(\"Optimal parameters not found: \" + res.message)\nRuntimeError: Optimal parameters not found: The maximum number of function evaluations is exceeded.\n\"\"\"",
      "\nThe above exception was the direct cause of the following exception:\n",
      "\u001b[0;31mRuntimeError\u001b[0m                              Traceback (most recent call last)",
      "\u001b[0;32m<ipython-input-31-f280cdcfa410>\u001b[0m in \u001b[0;36m<module>\u001b[0;34m\u001b[0m\n\u001b[1;32m     24\u001b[0m \u001b[0mn_cpu\u001b[0m \u001b[0;34m=\u001b[0m \u001b[0mos\u001b[0m\u001b[0;34m.\u001b[0m\u001b[0mcpu_count\u001b[0m\u001b[0;34m(\u001b[0m\u001b[0;34m)\u001b[0m\u001b[0;34m\u001b[0m\u001b[0;34m\u001b[0m\u001b[0m\n\u001b[1;32m     25\u001b[0m \u001b[0;32mwith\u001b[0m \u001b[0mmp\u001b[0m\u001b[0;34m.\u001b[0m\u001b[0mPool\u001b[0m\u001b[0;34m(\u001b[0m\u001b[0mn_cpu\u001b[0m \u001b[0;34m-\u001b[0m \u001b[0;36m1\u001b[0m\u001b[0;34m)\u001b[0m \u001b[0;32mas\u001b[0m \u001b[0mpool\u001b[0m\u001b[0;34m:\u001b[0m\u001b[0;34m\u001b[0m\u001b[0;34m\u001b[0m\u001b[0m\n\u001b[0;32m---> 26\u001b[0;31m     \u001b[0mrlt\u001b[0m \u001b[0;34m=\u001b[0m \u001b[0mpool\u001b[0m\u001b[0;34m.\u001b[0m\u001b[0mstarmap\u001b[0m\u001b[0;34m(\u001b[0m\u001b[0mfitting\u001b[0m\u001b[0;34m,\u001b[0m \u001b[0;34m[\u001b[0m\u001b[0;34m(\u001b[0m\u001b[0mfunc\u001b[0m\u001b[0;34m,\u001b[0m \u001b[0mx\u001b[0m\u001b[0;34m,\u001b[0m \u001b[0my\u001b[0m\u001b[0;34m[\u001b[0m\u001b[0;34m:\u001b[0m\u001b[0;34m,\u001b[0m\u001b[0mii\u001b[0m\u001b[0;34m]\u001b[0m\u001b[0;34m,\u001b[0m \u001b[0;34m(\u001b[0m\u001b[0;36m1\u001b[0m\u001b[0;34m,\u001b[0m \u001b[0mx\u001b[0m\u001b[0;34m[\u001b[0m\u001b[0;36m10\u001b[0m\u001b[0;34m]\u001b[0m\u001b[0;34m,\u001b[0m \u001b[0;36m2\u001b[0m\u001b[0;34m)\u001b[0m\u001b[0;34m,\u001b[0m \u001b[0mbnds\u001b[0m\u001b[0;34m)\u001b[0m \u001b[0;32mfor\u001b[0m \u001b[0mii\u001b[0m \u001b[0;32min\u001b[0m \u001b[0mnp\u001b[0m\u001b[0;34m.\u001b[0m\u001b[0mint32\u001b[0m\u001b[0;34m(\u001b[0m\u001b[0mnp\u001b[0m\u001b[0;34m.\u001b[0m\u001b[0marange\u001b[0m\u001b[0;34m(\u001b[0m\u001b[0mdim\u001b[0m\u001b[0;34m[\u001b[0m\u001b[0;36m1\u001b[0m\u001b[0;34m]\u001b[0m\u001b[0;34m*\u001b[0m\u001b[0mdim\u001b[0m\u001b[0;34m[\u001b[0m\u001b[0;36m2\u001b[0m\u001b[0;34m]\u001b[0m\u001b[0;34m)\u001b[0m\u001b[0;34m)\u001b[0m\u001b[0;34m]\u001b[0m\u001b[0;34m)\u001b[0m\u001b[0;34m\u001b[0m\u001b[0;34m\u001b[0m\u001b[0m\n\u001b[0m\u001b[1;32m     27\u001b[0m \u001b[0mpool\u001b[0m\u001b[0;34m.\u001b[0m\u001b[0mclose\u001b[0m\u001b[0;34m(\u001b[0m\u001b[0;34m)\u001b[0m\u001b[0;34m\u001b[0m\u001b[0;34m\u001b[0m\u001b[0m\n\u001b[1;32m     28\u001b[0m \u001b[0mpool\u001b[0m\u001b[0;34m.\u001b[0m\u001b[0mjoin\u001b[0m\u001b[0;34m(\u001b[0m\u001b[0;34m)\u001b[0m\u001b[0;34m\u001b[0m\u001b[0;34m\u001b[0m\u001b[0m\n",
      "\u001b[0;32m~/software/anaconda3/envs/py37play/lib/python3.7/site-packages/multiprocess/pool.py\u001b[0m in \u001b[0;36mstarmap\u001b[0;34m(self, func, iterable, chunksize)\u001b[0m\n\u001b[1;32m    274\u001b[0m         \u001b[0;31m`\u001b[0m\u001b[0mfunc\u001b[0m\u001b[0;31m`\u001b[0m \u001b[0;32mand\u001b[0m \u001b[0;34m(\u001b[0m\u001b[0ma\u001b[0m\u001b[0;34m,\u001b[0m \u001b[0mb\u001b[0m\u001b[0;34m)\u001b[0m \u001b[0mbecomes\u001b[0m \u001b[0mfunc\u001b[0m\u001b[0;34m(\u001b[0m\u001b[0ma\u001b[0m\u001b[0;34m,\u001b[0m \u001b[0mb\u001b[0m\u001b[0;34m)\u001b[0m\u001b[0;34m.\u001b[0m\u001b[0;34m\u001b[0m\u001b[0;34m\u001b[0m\u001b[0m\n\u001b[1;32m    275\u001b[0m         '''\n\u001b[0;32m--> 276\u001b[0;31m         \u001b[0;32mreturn\u001b[0m \u001b[0mself\u001b[0m\u001b[0;34m.\u001b[0m\u001b[0m_map_async\u001b[0m\u001b[0;34m(\u001b[0m\u001b[0mfunc\u001b[0m\u001b[0;34m,\u001b[0m \u001b[0miterable\u001b[0m\u001b[0;34m,\u001b[0m \u001b[0mstarmapstar\u001b[0m\u001b[0;34m,\u001b[0m \u001b[0mchunksize\u001b[0m\u001b[0;34m)\u001b[0m\u001b[0;34m.\u001b[0m\u001b[0mget\u001b[0m\u001b[0;34m(\u001b[0m\u001b[0;34m)\u001b[0m\u001b[0;34m\u001b[0m\u001b[0;34m\u001b[0m\u001b[0m\n\u001b[0m\u001b[1;32m    277\u001b[0m \u001b[0;34m\u001b[0m\u001b[0m\n\u001b[1;32m    278\u001b[0m     def starmap_async(self, func, iterable, chunksize=None, callback=None,\n",
      "\u001b[0;32m~/software/anaconda3/envs/py37play/lib/python3.7/site-packages/multiprocess/pool.py\u001b[0m in \u001b[0;36mget\u001b[0;34m(self, timeout)\u001b[0m\n\u001b[1;32m    655\u001b[0m             \u001b[0;32mreturn\u001b[0m \u001b[0mself\u001b[0m\u001b[0;34m.\u001b[0m\u001b[0m_value\u001b[0m\u001b[0;34m\u001b[0m\u001b[0;34m\u001b[0m\u001b[0m\n\u001b[1;32m    656\u001b[0m         \u001b[0;32melse\u001b[0m\u001b[0;34m:\u001b[0m\u001b[0;34m\u001b[0m\u001b[0;34m\u001b[0m\u001b[0m\n\u001b[0;32m--> 657\u001b[0;31m             \u001b[0;32mraise\u001b[0m \u001b[0mself\u001b[0m\u001b[0;34m.\u001b[0m\u001b[0m_value\u001b[0m\u001b[0;34m\u001b[0m\u001b[0;34m\u001b[0m\u001b[0m\n\u001b[0m\u001b[1;32m    658\u001b[0m \u001b[0;34m\u001b[0m\u001b[0m\n\u001b[1;32m    659\u001b[0m     \u001b[0;32mdef\u001b[0m \u001b[0m_set\u001b[0m\u001b[0;34m(\u001b[0m\u001b[0mself\u001b[0m\u001b[0;34m,\u001b[0m \u001b[0mi\u001b[0m\u001b[0;34m,\u001b[0m \u001b[0mobj\u001b[0m\u001b[0;34m)\u001b[0m\u001b[0;34m:\u001b[0m\u001b[0;34m\u001b[0m\u001b[0;34m\u001b[0m\u001b[0m\n",
      "\u001b[0;31mRuntimeError\u001b[0m: Optimal parameters not found: The maximum number of function evaluations is exceeded."
     ]
    }
   ],
   "source": [
    "import h5py, os, time\n",
    "fn = '/your_dir/test.h5'\n",
    "with h5py.File(fn, 'r') as f:\n",
    "    data = f['/spec'][:]\n",
    "    eng = f['/eng'][:]\n",
    "\n",
    "ids = list(np.arange(40, 54))\n",
    "x = eng[ids]\n",
    "y = data[ids, :].reshape([len(ids), -1])\n",
    "\n",
    "func = functions['lorentzian']   \n",
    "dim = data.shape\n",
    "print(dim)\n",
    "print(x.shape, y.shape)\n",
    "\n",
    "def fitting(func, x0, y0, xinits, bnds=None):\n",
    "    curve_fit(func, x0, y0, p0=xinits, bounds=bnds)\n",
    "\n",
    "print(time.asctime())\n",
    "\n",
    "bnds = ((0.01, x[0], 0.1), (5, x[-1], 13))\n",
    "n_cpu = os.cpu_count()\n",
    "with mp.Pool(n_cpu - 1) as pool:\n",
    "    rlt = pool.starmap(fitting, [(func, x, y[:,ii], (1, x[10], 2), bnds) for ii in np.int32(np.arange(dim[1]*dim[2]))])\n",
    "pool.close()\n",
    "pool.join()\n",
    "\n",
    "print(time.asctime())"
   ]
  },
  {
   "cell_type": "markdown",
   "metadata": {},
   "source": [
    "***\n",
    "***\n",
    "# ***parallelize a customized curve fitting function with scipy.optimize.least_squares***\n",
    "***\n",
    "***"
   ]
  },
  {
   "cell_type": "code",
   "execution_count": 1,
   "metadata": {},
   "outputs": [],
   "source": [
    "\"\"\"\n",
    "use scipy.optimize.curve_fit to fit experimental data\n",
    "The easiest way to do curve fitting is to use curve_fit. The loss function is defined internally.\n",
    "However, the convergence tolerance cannot be changed in curve_fit. The below case failed for exceeding\n",
    "maximum allowed iterations.\n",
    "\"\"\"\n",
    "%matplotlib qt\n",
    "import matplotlib.pyplot as plt\n",
    "import numpy as np\n",
    "from scipy.optimize import minimize, curve_fit, least_squares as lsq, lsq_linear, nnls\n",
    "import multiprocess as mp\n",
    "import h5py, os, time\n",
    "\n",
    "from lmfit.lineshapes import (gaussian, lorentzian, voigt, pvoigt, moffat, pearson7,\n",
    "                         breit_wigner, damped_oscillator, dho, logistic, lognormal,\n",
    "                         students_t, expgaussian, donaich, skewed_gaussian,\n",
    "                         skewed_voigt, step, rectangle,  \n",
    "                         exponential, powerlaw, linear, parabolic, sine, \n",
    "                         expsine, split_lorentzian)\n",
    "\n",
    "functions = {'gaussian':gaussian, 'lorentzian':lorentzian, 'voigt':voigt, \n",
    "             'pvoigt':pvoigt, 'moffat':moffat, 'pearson7':pearson7,\n",
    "             'breit_wigner':breit_wigner, 'damped_oscillator':damped_oscillator,\n",
    "             'dho':dho, 'logistic':logistic, 'lognormal':lognormal,\n",
    "             'students_t':students_t, 'expgaussian':expgaussian, \n",
    "             'donaich':donaich, 'skewed_gaussian':skewed_gaussian,\n",
    "             'skewed_voigt':skewed_voigt, 'step':step, 'rectangle':rectangle, \n",
    "             'exponential':exponential, 'powerlaw':powerlaw, \n",
    "             'linear':linear, 'parabolic':parabolic, 'sine':sine, \n",
    "             'expsine':expsine, 'split_lorentzian':split_lorentzian}"
   ]
  },
  {
   "cell_type": "code",
   "execution_count": 2,
   "metadata": {},
   "outputs": [
    {
     "name": "stdout",
     "output_type": "stream",
     "text": [
      "(101, 333, 330)\n",
      "(14,) (14, 109890)\n"
     ]
    }
   ],
   "source": [
    "fn = '/media/xiao_usb/test_data_large.h5'\n",
    "with h5py.File(fn, 'r') as f:\n",
    "    data = f['/spec'][:]\n",
    "    eng = f['/eng'][:]\n",
    "\n",
    "ids = list(np.arange(40, 54))\n",
    "x = eng[ids]\n",
    "y = data[ids, :].reshape([len(ids), -1])\n",
    "\n",
    "func = functions['lorentzian']   \n",
    "dim = data.shape\n",
    "print(dim)\n",
    "print(x.shape, y.shape)\n",
    "\n",
    "def f(fvars, func, x, y):\n",
    "    return (func(x, fvars[0], fvars[1], fvars[2]) - y)\n",
    "\n",
    "def my_lsq(f, fvars, func, x, y, bnds, ftol, xtol):\n",
    "    #return lsq(f, fvars, bounds=bnds, ftol=ftol, xtol=xtol, args=(func, x, y))\n",
    "    return lsq(f, fvars, ftol=ftol, xtol=xtol, args=(func, x, y))\n",
    "\n"
   ]
  },
  {
   "cell_type": "code",
   "execution_count": 3,
   "metadata": {},
   "outputs": [
    {
     "name": "stdout",
     "output_type": "stream",
     "text": [
      "Sun Jun 28 07:45:36 2020\n",
      "Sun Jun 28 07:45:56 2020\n"
     ]
    }
   ],
   "source": [
    "print(time.asctime())\n",
    "\n",
    "bnds = ([0.01, x[0], 0.1], [5, x[-1]+10, 13])\n",
    "ftol = 1e-7\n",
    "xtol = 1e-7\n",
    "n_cpu = os.cpu_count()\n",
    "with mp.Pool(n_cpu - 1) as pool:\n",
    "    rlt = pool.starmap(my_lsq, [(f, (1, x[10], 2), func, x, y[:, ii], bnds, ftol, xtol) for ii in np.int32(np.arange(dim[1]*dim[2]))])\n",
    "pool.close()\n",
    "pool.join()\n",
    "\n",
    "print(time.asctime())"
   ]
  },
  {
   "cell_type": "code",
   "execution_count": 34,
   "metadata": {},
   "outputs": [
    {
     "name": "stdout",
     "output_type": "stream",
     "text": [
      " active_mask: array([0., 0., 0.])\n",
      "        cost: 9.683704376220703\n",
      "         fun: array([-1.0138135 ,  0.30978107, -0.6724484 ,  0.96750426,  0.43831325,\n",
      "        1.0598409 , -2.1402411 ,  0.59362984,  0.9861753 , -0.648047  ,\n",
      "       -2.076005  ,  1.7875478 ,  1.0370758 , -0.79612136], dtype=float32)\n",
      "        grad: array([-0.00033019, -0.00170643,  0.00813498])\n",
      "         jac: array([[ 0.02321326, -0.35396862, -0.02673043],\n",
      "       [ 0.02655456, -0.39479682, -0.09355652],\n",
      "       [ 0.03007172, -0.42324099, -0.18176694],\n",
      "       [ 0.03411646, -0.42524761, -0.29136172],\n",
      "       [ 0.03798534, -0.38482025, -0.42234084],\n",
      "       [ 0.04044735, -0.29112878, -0.54530084],\n",
      "       [ 0.04255765, -0.14454339, -0.63083822],\n",
      "       [ 0.04290936,  0.0300688 , -0.64687645],\n",
      "       [ 0.04220593,  0.19988489, -0.60410774],\n",
      "       [ 0.04009563,  0.32919109, -0.50253212],\n",
      "       [ 0.03657847,  0.40381604, -0.37957212],\n",
      "       [ 0.03270959,  0.42848274, -0.24859302],\n",
      "       [ 0.02919243,  0.41573793, -0.15236346],\n",
      "       [ 0.02532356,  0.38182566, -0.06415304]])\n",
      "     message: '`xtol` termination condition is satisfied.'\n",
      "        nfev: 20\n",
      "        njev: 15\n",
      "  optimality: 0.008134981309422251\n",
      "      status: 3\n",
      "     success: True\n",
      "           x: array([1.11944078e+02, 8.34882921e+03, 7.36473925e+00])\n",
      "[-3.6166391 -2.664175  -4.0567746 -2.8399239 -3.7785032 -3.4963953\n",
      " -6.9180827 -4.2418118 -3.7316608 -5.0966716 -5.8440843 -1.8719027\n",
      " -2.2032807 -3.639484 ]\n",
      "[3.616671  2.6642144 4.0568247 2.839989  3.7785919 3.4965231 6.918283\n",
      " 4.242167  3.7324655 5.099891  6.162394  1.8749707 2.204066  3.6398351]\n"
     ]
    }
   ],
   "source": [
    "bnds = ([0.01, x[0], 0.1], [5, x[-1], 13])\n",
    "ftol = 1e-7\n",
    "xtol = 1e-7\n",
    "gtol = 1e-16\n",
    "tiny = 1e-16\n",
    "\n",
    "#def f(fvars, x, y):\n",
    "#    return ((fvars[0]/(1 + ((1.0*x-fvars[1])/max(tiny, fvars[2]))**2))\n",
    "#            / max(tiny, (np.pi*fvars[2]))) - y\n",
    "#def my_lsq(f, fvars, x, y, jac, bnds, method, ftol, xtol, gtol):\n",
    "#    return lsq(f, fvars, jac=jac, bounds=bnds, method=method, ftol=ftol, xtol=xtol, gtol=gtol, args=(x, y))\n",
    "#bnds = (-np.inf, np.inf)\n",
    "#ii = 1000\n",
    "#r1 = my_lsq(f, (0.1, 8352, 0.1), x, y[:, ii], '3-point', bnds, 'trf', ftol, xtol, gtol)\n",
    "#fr = f((0.1, x[10], 0.1), x, y[:, ii])\n",
    "\n",
    "#def f(fvars, func, x, y):\n",
    "def f(fvars, x, y):\n",
    "    return (func(x, fvars[0], fvars[1], fvars[2]) - y)\n",
    "def my_lsq(f, fvars, x, y, jac, bnds, method, ftol, xtol, gtol):\n",
    "    return lsq(f, fvars, jac=jac, bounds=bnds, method=method, ftol=ftol, xtol=xtol, gtol=gtol, args=(x, y))\n",
    "\n",
    "#def my_lsq(f, fvars, func, x, y, bnds, ftol, xtol, gtol):\n",
    "#    return lsq(f, fvars, bounds=bnds, ftol=ftol, xtol=xtol, gtol=gtol, args=(func, x, y))\n",
    "\n",
    "bnds = (-np.inf, np.inf)\n",
    "ii = 1000\n",
    "#r1 = my_lsq(f, (0.1, x[10], 0.1), func, x, y[:, ii], bnds, ftol, xtol, gtol)\n",
    "#fr = f((0.1, x[10], 0.1), func, x, y[:, ii])\n",
    "r1 = my_lsq(f, (0.1, 8352, 0.1), x, y[:, ii], '3-point', bnds, 'trf', ftol, xtol, gtol)\n",
    "fr = f((0.1, x[10], 0.1), x, y[:, ii])\n",
    "#func(x, 1, x[10], 2)\n",
    "print(r1)\n",
    "print(fr)\n",
    "print(y[:, ii])"
   ]
  },
  {
   "cell_type": "code",
   "execution_count": 37,
   "metadata": {},
   "outputs": [
    {
     "data": {
      "text/plain": [
       "[<matplotlib.lines.Line2D at 0x7fd094037bd0>]"
      ]
     },
     "execution_count": 37,
     "metadata": {},
     "output_type": "execute_result"
    }
   ],
   "source": [
    "plt.figure(1)\n",
    "plt.plot(x, func(x, r1.x[0], r1.x[1], r1.x[2]))\n",
    "plt.plot(x, y[:, ii])"
   ]
  },
  {
   "cell_type": "code",
   "execution_count": 53,
   "metadata": {},
   "outputs": [],
   "source": [
    "def f(fvars, x, y):\n",
    "    return (func(x, fvars[0], fvars[1], fvars[2]) - y)\n",
    "def my_lsq(f, fvars, x, y, jac, bnds, method, ftol, xtol, gtol):\n",
    "    return lsq(f, fvars, jac=jac, bounds=bnds, method=method, ftol=ftol, xtol=xtol, gtol=gtol, args=(x, y))"
   ]
  },
  {
   "cell_type": "code",
   "execution_count": null,
   "metadata": {},
   "outputs": [],
   "source": []
  },
  {
   "cell_type": "code",
   "execution_count": 55,
   "metadata": {},
   "outputs": [
    {
     "name": "stdout",
     "output_type": "stream",
     "text": [
      "Tue Jun 16 10:06:13 2020\n",
      "Tue Jun 16 10:06:24 2020\n"
     ]
    }
   ],
   "source": [
    "ftol = 1e-7\n",
    "xtol = 1e-7\n",
    "gtol = 1e-7\n",
    "tiny = 1e-16\n",
    "jac = '3-point'\n",
    "method = 'trf'\n",
    "bnds = ((-np.inf, x[0], 0.01), (np.inf, x[-1], 100))\n",
    "\n",
    "print(time.asctime())\n",
    "\n",
    "n_cpu = os.cpu_count()\n",
    "with mp.Pool(n_cpu - 1) as pool:\n",
    "    rlt = pool.starmap(my_lsq, [(f, (1, x[10], 2), x, y[:, ii], jac, bnds, method, ftol, xtol, gtol) for ii in np.int32(np.arange(dim[1]*dim[2]))])\n",
    "pool.close()\n",
    "pool.join()\n",
    "\n",
    "print(time.asctime())"
   ]
  },
  {
   "cell_type": "code",
   "execution_count": 42,
   "metadata": {},
   "outputs": [
    {
     "name": "stdout",
     "output_type": "stream",
     "text": [
      "398320\n",
      "(101, 383, 1040)\n"
     ]
    }
   ],
   "source": [
    "print(len(rlt))\n",
    "print(data.shape)"
   ]
  },
  {
   "cell_type": "code",
   "execution_count": 56,
   "metadata": {},
   "outputs": [
    {
     "data": {
      "text/plain": [
       "<matplotlib.image.AxesImage at 0x7fd044c0ff10>"
      ]
     },
     "execution_count": 56,
     "metadata": {},
     "output_type": "execute_result"
    }
   ],
   "source": [
    "plt.figure(2)\n",
    "plt.imshow(data[50, :])"
   ]
  },
  {
   "cell_type": "code",
   "execution_count": 61,
   "metadata": {},
   "outputs": [],
   "source": [
    "plt.figure(3)\n",
    "#idx = 106*dim[2]+500\n",
    "#plt.plot(x, func(x, rlt[idx].x[0], rlt[idx].x[1], rlt[idx].x[2]))\n",
    "#plt.plot(x, y[:, idx])\n",
    "xd = np.linspace(x[0], x[-1], x.shape[0]*100)\n",
    "for ii in range(55, 65):\n",
    "    for jj in range(70, 80):\n",
    "        idx = ii*dim[2]+jj\n",
    "        plt.plot(xd, func(xd, rlt[idx].x[0], rlt[idx].x[1], rlt[idx].x[2]))\n",
    "        plt.plot(x, y[:, idx])"
   ]
  },
  {
   "cell_type": "markdown",
   "metadata": {},
   "source": [
    ">>> ## ***generalize the peak fitting function***"
   ]
  },
  {
   "cell_type": "code",
   "execution_count": 62,
   "metadata": {},
   "outputs": [],
   "source": [
    "fn = '/your_dir/test.h5'\n",
    "with h5py.File(fn, 'r') as f:\n",
    "    data = f['/spec'][:]\n",
    "    eng = f['/eng'][:]\n",
    "\n",
    "ids = list(np.arange(40, 54))\n",
    "x = eng[ids]\n",
    "y = data[ids, :].reshape([len(ids), -1])\n",
    "\n",
    "def f(fvars, func, x, y):\n",
    "    return (func(x, fvars[0], fvars[1], fvars[2]) - y)\n",
    "def my_lsq(f, fvars, func, x, y, jac, bnds, method, ftol, xtol, gtol):\n",
    "    return lsq(f, fvars, jac=jac, bounds=bnds, method=method, ftol=ftol, xtol=xtol, gtol=gtol, args=(func, x, y))"
   ]
  },
  {
   "cell_type": "code",
   "execution_count": 63,
   "metadata": {},
   "outputs": [
    {
     "name": "stdout",
     "output_type": "stream",
     "text": [
      "Tue Jun 16 10:27:48 2020\n",
      "Tue Jun 16 10:27:58 2020\n"
     ]
    }
   ],
   "source": [
    "ftol = 1e-7\n",
    "xtol = 1e-7\n",
    "gtol = 1e-7\n",
    "tiny = 1e-16\n",
    "jac = '3-point'\n",
    "method = 'trf'\n",
    "bnds = ((-np.inf, x[0], 0.01), (np.inf, x[-1], 100))\n",
    "\n",
    "print(time.asctime())\n",
    "\n",
    "n_cpu = os.cpu_count()\n",
    "with mp.Pool(n_cpu - 1) as pool:\n",
    "    rlt = pool.starmap(my_lsq, [(f, (1, x[10], 2), func, x, y[:, ii], jac, bnds, method, ftol, xtol, gtol) for ii in np.int32(np.arange(dim[1]*dim[2]))])\n",
    "pool.close()\n",
    "pool.join()\n",
    "\n",
    "print(time.asctime())"
   ]
  },
  {
   "cell_type": "code",
   "execution_count": null,
   "metadata": {},
   "outputs": [],
   "source": []
  },
  {
   "cell_type": "code",
   "execution_count": null,
   "metadata": {},
   "outputs": [],
   "source": []
  },
  {
   "cell_type": "code",
   "execution_count": null,
   "metadata": {},
   "outputs": [],
   "source": []
  }
 ],
 "metadata": {
  "kernelspec": {
   "display_name": "Python 3",
   "language": "python",
   "name": "python3"
  },
  "language_info": {
   "codemirror_mode": {
    "name": "ipython",
    "version": 3
   },
   "file_extension": ".py",
   "mimetype": "text/x-python",
   "name": "python",
   "nbconvert_exporter": "python",
   "pygments_lexer": "ipython3",
   "version": "3.7.4"
  }
 },
 "nbformat": 4,
 "nbformat_minor": 4
}
