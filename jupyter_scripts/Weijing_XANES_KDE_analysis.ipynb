{
 "cells": [
  {
   "cell_type": "markdown",
   "metadata": {},
   "source": [
    "# $kde fitting of histogram$"
   ]
  },
  {
   "cell_type": "markdown",
   "metadata": {},
   "source": [
    ">>> ## ***load packages and launch fiji***"
   ]
  },
  {
   "cell_type": "code",
   "execution_count": 1,
   "metadata": {},
   "outputs": [],
   "source": [
    "%matplotlib qt\n",
    "import seaborn as sbn\n",
    "import numpy as np\n",
    "import matplotlib.pyplot as plt \n",
    "from scipy import stats\n",
    "import h5py, tifffile\n",
    "import os\n",
    "import sklearn\n",
    "from sklearn.neighbors import KernelDensity\n",
    "from sklearn.model_selection import GridSearchCV"
   ]
  },
  {
   "cell_type": "code",
   "execution_count": 2,
   "metadata": {},
   "outputs": [
    {
     "name": "stdout",
     "output_type": "stream",
     "text": [
      "Added 390 JARs to the Java classpath.\n"
     ]
    },
    {
     "data": {
      "text/plain": [
       "<org.scijava.script.ScriptModule at 0x7fbf2127ff50 jclass=org/scijava/script/ScriptModule jself=<LocalRef obj=0x5612d95a49b8 at 0x7fbfd42e06f0>>"
      ]
     },
     "execution_count": 2,
     "metadata": {},
     "output_type": "execute_result"
    }
   ],
   "source": [
    "import imagej\n",
    "ij = imagej.init('/home/xiao/software/Fiji.app', headless=False)\n",
    "ijui = ij.ui()\n",
    "ijui.showUI()\n",
    "ij.py.run_macro(\"\"\"run(\"Brightness/Contrast...\")\"\"\")"
   ]
  },
  {
   "cell_type": "markdown",
   "metadata": {},
   "source": [
    ">>> ## ***load image and masks***"
   ]
  },
  {
   "cell_type": "code",
   "execution_count": 156,
   "metadata": {},
   "outputs": [
    {
     "name": "stdout",
     "output_type": "stream",
     "text": [
      "/media/xiao_usb/JuLi_2020Q1/54307_roi_mask_#50_particle1.tif\n",
      "/media/xiao_usb/JuLi_2020Q1/54307_roi_mask_#50_particle2.tif\n",
      "/media/xiao_usb/JuLi_2020Q1/54307_roi_mask_#50_particle3.tif\n",
      "/media/xiao_usb/JuLi_2020Q1/54307_roi_mask_#50_particle4.tif\n",
      "/media/xiao_usb/JuLi_2020Q1/54307_roi_mask_#50_particle5.tif\n",
      "/media/xiao_usb/JuLi_2020Q1/54307_roi_mask_#50_particle6.tif\n",
      "/media/xiao_usb/JuLi_2020Q1/54307_roi_mask_#50_particle7.tif\n",
      "/media/xiao_usb/JuLi_2020Q1/54307_roi_mask_#50_particle8.tif\n",
      "/media/xiao_usb/JuLi_2020Q1/54307_roi_mask_#50_particle9.tif\n"
     ]
    }
   ],
   "source": [
    "#fn = '/media/xiao_usb/JuLi_2020Q1/2D_trial_reg_xanes_scan2_id_54307_2020-07-05-20-36-46.h5'\n",
    "#fn = '/media/xiao_usb/JuLi_2020Q1/2D_trial_reg_xanes_scan2_id_54308_2020-07-09-11-12-16.h5'\n",
    "#fn = '/media/xiao_usb/JuLi_2020Q1/2D_trial_reg_xanes_scan2_id_54311_2020-07-01-11-20-34.h5'\n",
    "#fn = '/media/xiao_usb/JuLi_2020Q1/2D_trial_reg_xanes_scan2_id_54312_2020-07-03-21-00-36.h5'\n",
    "\n",
    "#with h5py.File(fn, 'r') as f:\n",
    "#    img = f['/processed_XANES2D/proc_spectrum/whiteline_pos_fit'][:]\n",
    "\n",
    "scan_id = 54307\n",
    "total_num = np.arange(1, 10)\n",
    "#total_num = [1, 2, 3, 5]\n",
    "fnd = f'/media/xiao_usb/JuLi_2020Q1/{scan_id}_roi_whiteline_pos_fit.tif'\n",
    "img = tifffile.imread(fnd)\n",
    "\n",
    "mask = np.zeros(img.shape)\n",
    "fnm = '/media/xiao_usb/JuLi_2020Q1/{0}_roi_mask_#50_particle{1}.tif'\n",
    "for particle_num in total_num:\n",
    "    try:\n",
    "        print(fnm.format(scan_id, particle_num))\n",
    "        mask += tifffile.imread(fnm.format(scan_id, particle_num))\n",
    "    except:\n",
    "        pass"
   ]
  },
  {
   "cell_type": "markdown",
   "metadata": {},
   "source": [
    ">>> ## ***display raw image and masks***"
   ]
  },
  {
   "cell_type": "code",
   "execution_count": 157,
   "metadata": {},
   "outputs": [
    {
     "data": {
      "text/plain": [
       "<org.scijava.script.ScriptModule at 0x7fbf2069bbf0 jclass=org/scijava/script/ScriptModule jself=<LocalRef obj=0x5612d90f8938 at 0x7fbf20303b30>>"
      ]
     },
     "execution_count": 157,
     "metadata": {},
     "output_type": "execute_result"
    }
   ],
   "source": [
    "masked_img = img*mask\n",
    "ijui.show(ij.py.to_java(img))\n",
    "ijui.show(ij.py.to_java(masked_img))\n",
    "ij.py.run_macro(\"\"\"run(\"Enhance Contrast\", \"saturated=0.35\")\"\"\")\n",
    "ij.py.run_macro(\"\"\"run(\"Brightness/Contrast...\")\"\"\")"
   ]
  },
  {
   "cell_type": "markdown",
   "metadata": {},
   "source": [
    ">>> ## ***kde calculations***"
   ]
  },
  {
   "cell_type": "code",
   "execution_count": 85,
   "metadata": {},
   "outputs": [
    {
     "name": "stdout",
     "output_type": "stream",
     "text": [
      "[1, 2, 3, 5]\n",
      "0.0 8358.0\n",
      "8350.0 8356.9970703125\n",
      "0.01953125\n",
      "(909060,)\n",
      "(265,)\n"
     ]
    },
    {
     "data": {
      "text/plain": [
       "'\\nplt.figure(1)\\nsbn.distplot(img, kde=True, hist=False,\\n             kde_kws={\"bw\":np.abs(val[1:]-val[:-1]).min(), \"shade\":True},\\n             norm_hist=False, label=str(ii))\\nplt.figure(2)\\nsbn.distplot(img, kde=False, hist=True,\\n             kde_kws={\"bw\":np.abs(val[1:]-val[:-1]).min(), \"shade\":True},\\n             norm_hist=False, label=str(ii))\\nplt.figure(3)\\nsbn.distplot(img, kde=True, hist=True,\\n             kde_kws={\"bw\":np.abs(val[1:]-val[:-1]).min(), \"shade\":True},\\n             norm_hist=False, label=str(ii))\\n'"
      ]
     },
     "execution_count": 85,
     "metadata": {},
     "output_type": "execute_result"
    }
   ],
   "source": [
    "print(total_num)\n",
    "img1 = masked_img[(masked_img!=masked_img.min())&\n",
    "                  (masked_img!=masked_img.max())]\n",
    "print(masked_img.min(), masked_img.max())\n",
    "print(img1.min(), img1.max())\n",
    "\n",
    "img = masked_img[(masked_img!=masked_img.min())&\n",
    "                (masked_img!=masked_img.max())].flatten()\n",
    "val = np.unique(img)\n",
    "print(np.abs(val[1:]-val[:-1]).min())\n",
    "print(img.shape)\n",
    "print(val.shape)\n",
    "\n",
    "\"\"\"\n",
    "grid = GridSearchCV(KernelDensity(atol=1e-5, rtol=1e-5, kernel=\"gaussian\"),\n",
    "                    {'bandwidth': np.logspace(-4, 0, 51)},\n",
    "                    cv=5, n_jobs=20) # 20-fold cross-validation\n",
    "grid.fit(img[:, None])\n",
    "print(grid.best_params_)\n",
    "\n",
    "kde1 = grid.best_estimator_\n",
    "x_grid1 = np.logspace(np.log(val.min()), np.log(val.max()), 500)\n",
    "pdf1 = np.exp(kde1.score_samples(x_grid1[:, None]))\n",
    "#kde1.set_params(**{\"bandwidth\":np.abs(val[1:]-val[:-1]).min()/1.5})\n",
    "\"\"\"\n",
    "\n",
    "kde1 =  KernelDensity(bandwidth=np.abs(val[1:]-val[:-1]).min()/1.5, \n",
    "                      algorithm=\"kd_tree\", kernel='gaussian', \n",
    "                      metric='euclidean', atol=1e-5, rtol=1e-5, \n",
    "                      breadth_first=True, leaf_size=40, metric_params=None).fit(img[:, None])\n",
    "x_grid1 = np.linspace(val.min(), val.max(), 500)\n",
    "pdf1 = np.exp(kde1.score_samples(x_grid1[:, None]))\n",
    "\n",
    "\n",
    "\"\"\"\n",
    "plt.figure(1)\n",
    "sbn.distplot(img, kde=True, hist=False,\n",
    "             kde_kws={\"bw\":np.abs(val[1:]-val[:-1]).min(), \"shade\":True},\n",
    "             norm_hist=False, label=str(ii))\n",
    "plt.figure(2)\n",
    "sbn.distplot(img, kde=False, hist=True,\n",
    "             kde_kws={\"bw\":np.abs(val[1:]-val[:-1]).min(), \"shade\":True},\n",
    "             norm_hist=False, label=str(ii))\n",
    "plt.figure(3)\n",
    "sbn.distplot(img, kde=True, hist=True,\n",
    "             kde_kws={\"bw\":np.abs(val[1:]-val[:-1]).min(), \"shade\":True},\n",
    "             norm_hist=False, label=str(ii))\n",
    "\"\"\""
   ]
  },
  {
   "cell_type": "markdown",
   "metadata": {},
   "source": [
    ">>> ## ***display ked results***"
   ]
  },
  {
   "cell_type": "code",
   "execution_count": 88,
   "metadata": {},
   "outputs": [],
   "source": [
    "fig, ax = plt.subplots()\n",
    "ax.plot(x_grid1, pdf1, linewidth=3, alpha=0.5, label='1')\n",
    "ax.hist(img, val.shape[0], fc='gray', histtype='stepfilled', alpha=0.3, density=True)\n",
    "#ax.hist(img, val.shape[0], fc='gray', histtype='stepfilled', alpha=0.3)\n",
    "ax.legend(loc='upper left')\n",
    "ax.set_xlim(val.min()-0.001, val.max()+0.001);"
   ]
  },
  {
   "cell_type": "markdown",
   "metadata": {},
   "source": [
    ">>> ## ***save kde results***"
   ]
  },
  {
   "cell_type": "code",
   "execution_count": 87,
   "metadata": {},
   "outputs": [],
   "source": [
    "fnr = '/media/xiao_usb/JuLi_2020Q1/{0}_rkde_in_oi_mask_#50_particle_1&2&3&5.txt'.format(scan_id)\n",
    "with open(fnr, 'w') as f:\n",
    "    for x, y in zip(x_grid1, pdf1):\n",
    "        f.write(str(x)+'\\t'+str(y)+'\\n')"
   ]
  },
  {
   "cell_type": "code",
   "execution_count": 30,
   "metadata": {},
   "outputs": [
    {
     "data": {
      "text/plain": [
       "0.01953125"
      ]
     },
     "execution_count": 30,
     "metadata": {},
     "output_type": "execute_result"
    }
   ],
   "source": [
    "np.abs(val[1:]-val[:-1]).min()"
   ]
  },
  {
   "cell_type": "markdown",
   "metadata": {},
   "source": [
    "# $process peak data$"
   ]
  },
  {
   "cell_type": "code",
   "execution_count": 92,
   "metadata": {},
   "outputs": [],
   "source": [
    "import glob\n",
    "fnr = '/media/xiao_usb/JuLi_2020Q1/{0}_kde_in_oi_mask_#50_particle_*.txt'"
   ]
  },
  {
   "cell_type": "code",
   "execution_count": 303,
   "metadata": {},
   "outputs": [
    {
     "name": "stdout",
     "output_type": "stream",
     "text": [
      "['/media/xiao_usb/JuLi_2020Q1/54307_kde_in_oi_mask_#50_particle_1.txt', '/media/xiao_usb/JuLi_2020Q1/54307_kde_in_oi_mask_#50_particle_1&2&3.txt']\n"
     ]
    }
   ],
   "source": [
    "#fn = '/media/xiao_usb/JuLi_2020Q1/2D_trial_reg_xanes_scan2_id_54307_2020-07-05-20-36-46.h5'\n",
    "#fn = '/media/xiao_usb/JuLi_2020Q1/2D_trial_reg_xanes_scan2_id_54308_2020-07-09-11-12-16.h5'\n",
    "#fn = '/media/xiao_usb/JuLi_2020Q1/2D_trial_reg_xanes_scan2_id_54311_2020-07-01-11-20-34.h5'\n",
    "#fn = '/media/xiao_usb/JuLi_2020Q1/2D_trial_reg_xanes_scan2_id_54312_2020-07-03-21-00-36.h5'\n",
    "scan_id = 54307\n",
    "fns = glob.glob(fnr.format(scan_id))\n",
    "print(fns)"
   ]
  },
  {
   "cell_type": "code",
   "execution_count": 304,
   "metadata": {},
   "outputs": [],
   "source": [
    "data = []\n",
    "for fn in fns:\n",
    "    data.append(np.loadtxt(fn)[3:, :])\n",
    "    \n",
    "idx = []\n",
    "lidx = []\n",
    "ridx = []\n",
    "dmax = []\n",
    "lval = []\n",
    "rval = []\n",
    "for fn in fns:\n",
    "    d = np.loadtxt(fn)\n",
    "    t1= np.argmax(d[:, 1])\n",
    "    idx.append(t1)\n",
    "    dmax.append(d[t1, 1])\n",
    "    t1 = np.argmin(np.abs(d[:idx[-1], 1] - dmax[-1]/2.))\n",
    "    lidx.append(t1)\n",
    "    lval.append(d[t1, 1])\n",
    "    t1 = np.argmin(np.abs(d[idx[-1]:, 1] - dmax[-1]/2.))\n",
    "    ridx.append(t1+idx[-1])\n",
    "    rval.append(d[t1+idx[-1], 1])"
   ]
  },
  {
   "cell_type": "code",
   "execution_count": 305,
   "metadata": {},
   "outputs": [
    {
     "name": "stdout",
     "output_type": "stream",
     "text": [
      "8352.273108717434\n",
      "0.2989103206400614\n",
      "8352.28006012024\n",
      "0.3475701402803679\n"
     ]
    }
   ],
   "source": [
    "for l, r, i, d in zip(lidx, ridx, idx, data):\n",
    "    print(d[i, 0])\n",
    "    print(d[r, 0] - d[l, 0])\n",
    "#print(d[100, 0])    "
   ]
  },
  {
   "cell_type": "code",
   "execution_count": 306,
   "metadata": {},
   "outputs": [
    {
     "name": "stdout",
     "output_type": "stream",
     "text": [
      "[8352.182836883483, 8352.241285062732]\n"
     ]
    }
   ],
   "source": [
    "e_cen = []\n",
    "for d in data:\n",
    "    e_cen.append(np.sum(d[:, 1]*d[:, 0])/np.sum(d[:, 1]))\n",
    "print(e_cen)"
   ]
  },
  {
   "cell_type": "code",
   "execution_count": 307,
   "metadata": {},
   "outputs": [],
   "source": [
    "cnt = 0\n",
    "color = ['r', 'g', 'b', 'y']\n",
    "plt.figure(0)\n",
    "for l, r, d, fn, c in zip(lidx, ridx, data, fns, color):\n",
    "    #plt.figure(cnt)\n",
    "    plt.plot(d[:, 0], d[:, 1], c)\n",
    "    plt.title(os.path.basename(fn).split('.')[0].split('_')[0])\n",
    "    cnt += 1\n",
    "\n",
    "\"\"\"\n",
    "plt.gca().legend(['1&2&3'+'={}'.format(np.round((data[0][ridx[0], 0]-data[0][lidx[0], 0])*100)/100)+'eV',\n",
    "                 '1&2&3&5'+'={}'.format(np.round((data[1][ridx[1], 0]-data[1][lidx[1], 0])*100)/100)+'eV',\n",
    "                 '1'+'={}'.format(np.round((data[2][ridx[2], 0]-data[2][lidx[2], 0])*100)/100)+'eV',\n",
    "                 '1&2'+'={}'.format(np.round((data[3][ridx[3], 0]-data[3][lidx[3], 0])*100)/100)+'eV'],\n",
    "                loc = 'upper left')\n",
    "\"\"\"\n",
    "\n",
    "plt.gca().legend(['1'+'={}'.format(np.round((data[0][ridx[0], 0]-data[0][lidx[0], 0])*10)/10)+'eV',\n",
    "                 '1&2&3'+'={}'.format(np.round((data[1][ridx[1], 0]-data[1][lidx[1], 0])*10)/10)+'eV'],\n",
    "                loc = 'upper left')\n",
    "ymin = plt.gca().get_ylim()[0]\n",
    "ymax = plt.gca().get_ylim()[1]\n",
    "plt.plot([e_cen[0], e_cen[0]], [ymin, ymax], color[0])\n",
    "plt.plot([e_cen[1], e_cen[1]], [ymin, ymax], color[1])\n",
    "#plt.plot([e_cen[2], e_cen[2]], [ymin, ymax], color[2])\n",
    "#plt.plot([e_cen[3], e_cen[3]], [ymin, ymax], color[3])\n",
    "plt.gca().set_xlabel('Energy (eV)')\n",
    "plt.gca().set_ylabel('PDF')\n",
    "plt.gca().tick_params(labelrotation=45)"
   ]
  },
  {
   "cell_type": "code",
   "execution_count": 308,
   "metadata": {},
   "outputs": [],
   "source": [
    "cnt = 10\n",
    "color = ['r', 'g', 'b', 'y']\n",
    "for l, r, d, fn, c in zip(lidx, ridx, data, fns, color):\n",
    "    plt.figure(cnt)\n",
    "    plt.plot(d[:, 0], d[:, 1], c)\n",
    "    plt.plot([e_cen[cnt-10], e_cen[cnt-10]], [ymin, ymax], color[cnt-10])\n",
    "    plt.title(os.path.basename(fn).split('.')[0].split('_')[0])\n",
    "    cnt += 1\n",
    "    plt.gca().set_xlabel('Energy (eV)')\n",
    "    plt.gca().set_ylabel('PDF')\n",
    "    plt.gca().tick_params(labelrotation=45)"
   ]
  },
  {
   "cell_type": "code",
   "execution_count": 221,
   "metadata": {},
   "outputs": [
    {
     "name": "stdout",
     "output_type": "stream",
     "text": [
      "(500, 2) (500, 2)\n",
      "8351.8447265625 8354.1103515625\n",
      "8350.0 8356.9970703125\n"
     ]
    }
   ],
   "source": [
    "print(data[0].shape, data[1].shape)\n",
    "print(data[0][0, 0], data[0][-1, 0])\n",
    "print(data[1][0, 0], data[1][-1, 0])"
   ]
  },
  {
   "cell_type": "code",
   "execution_count": null,
   "metadata": {},
   "outputs": [],
   "source": []
  }
 ],
 "metadata": {
  "kernelspec": {
   "display_name": "Python 3",
   "language": "python",
   "name": "python3"
  },
  "language_info": {
   "codemirror_mode": {
    "name": "ipython",
    "version": 3
   },
   "file_extension": ".py",
   "mimetype": "text/x-python",
   "name": "python",
   "nbconvert_exporter": "python",
   "pygments_lexer": "ipython3",
   "version": "3.7.4"
  }
 },
 "nbformat": 4,
 "nbformat_minor": 4
}
