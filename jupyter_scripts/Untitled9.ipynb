{
 "cells": [
  {
   "cell_type": "code",
   "execution_count": 1,
   "metadata": {},
   "outputs": [
    {
     "name": "stderr",
     "output_type": "stream",
     "text": [
      "[numexpr.utils] INFO : Note: NumExpr detected 24 cores but \"NUMEXPR_MAX_THREADS\" not set, so enforcing safe limit of 8.\n",
      "[numexpr.utils] INFO : NumExpr defaulting to 8 threads.\n",
      "[dxchange.reader] WARNING : astropy module not found\n"
     ]
    }
   ],
   "source": [
    "from dask.distributed import Client, progress\n",
    "from dask import delayed\n",
    "import dask\n",
    "#from larch.xafs import preedge\n",
    "import larch.xafs as lx\n",
    "import h5py, os, time, timeit, numpy as np\n",
    "from numba import njit, prange\n",
    "import matplotlib.pyplot as plt"
   ]
  },
  {
   "cell_type": "code",
   "execution_count": null,
   "metadata": {},
   "outputs": [],
   "source": [
    "client = Client(threads_per_worker=4, n_workers=os.cpu_count()-1)\n",
    "client"
   ]
  },
  {
   "cell_type": "code",
   "execution_count": 2,
   "metadata": {},
   "outputs": [
    {
     "name": "stdout",
     "output_type": "stream",
     "text": [
      "(101, 383, 1040)\n"
     ]
    }
   ],
   "source": [
    "fn = '/media/xiao_usb/3D_trial_reg_scan_id_29773-29873_2020-06-01-20-38-09.h5'\n",
    "f = h5py.File(fn, 'r')\n",
    "# data = f['/registration_results/reg_results/registered_xanes3D'][:, 0, 50:200, 420:550]\n",
    "data = f['/registration_results/reg_results/registered_xanes3D'][:, 0, :, :]\n",
    "eng = f['/registration_results/reg_results/eng_list'][:]*1e3\n",
    "f.close()\n",
    "eng -= eng[0]\n",
    "\n",
    "dim = data.shape\n",
    "print(dim)\n",
    "\n",
    "#ids = list(np.arange(20)) + list(np.arange(40, 49))\n",
    "#x = eng[ids]\n",
    "#y = data[ids, :].reshape([len(ids), -1])\n",
    "y = data.reshape([dim[0], -1])"
   ]
  },
  {
   "cell_type": "code",
   "execution_count": null,
   "metadata": {},
   "outputs": [],
   "source": [
    "# single thread python\n",
    "for ii in np.int32(np.arange(dim[1]*dim[2])):\n",
    "    preedge(eng, mu=y[:, ii], e0=eng[40], step=None, nnorm=1,\n",
    "             nvict=1, pre1=-150, pre2=-30, norm1=100, norm2=300)"
   ]
  },
  {
   "cell_type": "code",
   "execution_count": 4,
   "metadata": {
    "collapsed": true,
    "jupyter": {
     "outputs_hidden": true
    }
   },
   "outputs": [
    {
     "data": {
      "text/plain": [
       "['ETOK',\n",
       " 'FeffDatFile',\n",
       " 'FeffPathGroup',\n",
       " 'FeffRunner',\n",
       " 'FeffitDataSet',\n",
       " 'KTOE',\n",
       " 'TransformGroup',\n",
       " '__DOC__',\n",
       " '__builtins__',\n",
       " '__cached__',\n",
       " '__doc__',\n",
       " '__file__',\n",
       " '__loader__',\n",
       " '__name__',\n",
       " '__package__',\n",
       " '__path__',\n",
       " '__spec__',\n",
       " '_larch_builtins',\n",
       " '_larch_groups',\n",
       " '_larch_init',\n",
       " '_sigma2_funcs',\n",
       " 'autobk',\n",
       " 'cauchy_wavelet',\n",
       " 'constants',\n",
       " 'deconvolve',\n",
       " 'diffKKGroup',\n",
       " 'diffkk',\n",
       " 'estimate_noise',\n",
       " 'etok',\n",
       " 'feff6l',\n",
       " 'feff8_xafs',\n",
       " 'feff8l',\n",
       " 'feff8lpath',\n",
       " 'feffdat',\n",
       " 'feffit',\n",
       " 'feffit_dataset',\n",
       " 'feffit_report',\n",
       " 'feffit_transform',\n",
       " 'feffpath',\n",
       " 'feffrunner',\n",
       " 'ff2chi',\n",
       " 'find_e0',\n",
       " 'find_exe',\n",
       " 'fluo',\n",
       " 'fluo_corr',\n",
       " 'ftwindow',\n",
       " 'guess_energy_units',\n",
       " 'ktoe',\n",
       " 'mback',\n",
       " 'mback_norm',\n",
       " 'path2chi',\n",
       " 'pre_edge',\n",
       " 'pre_edge_baseline',\n",
       " 'preedge',\n",
       " 'prepeaks_setup',\n",
       " 'rebin_xafs',\n",
       " 'set_xafsGroup',\n",
       " 'sigma2_correldebye',\n",
       " 'sigma2_debye',\n",
       " 'sigma2_eins',\n",
       " 'sigma2_models',\n",
       " 'sort_xafs',\n",
       " 'xafsft',\n",
       " 'xafsutils',\n",
       " 'xas_convolve',\n",
       " 'xas_deconvolve',\n",
       " 'xftf',\n",
       " 'xftf_fast',\n",
       " 'xftf_prep',\n",
       " 'xftr',\n",
       " 'xftr_fast']"
      ]
     },
     "execution_count": 4,
     "metadata": {},
     "output_type": "execute_result"
    }
   ],
   "source": [
    "dir(lx)"
   ]
  },
  {
   "cell_type": "code",
   "execution_count": 6,
   "metadata": {},
   "outputs": [
    {
     "ename": "TypingError",
     "evalue": "Failed in nopython mode pipeline (step: nopython frontend)\nUntyped global name 'local_preedge': cannot determine Numba type of <class 'function'>\n\nFile \"<ipython-input-6-226a46fa5b32>\", line 6:\ndef pre_edge(eng, mu=None, e0=None, step=None, nnorm=None,\n    <source elided>\n             nvict=None, pre1=None, pre2=None, norm1=None, norm2=None):\n    local_preedge(eng, mu=mu, e0=e0, step=step, nnorm=nnorm,\n    ^\n",
     "output_type": "error",
     "traceback": [
      "\u001b[0;31m---------------------------------------------------------------------------\u001b[0m",
      "\u001b[0;31mTypingError\u001b[0m                               Traceback (most recent call last)",
      "\u001b[0;32m<ipython-input-6-226a46fa5b32>\u001b[0m in \u001b[0;36m<module>\u001b[0;34m\u001b[0m\n\u001b[1;32m      8\u001b[0m \u001b[0;32mfor\u001b[0m \u001b[0mii\u001b[0m \u001b[0;32min\u001b[0m \u001b[0mprange\u001b[0m\u001b[0;34m(\u001b[0m\u001b[0mnp\u001b[0m\u001b[0;34m.\u001b[0m\u001b[0mint32\u001b[0m\u001b[0;34m(\u001b[0m\u001b[0mdim\u001b[0m\u001b[0;34m[\u001b[0m\u001b[0;36m1\u001b[0m\u001b[0;34m]\u001b[0m\u001b[0;34m*\u001b[0m\u001b[0mdim\u001b[0m\u001b[0;34m[\u001b[0m\u001b[0;36m2\u001b[0m\u001b[0;34m]\u001b[0m\u001b[0;34m)\u001b[0m\u001b[0;34m)\u001b[0m\u001b[0;34m:\u001b[0m\u001b[0;34m\u001b[0m\u001b[0;34m\u001b[0m\u001b[0m\n\u001b[1;32m      9\u001b[0m     pre_edge(eng, mu=y[:, ii], e0=eng[40], step=None, nnorm=1,\n\u001b[0;32m---> 10\u001b[0;31m              nvict=1, pre1=-150, pre2=-30, norm1=100, norm2=300)\n\u001b[0m",
      "\u001b[0;32m~/software/anaconda3/envs/py37play/lib/python3.7/site-packages/numba/core/dispatcher.py\u001b[0m in \u001b[0;36m_compile_for_args\u001b[0;34m(self, *args, **kws)\u001b[0m\n\u001b[1;32m    399\u001b[0m                 \u001b[0me\u001b[0m\u001b[0;34m.\u001b[0m\u001b[0mpatch_message\u001b[0m\u001b[0;34m(\u001b[0m\u001b[0mmsg\u001b[0m\u001b[0;34m)\u001b[0m\u001b[0;34m\u001b[0m\u001b[0;34m\u001b[0m\u001b[0m\n\u001b[1;32m    400\u001b[0m \u001b[0;34m\u001b[0m\u001b[0m\n\u001b[0;32m--> 401\u001b[0;31m             \u001b[0merror_rewrite\u001b[0m\u001b[0;34m(\u001b[0m\u001b[0me\u001b[0m\u001b[0;34m,\u001b[0m \u001b[0;34m'typing'\u001b[0m\u001b[0;34m)\u001b[0m\u001b[0;34m\u001b[0m\u001b[0;34m\u001b[0m\u001b[0m\n\u001b[0m\u001b[1;32m    402\u001b[0m         \u001b[0;32mexcept\u001b[0m \u001b[0merrors\u001b[0m\u001b[0;34m.\u001b[0m\u001b[0mUnsupportedError\u001b[0m \u001b[0;32mas\u001b[0m \u001b[0me\u001b[0m\u001b[0;34m:\u001b[0m\u001b[0;34m\u001b[0m\u001b[0;34m\u001b[0m\u001b[0m\n\u001b[1;32m    403\u001b[0m             \u001b[0;31m# Something unsupported is present in the user code, add help info\u001b[0m\u001b[0;34m\u001b[0m\u001b[0;34m\u001b[0m\u001b[0;34m\u001b[0m\u001b[0m\n",
      "\u001b[0;32m~/software/anaconda3/envs/py37play/lib/python3.7/site-packages/numba/core/dispatcher.py\u001b[0m in \u001b[0;36merror_rewrite\u001b[0;34m(e, issue_type)\u001b[0m\n\u001b[1;32m    342\u001b[0m                 \u001b[0;32mraise\u001b[0m \u001b[0me\u001b[0m\u001b[0;34m\u001b[0m\u001b[0;34m\u001b[0m\u001b[0m\n\u001b[1;32m    343\u001b[0m             \u001b[0;32melse\u001b[0m\u001b[0;34m:\u001b[0m\u001b[0;34m\u001b[0m\u001b[0;34m\u001b[0m\u001b[0m\n\u001b[0;32m--> 344\u001b[0;31m                 \u001b[0mreraise\u001b[0m\u001b[0;34m(\u001b[0m\u001b[0mtype\u001b[0m\u001b[0;34m(\u001b[0m\u001b[0me\u001b[0m\u001b[0;34m)\u001b[0m\u001b[0;34m,\u001b[0m \u001b[0me\u001b[0m\u001b[0;34m,\u001b[0m \u001b[0;32mNone\u001b[0m\u001b[0;34m)\u001b[0m\u001b[0;34m\u001b[0m\u001b[0;34m\u001b[0m\u001b[0m\n\u001b[0m\u001b[1;32m    345\u001b[0m \u001b[0;34m\u001b[0m\u001b[0m\n\u001b[1;32m    346\u001b[0m         \u001b[0margtypes\u001b[0m \u001b[0;34m=\u001b[0m \u001b[0;34m[\u001b[0m\u001b[0;34m]\u001b[0m\u001b[0;34m\u001b[0m\u001b[0;34m\u001b[0m\u001b[0m\n",
      "\u001b[0;32m~/software/anaconda3/envs/py37play/lib/python3.7/site-packages/numba/core/utils.py\u001b[0m in \u001b[0;36mreraise\u001b[0;34m(tp, value, tb)\u001b[0m\n\u001b[1;32m     78\u001b[0m         \u001b[0mvalue\u001b[0m \u001b[0;34m=\u001b[0m \u001b[0mtp\u001b[0m\u001b[0;34m(\u001b[0m\u001b[0;34m)\u001b[0m\u001b[0;34m\u001b[0m\u001b[0;34m\u001b[0m\u001b[0m\n\u001b[1;32m     79\u001b[0m     \u001b[0;32mif\u001b[0m \u001b[0mvalue\u001b[0m\u001b[0;34m.\u001b[0m\u001b[0m__traceback__\u001b[0m \u001b[0;32mis\u001b[0m \u001b[0;32mnot\u001b[0m \u001b[0mtb\u001b[0m\u001b[0;34m:\u001b[0m\u001b[0;34m\u001b[0m\u001b[0;34m\u001b[0m\u001b[0m\n\u001b[0;32m---> 80\u001b[0;31m         \u001b[0;32mraise\u001b[0m \u001b[0mvalue\u001b[0m\u001b[0;34m.\u001b[0m\u001b[0mwith_traceback\u001b[0m\u001b[0;34m(\u001b[0m\u001b[0mtb\u001b[0m\u001b[0;34m)\u001b[0m\u001b[0;34m\u001b[0m\u001b[0;34m\u001b[0m\u001b[0m\n\u001b[0m\u001b[1;32m     81\u001b[0m     \u001b[0;32mraise\u001b[0m \u001b[0mvalue\u001b[0m\u001b[0;34m\u001b[0m\u001b[0;34m\u001b[0m\u001b[0m\n\u001b[1;32m     82\u001b[0m \u001b[0;34m\u001b[0m\u001b[0m\n",
      "\u001b[0;31mTypingError\u001b[0m: Failed in nopython mode pipeline (step: nopython frontend)\nUntyped global name 'local_preedge': cannot determine Numba type of <class 'function'>\n\nFile \"<ipython-input-6-226a46fa5b32>\", line 6:\ndef pre_edge(eng, mu=None, e0=None, step=None, nnorm=None,\n    <source elided>\n             nvict=None, pre1=None, pre2=None, norm1=None, norm2=None):\n    local_preedge(eng, mu=mu, e0=e0, step=step, nnorm=nnorm,\n    ^\n"
     ]
    }
   ],
   "source": [
    "# numba\n",
    "local_preedge = lx.preedge\n",
    "@njit\n",
    "def pre_edge(eng, mu=None, e0=None, step=None, nnorm=None,\n",
    "             nvict=None, pre1=None, pre2=None, norm1=None, norm2=None):\n",
    "    local_preedge(eng, mu=mu, e0=e0, step=step, nnorm=nnorm,\n",
    "             nvict=nvict, pre1=pre1, pre2=pre2, norm1=norm1, norm2=norm2)\n",
    "for ii in prange(np.int32(dim[1]*dim[2])):\n",
    "    pre_edge(eng, mu=y[:, ii], e0=eng[40], step=None, nnorm=1,\n",
    "             nvict=1, pre1=-150, pre2=-30, norm1=100, norm2=300)"
   ]
  },
  {
   "cell_type": "code",
   "execution_count": null,
   "metadata": {},
   "outputs": [],
   "source": [
    "results = []\n",
    "print(time.asctime())\n",
    "for ii in np.int32(np.arange(dim[1]*dim[2])):\n",
    "    rlt = delayed(preedge)(eng, mu=y[:, ii], e0=eng[40], step=None, nnorm=1,\n",
    "                           nvict=1, pre1=-150, pre2=-30, norm1=100, norm2=300)\n",
    "    results.append(rlt)\n",
    "%time dask.compute(*results, scheduler=\"processes\")\n",
    "\n",
    "\n",
    "print(time.asctime())"
   ]
  },
  {
   "cell_type": "code",
   "execution_count": null,
   "metadata": {},
   "outputs": [],
   "source": [
    "client.close()"
   ]
  },
  {
   "cell_type": "code",
   "execution_count": null,
   "metadata": {},
   "outputs": [],
   "source": [
    "import time\n",
    "import random\n",
    "\n",
    "def inc(x):\n",
    "    time.sleep(random.random())\n",
    "    return x + 1\n",
    "\n",
    "def dec(x):\n",
    "    time.sleep(random.random())\n",
    "    return x - 1\n",
    "\n",
    "def add(x, y):\n",
    "    time.sleep(random.random())\n",
    "    return x + y"
   ]
  },
  {
   "cell_type": "code",
   "execution_count": null,
   "metadata": {},
   "outputs": [],
   "source": [
    "%%time\n",
    "x = inc(1)\n",
    "y = dec(2)\n",
    "z = add(x, y)\n",
    "z"
   ]
  },
  {
   "cell_type": "code",
   "execution_count": null,
   "metadata": {},
   "outputs": [],
   "source": [
    "help(Client)"
   ]
  },
  {
   "cell_type": "code",
   "execution_count": 67,
   "metadata": {},
   "outputs": [
    {
     "name": "stdout",
     "output_type": "stream",
     "text": [
      "(101, 383, 1040)\n",
      "(101,) (101, 398320)\n",
      "Fri Jun 12 16:12:47 2020\n",
      "Fri Jun 12 16:13:16 2020\n",
      "398320\n",
      "[7.6400961623798365, 0.030627643437632357] [-0.0415458   5.85828926]\n"
     ]
    }
   ],
   "source": [
    "from larch.xafs import preedge\n",
    "import h5py, os, time, timeit, numpy as np\n",
    "import multiprocessing as mp\n",
    "import matplotlib.pyplot as plt\n",
    "\n",
    "fn = '/media/xiao_usb/3D_trial_reg_scan_id_29773-29873_2020-06-01-20-38-09.h5'\n",
    "f = h5py.File(fn, 'r')\n",
    "# data = f['/registration_results/reg_results/registered_xanes3D'][:, 0, 50:200, 420:550]\n",
    "data = f['/registration_results/reg_results/registered_xanes3D'][:, 0, :, :]*1e4\n",
    "eng = f['/registration_results/reg_results/eng_list'][:]*1e3\n",
    "f.close()\n",
    "eng -= eng[0]\n",
    "\n",
    "dim = data.shape\n",
    "print(dim)\n",
    "\n",
    "ids = list(np.arange(20)) + list(np.arange(40, 49))\n",
    "#x = eng[ids]\n",
    "#y = data[ids, :].reshape([len(ids), -1])\n",
    "x = eng\n",
    "y = data.reshape([dim[0], -1])\n",
    "\n",
    "# def preedge(x, amplitude, center, sigma, slope, intercept):\n",
    "#     \"\"\"wrapper to larch.pre_edge\"\"\"\n",
    "#     pass\n",
    "\n",
    "# def mp_fit(x, y, par_dict, par_bounds):\n",
    "#     try:\n",
    "#         return curve_fit(pre_peak, x, y, (par_dict['amplitude'], par_dict['center'], par_dict['sigma'],\n",
    "#                                           par_dict['slope'], par_dict['intercept']), \n",
    "#                          bounds=par_bounds)\n",
    "#     except:\n",
    "#         return (None, None)\n",
    "    \n",
    "# pre_edge(energy, mu=None, group=None, e0=None, step=None, nnorm=None,\n",
    "#              nvict=0, pre1=None, pre2=None, norm1=None, norm2=None,\n",
    "#              make_flat=True, _larch=None)\n",
    "\n",
    "# lrtz = LorentzianModel(prefix='lrtz_')\n",
    "# pars = lrtz.make_params(amplitude=1.5, center=eng[49])\n",
    "# pars['lrtz_amplitude'].set(value=1.5, min=0., max = 2)\n",
    "# pars['lrtz_center'].set(value=eng[47], min=eng[40], max = eng[52])\n",
    "# lin = LinearModel(prefix='lin_')\n",
    "# pars.update(lin.make_params())\n",
    "# pars['lin_slope'].set(value=0.1, min=-1, max=1)\n",
    "# pars['lin_intercept'].set(value=0.1)\n",
    "# mod = lrtz + lin\n",
    "# #mod.fit(data[ids, 0, 0], pars, x=x, method='leastsq', nan_policy='omit')\n",
    "\n",
    "# if __name__ == '__main__':\n",
    "n_cpu = os.cpu_count()\n",
    "par_dict = {'amplitude':1e-3, 'center':x[-1], 'sigma':3.0,\n",
    "            'slope':0.1, 'intercept':0.0}\n",
    "par_bounds = ((1e-5, x[-8], 0.1, 0, 0), (1e-2, x[-1], 10, 1, 2))\n",
    "print(x.shape, y.shape)\n",
    "print(time.asctime())\n",
    "\n",
    "############ native python loop\n",
    "# result = []\n",
    "# for ii in range(dim[1]*dim[2]):\n",
    "#     result.append(mp_fit(x, y[:, ii], par_dict))\n",
    "# rlt = mp_fit(x, y[:, 1000], par_dict, par_bounds)\n",
    "# pre_peak(x, amplitude, center, sigma, slope, intercept)\n",
    "# print(rlt)\n",
    "    \n",
    "############ multiprocessing\n",
    "def local_preedge(energy, mu, e0, step, nnorm, nvict, pre1,\n",
    "                  pre2, norm1, norm2):\n",
    "    return preedge(energy, mu, e0=e0, step=step, nnorm=nnorm,\n",
    "                   nvict=nvict, pre1=pre1, pre2=pre2, norm1=norm1, norm2=norm2)\n",
    "with mp.Pool(n_cpu-1) as pool:\n",
    "    rlt = pool.starmap(local_preedge, [(x, y[:, ii], eng[43], None, 1,\n",
    "                       0, -150, -50, 70, 430) for ii in np.int32(np.arange(dim[1]*dim[2]))])\n",
    "pool.join()\n",
    "pool.close()\n",
    "\n",
    "print(time.asctime())\n",
    "print(len(rlt))\n",
    "\n",
    "# print(len(rlt[1000][0]))\n",
    "# print(len(rlt[1000][1]))\n",
    "# print((rlt[1000][0]))\n",
    "# print((rlt[1000][1]))\n",
    "# print((rlt[1000][0][0]))\n",
    "# print(np.array(rlt).shape)\n",
    "\n",
    "idx = int(108*dim[2] + 502) #100\n",
    "print(rlt[idx]['norm_coefs'], rlt[idx]['precoefs'])\n",
    "# plt.plot(x, prepeak(x, *rlt[idx][0]))\n",
    "# plt.plot(x, y[:, idx])\n",
    "# plt.show()"
   ]
  },
  {
   "cell_type": "code",
   "execution_count": 27,
   "metadata": {},
   "outputs": [
    {
     "name": "stdout",
     "output_type": "stream",
     "text": [
      "132.99414\n"
     ]
    }
   ],
   "source": [
    "idx = int(108*dim[2] + 502) \n",
    "plt.figure(1)\n",
    "plt.plot(eng, rlt[idx]['norm_coefs'][0]+rlt[idx]['norm_coefs'][1]*eng, 'r')\n",
    "plt.plot(eng, rlt[idx]['precoefs'][1]+rlt[idx]['precoefs'][0]*eng, 'g')\n",
    "plt.plot(eng, y[:, idx])\n",
    "print(eng[43])"
   ]
  },
  {
   "cell_type": "code",
   "execution_count": 53,
   "metadata": {},
   "outputs": [
    {
     "data": {
      "text/plain": [
       "<matplotlib.image.AxesImage at 0x7faa43b00110>"
      ]
     },
     "execution_count": 53,
     "metadata": {},
     "output_type": "execute_result"
    }
   ],
   "source": [
    "%matplotlib qt\n",
    "plt.imshow(data[50]>10)"
   ]
  },
  {
   "cell_type": "code",
   "execution_count": 56,
   "metadata": {},
   "outputs": [],
   "source": [
    "data_m = (data*(data[50]>10)).mean(axis=(1, 2))\n",
    "rlt_m = preedge(x, data_m, e0=eng[43], step=None, nnorm=1,\n",
    "                nvict=0, pre1=-150, pre2=-50, norm1=70, norm2=430)"
   ]
  },
  {
   "cell_type": "code",
   "execution_count": 62,
   "metadata": {},
   "outputs": [
    {
     "data": {
      "text/plain": [
       "[<matplotlib.lines.Line2D at 0x7fa9fb561d10>]"
      ]
     },
     "execution_count": 62,
     "metadata": {},
     "output_type": "execute_result"
    }
   ],
   "source": [
    "plt.figure(2)\n",
    "plt.plot(eng, (rlt_m['precoefs'][1]+rlt_m['precoefs'][0]*eng)+(rlt_m['norm_coefs'][0]+rlt_m['norm_coefs'][1]*eng), 'r')\n",
    "plt.plot(eng, (rlt_m['precoefs'][1]+rlt_m['precoefs'][0]*eng), 'g')\n",
    "plt.plot(eng, data_m)"
   ]
  },
  {
   "cell_type": "code",
   "execution_count": 47,
   "metadata": {},
   "outputs": [
    {
     "name": "stdout",
     "output_type": "stream",
     "text": [
      "[1.2550789448639188, -0.0008303717102873441] [-2.61967429e-04  6.68449144e-01]\n"
     ]
    }
   ],
   "source": [
    "print(rlt_m['norm_coefs'], rlt_m['precoefs'])"
   ]
  },
  {
   "cell_type": "code",
   "execution_count": 63,
   "metadata": {},
   "outputs": [],
   "source": [
    "import numbers"
   ]
  },
  {
   "cell_type": "code",
   "execution_count": 66,
   "metadata": {},
   "outputs": [
    {
     "name": "stdout",
     "output_type": "stream",
     "text": [
      "Help on class Number in module numbers:\n",
      "\n",
      "class Number(builtins.object)\n",
      " |  All numbers inherit from this class.\n",
      " |  \n",
      " |  If you just want to check if an argument x is a number, without\n",
      " |  caring what kind, use isinstance(x, Number).\n",
      " |  \n",
      " |  Data and other attributes defined here:\n",
      " |  \n",
      " |  __abstractmethods__ = frozenset()\n",
      " |  \n",
      " |  __hash__ = None\n",
      "\n"
     ]
    }
   ],
   "source": [
    "help(numbers.Number)"
   ]
  },
  {
   "cell_type": "code",
   "execution_count": 2,
   "metadata": {},
   "outputs": [
    {
     "name": "stdout",
     "output_type": "stream",
     "text": [
      "0.28379410920832787\n"
     ]
    }
   ],
   "source": [
    "import numpy as np\n",
    "print(np.arcsin(0.28))"
   ]
  },
  {
   "cell_type": "code",
   "execution_count": 10,
   "metadata": {},
   "outputs": [
    {
     "data": {
      "text/plain": [
       "-0.280005655155147"
      ]
     },
     "execution_count": 10,
     "metadata": {},
     "output_type": "execute_result"
    }
   ],
   "source": [
    "np.cos(np.pi/2+0.2838)"
   ]
  },
  {
   "cell_type": "code",
   "execution_count": 13,
   "metadata": {},
   "outputs": [
    {
     "data": {
      "text/plain": [
       "15.971516849157883"
      ]
     },
     "execution_count": 13,
     "metadata": {},
     "output_type": "execute_result"
    }
   ],
   "source": [
    "0.56**2/4/np.pi*640"
   ]
  },
  {
   "cell_type": "code",
   "execution_count": 14,
   "metadata": {},
   "outputs": [
    {
     "data": {
      "text/plain": [
       "0.31360000000000005"
      ]
     },
     "execution_count": 14,
     "metadata": {},
     "output_type": "execute_result"
    }
   ],
   "source": [
    "0.56**2"
   ]
  },
  {
   "cell_type": "code",
   "execution_count": null,
   "metadata": {},
   "outputs": [],
   "source": []
  },
  {
   "cell_type": "code",
   "execution_count": 3,
   "metadata": {},
   "outputs": [
    {
     "data": {
      "text/plain": [
       "3"
      ]
     },
     "execution_count": 3,
     "metadata": {},
     "output_type": "execute_result"
    }
   ],
   "source": [
    "a = {}\n",
    "a[0] = 0\n",
    "a[2] = 2\n",
    "a[1] = 1\n",
    "len(a.keys())"
   ]
  },
  {
   "cell_type": "code",
   "execution_count": 6,
   "metadata": {},
   "outputs": [
    {
     "name": "stdout",
     "output_type": "stream",
     "text": [
      "0 0\n",
      "1 1\n",
      "2 2\n"
     ]
    }
   ],
   "source": [
    "for ii in sorted(a.keys()):\n",
    "    print(ii, a[ii])"
   ]
  },
  {
   "cell_type": "code",
   "execution_count": 10,
   "metadata": {},
   "outputs": [
    {
     "name": "stdout",
     "output_type": "stream",
     "text": [
      "8350.0\n"
     ]
    }
   ],
   "source": [
    "import h5py, numpy as np\n",
    "fn = '/media/xiao_usb/JuLi_2020Q1/2D_trial_reg_xanes_scan2_id_54308_2020-07-09-11-12-16.h5'\n",
    "with h5py.File(fn, 'r') as f:\n",
    "    \"\"\"\n",
    "    tem = f['/']\n",
    "    for ii in tem:\n",
    "        if 'processed_' in ii:\n",
    "            print(ii)\n",
    "            processed = ii\n",
    "    tem = f[f'/{processed}/proc_spectrum']\n",
    "    for ii in tem:\n",
    "        print(ii)\n",
    "    \"\"\"\n",
    "    print(np.min(f[f'/{processed}/proc_spectrum/whiteline_pos_fit']))"
   ]
  },
  {
   "cell_type": "code",
   "execution_count": null,
   "metadata": {},
   "outputs": [],
   "source": []
  }
 ],
 "metadata": {
  "kernelspec": {
   "display_name": "Python 3",
   "language": "python",
   "name": "python3"
  },
  "language_info": {
   "codemirror_mode": {
    "name": "ipython",
    "version": 3
   },
   "file_extension": ".py",
   "mimetype": "text/x-python",
   "name": "python",
   "nbconvert_exporter": "python",
   "pygments_lexer": "ipython3",
   "version": "3.7.4"
  }
 },
 "nbformat": 4,
 "nbformat_minor": 4
}
