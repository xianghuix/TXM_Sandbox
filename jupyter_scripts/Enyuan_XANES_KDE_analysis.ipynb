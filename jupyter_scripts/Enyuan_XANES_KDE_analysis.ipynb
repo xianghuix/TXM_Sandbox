{
 "cells": [
  {
   "cell_type": "code",
   "execution_count": 1,
   "metadata": {},
   "outputs": [],
   "source": [
    "%matplotlib qt\n",
    "import seaborn as sbn\n",
    "import numpy as np\n",
    "import matplotlib.pyplot as plt \n",
    "from scipy import stats\n",
    "import tifffile\n",
    "import os\n",
    "import sklearn\n",
    "from sklearn.neighbors import KernelDensity\n",
    "from sklearn.model_selection import GridSearchCV\n",
    "import imagej\n",
    "from jnius import autoclass"
   ]
  },
  {
   "cell_type": "code",
   "execution_count": 2,
   "metadata": {},
   "outputs": [
    {
     "name": "stderr",
     "output_type": "stream",
     "text": [
      "The JVM is already running.\n"
     ]
    },
    {
     "ename": "NameError",
     "evalue": "name 'ij' is not defined",
     "output_type": "error",
     "traceback": [
      "\u001b[0;31m---------------------------------------------------------------------------\u001b[0m",
      "\u001b[0;31mNameError\u001b[0m                                 Traceback (most recent call last)",
      "\u001b[0;32m<ipython-input-2-3bc8a00556fb>\u001b[0m in \u001b[0;36m<module>\u001b[0;34m\u001b[0m\n\u001b[0;32m----> 1\u001b[0;31m \u001b[0mij\u001b[0m \u001b[0;34m=\u001b[0m \u001b[0mimagej\u001b[0m\u001b[0;34m.\u001b[0m\u001b[0minit\u001b[0m\u001b[0;34m(\u001b[0m\u001b[0;34m'/home/xiao/software/Fiji.app'\u001b[0m\u001b[0;34m,\u001b[0m \u001b[0mheadless\u001b[0m\u001b[0;34m=\u001b[0m\u001b[0;32mFalse\u001b[0m\u001b[0;34m)\u001b[0m\u001b[0;34m\u001b[0m\u001b[0;34m\u001b[0m\u001b[0m\n\u001b[0m\u001b[1;32m      2\u001b[0m \u001b[0mijui\u001b[0m \u001b[0;34m=\u001b[0m \u001b[0mij\u001b[0m\u001b[0;34m.\u001b[0m\u001b[0mui\u001b[0m\u001b[0;34m(\u001b[0m\u001b[0;34m)\u001b[0m\u001b[0;34m\u001b[0m\u001b[0;34m\u001b[0m\u001b[0m\n\u001b[1;32m      3\u001b[0m \u001b[0mijui\u001b[0m\u001b[0;34m.\u001b[0m\u001b[0mshowUI\u001b[0m\u001b[0;34m(\u001b[0m\u001b[0;34m)\u001b[0m\u001b[0;34m\u001b[0m\u001b[0;34m\u001b[0m\u001b[0m\n",
      "\u001b[0;32m~/software/anaconda3/envs/py36/lib/python3.6/site-packages/imagej/imagej.py\u001b[0m in \u001b[0;36minit\u001b[0;34m(ij_dir_or_version_or_endpoint, headless, new_instance)\u001b[0m\n\u001b[1;32m     84\u001b[0m     \u001b[0;32mif\u001b[0m \u001b[0mjnius_config\u001b[0m\u001b[0;34m.\u001b[0m\u001b[0mvm_running\u001b[0m \u001b[0;32mand\u001b[0m \u001b[0;32mnot\u001b[0m \u001b[0mnew_instance\u001b[0m\u001b[0;34m:\u001b[0m\u001b[0;34m\u001b[0m\u001b[0;34m\u001b[0m\u001b[0m\n\u001b[1;32m     85\u001b[0m         \u001b[0m_logger\u001b[0m\u001b[0;34m.\u001b[0m\u001b[0mwarning\u001b[0m\u001b[0;34m(\u001b[0m\u001b[0;34m'The JVM is already running.'\u001b[0m\u001b[0;34m)\u001b[0m\u001b[0;34m\u001b[0m\u001b[0;34m\u001b[0m\u001b[0m\n\u001b[0;32m---> 86\u001b[0;31m         \u001b[0;32mreturn\u001b[0m \u001b[0mij\u001b[0m\u001b[0;34m\u001b[0m\u001b[0;34m\u001b[0m\u001b[0m\n\u001b[0m\u001b[1;32m     87\u001b[0m \u001b[0;34m\u001b[0m\u001b[0m\n\u001b[1;32m     88\u001b[0m     \u001b[0;32mif\u001b[0m \u001b[0;32mnot\u001b[0m \u001b[0mjnius_config\u001b[0m\u001b[0;34m.\u001b[0m\u001b[0mvm_running\u001b[0m\u001b[0;34m:\u001b[0m\u001b[0;34m\u001b[0m\u001b[0;34m\u001b[0m\u001b[0m\n",
      "\u001b[0;31mNameError\u001b[0m: name 'ij' is not defined"
     ]
    }
   ],
   "source": [
    "ij = imagej.init('/home/xiao/software/Fiji.app', headless=False)\n",
    "ijui = ij.ui()\n",
    "ijui.showUI()"
   ]
  },
  {
   "cell_type": "code",
   "execution_count": null,
   "metadata": {},
   "outputs": [],
   "source": [
    "#ijgui = autoclass('ij.Gui')\n",
    "dir(autoclass)"
   ]
  },
  {
   "cell_type": "code",
   "execution_count": null,
   "metadata": {},
   "outputs": [],
   "source": [
    "ij.py.run_macro(\"\"\"run(\"mask w wand\")\"\"\")"
   ]
  },
  {
   "cell_type": "code",
   "execution_count": null,
   "metadata": {},
   "outputs": [],
   "source": [
    "#idx = [55374, 55376, 55380, 55385, 55400, 55406]\n",
    "ii = 55375\n",
    "fn = f'/NSLS2/xf18id1/users/2020Q1/ENYUAN_Proposal_305836/masked_spec_{ii}.tif'\n",
    "img = tifffile.imread(fn)\n",
    "\n",
    "img1 = img[(img!=img.min())&(img!=img.max())]\n",
    "print(img.min(), img.max())\n",
    "print(img1.min(), img1.max())\n",
    "\n",
    "img = img[(img!=img.min())&(img!=img.max())].flatten()\n",
    "val = np.unique(img)\n",
    "print(np.abs(val[1:]-val[:-1]).min())\n",
    "print(img.shape)\n",
    "print(val.shape)\n",
    "\n",
    "\"\"\"\n",
    "grid = GridSearchCV(KernelDensity(atol=1e-5, rtol=1e-5, kernel=\"gaussian\"),\n",
    "                    {'bandwidth': np.linspace(1e-6, 1e-4, 50)},\n",
    "                    cv=5, n_jobs=36) # 20-fold cross-validation\n",
    "grid.fit(img[:, None])\n",
    "print(grid.best_params_)\n",
    "\n",
    "kde1 = grid.best_estimator_\n",
    "kde1.set_params(**{\"bandwidth\":np.abs(val[1:]-val[:-1]).min()/1.5})\n",
    "\"\"\"\n",
    "\n",
    "kde1 =  KernelDensity(bandwidth=np.abs(val[1:]-val[:-1]).min()/1.5, \n",
    "                      algorithm=\"kd_tree\", kernel='gaussian', \n",
    "                      metric='euclidean', atol=1e-5, rtol=1e-5, \n",
    "                      breadth_first=True, leaf_size=40, metric_params=None).fit(img[:, None])\n",
    "x_grid1 = np.linspace(val.min(), val.max(), 500)\n",
    "pdf1 = np.exp(kde1.score_samples(x_grid1[:, None]))\n",
    "fig, ax = plt.subplots()\n",
    "ax.plot(x_grid1, pdf1, linewidth=3, alpha=0.5, label=str(ii))\n",
    "ax.hist(img, val.shape[0], fc='gray', histtype='stepfilled', alpha=0.3, density=True)\n",
    "#ax.hist(img, val.shape[0], fc='gray', histtype='stepfilled', alpha=0.3)\n",
    "ax.legend(loc='upper left')\n",
    "ax.set_xlim(val.min()-0.001, val.max()+0.001);\n",
    "\n",
    "\"\"\"\n",
    "plt.figure(1)\n",
    "sbn.distplot(img, kde=True, hist=False,\n",
    "             kde_kws={\"bw\":np.abs(val[1:]-val[:-1]).min(), \"shade\":True},\n",
    "             norm_hist=False, label=str(ii))\n",
    "plt.figure(2)\n",
    "sbn.distplot(img, kde=False, hist=True,\n",
    "             kde_kws={\"bw\":np.abs(val[1:]-val[:-1]).min(), \"shade\":True},\n",
    "             norm_hist=False, label=str(ii))\n",
    "plt.figure(3)\n",
    "sbn.distplot(img, kde=True, hist=True,\n",
    "             kde_kws={\"bw\":np.abs(val[1:]-val[:-1]).min(), \"shade\":True},\n",
    "             norm_hist=False, label=str(ii))\n",
    "\"\"\""
   ]
  },
  {
   "cell_type": "code",
   "execution_count": null,
   "metadata": {},
   "outputs": [],
   "source": [
    "dir(kde1)"
   ]
  },
  {
   "cell_type": "code",
   "execution_count": null,
   "metadata": {},
   "outputs": [],
   "source": [
    "print(pdf1.sum()*(val.max()-val.min()+0.002)/2000)\n",
    "print((np.abs(val[1:]-val[:-1]).min()/1.5))\n",
    "kde1.get_params()"
   ]
  },
  {
   "cell_type": "code",
   "execution_count": null,
   "metadata": {},
   "outputs": [],
   "source": [
    "idx = [55374, 55376, 55380, 55385, 55400, 55406]\n",
    "#ii = 55406\n",
    "for ii in idx:\n",
    "    fn = f'/NSLS2/xf18id1/users/2020Q1/ENYUAN_Proposal_305836/masked_spec_{ii}.tif'\n",
    "    img = tifffile.imread(fn)\n",
    "    img = img[(img!=img.min())&(img!=img.max())].flatten()\n",
    "    val = np.unique(img)\n",
    "    print(np.abs(val[1:]-val[:-1]).min())\n",
    "    print(img.shape)\n",
    "    print(val.shape)\n",
    "\n",
    "    grid = GridSearchCV(KernelDensity(atol=1e-5, rtol=1e-5, kernel=\"gaussian\"),\n",
    "                        {'bandwidth': np.linspace(1e-6, 1e-4, 50)},\n",
    "                        cv=5, n_jobs=36) # 20-fold cross-validation\n",
    "    grid.fit(img[:, None])\n",
    "    print(grid.best_params_)\n",
    "    \n",
    "    plt.figure(1)\n",
    "    sbn.distplot(img, kde=True, hist=False,\n",
    "                 kde_kws={\"bw\":np.abs(val[1:]-val[:-1]).min(), \"shade\":True},\n",
    "                 norm_hist=False, label=str(ii))\n",
    "    plt.figure(2)\n",
    "    sbn.distplot(img, kde=False, hist=True,\n",
    "                 kde_kws={\"bw\":np.abs(val[1:]-val[:-1]).min(), \"shade\":True},\n",
    "                 norm_hist=False, label=str(ii))\n",
    "    plt.figure(3)\n",
    "    sbn.distplot(img, kde=True, hist=True,\n",
    "                 kde_kws={\"bw\":np.abs(val[1:]-val[:-1]).min(), \"shade\":True},\n",
    "                 norm_hist=False, label=str(ii))\n",
    "\n",
    "#sbn.distplot(img, kde=True, \n",
    "#             kde_kws={\"bw\":10*grid.best_params_['bandwidth']},\n",
    "#            norm_hist=False)\n",
    "\n",
    "\"\"\"\n",
    "\n",
    "xmin = (img[(img!=0)&(img!=8.358)].flatten().min()+0.003)*1e5\n",
    "xmax = (img[(img!=0)&(img!=8.358)].flatten().max()-0.003)*1e5\n",
    "x_grid = np.linspace(xmin, xmax, 10*int(np.ceil(npnt/grid.best_params_['bandwidth'])))\n",
    "\n",
    "kde = grid.best_estimator_\n",
    "pdf = np.exp(kde.score_samples(x_grid[:, None]))\n",
    "\n",
    "npnt = np.unique((img[(img!=0)&(img!=8.358)].flatten()*1e5)).shape[0]\n",
    "xmin = (img[(img!=0)&(img!=8.358)].flatten().min()+0.003)*1e5\n",
    "xmax = (img[(img!=0)&(img!=8.358)].flatten().max()-0.003)*1e5\n",
    "x_grid = np.linspace(xmin, xmax, 10*int(np.ceil(npnt/grid.best_params_['bandwidth'])))\n",
    "#x_grid = np.linspace(xmin, xmax, npnt)\n",
    "kde = grid.best_estimator_\n",
    "pdf = np.exp(kde.score_samples(x_grid[:, None]))\n",
    "#pdf1 = kde.score_samples(x_grid[:, None])\n",
    "\n",
    "fig, ax = plt.subplots()\n",
    "ax.plot(x_grid, pdf, linewidth=3, alpha=0.5, label='bw=%.6f' % kde.bandwidth)\n",
    "ax.hist(img[(img!=0)&(img!=8.358)].flatten()*1e5, 67, fc='red', histtype='stepfilled', alpha=0.5, density=True)\n",
    "ax.legend(loc='upper left')\n",
    "ax.set_xlim(xmin, xmax);\n",
    "for cnt, ele in enumerate(zip(pdf1, pdf)):\n",
    "    print(cnt, ele)\n",
    "    \n",
    "\"\"\""
   ]
  },
  {
   "cell_type": "code",
   "execution_count": null,
   "metadata": {},
   "outputs": [],
   "source": []
  },
  {
   "cell_type": "code",
   "execution_count": null,
   "metadata": {},
   "outputs": [],
   "source": []
  },
  {
   "cell_type": "code",
   "execution_count": null,
   "metadata": {},
   "outputs": [],
   "source": [
    "\n",
    "grid = GridSearchCV(KernelDensity(atol=1e-5, rtol=1e-5),\n",
    "                    {'bandwidth': np.linspace(1e-1, 1e0, 11)},\n",
    "                    cv=20, n_jobs=36) # 20-fold cross-validation\n",
    "\n",
    "ii = 55374\n",
    "fn = f'/NSLS2/xf18id1/users/2020Q1/ENYUAN_Proposal_305836/masked_spec_{ii}.tif'\n",
    "img = tifffile.imread(fn)\n",
    "#img[(img!=0)&(img!=8.358)]\n",
    "\n",
    "grid.fit((img[(img!=0)&(img!=8.358)].flatten()*1e5)[:, None])\n",
    "print(grid.best_params_)\n",
    "print((img[(img!=0)&(img!=8.358)].flatten()*1e5).unique().shape)\n",
    "\n",
    "\n",
    "\"\"\"\n",
    "grid = GridSearchCV(KernelDensity(rtol=1e-5),\n",
    "                    {'bandwidth': np.linspace(1e-1, 1e-0, 11)},\n",
    "                    cv=20, n_jobs=36) # 20-fold cross-validation\n",
    "idx = [55374, 55376, 55380, 55385, 55400, 55406]\n",
    "\n",
    "for ii in idx:\n",
    "    fn = f'/NSLS2/xf18id1/users/2020Q1/ENYUAN_Proposal_305836/masked_spec_{ii}.tif'\n",
    "    img = tifffile.imread(fn)\n",
    "    #img[(img!=0)&(img!=8.358)]\n",
    "    \n",
    "    grid.fit((img[(img!=0)&(img!=8.358)].flatten()*1e5)[:, None])\n",
    "    print(grid.best_params_)\n",
    "\n",
    "    #plt.figure(ii)\n",
    "    #sbn.kdeplot(img[(img!=0)&(img!=8.358)], shade=True, bw=10e-5)\n",
    "    \n",
    "    #sbn.distplot(img[(img!=0)&(img!=8.358)], kde=True, norm_hist=True, fit=stats.laplace)\n",
    "    #a, b = stats.laplace.fit(img[(img!=0)&(img!=8.358)])\n",
    "    #print(a, b)\n",
    "    #plt.plot(np.linspace(8.343, 8.358, 151, endpoint=True), \n",
    "    #         stats.laplace.pdf(np.linspace(8.343, 8.358, 151, endpoint=True), a, b))\n",
    "\"\"\"\n"
   ]
  },
  {
   "cell_type": "code",
   "execution_count": null,
   "metadata": {},
   "outputs": [],
   "source": [
    "print(np.unique((img[(img!=0)&(img!=8.358)].flatten()*1e5)).shape)"
   ]
  },
  {
   "cell_type": "code",
   "execution_count": null,
   "metadata": {},
   "outputs": [],
   "source": [
    "npnt = np.unique((img[(img!=0)&(img!=8.358)].flatten()*1e5)).shape[0]\n",
    "xmin = (img[(img!=0)&(img!=8.358)].flatten().min()+0.003)*1e5\n",
    "xmax = (img[(img!=0)&(img!=8.358)].flatten().max()-0.003)*1e5\n",
    "x_grid = np.linspace(xmin, xmax, 10*int(np.ceil(npnt/grid.best_params_['bandwidth'])))\n",
    "#x_grid = np.linspace(xmin, xmax, npnt)\n",
    "kde = grid.best_estimator_\n",
    "pdf = np.exp(kde.score_samples(x_grid[:, None]))\n",
    "#pdf1 = kde.score_samples(x_grid[:, None])\n",
    "\n",
    "fig, ax = plt.subplots()\n",
    "ax.plot(x_grid, pdf, linewidth=3, alpha=0.5, label='bw=%.6f' % kde.bandwidth)\n",
    "ax.hist(img[(img!=0)&(img!=8.358)].flatten()*1e5, 67, fc='red', histtype='stepfilled', alpha=0.5, density=True)\n",
    "ax.legend(loc='upper left')\n",
    "ax.set_xlim(xmin, xmax);\n",
    "for cnt, ele in enumerate(zip(pdf1, pdf)):\n",
    "    print(cnt, ele)"
   ]
  },
  {
   "cell_type": "code",
   "execution_count": null,
   "metadata": {},
   "outputs": [],
   "source": [
    "#help(sbn.kdeplot)\n",
    "#dir(sklearn)\n",
    "#help(kde.get_params)\n",
    "#help(grid.fit)\n",
    "\n",
    "#help(kde.score_samples)\n",
    "\n",
    "print(kde.get_params())"
   ]
  },
  {
   "cell_type": "code",
   "execution_count": null,
   "metadata": {},
   "outputs": [],
   "source": [
    "from scipy.stats.distributions import norm\n",
    "#x_grid1 = np.linspace(-4.5, 3.5, 20000)\n",
    "xmin = -20\n",
    "xmax = 20\n",
    "x_grid1 = np.linspace(xmin, xmax, 200)\n",
    "\n",
    "# Draw points from a bimodal distribution in 1D\n",
    "np.random.seed(0)\n",
    "x = np.concatenate([norm(-1, 1.).rvs(40),\n",
    "                    norm(1, 0.3).rvs(500)])\n",
    "pdf_true = (0.8 * norm(-1, 1).pdf(x_grid1) +\n",
    "            0.2 * norm(1, 0.3).pdf(x_grid1))\n",
    "\n",
    "grid1 = GridSearchCV(KernelDensity(),\n",
    "                    {'bandwidth': np.linspace(0.1, 1.0, 30)},\n",
    "                    cv=20, n_jobs=36) # 20-fold cross-validation\n",
    "grid1.fit(x[:, None])\n",
    "print(grid1.best_params_)\n",
    "\n",
    "kde1 = grid1.best_estimator_\n",
    "pdf1 = np.exp(kde1.score_samples(x_grid1[:, None]))\n",
    "\n",
    "fig, ax = plt.subplots()\n",
    "ax.plot(x_grid1, pdf1, linewidth=3, alpha=0.5, label='bw=%.2f' % kde1.bandwidth)\n",
    "ax.hist(x, 30, fc='gray', histtype='stepfilled', alpha=0.3, density=True)\n",
    "ax.legend(loc='upper left')\n",
    "#ax.set_xlim(-4.5, 3.5);\n",
    "ax.set_xlim(xmin, xmax);"
   ]
  },
  {
   "cell_type": "code",
   "execution_count": null,
   "metadata": {},
   "outputs": [],
   "source": [
    "pdf1 = np.exp(kde1.score_samples(x_grid1[:, None]))\n",
    "print(pdf1.sum()*(xmax-xmin)/200.)"
   ]
  },
  {
   "cell_type": "code",
   "execution_count": null,
   "metadata": {},
   "outputs": [],
   "source": []
  }
 ],
 "metadata": {
  "kernelspec": {
   "display_name": "Python 3",
   "language": "python",
   "name": "python3"
  },
  "language_info": {
   "codemirror_mode": {
    "name": "ipython",
    "version": 3
   },
   "file_extension": ".py",
   "mimetype": "text/x-python",
   "name": "python",
   "nbconvert_exporter": "python",
   "pygments_lexer": "ipython3",
   "version": "3.7.4"
  }
 },
 "nbformat": 4,
 "nbformat_minor": 4
}
