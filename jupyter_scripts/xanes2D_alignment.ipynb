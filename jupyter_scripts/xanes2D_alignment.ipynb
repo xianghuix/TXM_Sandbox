{
 "cells": [
  {
   "cell_type": "markdown",
   "metadata": {},
   "source": [
    "Section 1: import xanes_regtools and other necessary packages"
   ]
  },
  {
   "cell_type": "code",
   "execution_count": 1,
   "metadata": {},
   "outputs": [
    {
     "name": "stdout",
     "output_type": "stream",
     "text": [
      "\u001b[04m\u001b[01m\u001b[34m     Section 1 finished     \n"
     ]
    }
   ],
   "source": [
    "#%matplotlib inline\n",
    "#import mpld3\n",
    "#mpld3.enable_notebook()\n",
    "%matplotlib ipympl\n",
    "#%matplotlib notebook\n",
    "#import scipy.ndimage as sn\n",
    "from scipy.ndimage import gaussian_filter\n",
    "import xanes_regtools_develop as xr\n",
    "import xanes_image_utils as xiu\n",
    "import matplotlib.pyplot as plt\n",
    "import os\n",
    "import h5py\n",
    "import numpy as np\n",
    "import skimage.morphology as skm\n",
    "import scipy.ndimage as spn\n",
    "import SimpleITK as sitk\n",
    "from copy import deepcopy\n",
    "from pathlib import Path\n",
    "from importlib import reload\n",
    "xr = reload(xr)\n",
    "xiu = reload(xiu)\n",
    "plt.rcParams['figure.figsize'] = [14, 8]\n",
    "\n",
    "try:\n",
    "    import imagej\n",
    "    ij = imagej.init('/home/xiao/software/Fiji.app', headless=False)\n",
    "    ijui = ij.ui()\n",
    "    ijui.showUI()\n",
    "except:\n",
    "    print('Fiji is launched already!')\n",
    "ij.py.run_macro(\"\"\"run(\"Brightness/Contrast...\");\"\"\")\n",
    "\n",
    "#import imagej\n",
    "#ij = imagej.init('/home/xiao/software/Fiji.app', headless=False)\n",
    "#ijui = ij.ui()\n",
    "#ijui.showUI()\n",
    "\n",
    "from jnius import autoclass\n",
    "WindowManager = autoclass('ij.WindowManager')\n",
    "\n",
    "def fiji_close_all():\n",
    "    imp = WindowManager.getCurrentImage()\n",
    "    while imp is not None:\n",
    "        imp.close()\n",
    "        imp = WindowManager.getCurrentImage()\n",
    "fiji_close_all()        \n",
    "print('\\033[04m\\033[01m\\033[34m     Section 1 finished     ')   "
   ]
  },
  {
   "cell_type": "markdown",
   "metadata": {},
   "source": [
    "Section 2: user inputs"
   ]
  },
  {
   "cell_type": "code",
   "execution_count": 2,
   "metadata": {},
   "outputs": [
    {
     "name": "stdout",
     "output_type": "stream",
     "text": [
      "\u001b[04m\u001b[01m\u001b[34m     Section 2 finished     \n"
     ]
    }
   ],
   "source": [
    "#fn_template = '/media/Disk2/data/AIJUN_LI_Proposal_304474_June28_2019/multipos_2D_xanes_scan2_id_{0}_repeat_00_pos_{1}.h5'\n",
    "fn_template = '/NSLS2/xf18id1/users/2020Q1/MATEUSZ_Proposal_305729/xanes_scan2_id_{}.h5'\n",
    "scan_id = 53210   #21214, 21221\n",
    "pos = 0\n",
    "\n",
    "# if the data is a part of multipos scan\n",
    "multipos = False\n",
    "# these are [y_start, y_width, x_start, x_width]\n",
    "roi = [470, 500, 700, 730]\n",
    "# alignment section by section; sometime, you may see an abrupt misalignment between two chunks. You may try \n",
    "# different chunk_sz to correct such misalignment.\n",
    "chunk_sz = 10\n",
    "# if xanes images are already normalized\n",
    "is_raw = False\n",
    "\n",
    "# if use an alternative flat dataset\n",
    "use_alternative_flat = False\n",
    "# file name to the alternative flat dataset\n",
    "flat_name = '/NSLS2/xf18id1/users/2019Q3/XU_ZHENGRUI_Proposal_305094/multipos_2D_xanes_scan2_id_26320_repeat_00_pos_00.h5'\n",
    "\n",
    "# if smooth flat\n",
    "use_flat_smooth = False\n",
    "# if is_raw is True, set sigma for blurring\n",
    "smooth_flat_sigma = 10\n",
    "\n",
    "flat_scale = 1.\n",
    "norm_scale = 0.5\n",
    "\n",
    "# smooth normalized xanes images\n",
    "use_smooth = False\n",
    "# if use_smooth is True, set sigma for blurring\n",
    "smooth_xanes_sigma = 10\n",
    "\n",
    "# if using a mask in alignment calculation\n",
    "use_mask = True\n",
    "\n",
    "# use pre-aligned dataset\n",
    "use_refine = False\n",
    "\n",
    "# use which image to make a mask\n",
    "mask_id = 50\n",
    "# threshold in making a mask\n",
    "mask_thres = 0.35\n",
    "# use_anchor: if mask_id will be used as an anchor for entire serires alignment\n",
    "use_anchor = True\n",
    "# alignment methods: 'sr', 'pc', and 'mpc'; for 'mpc', you have to specify a mask\n",
    "reg_method = 'mpc' \n",
    "# if you just want to align a subset of the data, set img_s and img_e\n",
    "img_s = 0\n",
    "img_e = 101\n",
    "# ref_mode can be 'single', 'average', or 'neighbor'\n",
    "ref_mode = 'neighbor'\n",
    "# overlap_ratio is a parameter controlling 'mpc' method behavior\n",
    "overlap_ratio = 0.3\n",
    "\n",
    "print('\\033[04m\\033[01m\\033[34m     Section 2 finished     ')   "
   ]
  },
  {
   "cell_type": "markdown",
   "metadata": {},
   "source": [
    "Section 3: read raw data"
   ]
  },
  {
   "cell_type": "code",
   "execution_count": 3,
   "metadata": {},
   "outputs": [
    {
     "name": "stdout",
     "output_type": "stream",
     "text": [
      "is not raw\n",
      "\u001b[04m\u001b[01m\u001b[34m     Section 3 finished     \n"
     ]
    },
    {
     "name": "stderr",
     "output_type": "stream",
     "text": [
      "/home/xiao/software/anaconda3/envs/py36/lib/python3.6/site-packages/ipykernel_launcher.py:37: RuntimeWarning: invalid value encountered in log\n"
     ]
    }
   ],
   "source": [
    "roi = [roi[0], roi[0]+roi[1], roi[2], roi[2]+roi[3]]\n",
    "if multipos:\n",
    "    fn = Path(fn_template.format(scan_id, str(pos).zfill(2)))\n",
    "else:\n",
    "    fn = Path(fn_template.format(scan_id))\n",
    "\n",
    "f = h5py.File(fn, 'r')\n",
    "if use_refine:\n",
    "    print('use refine')\n",
    "    imgs = f['/registration/registered_image'][img_s:img_e]\n",
    "    eng = f['/raw_data_info/X_eng'][img_s:img_e]\n",
    "elif is_raw:\n",
    "    print('is raw')\n",
    "    imgs = f['/img_xanes'][img_s:img_e, roi[0]:roi[1], roi[2]:roi[3]]\n",
    "    if use_alternative_flat:\n",
    "        f1 = h5py.File(flat_name, 'r')\n",
    "        flat = f1['/img_bkg'][img_s:img_e, roi[0]:roi[1], roi[2]:roi[3]]*flat_scale\n",
    "        \n",
    "    else:\n",
    "        flat = f['/img_bkg'][img_s:img_e, roi[0]:roi[1], roi[2]:roi[3]]*flat_scale\n",
    "    dark = f['/img_dark'][:, roi[0]:roi[1], roi[2]:roi[3]]\n",
    "    eng = f['/X_eng'][img_s:img_e]\n",
    "else:   \n",
    "    print('is not raw')\n",
    "    imgs = f['/img_xanes'][img_s:img_e, roi[0]:roi[1], roi[2]:roi[3]]\n",
    "    eng = f['/X_eng'][img_s:img_e]\n",
    "f.close()\n",
    "\n",
    "if (not use_refine) and (is_raw):\n",
    "    if use_flat_smooth:\n",
    "        xiu.smooth_flat(flat, smooth_flat_sigma)\n",
    "        xiu.normalize_raw(imgs, flat, dark)\n",
    "else:\n",
    "    imgs *= norm_scale\n",
    "\n",
    "if not use_refine:\n",
    "    imgs[:] = -np.log(imgs)[:]\n",
    "imgs[np.isinf(imgs)] = 0\n",
    "imgs[np.isnan(imgs)] = 0\n",
    "\n",
    "if use_smooth:    \n",
    "    original_imgs = deepcopy(imgs)\n",
    "#    if not use_refine:\n",
    "#        original_imgs[:] = -np.log(original_imgs)[:]\n",
    "#        original_imgs[np.isinf(original_imgs)] = 0\n",
    "#        original_imgs[np.isnan(original_imgs)] = 0\n",
    "    imgs[:] = gaussian_filter(imgs, smooth_xanes_sigma)[:]\n",
    "    \n",
    "print('\\033[04m\\033[01m\\033[34m     Section 3 finished     ')         "
   ]
  },
  {
   "cell_type": "markdown",
   "metadata": {},
   "source": [
    "Section : make mask"
   ]
  },
  {
   "cell_type": "code",
   "execution_count": 4,
   "metadata": {},
   "outputs": [
    {
     "name": "stdout",
     "output_type": "stream",
     "text": [
      "\u001b[04m\u001b[01m\u001b[34m     Section 4 finished     \n"
     ]
    }
   ],
   "source": [
    "try:\n",
    "    for ip in imgp:\n",
    "        ip.close()\n",
    "    imgp = []\n",
    "except:\n",
    "    imgp = []\n",
    "\n",
    "if use_mask is True:\n",
    "    mask = np.ndarray([imgs.shape[1], imgs.shape[2]])\n",
    "    mask[:] = skm.binary_dilation(spn.gaussian_filter(imgs[50],10) > mask_thres, np.ones([10,10]))\n",
    "    mask = np.tile(mask, [img_e - img_s, 1, 1])\n",
    "\n",
    "    ijui.show(ij.py.to_java(imgs[int(imgs.shape[0]/2)]))\n",
    "    imp1 = WindowManager.getCurrentImage()\n",
    "    imp1.setTitle('imgs')\n",
    "    imgp.append(imp1)\n",
    "    \n",
    "    ijui.show(ij.py.to_java(imgs[int(imgs.shape[0]/2)]*mask[0]))\n",
    "    imp1 = WindowManager.getCurrentImage()\n",
    "    imp1.setTitle('imgs*mask')\n",
    "    imgp.append(imp1)\n",
    "else:\n",
    "    mask = np.ones([img_e-img_s, imgs.shape[1], imgs.shape[2]])\n",
    "    \n",
    "print('\\033[04m\\033[01m\\033[34m     Section 4 finished     ')   "
   ]
  },
  {
   "cell_type": "markdown",
   "metadata": {},
   "source": [
    "Section 5: registration"
   ]
  },
  {
   "cell_type": "code",
   "execution_count": 5,
   "metadata": {
    "collapsed": true,
    "jupyter": {
     "outputs_hidden": true
    }
   },
   "outputs": [
    {
     "name": "stdout",
     "output_type": "stream",
     "text": [
      "The registration results will be saved in /NSLS2/xf18id1/users/2020Q1/MATEUSZ_Proposal_305729/aligned_xanes_scan2_id_53210.h5\n"
     ]
    },
    {
     "ename": "TypeError",
     "evalue": "One of data, shape or dtype must be specified",
     "output_type": "error",
     "traceback": [
      "\u001b[0;31m---------------------------------------------------------------------------\u001b[0m",
      "\u001b[0;31mTypeError\u001b[0m                                 Traceback (most recent call last)",
      "\u001b[0;32m<ipython-input-5-b9bee720b7d3>\u001b[0m in \u001b[0;36m<module>\u001b[0;34m\u001b[0m\n\u001b[1;32m      6\u001b[0m \u001b[0mreg\u001b[0m\u001b[0;34m.\u001b[0m\u001b[0mset_moving_data\u001b[0m\u001b[0;34m(\u001b[0m\u001b[0mimgs\u001b[0m\u001b[0;34m)\u001b[0m\u001b[0;34m\u001b[0m\u001b[0;34m\u001b[0m\u001b[0m\n\u001b[1;32m      7\u001b[0m \u001b[0mreg\u001b[0m\u001b[0;34m.\u001b[0m\u001b[0mset_raw_data_info\u001b[0m\u001b[0;34m(\u001b[0m\u001b[0;34m**\u001b[0m\u001b[0;34m{\u001b[0m\u001b[0;34m'X_eng'\u001b[0m\u001b[0;34m:\u001b[0m \u001b[0meng\u001b[0m\u001b[0;34m[\u001b[0m\u001b[0mimg_s\u001b[0m\u001b[0;34m:\u001b[0m\u001b[0mimg_e\u001b[0m\u001b[0;34m]\u001b[0m\u001b[0;34m,\u001b[0m \u001b[0;34m'roi'\u001b[0m\u001b[0;34m:\u001b[0m \u001b[0mroi\u001b[0m\u001b[0;34m,\u001b[0m \u001b[0;34m'mask'\u001b[0m\u001b[0;34m:\u001b[0m \u001b[0mmask\u001b[0m\u001b[0;34m}\u001b[0m\u001b[0;34m)\u001b[0m\u001b[0;34m\u001b[0m\u001b[0;34m\u001b[0m\u001b[0m\n\u001b[0;32m----> 8\u001b[0;31m \u001b[0mreg\u001b[0m\u001b[0;34m.\u001b[0m\u001b[0mreg_xanes2D_chunk\u001b[0m\u001b[0;34m(\u001b[0m\u001b[0moverlap_ratio\u001b[0m\u001b[0;34m=\u001b[0m\u001b[0moverlap_ratio\u001b[0m\u001b[0;34m,\u001b[0m \u001b[0mmethod\u001b[0m\u001b[0;34m=\u001b[0m\u001b[0mreg_method\u001b[0m\u001b[0;34m,\u001b[0m \u001b[0mref_mode\u001b[0m\u001b[0;34m=\u001b[0m\u001b[0mref_mode\u001b[0m\u001b[0;34m,\u001b[0m \u001b[0msave\u001b[0m\u001b[0;34m=\u001b[0m\u001b[0;32mTrue\u001b[0m\u001b[0;34m)\u001b[0m\u001b[0;34m\u001b[0m\u001b[0;34m\u001b[0m\u001b[0m\n\u001b[0m\u001b[1;32m      9\u001b[0m \u001b[0;32mif\u001b[0m \u001b[0muse_smooth\u001b[0m\u001b[0;34m:\u001b[0m\u001b[0;34m\u001b[0m\u001b[0;34m\u001b[0m\u001b[0m\n\u001b[1;32m     10\u001b[0m     \u001b[0mreg\u001b[0m\u001b[0;34m.\u001b[0m\u001b[0mtranslate_2D_stack\u001b[0m\u001b[0;34m(\u001b[0m\u001b[0moriginal_imgs\u001b[0m\u001b[0;34m)\u001b[0m\u001b[0;34m\u001b[0m\u001b[0;34m\u001b[0m\u001b[0m\n",
      "\u001b[0;32m~/software/anaconda3/user_packages/xanes_regtools_develop.py\u001b[0m in \u001b[0;36mreg_xanes2D_chunk\u001b[0;34m(self, overlap_ratio, method, ref_mode, save)\u001b[0m\n\u001b[1;32m    611\u001b[0m         \u001b[0mself\u001b[0m\u001b[0;34m.\u001b[0m\u001b[0mref_mode\u001b[0m \u001b[0;34m=\u001b[0m \u001b[0mref_mode\u001b[0m\u001b[0;34m\u001b[0m\u001b[0;34m\u001b[0m\u001b[0m\n\u001b[1;32m    612\u001b[0m         \u001b[0mself\u001b[0m\u001b[0;34m.\u001b[0m\u001b[0moverlap_ratio\u001b[0m \u001b[0;34m=\u001b[0m \u001b[0;36m0.3\u001b[0m\u001b[0;34m\u001b[0m\u001b[0;34m\u001b[0m\u001b[0m\n\u001b[0;32m--> 613\u001b[0;31m         \u001b[0mself\u001b[0m\u001b[0;34m.\u001b[0m\u001b[0m_reg_xanes2D_chunk\u001b[0m\u001b[0;34m(\u001b[0m\u001b[0;34m)\u001b[0m\u001b[0;34m\u001b[0m\u001b[0;34m\u001b[0m\u001b[0m\n\u001b[0m\u001b[1;32m    614\u001b[0m         \u001b[0;32mif\u001b[0m \u001b[0msave\u001b[0m \u001b[0;32mis\u001b[0m \u001b[0;32mTrue\u001b[0m\u001b[0;34m:\u001b[0m\u001b[0;34m\u001b[0m\u001b[0;34m\u001b[0m\u001b[0m\n\u001b[1;32m    615\u001b[0m             \u001b[0mself\u001b[0m\u001b[0;34m.\u001b[0m\u001b[0msave_reg_result\u001b[0m\u001b[0;34m(\u001b[0m\u001b[0mdtype\u001b[0m\u001b[0;34m=\u001b[0m\u001b[0;34m'2D_XANES'\u001b[0m\u001b[0;34m)\u001b[0m\u001b[0;34m\u001b[0m\u001b[0;34m\u001b[0m\u001b[0m\n",
      "\u001b[0;32m~/software/anaconda3/user_packages/xanes_regtools_develop.py\u001b[0m in \u001b[0;36m_reg_xanes2D_chunk\u001b[0;34m(self)\u001b[0m\n\u001b[1;32m    501\u001b[0m         \u001b[0mg2\u001b[0m\u001b[0;34m.\u001b[0m\u001b[0mcreate_dataset\u001b[0m\u001b[0;34m(\u001b[0m\u001b[0;34m'scan_ids'\u001b[0m\u001b[0;34m,\u001b[0m \u001b[0mdata\u001b[0m\u001b[0;34m=\u001b[0m\u001b[0mself\u001b[0m\u001b[0;34m.\u001b[0m\u001b[0mimg_id\u001b[0m\u001b[0;34m)\u001b[0m\u001b[0;34m\u001b[0m\u001b[0;34m\u001b[0m\u001b[0m\n\u001b[1;32m    502\u001b[0m         \u001b[0mg2\u001b[0m\u001b[0;34m.\u001b[0m\u001b[0mcreate_dataset\u001b[0m\u001b[0;34m(\u001b[0m\u001b[0;34m'fixed_scan_id'\u001b[0m\u001b[0;34m,\u001b[0m \u001b[0mdata\u001b[0m\u001b[0;34m=\u001b[0m\u001b[0mself\u001b[0m\u001b[0;34m.\u001b[0m\u001b[0manchor_id\u001b[0m\u001b[0;34m)\u001b[0m\u001b[0;34m\u001b[0m\u001b[0;34m\u001b[0m\u001b[0m\n\u001b[0;32m--> 503\u001b[0;31m         \u001b[0mg2\u001b[0m\u001b[0;34m.\u001b[0m\u001b[0mcreate_dataset\u001b[0m\u001b[0;34m(\u001b[0m\u001b[0;34m'slice_roi'\u001b[0m\u001b[0;34m,\u001b[0m \u001b[0mdata\u001b[0m\u001b[0;34m=\u001b[0m\u001b[0mself\u001b[0m\u001b[0;34m.\u001b[0m\u001b[0mroi\u001b[0m\u001b[0;34m)\u001b[0m\u001b[0;34m\u001b[0m\u001b[0;34m\u001b[0m\u001b[0m\n\u001b[0m\u001b[1;32m    504\u001b[0m         \u001b[0mg2\u001b[0m\u001b[0;34m.\u001b[0m\u001b[0mcreate_dataset\u001b[0m\u001b[0;34m(\u001b[0m\u001b[0;34m'eng_list'\u001b[0m\u001b[0;34m,\u001b[0m \u001b[0mdata\u001b[0m\u001b[0;34m=\u001b[0m\u001b[0mself\u001b[0m\u001b[0;34m.\u001b[0m\u001b[0meng_list\u001b[0m\u001b[0;34m)\u001b[0m\u001b[0;34m\u001b[0m\u001b[0;34m\u001b[0m\u001b[0m\n\u001b[1;32m    505\u001b[0m         \u001b[0mg2\u001b[0m\u001b[0;34m.\u001b[0m\u001b[0mcreate_dataset\u001b[0m\u001b[0;34m(\u001b[0m\u001b[0;34m'chunk_sz'\u001b[0m\u001b[0;34m,\u001b[0m \u001b[0mdata\u001b[0m\u001b[0;34m=\u001b[0m\u001b[0mself\u001b[0m\u001b[0;34m.\u001b[0m\u001b[0mchunk_sz\u001b[0m\u001b[0;34m)\u001b[0m\u001b[0;34m\u001b[0m\u001b[0;34m\u001b[0m\u001b[0m\n",
      "\u001b[0;32m~/software/anaconda3/envs/py36/lib/python3.6/site-packages/h5py/_hl/group.py\u001b[0m in \u001b[0;36mcreate_dataset\u001b[0;34m(self, name, shape, dtype, data, **kwds)\u001b[0m\n\u001b[1;32m    134\u001b[0m \u001b[0;34m\u001b[0m\u001b[0m\n\u001b[1;32m    135\u001b[0m         \u001b[0;32mwith\u001b[0m \u001b[0mphil\u001b[0m\u001b[0;34m:\u001b[0m\u001b[0;34m\u001b[0m\u001b[0;34m\u001b[0m\u001b[0m\n\u001b[0;32m--> 136\u001b[0;31m             \u001b[0mdsid\u001b[0m \u001b[0;34m=\u001b[0m \u001b[0mdataset\u001b[0m\u001b[0;34m.\u001b[0m\u001b[0mmake_new_dset\u001b[0m\u001b[0;34m(\u001b[0m\u001b[0mself\u001b[0m\u001b[0;34m,\u001b[0m \u001b[0mshape\u001b[0m\u001b[0;34m,\u001b[0m \u001b[0mdtype\u001b[0m\u001b[0;34m,\u001b[0m \u001b[0mdata\u001b[0m\u001b[0;34m,\u001b[0m \u001b[0;34m**\u001b[0m\u001b[0mkwds\u001b[0m\u001b[0;34m)\u001b[0m\u001b[0;34m\u001b[0m\u001b[0;34m\u001b[0m\u001b[0m\n\u001b[0m\u001b[1;32m    137\u001b[0m             \u001b[0mdset\u001b[0m \u001b[0;34m=\u001b[0m \u001b[0mdataset\u001b[0m\u001b[0;34m.\u001b[0m\u001b[0mDataset\u001b[0m\u001b[0;34m(\u001b[0m\u001b[0mdsid\u001b[0m\u001b[0;34m)\u001b[0m\u001b[0;34m\u001b[0m\u001b[0;34m\u001b[0m\u001b[0m\n\u001b[1;32m    138\u001b[0m             \u001b[0;32mif\u001b[0m \u001b[0mname\u001b[0m \u001b[0;32mis\u001b[0m \u001b[0;32mnot\u001b[0m \u001b[0;32mNone\u001b[0m\u001b[0;34m:\u001b[0m\u001b[0;34m\u001b[0m\u001b[0;34m\u001b[0m\u001b[0m\n",
      "\u001b[0;32m~/software/anaconda3/envs/py36/lib/python3.6/site-packages/h5py/_hl/dataset.py\u001b[0m in \u001b[0;36mmake_new_dset\u001b[0;34m(parent, shape, dtype, data, chunks, compression, shuffle, fletcher32, maxshape, compression_opts, fillvalue, scaleoffset, track_times, external, track_order, dcpl)\u001b[0m\n\u001b[1;32m     87\u001b[0m         \u001b[0;32mif\u001b[0m \u001b[0mdata\u001b[0m \u001b[0;32mis\u001b[0m \u001b[0;32mNone\u001b[0m\u001b[0;34m:\u001b[0m\u001b[0;34m\u001b[0m\u001b[0;34m\u001b[0m\u001b[0m\n\u001b[1;32m     88\u001b[0m             \u001b[0;32mif\u001b[0m \u001b[0mdtype\u001b[0m \u001b[0;32mis\u001b[0m \u001b[0;32mNone\u001b[0m\u001b[0;34m:\u001b[0m\u001b[0;34m\u001b[0m\u001b[0;34m\u001b[0m\u001b[0m\n\u001b[0;32m---> 89\u001b[0;31m                 \u001b[0;32mraise\u001b[0m \u001b[0mTypeError\u001b[0m\u001b[0;34m(\u001b[0m\u001b[0;34m\"One of data, shape or dtype must be specified\"\u001b[0m\u001b[0;34m)\u001b[0m\u001b[0;34m\u001b[0m\u001b[0;34m\u001b[0m\u001b[0m\n\u001b[0m\u001b[1;32m     90\u001b[0m             \u001b[0mdata\u001b[0m \u001b[0;34m=\u001b[0m \u001b[0mEmpty\u001b[0m\u001b[0;34m(\u001b[0m\u001b[0mdtype\u001b[0m\u001b[0;34m)\u001b[0m\u001b[0;34m\u001b[0m\u001b[0;34m\u001b[0m\u001b[0m\n\u001b[1;32m     91\u001b[0m         \u001b[0mshape\u001b[0m \u001b[0;34m=\u001b[0m \u001b[0mdata\u001b[0m\u001b[0;34m.\u001b[0m\u001b[0mshape\u001b[0m\u001b[0;34m\u001b[0m\u001b[0;34m\u001b[0m\u001b[0m\n",
      "\u001b[0;31mTypeError\u001b[0m: One of data, shape or dtype must be specified"
     ]
    }
   ],
   "source": [
    "reg = xr.regtools(method=reg_method, mode='TRANSLATION')\n",
    "reg.set_mask(mask) \n",
    "if use_anchor:\n",
    "    reg.cal_set_anchor(img_s, img_e, mask_id)\n",
    "reg.set_saving(save_path=fn.parents[0], fn='aligned_' + fn.name)\n",
    "reg.set_moving_data(imgs)\n",
    "reg.set_raw_data_info(**{'X_eng': eng[img_s:img_e], 'roi': roi, 'mask': mask})\n",
    "reg.reg_xanes2D_chunk(overlap_ratio=overlap_ratio, method=reg_method, ref_mode=ref_mode, save=True) \n",
    "if use_smooth:\n",
    "    reg.translate_2D_stack(original_imgs)\n",
    "    #reg.set_moving_data(original_imgs)\n",
    "    reg.save_reg_result(dtype='2D_XANES', data=original_imgs)\n",
    "reg.fit_metrics('si', 'mse', 'nrmse', order=3, plot=True) \n",
    "\n",
    "print('\\033[04m\\033[01m\\033[34m     Section 5 finished     ')   "
   ]
  },
  {
   "cell_type": "code",
   "execution_count": 22,
   "metadata": {},
   "outputs": [
    {
     "ename": "AttributeError",
     "evalue": "'regtools' object has no attribute 'sec_shift'",
     "output_type": "error",
     "traceback": [
      "\u001b[0;31m---------------------------------------------------------------------------\u001b[0m",
      "\u001b[0;31mAttributeError\u001b[0m                            Traceback (most recent call last)",
      "\u001b[0;32m<ipython-input-22-6754afa65b28>\u001b[0m in \u001b[0;36m<module>\u001b[0;34m\u001b[0m\n\u001b[0;32m----> 1\u001b[0;31m \u001b[0mprint\u001b[0m\u001b[0;34m(\u001b[0m\u001b[0mreg\u001b[0m\u001b[0;34m.\u001b[0m\u001b[0msec_shift\u001b[0m\u001b[0;34m.\u001b[0m\u001b[0mshape\u001b[0m\u001b[0;34m)\u001b[0m\u001b[0;34m\u001b[0m\u001b[0;34m\u001b[0m\u001b[0m\n\u001b[0m\u001b[1;32m      2\u001b[0m \u001b[0mprint\u001b[0m\u001b[0;34m(\u001b[0m\u001b[0mreg\u001b[0m\u001b[0;34m.\u001b[0m\u001b[0mshift\u001b[0m\u001b[0;34m.\u001b[0m\u001b[0mshape\u001b[0m\u001b[0;34m)\u001b[0m\u001b[0;34m\u001b[0m\u001b[0;34m\u001b[0m\u001b[0m\n\u001b[1;32m      3\u001b[0m \u001b[0mprint\u001b[0m\u001b[0;34m(\u001b[0m\u001b[0moriginal_imgs\u001b[0m\u001b[0;34m.\u001b[0m\u001b[0mshape\u001b[0m\u001b[0;34m)\u001b[0m\u001b[0;34m\u001b[0m\u001b[0;34m\u001b[0m\u001b[0m\n\u001b[1;32m      4\u001b[0m \u001b[0mprint\u001b[0m\u001b[0;34m(\u001b[0m\u001b[0mreg\u001b[0m\u001b[0;34m.\u001b[0m\u001b[0mshift\u001b[0m\u001b[0;34m[\u001b[0m\u001b[0;36m0\u001b[0m\u001b[0;34m]\u001b[0m\u001b[0;34m)\u001b[0m\u001b[0;34m\u001b[0m\u001b[0;34m\u001b[0m\u001b[0m\n\u001b[1;32m      5\u001b[0m \u001b[0mprint\u001b[0m\u001b[0;34m(\u001b[0m\u001b[0mreg\u001b[0m\u001b[0;34m.\u001b[0m\u001b[0mshift\u001b[0m\u001b[0;34m[\u001b[0m\u001b[0;36m1\u001b[0m\u001b[0;34m]\u001b[0m\u001b[0;34m)\u001b[0m\u001b[0;34m\u001b[0m\u001b[0;34m\u001b[0m\u001b[0m\n",
      "\u001b[0;31mAttributeError\u001b[0m: 'regtools' object has no attribute 'sec_shift'"
     ]
    }
   ],
   "source": [
    "print(reg.sec_shift.shape)\n",
    "print(reg.shift.shape)\n",
    "print(original_imgs.shape)\n",
    "print(reg.shift[0])\n",
    "print(reg.shift[1])\n",
    "print(np.matmul(reg.shift[0], reg.shift[1]))\n",
    "print(reg.savefn)\n",
    "#f.close()\n",
    "#f = h5py.File(reg.savefn, 'a')"
   ]
  },
  {
   "cell_type": "code",
   "execution_count": null,
   "metadata": {},
   "outputs": [],
   "source": [
    "#print(reg.shift)\n",
    "print(reg.moving.dtype)\n",
    "reg.save_reg_result(dtype='2D_XANES')"
   ]
  },
  {
   "cell_type": "code",
   "execution_count": null,
   "metadata": {},
   "outputs": [],
   "source": [
    "print(fn)\n",
    "out = '/NSLS2/xf18id1/users/2019Q3/XU_ZHENGRUI_Proposal_305094/test_multipos_2D_xanes_scan2_id_26392_repeat_00_pos_00.h5'\n",
    "f = h5py.File(out, 'a')\n",
    "g = f.create_group('registration')\n",
    "g.create_dataset('registered_image', data=reg.moving.astype(np.float32))\n",
    "f.close()"
   ]
  },
  {
   "cell_type": "markdown",
   "metadata": {},
   "source": [
    "Section 5: check xanes spectrum at a given position or in a region"
   ]
  },
  {
   "cell_type": "code",
   "execution_count": null,
   "metadata": {},
   "outputs": [],
   "source": [
    "#plt.plot(reg.moving[:, int(reg.moving.shape[1]/2):int(reg.moving.shape[1]/2+3), \n",
    "#                    int(reg.moving.shape[2]/2):int(reg.moving.shape[2]/2+3)].mean(axis=(1,2)))\n",
    "fig = plt.figure()\n",
    "ax = fig.add_subplot(111)\n",
    "ax.plot(eng, reg.moving[:, 500:503, 500:503].mean(axis=(1,2)))\n",
    "plt.show()"
   ]
  },
  {
   "cell_type": "code",
   "execution_count": null,
   "metadata": {},
   "outputs": [],
   "source": [
    "fn_template = '/NSLS2/xf18id1/users/2019Q3/XU_ZHENGRUI_Proposal_305094/aligned_multipos_2D_xanes_scan2_id_{0}_repeat_00_pos_00.h5'\n",
    "# scan number\n",
    "scan_id = 26340\n",
    "fn = Path(fn_template.format(scan_id))\n",
    "\n",
    "f = h5py.File(fn, 'r')\n",
    "img2 = gaussian_filter(f['/registration/registered_image'][80], 5)\n",
    "img1 = gaussian_filter(f['/registration/registered_image'][96:101].reshape([-1, img2.shape[0], img2.shape[1]]).mean(axis=0), 5)\n",
    "f.close()\n",
    "\n",
    "#img1 = gaussian_filter(img1.mean(axis=0), 10)\n",
    "#img2[:] = gaussian_filter(img2, 10)[:]\n",
    "print(img1.shape, img2.shape, mask.shape)\n",
    "\n",
    "# method: 'pc', 'mpc', 'sr'\n",
    "reg2 = xr.regtools(method='sr', mode='TRANSLATION')\n",
    "reg2.set_mask(mask[0])     \n",
    "reg2.set_saving(save_path=fn.parents[0], fn='aligned_' + fn.name)\n",
    "reg2.set_fixed_data(img2)\n",
    "reg2.set_moving_data(img1)\n",
    "reg2.set_raw_data_info(**{'X_eng': eng[img_s:img_e], 'roi': roi, 'mask': mask[0]})\n",
    "reg2.reg_2D_to_ref(dtype='3D_XANES', save=False)\n",
    "\n",
    "fig = plt.figure()\n",
    "ax1 = fig.add_subplot(121)\n",
    "ax1.imshow(img2 - img1, vmin=-0.5, vmax=0.5)\n",
    "ax1.set_title('img2 - img1')\n",
    "ax2 = fig.add_subplot(122)\n",
    "ax2.imshow(reg2.moving - reg2.fixed, vmin=-0.5, vmax=0.5)\n",
    "ax2.set_title('reg2.moving - reg2.fixed')\n",
    "plt.show()"
   ]
  },
  {
   "cell_type": "code",
   "execution_count": null,
   "metadata": {},
   "outputs": [],
   "source": [
    "f = h5py.File(fn, 'r')\n",
    "img = f['/registration/registered_image'][:]\n",
    "f.close()\n",
    "\n",
    "# used when method = 'pc' or 'mpc'\n",
    "#reg2.shift = np.concatenate((np.tile(np.array([0, 0]),[90, 1]), np.tile(np.array([-0.87, -8.69]),[61, 1])), axis=0)\n",
    "\n",
    "# used when method = 'sr'\n",
    "print(reg2.shift.shape)\n",
    "#reg2.shift = np.concatenate((np.tile(np.identity(3), [90, 1, 1]), np.tile(reg2.shift, [5, 1, 1]), np.tile(np.identity(3), [6, 1, 1])), axis=0)\n",
    "reg2.shift = np.concatenate((np.tile(np.identity(3), [94, 1, 1]), np.tile(reg2.shift, [4, 1, 1]), np.tile(np.identity(3), [0, 1, 1])), axis=0)\n",
    "\n",
    "\n",
    "reg2.set_moving_data(img)\n",
    "reg2.translate_xanes2D_stack(reg2.moving)\n",
    "reg2.save_reg_result(dtype='2D_XANES')"
   ]
  },
  {
   "cell_type": "code",
   "execution_count": null,
   "metadata": {},
   "outputs": [],
   "source": [
    "print(np.tile(np.identity(3), [95, 1, 1]).shape, np.tile(reg2.shift, [5, 1, 1]).shape, np.tile(np.identity(3), [0, 1, 1]).shape)"
   ]
  },
  {
   "cell_type": "code",
   "execution_count": null,
   "metadata": {},
   "outputs": [],
   "source": [
    "print(np.identity(3))"
   ]
  },
  {
   "cell_type": "code",
   "execution_count": 8,
   "metadata": {},
   "outputs": [
    {
     "name": "stdout",
     "output_type": "stream",
     "text": [
      "Help on built-in function index:\n",
      "\n",
      "index(...) method of builtins.list instance\n",
      "    L.index(value, [start, [stop]]) -> integer -- return first index of value.\n",
      "    Raises ValueError if the value is not present.\n",
      "\n"
     ]
    }
   ],
   "source": [
    "help([].index)"
   ]
  },
  {
   "cell_type": "code",
   "execution_count": null,
   "metadata": {},
   "outputs": [],
   "source": []
  }
 ],
 "metadata": {
  "kernelspec": {
   "display_name": "Python 3",
   "language": "python",
   "name": "python3"
  },
  "language_info": {
   "codemirror_mode": {
    "name": "ipython",
    "version": 3
   },
   "file_extension": ".py",
   "mimetype": "text/x-python",
   "name": "python",
   "nbconvert_exporter": "python",
   "pygments_lexer": "ipython3",
   "version": "3.6.7"
  }
 },
 "nbformat": 4,
 "nbformat_minor": 4
}
