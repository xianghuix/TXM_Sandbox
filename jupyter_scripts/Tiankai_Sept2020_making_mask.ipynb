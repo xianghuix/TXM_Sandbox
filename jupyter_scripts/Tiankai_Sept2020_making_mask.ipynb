{
 "cells": [
  {
   "cell_type": "code",
   "execution_count": 1,
   "metadata": {},
   "outputs": [],
   "source": [
    "%matplotlib qt\n",
    "import matplotlib.pyplot as plt\n",
    "import h5py, tifffile, os, numpy as np, multiprocessing as mp, gc, time\n",
    "from functools import partial\n",
    "from TXM_Sandbox.TXM_Sandbox.utils.xanes_math import (mrtv_reg1, mrtv_reg2, mrtv_reg3,\n",
    "                                                      mrtv_mpc_combo_reg, tv_l1_pixel, \n",
    "                                                      tv_l1_subpixel, mrtv_ls_combo_reg)\n",
    "from scipy.ndimage import fourier_shift"
   ]
  },
  {
   "cell_type": "code",
   "execution_count": null,
   "metadata": {},
   "outputs": [],
   "source": [
    "fn = '/run/media/xiao/Data/data/Tiankai/66881_1080_mask_415p.tif'\n",
    "obj_supp = tifffile.imread(fn).astype(np.int8)\n",
    "fn = '/run/media/xiao/Data/data/Tiankai/66881_1080_mask_415p_sinogram.tif'\n",
    "sino_supp = tifffile.imread(fn).astype(np.int8)\n",
    "\n",
    "#supp = np.ones([415,415], dtype=np.int8)\n",
    "fn = '/run/media/xiao/Data/data/Tiankai/66881_1080_mask_415p.h5'\n",
    "with h5py.File(fn, 'w') as f:\n",
    "    f.create_dataset('obj_supp', data=obj_supp, dtype=np.int8)\n",
    "    f.create_dataset('sin_supp', data=sino_supp, dtype=np.int8)"
   ]
  },
  {
   "cell_type": "code",
   "execution_count": null,
   "metadata": {},
   "outputs": [],
   "source": [
    "fn = '/run/media/xiao/Data/data/Tiankai/fly_scan2_id_66883.h5'\n",
    "ofn = '/run/media/xiao/Data/data/Tiankai/fly_scan2_id_66883_roi.h5'\n",
    "\n",
    "with h5py.File(fn, 'r') as f:\n",
    "    img = ((f['img_tomo'][..., 1000:1440] - f['img_dark_avg'][..., 1000:1440])/\n",
    "           (f['img_bkg_avg'][..., 1000:1440] - f['img_dark_avg'][..., 1000:1440]))\n",
    "    img[np.isinf(img)] = 0\n",
    "    img[np.isnan(img)] = 0\n",
    "    "
   ]
  },
  {
   "cell_type": "code",
   "execution_count": null,
   "metadata": {},
   "outputs": [],
   "source": [
    "print(img.shape)"
   ]
  },
  {
   "cell_type": "code",
   "execution_count": null,
   "metadata": {},
   "outputs": [],
   "source": [
    "with h5py.File(ofn, 'w') as of:\n",
    "    of.create_dataset('img_tomo', data=img.astype(np.float32), dtype=np.float32)"
   ]
  },
  {
   "cell_type": "markdown",
   "metadata": {},
   "source": [
    "# ***Align projection image***"
   ]
  },
  {
   "cell_type": "code",
   "execution_count": 50,
   "metadata": {},
   "outputs": [],
   "source": [
    "fn = '/run/media/xiao/Data/data/Tiankai/fly_scan2_id_66797.h5'\n",
    "ofn = '/run/media/xiao/Data/data/Tiankai/fly_scan2_id_6797.h5'\n",
    "roi = [1000, 1600, 900, 1700]\n",
    "missing_wedge = [121, 225]\n",
    "\n",
    "with h5py.File(fn, 'r') as f:\n",
    "    ang_len = f['angle'].shape[0]\n",
    "ang = np.concatenate((np.arange(missing_wedge[0]), np.arange(missing_wedge[1], ang_len)))"
   ]
  },
  {
   "cell_type": "code",
   "execution_count": 45,
   "metadata": {},
   "outputs": [
    {
     "name": "stdout",
     "output_type": "stream",
     "text": [
      "386\n"
     ]
    }
   ],
   "source": [
    "print(ang_len)"
   ]
  },
  {
   "cell_type": "code",
   "execution_count": 28,
   "metadata": {},
   "outputs": [],
   "source": [
    "with h5py.File(fn, 'r') as f:\n",
    "    img = ((f['img_tomo'][ang, roi[0]:roi[1], roi[2]:roi[3]] - f['img_dark_avg'][:, roi[0]:roi[1], roi[2]:roi[3]])/\n",
    "           (f['img_bkg_avg'][:, roi[0]:roi[1], roi[2]:roi[3]] - f['img_dark_avg'][:, roi[0]:roi[1], roi[2]:roi[3]]))\n",
    "    img[np.isinf(img)] = 0\n",
    "    img[np.isnan(img)] = 0"
   ]
  },
  {
   "cell_type": "code",
   "execution_count": 29,
   "metadata": {},
   "outputs": [
    {
     "name": "stdout",
     "output_type": "stream",
     "text": [
      "(140453016798752, 541440000, None)\n"
     ]
    }
   ],
   "source": [
    "print(f\"{id(img), img.nbytes, img.base}\")"
   ]
  },
  {
   "cell_type": "code",
   "execution_count": 30,
   "metadata": {},
   "outputs": [],
   "source": [
    "#plt.plot(ang)\n",
    "for ii in range(120, 123):\n",
    "    plt.figure(ii)\n",
    "    plt.imshow(img[ii])"
   ]
  },
  {
   "cell_type": "markdown",
   "metadata": {},
   "source": [
    "###  ***align with mrtv_ls_combo_reg***"
   ]
  },
  {
   "cell_type": "code",
   "execution_count": 7,
   "metadata": {},
   "outputs": [],
   "source": [
    "print(time.asctime())\n",
    "n_cpu = os.cpu_count()\n",
    "with mp.get_context('spawn').Pool(n_cpu-1) as pool:\n",
    "    rlt1 = pool.map(partial(mrtv_ls_combo_reg, 100, 2, 10, 10, 0.2),\n",
    "                    [[img[ii], img[ii+1]] for ii in range(img.shape[0]-1)])\n",
    "print(time.asctime())"
   ]
  },
  {
   "cell_type": "code",
   "execution_count": 8,
   "metadata": {},
   "outputs": [],
   "source": [
    "shift1 = []\n",
    "for ii in range(len(rlt1)):\n",
    "    shift1.append(rlt1[ii][-1])\n",
    "shift1 = np.array(shift1)\n",
    "#del(rlt1)\n",
    "#gc.collect()"
   ]
  },
  {
   "cell_type": "code",
   "execution_count": 12,
   "metadata": {},
   "outputs": [
    {
     "data": {
      "text/plain": [
       "[<matplotlib.lines.Line2D at 0x7f3df2d11f50>]"
      ]
     },
     "execution_count": 12,
     "metadata": {},
     "output_type": "execute_result"
    }
   ],
   "source": [
    "plt.figure(0)\n",
    "plt.plot(shift1[:, 0])\n",
    "plt.figure(1)\n",
    "plt.plot(shift1[:, 1])\n"
   ]
  },
  {
   "cell_type": "markdown",
   "metadata": {},
   "source": [
    "###  ***align with mrtv_reg3***"
   ]
  },
  {
   "cell_type": "code",
   "execution_count": 31,
   "metadata": {},
   "outputs": [
    {
     "name": "stdout",
     "output_type": "stream",
     "text": [
      "Thu Dec 10 00:04:44 2020\n",
      "Thu Dec 10 00:11:23 2020\n"
     ]
    }
   ],
   "source": [
    "print(time.asctime())\n",
    "n_cpu = os.cpu_count()\n",
    "with mp.get_context('spawn').Pool(n_cpu-1) as pool:\n",
    "    rlt2 = pool.map(partial(mrtv_reg3, 5, 10, 10, 0.2),\n",
    "                   [[img[ii], img[ii+1]] for ii in range(img.shape[0]-1)])\n",
    "print(time.asctime())"
   ]
  },
  {
   "cell_type": "code",
   "execution_count": 32,
   "metadata": {},
   "outputs": [
    {
     "data": {
      "text/plain": [
       "13991"
      ]
     },
     "execution_count": 32,
     "metadata": {},
     "output_type": "execute_result"
    }
   ],
   "source": [
    "shift2 = []\n",
    "for ii in range(len(rlt2)):\n",
    "    shift2.append(rlt2[ii][-1])\n",
    "shift2 = np.array(shift2)\n",
    "shift2_cum = np.cumsum(shift2, axis=0)\n",
    "#del(rlt2)\n",
    "gc.collect()"
   ]
  },
  {
   "cell_type": "code",
   "execution_count": 33,
   "metadata": {},
   "outputs": [
    {
     "name": "stdout",
     "output_type": "stream",
     "text": [
      "(282, 600, 800) (281, 2) (282,) 281\n"
     ]
    }
   ],
   "source": [
    "print(img.shape, shift2.shape, theta.shape, len(rlt2))"
   ]
  },
  {
   "cell_type": "code",
   "execution_count": 36,
   "metadata": {},
   "outputs": [
    {
     "data": {
      "text/plain": [
       "[<matplotlib.lines.Line2D at 0x7fbdbf385390>]"
      ]
     },
     "execution_count": 36,
     "metadata": {},
     "output_type": "execute_result"
    }
   ],
   "source": [
    "plt.figure(10)\n",
    "plt.plot(shift2[:, 0])\n",
    "plt.figure(11)\n",
    "plt.plot(shift2[:, 1])\n",
    "\n",
    "plt.figure(12)\n",
    "plt.plot(shift2_cum[:, 0])\n",
    "plt.figure(13)\n",
    "plt.plot(shift2_cum[:, 1])"
   ]
  },
  {
   "cell_type": "code",
   "execution_count": 37,
   "metadata": {},
   "outputs": [],
   "source": [
    "img_shifted = np.asarray(img)\n",
    "img_shifted[0] = img[0]\n",
    "for ii in range(shift2_cum.shape[0]):\n",
    "    img_shifted[ii+1] = np.real(np.fft.ifftn(fourier_shift(np.fft.fftn(img[ii+1]), \n",
    "                                                           shift2_cum[ii])))"
   ]
  },
  {
   "cell_type": "code",
   "execution_count": 54,
   "metadata": {},
   "outputs": [],
   "source": [
    "with h5py.File(fn, 'r') as f:\n",
    "    theta = f['angle'][:]\n",
    "    mag = f['Magnification'][()]\n",
    "    pxl = f['Pixel Size'][()]\n",
    "    eng = f['X_eng'][()]\n",
    "    st = f['scan_time'][()]\n",
    "with h5py.File(ofn, 'w') as f:\n",
    "    f.create_dataset('img_tomo', data=np.concatenate((img_shifted[:missing_wedge[0]], np.zeros([ang_len-len(ang), *img_shifted.shape[1:]], dtype=np.float32), img_shifted[missing_wedge[0]:])).astype(np.float32), dtype=np.float32)\n",
    "    f.create_dataset('img_bkg_avg', data=np.ones([1, *img.shape[1:]], dtype=np.float32), dtype=np.float32)\n",
    "    f.create_dataset('img_dark_avg', data=np.zeros([1, *img.shape[1:]], dtype=np.float32), dtype=np.float32)\n",
    "    f.create_dataset('img_bkg', data=np.ones([1, *img.shape[1:]], dtype=np.float32), dtype=np.float32)\n",
    "    f.create_dataset('img_dark', data=np.zeros([1, *img.shape[1:]], dtype=np.float32), dtype=np.float32)\n",
    "    f.create_dataset('angle', data=theta.astype(np.float32), dtype=np.float32)\n",
    "    f.create_dataset('roi', data=np.array(roi), dtype=np.int32)\n",
    "    f.create_dataset('missing_ang_range', data=np.array(missing_wedge), dtype=np.int32)\n",
    "    f.create_dataset('align_alg', data=str('mrtv_reg3'))\n",
    "    f.create_dataset('scan_time', data=st)\n",
    "    f.create_dataset('X_eng', data=eng)\n",
    "    f.create_dataset('Pixel Size', data=pxl)\n",
    "    f.create_dataset('Magnification', data=mag)\n",
    "    f.create_dataset('note', data=str('aligned with mrtv_reg3 with 5 levels and finest precision 0.2 pixel'))\n",
    "    "
   ]
  },
  {
   "cell_type": "code",
   "execution_count": 44,
   "metadata": {},
   "outputs": [
    {
     "name": "stdout",
     "output_type": "stream",
     "text": [
      "(282,)\n"
     ]
    }
   ],
   "source": [
    "print(theta.shape)"
   ]
  },
  {
   "cell_type": "code",
   "execution_count": null,
   "metadata": {},
   "outputs": [],
   "source": []
  }
 ],
 "metadata": {
  "kernelspec": {
   "display_name": "Python 3",
   "language": "python",
   "name": "python3"
  },
  "language_info": {
   "codemirror_mode": {
    "name": "ipython",
    "version": 3
   },
   "file_extension": ".py",
   "mimetype": "text/x-python",
   "name": "python",
   "nbconvert_exporter": "python",
   "pygments_lexer": "ipython3",
   "version": "3.8.3"
  }
 },
 "nbformat": 4,
 "nbformat_minor": 4
}
