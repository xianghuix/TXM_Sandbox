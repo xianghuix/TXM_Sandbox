{
 "cells": [
  {
   "cell_type": "code",
   "execution_count": 1,
   "metadata": {},
   "outputs": [],
   "source": [
    "%gui qt\n",
    "import os\n",
    "import numpy as np\n",
    "\n",
    "from pathlib import Path\n",
    "import h5py, tifffile\n",
    "import matplotlib.pyplot as plt\n",
    "import ipywidgets as widgets\n",
    "from IPython.display import display\n",
    "\n",
    "from image_alignment import align_images as ai\n",
    "\n",
    "import astra"
   ]
  },
  {
   "cell_type": "markdown",
   "metadata": {},
   "source": [
    "# ***1. read data***"
   ]
  },
  {
   "cell_type": "code",
   "execution_count": 2,
   "metadata": {},
   "outputs": [],
   "source": [
    "data_center_path = \"/media/Disk2/data/JingShi_2020_Sept/data_center\"\n",
    "\n",
    "'''\n",
    "dpath = '/media/Disk2/data/JingShi_2020_Sept/raw'\n",
    "refn = os.path.join(dpath, 'PbIBrCsRb_xrf_tomo_cr.tif_pcc_TRANSLATION.h5_sr_TRANSLATION.h5')\n",
    "tgtn = os.path.join(dpath, 'PbIBrCsRb_xrf_tomo_i.tif')\n",
    "itr = 99\n",
    "'''\n",
    "\n",
    "basename = 'PbIBrCsRb_xrf_tomo_cr.tif'\n",
    "#basename = 'PbIBrCsRb_xrf_tomo_cr.tif_pcc_TRANSLATION.h5'\n",
    "dpath = '/media/Disk2/data/JingShi_2020_Sept/raw/'\n",
    "dfn = Path(os.path.join(dpath, f'{basename}'))\n",
    "ofn = Path(f'/media/Disk2/data/JingShi_2020_Sept/raw/{basename}_combo_alignment.h5')\n",
    "\n",
    "ref = np.zeros([200, 62, 256])\n",
    "if basename.split('.')[-1] == 'h5':\n",
    "    with h5py.File(dfn, 'r') as f:\n",
    "        #imgs[:, :34, 28:228] = f['/proj_corr/corrected_proj/iter_00_shifted_images'][:, :34, :]\n",
    "        #imgs[:, 38:66, 28:228] = f['/proj_corr/corrected_proj/iter_00_shifted_images'][:, 38:66, :]\n",
    "        ref[:] = f['/proj_corr/corrected_proj/iter_00_shifted_images'][:]\n",
    "elif basename.split('.')[-1] == 'tif':\n",
    "    ref[:, :62, 28:228] = np.swapaxes(tifffile.imread(dfn), 0, 1)[:]\n",
    "    #ref[:, 38:66, 28:228] = ref[:, 34:62, 28:228] \n",
    "    #ref[:, 34:38, 28:228] = 0\n",
    "\n",
    "angs = np.loadtxt(os.path.join(dpath, 'angle_list.txt'))*np.pi/180\n",
    "#angs = np.linspace(74, -58, num=66, endpoint=True)*np.pi/180"
   ]
  },
  {
   "cell_type": "markdown",
   "metadata": {},
   "source": [
    "# ***2. align images***"
   ]
  },
  {
   "cell_type": "code",
   "execution_count": 7,
   "metadata": {
    "collapsed": true,
    "jupyter": {
     "outputs_hidden": true
    }
   },
   "outputs": [
    {
     "name": "stdout",
     "output_type": "stream",
     "text": [
      "0 0 0\n",
      "    astra recons finishes at Sat Sep 19 01:07:10 2020\n",
      "    registration starts at Sat Sep 19 01:07:10 2020\n",
      "0\n"
     ]
    },
    {
     "name": "stderr",
     "output_type": "stream",
     "text": [
      "/home/xiao/software/anaconda3/ws4_backup/user_packages/image_alignment.py:100: RuntimeWarning: invalid value encountered in greater\n",
      "  cfg['reference_mask'] = (ref>thres)\n",
      "/home/xiao/software/anaconda3/ws4_backup/user_packages/image_alignment.py:100: RuntimeWarning: invalid value encountered in greater\n",
      "  cfg['reference_mask'] = (ref>thres)\n",
      "/home/xiao/software/anaconda3/ws4_backup/user_packages/image_alignment.py:100: RuntimeWarning: invalid value encountered in greater\n",
      "  cfg['reference_mask'] = (ref>thres)\n",
      "/home/xiao/software/anaconda3/ws4_backup/user_packages/image_alignment.py:100: RuntimeWarning: invalid value encountered in greater\n",
      "  cfg['reference_mask'] = (ref>thres)\n",
      "/home/xiao/software/anaconda3/ws4_backup/user_packages/image_alignment.py:100: RuntimeWarning: invalid value encountered in greater\n",
      "  cfg['reference_mask'] = (ref>thres)\n",
      "/home/xiao/software/anaconda3/ws4_backup/user_packages/image_alignment.py:100: RuntimeWarning: invalid value encountered in greater\n",
      "  cfg['reference_mask'] = (ref>thres)\n",
      "/home/xiao/software/anaconda3/ws4_backup/user_packages/image_alignment.py:100: RuntimeWarning: invalid value encountered in greater\n",
      "  cfg['reference_mask'] = (ref>thres)\n",
      "/home/xiao/software/anaconda3/ws4_backup/user_packages/image_alignment.py:100: RuntimeWarning: invalid value encountered in greater\n",
      "  cfg['reference_mask'] = (ref>thres)\n",
      "/home/xiao/software/anaconda3/ws4_backup/user_packages/image_alignment.py:100: RuntimeWarning: invalid value encountered in greater\n",
      "  cfg['reference_mask'] = (ref>thres)\n",
      "/home/xiao/software/anaconda3/ws4_backup/user_packages/image_alignment.py:100: RuntimeWarning: invalid value encountered in greater\n",
      "  cfg['reference_mask'] = (ref>thres)\n",
      "/home/xiao/software/anaconda3/ws4_backup/user_packages/image_alignment.py:100: RuntimeWarning: invalid value encountered in greater\n",
      "  cfg['reference_mask'] = (ref>thres)\n",
      "/home/xiao/software/anaconda3/ws4_backup/user_packages/image_alignment.py:100: RuntimeWarning: invalid value encountered in greater\n",
      "  cfg['reference_mask'] = (ref>thres)\n",
      "/home/xiao/software/anaconda3/ws4_backup/user_packages/image_alignment.py:100: RuntimeWarning: invalid value encountered in greater\n",
      "  cfg['reference_mask'] = (ref>thres)\n",
      "/home/xiao/software/anaconda3/ws4_backup/user_packages/image_alignment.py:100: RuntimeWarning: invalid value encountered in greater\n",
      "  cfg['reference_mask'] = (ref>thres)\n",
      "/home/xiao/software/anaconda3/ws4_backup/user_packages/image_alignment.py:100: RuntimeWarning: invalid value encountered in greater\n",
      "  cfg['reference_mask'] = (ref>thres)\n",
      "/home/xiao/software/anaconda3/ws4_backup/user_packages/image_alignment.py:100: RuntimeWarning: invalid value encountered in greater\n",
      "  cfg['reference_mask'] = (ref>thres)\n",
      "/home/xiao/software/anaconda3/ws4_backup/user_packages/image_alignment.py:100: RuntimeWarning: invalid value encountered in greater\n",
      "  cfg['reference_mask'] = (ref>thres)\n",
      "/home/xiao/software/anaconda3/ws4_backup/user_packages/image_alignment.py:100: RuntimeWarning: invalid value encountered in greater\n",
      "  cfg['reference_mask'] = (ref>thres)\n",
      "/home/xiao/software/anaconda3/ws4_backup/user_packages/image_alignment.py:100: RuntimeWarning: invalid value encountered in greater\n",
      "  cfg['reference_mask'] = (ref>thres)\n",
      "/home/xiao/software/anaconda3/ws4_backup/user_packages/image_alignment.py:100: RuntimeWarning: invalid value encountered in greater\n",
      "  cfg['reference_mask'] = (ref>thres)\n",
      "/home/xiao/software/anaconda3/ws4_backup/user_packages/image_alignment.py:100: RuntimeWarning: invalid value encountered in greater\n",
      "  cfg['reference_mask'] = (ref>thres)\n",
      "/home/xiao/software/anaconda3/ws4_backup/user_packages/image_alignment.py:100: RuntimeWarning: invalid value encountered in greater\n",
      "  cfg['reference_mask'] = (ref>thres)\n",
      "/home/xiao/software/anaconda3/ws4_backup/user_packages/image_alignment.py:100: RuntimeWarning: invalid value encountered in greater\n",
      "  cfg['reference_mask'] = (ref>thres)\n"
     ]
    },
    {
     "name": "stdout",
     "output_type": "stream",
     "text": [
      "1\n",
      "2\n",
      "    registration finishes at Sat Sep 19 01:07:18 2020\n",
      "0 0 1\n",
      "    astra recons finishes at Sat Sep 19 01:07:19 2020\n",
      "    registration starts at Sat Sep 19 01:07:19 2020\n",
      "0\n",
      "1\n",
      "2\n",
      "    registration finishes at Sat Sep 19 01:07:26 2020\n",
      "0 0 2\n",
      "    astra recons finishes at Sat Sep 19 01:07:27 2020\n",
      "    registration starts at Sat Sep 19 01:07:28 2020\n",
      "0\n",
      "1\n",
      "2\n",
      "    registration finishes at Sat Sep 19 01:07:35 2020\n",
      "0 0 3\n",
      "    astra recons finishes at Sat Sep 19 01:07:36 2020\n",
      "    registration starts at Sat Sep 19 01:07:36 2020\n",
      "0\n",
      "1\n",
      "2\n",
      "    registration finishes at Sat Sep 19 01:07:44 2020\n",
      "0 0 4\n",
      "    astra recons finishes at Sat Sep 19 01:07:45 2020\n",
      "    registration starts at Sat Sep 19 01:07:45 2020\n",
      "0\n",
      "1\n",
      "2\n",
      "    registration finishes at Sat Sep 19 01:07:54 2020\n",
      "0 1 0\n",
      "    astra recons finishes at Sat Sep 19 01:07:55 2020\n",
      "    registration starts at Sat Sep 19 01:07:55 2020\n",
      "0\n",
      "1\n",
      "2\n",
      "    registration finishes at Sat Sep 19 01:08:00 2020\n",
      "0 1 1\n",
      "    astra recons finishes at Sat Sep 19 01:08:01 2020\n",
      "    registration starts at Sat Sep 19 01:08:01 2020\n",
      "0\n",
      "1\n",
      "2\n",
      "    registration finishes at Sat Sep 19 01:08:07 2020\n",
      "0 1 2\n",
      "    astra recons finishes at Sat Sep 19 01:08:08 2020\n",
      "    registration starts at Sat Sep 19 01:08:08 2020\n",
      "0\n",
      "1\n",
      "2\n",
      "    registration finishes at Sat Sep 19 01:08:13 2020\n",
      "0 1 3\n",
      "    astra recons finishes at Sat Sep 19 01:08:14 2020\n",
      "    registration starts at Sat Sep 19 01:08:14 2020\n",
      "0\n",
      "1\n",
      "2\n",
      "    registration finishes at Sat Sep 19 01:08:20 2020\n",
      "0 1 4\n",
      "    astra recons finishes at Sat Sep 19 01:08:21 2020\n",
      "    registration starts at Sat Sep 19 01:08:21 2020\n",
      "0\n",
      "1\n",
      "2\n",
      "    registration finishes at Sat Sep 19 01:08:26 2020\n",
      "0 1 5\n",
      "    astra recons finishes at Sat Sep 19 01:08:27 2020\n",
      "    registration starts at Sat Sep 19 01:08:27 2020\n",
      "0\n",
      "1\n",
      "2\n",
      "    registration finishes at Sat Sep 19 01:08:32 2020\n",
      "0 1 6\n",
      "    astra recons finishes at Sat Sep 19 01:08:34 2020\n",
      "    registration starts at Sat Sep 19 01:08:34 2020\n",
      "0\n",
      "1\n",
      "2\n",
      "    registration finishes at Sat Sep 19 01:08:40 2020\n",
      "0 1 7\n",
      "    astra recons finishes at Sat Sep 19 01:08:42 2020\n",
      "    registration starts at Sat Sep 19 01:08:42 2020\n",
      "0\n",
      "1\n",
      "2\n",
      "    registration finishes at Sat Sep 19 01:08:47 2020\n",
      "0 1 8\n",
      "    astra recons finishes at Sat Sep 19 01:08:48 2020\n",
      "    registration starts at Sat Sep 19 01:08:48 2020\n",
      "0\n",
      "1\n",
      "2\n",
      "    registration finishes at Sat Sep 19 01:08:53 2020\n",
      "0 1 9\n",
      "    astra recons finishes at Sat Sep 19 01:08:54 2020\n",
      "    registration starts at Sat Sep 19 01:08:54 2020\n",
      "0\n",
      "1\n",
      "2\n",
      "    registration finishes at Sat Sep 19 01:09:00 2020\n",
      "0 1 10\n",
      "    astra recons finishes at Sat Sep 19 01:09:01 2020\n",
      "    registration starts at Sat Sep 19 01:09:01 2020\n",
      "0\n",
      "1\n",
      "2\n",
      "    registration finishes at Sat Sep 19 01:09:06 2020\n",
      "0 1 11\n",
      "    astra recons finishes at Sat Sep 19 01:09:07 2020\n",
      "    registration starts at Sat Sep 19 01:09:07 2020\n",
      "0\n",
      "1\n",
      "2\n",
      "    registration finishes at Sat Sep 19 01:09:14 2020\n",
      "0 1 12\n",
      "    astra recons finishes at Sat Sep 19 01:09:15 2020\n",
      "    registration starts at Sat Sep 19 01:09:15 2020\n",
      "0\n",
      "1\n",
      "2\n",
      "    registration finishes at Sat Sep 19 01:09:22 2020\n",
      "0 1 13\n",
      "    astra recons finishes at Sat Sep 19 01:09:23 2020\n",
      "    registration starts at Sat Sep 19 01:09:24 2020\n",
      "0\n",
      "1\n",
      "2\n",
      "    registration finishes at Sat Sep 19 01:09:29 2020\n",
      "0 1 14\n",
      "    astra recons finishes at Sat Sep 19 01:09:30 2020\n",
      "    registration starts at Sat Sep 19 01:09:30 2020\n",
      "0\n",
      "1\n",
      "2\n",
      "    registration finishes at Sat Sep 19 01:09:36 2020\n"
     ]
    }
   ],
   "source": [
    "aier = ai(data_order='astra')\n",
    "aier.set_data(ref, angs)\n",
    "aier.set_rec_alg('astra_cgls', **{})\n",
    "aier.data_order = 'astra'\n",
    "aier.corr_cfg = {0:{'cor_name':'pc', 'sub_itr':5, 'cfg':{'mask_thres':1e-2}},\n",
    "                 1:{'cor_name':'sr', 'sub_itr':15, 'cfg':{'mode':'RIGID_BODY'}}}\n",
    "aier.proj_cfg = {'prj_name':'astra', 'cfg':{'proj_geom':None, 'vol_geom':None}}\n",
    "aier.align_stack(1)"
   ]
  },
  {
   "cell_type": "code",
   "execution_count": 9,
   "metadata": {},
   "outputs": [
    {
     "data": {
      "application/vnd.jupyter.widget-view+json": {
       "model_id": "b4ef8e421c2845edbe5c339213b71db5",
       "version_major": 2,
       "version_minor": 0
      },
      "text/plain": [
       "interactive(children=(IntSlider(value=30, description='x', max=61), Output()), _dom_classes=('widget-interact'…"
      ]
     },
     "metadata": {},
     "output_type": "display_data"
    },
    {
     "data": {
      "text/plain": [
       "<function __main__.disp(x)>"
      ]
     },
     "execution_count": 9,
     "metadata": {},
     "output_type": "execute_result"
    }
   ],
   "source": [
    "def disp(x):\n",
    "    plt.imshow(aier.mov_data[:, x, :])\n",
    "widgets.interact(disp, x=(0, 61, 1))"
   ]
  },
  {
   "cell_type": "code",
   "execution_count": null,
   "metadata": {},
   "outputs": [],
   "source": [
    "if 'astra' in aier.rec_alg['alg_name']:\n",
    "    if aier.data_order == 'astra':\n",
    "        vol_geom = astra.creators.create_vol_geom(aier.data_dim[2], aier.data_dim[2], aier.data_dim[0])"
   ]
  },
  {
   "cell_type": "code",
   "execution_count": null,
   "metadata": {},
   "outputs": [],
   "source": [
    "print(aier.mov_data)"
   ]
  },
  {
   "cell_type": "code",
   "execution_count": null,
   "metadata": {},
   "outputs": [],
   "source": [
    "from skimage.registration import phase_cross_correlation"
   ]
  },
  {
   "cell_type": "code",
   "execution_count": null,
   "metadata": {},
   "outputs": [],
   "source": [
    "help(phase_cross_correlation)"
   ]
  },
  {
   "cell_type": "code",
   "execution_count": null,
   "metadata": {},
   "outputs": [],
   "source": []
  }
 ],
 "metadata": {
  "kernelspec": {
   "display_name": "Python 3",
   "language": "python",
   "name": "python3"
  },
  "language_info": {
   "codemirror_mode": {
    "name": "ipython",
    "version": 3
   },
   "file_extension": ".py",
   "mimetype": "text/x-python",
   "name": "python",
   "nbconvert_exporter": "python",
   "pygments_lexer": "ipython3",
   "version": "3.7.4"
  }
 },
 "nbformat": 4,
 "nbformat_minor": 4
}
