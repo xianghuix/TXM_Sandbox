{
 "cells": [
  {
   "cell_type": "code",
   "execution_count": null,
   "metadata": {
    "jupyter": {
     "source_hidden": true
    }
   },
   "outputs": [],
   "source": [
    "import imagej\n",
    "ij = imagej.init('/home/xiao/software/Fiji.app', headless=False)\n",
    "ijui = ij.ui()\n",
    "ijui.showUI()\n",
    "from jnius import autoclass\n",
    "WindowManager = autoclass('ij.WindowManager')\n",
    "ImageStack = autoclass('ij.ImageStack')\n",
    "ImagePlus = autoclass('ij.ImagePlus')\n",
    "ImageStack = autoclass('ij.ImageStack')\n"
   ]
  },
  {
   "cell_type": "code",
   "execution_count": null,
   "metadata": {
    "jupyter": {
     "source_hidden": true
    }
   },
   "outputs": [],
   "source": [
    "#for ii in (WindowManager.getIDList()):\n",
    "#    WindowManager.getImage(ii).close()\n",
    "help(ij.py.to_java)\n",
    "#gui.mask_viewer_ip.setStack(ij.py.to_java(gui.img))\n",
    "#help(ImagePlus.createImagePlus)\n"
   ]
  },
  {
   "cell_type": "code",
   "execution_count": null,
   "metadata": {
    "jupyter": {
     "source_hidden": true
    }
   },
   "outputs": [],
   "source": [
    "dir(WindowManager)\n",
    "#(WindowManager.getImageTitles(WindowManager.allNonImageWindows))"
   ]
  },
  {
   "cell_type": "code",
   "execution_count": null,
   "metadata": {},
   "outputs": [],
   "source": [
    "fn = \"/media/staff/XIAO_USB1/BNL_FXI_Sept2019_YujingBi_EnyuanHu/recon_fly_scan_id_29671/recon_fly_scan_id_29671_00017.tiff\"\n",
    "#macro = '\"\"\"'+'run(\"Image Sequence...\", \"open='+fn+' sort use'+'\");'+'\"\"\"'\n",
    "#print(macro)\n",
    "\n",
    "#ij.py.run_macro(\"\"\"run(\"Image Sequence...\", \"open=/media/staff/XIAO_USB1/BNL_FXI_Sept2019_YujingBi_EnyuanHu/recon_fly_scan_id_29671/recon_fly_scan_id_29671_00023.tiff sort use\");\"\"\")\n",
    "#ij.py.run_macro(macro)\n",
    "\n",
    "#ij.py.run_macro(\"\"\"run(\"Image Sequence...\", f\"open=fn sort use\");\"\"\")\n",
    "args = {'directory':fn, 'start':1}\n",
    "#ij.py.run_plugin(\"Image Sequence...\", args)\n",
    "ij.py.run_plugin(\" Open VirtualStack\", args)\n",
    "#ij.script().run('macro.ijm', 'run(\"Image Sequence...\");', fn, True)\n",
    "#run(\" Open VirtualStack\", \"directory=/media/staff/XIAO_USB1/BNL_FXI_Sept2019_YujingBi_EnyuanHu/recon_fly_scan_id_29673/ start=1\");\n",
    "\n",
    "ip = WindowManager.getCurrentImage()"
   ]
  },
  {
   "cell_type": "code",
   "execution_count": null,
   "metadata": {},
   "outputs": [],
   "source": [
    "#ij.py.run_macro(\"\"\"run(\"Set Slice...\", 1000);\"\"\")\n",
    "#ij.py.run_plugin(\"ip.setSlice\", {'n':\"1000\"})\n",
    "#dir(ip)\n",
    "ip.setSlice(600)"
   ]
  },
  {
   "cell_type": "code",
   "execution_count": null,
   "metadata": {
    "jupyter": {
     "source_hidden": true
    }
   },
   "outputs": [],
   "source": [
    "import xanes_regtools_gui as xrg\n",
    "from importlib import reload\n",
    "xrg = reload(xrg)"
   ]
  },
  {
   "cell_type": "code",
   "execution_count": 1,
   "metadata": {},
   "outputs": [
    {
     "name": "stdout",
     "output_type": "stream",
     "text": [
      "Added 387 JARs to the Java classpath.\n",
      "fiji is already up running!\n"
     ]
    },
    {
     "data": {
      "application/vnd.jupyter.widget-view+json": {
       "model_id": "afa9285c783a4c609b9bb9ce287ed9a5",
       "version_major": 2,
       "version_minor": 0
      },
      "text/plain": [
       "Tab(children=(Tab(layout=Layout(border='3px solid #FFCC00', height='680px', width='1054px')), Tab(children=(VB…"
      ]
     },
     "metadata": {},
     "output_type": "display_data"
    }
   ],
   "source": [
    "%gui qt\n",
    "import xanes_regtools_gui as xrg\n",
    "from importlib import reload\n",
    "xrg = reload(xrg)\n",
    "reg_params = {}\n",
    "#gui = xrg.xanes_regtools_gui(reg_params)\n",
    "#gui.gui_layout(reg_params)\n",
    "gui = xrg.xanes_regtools_gui(form_sz=[750, 1100])\n",
    "gui.gui_layout()"
   ]
  },
  {
   "cell_type": "code",
   "execution_count": null,
   "metadata": {},
   "outputs": [],
   "source": [
    "for ii in gui.xanes3D_config:\n",
    "    print('\\n\\n')\n",
    "    for jj in gui.xanes3D_config[ii]:\n",
    "        print(type(gui.xanes3D_config[ii][jj]), jj, gui.xanes3D_config[ii][jj], '\\n')"
   ]
  },
  {
   "cell_type": "code",
   "execution_count": 2,
   "metadata": {},
   "outputs": [
    {
     "data": {
      "text/plain": [
       "0"
      ]
     },
     "execution_count": 2,
     "metadata": {},
     "output_type": "execute_result"
    }
   ],
   "source": [
    "gui.hs['L[0][2][3][0][1][3]_visualize_view_alignment_slice_slider'].value"
   ]
  },
  {
   "cell_type": "code",
   "execution_count": null,
   "metadata": {},
   "outputs": [],
   "source": [
    "%gui qt\n",
    "import napari\n",
    "import h5py\n",
    "\n",
    "fn = '/NSLS2/xf18id1/users/2020Q1/YUAN_YANG_Proposal_305811/3D_trial_reg_scan_id_56600-56609_2020-04-22-10-57-43.h5'\n",
    "f = h5py.File(fn, 'r')\n",
    "img = f['/registration_results/reg_results/registered_xanes3D'][:]\n",
    "f.close()\n",
    "\n",
    "napari.gui_qt()\n",
    "viewer = napari.view_image(img)"
   ]
  },
  {
   "cell_type": "code",
   "execution_count": null,
   "metadata": {},
   "outputs": [],
   "source": [
    "help(napari.gui_qt)"
   ]
  },
  {
   "cell_type": "code",
   "execution_count": null,
   "metadata": {},
   "outputs": [],
   "source": [
    "print(gui.xanes3D_raw_3D_h5_top_dir)\n",
    "print(gui.xanes3D_reg_best_match_filename)\n",
    "print(gui.xanes3D_raw_3D_h5_temp)\n",
    "print(gui.xanes3D_recon_3D_top_dir)\n",
    "print(gui.xanes3D_recon_3D_tiff_temp)\n",
    "print(gui.xanes3D_recon_3D_dir_temp)\n",
    "print(gui.xanes3D_save_trial_reg_filename)\n",
    "print(gui.xanes3D_scan_id_s)"
   ]
  },
  {
   "cell_type": "code",
   "execution_count": null,
   "metadata": {
    "jupyter": {
     "source_hidden": true
    }
   },
   "outputs": [],
   "source": [
    "import numpy as np\n",
    "from json import JSONEncoder\n",
    "import json\n",
    "\n",
    "class NumpyArrayEncoder(JSONEncoder):\n",
    "    def default(self, obj):\n",
    "        if isinstance(obj, np.ndarray):\n",
    "            return obj.tolist()\n",
    "        return JSONEncoder.default(self, obj)\n",
    "\n",
    "a = {'filepath config': {'xanes3D_raw_3D_h5_top_dir': '/NSLS2/xf18id1/users/2020Q1/YUAN_YANG_Proposal_305811',\n",
    "  'xanes3D_recon_3D_top_dir': 'NSLS2/xf18id1/users/2020Q1/YUAN_YANG_Proposal_305811',\n",
    "  'xanes3D_save_trial_reg_filename': '/NSLS2/xf18id1/users/2020Q1/YUAN_YANG_Proposal_305811/3D_trial_reg_scan_id_56600-56609_2020-04-21-00-28-56.h5',\n",
    "  'xanes3D_raw_3D_h5_temp': None,\n",
    "  'xanes3D_recon_3D_tiff_temp': '/NSLS2/xf18id1/users/2020Q1/YUAN_YANG_Proposal_305811/recon_fly_scan_id_{0}/recon_fly_scan_id_{0}_{1}.tiff',\n",
    "  'xanes3D_recon_3D_dir_temp': None,\n",
    "  'xanes3D_reg_best_match_filename': '/NSLS2/xf18id1/users/2020Q1/YUAN_YANG_Proposal_305811/3D_trial_reg_scan_id_56600-56609_2020-04-21-00-28-56_reg_best_match_2020-04-21-20-50-36.json',\n",
    "  'xanes3D_analysis_option': 'Read Reg File',\n",
    "  'xanes3D_filepath_configured': True,\n",
    "  'xanes3D_raw_h5_path_set': False,\n",
    "  'xanes3D_recon_path_set': True,\n",
    "  'xanes3D_save_trial_set': False},\n",
    " 'indeices config': {'select_scan_id_start_text_min': 0,\n",
    "  'select_scan_id_start_text_val': 0,\n",
    "  'select_scan_id_start_text_max': 100,\n",
    "  'select_scan_id_end_text_min': 0,\n",
    "  'select_scan_id_end_text_val': 0,\n",
    "  'select_scan_id_end_text_max': 100,\n",
    "  'fixed_scan_id_slider_min': 0,\n",
    "  'fixed_scan_id_slider_val': 0,\n",
    "  'fixed_scan_id_slider_max': 100,\n",
    "  'fixed_sli_id_slider_min': 0,\n",
    "  'fixed_sli_id_slider_val': 0,\n",
    "  'fixed_sli_id_slider_max': 100,\n",
    "  'xanes3D_fixed_scan_id': 56605,\n",
    "  'xanes3D_scan_id_s': 56600,\n",
    "  'xanes3D_scan_id_e': 56609,\n",
    "  'xanes3D_fixed_sli_id': 551,\n",
    "  'xanes3D_scan_id_set': False,\n",
    "  'xanes3D_fixed_scan_id_set': False,\n",
    "  'xanes3D_fixed_sli_id_set': False,\n",
    "  'xanes3D_indices_configured': False},\n",
    " 'roi config': {'3D_roi_x_slider_min': 1,\n",
    "  '3D_roi_x_slider_val': (10, 40),\n",
    "  '3D_roi_x_slider_max': 50,\n",
    "  '3D_roi_y_slider_min': 1,\n",
    "  '3D_roi_y_slider_val': (10, 40),\n",
    "  '3D_roi_y_slider_max': 50,\n",
    "  '3D_roi_z_slider_min': 1,\n",
    "  '3D_roi_z_slider_val': (10, 40),\n",
    "  '3D_roi_z_slider_max': 50,\n",
    "  '3D_roi': [516, 982, 358, 787, 466, 699],\n",
    "  'xanes3D_roi_configured': False},\n",
    " 'registration config': {'xanes3D_reg_use_chunk': 'True',\n",
    "  'xanes3D_reg_use_mask': True,\n",
    "  'xanes3D_reg_mask_thres': 0,\n",
    "  'xanes3D_reg_mask_dilation_width': 0,\n",
    "  'xanes3D_reg_use_smooth_img': 'False',\n",
    "  'xanes3D_reg_smooth_sigma': 0,\n",
    "  'xanes3D_reg_sli_search_half_width': 10,\n",
    "  'xanes3D_reg_chunk_sz': 7,\n",
    "  'xanes3D_reg_method': 'MPC',\n",
    "  'xanes3D_reg_ref_mode': 'SINGLE',\n",
    "  'mask_thres_slider_min': -1.0,\n",
    "  'mask_thres_slider_val': 0.0,\n",
    "  'mask_thres_slider_max': 1.0,\n",
    "  'mask_dilation_slider_min': 0,\n",
    "  'mask_dilation_slider_val': 0,\n",
    "  'mask_dilation_slider_max': 30,\n",
    "  'sli_search_slider_min': 0,\n",
    "  'sli_search_slider_val': 10,\n",
    "  'sli_search_slider_max': 100,\n",
    "  'chunk_sz_slider_min': 0,\n",
    "  'chunk_sz_slider_val': 7,\n",
    "  'chunk_sz_slider_max': 100,\n",
    "  'xanes3D_reg_params_configured': False},\n",
    " 'run registration': {'xanes3D_reg_done': True},\n",
    " 'review registration': {'xanes3D_use_existing_reg_reviewed': True,\n",
    "  'xanes3D_reg_review_file': '/NSLS2/xf18id1/users/2020Q1/YUAN_YANG_Proposal_305811/3D_trial_reg_scan_id_56600-56609_2020-04-21-00-28-56_reg_best_match_2020-04-21-19-56-43.json',\n",
    "  'xanes3D_reg_review_done': True,\n",
    "  'read_alignment_checkbox': True,\n",
    "  'reg_pair_slider_min': 0,\n",
    "  'reg_pair_slider_val': 9,\n",
    "  'reg_pair_slider_max': 9,\n",
    "  'zshift_slider_min': 1,\n",
    "  'zshift_slider_val': 11,\n",
    "  'zshift_slider_max': 20,\n",
    "  'best_match_text': 11,\n",
    "  'alignment_best_match': {'1': np.array([ 5., 17.,  0.]),\n",
    "   '0': np.array([ 13., -18.,   1.]),\n",
    "   '2': np.array([ 5., 10.,  2.]),\n",
    "   '3': np.array([6., 9., 0.]),\n",
    "   '4': np.array([8., 7., 1.]),\n",
    "   '5': np.array([9. , 0.5, 1. ]),\n",
    "   '6': np.array([ 7., 12., -1.]),\n",
    "   '7': np.array([ 8., 13., -1.]),\n",
    "   '8': np.array([10. ,  7.5,  1. ]),\n",
    "   '9': np.array([10.,  0.,  0.])}},\n",
    " 'align 3D recon': {'xanes3D_alignment_done': False}}\n",
    "#json.dump(a, open(gui.xanes3D_save_trial_reg_config_filename, 'w'), cls=NumpyArrayEncoder)\n",
    "json.dump({'filepath config': {'xanes3D_raw_3D_h5_top_dir': '/NSLS2/xf18id1/users/2020Q1/YUAN_YANG_Proposal_305811',\n",
    "  'xanes3D_recon_3D_top_dir': 'NSLS2/xf18id1/users/2020Q1/YUAN_YANG_Proposal_305811',\n",
    "  'xanes3D_save_trial_reg_filename': '/NSLS2/xf18id1/users/2020Q1/YUAN_YANG_Proposal_305811/3D_trial_reg_scan_id_56600-56609_2020-04-21-00-28-56.h5',\n",
    "  'xanes3D_raw_3D_h5_temp': None,\n",
    "  'xanes3D_recon_3D_tiff_temp': '/NSLS2/xf18id1/users/2020Q1/YUAN_YANG_Proposal_305811/recon_fly_scan_id_{0}/recon_fly_scan_id_{0}_{1}.tiff',\n",
    "  'xanes3D_recon_3D_dir_temp': None,\n",
    "  'xanes3D_reg_best_match_filename': '/NSLS2/xf18id1/users/2020Q1/YUAN_YANG_Proposal_305811/3D_trial_reg_scan_id_56600-56609_2020-04-21-00-28-56_reg_best_match_2020-04-21-21-09-55.json',\n",
    "  'xanes3D_analysis_option': 'Read Reg File',\n",
    "  'xanes3D_filepath_configured': True,\n",
    "  'xanes3D_raw_h5_path_set': False,\n",
    "  'xanes3D_recon_path_set': True,\n",
    "  'xanes3D_save_trial_set': False},\n",
    " 'indeices config': {'select_scan_id_start_text_min': 0,\n",
    "  'select_scan_id_start_text_val': 0,\n",
    "  'select_scan_id_start_text_max': 100,\n",
    "  'select_scan_id_end_text_min': 0,\n",
    "  'select_scan_id_end_text_val': 0,\n",
    "  'select_scan_id_end_text_max': 100,\n",
    "  'fixed_scan_id_slider_min': 0,\n",
    "  'fixed_scan_id_slider_val': 0,\n",
    "  'fixed_scan_id_slider_max': 100,\n",
    "  'fixed_sli_id_slider_min': 0,\n",
    "  'fixed_sli_id_slider_val': 0,\n",
    "  'fixed_sli_id_slider_max': 100,\n",
    "  'xanes3D_fixed_scan_id': 56605,\n",
    "  'xanes3D_scan_id_s': 56600,\n",
    "  'xanes3D_scan_id_e': 56609,\n",
    "  'xanes3D_fixed_sli_id': 551,\n",
    "  'xanes3D_scan_id_set': False,\n",
    "  'xanes3D_fixed_scan_id_set': False,\n",
    "  'xanes3D_fixed_sli_id_set': False,\n",
    "  'xanes3D_indices_configured': False},\n",
    " 'roi config': {'3D_roi_x_slider_min': 1,\n",
    "  '3D_roi_x_slider_val': (10, 40),\n",
    "  '3D_roi_x_slider_max': 50,\n",
    "  '3D_roi_y_slider_min': 1,\n",
    "  '3D_roi_y_slider_val': (10, 40),\n",
    "  '3D_roi_y_slider_max': 50,\n",
    "  '3D_roi_z_slider_min': 1,\n",
    "  '3D_roi_z_slider_val': (10, 40),\n",
    "  '3D_roi_z_slider_max': 50,\n",
    "  '3D_roi': [516, 982, 358, 787, 466, 699],\n",
    "  'xanes3D_roi_configured': False},\n",
    " 'registration config': {'xanes3D_reg_use_chunk': 'True',\n",
    "  'xanes3D_reg_use_mask': True,\n",
    "  'xanes3D_reg_mask_thres': 0,\n",
    "  'xanes3D_reg_mask_dilation_width': 0,\n",
    "  'xanes3D_reg_use_smooth_img': 'False',\n",
    "  'xanes3D_reg_smooth_sigma': 0,\n",
    "  'xanes3D_reg_sli_search_half_width': 10,\n",
    "  'xanes3D_reg_chunk_sz': 7,\n",
    "  'xanes3D_reg_method': 'MPC',\n",
    "  'xanes3D_reg_ref_mode': 'SINGLE',\n",
    "  'mask_thres_slider_min': -1.0,\n",
    "  'mask_thres_slider_val': 0.0,\n",
    "  'mask_thres_slider_max': 1.0,\n",
    "  'mask_dilation_slider_min': 0,\n",
    "  'mask_dilation_slider_val': 0,\n",
    "  'mask_dilation_slider_max': 30,\n",
    "  'sli_search_slider_min': 0,\n",
    "  'sli_search_slider_val': 10,\n",
    "  'sli_search_slider_max': 100,\n",
    "  'chunk_sz_slider_min': 0,\n",
    "  'chunk_sz_slider_val': 7,\n",
    "  'chunk_sz_slider_max': 100,\n",
    "  'xanes3D_reg_params_configured': False},\n",
    " 'run registration': {'xanes3D_reg_done': True},\n",
    " 'review registration': {'xanes3D_use_existing_reg_reviewed': True,\n",
    "  'xanes3D_reg_review_file': '/NSLS2/xf18id1/users/2020Q1/YUAN_YANG_Proposal_305811/3D_trial_reg_scan_id_56600-56609_2020-04-21-00-28-56_reg_best_match_2020-04-21-19-56-43.json',\n",
    "  'xanes3D_reg_review_done': True,\n",
    "  'read_alignment_checkbox': True,\n",
    "  'reg_pair_slider_min': 0,\n",
    "  'reg_pair_slider_val': 0,\n",
    "  'reg_pair_slider_max': 9,\n",
    "  'zshift_slider_min': 1,\n",
    "  'zshift_slider_val': 1,\n",
    "  'zshift_slider_max': 20,\n",
    "  'best_match_text': 1,\n",
    "  'alignment_best_match': {'1': [5, 17.0, 0.0],\n",
    "   '0': [13.0, -17.0, 1.0],\n",
    "   '2': [5, 10.0, 2.0],\n",
    "   '3': [6.0, 10.0, 1.0],\n",
    "   '4': [8.0, 7.0, 1.0],\n",
    "   '5': [9.0, 0.5, 1.0],\n",
    "   '6': [9, 12.0, -1.0],\n",
    "   '7': [8, 14.0, -1.0],\n",
    "   '8': [10.0, 7.0, 1.0],\n",
    "   '9': [10, 0.0, 0.0]}},\n",
    " 'align 3D recon': {'xanes3D_alignment_done': False}}, open(gui.xanes3D_save_trial_reg_config_filename, 'w'), cls=NumpyArrayEncoder)"
   ]
  },
  {
   "cell_type": "code",
   "execution_count": null,
   "metadata": {},
   "outputs": [],
   "source": [
    "import json\n",
    "gui.xanes3D_config\n",
    "#gui.xanes3D_config['xanes3D_reg_review_file'] = 0\n",
    "#json.dump({\"a\":None}, open(gui.xanes3D_save_trial_reg_config_filename, 'w'))"
   ]
  },
  {
   "cell_type": "code",
   "execution_count": null,
   "metadata": {},
   "outputs": [],
   "source": [
    "a = gui.xanes3D_config\n",
    "a['xanes3D_reg_review_file'] = 0\n",
    "print(a)"
   ]
  },
  {
   "cell_type": "code",
   "execution_count": null,
   "metadata": {},
   "outputs": [],
   "source": [
    "import json\n",
    "from json import JSONEncoder\n",
    "import numpy\n",
    "\n",
    "class NumpyArrayEncoder(JSONEncoder):\n",
    "    def default(self, obj):\n",
    "        if isinstance(obj, numpy.ndarray):\n",
    "            return obj.tolist()\n",
    "        return JSONEncoder.default(self, obj)\n",
    "json.dump(gui.xanes3D_review_shift_dict, open(gui.xanes3D_reg_best_match_filename, 'w'), cls=NumpyArrayEncoder)"
   ]
  },
  {
   "cell_type": "code",
   "execution_count": null,
   "metadata": {},
   "outputs": [],
   "source": [
    "import h5py\n",
    "print(gui.xanes3D_manual_xshift, gui.xanes3D_manual_yshift, gui.xanes3D_manual_zshift)\n",
    "print(gui.xanes3D_alignment_pair_id)\n",
    "f = h5py.File(gui.xanes3D_save_trial_reg_filename, 'r')\n",
    "shift = f['/trial_registration/trial_reg_results/{0}/shift{0}'.format(str(gui.xanes3D_alignment_pair_id).zfill(3))][:]\n",
    "f.close()\n",
    "init_z = gui.hs['L[0][2][2][1][3][1]_best_match_text'].value\n",
    "print([gui.xanes3D_manual_yshift+shift[init_z, 0],gui.xanes3D_manual_xshift+shift[init_z, 1]])\n",
    "print(init_z, [shift[init_z, 0],shift[init_z, 1]])"
   ]
  },
  {
   "cell_type": "code",
   "execution_count": null,
   "metadata": {},
   "outputs": [],
   "source": [
    "%matplotlib qt\n",
    "import matplotlib.pyplot as plt\n",
    "plt.ion()\n",
    "plt.figure(1)\n",
    "plt.imshow(gui.xanes3D_review_aligned_img)\n",
    "plt.figure(2)\n",
    "plt.imshow(gui.trial_reg_fixed)\n",
    "plt.figure(3)\n",
    "plt.imshow(gui.xanes3D_review_aligned_img - gui.trial_reg_fixed)"
   ]
  },
  {
   "cell_type": "code",
   "execution_count": null,
   "metadata": {},
   "outputs": [],
   "source": [
    "#print(gui.xanes3D_fiji_windows['xanes3D_review_viewer'])\n",
    "#data_state, viewer_state = gui.fiji_viewer_state(viewer_name='xanes3D_review_manual_viewer')\n",
    "#print(data_state, viewer_state)\n",
    "gui.fiji_viewer_on(viewer_name='xanes3D_review_viewer')\n",
    "#print(data_state, viewer_state)\n",
    "print(gui.trial_reg.shape)"
   ]
  },
  {
   "cell_type": "code",
   "execution_count": null,
   "metadata": {},
   "outputs": [],
   "source": [
    "print(gui.xanes3D_filepath_configured)\n",
    "print(gui.xanes3D_indices_configured)\n",
    "print(gui.xanes3D_roi_configured)\n",
    "print(gui.xanes3D_reg_params_configured)\n",
    "print(gui.xanes3D_reg_done)\n",
    "print(gui.xanes3D_reg_review_done)\n",
    "print(gui.xanes3D_alignment_done)\n",
    "print(gui.xanes3D_analysis_eng_configured)\n",
    "print(gui.hs['L[0][2][2][1][3][0]_zshift_slider'].max)\n",
    "print(gui.xanes3D_fiji_windows['xanes3D_review_manual_viewer'])"
   ]
  },
  {
   "cell_type": "code",
   "execution_count": null,
   "metadata": {},
   "outputs": [],
   "source": [
    "boxes = ['L[0][2][0][1]_config_data_box',\n",
    "                             'L[0][2][1][0]_3D_roi_box',\n",
    "                             'L[0][2][1][1]_config_reg_params_box',\n",
    "                             'L[0][2][2][0]_run_reg_box',\n",
    "                             'L[0][2][2][1]_review_reg_results_box',\n",
    "                             'L[0][2][2][2]_align_recon_box']\n",
    "gui.enable_disable_boxes(boxes, disabled=True, level=-1)\n",
    "gui.lock_message_text_boxes()\n",
    "\n",
    "if gui.xanes3D_review_bad_shift:\n",
    "    boxes = ['L[0][2][2][1][5]_review_manual_shift_box']\n",
    "    gui.enable_disable_boxes(boxes, disabled=False, level=-1)\n",
    "else:\n",
    "    boxes = ['L[0][2][2][1][5]_review_manual_shift_box']\n",
    "    gui.enable_disable_boxes(boxes, disabled=True, level=-1)\n",
    "    \n",
    "if gui.hs['L[0][2][2][1][1][1]_read_alignment_checkbox'].value:\n",
    "    boxes = ['L[0][2][2][1][2]_reg_pair_box',\n",
    "             'L[0][2][2][1][3]_zshift_box',\n",
    "             'L[0][2][2][1][5]_review_manual_shift_box']\n",
    "    gui.enable_disable_boxes(boxes, disabled=True, level=-1)\n",
    "else:\n",
    "    boxes = ['L[0][2][2][1][2]_reg_pair_box',\n",
    "             'L[0][2][2][1][3]_zshift_box',\n",
    "             'L[0][2][2][1][5]_review_manual_shift_box']\n",
    "    gui.enable_disable_boxes(boxes, disabled=False, level=-1)"
   ]
  },
  {
   "cell_type": "code",
   "execution_count": null,
   "metadata": {},
   "outputs": [],
   "source": [
    "import os\n",
    "a = os.path.join(os.path.dirname(os.path.abspath(gui.xanes2D_file_save_trial_reg_filename_template)),\n",
    "                 os.path.basename(os.path.abspath(gui.xanes2D_file_save_trial_reg_filename_template)).split('.')[0]+'_'+os.path.basename(gui.xanes2D_file_raw_h5_filename).split('.')[0]+'_'+'.h5')\n",
    "print(gui.xanes2D_file_raw_h5_filename)\n",
    "print(a)"
   ]
  },
  {
   "cell_type": "code",
   "execution_count": null,
   "metadata": {},
   "outputs": [],
   "source": [
    "from importlib import reload\n",
    "import xanes_regtools_develop as xr\n",
    "xr = reload(xr)\n",
    "reg = xr.regtools(dtype='2D_XANES', method=gui.xanes2D_reg_method, mode='TRANSLATION')\n",
    "reg.set_xanes2D_raw_filename(gui.xanes2D_file_raw_h5_filename)\n",
    "reg.set_raw_data_info(**{'raw_h5_filename':gui.xanes2D_file_raw_h5_filename,\n",
    "                                 'config_filename':gui.xanes2D_file_save_trial_reg_config_filename})\n",
    "reg.set_method(gui.xanes2D_reg_method)\n",
    "reg.set_ref_mode(gui.xanes2D_reg_ref_mode)\n",
    "reg.set_indices(gui.xanes2D_eng_id_s, gui.xanes2D_eng_id_e, gui.xanes2D_reg_anchor_idx)\n",
    "reg.set_reg_options(use_mask=gui.xanes2D_reg_use_mask, mask_thres=gui.xanes2D_reg_mask_thres,\n",
    "                use_chunk=gui.xanes2D_reg_use_chunk, chunk_sz=gui.xanes2D_reg_chunk_sz,\n",
    "                use_smooth_img=gui.xanes2D_reg_use_smooth_img, smooth_sigma=gui.xanes2D_reg_smooth_img_sigma)\n",
    "reg.set_roi(gui.xanes2D_reg_roi)\n",
    "reg.set_img_data(gui.xanes2D_img_roi)\n",
    "reg.set_mask(gui.xanes2D_reg_mask)\n",
    "reg.compose_dicts()\n",
    "\n",
    "reg.reg_xanes2D_chunk()\n",
    "print(reg.alignment_pair_list)"
   ]
  },
  {
   "cell_type": "code",
   "execution_count": null,
   "metadata": {},
   "outputs": [],
   "source": [
    "reg._alignment_scheduler()\n",
    "print(reg.alignment_pair_list)\n",
    "print(len(reg.alignment_pair_list))\n",
    "print(reg.anchor_chunk)\n",
    "for ii in reg.alignment_pair_list:\n",
    "    print(ii)\n",
    "    if ii[0] == ii[1]:\n",
    "        print('remove',ii)\n",
    "        reg.alignment_pair_list.remove(ii)\n",
    "print(reg.alignment_pair_list)"
   ]
  },
  {
   "cell_type": "code",
   "execution_count": null,
   "metadata": {},
   "outputs": [],
   "source": [
    "import os\n",
    "print(os.path.abspath(os.path.dirname(gui.xanes2D_file_save_trial_reg_filename_template)))\n",
    "print(gui.xanes2D_file_save_trial_reg_filename_template)"
   ]
  },
  {
   "cell_type": "code",
   "execution_count": null,
   "metadata": {},
   "outputs": [],
   "source": [
    "import numpy as np\n",
    "import xanes_analysis as xa\n",
    "xana = xa.xanes_analysis(gui.xanes2D_img_roi,\n",
    "                                      gui.xanes2D_analysis_eng_list,\n",
    "                                      gui.xanes2D_analysis_edge_eng,\n",
    "                                      pre_ee=gui.xanes2D_analysis_pre_edge_e,\n",
    "                                      post_es=gui.xanes2D_analysis_post_edge_s,\n",
    "                                      edge_jump_threshold=gui.xanes2D_analysis_edge_jump_thres,\n",
    "                                      pre_edge_threshold=gui.xanes2D_analysis_edge_offset_thres)\n",
    "x = xana.eng[xana.pre_es_idx:xana.pre_ee_idx]\n",
    "y = xana.spectrum[xana.pre_es_idx:xana.pre_ee_idx].reshape((xana.pre_ee_idx-xana.pre_es_idx, -1))\n",
    "s = list(y.shape)\n",
    "s[0] = 2\n",
    "print(x.shape)\n",
    "print(y.reshape([y.shape[0], -1]).shape)\n",
    "a = (np.polynomial.polynomial.polyfit(x, y.reshape([y.shape[0], -1]), 1)).reshape(s)"
   ]
  },
  {
   "cell_type": "code",
   "execution_count": null,
   "metadata": {},
   "outputs": [],
   "source": [
    "import h5py\n",
    "f = h5py.File(gui.xanes2D_file_save_trial_reg_filename, 'r')\n",
    "a = f['/trial_registration/trial_reg_results/{0}/trial_reg_img{0}'.format(str(gui.xanes2D_review_alignment_pair_id).zfill(3))][:]\n",
    "b = f['/trial_registration/trial_reg_results/{0}/trial_reg_fixed{0}'.format(str(gui.xanes2D_review_alignment_pair_id).zfill(3))][:]\n",
    "f.close()\n",
    "print(gui.xanes2D_review_alignment_pair_id)\n",
    "%matplotlib qt\n",
    "import matplotlib.pyplot as plt\n",
    "#plt.imshow(gui.xanes2D_review_aligned_img_original-gui.xanes2D_review_fixed_img, vmin=0, vmax=1e-6)\n",
    "plt.figure(1)\n",
    "plt.imshow(a)\n",
    "plt.figure(2)\n",
    "plt.imshow(b)\n",
    "plt.figure(3)\n",
    "plt.imshow(a-b)\n",
    "print(gui.xanes2D_review_aligned_img_original-gui.xanes2D_review_fixed_img)"
   ]
  },
  {
   "cell_type": "code",
   "execution_count": null,
   "metadata": {},
   "outputs": [],
   "source": [
    "gui.xanes2D_roi_configured\n",
    "gui.xanes3D_analysis_option"
   ]
  },
  {
   "cell_type": "code",
   "execution_count": null,
   "metadata": {},
   "outputs": [],
   "source": [
    "#gui.boxes_logic(tab='2D_XANES')\n",
    "#gui.hs['L[0][1][1][1]_config_reg_params_box'].children\n",
    "#gui.hs['L[0][1][0]_config_input_form'].children\n",
    "\n",
    "boxes=['L[0][1][0][1]_config_data_box',\n",
    "                             'L[0][1][1][0]_2D_roi_box',\n",
    "                             'L[0][1][1][1]_config_reg_params_box',\n",
    "                             'L[0][1][1][2]_run_reg_box',\n",
    "                             'L[0][1][2][0]_review_reg_results_box']\n",
    "gui.enable_disable_boxes(boxes, disabled=False, level=-1)\n",
    "gui.lock_message_text_boxes()\n",
    "#child_handles, level = gui.get_decendant('L[0][1][1][1]_config_reg_params_box', level=-1)\n",
    "#print(child_handles)"
   ]
  },
  {
   "cell_type": "code",
   "execution_count": null,
   "metadata": {},
   "outputs": [],
   "source": [
    "import skimage.morphology as skm\n",
    "import numpy as np\n",
    "from scipy.ndimage import gaussian_filter\n",
    "\n",
    "type(gui.xanes2D_reg_mask)\n",
    "\n",
    "gui.xanes2D_reg_mask[:] = skm.binary_dilation(((gui.xanes2D_img[gui.xanes2D_reg_anchor_idx,\n",
    "                                                                                      gui.xanes2D_reg_roi[0]:gui.xanes2D_reg_roi[1],\n",
    "                                                                                      gui.xanes2D_reg_roi[2]:gui.xanes2D_reg_roi[3]] >\n",
    "                                                                     gui.xanes2D_reg_mask_thres).astype(np.int8)),\n",
    "                                                                   np.ones([gui.xanes3D_reg_mask_dilation_width,\n",
    "                                                                            gui.xanes3D_reg_mask_dilation_width]))[:]\n",
    "\n",
    "#gui.xanes2D_reg_mask[:] = ((gui.xanes2D_img[gui.xanes2D_reg_anchor_idx,\n",
    "#                                                              gui.xanes2D_reg_roi[0]:gui.xanes2D_reg_roi[1],\n",
    "#                                                              gui.xanes2D_reg_roi[2]:gui.xanes2D_reg_roi[3]] >\n",
    "#                                             gui.xanes2D_reg_mask_thres).astype(np.int8))[:]\n",
    "\n",
    "#gui.xanes2D_reg_mask[:] = skm.binary_dilation(((gui.xanes2D_img[gui.xanes2D_reg_anchor_idx,\n",
    "#                                                                gui.xanes2D_reg_roi[0]:gui.xanes2D_reg_roi[1],\n",
    "#                                                                gui.xanes2D_reg_roi[2]:gui.xanes2D_reg_roi[3]] >\n",
    "#                                                gui.xanes2D_reg_mask_thres).astype(np.int8)),\n",
    "#                                              np.ones([gui.xanes3D_reg_mask_dilation_width,\n",
    "#                                                       gui.xanes3D_reg_mask_dilation_width]))[:]"
   ]
  },
  {
   "cell_type": "code",
   "execution_count": null,
   "metadata": {},
   "outputs": [],
   "source": [
    "np.ones([gui.xanes3D_reg_mask_dilation_width,\n",
    "                                                       gui.xanes3D_reg_mask_dilation_width]).shape\n",
    "print(gui.xanes3D_reg_mask_dilation_width)"
   ]
  },
  {
   "cell_type": "code",
   "execution_count": null,
   "metadata": {},
   "outputs": [],
   "source": [
    "import h5py, os\n",
    "import xanes_regtools_develop as xr\n",
    "if gui.hs['L[0][2][2][2][1][0]_align_recon_optional_slice_checkbox'].value:\n",
    "            print(-2)\n",
    "            gui.xanes3D_roi[4] = self.hs['L[0][2][2][2][1][2]_align_recon_optional_slice_range_slider'].lower\n",
    "            gui.xanes3D_roi[5] = self.hs['L[0][2][2][2][1][2]_align_recon_optional_slice_range_slider'].upper\n",
    "f = h5py.File(gui.xanes3D_save_trial_reg_filename, 'r')\n",
    "print(-1)\n",
    "recon_top_dir = f['/trial_registration/data_directory_info/recon_top_dir'][()]\n",
    "recon_path_template = f['/trial_registration/data_directory_info/recon_path_template'][()]\n",
    "# roi = f['/trial_registration/trial_reg_parameters/slice_roi'][:]\n",
    "reg_method = f['/trial_registration/trial_reg_parameters/reg_method'][()].lower()\n",
    "ref_mode = f['/trial_registration/trial_reg_parameters/reg_ref_mode'][()].lower()\n",
    "scan_id_s = f['/trial_registration/trial_reg_parameters/scan_ids'][0]\n",
    "scan_id_e = f['/trial_registration/trial_reg_parameters/scan_ids'][-1]\n",
    "fixed_scan_id = f['/trial_registration/trial_reg_parameters/fixed_scan_id'][()]\n",
    "chunk_sz = f['/trial_registration/trial_reg_parameters/chunk_sz'][()]\n",
    "eng_list = f['/trial_registration/trial_reg_parameters/eng_list'][:]\n",
    "f.close()\n",
    "roi = gui.xanes3D_roi\n",
    "\n",
    "reg = xr.regtools(dtype='3D_XANES', method=reg_method, mode='TRANSLATION')\n",
    "print(1)\n",
    "reg.set_method(reg_method)\n",
    "print(2)\n",
    "reg.set_ref_mode(ref_mode)\n",
    "print(3)\n",
    "reg.set_cal_anchor(scan_id_s, scan_id_e, fixed_scan_id)\n",
    "print(4)\n",
    "reg.eng_list = eng_list\n",
    "print(5)\n",
    "\n",
    "reg.set_chunk_sz(chunk_sz)\n",
    "print(6)\n",
    "reg.set_roi(roi)\n",
    "print(7)\n",
    "reg.set_xanes3D_recon_path_template(recon_path_template)\n",
    "reg.set_xanes3D_raw_h5_top_dir(gui.xanes3D_raw_3D_h5_top_dir)\n",
    "print(8)\n",
    "reg.set_saving(save_path=os.path.dirname(gui.xanes3D_save_trial_reg_filename),\n",
    "               fn=os.path.basename(gui.xanes3D_save_trial_reg_filename))\n",
    "print(9)\n",
    "reg.compose_dicts()\n",
    "print(10)\n",
    "reg.apply_xanes3D_chunk_shift(gui.xanes3D_alignment_best_match,\n",
    "                                      roi[4],\n",
    "                                      roi[5],\n",
    "                                      trialfn=gui.xanes3D_save_trial_reg_filename,\n",
    "                                      savefn=gui.xanes3D_save_trial_reg_filename)"
   ]
  },
  {
   "cell_type": "code",
   "execution_count": null,
   "metadata": {},
   "outputs": [],
   "source": [
    "print(reg.abs_shift_dict)\n",
    "print('\\n')\n",
    "print(reg.img_ids_dict)\n",
    "print('\\n')\n",
    "print(reg.eng_dict)\n",
    "print('\\n')\n",
    "print(type(int(reg.img_ids_dict['000'])))"
   ]
  },
  {
   "cell_type": "code",
   "execution_count": null,
   "metadata": {},
   "outputs": [],
   "source": [
    "for key, item in gui.xanes3D_config.items():\n",
    "    for key, jj in item.items():\n",
    "        print(key, '\\t', type(jj))\n",
    "#gui.xanes3D_save_trial_reg_config_filename"
   ]
  },
  {
   "cell_type": "code",
   "execution_count": null,
   "metadata": {},
   "outputs": [],
   "source": [
    "print(gui.xanes3D_fiji_windows['analysis_viewer_z_plot_viewer']['ip'].getPlot())"
   ]
  },
  {
   "cell_type": "code",
   "execution_count": null,
   "metadata": {},
   "outputs": [],
   "source": [
    "import h5py\n",
    "#data_state, viewer_state = gui.fiji_viewer_state(viewer_name='analysis_viewer')\n",
    "f = h5py.File(gui.xanes3D_save_trial_reg_filename, 'r')\n",
    "data_shape = f['/registration_results/reg_results/registered_xanes3D'].shape\n",
    "f.close()\n",
    "(data_shape[0], data_shape[2], data_shape[3]) != gui.xanes3D_aligned_data.shape"
   ]
  },
  {
   "cell_type": "code",
   "execution_count": null,
   "metadata": {},
   "outputs": [],
   "source": [
    "from jnius import autoclass\n",
    "from ipywidgets import widgets\n",
    "import os, json, time\n",
    "WindowManager = autoclass('ij.WindowManager')"
   ]
  },
  {
   "cell_type": "code",
   "execution_count": null,
   "metadata": {},
   "outputs": [],
   "source": [
    "#gui.xanes3D_fiji_windows['virtural_stack_preview_viewer']['ip'].setRoi(0, 0, 100, 100)\n",
    "#print(gui.slice_roi[2], gui.slice_roi[0], gui.slice_roi[3]-gui.slice_roi[2], gui.slice_roi[1]-gui.slice_roi[0])\n",
    "#gui.xanes3D_fiji_windows['virtural_stack_preview_viewer']['ip'].setRoi(393, 509, 358, 430)\n",
    "#gui.xanes3D_fiji_windows['virtural_stack_preview_viewer']['ip'].setRoi(int(gui.slice_roi[2]), int(gui.slice_roi[0]), int(gui.slice_roi[3]-gui.slice_roi[2]), int(gui.slice_roi[1]-gui.slice_roi[0]))\n",
    "#type(gui.slice_roi[2])\n",
    "#(gui.xanes3D_available_recon_ids)\n",
    "#os.path.exists(gui.xanes3D_recon_3D_dir_temp.format(56600))\n",
    "#data_state, viewer_state = gui.fiji_viewer_state(viewer_name='mask_viewer')\n",
    "#print(data_state, viewer_state)\n",
    "#print(gui.hs['L[0][2][0][1][1][1]_select_scan_id_end_text'].max)\n",
    "#print(gui.xanes3D_save_trial_reg_filename)\n",
    "#gui.xanes3D_save_trial_reg_config_filename = os.path.abspath(gui.xanes3D_save_trial_reg_filename).split('.')[0]+'_config.json'\n",
    "dir(gui.hs['L[0][2][0][0][1][0]_select_raw_h5_path_button'].style)"
   ]
  },
  {
   "cell_type": "code",
   "execution_count": null,
   "metadata": {},
   "outputs": [],
   "source": [
    "gui.xanes3D_align_sli_end"
   ]
  },
  {
   "cell_type": "code",
   "execution_count": null,
   "metadata": {},
   "outputs": [],
   "source": [
    "type(gui.trial_reg)\n",
    "#gui.xanes3D_alignment_pair_id"
   ]
  },
  {
   "cell_type": "code",
   "execution_count": null,
   "metadata": {},
   "outputs": [],
   "source": [
    "from traitlets import traitlets\n",
    "#gui.hs['L[0][2][2][2][1][1]_align_recon_optional_slice_range'].lower\n",
    "#gui.hs['L[0][2][2][2][1][1]_align_recon_optional_slice_range'].add_traits(lower=traitlets.Any(gui.hs['L[0][2][2][2][1][1]_align_recon_optional_slice_range'].lower))\n",
    "#gui.hs['L[0][2][2][2][1][1]_align_recon_optional_slice_range'].traits()\n",
    "help(traitlets.Any)"
   ]
  },
  {
   "cell_type": "code",
   "execution_count": null,
   "metadata": {},
   "outputs": [],
   "source": [
    "#dir(WindowManager)\n",
    "#(WindowManager.getIDList())\n",
    "#WindowManager.notify\n",
    "#dir(gui.xanes3D_fiji_windows['virtural_stack_preview_viewer']['ip'])\n",
    "print(gui.xanes3D_filepath_configured, gui.xanes3D_use_existing_reg_file, gui.xanes3D_reg_review_done)\n",
    "\n",
    "#print(WindowManager.getIDList())\n",
    "\n",
    "boxes = ['zshift_box']\n",
    "#print(gui.get_decendant(boxes[0], level=-1))\n",
    "child_handles, level = gui.get_decendant(boxes[0], level=-1)\n",
    "for ii in child_handles:\n",
    "    for child in ii:\n",
    "        try:\n",
    "            child.disabled = True\n",
    "            #print(child, '\\n')\n",
    "            print(child.get_state(), '\\n')\n",
    "        except Exception as e:\n",
    "            print(str(e))\n",
    "#gui.enable_disable_boxes(boxes, disabled=True, level=-1)"
   ]
  },
  {
   "cell_type": "code",
   "execution_count": null,
   "metadata": {},
   "outputs": [],
   "source": [
    "print((gui.xanes3D_roi))\n",
    "print((gui.xanes3D_filepath_configured & (not gui.xanes3D_use_existing_reg_file)\n",
    "               & gui.xanes3D_indices_configured & gui.xanes3D_roi_configured) & \n",
    "              (not gui.xanes3D_reg_params_configured))\n",
    "print(not gui.xanes3D_reg_use_mask)\n",
    "boxes = ['mask_dilation_slider',\n",
    "                         'mask_thres_slider']\n",
    "gui.enable_disable_boxes(boxes, disabled=True, level=-1)"
   ]
  },
  {
   "cell_type": "code",
   "execution_count": null,
   "metadata": {},
   "outputs": [],
   "source": [
    "import xanes_regtools_gui_Feb28_2020_backup as xrg0\n",
    "from importlib import reload\n",
    "xrg0 = reload(xrg0)\n",
    "reg_params = {}\n",
    "#gui = xrg.xanes_regtools_gui(reg_params)\n",
    "#gui.gui_layout(reg_params)\n",
    "gui0 = xrg0.xanes_regtools_gui(reg_params)\n",
    "gui0.gui_layout(reg_params)"
   ]
  },
  {
   "cell_type": "code",
   "execution_count": null,
   "metadata": {},
   "outputs": [],
   "source": [
    "#dir(gui.hs['[0][2][0][0][0][0]_select_file&path_title_box'].layout.justify_content)\n",
    "print((gui.hs['[0][2]_3D_xanes_tabs'].children[3]))"
   ]
  },
  {
   "cell_type": "code",
   "execution_count": null,
   "metadata": {
    "jupyter": {
     "source_hidden": true
    }
   },
   "outputs": [],
   "source": [
    "import traitlets, functools\n",
    "from ipywidgets import widgets\n",
    "from IPython.display import display\n",
    "from tkinter import filedialog\n",
    "\n",
    "class SelectFilesButton(widgets.Button):\n",
    "    \"\"\"A file widget that leverages tkinter.filedialog.\"\"\"\n",
    "\n",
    "    def __init__(self, option='askopenfilename'):\n",
    "        \"\"\"\n",
    "        \n",
    "\n",
    "        Parameters\n",
    "        ----------\n",
    "        option : TYPE, optional\n",
    "            Type of browser in ['askopenfilename', 'askdirectory', 'asksaveasfilename'] \n",
    "            The default is 'askopenfilename'.\n",
    "\n",
    "        Returns\n",
    "        -------\n",
    "        None.\n",
    "\n",
    "        \"\"\"\n",
    "        super(SelectFilesButton, self).__init__()\n",
    "        # Add the selected_files trait\n",
    "        self.add_traits(files=traitlets.traitlets.List())\n",
    "        # Create the button.\n",
    "        self.description = \"Select Files\"\n",
    "        self.icon = \"square-o\"\n",
    "        self.style.button_color = \"orange\"\n",
    "        # Set on click behavior.\n",
    "        self.option = option\n",
    "        #self.on_click(self.select_files)\n",
    "        #self.on_click(functools.partial(self.select_files, option))\n",
    "        self.on_click(self.select_files)\n",
    "\n",
    "    @staticmethod\n",
    "    def select_files(b):\n",
    "        \"\"\"Generate instance of tkinter.filedialog.\n",
    "\n",
    "        Parameters\n",
    "        ----------\n",
    "        b : obj:\n",
    "            An instance of ipywidgets.widgets.Button \n",
    "        \"\"\"\n",
    "        if b.option == 'askopenfilename':\n",
    "            files = filedialog.askopenfilename()\n",
    "            print(1)\n",
    "        elif b.option == 'askdirectory':\n",
    "            files = filedialog.askdirectory()\n",
    "            print(2)\n",
    "        elif b.option == 'asksaveasfilename':\n",
    "            files = filedialog.asksaveasfilename()\n",
    "            print(3)\n",
    "        else:\n",
    "            print(option)\n",
    "        \n",
    "        if len(files) == 0:\n",
    "            b.files = ['']\n",
    "            b.description = \"Selected Files\"\n",
    "            b.icon = \"square-o\"\n",
    "            b.style.button_color = \"orange\"\n",
    "        else:\n",
    "            b.files = [files]\n",
    "            b.description = \"Files Selected\"\n",
    "            b.icon = \"check-square-o\"\n",
    "            b.style.button_color = \"lightgreen\"\n",
    "        \n",
    "my_button = SelectFilesButton(option='askdirectory')\n",
    "my_button"
   ]
  },
  {
   "cell_type": "code",
   "execution_count": null,
   "metadata": {},
   "outputs": [],
   "source": [
    "import numpy as np\n",
    "a = np.linspace(1,9,9)\n",
    "b = a.reshape([3,3])\n",
    "c = b <5\n",
    "b[c]"
   ]
  },
  {
   "cell_type": "code",
   "execution_count": null,
   "metadata": {},
   "outputs": [],
   "source": [
    "dir(filedialog)"
   ]
  },
  {
   "cell_type": "code",
   "execution_count": null,
   "metadata": {},
   "outputs": [],
   "source": [
    "#dir(gui.hs[\"3D_tab0_fc_raw_dir\"])\n",
    "#gui.hs[\"3D_tab0_fc_raw_dir\"].selected\n",
    "\n",
    "import numpy as np\n",
    "align_dict = {}\n",
    "for ii in gui.user_specfied_shift:\n",
    "    align_dict[str(ii[0])] = np.int(ii[1])\n",
    "\n",
    "print(align_dict)\n",
    "import json, os\n",
    "json.dump(align_dict, open(os.path.join(gui.trial_reg_3D_save_path, 'zshift_list.json'), 'w'))"
   ]
  },
  {
   "cell_type": "code",
   "execution_count": null,
   "metadata": {},
   "outputs": [],
   "source": [
    "#print(gui.trial_reg_3D_save_path)\n",
    "a = json.load(open(os.path.join(gui.trial_reg_3D_save_path, 'zshift_list.json'), 'r'))\n",
    "print(a['3']*2)"
   ]
  },
  {
   "cell_type": "code",
   "execution_count": null,
   "metadata": {},
   "outputs": [],
   "source": [
    "ijui.show(ij.py.to_java(gui.img[0]))\n",
    "ip = WindowManager.getCurrentImage()\n",
    "for ii in range(gui.img.shape[0]):\n",
    "    imp = ij.py.to_java(gui.img[ii])\n",
    "    imp = ij.dataset().create(imp)\n",
    "    imp = ij.convert().convert(imp, ImagePlus)\n",
    "    ip.setImage(imp)\n",
    "    ij.py.run_macro(\"\"\"run(\"Enhance Contrast\", \"saturated=0.35\")\"\"\")\n",
    "#ip.displayRangeMin(-0.0009)\n",
    "#ip.displayRangeMax(0.0027)\n",
    "#ip.draw()\n",
    "#imp = ij.py.to_java(gui.img[1])\n",
    "#imp = ij.dataset().create(imp)\n",
    "#help(ip.setImage)"
   ]
  },
  {
   "cell_type": "code",
   "execution_count": null,
   "metadata": {},
   "outputs": [],
   "source": [
    "ijui.show(ij.py.to_java(gui.img))\n",
    "ip = WindowManager.getCurrentImage()\n",
    "\n",
    "imp = ij.py.to_java(gui.img)\n",
    "imp = ij.dataset().create(imp)\n",
    "imp = ij.convert().convert(imp, ImagePlus)\n",
    "ip.setImage(imp)\n",
    "ij.py.run_macro(\"\"\"run(\"Enhance Contrast\", \"saturated=0.35\")\"\"\")"
   ]
  },
  {
   "cell_type": "code",
   "execution_count": null,
   "metadata": {},
   "outputs": [],
   "source": [
    "dir(ip)"
   ]
  },
  {
   "cell_type": "code",
   "execution_count": null,
   "metadata": {},
   "outputs": [],
   "source": [
    "gui.img.shape\n",
    "imp = ij.py.to_java(gui.img)\n",
    "imp = ij.dataset().create(imp)\n",
    "imp = ij.convert().convert(imp, ImagePlus)\n",
    "#imp = ij.convert().convert(imp, ImageStack)\n",
    "#gui.mask_viewer_ip.getTitle()\n",
    "print(imp)\n",
    "print(gui.mask_viewer_ip)\n",
    "print(ij.convert().convert.__doc__)\n",
    "#gui.mask_viewer_ip.setStack(gui.mask_viewer_ip.getTitle(), imp)\n",
    "\n",
    "#gui.mask_viewer_ip.imgaeStack=gui.img\n",
    "#gui.mask_viewer_ip.resetStack()\n",
    "#gui.mask_viewer_ip.setStack(gui.mask_viewer_ip.getTitle(),ij.py.to_java(gui.img*gui.mask))\n",
    "\n"
   ]
  },
  {
   "cell_type": "code",
   "execution_count": null,
   "metadata": {},
   "outputs": [],
   "source": [
    "%matplotlib qt\n",
    "import matplotlib.pyplot as plt\n",
    "plt.figure(0)\n",
    "plt.imshow(gui.mask)\n",
    "plt.figure(1)\n",
    "plt.imshow(gui.img[0])"
   ]
  },
  {
   "cell_type": "code",
   "execution_count": null,
   "metadata": {},
   "outputs": [],
   "source": [
    "#gui.hs['img_crop_button'].layout = {'left':'240px', 'top':'20px'}\n",
    "#help(gui.hs['img_crop_button'].layout)\n",
    "#gui.hs['3D_mask_thres'].disabled=False\n",
    "#help(gui.hs['3D_mask_thres'].readout_format)\n",
    "#gui.hs['3D_mask_thres'].readout_format = '.3f'\n",
    "#dir(gui.hs[\"3D_tab0_fc_raw_dir\"])\n",
    "#(gui.viewer_ip.roi.bounds)\n",
    "\n",
    "dir(gui.viewer_ip)\n",
    "#gui.viewer_ip.setRoi(100,300,200,400)\n",
    "#gui.viewer_ip.getRoi()[0]\n",
    "#dir(ij.py)\n",
    "#ij.py.run_plugin(\"getBoundingRect\", args)"
   ]
  },
  {
   "cell_type": "code",
   "execution_count": null,
   "metadata": {},
   "outputs": [],
   "source": [
    "import glob\n",
    "file_list = glob.glob(os.path.join(gui.recon_top_dir.format(29671), '*.tiff'))\n",
    "print(len(file_list))\n",
    "print(int(sorted(file_list)[0].split('.')[0].split('_')[-1]))\n",
    "gui.hs[\"fc_raw_dir\"].title='open raw'"
   ]
  },
  {
   "cell_type": "code",
   "execution_count": null,
   "metadata": {},
   "outputs": [],
   "source": [
    "for key, item in reg_params.items():\n",
    "    print(key, ':', item)\n",
    "dir(gui.hs[\"fc_raw_dir\"])\n",
    "#print(gui.hs[\"fc_raw_dir\"].selected_path)"
   ]
  },
  {
   "cell_type": "code",
   "execution_count": null,
   "metadata": {},
   "outputs": [],
   "source": [
    "import os\n",
    "#print(os.path.abspath(gui.hs[\"fc_raw_dir\"].selected))\n",
    "print(os.path.abspath(reg_params[\"raw_h5_top_dir\"]))"
   ]
  },
  {
   "cell_type": "code",
   "execution_count": null,
   "metadata": {},
   "outputs": [],
   "source": [
    "help(gui.hs[\"tab0_files_scan_id_s\"].observe)"
   ]
  },
  {
   "cell_type": "code",
   "execution_count": null,
   "metadata": {},
   "outputs": [],
   "source": []
  }
 ],
 "metadata": {
  "kernelspec": {
   "display_name": "Python 3",
   "language": "python",
   "name": "python3"
  },
  "language_info": {
   "codemirror_mode": {
    "name": "ipython",
    "version": 3
   },
   "file_extension": ".py",
   "mimetype": "text/x-python",
   "name": "python",
   "nbconvert_exporter": "python",
   "pygments_lexer": "ipython3",
   "version": "3.6.7"
  }
 },
 "nbformat": 4,
 "nbformat_minor": 4
}
